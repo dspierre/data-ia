{
 "cells": [
  {
   "cell_type": "markdown",
   "metadata": {},
   "source": [
    "# Rappels d'algèbre linéaire - 4/4"
   ]
  },
  {
   "cell_type": "markdown",
   "metadata": {},
   "source": [
    "L'objectif de ce TP est de découvrir ou revoir les bases de l'algèbre linéaire utiles pour la compréhension des modèles de machine learning.\n",
    "\n",
    "Ce Tp est consacré au calcul matriciel. L'objectif est de définir ce qu'est une matrice, les opérations matricielles, les différents types de matrices ainsi que la factorisation matricielle.\n"
   ]
  },
  {
   "cell_type": "markdown",
   "metadata": {},
   "source": [
    "Afin de comprendre de façon intuitive ces notions, nous vous proposons de regarder la série de vidéos de 3Blue1Brown conscrée à l'algèbre linéaire et disponible ici : https://www.youtube.com/playlist?list=PLZHQObOWTQDPD3MizzM2xVFitgF8hE_ab\n",
    "\n",
    "Nous vous proposons également de regarder la série de vidéos de Khan Academy francophone sur l'algèbre linéaire : \n",
    "https://fr.khanacademy.org/math/linear-algebra"
   ]
  },
  {
   "cell_type": "markdown",
   "metadata": {},
   "source": [
    "## 1. Veille théorique"
   ]
  },
  {
   "cell_type": "markdown",
   "metadata": {},
   "source": [
    "**1. Rappel : quelles sont les opérations matricielles usuelles?**"
   ]
  },
  {
   "cell_type": "markdown",
   "metadata": {},
   "source": [
    "**2. Définir mathématiquement la Transposée d'une matrice.**"
   ]
  },
  {
   "cell_type": "markdown",
   "metadata": {},
   "source": [
    "**3. Définir mathématiquement l'Inverse d'une matrice.**"
   ]
  },
  {
   "cell_type": "markdown",
   "metadata": {},
   "source": [
    "**4. Définir mathématiquement la Trace d'une matrice.**"
   ]
  },
  {
   "cell_type": "markdown",
   "metadata": {},
   "source": [
    "**5. Définir mathématiquement une Matrice symétrique.**"
   ]
  },
  {
   "cell_type": "markdown",
   "metadata": {},
   "source": [
    "**6. Définir mathématiquement une Matrice semi positive.**"
   ]
  },
  {
   "cell_type": "markdown",
   "metadata": {},
   "source": [
    "**7. Définir mathématiquement le Déterminant d'une matrice.**"
   ]
  },
  {
   "cell_type": "markdown",
   "metadata": {},
   "source": [
    "## 2. Codage en Python"
   ]
  },
  {
   "cell_type": "markdown",
   "metadata": {},
   "source": [
    "**1. Faire la somme des matrices $$A = \\begin{bmatrix} 1 & 2 & 3 \\\\ 4 & 5 & 6 \\end{bmatrix}$$ et $$B = \\begin{bmatrix} 4 & 5 & 6 \\\\ 1 & 2 & 3 \\end{bmatrix}$$**"
   ]
  },
  {
   "cell_type": "markdown",
   "metadata": {},
   "source": [
    "**2. Affichez les dimensions de `A` et `B`.**"
   ]
  },
  {
   "cell_type": "markdown",
   "metadata": {},
   "source": [
    "**3. Effectuer le produit des matrices `A` et `B`.**"
   ]
  },
  {
   "cell_type": "markdown",
   "metadata": {},
   "source": [
    "**4. Reprendre l'image précédente et une nouvelle image d'un rond. Additionner ces deux images (vérifier au préalable leurs dimensions)**"
   ]
  },
  {
   "cell_type": "markdown",
   "metadata": {},
   "source": [
    "## 3. Règle de Cramer - Résolution de systèmes d'équations\n",
    "Si on considère un système de n équations à n inconnues équivalent à AX = B.\n",
    "\n",
    "D'après la règle de Cramer, si la matrice A est inversible (son déterminant est différent de 0), le sytème admet une unique solution donnée par :\n",
    "\n",
    "$ x_{k}={\\det(A_{k}) \\over \\det(A)} $\n",
    "\n",
    "$ A_k $ est la matrice carrée formée en remplaçant la k-ième colonne de A  par le vecteur colonne B\n"
   ]
  },
  {
   "cell_type": "markdown",
   "metadata": {},
   "source": [
    "## 4. Codage en Python"
   ]
  },
  {
   "cell_type": "markdown",
   "metadata": {},
   "source": [
    "\n",
    " **1. Soit $$A = \\begin{bmatrix} 1 & 2 & 3 \\\\ 0 & 1 & 4 \\\\ 5 & 6 & 0\\end{bmatrix}$$\n",
    "    Calculer la transposée de A, sa trace et son déterminant et son inverse.**\n",
    " \n"
   ]
  },
  {
   "cell_type": "markdown",
   "metadata": {},
   "source": [
    "**2. En reprenant l'image précédente, afficher l'image puis sa transposée.**\n"
   ]
  },
  {
   "cell_type": "markdown",
   "metadata": {},
   "source": [
    " **3. On considère le système d'équations suivant :**\n",
    " \n",
    "  **2x + y = 12**\n",
    "  \n",
    "  **x + 3y = 8**\n",
    "\n",
    "**Déterminer la matrice A résultante et calculer les solutions du système en utilisant la règle de Cramer. Comparer avec les solutions obtenues avec la fonction linalg.solve de la librairie Numpy**\n",
    " "
   ]
  },
  {
   "cell_type": "markdown",
   "metadata": {},
   "source": [
    "## 4. Matrices denses et creuses\n",
    "\n",
    "Une matrice creuse (\"sparse\") est une matrice qui comporte un grand nombre d'élements nuls. A l'inverse, une matrice dense comporte surtout des données non nulles. \n",
    "Le \"degré\" de sparsité de la matrice peut être évalué en mesurant la proportion d'élements nuls contenus dans la matrice par rapport au nombre total d'éléments.\n",
    "\n",
    "De telles matrices,présentant des éléments vides d'information, sont coûteuses en termes de mémoire allouée pour leur stockage. L'ordre de complexité pour effectuer des opérations matricielles (ex: calcul d'inverse) tend à également s'accroître avec des matrices sparse.\n",
    "\n",
    "Le problème de sparsité des données est courant dans les big data. Plus généralement, en matière de machine learning, on est très souvent confronté à des matrices creuses, notamment dans les domaines du traitement du langage naturel (NLP - construction de vecteurs de mots de grande dimension comportant beaucoup de valeurs nulles), les systèmes de recommendation (ex : matrice utilisateurs - films très creuse) et le computing vision (ex: images comportant beaucoup de pixels noirs - valeurs à zéro).\n",
    "\n",
    "Pour pallier à ce problème, il est possible d'utiliser de nouvelles représentations des données en entrée comme celles obtenues après compression (ex : méthode CSR - \"Compressed Sparse Row\" - pour convertir un matrice dense en matrice creuse). \n"
   ]
  },
  {
   "cell_type": "markdown",
   "metadata": {},
   "source": [
    "## 5. Codage en Python"
   ]
  },
  {
   "cell_type": "markdown",
   "metadata": {},
   "source": [
    "\n",
    "**1. On considère la matrice suivante :**\n",
    "\n",
    "$$A = \\begin{bmatrix} 1 & 0 & 0 & 0 & 2 \\\\ 0 & 0 & 4 & 1 & 5 \\\\ 5 & 6 & 0 & 0 & 0\\end{bmatrix}$$\n",
    "\n",
    "**Créer la matrice A.**\n",
    "\n",
    "**Afficher le degré de sparsité (proportion du nombre de 0) de cette matrice.**\n",
    "\n",
    "**Convertir cette matrice en sparse matrice en utilisant la méthode CSR de la librairie Numpy.**\n",
    "\n",
    "**Afficher la matrice issue de cette conversion puis la reconvertir en matrice dense.**\n"
   ]
  }
 ],
 "metadata": {
  "kernelspec": {
   "display_name": "Python 3",
   "language": "python",
   "name": "python3"
  },
  "language_info": {
   "codemirror_mode": {
    "name": "ipython",
    "version": 3
   },
   "file_extension": ".py",
   "mimetype": "text/x-python",
   "name": "python",
   "nbconvert_exporter": "python",
   "pygments_lexer": "ipython3",
   "version": "3.7.4"
  }
 },
 "nbformat": 4,
 "nbformat_minor": 2
}
