{
 "cells": [
  {
   "cell_type": "markdown",
   "metadata": {},
   "source": [
    "# 19. Python - Révisions"
   ]
  },
  {
   "cell_type": "markdown",
   "metadata": {},
   "source": [
    "**1. Créer une liste L1 contenant tous les entiers entre 1 et 100.**"
   ]
  },
  {
   "cell_type": "code",
   "execution_count": 1,
   "metadata": {},
   "outputs": [
    {
     "name": "stdout",
     "output_type": "stream",
     "text": [
      "[1, 2, 3, 4, 5, 6, 7, 8, 9, 10, 11, 12, 13, 14, 15, 16, 17, 18, 19, 20, 21, 22, 23, 24, 25, 26, 27, 28, 29, 30, 31, 32, 33, 34, 35, 36, 37, 38, 39, 40, 41, 42, 43, 44, 45, 46, 47, 48, 49, 50, 51, 52, 53, 54, 55, 56, 57, 58, 59, 60, 61, 62, 63, 64, 65, 66, 67, 68, 69, 70, 71, 72, 73, 74, 75, 76, 77, 78, 79, 80, 81, 82, 83, 84, 85, 86, 87, 88, 89, 90, 91, 92, 93, 94, 95, 96, 97, 98, 99, 100]\n"
     ]
    }
   ],
   "source": [
    "L1 = list(range(1,101))\n",
    "print(L1)"
   ]
  },
  {
   "cell_type": "markdown",
   "metadata": {},
   "source": [
    "**2. Créer une fonction appelée ispair qui prend en argument un nombre et retour True si le nombre est pair et False sinon.**"
   ]
  },
  {
   "cell_type": "code",
   "execution_count": 2,
   "metadata": {},
   "outputs": [
    {
     "data": {
      "text/plain": [
       "True"
      ]
     },
     "execution_count": 2,
     "metadata": {},
     "output_type": "execute_result"
    }
   ],
   "source": [
    "def ispair(n):\n",
    "    if n%2==0:\n",
    "        return True\n",
    "    else :\n",
    "        return False\n",
    "ispair(2)"
   ]
  },
  {
   "cell_type": "markdown",
   "metadata": {},
   "source": [
    "**3. Compléter le script de la fonction list_ispair qui prend en argument une liste et qui retourne une liste contenant les nombres pairs contenus dans la liste de départ en remplaçant les XXX par le code adéquat.**"
   ]
  },
  {
   "cell_type": "code",
   "execution_count": null,
   "metadata": {},
   "outputs": [],
   "source": [
    "def list_ispair(liste):\n",
    "    listpair = XXX\n",
    "    for XXX in XXX:\n",
    "        if XXX:\n",
    "            XXX\n",
    "    return listpair\n",
    "    "
   ]
  },
  {
   "cell_type": "code",
   "execution_count": 3,
   "metadata": {},
   "outputs": [
    {
     "data": {
      "text/plain": [
       "[2, 10, 14]"
      ]
     },
     "execution_count": 3,
     "metadata": {},
     "output_type": "execute_result"
    }
   ],
   "source": [
    "def list_ispair(liste):\n",
    "    \n",
    "    listpair = []\n",
    "    \n",
    "    for i in liste:\n",
    "        if i%2==0:\n",
    "            listpair.append(i)\n",
    "            \n",
    "    # deuxième possibilité Compréhension\n",
    "    \n",
    "    #for i in range(len(liste)):\n",
    "        #if liste[i] % 2 == 0:\n",
    "         #   listpair.append(liste[i])\n",
    "            \n",
    "    return listpair\n",
    "\n",
    "\n",
    "list_ispair([2,3,9,10,11,13,14])"
   ]
  },
  {
   "cell_type": "markdown",
   "metadata": {},
   "source": [
    "**4. Appliquer la fonction précédente à la liste `L_test` et stocker le résultat dans une variable appelée `pair`.**"
   ]
  },
  {
   "cell_type": "code",
   "execution_count": 5,
   "metadata": {},
   "outputs": [],
   "source": [
    "L_test = [4,5,6,7,8,11,12,44,55,66]"
   ]
  },
  {
   "cell_type": "code",
   "execution_count": 6,
   "metadata": {},
   "outputs": [
    {
     "name": "stdout",
     "output_type": "stream",
     "text": [
      "[4, 6, 8, 12, 44, 66]\n",
      "<class 'list'>\n"
     ]
    }
   ],
   "source": [
    "pair = list_ispair(L_test)\n",
    "print(pair)\n",
    "print(type(pair))"
   ]
  },
  {
   "cell_type": "markdown",
   "metadata": {},
   "source": [
    "**5. Afficher l'index du nombre 55 de la liste `L_test`.**"
   ]
  },
  {
   "cell_type": "code",
   "execution_count": 7,
   "metadata": {},
   "outputs": [
    {
     "name": "stdout",
     "output_type": "stream",
     "text": [
      "[4, 5, 6, 7, 8, 11, 12, 44, 55, 66]\n"
     ]
    },
    {
     "data": {
      "text/plain": [
       "8"
      ]
     },
     "execution_count": 7,
     "metadata": {},
     "output_type": "execute_result"
    }
   ],
   "source": [
    "print(L_test)\n",
    "\n",
    "L_test.index(55)"
   ]
  },
  {
   "cell_type": "markdown",
   "metadata": {},
   "source": [
    "**6. Supprimer la valeur 55 de la liste.**"
   ]
  },
  {
   "cell_type": "code",
   "execution_count": 8,
   "metadata": {},
   "outputs": [
    {
     "name": "stdout",
     "output_type": "stream",
     "text": [
      "[4, 5, 6, 7, 8, 11, 12, 44, 55, 66]\n",
      "[4, 5, 6, 7, 8, 11, 12, 44, 66]\n"
     ]
    }
   ],
   "source": [
    "print(L_test)\n",
    "del L_test[-2]\n",
    "print(L_test)"
   ]
  },
  {
   "cell_type": "code",
   "execution_count": 9,
   "metadata": {},
   "outputs": [
    {
     "name": "stdout",
     "output_type": "stream",
     "text": [
      "[4, 5, 6, 7, 8, 11, 12, 44, 66]\n"
     ]
    }
   ],
   "source": [
    "L_test = [4,5,6,7,8,11,12,44,55,66]\n",
    "L_test.remove(55)\n",
    "print(L_test)"
   ]
  },
  {
   "cell_type": "markdown",
   "metadata": {},
   "source": [
    "**7. En utilisant une boucle, affichez tous les caractères (espaces compris), un à un, de la chaîne de caractères ci-bas.**"
   ]
  },
  {
   "cell_type": "code",
   "execution_count": 13,
   "metadata": {},
   "outputs": [
    {
     "name": "stdout",
     "output_type": "stream",
     "text": [
      "Le confinement c'est cool !\n"
     ]
    }
   ],
   "source": [
    "chaine = \"Le confinement c'est cool !\"\n",
    "print(chaine)"
   ]
  },
  {
   "cell_type": "code",
   "execution_count": 12,
   "metadata": {},
   "outputs": [
    {
     "name": "stdout",
     "output_type": "stream",
     "text": [
      "L\n",
      "e\n",
      " \n",
      "c\n",
      "o\n",
      "n\n",
      "f\n",
      "i\n",
      "n\n",
      "e\n",
      "m\n",
      "e\n",
      "n\n",
      "t\n",
      " \n",
      "c\n",
      "'\n",
      "e\n",
      "s\n",
      "t\n",
      " \n",
      "c\n",
      "o\n",
      "o\n",
      "l\n",
      " \n",
      "!\n"
     ]
    }
   ],
   "source": [
    "for i in chaine:\n",
    "    print(i)"
   ]
  },
  {
   "cell_type": "markdown",
   "metadata": {},
   "source": [
    "**8. En utilisant la librairie adéquate, créer un vecteur V1 contenant les valeurs 1, 2, 3 et un vecteur V2 contenant les valeurs 4, 5, 6.**"
   ]
  },
  {
   "cell_type": "code",
   "execution_count": 14,
   "metadata": {},
   "outputs": [
    {
     "name": "stdout",
     "output_type": "stream",
     "text": [
      "[1 2 3]\n",
      "[4 5 6]\n"
     ]
    }
   ],
   "source": [
    "import numpy as np\n",
    "\n",
    "V1 = np.array([1,2,3])\n",
    "V2 = np.array([4,5,6])\n",
    "\n",
    "print(V1)\n",
    "print(V2)"
   ]
  },
  {
   "cell_type": "markdown",
   "metadata": {},
   "source": [
    "**9. Calculer la norme L2 du vecteur V3 ci-dessous.**"
   ]
  },
  {
   "cell_type": "code",
   "execution_count": 16,
   "metadata": {},
   "outputs": [],
   "source": [
    "V3 = np.array([2,2,2])"
   ]
  },
  {
   "cell_type": "code",
   "execution_count": 19,
   "metadata": {},
   "outputs": [
    {
     "name": "stdout",
     "output_type": "stream",
     "text": [
      "3.4641016151377544\n",
      "3.4641016151377544\n"
     ]
    }
   ],
   "source": [
    "L2 = np.linalg.norm(V3,2) # norme 2 par défaut \n",
    "print (L2)\n",
    "import math\n",
    "print (math.sqrt(12))"
   ]
  },
  {
   "cell_type": "markdown",
   "metadata": {},
   "source": [
    "**10. Créer la matrice `A` suivante.**\n",
    "\n",
    "$$A = \\begin{bmatrix} 1 & -11 & 5 \\\\ 2 & -15 & 8 \\\\ 12 & 7 & 6 \\end{bmatrix}$$\n"
   ]
  },
  {
   "cell_type": "code",
   "execution_count": 20,
   "metadata": {},
   "outputs": [
    {
     "name": "stdout",
     "output_type": "stream",
     "text": [
      "[[  1 -11   5]\n",
      " [  2 -15   8]\n",
      " [ 12   7   6]]\n"
     ]
    }
   ],
   "source": [
    "A = np.array([[1,-11,5],[2,-15,8],[12,7,6]])\n",
    "print(A)"
   ]
  },
  {
   "cell_type": "markdown",
   "metadata": {},
   "source": [
    "**11. Calculer le déterminant de A.**"
   ]
  },
  {
   "cell_type": "code",
   "execution_count": 21,
   "metadata": {},
   "outputs": [
    {
     "data": {
      "text/plain": [
       "-100.00000000000004"
      ]
     },
     "execution_count": 21,
     "metadata": {},
     "output_type": "execute_result"
    }
   ],
   "source": [
    "np.linalg.det(A)"
   ]
  },
  {
   "cell_type": "markdown",
   "metadata": {},
   "source": [
    "**12. Calculer l'inverse de A que vous noterez A_inv.**"
   ]
  },
  {
   "cell_type": "code",
   "execution_count": 22,
   "metadata": {},
   "outputs": [
    {
     "name": "stdout",
     "output_type": "stream",
     "text": [
      "[[ 1.46 -1.01  0.13]\n",
      " [-0.84  0.54 -0.02]\n",
      " [-1.94  1.39 -0.07]]\n"
     ]
    }
   ],
   "source": [
    "A_inv = np.linalg.inv(A)\n",
    "\n",
    "print(A_inv)"
   ]
  },
  {
   "cell_type": "markdown",
   "metadata": {},
   "source": [
    "**13. Créer la matrice identité de taille 10 que vous noterez Id_10.**"
   ]
  },
  {
   "cell_type": "code",
   "execution_count": 24,
   "metadata": {},
   "outputs": [
    {
     "name": "stdout",
     "output_type": "stream",
     "text": [
      "[[1. 0. 0. 0. 0. 0. 0. 0. 0. 0.]\n",
      " [0. 1. 0. 0. 0. 0. 0. 0. 0. 0.]\n",
      " [0. 0. 1. 0. 0. 0. 0. 0. 0. 0.]\n",
      " [0. 0. 0. 1. 0. 0. 0. 0. 0. 0.]\n",
      " [0. 0. 0. 0. 1. 0. 0. 0. 0. 0.]\n",
      " [0. 0. 0. 0. 0. 1. 0. 0. 0. 0.]\n",
      " [0. 0. 0. 0. 0. 0. 1. 0. 0. 0.]\n",
      " [0. 0. 0. 0. 0. 0. 0. 1. 0. 0.]\n",
      " [0. 0. 0. 0. 0. 0. 0. 0. 1. 0.]\n",
      " [0. 0. 0. 0. 0. 0. 0. 0. 0. 1.]]\n"
     ]
    }
   ],
   "source": [
    "import numpy as np\n",
    "Id_10 = np.eye(10) # \n",
    "print(Id_10)"
   ]
  },
  {
   "cell_type": "code",
   "execution_count": 25,
   "metadata": {},
   "outputs": [
    {
     "name": "stdout",
     "output_type": "stream",
     "text": [
      "[[1. 0. 0. 0. 0. 0. 0. 0. 0. 0.]\n",
      " [0. 1. 0. 0. 0. 0. 0. 0. 0. 0.]\n",
      " [0. 0. 1. 0. 0. 0. 0. 0. 0. 0.]\n",
      " [0. 0. 0. 1. 0. 0. 0. 0. 0. 0.]\n",
      " [0. 0. 0. 0. 1. 0. 0. 0. 0. 0.]\n",
      " [0. 0. 0. 0. 0. 1. 0. 0. 0. 0.]\n",
      " [0. 0. 0. 0. 0. 0. 1. 0. 0. 0.]\n",
      " [0. 0. 0. 0. 0. 0. 0. 1. 0. 0.]\n",
      " [0. 0. 0. 0. 0. 0. 0. 0. 1. 0.]\n",
      " [0. 0. 0. 0. 0. 0. 0. 0. 0. 1.]]\n"
     ]
    }
   ],
   "source": [
    "Id_10 = np.identity(10) #identity \n",
    "print(Id_10)"
   ]
  },
  {
   "cell_type": "markdown",
   "metadata": {},
   "source": [
    "**14. Créer une fonction `f` qui calcule l'image de la fonction f(x) suivante pour un x donné f(x) = 3x + 6 puis calculer f(2) pour vérification.**"
   ]
  },
  {
   "cell_type": "code",
   "execution_count": 26,
   "metadata": {},
   "outputs": [
    {
     "data": {
      "text/plain": [
       "12"
      ]
     },
     "execution_count": 26,
     "metadata": {},
     "output_type": "execute_result"
    }
   ],
   "source": [
    "def f(x):\n",
    "    return((3 * x) + 6)\n",
    "\n",
    "f(2)"
   ]
  },
  {
   "cell_type": "markdown",
   "metadata": {},
   "source": [
    "**15. En utilisant les fonctions lambda, créer une fonction `f1` qui calcule le carré d'un nombre. Tester la fonction avec le nombre 5.**"
   ]
  },
  {
   "cell_type": "code",
   "execution_count": 27,
   "metadata": {},
   "outputs": [
    {
     "data": {
      "text/plain": [
       "9"
      ]
     },
     "execution_count": 27,
     "metadata": {},
     "output_type": "execute_result"
    }
   ],
   "source": [
    "f1 = lambda x : x*x\n",
    "f1(3)"
   ]
  },
  {
   "cell_type": "markdown",
   "metadata": {},
   "source": [
    "**16. En utilisant les compréhensions de liste, recoder la fonction list_ispair de la question 3. Elle devra prendre en argument une liste de nombres et retourner une liste de nombres contenant les nombres entiers de la liste d'entrée. Vérifier son fonctionnement avec L_test.**"
   ]
  },
  {
   "cell_type": "code",
   "execution_count": 28,
   "metadata": {},
   "outputs": [],
   "source": [
    "L_test = [4.0,5,6,7,8,11,12,44,55,66.7]"
   ]
  },
  {
   "cell_type": "code",
   "execution_count": 31,
   "metadata": {},
   "outputs": [
    {
     "data": {
      "text/plain": [
       "[4, 5, 6, 7, 8, 11, 12, 44, 55]"
      ]
     },
     "execution_count": 31,
     "metadata": {},
     "output_type": "execute_result"
    }
   ],
   "source": [
    "def list_ispair(liste):\n",
    "    listentier = []\n",
    "    [listentier.append(i) for i in liste if (i%2 == 0 or (i+1)%2 == 0)]\n",
    "    \n",
    "    return listentier\n",
    "\n",
    "list_ispair(L_test)"
   ]
  },
  {
   "cell_type": "code",
   "execution_count": 32,
   "metadata": {},
   "outputs": [
    {
     "data": {
      "text/plain": [
       "[4, 5, 6, 7, 8, 11, 12, 44, 55]"
      ]
     },
     "execution_count": 32,
     "metadata": {},
     "output_type": "execute_result"
    }
   ],
   "source": [
    "def list_ispair(liste):\n",
    "    \n",
    "    listentier = [i for i in liste if (i%2 == 0 or (i+1)%2 == 0)]\n",
    "    # Troncature : 15,67 => 15 # fonction trunc de numpy\n",
    "    \n",
    "    return listentier\n",
    "\n",
    "list_ispair(L_test)"
   ]
  },
  {
   "cell_type": "markdown",
   "metadata": {},
   "source": [
    "**17. Créer un set appelé `voy` qui contient les voyelles de l'alpjabet français.**"
   ]
  },
  {
   "cell_type": "code",
   "execution_count": 33,
   "metadata": {},
   "outputs": [
    {
     "name": "stdout",
     "output_type": "stream",
     "text": [
      "{'O', ' A', 'I', 'Y', ' E', 'U'}\n"
     ]
    }
   ],
   "source": [
    "voy = set(['A','E','I','O','U','Y'])\n",
    "\n",
    "print(voy)"
   ]
  },
  {
   "cell_type": "code",
   "execution_count": 34,
   "metadata": {},
   "outputs": [
    {
     "name": "stdout",
     "output_type": "stream",
     "text": [
      "{'i', 'e', 'u', 'a', 'y', 'o'}\n"
     ]
    }
   ],
   "source": [
    "voy = set(\"aeiouy\")\n",
    "print (voy)"
   ]
  },
  {
   "cell_type": "markdown",
   "metadata": {},
   "source": [
    "**18. Importer la librairie nécessaire aux calculs combinatoires et calculer toutes les permutations de `voy`. Combien de permutations existe-t-il?**"
   ]
  },
  {
   "cell_type": "code",
   "execution_count": 37,
   "metadata": {},
   "outputs": [
    {
     "data": {
      "text/plain": [
       "720"
      ]
     },
     "execution_count": 37,
     "metadata": {},
     "output_type": "execute_result"
    }
   ],
   "source": [
    "import itertools as it\n",
    "\n",
    "all_perm = set(it.permutations(voy))\n",
    "#print(all_perm)\n",
    "len(all_perm) #(n!)"
   ]
  },
  {
   "cell_type": "markdown",
   "metadata": {},
   "source": [
    "**19. On tire simultanément 2 boules parmi dans une urne contenant 6 boules rouges, 3 vertes et 2 boules noires indicernables au toucher.\n",
    "Combien y-a-t-il de tirages possibles ? Vérifier votre réponse avec un script.**"
   ]
  },
  {
   "cell_type": "code",
   "execution_count": 38,
   "metadata": {},
   "outputs": [
    {
     "name": "stdout",
     "output_type": "stream",
     "text": [
      "{('v2', 'v1'), ('v3', 'r4'), ('v2', 'r2'), ('n1', 'r1'), ('r3', 'r6'), ('r2', 'r6'), ('v2', 'r5'), ('n1', 'r5'), ('r3', 'r2'), ('v2', 'r1'), ('v1', 'r3'), ('v3', 'r1'), ('n1', 'r2'), ('v3', 'n2'), ('v3', 'n1'), ('v3', 'r6'), ('v2', 'r4'), ('n1', 'n2'), ('n2', 'r3'), ('r4', 'r6'), ('n2', 'r2'), ('r3', 'r4'), ('r5', 'r6'), ('n2', 'r1'), ('r1', 'r4'), ('v1', 'r6'), ('v1', 'n1'), ('v1', 'n2'), ('v2', 'v3'), ('v1', 'r1'), ('v3', 'r3'), ('v2', 'r3'), ('r3', 'r5'), ('v2', 'r6'), ('n2', 'r4'), ('r5', 'r4'), ('n1', 'r6'), ('r3', 'r1'), ('r1', 'r2'), ('r1', 'r6'), ('n1', 'r3'), ('n1', 'r4'), ('v1', 'r4'), ('v1', 'r5'), ('v3', 'r2'), ('n2', 'r5'), ('r5', 'r1'), ('n2', 'r6'), ('r5', 'r2'), ('v2', 'n1'), ('r4', 'r2'), ('v1', 'v3'), ('v2', 'n2'), ('v1', 'r2'), ('v3', 'r5')}\n",
      "55\n"
     ]
    }
   ],
   "source": [
    "import itertools\n",
    "\n",
    "boules = {'r1','r2','r3','r4','r5','r6','v1','v2','v3','n1','n2'}\n",
    "k = 2\n",
    "T = set(itertools.combinations(boules,k))\n",
    "\n",
    "print(T)\n",
    "print(len(T)) # (k parmi n =  (n!)/k!(n-k)! )"
   ]
  },
  {
   "cell_type": "code",
   "execution_count": 40,
   "metadata": {},
   "outputs": [
    {
     "name": "stdout",
     "output_type": "stream",
     "text": [
      "{('r2', 'r1'), ('v2', 'r5'), ('r3', 'r2'), ('r4', 'v3'), ('r6', 'n1'), ('v1', 'r3'), ('n1', 'r2'), ('r3', 'r4'), ('r4', 'r5'), ('r2', 'v3'), ('v2', 'n2'), ('r2', 'r4'), ('v3', 'r3'), ('r4', 'n2'), ('r6', 'r4'), ('r5', 'n1'), ('n2', 'n1'), ('r1', 'r2'), ('n1', 'v3'), ('r4', 'v2'), ('r5', 'v1'), ('n2', 'r5'), ('r3', 'v2'), ('r2', 'n2'), ('r6', 'r3'), ('r5', 'r3'), ('v1', 'r2'), ('v2', 'v1'), ('v3', 'r4'), ('n2', 'v3'), ('n1', 'r1'), ('r3', 'r6'), ('r2', 'r6'), ('r1', 'r5'), ('v3', 'n1'), ('v3', 'r6'), ('n1', 'v2'), ('n2', 'r3'), ('r4', 'r6'), ('n2', 'r2'), ('r1', 'n1'), ('n2', 'r1'), ('r1', 'v3'), ('n2', 'r4'), ('r1', 'r6'), ('r5', 'v2'), ('n1', 'r3'), ('r1', 'r3'), ('r4', 'v1'), ('r5', 'r1'), ('r3', 'n2'), ('r6', 'r1'), ('v3', 'r5'), ('v2', 'r2'), ('r2', 'r5'), ('v3', 'r1'), ('r5', 'v3'), ('v3', 'n2'), ('n1', 'v1'), ('r6', 'v3'), ('r3', 'v3'), ('r3', 'v1'), ('r6', 'r5'), ('v3', 'v2'), ('v1', 'v2'), ('r5', 'r6'), ('r1', 'v1'), ('v1', 'n2'), ('v1', 'r1'), ('v2', 'r6'), ('r5', 'r4'), ('n1', 'r6'), ('r3', 'r1'), ('r2', 'r3'), ('v1', 'r5'), ('r6', 'v2'), ('r1', 'n2'), ('r4', 'r2'), ('v1', 'v3'), ('r4', 'r3'), ('r2', 'v2'), ('n1', 'r5'), ('v2', 'r1'), ('r6', 'v1'), ('v2', 'r4'), ('v3', 'v1'), ('n1', 'n2'), ('r2', 'n1'), ('r1', 'r4'), ('r3', 'n1'), ('r2', 'v1'), ('v1', 'r6'), ('v1', 'n1'), ('n2', 'v1'), ('v2', 'v3'), ('r3', 'r5'), ('v2', 'r3'), ('n2', 'v2'), ('r5', 'n2'), ('r4', 'n1'), ('r6', 'n2'), ('v1', 'r4'), ('v3', 'r2'), ('r4', 'r1'), ('r6', 'r2'), ('n2', 'r6'), ('r5', 'r2'), ('v2', 'n1'), ('n1', 'r4'), ('r1', 'v2')}\n",
      "110\n"
     ]
    }
   ],
   "source": [
    "T2 = set(itertools.permutations(boules,k))\n",
    "print(T2)\n",
    "print(len(T2))"
   ]
  },
  {
   "cell_type": "markdown",
   "metadata": {},
   "source": [
    "**20. Le type dictionnaire (ou tableau associatif ) permet de représenter des tableaux structurés. En effet, à chaque clé un dictionnaire associe une valeur, et cette valeur peut elle-même être une structure de donnée (liste, tuple ou un dictionnaire. . .).**\n",
    "\n",
    "**Créer un dictionnaire vide appelé d. Ajouter y une clé `film` associée à une liste contenant 2 de vos films préférés.**"
   ]
  },
  {
   "cell_type": "code",
   "execution_count": 42,
   "metadata": {},
   "outputs": [
    {
     "name": "stdout",
     "output_type": "stream",
     "text": [
      "le dictionnaire d créé {} est VIDE!\n"
     ]
    }
   ],
   "source": [
    "d = {}\n",
    "\n",
    "print(\"le dictionnaire d créé\", d, \"est VIDE!\" )\n",
    "\n"
   ]
  },
  {
   "cell_type": "code",
   "execution_count": 43,
   "metadata": {},
   "outputs": [
    {
     "name": "stdout",
     "output_type": "stream",
     "text": [
      "le dictionnaire d updaté:  {'film': ['groundhog day', \"time traveller's wife\"]}\n"
     ]
    }
   ],
   "source": [
    "\n",
    "d.update({\"film\": [\"groundhog day\", \"time traveller's wife\"]})\n",
    " \n",
    "\n",
    "print(\"le dictionnaire d updaté: \", d)"
   ]
  },
  {
   "cell_type": "markdown",
   "metadata": {},
   "source": [
    "## 10)\n",
    "\n",
    "### Écrire une fonction `moy` qui permet de calculer et d’afficher la moyenne de l’examen."
   ]
  },
  {
   "cell_type": "code",
   "execution_count": 5,
   "metadata": {},
   "outputs": [
    {
     "data": {
      "text/plain": [
       "{'Florian': 'abs',\n",
       " 'Antoine': '12',\n",
       " 'Clara': '15',\n",
       " 'Robert': '0',\n",
       " 'Agathe': '8',\n",
       " 'Erwan': '7',\n",
       " 'Zoé': '20',\n",
       " 'Xavier': '11',\n",
       " 'Didier': '20',\n",
       " 'Alain': '0',\n",
       " 'Hadi': '12'}"
      ]
     },
     "execution_count": 5,
     "metadata": {},
     "output_type": "execute_result"
    }
   ],
   "source": [
    "note = {'Florian':'abs',\n",
    "        'Antoine':'12',\n",
    "        'Clara':'15',\n",
    "        'Robert':'0',\n",
    "        'Agathe':'8',\n",
    "        'Erwan':'7',\n",
    "        'Zoé':'20',\n",
    "        'Xavier':'11',\n",
    "        'Didier':'20',\n",
    "        'Alain':'0',\n",
    "        'Hadi':'12'}\n",
    "note"
   ]
  },
  {
   "cell_type": "code",
   "execution_count": 8,
   "metadata": {},
   "outputs": [],
   "source": [
    " def moy(m):\n",
    "    notes = [12, 15, 0, 8, 7, 20, 11, 20, 0, 12]\n",
    "    Sn =  (12*2)+15+(0*2)+8+7+(20*2)+11\n",
    "    m = Sn/len(notes)\n",
    "    return('La moyenne de l examen est:',m)"
   ]
  },
  {
   "cell_type": "code",
   "execution_count": 7,
   "metadata": {
    "scrolled": true
   },
   "outputs": [
    {
     "data": {
      "text/plain": [
       "('La moyenne de lexamen est:', 10.5)"
      ]
     },
     "execution_count": 7,
     "metadata": {},
     "output_type": "execute_result"
    }
   ],
   "source": [
    "moy(12)"
   ]
  },
  {
   "cell_type": "code",
   "execution_count": 14,
   "metadata": {},
   "outputs": [
    {
     "data": {
      "text/plain": [
       "10.5"
      ]
     },
     "execution_count": 14,
     "metadata": {},
     "output_type": "execute_result"
    }
   ],
   "source": [
    "import numpy as np\n",
    "def moy ():\n",
    "    l1 = []\n",
    "    n1 = {key:val for key, val in note.items() if val != 'abs'}\n",
    "    for i in n1.values():\n",
    "        i = int(i)\n",
    "        l1.append(i)\n",
    "    res = np.mean(l1)\n",
    "    return res\n",
    "moy()"
   ]
  },
  {
   "cell_type": "markdown",
   "metadata": {},
   "source": [
    "## 11)\n",
    "\n",
    "### Écrire une fonction `print_admis` qui permet d’afficher le nom et la note de chacun des élèves, avec la mention \"admis\" si la note est supérieure ou égale à 10, ou bien \"recalé\" sinon."
   ]
  },
  {
   "cell_type": "code",
   "execution_count": null,
   "metadata": {},
   "outputs": [],
   "source": [
    "dico = {'Florian':'abs',\n",
    "        'Antoine':'12',\n",
    "        'Clara':'15',\n",
    "        'Robert':'0',\n",
    "        'Agathe':'8',\n",
    "        'Erwan':'7',\n",
    "        'Zoé':'20',\n",
    "        'Xavier':'11',\n",
    "        'Didier':'20',\n",
    "        'Alain':'0',\n",
    "        'Hadi':'12'}\n",
    "\n",
    "def print_admis(dico):\n",
    "    for cle,valeur in dico.items():\n",
    "        if dico[cle] > 10:\n",
    "            print(cle,'est admis et sa note est',valeur)\n",
    "        elif dico[cle] < 10:\n",
    "            print(cle,'est recalé et sa note est',valeur)"
   ]
  },
  {
   "cell_type": "code",
   "execution_count": null,
   "metadata": {},
   "outputs": [],
   "source": []
  },
  {
   "cell_type": "markdown",
   "metadata": {},
   "source": [
    "## 12)\n",
    "\n",
    "### Modifier la fonction `print_admis` pour qu’elle stocke dans deux listes distinctes, les noms des élèves ayant réussi leur examen et ceux des élèves ayant raté leur examen."
   ]
  },
  {
   "cell_type": "code",
   "execution_count": 2,
   "metadata": {},
   "outputs": [],
   "source": [
    "dico = {'Florian':'abs',\n",
    "        'Antoine':'12',\n",
    "        'Clara':'15',\n",
    "        'Robert':'0',\n",
    "        'Agathe':'8',\n",
    "        'Erwan':'7',\n",
    "        'Zoé':'20',\n",
    "        'Xavier':'11',\n",
    "        'Didier':'20',\n",
    "        'Alain':'0',\n",
    "        'Hadi':'12'}\n",
    "\n",
    "def print_admis(note):\n",
    "    for cle,valeur in dic.items():\n",
    "        if valeur!='abs' and float(valeur)>=10:\n",
    "            L_admis=cle\n",
    "            print(L_admis)\n",
    "        else:\n",
    "            L_recalé=cle\n",
    "            print('\\t',L_recalé)\n",
    "    print('admis','\\t recalé')\n",
    "    return"
   ]
  },
  {
   "cell_type": "code",
   "execution_count": 1,
   "metadata": {},
   "outputs": [
    {
     "ename": "NameError",
     "evalue": "name 'print_admis' is not defined",
     "output_type": "error",
     "traceback": [
      "\u001b[1;31m---------------------------------------------------------------------------\u001b[0m",
      "\u001b[1;31mNameError\u001b[0m                                 Traceback (most recent call last)",
      "\u001b[1;32m<ipython-input-1-5b7558d8be6a>\u001b[0m in \u001b[0;36m<module>\u001b[1;34m\u001b[0m\n\u001b[1;32m----> 1\u001b[1;33m \u001b[0mprint_admis\u001b[0m\u001b[1;33m(\u001b[0m\u001b[1;36m12\u001b[0m\u001b[1;33m)\u001b[0m\u001b[1;33m\u001b[0m\u001b[1;33m\u001b[0m\u001b[0m\n\u001b[0m",
      "\u001b[1;31mNameError\u001b[0m: name 'print_admis' is not defined"
     ]
    }
   ],
   "source": []
  },
  {
   "cell_type": "markdown",
   "metadata": {},
   "source": [
    "## 13)\n",
    "\n",
    "### Écrire une fonction `saisie_notes` permettant de saisir et d’intégrer dans le dictionnaire les notes de nouveaux étudiants en supposant que les nouvelles sont respectivement contenues dans une liste de prénoms et une liste de notes."
   ]
  },
  {
   "cell_type": "code",
   "execution_count": 6,
   "metadata": {},
   "outputs": [],
   "source": [
    "def print_admis(notes):\n",
    "    n1 = {key:val for key, val in notes.items() if val != 'abs'} #comprehension de dictionnaire\n",
    "    admis = []\n",
    "    recale = []\n",
    "    for nom,note in n1.items():\n",
    "        note = int(note)\n",
    "        if note >= 10 :\n",
    "            admis.append(nom)\n",
    "        else:\n",
    "            recale.append(nom)\n",
    "    return(admis,recale)"
   ]
  },
  {
   "cell_type": "code",
   "execution_count": 7,
   "metadata": {},
   "outputs": [
    {
     "ename": "NameError",
     "evalue": "name 'note' is not defined",
     "output_type": "error",
     "traceback": [
      "\u001b[1;31m---------------------------------------------------------------------------\u001b[0m",
      "\u001b[1;31mNameError\u001b[0m                                 Traceback (most recent call last)",
      "\u001b[1;32m<ipython-input-7-dbddcc57f82a>\u001b[0m in \u001b[0;36m<module>\u001b[1;34m\u001b[0m\n\u001b[1;32m----> 1\u001b[1;33m \u001b[0mliste_admis\u001b[0m\u001b[1;33m,\u001b[0m\u001b[0mliste_recale\u001b[0m\u001b[1;33m=\u001b[0m\u001b[0mprint_admis\u001b[0m\u001b[1;33m(\u001b[0m\u001b[0mnote\u001b[0m\u001b[1;33m)\u001b[0m\u001b[1;33m\u001b[0m\u001b[1;33m\u001b[0m\u001b[0m\n\u001b[0m\u001b[0;32m      2\u001b[0m \u001b[0mprint\u001b[0m\u001b[1;33m(\u001b[0m\u001b[0mliste_admis\u001b[0m\u001b[1;33m)\u001b[0m\u001b[1;33m\u001b[0m\u001b[1;33m\u001b[0m\u001b[0m\n",
      "\u001b[1;31mNameError\u001b[0m: name 'note' is not defined"
     ]
    }
   ],
   "source": [
    "liste_admis,liste_recale=print_admis(note)\n",
    "print(liste_admis)"
   ]
  },
  {
   "cell_type": "code",
   "execution_count": null,
   "metadata": {},
   "outputs": [
    {
     "name": "stdout",
     "output_type": "stream",
     "text": [
      "entrer le nom de l'élève : Antoine\n"
     ]
    }
   ],
   "source": [
    "def saisie_notes(a):\n",
    "    print(dict)\n",
    "    nb = len(dict)\n",
    "    etudiants = []\n",
    "    notes = []    \n",
    "    dict.update(a)   \n",
    "    return dict\n",
    "nom = input(\"entrer le nom de l'élève : \")\n",
    "note = int(input(\"entrer la note de l'élève: \"))\n",
    "saisie_notes({nom:note})"
   ]
  },
  {
   "cell_type": "markdown",
   "metadata": {},
   "source": [
    "## 14)\n",
    "\n",
    "### Choisissez 5 mots de la langue française et créez un dictionnaire qui associe à chacun de ces mots sa traduction en anglais.\n"
   ]
  },
  {
   "cell_type": "code",
   "execution_count": 1,
   "metadata": {},
   "outputs": [
    {
     "data": {
      "text/plain": [
       "{'bonjour': 'Hello',\n",
       " 'fraise': 'strawberry',\n",
       " 'cochon': 'pig',\n",
       " 'chien ': 'dog',\n",
       " 'chat': 'cat'}"
      ]
     },
     "execution_count": 1,
     "metadata": {},
     "output_type": "execute_result"
    }
   ],
   "source": [
    "dico={'bonjour':'Hello',\n",
    "      'fraise':'strawberry',\n",
    "      'cochon':'pig',\n",
    "      'chien ':'dog',\n",
    "      'chat':'cat',}\n",
    "dico"
   ]
  },
  {
   "cell_type": "markdown",
   "metadata": {},
   "source": [
    "## 15)\n",
    "\n",
    "### Ajoutez une entrée au dictionnaire de la question précédente (un nouveau mot et sa traduction). \n"
   ]
  },
  {
   "cell_type": "code",
   "execution_count": 4,
   "metadata": {},
   "outputs": [
    {
     "data": {
      "text/plain": [
       "{'maison': 'house',\n",
       " 'bonjour': 'Hello',\n",
       " 'fraise': 'strawberry',\n",
       " 'cochon': 'pig',\n",
       " 'chien ': 'dog',\n",
       " 'chat': 'cat'}"
      ]
     },
     "execution_count": 4,
     "metadata": {},
     "output_type": "execute_result"
    }
   ],
   "source": [
    "dico={'maison':'house',\n",
    "      'bonjour':'Hello',\n",
    "      'fraise':'strawberry',\n",
    "      'cochon':'pig',\n",
    "      'chien ':'dog',\n",
    "      'chat':'cat',}\n",
    "dico"
   ]
  },
  {
   "cell_type": "code",
   "execution_count": 11,
   "metadata": {},
   "outputs": [
    {
     "name": "stdout",
     "output_type": "stream",
     "text": [
      "{'maison': 'house', 'bonjour': 'Hello', 'fraise': 'strawberry', 'cochon': 'pig', 'chien ': 'dog', 'chat': 'cat', 'casquette': 'cap'}\n"
     ]
    }
   ],
   "source": [
    "dico={'maison':'house',\n",
    "      'bonjour':'Hello',\n",
    "      'fraise':'strawberry',\n",
    "      'cochon':'pig',\n",
    "      'chien ':'dog',\n",
    "      'chat':'cat',}\n",
    "dico\n",
    "dico['casquette']='cap'\n",
    "print(dico)"
   ]
  },
  {
   "cell_type": "markdown",
   "metadata": {},
   "source": [
    "## 16)\n",
    "\n",
    "### Écrivez une fonction `add(word1, word2, d`) qui prend en argument un mot en français, sa traduction en anglais et ajoute ces deux mots dans le dictionnaire d uniquement si `word1` n’est pas une clé du dictionnaire. Si le `word1` est déjà présent, la fonction devra afficher le texte suivant : \"The word word is already as a key in d.\"\n"
   ]
  },
  {
   "cell_type": "code",
   "execution_count": null,
   "metadata": {},
   "outputs": [],
   "source": [
    "def add (word1,  word2, d):\n",
    "     if word1 in d.key:\n",
    "        print(\"The word word is already as a key in d.\")    \n",
    "        d[word1]=word2\n",
    "    else:\n",
    "    d[word1]=word2\n",
    "    return()\n",
    "    "
   ]
  },
  {
   "cell_type": "markdown",
   "metadata": {},
   "source": [
    "## 17)\n",
    "\n",
    "### Écrivez une fonction `print_d` qui affiche à l’écran toutes les valeurs correspondant aux clés qui sont dans votre dictionnaire (ici, tous les mots en anglais qui apparaissent dans votre dictionnaire).\n"
   ]
  },
  {
   "cell_type": "code",
   "execution_count": 46,
   "metadata": {},
   "outputs": [],
   "source": [
    "## 18)\n",
    "\n",
    "### Écrivez une fonction `delete_d(car, d)` qui prend en argument un caractère car et un dictionnaire d et supprime du dictionnaire toutes les entrées correspondant à des traductions qui commencent par la lettre c."
   ]
  },
  {
   "cell_type": "code",
   "execution_count": 13,
   "metadata": {},
   "outputs": [
    {
     "name": "stdout",
     "output_type": "stream",
     "text": [
      "valeurs des mots anglais:  house\n",
      "valeurs des mots anglais:  Hello\n",
      "valeurs des mots anglais:  strawberry\n",
      "valeurs des mots anglais:  pig\n",
      "valeurs des mots anglais:  dog\n",
      "valeurs des mots anglais:  cat\n",
      "valeurs des mots anglais:  cap\n"
     ]
    }
   ],
   "source": [
    "def print_d(a):\n",
    "    #print(len(a))\n",
    "    for i in a:\n",
    "        print(\"valeurs des mots anglais: \", a[i])\n",
    "print_d(dico)"
   ]
  },
  {
   "cell_type": "markdown",
   "metadata": {},
   "source": [
    "18)\n",
    "Écrivez une fonction delete_d(car, d) \n",
    "qui prend en argument un caractère car et un dictionnaire d et supprime du dictionnaire toutes les entrées correspondant à des traductions qui commencent par la lettre c"
   ]
  },
  {
   "cell_type": "code",
   "execution_count": 18,
   "metadata": {},
   "outputs": [],
   "source": [
    "def delete_d(car, d):\n",
    "    dic_new = dict()\n",
    "    for cle,valeur in d.items():\n",
    "        if valeur[0] != car:\n",
    "            dic_new[cle]=valeur\n",
    "    return dic_new"
   ]
  },
  {
   "cell_type": "code",
   "execution_count": 19,
   "metadata": {},
   "outputs": [
    {
     "data": {
      "text/plain": [
       "{'maison': 'house',\n",
       " 'bonjour': 'Hello',\n",
       " 'fraise': 'strawberry',\n",
       " 'cochon': 'pig',\n",
       " 'chien ': 'dog'}"
      ]
     },
     "execution_count": 19,
     "metadata": {},
     "output_type": "execute_result"
    }
   ],
   "source": [
    "delete_d('c', dico)"
   ]
  },
  {
   "cell_type": "code",
   "execution_count": null,
   "metadata": {},
   "outputs": [],
   "source": []
  }
 ],
 "metadata": {
  "kernelspec": {
   "display_name": "Python 3",
   "language": "python",
   "name": "python3"
  },
  "language_info": {
   "codemirror_mode": {
    "name": "ipython",
    "version": 3
   },
   "file_extension": ".py",
   "mimetype": "text/x-python",
   "name": "python",
   "nbconvert_exporter": "python",
   "pygments_lexer": "ipython3",
   "version": "3.7.4"
  }
 },
 "nbformat": 4,
 "nbformat_minor": 2
}
