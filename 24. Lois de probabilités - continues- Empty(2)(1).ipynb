{
 "cells": [
  {
   "cell_type": "markdown",
   "metadata": {},
   "source": [
    "# 24. Lois de probabilités continues"
   ]
  },
  {
   "cell_type": "markdown",
   "metadata": {},
   "source": [
    "Les notions abordées dans ce notebook sont:\n",
    "\n",
    "- La fonction de densité pour une variable continue\n",
    "- La fonction de répartition \n",
    "- Les distributions de probabilité usuelles continues\n",
    "\n",
    "Après avoir défini ces différentes notions, nous vous proposons ***chaque loi usuelle*** de simuler des échantillons (taille pouvant varier), et de tracer sous forme d'histogramme (avec la librairie matplotlib) la fonction de densité empirique. \n",
    "On calculera ensuite la moyenne et la variance et on comparera ces résultats à ceux de la distribution théorique étudiée.\n"
   ]
  },
  {
   "cell_type": "markdown",
   "metadata": {},
   "source": [
    "### 1. Définitions\n",
    "***(Durée moyenne : 30 min)***"
   ]
  },
  {
   "cell_type": "markdown",
   "metadata": {},
   "source": [
    "1. Rappeler la définition d'une variable aléatoire continue. \n",
    "\n",
    "2. Définir une fonction de densité pour une variable continue. \n",
    "\n",
    "3. Définir une fonction de répartition. \n",
    "\n",
    "4. Lister les distributions de probabilité usuelles pour des variables continues. \n",
    "\n",
    "***Ne recopier pas les fonctions de densité et de répartition***\n"
   ]
  },
  {
   "cell_type": "markdown",
   "metadata": {},
   "source": [
    "1.Quand le résultat d'une expérience aléatoire n’est pas un entier et n'appartient pas à un ensemble fini,le mieux est de définir la variable aléatoire correspondante directement sur R ou sur un intervalle de R."
   ]
  },
  {
   "cell_type": "markdown",
   "metadata": {},
   "source": [
    "2. La fonction à intégrer est alors appelée fonction de densité ou densité de probabilité,\n",
    "  égale 1(dans le cas réel) à la dérivée de la fonction de répartition.\n",
    "  Les densités de probabilité sont les fonctions essentiellement positives et intégrables      d’intégrale 1.\n"
   ]
  },
  {
   "cell_type": "markdown",
   "metadata": {},
   "source": [
    "3.fonction de répartition. \n",
    "En théorie des probabilités, la fonction de répartition, ou fonction de distribution cumulative, d'une variable aléatoire réelle X est la fonction FX qui, à tout réel x, associe la probabilité d’obtenir une valeur inférieure ou égale :\n",
    "F(x)=p(x)<=X"
   ]
  },
  {
   "cell_type": "markdown",
   "metadata": {},
   "source": [
    "4.Lister les distributions de probabilité usuelles pour des variables continues.\n",
    "  1 Lois discrètes\n",
    "  2 Loi de Bernoulli\n",
    "  3 Loi binomiale\n",
    "  4 Distribution arithmétique\n",
    "  5.Loi géométrique\n",
    "  6 Loi de Poisson\n",
    "  7.Loi hypergéométrique\n",
    "  "
   ]
  },
  {
   "cell_type": "markdown",
   "metadata": {},
   "source": [
    "### 2. Exercices de simulation avec Python\n",
    "***(Durée moyenne : 1h à 1h30)***\n",
    "\n",
    "**Pour générer des distributions de probabilité des lois usuelles, Aider vous de la documentation en ligne https://docs.scipy.org/doc/scipy/reference/stats.html**\n"
   ]
  },
  {
   "cell_type": "markdown",
   "metadata": {},
   "source": [
    "#### Exercice 1 - Simulation de lois exponentielles\n",
    "\n",
    "1. Générer  N = 1 000 nombres aléatoires issus d'une distribution exponentielle de paramètre $\\lambda$=0.1. Afficher la fonction de densité empirique correspondante. La comparer à celle théorique\n",
    "\n",
    "2. Afficher sa moyenne et sa variance. Comparer les résultats à ceux de la distribution théorique.\n",
    "\n",
    "3. Afficher la fonction de répartition de la distribution théorique \n",
    "\n",
    "4. Tracer la fonction de densité pour de nouvelles valeurs de N et $\\lambda$\n",
    "\n",
    "5. Simuler une distribution exponentielle de paramètre $\\lambda$=2 à partir d'une loi uniforme"
   ]
  },
  {
   "cell_type": "code",
   "execution_count": 56,
   "metadata": {},
   "outputs": [
    {
     "name": "stdout",
     "output_type": "stream",
     "text": [
      "[3.29418203e-01 2.25456116e-01 3.01452236e-01 9.36219100e-01\n",
      " 1.22849176e-01 2.65556470e-01 4.02920580e-01 3.34055414e+00\n",
      " 7.15446360e-02 8.28776596e-01 2.06971923e-01 1.65623014e+00\n",
      " 9.95556087e-01 4.21212437e-01 4.07497552e-01 3.09299775e+00\n",
      " 3.63117610e-01 1.30753515e+00 1.22927281e+00 6.77203627e-02\n",
      " 1.68399014e-01 5.11719611e-01 1.30554935e+00 3.93339842e+00\n",
      " 2.21658099e-01 2.32663775e+00 1.52792342e+00 1.46602513e-01\n",
      " 6.56787814e-01 4.90631244e-01 3.64665451e-01 1.20778035e-01\n",
      " 4.98432444e+00 5.68642148e-02 1.03458207e+00 1.06060702e+00\n",
      " 2.30408484e+00 1.19264870e+00 1.73966414e+00 2.63085608e+00\n",
      " 7.65953803e-01 1.09888791e-01 1.78948909e+00 4.05456562e+00\n",
      " 6.43414727e-03 1.40971357e+00 1.21254353e+00 1.26299557e+00\n",
      " 7.83298564e-02 1.38473527e+00 5.85727010e-01 2.26870844e+00\n",
      " 3.95373165e-01 1.18121416e+00 1.12482095e-02 6.26717120e-01\n",
      " 2.19597358e+00 9.05582321e-02 1.76967718e+00 9.64044286e-01\n",
      " 2.80832946e+00 1.00172038e+00 1.33908979e+00 7.65072219e-02\n",
      " 6.98001575e-01 2.81190374e-01 1.60400124e+00 5.65286790e-01\n",
      " 6.88912173e-01 5.71327923e-01 1.10989286e+00 1.35163174e+00\n",
      " 1.12357952e+00 6.74736714e-02 1.03444354e-01 1.14236566e+00\n",
      " 1.26095787e+00 1.63330602e-01 2.19229798e-02 1.00825400e+00\n",
      " 3.39845136e-01 7.91634667e-01 1.03062202e+00 8.66742243e-01\n",
      " 1.87376611e-01 2.66711576e-01 1.12055321e-01 5.27396020e-01\n",
      " 1.32375587e+00 7.59202388e-01 2.29206106e+00 5.73302726e-01\n",
      " 5.15016224e-01 1.07816977e+00 2.15185855e-01 2.07890358e+00\n",
      " 6.69019471e-01 1.06711104e+00 1.45323375e-01 4.60005852e-01\n",
      " 2.56936327e-01 1.49526119e+00 1.10587788e+00 2.47882451e-01\n",
      " 2.51014240e+00 4.14995791e-01 6.53845053e-01 9.22101229e-01\n",
      " 4.89811890e-01 2.75102581e+00 9.35554962e-01 4.17455138e-01\n",
      " 8.70090521e-02 6.78949904e-01 3.92437068e+00 1.11732969e-01\n",
      " 2.25074414e+00 4.19736338e-01 8.28389786e-01 4.70925343e-01\n",
      " 2.69682946e+00 1.33732018e+00 3.40578205e-01 6.66316735e-01\n",
      " 1.51141260e-01 1.18211215e+00 7.41630230e-02 8.21572717e-01\n",
      " 8.12865989e-03 1.33613913e-01 9.20344826e-01 6.92146411e-01\n",
      " 4.58554661e-02 1.37698729e+00 3.86972429e-01 2.07437951e+00\n",
      " 5.11045586e-01 8.68088025e-01 9.63342473e-03 7.57200432e-02\n",
      " 3.55186706e+00 2.35014131e-01 1.04063527e+00 9.04271929e-01\n",
      " 1.02902803e+00 6.99095453e-01 4.09236438e-02 1.54250819e-01\n",
      " 5.80177935e-01 3.91668605e-01 1.11151019e+00 4.42739651e-01\n",
      " 3.92351034e-01 1.70073236e+00 3.48572421e-01 1.46281157e+00\n",
      " 1.40093562e-01 8.63225526e-01 3.02392909e-01 1.28176773e+00\n",
      " 2.61801776e-01 2.54877740e-01 2.02328348e+00 4.09101174e-01\n",
      " 1.54568685e+00 1.98703300e+00 6.64585818e-01 1.62293994e-01\n",
      " 1.40608521e+00 1.12862946e-01 3.16968365e-01 5.58139313e+00\n",
      " 3.64264051e-01 1.43976516e-01 2.92768006e+00 1.62521217e+00\n",
      " 1.04808323e+00 5.66817492e-01 2.64236686e-01 1.24686600e+00\n",
      " 4.97662758e-01 1.33915126e+01 2.68333364e+00 2.61693217e-01\n",
      " 8.43305268e-01 3.65842820e-01 2.10215794e+00 8.35119940e-02\n",
      " 2.94902955e-01 1.66067057e+00 5.99113287e-02 1.21982698e+00\n",
      " 3.35491310e+00 1.87230310e+00 1.75362783e+00 3.20029641e-01\n",
      " 1.46434134e+00 1.36308386e+00 2.61704528e-01 1.71893212e+00\n",
      " 9.35556189e-01 1.10050319e+00 1.05082743e+00 8.55157829e-01\n",
      " 1.00764351e-01 1.22992661e+00 1.36074074e+00 1.62116118e+00\n",
      " 3.41522728e-01 5.20748607e-02 2.42010364e+00 1.70365760e+00\n",
      " 2.21310980e+00 2.92413071e+00 1.98201658e-01 2.18786391e-01\n",
      " 2.07416785e+00 2.21150599e-01 1.44133538e+00 2.93438831e+00\n",
      " 4.78448420e-02 2.26731884e+00 7.34946091e-03 3.00518423e-02\n",
      " 3.61418508e-02 1.15532713e+00 5.51011447e-01 7.22753768e-02\n",
      " 6.13861140e-01 2.30879757e+00 9.85832055e-02 2.21957003e-01\n",
      " 3.84466126e-01 6.63994076e-01 9.61534801e-01 5.79287790e-01\n",
      " 3.59105772e-01 1.20822624e+00 5.83069782e-01 3.33914793e-01\n",
      " 1.51415985e+00 2.99193816e-01 2.30588789e+00 2.12308160e-01\n",
      " 4.82989426e-01 4.13440531e+00 2.45696796e-01 2.96222903e-02\n",
      " 9.90373697e-01 1.20298969e+00 1.89972597e-01 1.06578659e-01\n",
      " 1.27104080e+00 1.24083991e-01 5.91538635e-01 2.98869270e+00\n",
      " 1.16135397e+00 2.24369211e+00 4.13735277e-01 9.25809972e-01\n",
      " 8.15528379e-01 3.22680648e+00 4.97783268e-01 6.01390264e-01\n",
      " 5.39967406e-01 4.33634261e+00 1.54607987e+00 1.37073370e+00\n",
      " 6.67110043e-01 2.07075456e+00 1.71625528e-01 1.18464231e+00\n",
      " 1.76785532e+00 6.26146993e-01 2.84748625e-02 4.63916101e-02\n",
      " 1.43428276e+00 1.13481430e+00 2.74555020e-01 1.96169238e+00\n",
      " 1.13934366e-01 3.71023913e-01 3.02892408e+00 1.12578131e-01\n",
      " 3.15764746e+00 3.70862457e-02 5.77162379e-02 9.00320992e-01\n",
      " 1.52087972e+00 1.49578834e+00 9.89888167e-01 1.62732444e+00\n",
      " 4.71391229e-01 4.09887705e-01 5.84013257e-01 6.35100848e-01\n",
      " 4.52337107e-01 1.49211495e+00 6.80597485e-02 8.56997749e-01\n",
      " 2.64286132e-01 7.23528520e-01 7.09542441e-01 3.05417781e-01\n",
      " 2.03958504e+00 2.67411375e+00 2.69109964e+00 3.06175320e+00\n",
      " 6.69086124e-01 8.30106150e-02 1.81407344e+00 2.28881538e-01\n",
      " 6.14382617e-01 2.33494315e+00 6.21651549e-01 2.90679172e+00\n",
      " 3.28012522e-01 2.91478120e+00 2.14394606e+00 4.16110314e-01\n",
      " 4.89798888e-01 1.17849385e+00 6.66934916e-02 3.18859102e-02\n",
      " 1.80094413e-03 1.55965324e-01 8.72289124e-01 1.53896883e-01\n",
      " 2.04592445e+00 8.73220780e-01 1.71147893e+00 2.24708759e+00\n",
      " 1.44529504e+00 5.75937799e-01 1.27332730e+00 2.46687500e+00\n",
      " 4.73469615e-01 5.68346085e-01 1.51051934e+00 8.80128334e-01\n",
      " 4.15131095e+00 4.92434972e-01 2.08826989e-01 3.47449610e-01\n",
      " 1.78838832e+00 2.73913553e-01 2.36649265e-01 9.12496668e-01\n",
      " 8.45878415e-02 3.56306280e-02 7.18642007e-01 2.75956058e-01\n",
      " 6.24138259e-01 7.62786294e-01 5.65785892e-01 4.47609988e-01\n",
      " 3.26017389e-01 1.30793262e-01 7.61312216e-01 4.74115721e-01\n",
      " 3.65686013e-01 1.40580548e+00 9.45093093e-01 9.69860049e-01\n",
      " 1.10570520e+00 1.95167119e+00 1.74352357e+00 1.87753910e+00\n",
      " 9.01380672e-02 1.37718640e-02 2.25719134e-01 1.09615737e+00\n",
      " 6.07456510e-01 8.60683293e-01 4.11795655e-01 1.05689992e+00\n",
      " 1.22687405e+00 1.18299235e+00 6.45119903e-01 8.17795666e-01\n",
      " 5.49806438e-01 2.29885005e-01 3.34925834e-01 1.44434376e+00\n",
      " 3.50546237e-01 2.73541526e-01 1.57256434e+00 4.60521622e-01\n",
      " 6.06618848e+00 1.09113006e+00 4.03614250e-01 1.61948566e+00\n",
      " 4.37177386e+00 1.37063165e-01 4.23633786e+00 4.45525044e+00\n",
      " 3.71581569e-02 1.47211510e+00 8.12114162e-01 5.04215762e-01\n",
      " 1.06851575e+00 1.53101979e+00 1.88267175e-01 1.35944638e+00\n",
      " 8.35496457e-01 3.51432624e-01 7.34206823e-01 4.54573595e-01\n",
      " 4.55638595e-01 3.15289617e+00 1.31177135e-01 4.20460409e-01\n",
      " 1.20763355e+00 5.47507199e-01 1.76817303e-01 2.41360847e-01\n",
      " 2.07945962e-01 8.23251963e-01 7.76497882e-01 1.13904566e+00\n",
      " 1.86895841e-01 5.70108472e-01 3.71754589e+00 1.52724803e+00\n",
      " 6.40794696e-01 2.34557759e+00 8.41697535e-01 2.06775635e+00\n",
      " 2.60577983e-01 7.97810799e-01 6.63442306e-01 6.69481968e-02\n",
      " 1.39958122e+00 3.43873814e+00 2.69415210e-01 1.09793124e+00\n",
      " 7.19817680e-01 8.00761777e-03 4.00705909e-01 1.07737807e+00\n",
      " 1.20095885e+00 2.59200705e-01 2.51338728e+00 5.34843771e-01\n",
      " 3.00870056e+00 2.59711429e+00 5.06656813e-01 2.05885737e+00\n",
      " 8.47163753e-01 4.00658965e-01 1.43326299e+00 3.88371773e-01\n",
      " 3.17202725e+00 2.13795822e-01 3.03249591e-01 6.88506612e-01\n",
      " 1.20605586e+00 5.22100875e-01 4.08344108e-02 3.19552273e-01\n",
      " 1.51701889e-01 2.34791290e+00 5.48176150e-01 3.25578349e+00\n",
      " 1.22338738e+00 4.64264432e+00 1.46238564e+00 6.81662127e-01\n",
      " 2.10572351e+00 7.24581454e-01 5.28347301e-01 4.18917402e-01\n",
      " 2.69993054e-01 9.82389409e-01 2.55320617e-01 1.87858899e+00\n",
      " 1.10775728e+00 1.31532417e+00 6.21174882e-01 8.10858479e-01\n",
      " 1.01313982e+00 9.93284330e-01 1.30430069e+00 5.28670046e-01\n",
      " 2.50615196e+00 3.65774939e-01 5.25953909e-01 1.85802325e+00\n",
      " 1.79230860e+00 1.12980712e+00 2.26527730e+00 6.98939766e-02\n",
      " 7.64956888e-02 1.49402957e+00 9.37984864e-01 1.77681193e-01\n",
      " 8.37874842e-01 5.64705746e-01 2.76300060e+00 1.05314862e+00\n",
      " 1.96885154e-01 4.22217809e-01 1.99628036e+00 3.04522502e-01\n",
      " 2.14095861e-01 2.01321485e+00 9.34995206e-03 2.42059359e-01\n",
      " 1.68787899e-02 2.33823198e+00 3.41958899e-01 1.89515244e+00\n",
      " 3.90984729e+00 1.05509173e+00 5.99521390e-01 4.87238040e-01\n",
      " 1.46393978e+00 6.28354499e-01 1.38493966e+00 3.40093209e-01\n",
      " 2.61252779e-01 1.05991292e-01 3.41676528e+00 6.59676444e-01\n",
      " 6.20780140e-01 1.67102995e+00 2.25322384e+00 1.52837446e+00\n",
      " 1.00354686e+00 6.47368750e-02 1.49931402e+00 1.03702785e-01\n",
      " 5.01806810e-01 1.72526633e-01 2.66830855e-01 8.59408526e-01\n",
      " 2.80858712e-01 9.42744141e-01 1.41712382e+00 2.73912137e-01\n",
      " 1.02014066e+00 4.85667489e-01 1.21862261e+00 3.27712493e-02\n",
      " 6.45155731e-01 8.45854310e-01 5.35437060e-01 1.23642092e-01\n",
      " 8.92833842e-01 1.38295165e+00 7.92277237e-01 4.97851366e-01\n",
      " 3.56102466e-02 1.70465884e-01 6.40299629e-01 1.75176670e+00\n",
      " 2.15805409e+00 6.23293430e-01 3.70340826e-01 6.80130481e-01\n",
      " 2.89261504e-01 8.07074152e-01 2.76800583e-01 2.05693033e-01\n",
      " 5.95855172e-01 5.90073744e-01 5.78290136e-02 2.67404978e-01\n",
      " 1.62387368e-01 7.80575037e-01 6.05859387e-01 1.30702023e+00\n",
      " 8.98497057e-02 2.05505841e-01 8.09503059e-01 2.55573769e+00\n",
      " 6.16907671e-01 3.08522808e+00 1.07793340e+00 5.44967141e-01\n",
      " 1.61430229e+00 5.22033961e-01 2.33592381e+00 1.98081334e-01\n",
      " 2.37629440e+00 1.37878671e-01 2.47409096e-01 2.96680010e+00\n",
      " 1.23572316e-01 1.43433089e+00 1.98275183e+00 5.27227440e-01\n",
      " 6.15837777e-01 1.85478872e+00 5.77891174e-01 3.53779316e-01\n",
      " 1.11605181e+00 2.12360232e+00 4.84122058e-01 1.52359282e-01\n",
      " 5.38456195e-02 6.39464434e-01 3.06227155e-01 1.20761476e+00\n",
      " 4.74760579e-01 1.27322563e+00 2.46690154e+00 2.68356662e-01\n",
      " 8.49744833e-01 8.15479635e-01 2.44765242e+00 7.29916588e-01\n",
      " 6.65867221e-01 8.03737510e-02 2.96052990e-01 1.46858646e-01\n",
      " 1.32927719e-01 7.28907366e-02 3.41812192e-01 1.09038893e+00\n",
      " 4.40832288e-01 1.59034320e+00 3.83874672e-01 9.47393315e-01\n",
      " 3.84552377e-01 1.21123033e+00 1.36098207e+00 2.70806083e+00\n",
      " 1.55900646e+00 2.70212151e-02 2.29750262e-01 7.98491711e-01\n",
      " 2.54789732e-01 1.32469148e+00 6.13087396e-01 5.15563759e-01\n",
      " 1.45783230e+00 2.47452679e-01 4.41804258e-02 7.15726788e-01\n",
      " 3.21578654e-01 4.33318062e-01 4.29975394e-01 7.05051306e-01\n",
      " 8.01451665e-01 2.96020186e-01 2.08481256e-01 1.78353858e-02\n",
      " 1.35013710e+00 4.53243900e-01 1.39356713e-01 2.27210263e+00\n",
      " 2.60438742e+00 1.22135904e+00 1.07202211e+00 9.24251737e-01\n",
      " 7.35011152e-02 1.56939103e+00 1.48286304e+00 1.01124510e-01\n",
      " 2.59478236e+00 1.11106833e+00 2.92809503e-01 1.98346646e+00\n",
      " 3.76792342e+00 1.52235394e-01 6.68479520e-01 7.11060626e-02\n",
      " 1.87795033e+00 1.20986524e+00 2.49240231e+00 9.99208934e-01\n",
      " 6.88212167e-01 1.44454358e+00 1.18618553e-01 4.12342804e-01\n",
      " 3.27240214e-01 8.30650442e-02 1.14172595e+00 2.11736766e+00\n",
      " 1.90339913e-01 5.59965322e-01 5.01595213e-01 9.33590457e-01\n",
      " 1.41793568e-01 3.23505204e-02 2.33843482e-01 8.43972512e-01\n",
      " 5.88958969e-01 4.18129598e-01 1.39536710e-01 6.77947408e-01\n",
      " 1.99594284e+00 2.54357496e-01 2.15792496e+00 1.09507059e+00\n",
      " 1.77780206e+00 2.87941554e-02 9.98091017e-02 1.07092621e+00\n",
      " 1.46030015e+00 2.69694182e-01 5.70546167e-02 2.87966385e-01\n",
      " 4.21129131e-01 3.45501919e+00 2.06609537e+00 1.43544260e+00\n",
      " 4.17487628e+00 7.89931244e-01 5.73879400e-01 1.79482378e+00\n",
      " 1.86993714e-01 9.73206190e-01 4.76818881e-01 1.08109247e-01\n",
      " 8.73630572e-02 1.25072974e+00 2.45247537e+00 1.91598835e+00\n",
      " 6.30509899e-01 1.79652359e+00 5.54855130e-01 5.57006900e-01\n",
      " 2.02968115e+00 2.18948230e-01 7.62453099e-01 1.48769160e+00\n",
      " 2.95901711e-02 6.16708363e-01 2.13516599e-01 1.16539254e+00\n",
      " 6.49930378e-01 7.95881168e-01 1.07023025e-01 1.34336526e+00\n",
      " 1.87527658e-01 7.62025928e-02 3.47414841e-01 4.40183048e-01\n",
      " 1.47533291e+00 8.49784013e-01 8.36950854e-01 7.07878549e-01\n",
      " 6.82846523e-01 8.25723128e-01 9.36852823e-02 1.27242032e+00\n",
      " 6.61677551e-01 1.83459929e+00 9.48856791e-01 2.05798848e-01\n",
      " 7.22756361e-01 1.14619951e+00 4.56054750e-01 2.29595900e-01\n",
      " 6.09407280e-01 1.08091228e+00 1.23576665e-02 3.91737373e-01\n",
      " 3.81945239e-01 4.27716834e+00 4.55408185e-01 7.26007147e-01\n",
      " 5.06872672e-01 4.59795843e-01 1.02516894e+00 1.98155001e+00\n",
      " 7.47103785e-01 9.69380700e-01 2.32741621e+00 3.58732554e+00\n",
      " 9.08008821e-01 9.05427905e-01 1.96934442e+00 1.68837086e+00\n",
      " 3.76612268e-01 7.75090772e-01 8.47173011e-01 1.84914737e+00\n",
      " 2.58083765e-02 3.33229960e-01 1.53307637e-01 1.33370119e+00\n",
      " 6.21710281e-01 5.69112978e-01 5.62028544e-01 8.83280059e-01\n",
      " 1.09960744e+00 2.90666260e+00 1.14897281e-01 1.49384921e-01\n",
      " 1.26391192e-01 1.45706356e+00 2.40457555e+00 1.20398557e-01\n",
      " 2.94699119e-01 6.14751159e-01 5.86242150e-02 4.69704039e-02\n",
      " 2.24196035e+00 1.43248570e-01 3.12615640e+00 2.65763429e-01\n",
      " 6.43786240e-01 3.14327983e-01 4.23129454e-01 7.04765456e-01\n",
      " 4.52780988e-01 8.70297019e-01 1.33548357e+00 2.11711577e+00\n",
      " 1.29221839e+00 2.69304252e-01 2.14492923e-01 1.34585205e+00\n",
      " 7.78340406e-01 3.83398882e-02 1.22700304e+00 3.33008514e-01\n",
      " 7.65833598e-01 1.08011115e+00 1.91425955e+00 8.82058644e-03\n",
      " 9.02151579e-01 3.48061537e-01 1.19671319e+00 3.20147457e+00\n",
      " 5.44063322e-01 2.31746583e-02 5.87417301e-01 5.23850862e-02\n",
      " 1.62428569e-01 1.69534364e-01 1.52014841e+00 9.98614282e-01\n",
      " 1.46924491e+00 1.57312325e+00 2.21810002e+00 2.26745238e-01\n",
      " 2.32936799e+00 1.99325813e-01 1.60212847e-01 2.02145443e-01\n",
      " 1.84202809e-01 1.15943279e+00 2.22310615e+00 7.89827695e-02\n",
      " 7.07760240e-01 5.34522935e-01 6.83984841e-01 9.53454886e-01\n",
      " 1.36573741e+00 5.90338018e-01 2.11704947e+00 8.51029484e-01\n",
      " 2.81781414e-01 9.65119150e-01 4.63540395e-01 2.13676545e-02\n",
      " 1.20574884e-01 2.28698620e-02 6.85137515e-01 7.50632637e-01\n",
      " 1.07458943e-01 4.40272393e-01 8.16419316e-01 8.60491714e-01\n",
      " 4.33898784e-01 3.60127560e-01 2.53033387e+00 5.42040573e-01\n",
      " 1.37761229e+00 2.76071982e+00 1.04864316e+00 3.04171157e-01\n",
      " 4.58479926e-01 1.40371439e+00 1.13516016e-02 3.44794711e+00\n",
      " 2.03905953e+00 1.08923094e+00 2.35091812e+00 4.08658006e+00\n",
      " 2.71802884e-01 3.23456570e-01 1.52679211e+00 3.33471432e-01\n",
      " 9.54196348e-01 1.08949304e+00 4.77095150e-01 3.38741722e-02\n",
      " 3.90956084e+00 6.51960990e-02 4.41897794e-01 9.69128445e-01\n",
      " 5.65325347e-01 3.89904842e-01 5.48370559e-01 6.92081620e-01\n",
      " 1.10239130e+00 2.78281621e+00 3.58938936e-01 5.59237650e-01\n",
      " 3.29113934e-01 1.26960989e+00 6.06133791e-01 2.60745192e-01\n",
      " 5.61011368e-01 2.93828396e+00 6.26157527e-01 1.92894378e-01\n",
      " 4.64080304e-01 1.13584030e+00 1.36358658e-01 2.17489716e+00\n",
      " 1.02307403e+00 1.18381654e+00 1.41032976e-01 1.31752592e+00\n",
      " 8.69159628e-01 2.05168131e+00 2.33257642e-01 2.19634476e+00\n",
      " 3.25371742e-02 3.22964062e-01 1.08568733e+00 1.48374780e+00\n",
      " 2.06749846e-01 9.51886977e-01 4.13844110e-02 5.47107918e-01\n",
      " 3.07421555e-01 7.71929525e-01 3.21546465e-01 7.37762908e-01\n",
      " 4.28145160e+00 1.69869422e+00 1.03613899e-01 8.15708475e-01\n",
      " 2.56016566e-01 1.87689031e+00 1.00481877e+00 1.29329954e-01\n",
      " 1.14259421e+00 4.54223157e-01 1.99207321e-01 8.17800854e-01\n",
      " 2.63358802e-01 7.13314171e-02 1.13422420e+00 1.98473036e+00\n",
      " 3.11089308e-01 2.19640919e+00 4.31884186e-01 2.16377813e+00\n",
      " 2.27828494e-01 4.62122796e-01 3.62712335e-01 8.86039388e-02\n",
      " 4.71740644e-02 1.53548664e+00 1.41626601e+00 1.12726525e+00\n",
      " 1.12389936e+00 3.41530723e-01 1.99715753e+00 3.30353159e-01\n",
      " 1.23223606e+00 4.15899201e-01 8.01571356e-01 1.51651422e+00\n",
      " 1.03931483e-01 9.75458107e-01 2.53057729e+00 1.30019420e-01\n",
      " 5.63333109e-01 8.33427976e-01 1.25035519e+00 8.00711534e-01\n",
      " 4.36276546e-01 2.37412202e+00 3.13353081e-01 3.83853481e-01\n",
      " 3.43402506e-01 8.60091319e-01 1.30798490e+00 5.26443673e-01\n",
      " 6.48222528e-01 1.71205138e-01 1.33286676e+00 1.72335162e+00\n",
      " 2.08379563e-03 1.80650051e+00 1.08538050e+00 2.65833634e+00\n",
      " 4.17137438e-01 2.93678319e-01 1.92626771e+00 1.63423898e+00]\n"
     ]
    },
    {
     "data": {
      "text/plain": [
       "(array([0.008, 0.183, 0.266, 0.213, 0.145, 0.082, 0.047, 0.035, 0.013,\n",
       "        0.005, 0.003, 0.   , 0.   , 0.   , 0.   , 0.   , 0.   , 0.   ,\n",
       "        0.   , 0.   , 0.   , 0.   , 0.   , 0.   , 0.   , 0.   , 0.   ,\n",
       "        0.   , 0.   , 0.   , 0.   , 0.   , 0.   , 0.   , 0.   , 0.   ,\n",
       "        0.   , 0.   , 0.   , 0.   , 0.   , 0.   , 0.   , 0.   , 0.   ,\n",
       "        0.   , 0.   , 0.   , 0.   , 0.   , 0.   , 0.   , 0.   , 0.   ,\n",
       "        0.   , 0.   , 0.   , 0.   , 0.   , 0.   , 0.   , 0.   , 0.   ,\n",
       "        0.   , 0.   , 0.   , 0.   , 0.   , 0.   , 0.   , 0.   , 0.   ,\n",
       "        0.   , 0.   , 0.   , 0.   , 0.   , 0.   , 0.   , 0.   , 0.   ,\n",
       "        0.   , 0.   , 0.   , 0.   , 0.   , 0.   , 0.   , 0.   , 0.   ,\n",
       "        0.   , 0.   , 0.   , 0.   , 0.   , 0.   , 0.   , 0.   , 0.   ,\n",
       "        0.   , 0.   ]),\n",
       " array([ -0.5,   0.5,   1.5,   2.5,   3.5,   4.5,   5.5,   6.5,   7.5,\n",
       "          8.5,   9.5,  10.5,  11.5,  12.5,  13.5,  14.5,  15.5,  16.5,\n",
       "         17.5,  18.5,  19.5,  20.5,  21.5,  22.5,  23.5,  24.5,  25.5,\n",
       "         26.5,  27.5,  28.5,  29.5,  30.5,  31.5,  32.5,  33.5,  34.5,\n",
       "         35.5,  36.5,  37.5,  38.5,  39.5,  40.5,  41.5,  42.5,  43.5,\n",
       "         44.5,  45.5,  46.5,  47.5,  48.5,  49.5,  50.5,  51.5,  52.5,\n",
       "         53.5,  54.5,  55.5,  56.5,  57.5,  58.5,  59.5,  60.5,  61.5,\n",
       "         62.5,  63.5,  64.5,  65.5,  66.5,  67.5,  68.5,  69.5,  70.5,\n",
       "         71.5,  72.5,  73.5,  74.5,  75.5,  76.5,  77.5,  78.5,  79.5,\n",
       "         80.5,  81.5,  82.5,  83.5,  84.5,  85.5,  86.5,  87.5,  88.5,\n",
       "         89.5,  90.5,  91.5,  92.5,  93.5,  94.5,  95.5,  96.5,  97.5,\n",
       "         98.5,  99.5, 100.5]),\n",
       " <a list of 101 Patch objects>)"
      ]
     },
     "execution_count": 56,
     "metadata": {},
     "output_type": "execute_result"
    },
    {
     "data": {
      "image/png": "[encoded data removed]",
      "text/plain": [
       "<Figure size 432x288 with 1 Axes>"
      ]
     },
     "metadata": {
      "needs_background": "light"
     },
     "output_type": "display_data"
    }
   ],
   "source": [
    "import scipy.stats as st\n",
    "import matplotlib.pyplot as plt\n",
    "import numpy as np\n",
    "import random\n",
    "from scipy.stats import expon\n",
    "\n",
    "𝜆 = 0.1\n",
    "T = expon.rvs(size=1000)\n",
    "print(T)\n",
    "\n",
    "x = np.linspace(expon.ppf(0.01),expon.ppf(0.99), 1000)\n",
    "plt.plot(x, expon.pdf(x),'b-', lw=5, alpha=0.99, label='expon pdf')\n",
    "plt.hist(r,bins=n+1,density=1,range=(-.5,n+.5),\\\n",
    "         color=\"black\",label=\"loi empirique\")"
   ]
  },
  {
   "cell_type": "markdown",
   "metadata": {},
   "source": [
    "#### Exercice 2 - Simulation de lois normales\n",
    "1. Générer N = 1 000 nombres aléatoires issus d'une distribution Normale de paramètre $\\mu = 3$ et $\\sigma = 0.5$. \n",
    "   Afficher la fonction de densite correspondante. La comparer à celle théorique\n",
    "   \n",
    "2. Afficher sa moyenne et sa variance.Comparer les résultats à ceux de la distribution théorique.\n",
    "\n",
    "3. Afficher la fonction de répartition de la distribution théorique \n",
    "\n",
    "4. Tracer la fonction de densité pour de nouvelles valeurs de N, $\\mu$ et $\\sigma$\n",
    "\n",
    "    5) A l'aide de simulations, vérifier que la loi binomiale de paramètres n,p peut être approximée par une loi normale $N\\left(np, np(1-p)\\right)$. Tester les paramètres suivants : \n",
    "- n = 100, p = 0.5\n",
    "- n = 20, p = 0.08\n",
    "- n = 1000, p = 0.05\n",
    "- n = 100, p = 0.02\n",
    "\n",
    "- Quelles sont les conditions sur les paramètres n et p pour que cette approximation soit valable?"
   ]
  },
  {
   "cell_type": "code",
   "execution_count": 6,
   "metadata": {},
   "outputs": [
    {
     "name": "stderr",
     "output_type": "stream",
     "text": [
      "C:\\ProgramData\\Anaconda3\\lib\\site-packages\\ipykernel_launcher.py:6: MatplotlibDeprecationWarning: \n",
      "The 'normed' kwarg was deprecated in Matplotlib 2.1 and will be removed in 3.1. Use 'density' instead.\n",
      "  \n"
     ]
    },
    {
     "data": {
      "image/png": "[encoded data removed]",
      "text/plain": [
       "<Figure size 432x288 with 1 Axes>"
      ]
     },
     "metadata": {
      "needs_background": "light"
     },
     "output_type": "display_data"
    }
   ],
   "source": [
    "import numpy as np\n",
    "import matplotlib.pyplot as plt\n",
    "mu = 3.0\n",
    "sigma = 0.5\n",
    "data = np.random.randn(1000)*sigma + mu\n",
    "hx, hy, _ = plt.hist(data, bins=50, normed=1,color=\"lightblue\")\n",
    "plt.ylim(0.0,max(hx)+0.05)\n",
    "plt.title('Generate random numbers \\n from a normal distribution with python')\n",
    "plt.grid()\n",
    "plt.savefig(\"numpy_random_numbers_normal_distribution.png\", bbox_inches='tight')\n",
    "plt.show()"
   ]
  },
  {
   "cell_type": "code",
   "execution_count": 31,
   "metadata": {},
   "outputs": [
    {
     "name": "stdout",
     "output_type": "stream",
     "text": [
      "loi normale theorique 4.4610075635444707e-05\n"
     ]
    }
   ],
   "source": [
    "from math import sqrt\n",
    "import math\n",
    "import numpy\n",
    "pi=3.1415926\n",
    "mu =3\n",
    "x=2\n",
    "sigma=0.5\n",
    "value=1/(3*numpy.sqrt(2*pi))*numpy.exp(-1/2*(x-mu/sigma)*(x-mu/sigma))\n",
    "print(\"loi normale theorique\",value)"
   ]
  },
  {
   "cell_type": "code",
   "execution_count": 34,
   "metadata": {},
   "outputs": [
    {
     "name": "stdout",
     "output_type": "stream",
     "text": [
      "esperence= 3\n",
      "variance= 0.25\n"
     ]
    }
   ],
   "source": [
    "mu =3\n",
    "Esperance=mu\n",
    "print(\"esperence=\",Esperance)\n",
    "variance=sigma*sigma\n",
    "print(\"variance=\",variance)"
   ]
  },
  {
   "cell_type": "code",
   "execution_count": null,
   "metadata": {},
   "outputs": [],
   "source": [
    "Tracer la fonction de densité pour de nouvelles valeurs de N, 𝜇 et 𝜎"
   ]
  },
  {
   "cell_type": "code",
   "execution_count": 63,
   "metadata": {},
   "outputs": [
    {
     "name": "stderr",
     "output_type": "stream",
     "text": [
      "C:\\ProgramData\\Anaconda3\\lib\\site-packages\\ipykernel_launcher.py:6: MatplotlibDeprecationWarning: \n",
      "The 'normed' kwarg was deprecated in Matplotlib 2.1 and will be removed in 3.1. Use 'density' instead.\n",
      "  \n"
     ]
    },
    {
     "data": {
      "image/png": "[encoded data removed]",
      "text/plain": [
       "<Figure size 432x288 with 1 Axes>"
      ]
     },
     "metadata": {
      "needs_background": "light"
     },
     "output_type": "display_data"
    }
   ],
   "source": [
    "import numpy as np\n",
    "import matplotlib.pyplot as plt\n",
    "mu = 10\n",
    "sigma = 0.8\n",
    "data = np.random.randn(1500)*sigma + mu\n",
    "hx, hy, _ = plt.hist(data, bins=50, normed=1,color=\"lightblue\")\n",
    "plt.ylim(0.0,max(hx)+0.05)\n",
    "plt.title('Generate random numbers \\n from a normal distribution with python')\n",
    "plt.grid()\n",
    "plt.savefig(\"numpy_random_numbers_normal_distribution.png\", bbox_inches='tight')\n",
    "plt.show()"
   ]
  },
  {
   "cell_type": "code",
   "execution_count": 36,
   "metadata": {},
   "outputs": [
    {
     "name": "stderr",
     "output_type": "stream",
     "text": [
      "C:\\ProgramData\\Anaconda3\\lib\\site-packages\\ipykernel_launcher.py:6: MatplotlibDeprecationWarning: \n",
      "The 'normed' kwarg was deprecated in Matplotlib 2.1 and will be removed in 3.1. Use 'density' instead.\n",
      "  \n"
     ]
    },
    {
     "data": {
      "image/png": "[encoded data removed]",
      "text/plain": [
       "<Figure size 432x288 with 1 Axes>"
      ]
     },
     "metadata": {
      "needs_background": "light"
     },
     "output_type": "display_data"
    }
   ],
   "source": [
    "import numpy as np\n",
    "import matplotlib.pyplot as plt\n",
    "mu = 4.5\n",
    "sigma = 0.75\n",
    "data = np.random.randn(1500)*sigma + mu\n",
    "hx, hy, _= plt.hist(data, bins=50, normed=1,color=\"lightblue\")\n",
    "plt.ylim(0.0,max(hx)+0.05)\n",
    "plt.title('Generate random numbers \\n from a normal distribution with python')\n",
    "plt.grid()\n",
    "plt.savefig(\"numpy_random_numbers_normal_distribution.png\", bbox_inches='tight')\n",
    "plt.show()\n"
   ]
  },
  {
   "cell_type": "markdown",
   "metadata": {},
   "source": [
    "5) A l'aide de simulations, vérifier que la loi binomiale de paramètres n,p \n",
    "peut être approximée par une loi normale 𝑁(𝑛𝑝,𝑛𝑝(1−𝑝)). Tester les paramètres suivants :"
   ]
  },
  {
   "cell_type": "code",
   "execution_count": 37,
   "metadata": {},
   "outputs": [
    {
     "name": "stdout",
     "output_type": "stream",
     "text": [
      "esperence= 50.0\n",
      "variance= 25.0\n"
     ]
    }
   ],
   "source": [
    "n=100\n",
    "p=0.5\n",
    "Esperance=n*p\n",
    "print(\"esperence=\",Esperance)\n",
    "sigma=sqrt(n*p*(1-p))\n",
    "variance=sigma*sigma\n",
    "print(\"variance=\",variance)"
   ]
  },
  {
   "cell_type": "code",
   "execution_count": 38,
   "metadata": {},
   "outputs": [
    {
     "name": "stdout",
     "output_type": "stream",
     "text": [
      "esperence= 1.6\n",
      "variance= 1.4720000000000002\n"
     ]
    }
   ],
   "source": [
    "n=20\n",
    "p=0.08\n",
    "Esperance=n*p\n",
    "print(\"esperence=\",Esperance)\n",
    "sigma=sqrt(n*p*(1-p))\n",
    "variance=sigma*sigma\n",
    "print(\"variance=\",variance)"
   ]
  },
  {
   "cell_type": "code",
   "execution_count": 40,
   "metadata": {},
   "outputs": [
    {
     "name": "stdout",
     "output_type": "stream",
     "text": [
      "esperence= 50.0\n",
      "variance= 47.5\n"
     ]
    }
   ],
   "source": [
    "n=1000\n",
    "p=0.05\n",
    "Esperance=n*p\n",
    "print(\"esperence=\",Esperance)\n",
    "sigma=sqrt(n*p*(1-p))\n",
    "variance=sigma*sigma\n",
    "print(\"variance=\",variance)"
   ]
  },
  {
   "cell_type": "code",
   "execution_count": 41,
   "metadata": {},
   "outputs": [
    {
     "name": "stdout",
     "output_type": "stream",
     "text": [
      "esperence= 2.0\n",
      "variance= 1.9599999999999997\n"
     ]
    }
   ],
   "source": [
    "n=100\n",
    "p=0.02\n",
    "Esperance=n*p\n",
    "print(\"esperence=\",Esperance)\n",
    "sigma=sqrt(n*p*(1-p))\n",
    "variance=sigma*sigma\n",
    "print(\"variance=\",variance)"
   ]
  },
  {
   "cell_type": "code",
   "execution_count": null,
   "metadata": {},
   "outputs": [],
   "source": [
    "n=100\n",
    "p=0.02\n",
    "Esperance=n*p\n",
    "print(\"esperence=\",Esperance)\n",
    "sigma=sqrt(n*p*(1-p))\n",
    "variance=sigma*sigma\n",
    "print(\"variance=\",variance)"
   ]
  },
  {
   "cell_type": "code",
   "execution_count": null,
   "metadata": {},
   "outputs": [],
   "source": [
    "if n>=30 and n*p>=10 n*(1-p)>=5\n",
    "   "
   ]
  },
  {
   "cell_type": "markdown",
   "metadata": {},
   "source": [
    "#### Exercice 3 -  Simulation de lois Gamma\n",
    "\n",
    "1. Générer  N = 1 000 nombres aléatoires issus d'une distribution Gamma de paramètres a = 3 et $\\theta$ = 2. \n",
    " Afficher la fonction de densite correspondante. La comparer à celle théorique\n",
    "   \n",
    "2. Afficher sa moyenne et sa variance.Comparer les résultats à ceux de la distribution théorique.\n",
    "\n",
    "3. Afficher la fonction de répartition de la distribution théorique \n",
    "\n",
    "4. Tracer la fonction de densité pour de nouvelles valeurs de N, $a$ et $\\theta$"
   ]
  },
  {
   "cell_type": "code",
   "execution_count": 68,
   "metadata": {},
   "outputs": [
    {
     "name": "stderr",
     "output_type": "stream",
     "text": [
      "No handles with labels found to put in legend.\n"
     ]
    },
    {
     "data": {
      "image/png": "[encoded data removed]",
      "text/plain": [
       "<Figure size 432x288 with 1 Axes>"
      ]
     },
     "metadata": {
      "needs_background": "light"
     },
     "output_type": "display_data"
    }
   ],
   "source": [
    "from scipy.stats import gamma\n",
    "import matplotlib.pyplot as plt\n",
    "fig, ax = plt.subplots(1, 1)\n",
    "r = gamma.rvs(a, size=1000)\n",
    "#print(r)\n",
    "ax.hist(r, density=True, histtype='stepfilled', alpha=0.2)\n",
    "ax.legend(loc='best', frameon=False)\n",
    "plt.show()"
   ]
  },
  {
   "cell_type": "code",
   "execution_count": 70,
   "metadata": {},
   "outputs": [
    {
     "data": {
      "application/vnd.jupyter.widget-view+json": {
       "model_id": "eea52b3b2aa44665b19b98e79d2a4caf",
       "version_major": 2,
       "version_minor": 0
      },
      "text/plain": [
       "interactive(children=(IntSlider(value=3, description='a', max=9, min=-3), IntSlider(value=2, description='θ', …"
      ]
     },
     "metadata": {},
     "output_type": "display_data"
    }
   ],
   "source": [
    "\n",
    "import ipywidgets as widgets\n",
    "from scipy.stats import gamma\n",
    "@widgets.interact(a=3,𝜃=2,N=1000)\n",
    "def gam(a,𝜃,N=100):\n",
    "    x=np.linspace(gamma.ppf(0.01,a),gamma.ppf(0.99,a),100)\n",
    "    plt.stem(x,gamma.pdf(x,a),label='pmf théorique',use_line_collection=True)\n",
    "    \n",
    "    a=1.99\n",
    "    data=gamma.rvs(a)\n",
    "    mean,var=gamma.stats(a,moments='mv')\n",
    "    print('moyenne et variance empiriques=',np.mean(data),np.var(data),'théorique=',mean,var)\n",
    "    \n",
    "    plt.plot(gamma.cdf(x,a),'-b',label='cdf')\n",
    "    plt.legend()"
   ]
  },
  {
   "cell_type": "code",
   "execution_count": 44,
   "metadata": {},
   "outputs": [
    {
     "name": "stdout",
     "output_type": "stream",
     "text": [
      "esperence= 6\n",
      "variance= 12\n"
     ]
    }
   ],
   "source": [
    "k=3\n",
    "teta=2\n",
    "Esperance=k*teta\n",
    "print(\"esperence=\",Esperance)\n",
    "variance=k*teta*teta\n",
    "print(\"variance=\",variance)"
   ]
  },
  {
   "cell_type": "code",
   "execution_count": 66,
   "metadata": {},
   "outputs": [
    {
     "ename": "NameError",
     "evalue": "name 'exp' is not defined",
     "output_type": "error",
     "traceback": [
      "\u001b[1;31m---------------------------------------------------------------------------\u001b[0m",
      "\u001b[1;31mNameError\u001b[0m                                 Traceback (most recent call last)",
      "\u001b[1;32m<ipython-input-66-29456f5627c0>\u001b[0m in \u001b[0;36m<module>\u001b[1;34m\u001b[0m\n\u001b[0;32m      4\u001b[0m \u001b[0mk\u001b[0m\u001b[1;33m=\u001b[0m\u001b[1;36m3\u001b[0m\u001b[1;33m\u001b[0m\u001b[1;33m\u001b[0m\u001b[0m\n\u001b[0;32m      5\u001b[0m \u001b[0mx\u001b[0m\u001b[1;33m=\u001b[0m\u001b[1;36m2\u001b[0m\u001b[1;33m\u001b[0m\u001b[1;33m\u001b[0m\u001b[0m\n\u001b[1;32m----> 6\u001b[1;33m \u001b[0mvalue\u001b[0m\u001b[1;33m=\u001b[0m \u001b[0mx\u001b[0m\u001b[1;33m**\u001b[0m\u001b[1;33m(\u001b[0m\u001b[0mk\u001b[0m\u001b[1;33m-\u001b[0m\u001b[1;36m1\u001b[0m\u001b[1;33m)\u001b[0m\u001b[1;33m*\u001b[0m\u001b[0mexp\u001b[0m\u001b[1;33m(\u001b[0m\u001b[1;33m*\u001b[0m\u001b[1;33m(\u001b[0m\u001b[1;33m-\u001b[0m\u001b[0mx\u001b[0m\u001b[1;33m/\u001b[0m\u001b[0mteta\u001b[0m\u001b[1;33m)\u001b[0m\u001b[1;33m/\u001b[0m\u001b[1;33m(\u001b[0m\u001b[0mteta\u001b[0m\u001b[1;33m*\u001b[0m\u001b[1;33m(\u001b[0m\u001b[0mk\u001b[0m\u001b[1;33m)\u001b[0m\u001b[1;33m)\u001b[0m\u001b[1;33m)\u001b[0m\u001b[1;33m\u001b[0m\u001b[1;33m\u001b[0m\u001b[0m\n\u001b[0m\u001b[0;32m      7\u001b[0m \u001b[0mprint\u001b[0m\u001b[1;33m(\u001b[0m\u001b[0mvalue\u001b[0m\u001b[1;33m)\u001b[0m\u001b[1;33m\u001b[0m\u001b[1;33m\u001b[0m\u001b[0m\n",
      "\u001b[1;31mNameError\u001b[0m: name 'exp' is not defined"
     ]
    }
   ],
   "source": [
    "import numpy\n",
    "import math\n",
    "teta=2\n",
    "k=3\n",
    "x=2\n",
    "value= x**(k-1)*exp(*(-x/teta)/(teta*(k)))\n",
    "print(value)"
   ]
  },
  {
   "cell_type": "markdown",
   "metadata": {},
   "source": [
    "Afficher la fonction de répartition de la distribution théorique "
   ]
  },
  {
   "cell_type": "markdown",
   "metadata": {},
   "source": [
    "#### Exercice 4 -  Simulation de lois Beta\n",
    "\n",
    "1. Générer  N = 1 000 nombres aléatoires issus d'une distribution Beta de paramètres $\\alpha$  = 3 et $\\beta$ = 2. \n",
    " Afficher la fonction de densite correspondante. La comparer à celle théorique\n",
    "   \n",
    "2. Afficher sa moyenne et sa variance.Comparer les résultats à ceux de la distribution théorique.\n",
    "\n",
    "3. Afficher la fonction de répartition de la distribution théorique \n",
    "\n",
    "4. Tracer la fonction de densité pour de nouvelles valeurs de N, $\\alpha$ et $\\beta$"
   ]
  },
  {
   "cell_type": "code",
   "execution_count": 73,
   "metadata": {},
   "outputs": [
    {
     "data": {
      "application/vnd.jupyter.widget-view+json": {
       "model_id": "bd2af5f60d174d3dbe0aa58db4d5bec7",
       "version_major": 2,
       "version_minor": 0
      },
      "text/plain": [
       "interactive(children=(IntSlider(value=3, description='a', max=9, min=-3), IntSlider(value=2, description='b', …"
      ]
     },
     "metadata": {},
     "output_type": "display_data"
    }
   ],
   "source": [
    "\n",
    "from __future__ import division\n",
    "import numpy as np\n",
    "import numpy.random as npr\n",
    "import scipy.stats as sps\n",
    "import matplotlib.pyplot as plt    \n",
    "from scipy.stats import beta\n",
    "@widgets.interact(a=3,b=2,N=1000)\n",
    "def betas(a,b,N=100):\n",
    "    x=np.linspace(beta.ppf(0.01,a, b),beta.ppf(0.99,a, b),100)\n",
    "    plt.stem(x,beta.pdf(x,a, b),label='pmf théorique',use_line_collection=True)\n",
    "    \n",
    "    a=1.99\n",
    "    data=beta.rvs(a,b)\n",
    "    mean,var=beta.stats(a,b,moments='mv')\n",
    "    print('moyenne et variance empiriques=',np.mean(data),np.var(data),'théorique=',mean,var)\n",
    "    \n",
    "    plt.plot(beta.cdf(x,a,b),'-r',label='cdf')\n",
    "    plt.legend()"
   ]
  },
  {
   "cell_type": "code",
   "execution_count": null,
   "metadata": {},
   "outputs": [],
   "source": []
  }
 ],
 "metadata": {
  "kernelspec": {
   "display_name": "Python 3",
   "language": "python",
   "name": "python3"
  },
  "language_info": {
   "codemirror_mode": {
    "name": "ipython",
    "version": 3
   },
   "file_extension": ".py",
   "mimetype": "text/x-python",
   "name": "python",
   "nbconvert_exporter": "python",
   "pygments_lexer": "ipython3",
   "version": "3.7.4"
  }
 },
 "nbformat": 4,
 "nbformat_minor": 2
}
