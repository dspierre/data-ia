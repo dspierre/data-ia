{
 "cells": [
  {
   "cell_type": "markdown",
   "metadata": {},
   "source": [
    "###  veille  Méthode de Régularisation Lasso / Ridge / ElasticNet"
   ]
  },
  {
   "cell_type": "markdown",
   "metadata": {},
   "source": [
    " ### Méthode de Régularisation"
   ]
  },
  {
   "cell_type": "code",
   "execution_count": null,
   "metadata": {},
   "outputs": [],
   "source": [
    "Nous allons étudier les différents modeles de régularisation "
   ]
  },
  {
   "cell_type": "markdown",
   "metadata": {},
   "source": [
    "## Methode Ridge"
   ]
  },
  {
   "cell_type": "markdown",
   "metadata": {},
   "source": [
    "Methode Ridge : \n",
    "Ajouter une contrainte sur les coefficients lors de la modélisation pour maîtriser l’amplitude de leurs valeurs\n",
    "min𝛽1,⋯,𝛽𝑝$\\sum_{i=1}^{n}(yi$−$\\sum{𝑗=1}^{𝑝}𝛽𝑗$$𝑧{𝑖𝑗}$)$^{2}$\n",
    "Sous la contrainte $\\sum{j=1}^{p}𝛽𝑗^{2}≤𝜏$\n",
    "Norme L2𝛽($\\sum{j=1}^{p}𝛽^{2}{j}$\n",
    "$\\tau$($\\tau≥ 0$) est un paramètre à fixer\n",
    "on parle de Shrinkage (rétrécissement) : on rétrécit les plages de valeur que peuvent prenre les paramètres estimés. \n",
    "les variable xj doivent être centré et réduite (zj) pour éviter que les variable à forte variance aient trop d'influence\n",
    "la variable cible y doit être centrée pour évacuer la constante de la régression (qui ne doit pas être pénalisée), la cible y peut être éventuellement réduite aussi : on travaille dans ce cas sur les paramètre 𝛽j\n",
    "($\\tau$→0) ==> βj→0 : les variances des coefficients estimés sont nulles•($\\tau$→+$\\infty$) ==> βRidge= βMCO\n",
    "\n",
    "Fonction de pénalité\n",
    "la régresison ridge peut être écrite, de manière tolement équivalente\n",
    "somme des carrés des résidus pénalisés : \n",
    "\n",
    "min𝛽1,⋯,𝛽𝑝$\\sum_{i=1}^{n}(yi$−$\\sum{𝑗=1}^{𝑝}𝛽𝑗$$𝑧{𝑖𝑗}$)$^{2}$+$\\lambda$$\\sum{j=1}^{p}𝛽^{2}{j}$\n",
    "\n",
    "il y a une équivalence directe entre $\\lambda$ et $\\tau$\n",
    "$\\tau$ ==> 0 <=> $\\lambda$ ==> +$\\infty$ ==> 0 (tous), variances des coefficient nulles\n",
    "$\\tau$==>+$\\infty$ <=> $\\lambda$ ==> 0 : $𝛽{Ridge}$=$𝛽{MCO}$\n",
    "\n",
    "l'estimateur Ridge s'écrit alort : \n",
    "^$𝛽{Ridge}$=(X'X+$\\lambda$$I{p})^{-1}$X'y\n",
    "\n",
    "On peut avoir une estimation même de si (X'X) n'est pas inversible\n",
    "on voit bien que $\\lambda$ = 0, alors on a l'estimateur des MCO"
   ]
  },
  {
   "cell_type": "markdown",
   "metadata": {},
   "source": [
    "### inconvenient du Lasso "
   ]
  },
  {
   "cell_type": "markdown",
   "metadata": {},
   "source": [
    "## Methode LASSO"
   ]
  },
  {
   "cell_type": "markdown",
   "metadata": {},
   "source": [
    "Avantages et limites du lasso\n",
    "\n",
    "Les principaux avantages du lasso sont :\n",
    "\n",
    "    Grande dimension : le lasso fonctionne dans les cas où le nombre d'individus est inférieur au nombre de variables ( n < p ) {\\displaystyle (n<p)} {\\displaystyle (n<p)}, si toutefois un faible nombre de ces variables a une influence sur les observations (hypothèse de parcimonie).\n",
    "    Cette propriété n'est pas vraie dans le cas de la régression linéaire classique avec un risque associé qui augmente comme la dimension de l'espace des variables même si l'hypothèse de parcimonie est vérifiée.\n",
    "    Sélection parcimonieuse : le lasso permet de sélectionner un sous-ensemble restreint de variables (dépendant du paramètre λ {\\display style \\lambda } \\lambda ). Cette sélection restreinte permet souvent de mieux interpréter un modèle (rasoir d'Ockham).\n",
    "    Consistance de la sélection : lorsque le vrai vecteur solution β {\\displaystyle \\beta } \\beta est creux ( ‖ β ‖ 0 = K < p ) {\\displaystyle (\\|\\beta \\|_{0}=K<p)} {\\displaystyle (\\|\\beta \\|_{0}=K<p)}, c'est-à-dire que seul un sous-ensemble de variables est utilisé pour la prédiction, sous de bonnes conditions, le lasso sera en mesure de sélectionner ces variables d'intérêts avant toutes autres variables"
   ]
  },
  {
   "cell_type": "markdown",
   "metadata": {},
   "source": [
    "### Avantage \n",
    "Capacité à sélectionner les variables en acceptant les coefficients nuls"
   ]
  },
  {
   "cell_type": "markdown",
   "metadata": {},
   "source": [
    "### Inconvénients"
   ]
  },
  {
   "cell_type": "markdown",
   "metadata": {},
   "source": [
    "Dans les problèmes à très grandes dimensions (p >> n), LASSO ne\n",
    "sélectionne que n variables prédictives au maximum, mécaniquement.\n",
    "C’est une vraie limitation de l’algorithme.\n",
    "Parmi un groupe de variables corrélées, LASSO en choisit une, celle qui\n",
    "est la plus liée à a cible souvent, masquant l’influence des autres. Cet\n",
    "inconvénient est inhérent aux techniques intégrant un mécanisme de\n",
    "sélection de variables (ex. arbres de décision, quoique…)"
   ]
  },
  {
   "cell_type": "markdown",
   "metadata": {},
   "source": [
    "## Elasticnet – Combiner les avantages de Ridge et Lasso"
   ]
  },
  {
   "cell_type": "markdown",
   "metadata": {},
   "source": [
    "Formulation sous la forme d’un problème d’optimisation"
   ]
  },
  {
   "cell_type": "markdown",
   "metadata": {},
   "source": [
    "l'utilisation de cette fonction de pénalité présente plusieurs limites.\n",
    "[1] Par exemple, dans le cas \"grand p , petit n \" (données de grande dimension avec quelques exemples), \n",
    "le LASSO sélectionne au plus n variables avant de saturer. De plus, s'il existe un groupe de variables \n",
    "hautement corrélées, le LASSO a tendance à sélectionner une variable dans un groupe et à ignorer les autres.\n",
    "Pour surmonter ces limites, le filet élastique ajoute une partie quadratique à la pénalité \n",
    "$({\\ displaystyle \\ | \\ beta \\ | ^ {2}}\\ | \\ beta \\ | ^ 2)$, \n",
    "qui, lorsqu'elle est utilisée seule, est une régression de crête (également appelée régularisation de Tikhonov ).\n",
    "Les estimations de la méthode du filet élastique sont définies par"
   ]
  },
  {
   "cell_type": "markdown",
   "metadata": {},
   "source": [
    "L'Elastic-net a été introduit afin de surmonter deux \"limitations\" du lasso. Premièrement, le lasso ne peut sélectionner qu'au plus {\\displaystyle n}n variables dans le cas où {\\displaystyle n<p}{\\displaystyle n<p}. Deuxièmement, en présence d'un groupe de variables fortement corrélées, le lasso ne sélectionne généralement qu'une seule variable du groupe. L'idée est donc \n",
    "d'ajouter au lasso une pénalité ridge. Ainsi l'objectif de l'Elastic-Net est :\n",
    "${\\displaystyle \\min _{\\beta \\in \\mathbb {R} ^{p}}$\n",
    "${\\frac {1}{2}}\\|y-X\\beta \\|_{2}^{2}+\\lambda _{1}\\|\\beta \\|_{1}+\\lambda _{2}\\|\\beta \\|_{2}^{2}}{\\displaystyle \\min _{\\beta \\in \\mathbb$ \n",
    "${R} ^{p}}{\\frac {1}{2}}\\|y-X\\beta \\|_{2}^{2}+\\lambda _{1}\\|\\beta \\|_{1}+\\lambda _{2}\\|\\beta \\|_{2}^{2}}$\n",
    "avec\n",
    "${\\displaystyle \\lambda _{1}\\geq 0}{\\displaystyle \\lambda _{1}\\geq 0} et {\\displaystyle \\lambda _{2}\\geq 0}{\\displaystyle \\lambda _{2}\\geq 0}$."
   ]
  },
  {
   "cell_type": "markdown",
   "metadata": {},
   "source": [
    "## avantage"
   ]
  },
  {
   "cell_type": "markdown",
   "metadata": {},
   "source": [
    "Capacité de sélection de variables du LASSO conservée (coefficients nuls) :\n",
    "exclusion des variables non pertinentes\n",
    "• Groupe de variables prédictives corrélées, partage des poids (comme\n",
    "Ridge) et non plus sélection arbitraire"
   ]
  },
  {
   "cell_type": "markdown",
   "metadata": {},
   "source": [
    "### inconvenient de lasso"
   ]
  },
  {
   "cell_type": "markdown",
   "metadata": {},
   "source": [
    "En présence de variables explicatrices corrolées,\n",
    "le modele lasso en choisit une arbitrairement \n",
    "et mes les autre à 0 "
   ]
  },
  {
   "cell_type": "markdown",
   "metadata": {},
   "source": [
    "## Conclusion"
   ]
  },
  {
   "cell_type": "markdown",
   "metadata": {},
   "source": [
    "Nous avons étudier trois modeles de régularisation le modele Elasticnet est la combinaison des  meilleurs élements  de Lasso et du modele Ridge   "
   ]
  }
 ],
 "metadata": {
  "kernelspec": {
   "display_name": "Python 3",
   "language": "python",
   "name": "python3"
  },
  "language_info": {
   "codemirror_mode": {
    "name": "ipython",
    "version": 3
   },
   "file_extension": ".py",
   "mimetype": "text/x-python",
   "name": "python",
   "nbconvert_exporter": "python",
   "pygments_lexer": "ipython3",
   "version": "3.7.4"
  }
 },
 "nbformat": 4,
 "nbformat_minor": 2
}
