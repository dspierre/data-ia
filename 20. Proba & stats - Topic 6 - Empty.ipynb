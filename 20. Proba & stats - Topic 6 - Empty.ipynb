{
 "cells": [
  {
   "cell_type": "markdown",
   "metadata": {},
   "source": [
    "# 20. Proba & stats - Topic 6"
   ]
  },
  {
   "cell_type": "markdown",
   "metadata": {},
   "source": [
    "L'objectif de ce notebook est de :\n",
    "\n",
    "- Manipuler les probabilités dans un objectif pratique.\n",
    "- Définir certaines règles de calculs probabilistes.\n",
    "\n",
    "\n",
    "Pour ce faire,nous vous proposons de suivre le MOOC \"*EDX - Probability and Statistics in Data Science using Python*\" : https://courses.edx.org/courses/course-v1:UCSanDiegoX+DSE210x+3T2019a/course/ et plus particulièrement le **topic 6** (\"***Conditional Probability***\")\n",
    "\n",
    "__Durée des vidéos:__ Environ 1 heure. \n",
    "\n",
    "**POUR CHAQUE TOPIC**, nous vous laisserons :\n",
    "1. Regarder les vidéos puis répondre aux questions mises en dessous de chaque vidéo \n",
    "2. Répondre aux questions de __**CE NOTEBOOK**__ pour vérifier votre compréhension des notions abordées dans les vidéos\n",
    "3. A la fin du notebook, prévenir la formatrice de votre fin"
   ]
  },
  {
   "cell_type": "markdown",
   "metadata": {},
   "source": [
    "### 1. Définitions\n",
    "***(Durée moyenne : 1h)***\n",
    "\n",
    "1. Définir ce qu'est une probabilité conditionnelle et la formule associée .\n",
    "2. Soient A et B deux évènements, représenter un arbre pondéré de tous les évèvements possibles issus de A et B (Prenons le cas où A l'évèment se déroulant en premier).\n",
    "3. Définir deux évèments indépendants. \n",
    "4. Soient A et B deux évènements indépendants. Que peut-on déduire des évènements $\\bar{A}$ et B ; $\\bar{B}$ et A ; $P_{A}(B)$ ; $P_{B}(A)?$\n",
    "5. Définir ce qu'est une partition de $\\Omega$.\n",
    "6. Enoncé la formule des probabilités totales."
   ]
  },
  {
   "cell_type": "markdown",
   "metadata": {},
   "source": [
    "1.Soient ( Ω , B , P  un espace probabilisé, \n",
    "et B un événement de B de probabilité non nulle.\n",
    "Pour tout événement A de B, la probabilité conditionnelle de A sachant que B s'est réalisé (ou « probabilité de A sachant B ») \n",
    "est le nombre réel noté P ( A ∣ B ){\\mathbb P}_{B}(A) et défini par: "
   ]
  },
  {
   "cell_type": "code",
   "execution_count": null,
   "metadata": {},
   "outputs": [],
   "source": []
  },
  {
   "cell_type": "markdown",
   "metadata": {},
   "source": [
    "3. Deux événements A et B sont dits indépendants (par rapport à P) si : Dire que A et B sont indépendants signifie donc qu'avoir des informations concernant la réalisation de A ne renseigne pas sur la réalisation de B. Ex : ... On a: Les événements A et B sont indépendants."
   ]
  },
  {
   "cell_type": "code",
   "execution_count": null,
   "metadata": {},
   "outputs": [],
   "source": [
    "4. A Contraire  "
   ]
  },
  {
   "cell_type": "code",
   "execution_count": null,
   "metadata": {},
   "outputs": [],
   "source": []
  },
  {
   "cell_type": "markdown",
   "metadata": {},
   "source": [
    "6.Enoncé la formule des probabilités totales.\n",
    "En utilisant la formule des probabilités conditionnelles,la formule des probabilités totales s’écrit aussi :\n",
    "P(B)=P(A)×PA(B)+P(A¯)×PA¯(B)."
   ]
  },
  {
   "cell_type": "markdown",
   "metadata": {},
   "source": [
    "### 2. Calculs de probabilités\n",
    "***(Durée moyenne : 1h30)***"
   ]
  },
  {
   "cell_type": "markdown",
   "metadata": {},
   "source": [
    "**1. Que fait le code suivant?**"
   ]
  },
  {
   "cell_type": "code",
   "execution_count": 1,
   "metadata": {},
   "outputs": [
    {
     "name": "stdout",
     "output_type": "stream",
     "text": [
      "Perdu\n"
     ]
    }
   ],
   "source": [
    "from random import randint \n",
    "d=randint(1,6)\n",
    "if (d==6): \n",
    "    print(\"Gagné\")\n",
    "else:\n",
    "    print(\"Perdu\")"
   ]
  },
  {
   "cell_type": "code",
   "execution_count": null,
   "metadata": {},
   "outputs": [],
   "source": [
    " programme qui lance 6 fois un dé et qui compte le nombre de 6 obtenus."
   ]
  },
  {
   "cell_type": "markdown",
   "metadata": {},
   "source": [
    "**2. En s'aidant du programme précédent, créer un programme qui lance 10 fois un dé et qui compte le nombre de 6 obtenus. Calculer alors, et afficher, le pourcentage de 6 obtenus.**"
   ]
  },
  {
   "cell_type": "code",
   "execution_count": 7,
   "metadata": {},
   "outputs": [
    {
     "name": "stdout",
     "output_type": "stream",
     "text": [
      "Perdu\n"
     ]
    }
   ],
   "source": [
    "from random import randint \n",
    "d=randint(1,10)\n",
    "if (d==6): \n",
    "    print(\"Gagné\")\n",
    "else:\n",
    "    print(\"Perdu\")"
   ]
  },
  {
   "cell_type": "code",
   "execution_count": 21,
   "metadata": {},
   "outputs": [
    {
     "name": "stdout",
     "output_type": "stream",
     "text": [
      "[3 6 3 5 3 3 5 4 2 6]\n",
      "[3 6 3 5 3 3 5 4 2 6]\n",
      "2\n",
      "0.2\n"
     ]
    }
   ],
   "source": [
    "\n",
    "import  numpy as  np\n",
    "Outcomes = 1 + np.random.randint(1, 6, 10)\n",
    "print(Outcomes)\n",
    "type(list(Outcomes))\n",
    "print(Outcomes)\n",
    "cpt = 0\n",
    "for i in Outcomes :\n",
    "    if i == 6 :\n",
    "        cpt = cpt + 1\n",
    "print(cpt)\n",
    "pourcentage_6 = (cpt * 10)/100\n",
    "print(pourcentage_6)"
   ]
  },
  {
   "cell_type": "markdown",
   "metadata": {},
   "source": [
    "**3. Nous allons maintenant augmenter le nombre de lancés. Calculer le pourcentage d'apparition du nombre de 6 pour chaque nombre de lancés contenus dans `nb_roll_list` et stocker les résultats dans une liste appelée `res`. Que devient ce pourcentage lorsqu'on augmente le nombre de lancés ?**"
   ]
  },
  {
   "cell_type": "code",
   "execution_count": null,
   "metadata": {},
   "outputs": [],
   "source": [
    "from random import randint \n",
    "L=[]\n",
    "for i in range(100):\n",
    "    d=randint(1,6)\n",
    "    L.append(d)\n",
    "# On peut afficher tous les résultats \n",
    "print(L)\n",
    "# ou l'un après l'autre avec une boucle, \n",
    "# len(L) pour \"length(L)\": longueur de L\n",
    "print(\"Longueur de L:\",len(L))\n",
    "for i in range(len(L)):\n",
    "    print(L[i])\n",
    "# ou juste le 3ème par exemple\n",
    "#  (attention: L[0] est le 1er élément...)\n",
    "print(L[2])"
   ]
  },
  {
   "cell_type": "code",
   "execution_count": null,
   "metadata": {},
   "outputs": [],
   "source": [
    "nb_roll_list = [10,50,100,1000,5000,10000,100000]"
   ]
  },
  {
   "cell_type": "code",
   "execution_count": 23,
   "metadata": {},
   "outputs": [
    {
     "name": "stdout",
     "output_type": "stream",
     "text": [
      "10.0\n",
      "12.0\n",
      "13.0\n",
      "15.1\n",
      "15.920000000000002\n",
      "16.49\n",
      "16.614\n"
     ]
    }
   ],
   "source": [
    "nb_roll_list = [10,50,100,1000,5000,10000,100000]\n",
    "res = 0\n",
    "j = 0\n",
    "for i in nb_roll_list : \n",
    "    while j< i : \n",
    "        d=randint(1,6)\n",
    "        if (d==6) : \n",
    "            res = res+1\n",
    "        j = j+1\n",
    "        Pres = 100*(res/j)\n",
    "    print (Pres)"
   ]
  },
  {
   "cell_type": "markdown",
   "metadata": {},
   "source": [
    "**4. Dans une usine, la machine A fabrique 60% des pièces, dont 2% sont\n",
    "défectueuses.\n",
    "La machine B fabrique 30% des pièces, dont 3% sont défectueuses.\n",
    "La machine C fabrique 10% des pièces, dont 4% sont défectueuses.**\n",
    "\n",
    "**1. On tire une piece au hasard dans la fabrication. Quelle est la probabilité qu'elle soit défectueuse ?**\n",
    "\n",
    "**2. On tire une pièce au hasard dans la fabrication. Elle est défectueuse. Quelle est la probabilité qu'elle ait été fabriquée par la machine A? par la machine B? par la machine C?**"
   ]
  },
  {
   "cell_type": "code",
   "execution_count": 24,
   "metadata": {},
   "outputs": [
    {
     "name": "stdout",
     "output_type": "stream",
     "text": [
      "0.024999999999999998\n"
     ]
    }
   ],
   "source": [
    "pA = 60/100\n",
    "DA = 2/100\n",
    "pB = 30/100\n",
    "DB = 3/100\n",
    "pC = 10/100\n",
    "DC = 4/100\n",
    "D = (pA*DA)+(pB*DB)+(pC*DC)\n",
    "print(D)"
   ]
  },
  {
   "cell_type": "code",
   "execution_count": 25,
   "metadata": {},
   "outputs": [
    {
     "name": "stdout",
     "output_type": "stream",
     "text": [
      "0.024999999999999998\n"
     ]
    }
   ],
   "source": [
    "def pourcentage(part, total):\n",
    "    return float (part/100) * float (total/100)\n",
    "total = (pourcentage(2, 60) + pourcentage(3,30) + pourcentage(4,10))\n",
    "print(total)"
   ]
  },
  {
   "cell_type": "code",
   "execution_count": null,
   "metadata": {},
   "outputs": [],
   "source": []
  }
 ],
 "metadata": {
  "kernelspec": {
   "display_name": "Python 3",
   "language": "python",
   "name": "python3"
  },
  "language_info": {
   "codemirror_mode": {
    "name": "ipython",
    "version": 3
   },
   "file_extension": ".py",
   "mimetype": "text/x-python",
   "name": "python",
   "nbconvert_exporter": "python",
   "pygments_lexer": "ipython3",
   "version": "3.7.4"
  }
 },
 "nbformat": 4,
 "nbformat_minor": 2
}
