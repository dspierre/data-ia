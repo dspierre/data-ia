{
 "cells": [
  {
   "cell_type": "code",
   "execution_count": 17,
   "metadata": {},
   "outputs": [],
   "source": [
    "import selenium\n",
    "from selenium.webdriver.common.keys import Keys\n",
    "from selenium.webdriver.chrome.options import Options\n",
    "options = Options()\n",
    "options.add_argument(\"--headless\")"
   ]
  },
  {
   "cell_type": "markdown",
   "metadata": {},
   "source": [
    "-. Que fait la fonction TIME ? \n",
    "-. Que fait la fonction KEYS ? \n",
    "- Comment récupérer des éléments à partir du nom d'une classe ? \n",
    "- Comment récupérer des éléments à partir de liens ? \n",
    "- Comment cliquer sur un bouton ? \n",
    "- Comment revenir à la page précédente ? \n",
    "- Comment saisir du texte ? \n",
    "- Comment récupérer des éléments à partir d'un tag ? \n",
    "- Comment changer de pages dans un navigateur ?"
   ]
  },
  {
   "cell_type": "code",
   "execution_count": null,
   "metadata": {},
   "outputs": [],
   "source": [
    "#1 get_attribute() est la  methodes  pour  récuperer les  élements"
   ]
  },
  {
   "cell_type": "code",
   "execution_count": null,
   "metadata": {},
   "outputs": [],
   "source": [
    "#Comment cliquer sur un bouton ? is_enabled()"
   ]
  },
  {
   "cell_type": "code",
   "execution_count": null,
   "metadata": {},
   "outputs": [],
   "source": [
    "# saisir du texte  "
   ]
  },
  {
   "cell_type": "code",
   "execution_count": null,
   "metadata": {},
   "outputs": [],
   "source": [
    "#Comment récupérer des éléments à partir d'un tag ?\n",
    "#<div class=”username” style=”display: block;”>…</div>\n",
    "#element = driver.find_element_by_tag_name(“div”)"
   ]
  },
  {
   "cell_type": "code",
   "execution_count": null,
   "metadata": {},
   "outputs": [],
   "source": [
    "#Comment changer de pages dans un navigateur ?\n",
    "#que des boutons ou des éléments apparaissent après un certain temps resté sur la page web\n",
    "#tu vas pouvoir définir un temps pendant lequel tu veux que ton py script"
   ]
  },
  {
   "cell_type": "code",
   "execution_count": null,
   "metadata": {},
   "outputs": [],
   "source": [
    "    \n",
    "#- La fonction time fournit différentes fonctions liées au temps. Il y a aussi les modules calendar et datetime\n",
    "#List of methods available in time module\n",
    "#time()\n",
    "#ctime()\n",
    "#sleep()\n",
    "#strftime()\n",
    "#gmtime()\n",
    "#localtime()"
   ]
  },
  {
   "cell_type": "code",
   "execution_count": null,
   "metadata": {},
   "outputs": [],
   "source": [
    "#time() affiche nombre de secondes depuis Jan 1, 1970 00:00:00"
   ]
  },
  {
   "cell_type": "code",
   "execution_count": null,
   "metadata": {},
   "outputs": [],
   "source": [
    "#permet de saisir une clé de saisie ou de retour sortir des élements key simuler des touche du clavier"
   ]
  },
  {
   "cell_type": "code",
   "execution_count": null,
   "metadata": {},
   "outputs": [],
   "source": [
    "#<div class=”username” style=”display: block;”>…</div>\n",
    "#element =driver.find_element_by_class_name(“username”)"
   ]
  },
  {
   "cell_type": "code",
   "execution_count": null,
   "metadata": {},
   "outputs": [],
   "source": [
    "#link texte element.getAttribute(\"href\");"
   ]
  },
  {
   "cell_type": "code",
   "execution_count": null,
   "metadata": {},
   "outputs": [],
   "source": [
    "# tag name  en utilisant tag name\n",
    "#<div class=”username” style=”display: block;”>…</div>\n",
    "#<element = driver.find_element_by_tag_name(“div”)"
   ]
  },
  {
   "cell_type": "code",
   "execution_count": null,
   "metadata": {},
   "outputs": [],
   "source": [
    "#selenium_extension.core.click_on_element() = clique sur un élément sélénium représenté par element locatore"
   ]
  },
  {
   "cell_type": "code",
   "execution_count": 20,
   "metadata": {},
   "outputs": [],
   "source": [
    "#.back\n",
    "#navigate().back()\n",
    "#executeScript(\"window.history.go(-1)\");"
   ]
  },
  {
   "cell_type": "code",
   "execution_count": null,
   "metadata": {},
   "outputs": [],
   "source": []
  }
 ],
 "metadata": {
  "kernelspec": {
   "display_name": "Python 3",
   "language": "python",
   "name": "python3"
  },
  "language_info": {
   "codemirror_mode": {
    "name": "ipython",
    "version": 3
   },
   "file_extension": ".py",
   "mimetype": "text/x-python",
   "name": "python",
   "nbconvert_exporter": "python",
   "pygments_lexer": "ipython3",
   "version": "3.7.4"
  }
 },
 "nbformat": 4,
 "nbformat_minor": 2
}
