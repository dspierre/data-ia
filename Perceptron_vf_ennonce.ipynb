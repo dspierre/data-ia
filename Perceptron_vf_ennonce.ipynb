{
  "nbformat": 4,
  "nbformat_minor": 0,
  "metadata": {
    "kernelspec": {
      "display_name": "Python 3",
      "language": "python",
      "name": "python3"
    },
    "language_info": {
      "codemirror_mode": {
        "name": "ipython",
        "version": 3
      },
      "file_extension": ".py",
      "mimetype": "text/x-python",
      "name": "python",
      "nbconvert_exporter": "python",
      "pygments_lexer": "ipython3",
      "version": "3.6.9"
    },
    "colab": {
      "name": "Perceptron-vf-ennonce.ipynb",
      "provenance": [],
      "collapsed_sections": [],
      "include_colab_link": true
    }
  },
  "cells": [
    {
      "cell_type": "markdown",
      "metadata": {
        "id": "view-in-github",
        "colab_type": "text"
      },
      "source": [
        "<a href=\"https://colab.research.google.com/github/dspierre/data-ia/blob/dspierre-machinelearning/Perceptron_vf_ennonce.ipynb\" target=\"_parent\"><img src=\"https://colab.research.google.com/assets/colab-badge.svg\" alt=\"Open In Colab\"/></a>"
      ]
    },
    {
      "cell_type": "markdown",
      "metadata": {
        "id": "3PhB5RTI6dvi"
      },
      "source": [
        "### Le premier \"reseau\" de neurone, le Perceptron"
      ]
    },
    {
      "cell_type": "markdown",
      "metadata": {
        "id": "yHXRWeVE6dvp"
      },
      "source": [
        "![Image of Yaktocat](https://miro.medium.com/max/4800/1*z5e7NdSqcNEx41JVd_um6g.jpeg)\n",
        "\n",
        "\n",
        "![Image of Yaktocat](https://miro.medium.com/max/894/1*I14jFPPR0JZic4Od8u2dFA.png)"
      ]
    },
    {
      "cell_type": "markdown",
      "metadata": {
        "id": "MjNf_Kbw6dvq"
      },
      "source": [
        "### Modelisation "
      ]
    },
    {
      "cell_type": "markdown",
      "metadata": {
        "id": "mUr9R6JN6dvr"
      },
      "source": [
        "![Image of Yaktocat](https://miro.medium.com/max/1280/1*n9_4oGTvkmve9ZM07kkQXw.png)"
      ]
    },
    {
      "cell_type": "markdown",
      "metadata": {
        "id": "fSC20zhc6dvr"
      },
      "source": [
        "### Formalisation\n",
        "\n",
        "#### A) Ecrire une fonction feed forward qui prend en entrée, 7 inputs (x1 --> x7), et resume la stimulation en réalisant le produit scalaire de chaque vecteur observation X (x1,x2,...) par le vecteur poids W(w1,w2,...) initialisé à 0."
      ]
    },
    {
      "cell_type": "markdown",
      "metadata": {
        "id": "z0Oyge-D6dvs"
      },
      "source": [
        "1) Prenez le fichier 'cluster_train.csv' et gardez les colonnes suivantes :\n",
        "\n",
        "['Survived', 'Pclass', 'Sex','Title']\n",
        "\n",
        "Definissez X (toutes les colonnes sauf Survived) et y (la colonne Survived)"
      ]
    },
    {
      "cell_type": "code",
      "metadata": {
        "colab": {
          "base_uri": "https://localhost:8080/"
        },
        "id": "XVUnsn136dvs",
        "outputId": "e63f2814-3e7b-498e-ab36-7ec7472b8905"
      },
      "source": [
        "import pandas as pd\n",
        "import numpy as np\n",
        "print('fait')"
      ],
      "execution_count": null,
      "outputs": [
        {
          "output_type": "stream",
          "text": [
            "fait\n"
          ],
          "name": "stdout"
        }
      ]
    },
    {
      "cell_type": "code",
      "metadata": {
        "scrolled": true,
        "id": "qxLhXc1G6dvt"
      },
      "source": [
        "df=pd.read_csv('/content/sample_data/cluster_train.csv')"
      ],
      "execution_count": null,
      "outputs": []
    },
    {
      "cell_type": "code",
      "metadata": {
        "scrolled": true,
        "colab": {
          "base_uri": "https://localhost:8080/",
          "height": 422
        },
        "id": "Z-L--Zy66dvu",
        "outputId": "0262ab64-2ba8-4c69-b2f5-5e9bd624f39b"
      },
      "source": [
        "df"
      ],
      "execution_count": null,
      "outputs": [
        {
          "output_type": "execute_result",
          "data": {
            "text/html": [
              "<div>\n",
              "<style scoped>\n",
              "    .dataframe tbody tr th:only-of-type {\n",
              "        vertical-align: middle;\n",
              "    }\n",
              "\n",
              "    .dataframe tbody tr th {\n",
              "        vertical-align: top;\n",
              "    }\n",
              "\n",
              "    .dataframe thead th {\n",
              "        text-align: right;\n",
              "    }\n",
              "</style>\n",
              "<table border=\"1\" class=\"dataframe\">\n",
              "  <thead>\n",
              "    <tr style=\"text-align: right;\">\n",
              "      <th></th>\n",
              "      <th>PassengerId</th>\n",
              "      <th>Survived</th>\n",
              "      <th>Pclass</th>\n",
              "      <th>Sex</th>\n",
              "      <th>Age</th>\n",
              "      <th>SibSp</th>\n",
              "      <th>Parch</th>\n",
              "      <th>Fare</th>\n",
              "      <th>Embarked</th>\n",
              "      <th>AgeGroup</th>\n",
              "      <th>Cabin_g</th>\n",
              "      <th>Cabin_n</th>\n",
              "      <th>Title</th>\n",
              "    </tr>\n",
              "  </thead>\n",
              "  <tbody>\n",
              "    <tr>\n",
              "      <th>0</th>\n",
              "      <td>1</td>\n",
              "      <td>0</td>\n",
              "      <td>3</td>\n",
              "      <td>0</td>\n",
              "      <td>22.000000</td>\n",
              "      <td>1</td>\n",
              "      <td>0</td>\n",
              "      <td>7.2500</td>\n",
              "      <td>1</td>\n",
              "      <td>3</td>\n",
              "      <td>1</td>\n",
              "      <td>1</td>\n",
              "      <td>1</td>\n",
              "    </tr>\n",
              "    <tr>\n",
              "      <th>1</th>\n",
              "      <td>2</td>\n",
              "      <td>1</td>\n",
              "      <td>1</td>\n",
              "      <td>1</td>\n",
              "      <td>38.000000</td>\n",
              "      <td>1</td>\n",
              "      <td>0</td>\n",
              "      <td>71.2833</td>\n",
              "      <td>3</td>\n",
              "      <td>5</td>\n",
              "      <td>4</td>\n",
              "      <td>1</td>\n",
              "      <td>5</td>\n",
              "    </tr>\n",
              "    <tr>\n",
              "      <th>2</th>\n",
              "      <td>3</td>\n",
              "      <td>1</td>\n",
              "      <td>3</td>\n",
              "      <td>1</td>\n",
              "      <td>26.000000</td>\n",
              "      <td>0</td>\n",
              "      <td>0</td>\n",
              "      <td>7.9250</td>\n",
              "      <td>1</td>\n",
              "      <td>4</td>\n",
              "      <td>1</td>\n",
              "      <td>1</td>\n",
              "      <td>4</td>\n",
              "    </tr>\n",
              "    <tr>\n",
              "      <th>3</th>\n",
              "      <td>4</td>\n",
              "      <td>1</td>\n",
              "      <td>1</td>\n",
              "      <td>1</td>\n",
              "      <td>35.000000</td>\n",
              "      <td>1</td>\n",
              "      <td>0</td>\n",
              "      <td>53.1000</td>\n",
              "      <td>1</td>\n",
              "      <td>4</td>\n",
              "      <td>4</td>\n",
              "      <td>1</td>\n",
              "      <td>5</td>\n",
              "    </tr>\n",
              "    <tr>\n",
              "      <th>4</th>\n",
              "      <td>5</td>\n",
              "      <td>0</td>\n",
              "      <td>3</td>\n",
              "      <td>0</td>\n",
              "      <td>35.000000</td>\n",
              "      <td>0</td>\n",
              "      <td>0</td>\n",
              "      <td>8.0500</td>\n",
              "      <td>1</td>\n",
              "      <td>4</td>\n",
              "      <td>1</td>\n",
              "      <td>1</td>\n",
              "      <td>1</td>\n",
              "    </tr>\n",
              "    <tr>\n",
              "      <th>...</th>\n",
              "      <td>...</td>\n",
              "      <td>...</td>\n",
              "      <td>...</td>\n",
              "      <td>...</td>\n",
              "      <td>...</td>\n",
              "      <td>...</td>\n",
              "      <td>...</td>\n",
              "      <td>...</td>\n",
              "      <td>...</td>\n",
              "      <td>...</td>\n",
              "      <td>...</td>\n",
              "      <td>...</td>\n",
              "      <td>...</td>\n",
              "    </tr>\n",
              "    <tr>\n",
              "      <th>886</th>\n",
              "      <td>887</td>\n",
              "      <td>0</td>\n",
              "      <td>2</td>\n",
              "      <td>0</td>\n",
              "      <td>27.000000</td>\n",
              "      <td>0</td>\n",
              "      <td>0</td>\n",
              "      <td>13.0000</td>\n",
              "      <td>1</td>\n",
              "      <td>4</td>\n",
              "      <td>1</td>\n",
              "      <td>1</td>\n",
              "      <td>2</td>\n",
              "    </tr>\n",
              "    <tr>\n",
              "      <th>887</th>\n",
              "      <td>888</td>\n",
              "      <td>1</td>\n",
              "      <td>1</td>\n",
              "      <td>1</td>\n",
              "      <td>19.000000</td>\n",
              "      <td>0</td>\n",
              "      <td>0</td>\n",
              "      <td>30.0000</td>\n",
              "      <td>1</td>\n",
              "      <td>3</td>\n",
              "      <td>6</td>\n",
              "      <td>1</td>\n",
              "      <td>4</td>\n",
              "    </tr>\n",
              "    <tr>\n",
              "      <th>888</th>\n",
              "      <td>889</td>\n",
              "      <td>0</td>\n",
              "      <td>3</td>\n",
              "      <td>1</td>\n",
              "      <td>13.455548</td>\n",
              "      <td>1</td>\n",
              "      <td>2</td>\n",
              "      <td>23.4500</td>\n",
              "      <td>1</td>\n",
              "      <td>6</td>\n",
              "      <td>1</td>\n",
              "      <td>1</td>\n",
              "      <td>4</td>\n",
              "    </tr>\n",
              "    <tr>\n",
              "      <th>889</th>\n",
              "      <td>890</td>\n",
              "      <td>1</td>\n",
              "      <td>1</td>\n",
              "      <td>0</td>\n",
              "      <td>26.000000</td>\n",
              "      <td>0</td>\n",
              "      <td>0</td>\n",
              "      <td>30.0000</td>\n",
              "      <td>3</td>\n",
              "      <td>4</td>\n",
              "      <td>4</td>\n",
              "      <td>1</td>\n",
              "      <td>1</td>\n",
              "    </tr>\n",
              "    <tr>\n",
              "      <th>890</th>\n",
              "      <td>891</td>\n",
              "      <td>0</td>\n",
              "      <td>3</td>\n",
              "      <td>0</td>\n",
              "      <td>32.000000</td>\n",
              "      <td>0</td>\n",
              "      <td>0</td>\n",
              "      <td>7.7500</td>\n",
              "      <td>2</td>\n",
              "      <td>4</td>\n",
              "      <td>1</td>\n",
              "      <td>1</td>\n",
              "      <td>1</td>\n",
              "    </tr>\n",
              "  </tbody>\n",
              "</table>\n",
              "<p>891 rows × 13 columns</p>\n",
              "</div>"
            ],
            "text/plain": [
              "     PassengerId  Survived  Pclass  Sex  ...  AgeGroup  Cabin_g  Cabin_n  Title\n",
              "0              1         0       3    0  ...         3        1        1      1\n",
              "1              2         1       1    1  ...         5        4        1      5\n",
              "2              3         1       3    1  ...         4        1        1      4\n",
              "3              4         1       1    1  ...         4        4        1      5\n",
              "4              5         0       3    0  ...         4        1        1      1\n",
              "..           ...       ...     ...  ...  ...       ...      ...      ...    ...\n",
              "886          887         0       2    0  ...         4        1        1      2\n",
              "887          888         1       1    1  ...         3        6        1      4\n",
              "888          889         0       3    1  ...         6        1        1      4\n",
              "889          890         1       1    0  ...         4        4        1      1\n",
              "890          891         0       3    0  ...         4        1        1      1\n",
              "\n",
              "[891 rows x 13 columns]"
            ]
          },
          "metadata": {
            "tags": []
          },
          "execution_count": 5
        }
      ]
    },
    {
      "cell_type": "code",
      "metadata": {
        "id": "7Q1uvH8hOu9O"
      },
      "source": [
        "y=drop"
      ],
      "execution_count": null,
      "outputs": []
    },
    {
      "cell_type": "markdown",
      "metadata": {
        "id": "C4G2O_336dvu"
      },
      "source": [
        "2) Creer la fonction feed forward\n",
        "\n",
        "- initialiser à 0 un vecteur W (poids associer à chaque liaison input/neurone)\n",
        "de dimension (3,1)\n",
        "- Mettre votre matrice feature X sous format numpy de dimension (891,3)\n",
        "- Créer la fonction (feed_forward(x,W,b)) qui prend en entrée une ligne de X et la multiplie par W puis y rajoute une constante b (initialisée à 0)"
      ]
    },
    {
      "cell_type": "code",
      "metadata": {
        "colab": {
          "base_uri": "https://localhost:8080/"
        },
        "id": "UeVhcxJ46dvv",
        "outputId": "59e45a53-9349-405d-a13b-476221b479d1"
      },
      "source": [
        "w=np.zeros((3,1))\r\n",
        "w.shape"
      ],
      "execution_count": null,
      "outputs": [
        {
          "output_type": "execute_result",
          "data": {
            "text/plain": [
              "(3, 1)"
            ]
          },
          "metadata": {
            "tags": []
          },
          "execution_count": 9
        }
      ]
    },
    {
      "cell_type": "code",
      "metadata": {
        "colab": {
          "base_uri": "https://localhost:8080/"
        },
        "id": "DMRomaPw-KYZ",
        "outputId": "5b27a842-819f-4b8a-d7c1-42f9ad2efc39"
      },
      "source": [
        "w"
      ],
      "execution_count": null,
      "outputs": [
        {
          "output_type": "execute_result",
          "data": {
            "text/plain": [
              "array([[0.],\n",
              "       [0.],\n",
              "       [0.]])"
            ]
          },
          "metadata": {
            "tags": []
          },
          "execution_count": 15
        }
      ]
    },
    {
      "cell_type": "code",
      "metadata": {
        "colab": {
          "base_uri": "https://localhost:8080/",
          "height": 178
        },
        "id": "JTsEfV066dvv",
        "outputId": "57aaef14-d69d-4083-c242-8036c46901b2"
      },
      "source": [
        "X=X.to_numpy()\r\n",
        "X.shape"
      ],
      "execution_count": null,
      "outputs": [
        {
          "output_type": "error",
          "ename": "NameError",
          "evalue": "ignored",
          "traceback": [
            "\u001b[0;31m---------------------------------------------------------------------------\u001b[0m",
            "\u001b[0;31mNameError\u001b[0m                                 Traceback (most recent call last)",
            "\u001b[0;32m<ipython-input-23-6cb12659d903>\u001b[0m in \u001b[0;36m<module>\u001b[0;34m()\u001b[0m\n\u001b[0;32m----> 1\u001b[0;31m \u001b[0mX\u001b[0m\u001b[0;34m=\u001b[0m\u001b[0mX\u001b[0m\u001b[0;34m.\u001b[0m\u001b[0mto_numpy\u001b[0m\u001b[0;34m(\u001b[0m\u001b[0;34m)\u001b[0m\u001b[0;34m\u001b[0m\u001b[0;34m\u001b[0m\u001b[0m\n\u001b[0m\u001b[1;32m      2\u001b[0m \u001b[0mX\u001b[0m\u001b[0;34m.\u001b[0m\u001b[0mshape\u001b[0m\u001b[0;34m\u001b[0m\u001b[0;34m\u001b[0m\u001b[0m\n",
            "\u001b[0;31mNameError\u001b[0m: name 'X' is not defined"
          ]
        }
      ]
    },
    {
      "cell_type": "code",
      "metadata": {
        "id": "MnNtJvDM_Wxs"
      },
      "source": [
        "def feed_forwad(X,w,b):\r\n",
        "  return  np.dot(x,w)"
      ],
      "execution_count": null,
      "outputs": []
    },
    {
      "cell_type": "code",
      "metadata": {
        "colab": {
          "base_uri": "https://localhost:8080/",
          "height": 178
        },
        "id": "kcX4ef7dAl7z",
        "outputId": "1b0bb6b5-bd67-4ac3-e05f-837741e91815"
      },
      "source": [
        "x=X.to_numpy()\r\n",
        "X.shape"
      ],
      "execution_count": null,
      "outputs": [
        {
          "output_type": "error",
          "ename": "NameError",
          "evalue": "ignored",
          "traceback": [
            "\u001b[0;31m---------------------------------------------------------------------------\u001b[0m",
            "\u001b[0;31mNameError\u001b[0m                                 Traceback (most recent call last)",
            "\u001b[0;32m<ipython-input-34-7c5738035293>\u001b[0m in \u001b[0;36m<module>\u001b[0;34m()\u001b[0m\n\u001b[0;32m----> 1\u001b[0;31m \u001b[0mx\u001b[0m\u001b[0;34m=\u001b[0m\u001b[0mX\u001b[0m\u001b[0;34m.\u001b[0m\u001b[0mto_numpy\u001b[0m\u001b[0;34m(\u001b[0m\u001b[0;34m)\u001b[0m\u001b[0;34m\u001b[0m\u001b[0;34m\u001b[0m\u001b[0m\n\u001b[0m\u001b[1;32m      2\u001b[0m \u001b[0mX\u001b[0m\u001b[0;34m.\u001b[0m\u001b[0mshape\u001b[0m\u001b[0;34m\u001b[0m\u001b[0;34m\u001b[0m\u001b[0m\n",
            "\u001b[0;31mNameError\u001b[0m: name 'X' is not defined"
          ]
        }
      ]
    },
    {
      "cell_type": "code",
      "metadata": {
        "colab": {
          "base_uri": "https://localhost:8080/"
        },
        "id": "NnhzBFVFA42f",
        "outputId": "704ac251-d7e4-4726-e4ed-3d5835185ea8"
      },
      "source": [
        "w[0,:].shape"
      ],
      "execution_count": null,
      "outputs": [
        {
          "output_type": "execute_result",
          "data": {
            "text/plain": [
              "(1,)"
            ]
          },
          "metadata": {
            "tags": []
          },
          "execution_count": 35
        }
      ]
    },
    {
      "cell_type": "code",
      "metadata": {
        "colab": {
          "base_uri": "https://localhost:8080/"
        },
        "id": "2c6nDwVkBNHQ",
        "outputId": "fb4a2f2e-c85e-4faf-90ea-24071254ce19"
      },
      "source": [
        "w"
      ],
      "execution_count": null,
      "outputs": [
        {
          "output_type": "execute_result",
          "data": {
            "text/plain": [
              "array([[0.],\n",
              "       [0.],\n",
              "       [0.]])"
            ]
          },
          "metadata": {
            "tags": []
          },
          "execution_count": 36
        }
      ]
    },
    {
      "cell_type": "code",
      "metadata": {
        "colab": {
          "base_uri": "https://localhost:8080/",
          "height": 195
        },
        "id": "KYn35CNf6dvw",
        "outputId": "6af796b1-67f1-4c47-9f54-9ce85bfcce11"
      },
      "source": [
        "X=X[0,:]\n",
        "b=0\n",
        "feed_forward(X,W,b)"
      ],
      "execution_count": null,
      "outputs": [
        {
          "output_type": "error",
          "ename": "NameError",
          "evalue": "ignored",
          "traceback": [
            "\u001b[0;31m---------------------------------------------------------------------------\u001b[0m",
            "\u001b[0;31mNameError\u001b[0m                                 Traceback (most recent call last)",
            "\u001b[0;32m<ipython-input-33-a034df3c5aba>\u001b[0m in \u001b[0;36m<module>\u001b[0;34m()\u001b[0m\n\u001b[0;32m----> 1\u001b[0;31m \u001b[0mX\u001b[0m\u001b[0;34m=\u001b[0m\u001b[0mX\u001b[0m\u001b[0;34m[\u001b[0m\u001b[0;36m0\u001b[0m\u001b[0;34m,\u001b[0m\u001b[0;34m:\u001b[0m\u001b[0;34m]\u001b[0m\u001b[0;34m\u001b[0m\u001b[0;34m\u001b[0m\u001b[0m\n\u001b[0m\u001b[1;32m      2\u001b[0m \u001b[0mb\u001b[0m\u001b[0;34m=\u001b[0m\u001b[0;36m0\u001b[0m\u001b[0;34m\u001b[0m\u001b[0;34m\u001b[0m\u001b[0m\n\u001b[1;32m      3\u001b[0m \u001b[0mfeed_forward\u001b[0m\u001b[0;34m(\u001b[0m\u001b[0mX\u001b[0m\u001b[0;34m,\u001b[0m\u001b[0mW\u001b[0m\u001b[0;34m,\u001b[0m\u001b[0mb\u001b[0m\u001b[0;34m)\u001b[0m\u001b[0;34m\u001b[0m\u001b[0;34m\u001b[0m\u001b[0m\n",
            "\u001b[0;31mNameError\u001b[0m: name 'X' is not defined"
          ]
        }
      ]
    },
    {
      "cell_type": "markdown",
      "metadata": {
        "id": "qBtQ4zGf6dvw"
      },
      "source": [
        "#### B) Créér une fonction permettant de moduler le \"resumé\" de la stimulation\n",
        " \n",
        "- creer une fonction **sigmoid** prenant en entrée une variable z (le resumé de la stimulation) et retourne la fonction sigmoid ==> fonction d'activation"
      ]
    },
    {
      "cell_type": "code",
      "metadata": {
        "colab": {
          "base_uri": "https://localhost:8080/",
          "height": 279
        },
        "id": "hc7ok9XI6dvx",
        "outputId": "da9ae78a-3814-4882-8415-4e70ae8c0166"
      },
      "source": [
        "import matplotlib.pyplot as plt \r\n",
        "import numpy as np \r\n",
        "import math \r\n",
        "  \r\n",
        "x = np.linspace(-10, 10, 100) \r\n",
        "z = 1/(1 + np.exp(-x)) \r\n",
        "  \r\n",
        "plt.plot(x, z) \r\n",
        "plt.xlabel(\"x\") \r\n",
        "plt.ylabel(\"Sigmoid(X)\") \r\n",
        "  \r\n",
        "plt.show() "
      ],
      "execution_count": null,
      "outputs": [
        {
          "output_type": "display_data",
          "data": {
            "image/png": "[encoded data removed]",
            "text/plain": [
              "<Figure size 432x288 with 1 Axes>"
            ]
          },
          "metadata": {
            "tags": [],
            "needs_background": "light"
          }
        }
      ]
    },
    {
      "cell_type": "code",
      "metadata": {
        "id": "VnIMD0EKDxrP"
      },
      "source": [
        "def sigmoid(x):\r\n",
        "  return 1 / (1 + math.exp(-x))"
      ],
      "execution_count": null,
      "outputs": []
    },
    {
      "cell_type": "markdown",
      "metadata": {
        "id": "x0sS8fUV6dvx"
      },
      "source": [
        "#### C) Creer un fonction cout permettant de quantifier l'ecart entre la prediction et le \"target\"\n",
        "\n",
        "- Definissons le mean squared error qui prend en entrée les predictions et les target associées à chaque observations et retourne le resultat de la fonction suivante :\n",
        "\n",
        "![Image of Yaktocat](https://miro.medium.com/max/824/1*jZcH1BNbkWobtcNQwvgQhw.png)"
      ]
    },
    {
      "cell_type": "code",
      "metadata": {
        "id": "QwSCLfWrMY-j"
      },
      "source": [
        "import numpy "
      ],
      "execution_count": null,
      "outputs": []
    },
    {
      "cell_type": "code",
      "metadata": {
        "id": "KGRNOiiw6dvy"
      },
      "source": [
        "def cout(yhat,y):\r\n",
        "  return (1/n)*np.sum([1/2*(y[i]-yhat[i])**2 for i in range(len(y))])"
      ],
      "execution_count": null,
      "outputs": []
    },
    {
      "cell_type": "code",
      "metadata": {
        "id": "_iDFKHLSP8LD"
      },
      "source": [
        "erratum : cout(yhat,y,n=X.size)"
      ],
      "execution_count": null,
      "outputs": []
    },
    {
      "cell_type": "code",
      "metadata": {
        "id": "ewrHMQw-bgma"
      },
      "source": [
        "def activation(z):\r\n",
        "    return 1 / (1 + np.exp(-z))"
      ],
      "execution_count": null,
      "outputs": []
    },
    {
      "cell_type": "code",
      "metadata": {
        "id": "pcSinFIRcdmK"
      },
      "source": [
        ""
      ],
      "execution_count": null,
      "outputs": []
    },
    {
      "cell_type": "code",
      "metadata": {
        "colab": {
          "base_uri": "https://localhost:8080/",
          "height": 229
        },
        "id": "l9WzHkSqbx4w",
        "outputId": "cb183043-36c4-4825-d637-ce57f755fa61"
      },
      "source": [
        "# Initialisation de la matrice de poids\r\n",
        "W=np.ones((3,1))\r\n",
        "b=1\r\n",
        "i=0\r\n",
        "yhat=np.zeros(len(y))\r\n",
        "for elem in feed_forward(X,W,b):\r\n",
        "    print(elem)\r\n",
        "    print(activation(elem))\r\n",
        "    yhat[i]=activation(elem)[0]\r\n",
        "    i=i+1\r\n",
        "    print('##########################')\r\n",
        "cout(yhat,y)"
      ],
      "execution_count": null,
      "outputs": [
        {
          "output_type": "error",
          "ename": "NameError",
          "evalue": "ignored",
          "traceback": [
            "\u001b[0;31m---------------------------------------------------------------------------\u001b[0m",
            "\u001b[0;31mNameError\u001b[0m                                 Traceback (most recent call last)",
            "\u001b[0;32m<ipython-input-60-5af0fb769d1a>\u001b[0m in \u001b[0;36m<module>\u001b[0;34m()\u001b[0m\n\u001b[1;32m      3\u001b[0m \u001b[0mb\u001b[0m\u001b[0;34m=\u001b[0m\u001b[0;36m1\u001b[0m\u001b[0;34m\u001b[0m\u001b[0;34m\u001b[0m\u001b[0m\n\u001b[1;32m      4\u001b[0m \u001b[0mi\u001b[0m\u001b[0;34m=\u001b[0m\u001b[0;36m0\u001b[0m\u001b[0;34m\u001b[0m\u001b[0;34m\u001b[0m\u001b[0m\n\u001b[0;32m----> 5\u001b[0;31m \u001b[0myhat\u001b[0m\u001b[0;34m=\u001b[0m\u001b[0mnp\u001b[0m\u001b[0;34m.\u001b[0m\u001b[0mzeros\u001b[0m\u001b[0;34m(\u001b[0m\u001b[0mlen\u001b[0m\u001b[0;34m(\u001b[0m\u001b[0my\u001b[0m\u001b[0;34m)\u001b[0m\u001b[0;34m)\u001b[0m\u001b[0;34m\u001b[0m\u001b[0;34m\u001b[0m\u001b[0m\n\u001b[0m\u001b[1;32m      6\u001b[0m \u001b[0;32mfor\u001b[0m \u001b[0melem\u001b[0m \u001b[0;32min\u001b[0m \u001b[0mfeed_forward\u001b[0m\u001b[0;34m(\u001b[0m\u001b[0mX\u001b[0m\u001b[0;34m,\u001b[0m\u001b[0mW\u001b[0m\u001b[0;34m,\u001b[0m\u001b[0mb\u001b[0m\u001b[0;34m)\u001b[0m\u001b[0;34m:\u001b[0m\u001b[0;34m\u001b[0m\u001b[0;34m\u001b[0m\u001b[0m\n\u001b[1;32m      7\u001b[0m     \u001b[0mprint\u001b[0m\u001b[0;34m(\u001b[0m\u001b[0melem\u001b[0m\u001b[0;34m)\u001b[0m\u001b[0;34m\u001b[0m\u001b[0;34m\u001b[0m\u001b[0m\n",
            "\u001b[0;31mNameError\u001b[0m: name 'y' is not defined"
          ]
        }
      ]
    },
    {
      "cell_type": "markdown",
      "metadata": {
        "id": "0OOStLc-6dvy"
      },
      "source": [
        "#### D) Definir une back propagation de l'erreur en vue de modifier les poids et le biais\n",
        "\n",
        "1) Deriver à la main la mean squared error en fonction des degrés de liberté du systeme (wi,b)\n",
        "\n",
        "![Image of Yaktocat](https://miro.medium.com/max/824/1*jZcH1BNbkWobtcNQwvgQhw.png)\n",
        "2) Utilisez la compositon de derivée partielle pour mettre en evidence une forme d'equation interessante\n",
        "\n",
        "\n",
        "![Image of Yaktocat](https://miro.medium.com/max/842/1*ZVazbOOGOI7EFajCPWfz1g.png)\n",
        "\n",
        "3) Derivée la fonction sigmoid en fonction de z (le resumé de la stimulation), pour générer une formule utilisable\n",
        "\n",
        "![Image of Yaktocat](https://miro.medium.com/max/836/1*W4ziLYNVVA_Ol3jCq6ZEHQ.png)\n",
        "\n",
        "sur cette formule a(1)<=> x2"
      ]
    },
    {
      "cell_type": "markdown",
      "metadata": {
        "id": "rzyTYt-e6dvy"
      },
      "source": [
        "#### E) Definir une fonction mettant à jour les degres de liberté du systeme (wi,b) selon l'erreur du predicteur à l'itération precedente\n",
        "\n",
        "\n",
        "1) Ajustons chacune des poids par la formule suivante (Reflechissez-y, en particulier le parametre alpha)\n",
        "\n",
        "![Image of Yaktocat](https://miro.medium.com/max/862/1*GZkezCFEjt7jcihll6v1fw.png)\n",
        "\n",
        "2) Ecrivons la fonction qui met à jour les degrés de liberté du systeme (wi,b) pour la prediction suivante\n",
        "\n",
        "- Ecrire la fonction (activation_derive(z)) qui derive la fonction d'activation sigmoid\n",
        "\n",
        "- Definir une fonction (def er_part_der(y,pred,Z,X)) calculant le vecteur derivée partielle de l'erreur en fonction des composants de W\n",
        "\n",
        "- Definir une fonction (er_part_der_b) qui met à jour le biais du neurone\n",
        "\n",
        "- Ajuster le vecteur W en fonction de la valeur du gradient de l'erreur (initialiser une valeur pour alpha)"
      ]
    },
    {
      "cell_type": "code",
      "metadata": {
        "id": "3QTN-vuO6dvy"
      },
      "source": [
        "def activation_derive(z):\r\n",
        "    return np.exp(-z) / ((1 + np.exp(-z))**2)"
      ],
      "execution_count": null,
      "outputs": []
    },
    {
      "cell_type": "code",
      "metadata": {
        "id": "2KJddFTYyobD"
      },
      "source": [
        "def feed_forwad(X,w,b):\r\n",
        "  return  np.dot(x,w)  "
      ],
      "execution_count": null,
      "outputs": []
    },
    {
      "cell_type": "code",
      "metadata": {
        "id": "Uovm2P8q_FUP"
      },
      "source": [
        "def er_part_der(y,pred,Z,X):\r\n",
        "  un=-(y-pred)\r\n",
        "  deux =activation_derive(Z)\r\n",
        "  Z_delta=un*deux:\r\n",
        "  for num  in  z_delta:\r\n",
        "    b= -alpha*num\r\n",
        "  return b \r\n",
        "er_part_der_b(y,yhat, Z,X,alpha,b)\r\n"
      ],
      "execution_count": null,
      "outputs": []
    },
    {
      "cell_type": "markdown",
      "metadata": {
        "id": "jDswCaym6dvz"
      },
      "source": [
        "#### F) Entrainez votre model\n",
        "\n",
        "- Construisez l'algo permettant de mettre à jour les degres de liberté (wi,b)\n",
        "\n",
        "- Vous initialiserez : W, b, alpha (option: le nombre d'epoch)\n",
        "\n",
        "Bonus: Initialisez les poids selon un parametre (taille de batch)"
      ]
    },
    {
      "cell_type": "code",
      "metadata": {
        "scrolled": true,
        "id": "vzHUq3L46dvz",
        "outputId": "0086557b-6740-40a2-f1d5-9177bab0a38f"
      },
      "source": [
        ""
      ],
      "execution_count": null,
      "outputs": [
        {
          "output_type": "stream",
          "text": [
            "EPOCH 0\n",
            "###################################################################################\n",
            "0 nan\n",
            "###################################################\n",
            "###################################################################################\n",
            "100 0.125\n",
            "###################################################\n",
            "###################################################################################\n",
            "200 0.07736077561964846\n",
            "###################################################\n",
            "###################################################################################\n",
            "300 0.15110180765911937\n",
            "###################################################\n",
            "###################################################################################\n",
            "400 0.06579424251287974\n",
            "###################################################\n",
            "###################################################################################\n",
            "500 0.07060110615115653\n",
            "###################################################\n",
            "###################################################################################\n",
            "600 0.07372938350841199\n",
            "###################################################\n",
            "###################################################################################\n",
            "700 0.07822998110075556\n",
            "###################################################\n",
            "###################################################################################\n",
            "800 0.06339605379418178\n",
            "###################################################\n",
            "EPOCH 1\n",
            "###################################################################################\n",
            "0 nan\n",
            "###################################################\n",
            "###################################################################################\n",
            "100 0.07518501899940329\n",
            "###################################################\n",
            "###################################################################################\n",
            "200 0.07440447519566541\n",
            "###################################################\n",
            "###################################################################################\n",
            "300 0.09566582759855499\n",
            "###################################################\n",
            "###################################################################################\n",
            "400 0.0898501310232158\n",
            "###################################################\n",
            "###################################################################################\n",
            "500 0.1591011062212741\n",
            "###################################################\n",
            "###################################################################################\n",
            "600 0.07715561442146031\n",
            "###################################################\n",
            "###################################################################################\n",
            "700 0.08674963515612227\n",
            "###################################################\n",
            "###################################################################################\n",
            "800 0.06795441798429758\n",
            "###################################################\n",
            "EPOCH 2\n",
            "###################################################################################\n",
            "0 nan\n",
            "###################################################\n",
            "###################################################################################\n",
            "100 0.07588748513700926\n",
            "###################################################\n",
            "###################################################################################\n",
            "200 0.0773296995908567\n",
            "###################################################\n",
            "###################################################################################\n",
            "300 0.09542231544447236\n",
            "###################################################\n",
            "###################################################################################\n",
            "400 0.05295919079570471\n",
            "###################################################\n",
            "###################################################################################\n",
            "500 0.08396036655021763\n",
            "###################################################\n",
            "###################################################################################\n",
            "600 0.07635738577811557\n",
            "###################################################\n",
            "###################################################################################\n",
            "700 0.09023502258929965\n",
            "###################################################\n",
            "###################################################################################\n",
            "800 0.0671247685591415\n",
            "###################################################\n",
            "EPOCH 3\n",
            "###################################################################################\n",
            "0 nan\n",
            "###################################################\n",
            "###################################################################################\n",
            "100 0.07522649391759496\n",
            "###################################################\n",
            "###################################################################################\n",
            "200 0.07516894520871135\n",
            "###################################################\n",
            "###################################################################################\n",
            "300 0.09591016138117339\n",
            "###################################################\n",
            "###################################################################################\n",
            "400 0.05282372773407414\n",
            "###################################################\n",
            "###################################################################################\n",
            "500 0.08206711045838004\n",
            "###################################################\n",
            "###################################################################################\n",
            "600 0.07464346443477844\n",
            "###################################################\n",
            "###################################################################################"
          ],
          "name": "stdout"
        },
        {
          "output_type": "stream",
          "text": [
            "/home/david/anaconda3/envs/flask/lib/python3.6/site-packages/ipykernel_launcher.py:2: RuntimeWarning: invalid value encountered in double_scalars\n",
            "  \n"
          ],
          "name": "stderr"
        },
        {
          "output_type": "stream",
          "text": [
            "\n",
            "700 0.08330881849604724\n",
            "###################################################\n",
            "###################################################################################\n",
            "800 0.06559245829475832\n",
            "###################################################\n",
            "EPOCH 4\n",
            "###################################################################################\n",
            "0 nan\n",
            "###################################################\n",
            "###################################################################################\n",
            "100 0.07535059623777313\n",
            "###################################################\n",
            "###################################################################################\n",
            "200 0.07761120584040412\n",
            "###################################################\n",
            "###################################################################################\n",
            "300 0.09974636891142438\n",
            "###################################################\n",
            "###################################################################################\n",
            "400 0.0534946127485224\n",
            "###################################################\n",
            "###################################################################################\n",
            "500 0.07977186372256177\n",
            "###################################################\n",
            "###################################################################################\n",
            "600 0.0754372406132465\n",
            "###################################################\n",
            "###################################################################################\n",
            "700 0.08161344916814428\n",
            "###################################################\n",
            "###################################################################################\n",
            "800 0.0654118376331731\n",
            "###################################################\n",
            "EPOCH 5\n",
            "###################################################################################\n",
            "0 nan\n",
            "###################################################\n",
            "###################################################################################\n",
            "100 0.07496554681391192\n",
            "###################################################\n",
            "###################################################################################\n",
            "200 0.07540115897074574\n",
            "###################################################\n",
            "###################################################################################\n",
            "300 0.09897127348537346\n",
            "###################################################\n",
            "###################################################################################\n",
            "400 0.053826673760192054\n",
            "###################################################\n",
            "###################################################################################\n",
            "500 0.07877220817203325\n",
            "###################################################\n",
            "###################################################################################\n",
            "600 0.07640095423136758\n",
            "###################################################\n",
            "###################################################################################\n",
            "700 0.08256065462918333\n",
            "###################################################\n",
            "###################################################################################\n",
            "800 0.06497880436144995\n",
            "###################################################\n",
            "EPOCH 6\n",
            "###################################################################################\n",
            "0 nan\n",
            "###################################################\n",
            "###################################################################################\n",
            "100 0.07487727737198589\n",
            "###################################################\n",
            "###################################################################################\n",
            "200 0.07498709033667775\n",
            "###################################################\n",
            "###################################################################################\n",
            "300 0.0991487300698975\n",
            "###################################################\n",
            "###################################################################################\n",
            "400 0.054228760316875554\n",
            "###################################################\n",
            "###################################################################################\n",
            "500 0.0780527714043953\n",
            "###################################################\n",
            "###################################################################################\n",
            "600 0.07718754858642722\n",
            "###################################################\n",
            "###################################################################################\n",
            "700 0.08359857243119728\n",
            "###################################################\n",
            "###################################################################################\n",
            "800 0.06446059407418407\n",
            "###################################################\n",
            "EPOCH 7\n",
            "###################################################################################\n",
            "0 nan\n",
            "###################################################\n",
            "###################################################################################\n",
            "100 0.07490075383160939\n",
            "###################################################\n",
            "###################################################################################\n",
            "200 0.07592861969620705\n",
            "###################################################\n",
            "###################################################################################\n",
            "300 0.10160454462310406\n",
            "###################################################\n",
            "###################################################################################\n",
            "400 0.05464261503136361\n",
            "###################################################\n",
            "###################################################################################\n",
            "500 0.07753467862870972\n",
            "###################################################\n",
            "###################################################################################\n",
            "600 0.07759166813518058\n",
            "###################################################\n",
            "###################################################################################\n",
            "700 0.08410540324203994\n",
            "###################################################\n",
            "###################################################################################\n",
            "800 0.06428936002392248\n",
            "###################################################\n",
            "EPOCH 8\n",
            "###################################################################################\n",
            "0 nan\n",
            "###################################################\n",
            "###################################################################################\n",
            "100 0.07496019580792936\n",
            "###################################################\n",
            "###################################################################################\n",
            "200 0.07659257523541992\n",
            "###################################################\n",
            "###################################################################################\n",
            "300 0.10285474969838367\n",
            "###################################################\n",
            "###################################################################################\n",
            "400 0.054702584914041515\n",
            "###################################################\n",
            "###################################################################################\n",
            "500 0.07738756623466006\n",
            "###################################################\n",
            "###################################################################################\n",
            "600 0.07765350301770968\n",
            "###################################################\n",
            "###################################################################################\n",
            "700 0.084169104962147\n",
            "###################################################\n",
            "###################################################################################\n",
            "800 0.06428570997548942\n",
            "###################################################\n",
            "EPOCH 9\n",
            "###################################################################################\n",
            "0 nan\n",
            "###################################################\n",
            "###################################################################################\n",
            "100 0.07498215920110408\n",
            "###################################################\n",
            "###################################################################################\n",
            "200 0.07659136581086835\n",
            "###################################################\n",
            "###################################################################################\n",
            "300 0.10287041335066506\n",
            "###################################################\n",
            "###################################################################################\n",
            "400 0.05467020032426639\n",
            "###################################################\n",
            "###################################################################################\n",
            "500 0.07737158427907975\n",
            "###################################################\n",
            "###################################################################################\n",
            "600 0.07764068879549751\n",
            "###################################################\n",
            "###################################################################################\n",
            "700 0.08415278517647287\n",
            "###################################################\n",
            "###################################################################################\n",
            "800 0.06429217463176096\n",
            "###################################################\n"
          ],
          "name": "stdout"
        }
      ]
    },
    {
      "cell_type": "markdown",
      "metadata": {
        "id": "Ew9NCtZy6dv0"
      },
      "source": [
        "#### G) Faire une predictions et estimer un taux d'erreur"
      ]
    },
    {
      "cell_type": "code",
      "metadata": {
        "id": "SayrnXEU6dv0"
      },
      "source": [
        ""
      ],
      "execution_count": null,
      "outputs": []
    },
    {
      "cell_type": "code",
      "metadata": {
        "id": "W0Nbew3S6dv0",
        "outputId": "750d5575-923e-4fff-88f1-823b5d2bf289"
      },
      "source": [
        ""
      ],
      "execution_count": null,
      "outputs": [
        {
          "output_type": "stream",
          "text": [
            "Erreur du train : 20.0 %\n"
          ],
          "name": "stdout"
        }
      ]
    },
    {
      "cell_type": "code",
      "metadata": {
        "scrolled": true,
        "id": "9PGHAwkF6dv1",
        "outputId": "830796b1-538a-4ef3-a1b6-b0269faa7983"
      },
      "source": [
        "pred"
      ],
      "execution_count": null,
      "outputs": [
        {
          "output_type": "execute_result",
          "data": {
            "text/plain": [
              "array([0., 1., 1., 1., 0., 0., 1., 0., 1., 1., 1., 1., 0., 0., 1., 1., 0.,\n",
              "       0., 1., 1., 0., 0., 1., 1., 1., 1., 0., 1., 1., 0., 1., 1., 1., 0.,\n",
              "       1., 1., 0., 0., 1., 1., 1., 1., 0., 1., 1., 0., 0., 1., 0., 1., 0.,\n",
              "       0., 1., 1., 1., 1., 1., 0., 1., 0., 0., 1., 1., 0., 1., 0., 1., 0.,\n",
              "       1., 0., 0., 1., 0., 0., 0., 0., 0., 0., 1., 1., 0., 0., 1., 1., 1.,\n",
              "       1., 0., 0., 1., 0., 0., 0., 1., 0., 0., 0., 1., 1., 1., 0., 1., 0.,\n",
              "       1., 0., 0., 0., 1., 0., 0., 1., 1., 1., 0., 1., 1., 0., 0., 0., 1.,\n",
              "       1., 0., 0., 0., 1., 1., 0., 0., 0., 1., 0., 0., 0., 1., 1., 0., 0.,\n",
              "       1., 1., 0., 1., 1., 1., 1., 0., 0., 0., 0., 1., 0., 1., 1., 1., 0.,\n",
              "       0., 0., 1., 1., 0., 0., 0., 0., 1., 0., 0., 0., 0., 1., 1., 1., 0.,\n",
              "       1., 0., 1., 0., 1., 0., 0., 1., 0., 0., 1., 0., 0., 1., 1., 1., 1.,\n",
              "       1., 0., 0., 1., 0., 1., 1., 1., 1., 0., 0., 1., 1., 0., 0., 0., 0.,\n",
              "       0., 1., 0., 0., 1., 1., 0., 1., 0., 0., 0., 1., 1., 0., 1., 0., 0.,\n",
              "       0., 0., 0., 1., 0., 0., 0., 0., 1., 1., 0., 0., 1., 0., 1., 0., 1.,\n",
              "       0., 0., 1., 1., 0., 0., 0., 1., 1., 1., 1., 1., 0., 1., 1., 0., 1.,\n",
              "       1., 1., 1., 1., 1., 0., 0., 1., 1., 1., 0., 0., 0., 1., 1., 1., 0.,\n",
              "       1., 1., 1., 1., 1., 0., 0., 1., 0., 0., 0., 0., 1., 0., 0., 0., 0.,\n",
              "       1., 1., 1., 0., 1., 0., 1., 0., 1., 1., 1., 1., 0., 0., 1., 0., 1.,\n",
              "       1., 1., 0., 1., 1., 1., 1., 0., 0., 1., 1., 1., 1., 1., 0., 0., 1.,\n",
              "       1., 0., 1., 0., 1., 1., 1., 1., 1., 1., 0., 1., 0., 1., 1., 0., 1.,\n",
              "       1., 1., 0., 0., 0., 1., 1., 1., 0., 0., 0., 1., 0., 0., 0., 0., 1.,\n",
              "       1., 1., 1., 0., 0., 1., 0., 0., 0., 1., 1., 1., 1., 1., 0., 0., 1.,\n",
              "       1., 1., 1., 1., 0., 0., 1., 1., 0., 1., 0., 0., 0., 1., 0., 1., 1.,\n",
              "       0., 0., 1., 1., 0., 1., 0., 1., 1., 0., 0., 1., 0., 1., 0., 0., 1.,\n",
              "       0., 1., 0., 0., 1., 0., 0., 1., 1., 1., 0., 1., 0., 0., 0., 1., 0.,\n",
              "       0., 1., 1., 0., 0., 1., 1., 1., 0., 1., 1., 1., 1., 1., 0., 1., 0.,\n",
              "       0., 1., 0., 1., 1., 1., 1., 1., 0., 0., 1., 1., 0., 0., 1., 1., 1.,\n",
              "       0., 1., 0., 1., 0., 0., 0., 0., 1., 0., 1., 0., 0., 1., 1., 1., 1.,\n",
              "       0., 0., 0., 1., 0., 0., 0., 1., 1., 1., 1., 1., 0., 0., 0., 0., 1.,\n",
              "       1., 0., 0., 1., 0., 1., 0., 0., 1., 1., 1., 1., 1., 1., 1., 0., 0.,\n",
              "       0., 0., 1., 1., 0., 1., 1., 0., 1., 0., 1., 0., 0., 1., 0., 0., 1.,\n",
              "       1., 0., 0., 1., 0., 0., 1., 1., 1., 1., 1., 0., 1., 1., 1., 1., 0.,\n",
              "       1., 1., 1., 0., 0., 1., 1., 0., 0., 0., 1., 1., 1., 1., 1., 1., 0.,\n",
              "       0., 0., 0., 1., 0., 0., 1., 0., 0., 0., 1., 1., 1., 0., 0., 1., 1.,\n",
              "       1., 0., 1., 1., 0., 1., 0., 1., 0., 1., 0., 0., 0., 1., 0., 1., 0.,\n",
              "       0., 1., 0., 0., 1., 1., 0., 1., 0., 1., 0., 0., 1., 1., 1., 1., 0.,\n",
              "       1., 0., 0., 1., 0., 1., 1., 0., 0., 1., 0., 0., 0., 1., 1., 1., 0.,\n",
              "       0., 1., 0., 1., 1., 1., 1., 0., 0., 1., 0., 0., 1., 1., 0., 1., 1.,\n",
              "       0., 1., 0., 1., 0., 1., 0., 1., 1., 0., 0., 1., 0., 1., 1., 0., 1.,\n",
              "       0., 0., 0., 0., 0., 0., 1., 1., 1., 0., 0., 0., 0., 0., 1., 1., 1.,\n",
              "       1., 1., 0., 0., 0., 0., 0., 0., 0., 1., 1., 1., 0., 0., 1., 0., 0.,\n",
              "       1., 1., 0., 1., 1., 1., 0., 0., 0., 1., 1., 1., 0., 1., 1., 1., 0.,\n",
              "       0., 0., 1., 1., 0., 0., 1., 0., 0., 0., 1., 0., 1., 1., 0., 1., 1.,\n",
              "       0., 0., 0., 0., 0., 1., 1., 0., 0., 1., 1., 1., 0., 0., 1., 0., 1.,\n",
              "       1., 0., 1., 0., 0., 0., 1., 1., 0., 0., 0., 1., 0., 0., 0., 1., 0.,\n",
              "       1., 1., 1., 0., 0., 0., 0., 1., 0., 1., 0., 0., 1., 0., 1., 1., 1.,\n",
              "       1., 0., 0., 0., 1., 0., 0., 1., 0., 0., 1., 1., 0., 0., 1., 1., 0.,\n",
              "       1., 0., 1., 1., 0., 0., 0., 1., 1., 0., 1., 0., 0., 0., 1., 0., 1.,\n",
              "       1., 0., 0., 0., 1., 0., 1., 1., 0., 0., 0., 1., 0., 1., 1., 1., 0.,\n",
              "       0., 0., 1., 0., 0., 0., 1., 0., 0., 1., 0., 0., 0., 0., 0., 1., 1.,\n",
              "       0., 0., 1., 1., 1., 1., 1., 1., 1., 0., 0., 0., 1., 1., 0., 1., 1.,\n",
              "       1., 0., 0., 0., 1., 1., 0., 1., 1., 0., 0., 0., 1., 1., 0., 1., 0.,\n",
              "       0., 1., 1., 1., 1., 1., 0.])"
            ]
          },
          "metadata": {
            "tags": []
          },
          "execution_count": 29
        }
      ]
    },
    {
      "cell_type": "code",
      "metadata": {
        "id": "Af4CLllp6dv1",
        "outputId": "6eb7af68-0ce7-4c25-80da-01f87125d12c"
      },
      "source": [
        "y"
      ],
      "execution_count": null,
      "outputs": [
        {
          "output_type": "execute_result",
          "data": {
            "text/plain": [
              "0      0\n",
              "1      1\n",
              "2      1\n",
              "3      1\n",
              "4      0\n",
              "      ..\n",
              "886    0\n",
              "887    1\n",
              "888    0\n",
              "889    1\n",
              "890    0\n",
              "Name: Survived, Length: 891, dtype: int64"
            ]
          },
          "metadata": {
            "tags": []
          },
          "execution_count": 30
        }
      ]
    },
    {
      "cell_type": "code",
      "metadata": {
        "id": "ivwMK_f26dv2"
      },
      "source": [
        ""
      ],
      "execution_count": null,
      "outputs": []
    }
  ]
}