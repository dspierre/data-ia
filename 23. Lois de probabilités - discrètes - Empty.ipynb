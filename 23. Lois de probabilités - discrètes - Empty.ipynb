{
 "cells": [
  {
   "cell_type": "markdown",
   "metadata": {},
   "source": [
    "# 23. Lois de probabilités discrètes"
   ]
  },
  {
   "cell_type": "markdown",
   "metadata": {},
   "source": [
    "Les notions abordées dans ce notebook sont:\n",
    "- La fonction de masse pour une variable discrète\n",
    "- La fonction de répartition \n",
    "- Les distributions de probabilité usuelles discrètes \n",
    "\n",
    "Après avoir défini ces différentes notions, nous vous proposons ***chaque loi usuelle*** de simuler des échantillons (taille pouvant varier), et de tracer sous forme d'histogramme (avec la librairie matplotlib) la fonction de masse empirique. \n",
    "On calculera ensuite la moyenne et la variance et on comparera ces résultats à ceux de la distribution théorique étudiée.\n"
   ]
  },
  {
   "cell_type": "markdown",
   "metadata": {},
   "source": [
    "### 1. Définitions\n",
    "***(Durée moyenne : 1h)***"
   ]
  },
  {
   "cell_type": "markdown",
   "metadata": {},
   "source": [
    "1. Rappeler la définition d'une variable aléatoire discrète. \n",
    "\n",
    "2. Définir une fonction de masse. \n",
    "\n",
    "3. Définir une fonction de répartition. \n",
    "\n",
    "4. Lister les distributions de probabilité usuelles pour des variables discrètes. \n",
    "\n",
    "***Ne recopier pas les fonctions de masse et de répartition***\n"
   ]
  },
  {
   "cell_type": "markdown",
   "metadata": {},
   "source": [
    "### 2. Exercices de simulation avec Python\n",
    "***(Durée moyenne : 1 à 2 heures)***\n",
    "\n",
    "**Pour générer des distributions de probabilité des lois usuelles, Aider vous de la documentation en ligne https://docs.scipy.org/doc/scipy/reference/stats.html**\n"
   ]
  },
  {
   "cell_type": "markdown",
   "metadata": {},
   "source": [
    "#### Exercice 1 - Simulation de lois uniformes\n",
    "\n",
    "1. Simuler N = 1 000 lancers d'un dé équilibré avec `numpy.random`. Représenter graphiquement la fonction de masse et la fonction de répartition empiriques sous la forme d'histogrammes (utilisation de la librairie `matplotlib.pyplot` et `plt.bar`). \n",
    "\n",
    "2. Générer  N = 1 000 nombres aléatoires issus d'une distribution **continue** uniforme dans l'intervalle [1,6] avec `scipy.stats.uniform.rvs`. Afficher les fonctions de densité empirique (avec `plt.hist`) et théorique (avec `scipy.stats.uniform.pdf`)\n",
    "\n",
    "3. Afficher la moyenne et la variance des distributions empirique (avec `numpy.mean` et `numpy.var`) et théorique (avec `scipy.stats.uniform.stats`).\n"
   ]
  },
  {
   "cell_type": "markdown",
   "metadata": {},
   "source": [
    "#### Exercice 2 - Simulation de lois de bernoulli\n",
    "\n",
    "1. Simuler  N = 1 000 lancers d'une pièce équilibrée. Tracer la fonction de masse et la fonction de répartition empiriques\n",
    "\n",
    "2. Générer  N = 1 000 nombres aléatoires issus d'une distribution de Bernoulli de probabilité 0.5. Afficher la fonction de masse correspondante. La comparer à celle théorique\n",
    "\n",
    "3. Afficher sa moyenne et sa variance. Comparer les résultats à ceux de la distribution théorique.\n"
   ]
  },
  {
   "cell_type": "markdown",
   "metadata": {},
   "source": [
    "#### Exercice 3 -  Simulation de lois Binomiales\n",
    "\n",
    "1. Générer  N = 1 000 nombres aléatoires issus d'une distribution binomiale de paramètres n = 20 et p = 0.5. Afficher la fonction de masse empirique correspondante. La comparer à celle théorique\n",
    "\n",
    "2. Afficher sa moyenne et sa variance. Comparer les résultats à ceux de la distribution théorique.\n",
    "\n",
    "3. Afficher la fonction de répartition de la distribution théorique (avec `scipy.stats.binom.cdf`)\n",
    "\n",
    "4. Tracer la fonction de masse pour de nouvelles valeurs de N, n et p (penser aux widgets - Cf. MOOC EDX)"
   ]
  },
  {
   "cell_type": "markdown",
   "metadata": {},
   "source": [
    "#### Exercice 4 -  Simulation de lois de Poisson\n",
    "\n",
    "1. Générer N = 1 000 nombres aléatoires issus d'une distribution de Poisson de paramètre lambda = 3. \n",
    "   Afficher la fonction de masse correspondante. La comparer à celle théorique\n",
    "   \n",
    "2. Afficher sa moyenne et sa variance.Comparer les résultats à ceux de la distribution théorique.\n",
    "\n",
    "3. Afficher la fonction de répartition de la distribution théorique \n",
    "\n",
    "4. Tracer la fonction de masse pour de nouvelles valeurs de N, lambda (penser aux widgets)\n",
    "\n",
    "5) A l'aide de simulations, vérifier que la loi binomiale de paramètres n,p peut être approximée par une loi de Poisson de paramètre lambda = np. Tester les paramètres suivants : \n",
    "- n = 100, p = 0.5\n",
    "- n = 20, p = 0.08\n",
    "- n = 1000, p = 0.05\n",
    "- n = 100, p = 0.05\n",
    "\n",
    "- Quelles sont les conditions sur les paramètres n et p pour que cette approximation soit valable?\n"
   ]
  },
  {
   "cell_type": "markdown",
   "metadata": {},
   "source": [
    "#### Exercice 5 -  Simulation de lois géométriques\n",
    "\n",
    "1. Générer N = 1 000 nombres aléatoires issus d'une distribution géométrique de paramètre n = 10 et p =0.5 \n",
    "   Afficher la fonction de masse empirique correspondante. La comparer à celle théorique\n",
    "   \n",
    "2. Afficher sa moyenne et sa variance. Comparer les résultats à ceux de la distribution théorique.\n",
    "3. Afficher la fonction de répartition de la distribution théorique \n",
    "4. Tracer la fonction de masse pour de nouvelles valeurs de n, p (penser aux widgets)\n",
    "\n"
   ]
  }
 ],
 "metadata": {
  "kernelspec": {
   "display_name": "Python 3",
   "language": "python",
   "name": "python3"
  },
  "language_info": {
   "codemirror_mode": {
    "name": "ipython",
    "version": 3
   },
   "file_extension": ".py",
   "mimetype": "text/x-python",
   "name": "python",
   "nbconvert_exporter": "python",
   "pygments_lexer": "ipython3",
   "version": "3.7.4"
  }
 },
 "nbformat": 4,
 "nbformat_minor": 2
}
