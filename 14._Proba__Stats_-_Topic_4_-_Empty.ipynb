{
 "cells": [
  {
   "cell_type": "markdown",
   "metadata": {},
   "source": [
    "# Notions de probabilités - Partie II"
   ]
  },
  {
   "cell_type": "markdown",
   "metadata": {},
   "source": [
    "L'objectif de ce notebook est de :\n",
    "\n",
    "- Manipuler les sets dans un objectif pratique.\n",
    "\n",
    "\n",
    "Pour ce faire,nous vous proposons de suivre le MOOC \"*EDX - Probability and Statistics in Data Science using Python*\" : https://courses.edx.org/courses/course-v1:UCSanDiegoX+DSE210x+3T2019a/course/ et plus particulièrement les **topics 4** (\"***Combinatorics***\")\n",
    "\n",
    "__Durée des vidéos:__ Environ 2h10 \n",
    "\n",
    "**POUR CHAQUE TOPIC**, nous vous laisserons :\n",
    "1. Regarder les vidéos puis répondre aux questions mises en dessous de chaque vidéo \n",
    "2. Répondre aux questions de __**CE NOTEBOOK**__ pour vérifier votre compréhension des notions abordées dans les vidéos\n",
    "3. A la fin du notebook, prévenir la formatrice de votre fin et compléter le notebook de la partie \"***Programming Assignment***\" \n"
   ]
  },
  {
   "cell_type": "markdown",
   "metadata": {},
   "source": [
    "### 1. Définitions\n",
    "***(Durée moyenne : 1h)***\n",
    "1. Définir ce qu'est une permutation.\n",
    "2. On dispose d'un ensemble `E` constitué de `n` éléments. Combien de permutations de `E` existe-t-il ?\n",
    "3. Soit `A = {a,b,c}`. Donner l'ensemble `Perm_A` des permutations de `A`. \n",
    "4. Définir l'approximation de Stirling.\n",
    "5. Définir ce qu'est une permutation partielle.\n",
    "6. Combien de permutations partielles de taille `k` de `E` (de taille n) existe-t-il?\n",
    "7. Combien de permutations partielles de taille 2 de `A` existe-t-il?\n",
    "8. Définir ce qu'est une combinaison.\n",
    "9. Combien de combinaisons à `k` éléments `E` (de taille n) existe-t-il?\n",
    "10. Lister les propriétés du coefficient binomial.\n",
    "\n"
   ]
  },
  {
   "cell_type": "markdown",
   "metadata": {},
   "source": [
    "1.Une permutation d'objets distincts rangés dans un certain ordre correspond à un changement de l'ordre de succession de ces objets. "
   ]
  },
  {
   "cell_type": "code",
   "execution_count": null,
   "metadata": {},
   "outputs": [],
   "source": [
    "2.Combien de permutations de E existe-t-il?\n",
    "n(n-1)"
   ]
  },
  {
   "cell_type": "markdown",
   "metadata": {},
   "source": [
    "3. A = {a,b,c} "
   ]
  },
  {
   "cell_type": "code",
   "execution_count": null,
   "metadata": {},
   "outputs": [],
   "source": [
    "abc acb bca bac  cab  cba "
   ]
  },
  {
   "cell_type": "code",
   "execution_count": null,
   "metadata": {},
   "outputs": [],
   "source": [
    "4. n! sqrt(2pi*n)n/(e)power(n)"
   ]
  },
  {
   "cell_type": "markdown",
   "metadata": {},
   "source": [
    "5.une permutation partielle ou séquence sans répétition\n",
    "sur un ensemble fini S est une bijection entre deux spécifiés sous - ensembles de S.\n",
    "Autrement dit, il est défini par deux sous - ensembles U et V de taille égale, et un-à-un mappage de U à V .\n",
    "De manière équivalente,il est une fonction partielle de S qui peut être étendue à une permutation."
   ]
  },
  {
   "cell_type": "code",
   "execution_count": null,
   "metadata": {},
   "outputs": [],
   "source": [
    "6.  7. n! /(n-k)!"
   ]
  },
  {
   "cell_type": "code",
   "execution_count": null,
   "metadata": {},
   "outputs": [],
   "source": [
    "\n",
    "A=(a,b,C)\n",
    "K=2\n",
    "RESULTAT = 3*2*1/(3-2)=6"
   ]
  },
  {
   "cell_type": "code",
   "execution_count": null,
   "metadata": {},
   "outputs": [],
   "source": [
    "8. Définir ce qu'est une combinaison.\n",
    "Permutation de sous emsemble de taille k dans un ensemble detaille"
   ]
  },
  {
   "cell_type": "code",
   "execution_count": null,
   "metadata": {},
   "outputs": [],
   "source": [
    "9. "
   ]
  },
  {
   "cell_type": "code",
   "execution_count": null,
   "metadata": {},
   "outputs": [],
   "source": [
    "10. \\bino(n)(n) = n!/n (n-k)!\n"
   ]
  },
  {
   "cell_type": "markdown",
   "metadata": {},
   "source": [
    "### 2. Combinatorics\n",
    "***(Durée moyenne : 1h30)***"
   ]
  },
  {
   "cell_type": "markdown",
   "metadata": {},
   "source": [
    "### 1.\n",
    "\n",
    "Importer les librairies utiles."
   ]
  },
  {
   "cell_type": "code",
   "execution_count": null,
   "metadata": {},
   "outputs": [],
   "source": [
    "  import itertools "
   ]
  },
  {
   "cell_type": "markdown",
   "metadata": {},
   "source": [
    "### 2.\n",
    "Ecrire une fonction factorielle(n) qui prend en argument un entier naturel `n` et renvoie la valeur de\n",
    "n!, en utilisant une simple boucle for (sans regarder le notebook sur les Fonctions :) )\n",
    "Afficher les valeurs de n ! pour n variant de 0 à 10."
   ]
  },
  {
   "cell_type": "code",
   "execution_count": null,
   "metadata": {},
   "outputs": [],
   "source": [
    "Fonction factorielle (n: entier): entier\n",
    "Début\n",
    "   Si n > 1\n",
    "     Retourner n * factorielle(n - 1)\n",
    "   Sinon\n",
    "     Retourner 1\n",
    "   Fin si\n",
    "Fin"
   ]
  },
  {
   "cell_type": "code",
   "execution_count": 34,
   "metadata": {},
   "outputs": [
    {
     "name": "stdout",
     "output_type": "stream",
     "text": [
      "le factorielle  de 28: 3628800\n"
     ]
    }
   ],
   "source": [
    "n=10\n",
    "fact = 1  \n",
    "for i in range(1,n+1): \n",
    "    fact = fact * i       \n",
    "print (\"le factorielle  de 28: \",end=\"\") \n",
    "print (fact) \n",
    "    "
   ]
  },
  {
   "cell_type": "markdown",
   "metadata": {},
   "source": [
    "### 3.\n",
    "Définir un set `B` contenant les trois premières lettres de l'alphabet français."
   ]
  },
  {
   "cell_type": "code",
   "execution_count": 37,
   "metadata": {},
   "outputs": [
    {
     "name": "stdout",
     "output_type": "stream",
     "text": [
      "{'c', 'b', 'a'}\n"
     ]
    }
   ],
   "source": [
    "B={'a','b','c'}\n",
    "print(B)"
   ]
  },
  {
   "cell_type": "markdown",
   "metadata": {},
   "source": [
    "### 4.\n",
    "Quelle fonction Python permet de calculer les permutations d'un ensemble `E`?"
   ]
  },
  {
   "cell_type": "code",
   "execution_count": null,
   "metadata": {},
   "outputs": [],
   "source": [
    "permutations()"
   ]
  },
  {
   "cell_type": "markdown",
   "metadata": {},
   "source": [
    "### 5.\n",
    "Afficher les permutations de `B`."
   ]
  },
  {
   "cell_type": "code",
   "execution_count": 11,
   "metadata": {},
   "outputs": [
    {
     "name": "stdout",
     "output_type": "stream",
     "text": [
      "('a', 'b', 'c')\n",
      "('a', 'c', 'b')\n",
      "('b', 'a', 'c')\n",
      "('b', 'c', 'a')\n",
      "('c', 'a', 'b')\n",
      "('c', 'b', 'a')\n"
     ]
    }
   ],
   "source": [
    "\n",
    "from itertools import permutations   \n",
    "B=\"abc\"\n",
    "p = permutations(B)  \n",
    "for j in list(p):  \n",
    "    print(j)  \n"
   ]
  },
  {
   "cell_type": "code",
   "execution_count": 39,
   "metadata": {},
   "outputs": [
    {
     "name": "stdout",
     "output_type": "stream",
     "text": [
      "[('A', 'B', 'C'), ('A', 'C', 'B'), ('B', 'A', 'C'), ('B', 'C', 'A'), ('C', 'A', 'B'), ('C', 'B', 'A')]\n"
     ]
    }
   ],
   "source": [
    "from itertools import permutations                  \n",
    "print(list(permutations('ABC'))) "
   ]
  },
  {
   "cell_type": "markdown",
   "metadata": {},
   "source": [
    "### 6.\n",
    "Afficher les permutations de taille `k`= 2 de `B`."
   ]
  },
  {
   "cell_type": "code",
   "execution_count": null,
   "metadata": {},
   "outputs": [],
   "source": []
  },
  {
   "cell_type": "markdown",
   "metadata": {},
   "source": [
    "### 7.\n",
    "On tire simultanément 3 boules dans une urne contenant 4 boules rouges, 3 vertes et 2 noires indisernables au\n",
    "toucher.\n",
    "\n",
    "Combien y-a-t-il de tirages possibles ? Vérifier votre réponse avec un script."
   ]
  },
  {
   "cell_type": "code",
   "execution_count": 46,
   "metadata": {},
   "outputs": [
    {
     "ename": "NameError",
     "evalue": "name 'combinations' is not defined",
     "output_type": "error",
     "traceback": [
      "\u001b[1;31m---------------------------------------------------------------------------\u001b[0m",
      "\u001b[1;31mNameError\u001b[0m                                 Traceback (most recent call last)",
      "\u001b[1;32m<ipython-input-46-c4e28da1ea5b>\u001b[0m in \u001b[0;36m<module>\u001b[1;34m\u001b[0m\n\u001b[0;32m      1\u001b[0m \u001b[0mA\u001b[0m\u001b[1;33m=\u001b[0m\u001b[1;33m{\u001b[0m\u001b[1;34m'r1'\u001b[0m\u001b[1;33m,\u001b[0m\u001b[1;34m'r2'\u001b[0m\u001b[1;33m,\u001b[0m\u001b[1;34m'r3'\u001b[0m\u001b[1;33m,\u001b[0m\u001b[1;34m'r4, v1'\u001b[0m\u001b[1;33m,\u001b[0m\u001b[1;34m'v2'\u001b[0m\u001b[1;33m,\u001b[0m\u001b[1;34m'v3'\u001b[0m\u001b[1;33m,\u001b[0m\u001b[1;34m'n1'\u001b[0m\u001b[1;33m,\u001b[0m\u001b[1;34m'n2'\u001b[0m\u001b[1;33m}\u001b[0m\u001b[1;33m\u001b[0m\u001b[1;33m\u001b[0m\u001b[0m\n\u001b[0;32m      2\u001b[0m \u001b[0mk\u001b[0m\u001b[1;33m=\u001b[0m\u001b[1;36m3\u001b[0m\u001b[1;33m\u001b[0m\u001b[1;33m\u001b[0m\u001b[0m\n\u001b[1;32m----> 3\u001b[1;33m \u001b[0mcombi_A\u001b[0m\u001b[1;33m=\u001b[0m\u001b[0mset\u001b[0m\u001b[1;33m(\u001b[0m\u001b[0mcombinations\u001b[0m\u001b[1;33m(\u001b[0m\u001b[0mA\u001b[0m\u001b[1;33m,\u001b[0m\u001b[0mk\u001b[0m\u001b[1;33m)\u001b[0m\u001b[1;33m)\u001b[0m\u001b[1;33m\u001b[0m\u001b[1;33m\u001b[0m\u001b[0m\n\u001b[0m\u001b[0;32m      4\u001b[0m \u001b[0mprint\u001b[0m\u001b[1;33m(\u001b[0m\u001b[1;33m(\u001b[0m\u001b[0mlen\u001b[0m\u001b[1;33m(\u001b[0m\u001b[0mcombi_A\u001b[0m\u001b[1;33m)\u001b[0m\u001b[1;33m)\u001b[0m\u001b[1;33m)\u001b[0m\u001b[1;33m\u001b[0m\u001b[1;33m\u001b[0m\u001b[0m\n",
      "\u001b[1;31mNameError\u001b[0m: name 'combinations' is not defined"
     ]
    }
   ],
   "source": [
    "A={'r1','r2','r3','r4, v1','v2','v3','n1','n2'}\n",
    "k=3\n",
    "combi_A=set(combinations(A,k))\n",
    "print((len(combi_A)))"
   ]
  },
  {
   "cell_type": "markdown",
   "metadata": {},
   "source": [
    "### 8.\n",
    "\n",
    "En informatique, on utilise le système binaire pour coder les caractères.\n",
    "Un bit (binary digit : chiffre binaire) est un élément qui prend la valeur 0 ou la valeur 1. Avec 8 chiffres binaires (un octet), combien de caractères peut-on coder ? Justifier votre réponse avec un script."
   ]
  },
  {
   "cell_type": "code",
   "execution_count": 45,
   "metadata": {},
   "outputs": [
    {
     "ename": "SyntaxError",
     "evalue": "keyword can't be an expression (<ipython-input-45-ae909e09d0fb>, line 3)",
     "output_type": "error",
     "traceback": [
      "\u001b[1;36m  File \u001b[1;32m\"<ipython-input-45-ae909e09d0fb>\"\u001b[1;36m, line \u001b[1;32m3\u001b[0m\n\u001b[1;33m    octet=set(intertools.product(binaire.repeat=8))\u001b[0m\n\u001b[1;37m                                ^\u001b[0m\n\u001b[1;31mSyntaxError\u001b[0m\u001b[1;31m:\u001b[0m keyword can't be an expression\n"
     ]
    }
   ],
   "source": [
    "binaire= set('0','1')\n",
    "print(binaire)\n",
    "octet=set(intertools.product(binaire.repeat=8))\n",
    "print(len(octet))"
   ]
  },
  {
   "cell_type": "markdown",
   "metadata": {},
   "source": [
    "### 9. \n",
    "\n",
    "Combien y-a-t-il d’anagrammes du mot \"MATH\"? Justifier votre réponse avec un script."
   ]
  },
  {
   "cell_type": "code",
   "execution_count": 27,
   "metadata": {},
   "outputs": [
    {
     "name": "stdout",
     "output_type": "stream",
     "text": [
      "[('M', 'A', 'T', 'H'), ('M', 'A', 'H', 'T'), ('M', 'T', 'A', 'H'), ('M', 'T', 'H', 'A'), ('M', 'H', 'A', 'T'), ('M', 'H', 'T', 'A'), ('A', 'M', 'T', 'H'), ('A', 'M', 'H', 'T'), ('A', 'T', 'M', 'H'), ('A', 'T', 'H', 'M'), ('A', 'H', 'M', 'T'), ('A', 'H', 'T', 'M'), ('T', 'M', 'A', 'H'), ('T', 'M', 'H', 'A'), ('T', 'A', 'M', 'H'), ('T', 'A', 'H', 'M'), ('T', 'H', 'M', 'A'), ('T', 'H', 'A', 'M'), ('H', 'M', 'A', 'T'), ('H', 'M', 'T', 'A'), ('H', 'A', 'M', 'T'), ('H', 'A', 'T', 'M'), ('H', 'T', 'M', 'A'), ('H', 'T', 'A', 'M')]\n",
      "24\n"
     ]
    }
   ],
   "source": [
    "from itertools import permutations                  \n",
    "print (list(permutations('MATH'))) \n",
    "print(len(list(permutations('MATH')))) "
   ]
  },
  {
   "cell_type": "markdown",
   "metadata": {},
   "source": [
    "### 10.\n",
    "Un tournoi sportif compte 8 équipes engagées. Chaque équipe doit rencontrer toutes les autres une seule fois\n",
    "Combien doit-on organiser de matchs ? Justifier votre réponse avec un script."
   ]
  },
  {
   "cell_type": "code",
   "execution_count": 62,
   "metadata": {},
   "outputs": [
    {
     "name": "stdout",
     "output_type": "stream",
     "text": [
      "21\n"
     ]
    }
   ],
   "source": [
    "import itertools\n",
    "equipe= {'E1','E2','E3','E4','E5''E6','E7','E8'}\n",
    "combi=set(itertools.combinations(equipe , 2))\n",
    "print(len(combi))"
   ]
  },
  {
   "cell_type": "markdown",
   "metadata": {},
   "source": [
    "### 11. \n",
    "De combien de façons peut-on choisir 3 femmes et 2 hommes parmi 10 femmes et 5 hommes ? Justifier votre réponse avec un script."
   ]
  },
  {
   "cell_type": "code",
   "execution_count": null,
   "metadata": {},
   "outputs": [],
   "source": []
  },
  {
   "cell_type": "markdown",
   "metadata": {},
   "source": [
    "### 12.\n",
    "\n",
    "On extrait simultanément 2 cartes d'un jeu de 52. Combien y a-t-il de tirages de 2 cartes différents possibles ?\n"
   ]
  },
  {
   "cell_type": "code",
   "execution_count": 59,
   "metadata": {},
   "outputs": [
    {
     "name": "stdout",
     "output_type": "stream",
     "text": [
      "1326.0\n"
     ]
    }
   ],
   "source": [
    "from math import factorial   \n",
    "##result=factorial(52)\n",
    "t=2*factorial(50)\n",
    "t2=factorial(52)\n",
    "result=t2/(2*factorial(50))\n",
    "print(result)"
   ]
  },
  {
   "cell_type": "markdown",
   "metadata": {},
   "source": [
    "### 13.\n",
    "Dénombrer les tirages de 2 cartes contenant 2 AS.\n"
   ]
  },
  {
   "cell_type": "code",
   "execution_count": 66,
   "metadata": {},
   "outputs": [
    {
     "name": "stdout",
     "output_type": "stream",
     "text": [
      "6.0\n"
     ]
    },
    {
     "data": {
      "text/plain": [
       "6"
      ]
     },
     "execution_count": 66,
     "metadata": {},
     "output_type": "execute_result"
    }
   ],
   "source": [
    "print(factorial(4)/(factorial(2)*factorial(4-2)))\n",
    "len(set(combinations(range(4),2)))"
   ]
  },
  {
   "cell_type": "markdown",
   "metadata": {},
   "source": [
    "### 14.\n",
    "Dénombrer les tirages de 2 cartes contenant 2 cartes de coeur.\n"
   ]
  },
  {
   "cell_type": "code",
   "execution_count": 68,
   "metadata": {},
   "outputs": [
    {
     "name": "stdout",
     "output_type": "stream",
     "text": [
      "{(7, 'Q'), (12, 'Q'), (9, 'Q'), (3, 'Q'), (2, 'Q'), (8, 'Q'), (6, 'Q'), (5, 'Q'), (11, 'Q'), (10, 'Q'), (13, 'Q'), (4, 'Q'), (1, 'Q')}\n",
      "78\n"
     ]
    }
   ],
   "source": [
    "C=set(range(1,14))\n",
    "Q2=set([(i,\"Q\") for i in C])\n",
    "print(Q2)\n",
    "TQ=set(combinations(Q2,2))\n",
    "print(len(TQ))"
   ]
  },
  {
   "cell_type": "code",
   "execution_count": null,
   "metadata": {},
   "outputs": [],
   "source": []
  }
 ],
 "metadata": {
  "kernelspec": {
   "display_name": "Python 3",
   "language": "python",
   "name": "python3"
  },
  "language_info": {
   "codemirror_mode": {
    "name": "ipython",
    "version": 3
   },
   "file_extension": ".py",
   "mimetype": "text/x-python",
   "name": "python",
   "nbconvert_exporter": "python",
   "pygments_lexer": "ipython3",
   "version": "3.7.4"
  }
 },
 "nbformat": 4,
 "nbformat_minor": 2
}
