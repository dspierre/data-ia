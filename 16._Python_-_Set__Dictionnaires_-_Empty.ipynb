{
 "cells": [
  {
   "cell_type": "markdown",
   "metadata": {},
   "source": [
    "# **12. Python -  Set & Dictionnaires**\n"
   ]
  },
  {
   "cell_type": "markdown",
   "metadata": {},
   "source": [
    "### 1. Définitions"
   ]
  },
  {
   "cell_type": "markdown",
   "metadata": {},
   "source": [
    "__1. Définir ce qu'est un set en Python.__\n",
    "\n",
    "__2. Définir ce qu'est un dictionnaire.__"
   ]
  },
  {
   "cell_type": "code",
   "execution_count": null,
   "metadata": {},
   "outputs": [],
   "source": []
  },
  {
   "cell_type": "markdown",
   "metadata": {},
   "source": [
    "### `Dictionnaire` : Collection non-ordonnée (non indicée) d'objets (simples ou évolués) s’appuyant sur le mécanisme associatif « clé – valeur »."
   ]
  },
  {
   "cell_type": "code",
   "execution_count": null,
   "metadata": {},
   "outputs": [],
   "source": [
    "Un set est un ensemble de clefs non ordonnées et non redondant \n",
    "où l'on peut savoir si un élément est présent sans avoir à parcourir \n",
    "toute la liste (une sorte de dictionnaire où les valeurs seraient ignorées, seules les clefs comptent)"
   ]
  },
  {
   "cell_type": "markdown",
   "metadata": {},
   "source": [
    "## 1)\n",
    "### Créer un set `s1` avec 4 valeurs numériques."
   ]
  },
  {
   "cell_type": "code",
   "execution_count": 122,
   "metadata": {},
   "outputs": [
    {
     "name": "stdout",
     "output_type": "stream",
     "text": [
      "{'3', '2', '1', '4'}\n"
     ]
    }
   ],
   "source": [
    "s = set(['1', '2', '3','4'])\n",
    "print(s)"
   ]
  },
  {
   "cell_type": "markdown",
   "metadata": {},
   "source": [
    "## 2)\n",
    "### Transformez la chaine de caractères suivante en set appelée `s2`. et affichez-le\n"
   ]
  },
  {
   "cell_type": "code",
   "execution_count": 4,
   "metadata": {},
   "outputs": [
    {
     "name": "stdout",
     "output_type": "stream",
     "text": [
      "2\n"
     ]
    }
   ],
   "source": [
    "str = \"Hello!\"\n",
    "s3 = {1, 2, 3}\n",
    "s4 = {3,2,3,1}\n",
    "s2= set(str)\n",
    "print(2)"
   ]
  },
  {
   "cell_type": "markdown",
   "metadata": {},
   "source": [
    "## 3)\n",
    "\n",
    "### Vérifiez l'égalité des des sets `s3`et `s4` suivants. Expliquez le résultat."
   ]
  },
  {
   "cell_type": "code",
   "execution_count": 2,
   "metadata": {},
   "outputs": [
    {
     "data": {
      "text/plain": [
       "True"
      ]
     },
     "execution_count": 2,
     "metadata": {},
     "output_type": "execute_result"
    }
   ],
   "source": [
    "s3 = {1, 2, 3}\n",
    "s4 = {3,2,3,1}\n",
    "s4 == s3 "
   ]
  },
  {
   "cell_type": "markdown",
   "metadata": {},
   "source": [
    "## 4) \n",
    "### Ajouter la valeur 4 à `s3` et afficher le."
   ]
  },
  {
   "cell_type": "code",
   "execution_count": 4,
   "metadata": {},
   "outputs": [
    {
     "name": "stdout",
     "output_type": "stream",
     "text": [
      "{1, 2, 3, '4'}\n"
     ]
    }
   ],
   "source": [
    "s3 = {1, 2, 3}\n",
    "s4 = {3,2,3,1}\n",
    "s3.add('4')\n",
    "print(s3)"
   ]
  },
  {
   "cell_type": "markdown",
   "metadata": {},
   "source": [
    "## 5)\n",
    "### Supprimer la dernière valeur ajoutée à `s3`"
   ]
  },
  {
   "cell_type": "code",
   "execution_count": 6,
   "metadata": {},
   "outputs": [
    {
     "name": "stdout",
     "output_type": "stream",
     "text": [
      "{1, 2, 3, '4'}\n",
      "{1, 2, 3}\n"
     ]
    }
   ],
   "source": [
    "s3 = {1, 2, 3}\n",
    "s4 = {3,2,3,1}\n",
    "s3.add('4')\n",
    "print(s3)\n",
    "s3.remove('4')\n",
    "print(s3)"
   ]
  },
  {
   "cell_type": "markdown",
   "metadata": {},
   "source": [
    "\n",
    "\n",
    "\n",
    "## 6)\n",
    "\n",
    "### Définir un dictionnaire par individu, respectivement, `d1`, `d2`, `d3` contenant les données suivantes : \n",
    "\n",
    "#### Pierre, 21 ans, 1m80\n",
    "#### Paul, 89 ans, 1m75\n",
    "#### Jacques, 16 ans, 1m65\n",
    "\n",
    "#### Afficher la taille du premier dictionnaire, ses items, ses clés.\n",
    "\n"
   ]
  },
  {
   "cell_type": "code",
   "execution_count": 128,
   "metadata": {},
   "outputs": [
    {
     "name": "stdout",
     "output_type": "stream",
     "text": [
      "{'prénom': 'Pierre', 'age': '21 ans', 'taille': '1m80'}\n",
      "3\n",
      "Pierre\n",
      "21 ans\n",
      "1m80\n",
      "prénom\n",
      "age\n",
      "taille\n"
     ]
    }
   ],
   "source": [
    "d1 = {}\n",
    "d1[\"prénom\"] = \"Pierre\"\n",
    "d1[\"age\"] = \"21 ans\"\n",
    "d1[\"taille\"] = \"1m80\"\n",
    "print(d1)\n",
    "print(len(d1))\n",
    "da =d1.get(\"prénom\")\n",
    "print(da)\n",
    "db = d1.get(\"age\")\n",
    "print(db)\n",
    "dc = d1.get(\"taille\")\n",
    "print(dc)\n",
    "for cle in d1.keys():\n",
    "    print(cle)"
   ]
  },
  {
   "cell_type": "markdown",
   "metadata": {},
   "source": [
    "## 6)\n",
    "\n",
    "### Créer un dictionnaire `d` avec simplement les prénoms et les âges."
   ]
  },
  {
   "cell_type": "code",
   "execution_count": 129,
   "metadata": {},
   "outputs": [
    {
     "name": "stdout",
     "output_type": "stream",
     "text": [
      "{'prénom': 'Pierre', 'age': '21 ans', 'taille': '1m80'}\n"
     ]
    }
   ],
   "source": [
    "d1[\"prénom\"] = \"Pierre\"\n",
    "d1[\"age\"] = \"21 ans\"\n",
    "d1[\"taille\"] = \"1m80\"\n",
    "print(d1)"
   ]
  },
  {
   "cell_type": "markdown",
   "metadata": {},
   "source": [
    "## 8)\n",
    "\n",
    "### Après un examen, les notes des étudiants sont les suivantes :\n",
    "\n",
    "#### Florian : abs\n",
    "#### Antoine : 12\n",
    "#### Clara : 15\n",
    "#### Robert : 0\n",
    "#### Agathe : 8\n",
    "#### Erwan : 7\n",
    "#### Zoé : 20\n",
    "#### Xavier : 11\n",
    "#### Didier : 20\n",
    "#### Alain : 0\n",
    "#### Hadi : 12"
   ]
  },
  {
   "cell_type": "code",
   "execution_count": 130,
   "metadata": {},
   "outputs": [
    {
     "data": {
      "text/plain": [
       "{'Florian': 'abs',\n",
       " 'Antoine': '12',\n",
       " 'Clara': '15',\n",
       " 'Robert': '0',\n",
       " 'Agathe': '8',\n",
       " 'Erwan': '7',\n",
       " 'Zoé': '20',\n",
       " 'Xavier': '11',\n",
       " 'Didier': '20',\n",
       " 'Alain': '0',\n",
       " 'Hadi': '12'}"
      ]
     },
     "execution_count": 130,
     "metadata": {},
     "output_type": "execute_result"
    }
   ],
   "source": [
    "note={'Florian':'abs',\n",
    "      'Antoine':'12',\n",
    "      'Clara':'15',\n",
    "      'Robert':'0',\n",
    "      'Agathe':'8',\n",
    "      'Erwan':'7',\n",
    "      'Zoé':'20',\n",
    "      'Xavier':'11',\n",
    "      'Didier':'20',\n",
    "      'Alain':'0',\n",
    "      'Hadi':'12'}\n",
    "note\n"
   ]
  },
  {
   "cell_type": "markdown",
   "metadata": {},
   "source": [
    "## 9)\n",
    "\n",
    "### Écrire une fonction `supp_abs` permettant de supprimer du dictionnaire toutes les informations relatives aux élèves absent."
   ]
  },
  {
   "cell_type": "code",
   "execution_count": 8,
   "metadata": {},
   "outputs": [
    {
     "ename": "IndentationError",
     "evalue": "unexpected indent (<ipython-input-8-4f9e704789b1>, line 13)",
     "output_type": "error",
     "traceback": [
      "\u001b[1;36m  File \u001b[1;32m\"<ipython-input-8-4f9e704789b1>\"\u001b[1;36m, line \u001b[1;32m13\u001b[0m\n\u001b[1;33m    def supp_abs(dico):\u001b[0m\n\u001b[1;37m    ^\u001b[0m\n\u001b[1;31mIndentationError\u001b[0m\u001b[1;31m:\u001b[0m unexpected indent\n"
     ]
    }
   ],
   "source": [
    "note={'Florian':'abs',\n",
    "      'Antoine':'12',\n",
    "      'Clara':'15',\n",
    "      'Robert':'0',\n",
    "      'Agathe':'8',\n",
    "      'Erwan':'7',\n",
    "      'Zoé':'20',\n",
    "      'Xavier':'11',\n",
    "      'Didier':'20',\n",
    "      'Alain':'0',\n",
    "      'Hadi':'12'}\n",
    "    def supp_abs(dico):\n",
    "        dico2 = {key:val for key, val in lst.items() \n",
    "              if val != \"abs\"}      \n",
    "    return lst\n"
   ]
  },
  {
   "cell_type": "code",
   "execution_count": 102,
   "metadata": {},
   "outputs": [],
   "source": []
  },
  {
   "cell_type": "code",
   "execution_count": null,
   "metadata": {},
   "outputs": [],
   "source": []
  },
  {
   "cell_type": "markdown",
   "metadata": {},
   "source": [
    "## 10)\n",
    "\n",
    "### Écrire une fonction `moy` qui permet de calculer et d’afficher la moyenne de l’examen."
   ]
  },
  {
   "cell_type": "code",
   "execution_count": 5,
   "metadata": {},
   "outputs": [
    {
     "name": "stdout",
     "output_type": "stream",
     "text": [
      "{'nom': 0, 'Antoine': 12, 'Clara': 15, 'Robert': 0, 'Agathe ': 8}\n"
     ]
    },
    {
     "data": {
      "text/plain": [
       "dict_values([0, 12, 15, 0, 8])"
      ]
     },
     "execution_count": 5,
     "metadata": {},
     "output_type": "execute_result"
    }
   ],
   "source": [
    "classe = {'nom':0, 'Antoine':12, 'Clara':15,'Robert':0,'Agathe ' : 8 }\n",
    "print(classe)\n",
    "classe.values()\n"
   ]
  },
  {
   "cell_type": "code",
   "execution_count": 5,
   "metadata": {},
   "outputs": [],
   "source": [
    "def moy ():\n",
    "    notes = [12, 15, 0, 8, 7, 20, 11, 20, 0, 12]\n",
    "    Sn =  (12*2)+15+(0*2)+8+7+(20*2)+11\n",
    "    m = Sn/len(notes)\n",
    "    return('La moyenne de lexamen est:',m)"
   ]
  },
  {
   "cell_type": "code",
   "execution_count": 6,
   "metadata": {},
   "outputs": [
    {
     "data": {
      "text/plain": [
       "('La moyenne de lexamen est:', 10.5)"
      ]
     },
     "execution_count": 6,
     "metadata": {},
     "output_type": "execute_result"
    }
   ],
   "source": [
    "moy()"
   ]
  },
  {
   "cell_type": "markdown",
   "metadata": {},
   "source": [
    "## 11)\n",
    "\n",
    "### Écrire une fonction `print_admis` qui permet d’afficher le nom et la note de chacun des élèves, avec la mention \"admis\" si la note est supérieure ou égale à 10, ou bien \"recalé\" sinon."
   ]
  },
  {
   "cell_type": "code",
   "execution_count": 10,
   "metadata": {},
   "outputs": [],
   "source": []
  },
  {
   "cell_type": "code",
   "execution_count": 2,
   "metadata": {},
   "outputs": [
    {
     "ename": "NameError",
     "evalue": "name 'examen' is not defined",
     "output_type": "error",
     "traceback": [
      "\u001b[1;31m----------------------------------------------------------\u001b[0m",
      "\u001b[1;31mNameError\u001b[0m                Traceback (most recent call last)",
      "\u001b[1;32m<ipython-input-2-5f6b90d59441>\u001b[0m in \u001b[0;36m<module>\u001b[1;34m\u001b[0m\n\u001b[1;32m----> 1\u001b[1;33m \u001b[0mprint\u001b[0m\u001b[1;33m(\u001b[0m\u001b[0mexamen\u001b[0m\u001b[1;33m)\u001b[0m\u001b[1;33m\u001b[0m\u001b[1;33m\u001b[0m\u001b[0m\n\u001b[0m\u001b[0;32m      2\u001b[0m \u001b[1;32mdef\u001b[0m \u001b[0mprint_admis\u001b[0m\u001b[1;33m(\u001b[0m\u001b[0mdico\u001b[0m\u001b[1;33m)\u001b[0m\u001b[1;33m:\u001b[0m\u001b[1;33m\u001b[0m\u001b[1;33m\u001b[0m\u001b[0m\n\u001b[0;32m      3\u001b[0m     \u001b[1;32mfor\u001b[0m \u001b[0mkey\u001b[0m\u001b[1;33m,\u001b[0m\u001b[0mvaleur\u001b[0m \u001b[1;32min\u001b[0m \u001b[0mdico\u001b[0m\u001b[1;33m.\u001b[0m\u001b[0mitems\u001b[0m\u001b[1;33m(\u001b[0m\u001b[1;33m)\u001b[0m\u001b[1;33m:\u001b[0m\u001b[1;33m\u001b[0m\u001b[1;33m\u001b[0m\u001b[0m\n\u001b[0;32m      4\u001b[0m         \u001b[1;32mif\u001b[0m \u001b[0mvaleur\u001b[0m\u001b[1;33m>=\u001b[0m \u001b[1;36m10\u001b[0m \u001b[1;33m:\u001b[0m\u001b[1;33m\u001b[0m\u001b[1;33m\u001b[0m\u001b[0m\n\u001b[0;32m      5\u001b[0m             \u001b[0mprint\u001b[0m\u001b[1;33m(\u001b[0m\u001b[0mkey\u001b[0m\u001b[1;33m,\u001b[0m\u001b[1;34m\"vous êtes admis avec une note de\"\u001b[0m\u001b[1;33m,\u001b[0m \u001b[0mvaleur\u001b[0m\u001b[1;33m)\u001b[0m\u001b[1;33m\u001b[0m\u001b[1;33m\u001b[0m\u001b[0m\n",
      "\u001b[1;31mNameError\u001b[0m: name 'examen' is not defined"
     ]
    }
   ],
   "source": [
    "\n",
    "print(examen)\n",
    "def print_admis(dico):\n",
    "    for key,valeur in dico.items():\n",
    "        if valeur>= 10 : \n",
    "            print(key,\"vous êtes admis avec une note de\", valeur)\n",
    "        else:\n",
    "            print(key,\"vous êtes recalé avec une note de\", valeur)"
   ]
  },
  {
   "cell_type": "markdown",
   "metadata": {},
   "source": [
    "## 12)\n",
    "\n",
    "### Modifier la fonction `print_admis` pour qu’elle stocke dans deux listes distinctes, les noms des élèves ayant réussi leur examen et ceux des élèves ayant raté leur examen."
   ]
  },
  {
   "cell_type": "code",
   "execution_count": 1,
   "metadata": {},
   "outputs": [
    {
     "ename": "NameError",
     "evalue": "name 'note' is not defined",
     "output_type": "error",
     "traceback": [
      "\u001b[1;31m----------------------------------------------------------\u001b[0m",
      "\u001b[1;31mNameError\u001b[0m                Traceback (most recent call last)",
      "\u001b[1;32m<ipython-input-1-056785eee1a7>\u001b[0m in \u001b[0;36m<module>\u001b[1;34m\u001b[0m\n\u001b[0;32m      9\u001b[0m     \u001b[0mprint\u001b[0m\u001b[1;33m(\u001b[0m\u001b[1;34m'admis'\u001b[0m\u001b[1;33m,\u001b[0m\u001b[1;34m'\\t recalé'\u001b[0m\u001b[1;33m)\u001b[0m\u001b[1;33m\u001b[0m\u001b[1;33m\u001b[0m\u001b[0m\n\u001b[0;32m     10\u001b[0m     \u001b[1;32mreturn\u001b[0m\u001b[1;33m\u001b[0m\u001b[1;33m\u001b[0m\u001b[0m\n\u001b[1;32m---> 11\u001b[1;33m \u001b[0mprint_admis\u001b[0m\u001b[1;33m(\u001b[0m\u001b[0mnote\u001b[0m\u001b[1;33m)\u001b[0m\u001b[1;33m\u001b[0m\u001b[1;33m\u001b[0m\u001b[0m\n\u001b[0m",
      "\u001b[1;31mNameError\u001b[0m: name 'note' is not defined"
     ]
    }
   ],
   "source": [
    "def print_admis(note):\n",
    "    for cle,valeur in dic.items():\n",
    "        if valeur!='abs' and float(valeur)>=10:\n",
    "            L_admis=cle\n",
    "            print(L_admis)\n",
    "        else:\n",
    "            L_recalé=cle\n",
    "            print('\\t',L_recalé)\n",
    "    print('admis','\\t recalé')\n",
    "    return\n",
    "print_admis(note)"
   ]
  },
  {
   "cell_type": "code",
   "execution_count": 15,
   "metadata": {},
   "outputs": [
    {
     "ename": "NameError",
     "evalue": "name 'note' is not defined",
     "output_type": "error",
     "traceback": [
      "\u001b[1;31m---------------------------------------------------------------------------\u001b[0m",
      "\u001b[1;31mNameError\u001b[0m                                 Traceback (most recent call last)",
      "\u001b[1;32m<ipython-input-15-9f9314c84878>\u001b[0m in \u001b[0;36m<module>\u001b[1;34m\u001b[0m\n\u001b[1;32m----> 1\u001b[1;33m \u001b[0mprint_admis\u001b[0m\u001b[1;33m(\u001b[0m\u001b[0mnote\u001b[0m\u001b[1;33m)\u001b[0m\u001b[1;33m\u001b[0m\u001b[1;33m\u001b[0m\u001b[0m\n\u001b[0m",
      "\u001b[1;31mNameError\u001b[0m: name 'note' is not defined"
     ]
    }
   ],
   "source": [
    "print_admis(note)"
   ]
  },
  {
   "cell_type": "markdown",
   "metadata": {},
   "source": [
    "## 13)\n",
    "\n",
    "### Écrire une fonction `saisie_notes` permettant de saisir et d’intégrer dans le dictionnaire les notes de nouveaux étudiants en supposant que les nouvelles sont respectivement contenues dans une liste de prénoms et une liste de notes."
   ]
  },
  {
   "cell_type": "code",
   "execution_count": null,
   "metadata": {},
   "outputs": [
    {
     "name": "stdout",
     "output_type": "stream",
     "text": [
      "entrer le nom de l'élève : Robert\n"
     ]
    }
   ],
   "source": [
    "def saisie_notes(a):\n",
    "    print(dict)\n",
    "    nb = len(dict)\n",
    "    etudiants = []\n",
    "    notes = []    \n",
    "    dict.update(a)   \n",
    "    return dict\n",
    "nom = input(\"entrer le nom de l'élève : \")\n",
    "note = int(input(\"entrer la note de l'élève: \"))\n",
    "saisie_notes({nom:note})"
   ]
  },
  {
   "cell_type": "markdown",
   "metadata": {},
   "source": [
    "## 14)\n",
    "\n",
    "### Choisissez 5 mots de la langue française et créez un dictionnaire qui associe à chacun de ces mots sa traduction en anglais.\n"
   ]
  },
  {
   "cell_type": "code",
   "execution_count": 150,
   "metadata": {},
   "outputs": [
    {
     "data": {
      "text/plain": [
       "{'bonjour': 'Hello',\n",
       " 'fraise': 'strawberry',\n",
       " 'cochon': 'pig',\n",
       " 'chien ': 'dog',\n",
       " 'chat': 'cat'}"
      ]
     },
     "execution_count": 150,
     "metadata": {},
     "output_type": "execute_result"
    }
   ],
   "source": [
    "dico={'bonjour':'Hello',\n",
    "      'fraise':'strawberry',\n",
    "      'cochon':'pig',\n",
    "      'chien ':'dog',\n",
    "      'chat':'cat',}\n",
    "dico"
   ]
  },
  {
   "cell_type": "markdown",
   "metadata": {},
   "source": [
    "## 15)\n",
    "\n",
    "### Ajoutez une entrée au dictionnaire de la question précédente (un nouveau mot et sa traduction). \n"
   ]
  },
  {
   "cell_type": "code",
   "execution_count": 148,
   "metadata": {},
   "outputs": [
    {
     "data": {
      "text/plain": [
       "{'ordinateur portable': 'laptop',\n",
       " 'bonjour': 'Hello',\n",
       " 'fraise': 'strawberry',\n",
       " 'cochon': 'pig',\n",
       " 'chien ': 'dog',\n",
       " 'chat': 'cat'}"
      ]
     },
     "execution_count": 148,
     "metadata": {},
     "output_type": "execute_result"
    }
   ],
   "source": [
    "dico={'ordinateur portable':'laptop',\n",
    "      'bonjour':'Hello',\n",
    "      'fraise':'strawberry',\n",
    "      'cochon':'pig',\n",
    "      'chien ':'dog',\n",
    "      'chat':'cat',}\n",
    "dico"
   ]
  },
  {
   "cell_type": "code",
   "execution_count": null,
   "metadata": {},
   "outputs": [],
   "source": []
  },
  {
   "cell_type": "markdown",
   "metadata": {},
   "source": [
    "## 16)\n",
    "\n",
    "### Écrivez une fonction `add(word1, word2, d`) qui prend en argument un mot en français, sa traduction en anglais et ajoute ces deux mots dans le dictionnaire d uniquement si `word1` n’est pas une clé du dictionnaire. Si le `word1` est déjà présent, la fonction devra afficher le texte suivant : \"The word word is already as a key in d.\"\n"
   ]
  },
  {
   "cell_type": "code",
   "execution_count": null,
   "metadata": {},
   "outputs": [],
   "source": [
    "def add(word1, word2, d) :\n",
    "    if word1 in d :\n",
    "        pass\n",
    "    else :\n",
    "        d[word1] = word2   \n",
    "        print (d)"
   ]
  },
  {
   "cell_type": "code",
   "execution_count": null,
   "metadata": {},
   "outputs": [],
   "source": []
  },
  {
   "cell_type": "markdown",
   "metadata": {},
   "source": [
    "17)\n",
    "Écrivez une fonction print_d qui affiche à l’écran toutes les valeurs correspondant aux clés qui sont dans votre dictionnaire \n",
    "(ici, tous les mots en anglais qui apparaissent dans votre dictionnaire)."
   ]
  },
  {
   "cell_type": "code",
   "execution_count": null,
   "metadata": {},
   "outputs": [],
   "source": []
  },
  {
   "cell_type": "markdown",
   "metadata": {},
   "source": [
    "## 18)\n",
    "\n",
    "### Écrivez une fonction `delete_d(car, d)` qui prend en argument un caractère car et un dictionnaire d et supprime du dictionnaire toutes les entrées correspondant à des traductions qui commencent par la lettre c."
   ]
  },
  {
   "cell_type": "code",
   "execution_count": null,
   "metadata": {},
   "outputs": [],
   "source": [
    "car = 'c' or 'C'\n",
    "def delete_d(car,d) : \n",
    "    cles = list(d.keys())\n",
    "    valeurs = list(d.values())\n",
    "    print(cles)\n",
    "    i = 0\n",
    "    while i<len(cles) :\n",
    "        print(cles[i])\n",
    "        if valeurs[i][0] == car :\n",
    "            del d[cles[i]]\n",
    "        i+= 1\n",
    "    #for key,value in d.items():\n",
    "    #    print(\"mot en fr :\", key, \". le mot anglais \", value, \"commence par \", d[key][0])\n",
    "    #    if d[key][0] == car :\n",
    "    #        del d[key]\n",
    "    return \n"
   ]
  },
  {
   "cell_type": "code",
   "execution_count": null,
   "metadata": {},
   "outputs": [],
   "source": [
    "delete_d(car,trad)\n",
    "print (trad)"
   ]
  },
  {
   "cell_type": "code",
   "execution_count": 1,
   "metadata": {},
   "outputs": [],
   "source": []
  },
  {
   "cell_type": "code",
   "execution_count": null,
   "metadata": {},
   "outputs": [],
   "source": []
  }
 ],
 "metadata": {
  "kernelspec": {
   "display_name": "Python 3",
   "language": "python",
   "name": "python3"
  },
  "language_info": {
   "codemirror_mode": {
    "name": "ipython",
    "version": 3
   },
   "file_extension": ".py",
   "mimetype": "text/x-python",
   "name": "python",
   "nbconvert_exporter": "python",
   "pygments_lexer": "ipython3",
   "version": "3.7.4"
  }
 },
 "nbformat": 4,
 "nbformat_minor": 2
}
