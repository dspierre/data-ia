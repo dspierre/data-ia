{
 "cells": [
  {
   "cell_type": "markdown",
   "metadata": {},
   "source": [
    "# Projet ML Non Supervisé - Kmeans "
   ]
  },
  {
   "cell_type": "markdown",
   "metadata": {},
   "source": [
    "\n",
    "L'objectif de ce projet est d'étudier la méthode des **K-Means (ou K-Moyennes)** pour créer des groupes (ou clusters) de films à partir de leur description en ayant scrapper des données au préalable.\n",
    "\n",
    "Les K-Means (ou K-moyennes) font partie des méthodes d'**apprentissage non-supervisé** dans lesquelles la variable cible (Target) n'est pas connue. L'idée est de regrouper les éléments ayant des caractéristiques communes et de créer ainsi des clusters (ou groupes) bien différenciés les uns des autres.\n",
    "\n",
    "<div>\n",
    "<img src=\"k%20means.png\" width=\"500\"/>\n",
    "</div>\n",
    "\n",
    "\n",
    "Dans ce projet, nous allons travailler à partir de données à scrapper à partir du site IMdB qui contient notamment toutes les informations relatives à des films. \n",
    "\n",
    "A partir des résumés de films (**Plot Summary**) disponibles pour chaque film, l'objectif est d'extraire des caractéristiques (ou features) de films en utilisant les techniques de **NLP (Natural Language Processing)**. \n",
    "Les K-Means sont ensuite appliqués dans un second temps pour déterminer des clusters de films sur la base des features construites précédemment. "
   ]
  },
  {
   "cell_type": "markdown",
   "metadata": {},
   "source": [
    "### Instructions de suivi de projet : \n",
    "\n",
    "- Comme pour le suivi du projet de Machine Learning Supervisé, nous allons désigner un/une chef(fe) de projet qui devra nous restituer l'avancement et planifier les tâches \n",
    "- Vous devrez créer des réunions et y inviter Nora et Samira \n",
    "- Le projet durera 2 jours consécutifs : Lundi 29/06 et Mardi 30/06.\n",
    "- Les groupes seront imposés. \n",
    "- Un groupe sera tiré au sort mardi en fin de journée et devra présenter son travail Jeudi en début de matinée pendant 15 minutes. Le seul support à utiliser sera votre notebook. Pour facilier vos échanges, nous vous conseillons d'utiliser Google Colab.\n",
    "\n"
   ]
  },
  {
   "cell_type": "markdown",
   "metadata": {},
   "source": [
    "### Les étapes du projet sont listées ci-dessous : \n",
    "1. Scrapping du top 100 des films listés sur le site **`IMdB`** à cette url (en utilisant beautifoulSoup) : 'https://www.imdb.com/list/ls055592025/'. Vous devez récupérer les informations suivantes pour constituer un dataframe:\n",
    "    - **titre du film** \n",
    "    - **genre**\n",
    "    - **année** \n",
    "    - **synopsis**\n",
    "    - **note numérique**\n",
    "    \n",
    "    \n",
    "2. Preprocessing : Vous devez faire une veille sur les prétraitements nécessaires au NLP listés ci-après et les appliquer dans le bon ordre à vos données. Pour chacun des prétraitements, vous devrez **synthétiser** la méthode en quelques mots à l'écrit dans le notebook. Les traitements à utiliser sont les suivants:\n",
    "    - **cos2 similarity**\n",
    "    - **stemming**\n",
    "    - **Normalisation**\n",
    "    - **Stopwords**\n",
    "    - **tokenization**\n",
    "    \n",
    "    \n",
    "3. Classificaiton non supervisée : **`K-Means`**\n",
    "    - Faire une **veille** sur l'algorithme et la synthétiser en quelques lignes dans le notebook\n",
    "    - Lancer le modèle K-means pour **plusieurs valeurs de K** (nb clusters) en utilisant une liste et une boucle\n",
    "    - Analyser les **silhouette scores** puis fixer le nombre K. Lancer le **modèle final**\n",
    "    \n",
    "    \n",
    "4. **QUESTIONS BONUS** : Description des clusters. Ces questions sont à réaliser si le temps vous le permet et sont en aucun cas obligatoires.\n",
    "    - Afficher le barplot des mots les plus fréquents \n",
    "    - Afficher le WordClould des centroides\n",
    "    \n",
    "    "
   ]
  },
  {
   "cell_type": "code",
   "execution_count": 58,
   "metadata": {},
   "outputs": [],
   "source": [
    "import nltk\n",
    "import numpy as np\n",
    "import pandas as pd\n",
    "from bs4 import BeautifulSoup\n",
    "import requests\n",
    "from sklearn import preprocessing\n",
    "from sklearn.model_selection import train_test_split\n",
    "import matplotlib.pyplot as plt \n",
    "import seaborn as sns\n",
    "from nltk.stem import WordNetLemmatizer\n",
    "from nltk import word_tokenize\n",
    "#from nltk.corpus import stowords"
   ]
  },
  {
   "cell_type": "code",
   "execution_count": 2,
   "metadata": {},
   "outputs": [
    {
     "name": "stdout",
     "output_type": "stream",
     "text": [
      "(100, 5) \n",
      "                                 titre                               genre  \\\n",
      "0                          Les évadés                 \\nDrama               \n",
      "1                          Le parrain          \\nCrime, Drama               \n",
      "2             Le parrain, 2ème partie          \\nCrime, Drama               \n",
      "3  The Dark Knight: Le chevalier noir  \\nAction, Crime, Drama               \n",
      "4                 12 hommes en colère          \\nCrime, Drama               \n",
      "\n",
      "    année                                           synopsis  note numérique  \n",
      "0  (1994)  \\n    Two imprisoned men bond over a number of...             9.3  \n",
      "1  (1972)  \\n    The aging patriarch of an organized crim...             9.2  \n",
      "2  (1974)  \\n    The early life and career of Vito Corleo...             8.9  \n",
      "3  (2008)  \\n    When the menace known as the Joker wreak...             8.9  \n",
      "4  (1957)  \\n    A jury holdout attempts to prevent a mis...             8.9  \n"
     ]
    }
   ],
   "source": [
    "titre,genre,an,synopsis,notenum = [],[],[],[],[]\n",
    "page_content = requests.get('https://www.imdb.com/list/ls091520106/').content\n",
    "library_soup = BeautifulSoup(page_content, 'html.parser')\n",
    "titre = [t.text for t in library_soup.select('h3 a[href]')]\n",
    "genre = [g.text for g in library_soup.select('span.genre')]\n",
    "an = [a.text for a in library_soup.select('span.lister-item-year')]\n",
    "synopsis = [s.text for s in library_soup.find_all('p', class_='')][1:]\n",
    "notenum = [float(n.text) for n in library_soup.select('span.ipl-rating-star__rating') if len(n.text)==3]\n",
    "notem=np.mean([m for m in notenum])\n",
    "notenum.append(notem)\n",
    "notenum.append(notem)\n",
    "df100 = pd.DataFrame({'titre':titre,'genre':genre,'année':an,'synopsis':synopsis,'note numérique':notenum})\n",
    "print(df100.shape,'\\n',df100.head())"
   ]
  },
  {
   "cell_type": "code",
   "execution_count": null,
   "metadata": {},
   "outputs": [],
   "source": [
    "#cos2 similarity"
   ]
  },
  {
   "cell_type": "code",
   "execution_count": 3,
   "metadata": {
    "scrolled": true
   },
   "outputs": [
    {
     "data": {
      "text/html": [
       "<div>\n",
       "<style scoped>\n",
       "    .dataframe tbody tr th:only-of-type {\n",
       "        vertical-align: middle;\n",
       "    }\n",
       "\n",
       "    .dataframe tbody tr th {\n",
       "        vertical-align: top;\n",
       "    }\n",
       "\n",
       "    .dataframe thead th {\n",
       "        text-align: right;\n",
       "    }\n",
       "</style>\n",
       "<table border=\"1\" class=\"dataframe\">\n",
       "  <thead>\n",
       "    <tr style=\"text-align: right;\">\n",
       "      <th></th>\n",
       "      <th>titre</th>\n",
       "      <th>genre</th>\n",
       "      <th>année</th>\n",
       "      <th>synopsis</th>\n",
       "      <th>note numérique</th>\n",
       "    </tr>\n",
       "  </thead>\n",
       "  <tbody>\n",
       "    <tr>\n",
       "      <td>0</td>\n",
       "      <td>Les évadés</td>\n",
       "      <td>\\nDrama</td>\n",
       "      <td>(1994)</td>\n",
       "      <td>\\n    Two imprisoned men bond over a number of...</td>\n",
       "      <td>9.3</td>\n",
       "    </tr>\n",
       "    <tr>\n",
       "      <td>1</td>\n",
       "      <td>Le parrain</td>\n",
       "      <td>\\nCrime, Drama</td>\n",
       "      <td>(1972)</td>\n",
       "      <td>\\n    The aging patriarch of an organized crim...</td>\n",
       "      <td>9.2</td>\n",
       "    </tr>\n",
       "    <tr>\n",
       "      <td>2</td>\n",
       "      <td>Le parrain, 2ème partie</td>\n",
       "      <td>\\nCrime, Drama</td>\n",
       "      <td>(1974)</td>\n",
       "      <td>\\n    The early life and career of Vito Corleo...</td>\n",
       "      <td>8.9</td>\n",
       "    </tr>\n",
       "    <tr>\n",
       "      <td>3</td>\n",
       "      <td>The Dark Knight: Le chevalier noir</td>\n",
       "      <td>\\nAction, Crime, Drama</td>\n",
       "      <td>(2008)</td>\n",
       "      <td>\\n    When the menace known as the Joker wreak...</td>\n",
       "      <td>8.9</td>\n",
       "    </tr>\n",
       "    <tr>\n",
       "      <td>4</td>\n",
       "      <td>12 hommes en colère</td>\n",
       "      <td>\\nCrime, Drama</td>\n",
       "      <td>(1957)</td>\n",
       "      <td>\\n    A jury holdout attempts to prevent a mis...</td>\n",
       "      <td>8.9</td>\n",
       "    </tr>\n",
       "    <tr>\n",
       "      <td>5</td>\n",
       "      <td>La liste de Schindler</td>\n",
       "      <td>\\nBiography, Drama, History</td>\n",
       "      <td>(1993)</td>\n",
       "      <td>\\n    In German-occupied Poland during World W...</td>\n",
       "      <td>8.9</td>\n",
       "    </tr>\n",
       "    <tr>\n",
       "      <td>6</td>\n",
       "      <td>Le seigneur des anneaux: Le retour du roi</td>\n",
       "      <td>\\nAdventure, Drama, Fantasy</td>\n",
       "      <td>(2003)</td>\n",
       "      <td>\\n    Gandalf and Aragorn lead the World of Me...</td>\n",
       "      <td>8.8</td>\n",
       "    </tr>\n",
       "    <tr>\n",
       "      <td>7</td>\n",
       "      <td>Pulp Fiction</td>\n",
       "      <td>\\nCrime, Drama</td>\n",
       "      <td>(1994)</td>\n",
       "      <td>\\n    The lives of two mob hitmen, a boxer, a ...</td>\n",
       "      <td>8.8</td>\n",
       "    </tr>\n",
       "    <tr>\n",
       "      <td>8</td>\n",
       "      <td>Le bon, la brute et le truand</td>\n",
       "      <td>\\nWestern</td>\n",
       "      <td>(1966)</td>\n",
       "      <td>\\n    A bounty hunting scam joins two men in a...</td>\n",
       "      <td>8.5</td>\n",
       "    </tr>\n",
       "    <tr>\n",
       "      <td>9</td>\n",
       "      <td>Fight Club</td>\n",
       "      <td>\\nDrama</td>\n",
       "      <td>(1999)</td>\n",
       "      <td>\\n    An insomniac office worker and a devil-m...</td>\n",
       "      <td>8.8</td>\n",
       "    </tr>\n",
       "  </tbody>\n",
       "</table>\n",
       "</div>"
      ],
      "text/plain": [
       "                                       titre  \\\n",
       "0                                 Les évadés   \n",
       "1                                 Le parrain   \n",
       "2                    Le parrain, 2ème partie   \n",
       "3         The Dark Knight: Le chevalier noir   \n",
       "4                        12 hommes en colère   \n",
       "5                      La liste de Schindler   \n",
       "6  Le seigneur des anneaux: Le retour du roi   \n",
       "7                               Pulp Fiction   \n",
       "8              Le bon, la brute et le truand   \n",
       "9                                 Fight Club   \n",
       "\n",
       "                                     genre   année  \\\n",
       "0                      \\nDrama              (1994)   \n",
       "1               \\nCrime, Drama              (1972)   \n",
       "2               \\nCrime, Drama              (1974)   \n",
       "3       \\nAction, Crime, Drama              (2008)   \n",
       "4               \\nCrime, Drama              (1957)   \n",
       "5  \\nBiography, Drama, History              (1993)   \n",
       "6  \\nAdventure, Drama, Fantasy              (2003)   \n",
       "7               \\nCrime, Drama              (1994)   \n",
       "8                    \\nWestern              (1966)   \n",
       "9                      \\nDrama              (1999)   \n",
       "\n",
       "                                            synopsis  note numérique  \n",
       "0  \\n    Two imprisoned men bond over a number of...             9.3  \n",
       "1  \\n    The aging patriarch of an organized crim...             9.2  \n",
       "2  \\n    The early life and career of Vito Corleo...             8.9  \n",
       "3  \\n    When the menace known as the Joker wreak...             8.9  \n",
       "4  \\n    A jury holdout attempts to prevent a mis...             8.9  \n",
       "5  \\n    In German-occupied Poland during World W...             8.9  \n",
       "6  \\n    Gandalf and Aragorn lead the World of Me...             8.8  \n",
       "7  \\n    The lives of two mob hitmen, a boxer, a ...             8.8  \n",
       "8  \\n    A bounty hunting scam joins two men in a...             8.5  \n",
       "9  \\n    An insomniac office worker and a devil-m...             8.8  "
      ]
     },
     "execution_count": 3,
     "metadata": {},
     "output_type": "execute_result"
    }
   ],
   "source": [
    "df100.head(10)"
   ]
  },
  {
   "cell_type": "code",
   "execution_count": 4,
   "metadata": {},
   "outputs": [
    {
     "data": {
      "text/plain": [
       "<matplotlib.axes._subplots.AxesSubplot at 0x2b8aec1b1c8>"
      ]
     },
     "execution_count": 4,
     "metadata": {},
     "output_type": "execute_result"
    },
    {
     "data": {
      "image/png": "[encoded data removed]",
      "text/plain": [
       "<Figure size 1800x720 with 2 Axes>"
      ]
     },
     "metadata": {
      "needs_background": "light"
     },
     "output_type": "display_data"
    }
   ],
   "source": [
    "import missingno as  msno\n",
    "msno.matrix(df100)"
   ]
  },
  {
   "cell_type": "code",
   "execution_count": 5,
   "metadata": {},
   "outputs": [
    {
     "data": {
      "text/plain": [
       "<matplotlib.axes._subplots.AxesSubplot at 0x2b8aecbff48>"
      ]
     },
     "execution_count": 5,
     "metadata": {},
     "output_type": "execute_result"
    },
    {
     "data": {
      "image/png": "[encoded data removed]",
      "text/plain": [
       "<Figure size 432x288 with 1 Axes>"
      ]
     },
     "metadata": {
      "needs_background": "light"
     },
     "output_type": "display_data"
    }
   ],
   "source": [
    "sns.countplot(x='note numérique',data=df100)"
   ]
  },
  {
   "cell_type": "code",
   "execution_count": null,
   "metadata": {},
   "outputs": [],
   "source": [
    "##Normalisation"
   ]
  },
  {
   "cell_type": "code",
   "execution_count": 6,
   "metadata": {},
   "outputs": [],
   "source": [
    "d1 =df100\n",
    "d2=df100\n",
    "Synopsis_df =d2.drop(['titre','genre','année','note numérique'],axis=1)\n",
    "d2=df100\n",
    "d3=df100\n",
    "titre_df =d3.drop(['synopsis','genre','année','note numérique'],axis=1)\n"
   ]
  },
  {
   "cell_type": "code",
   "execution_count": 7,
   "metadata": {
    "scrolled": true
   },
   "outputs": [
    {
     "data": {
      "text/html": [
       "<div>\n",
       "<style scoped>\n",
       "    .dataframe tbody tr th:only-of-type {\n",
       "        vertical-align: middle;\n",
       "    }\n",
       "\n",
       "    .dataframe tbody tr th {\n",
       "        vertical-align: top;\n",
       "    }\n",
       "\n",
       "    .dataframe thead th {\n",
       "        text-align: right;\n",
       "    }\n",
       "</style>\n",
       "<table border=\"1\" class=\"dataframe\">\n",
       "  <thead>\n",
       "    <tr style=\"text-align: right;\">\n",
       "      <th></th>\n",
       "      <th>synopsis</th>\n",
       "    </tr>\n",
       "  </thead>\n",
       "  <tbody>\n",
       "    <tr>\n",
       "      <td>0</td>\n",
       "      <td>\\n    Two imprisoned men bond over a number of...</td>\n",
       "    </tr>\n",
       "    <tr>\n",
       "      <td>1</td>\n",
       "      <td>\\n    The aging patriarch of an organized crim...</td>\n",
       "    </tr>\n",
       "    <tr>\n",
       "      <td>2</td>\n",
       "      <td>\\n    The early life and career of Vito Corleo...</td>\n",
       "    </tr>\n",
       "    <tr>\n",
       "      <td>3</td>\n",
       "      <td>\\n    When the menace known as the Joker wreak...</td>\n",
       "    </tr>\n",
       "    <tr>\n",
       "      <td>4</td>\n",
       "      <td>\\n    A jury holdout attempts to prevent a mis...</td>\n",
       "    </tr>\n",
       "    <tr>\n",
       "      <td>5</td>\n",
       "      <td>\\n    In German-occupied Poland during World W...</td>\n",
       "    </tr>\n",
       "    <tr>\n",
       "      <td>6</td>\n",
       "      <td>\\n    Gandalf and Aragorn lead the World of Me...</td>\n",
       "    </tr>\n",
       "    <tr>\n",
       "      <td>7</td>\n",
       "      <td>\\n    The lives of two mob hitmen, a boxer, a ...</td>\n",
       "    </tr>\n",
       "    <tr>\n",
       "      <td>8</td>\n",
       "      <td>\\n    A bounty hunting scam joins two men in a...</td>\n",
       "    </tr>\n",
       "    <tr>\n",
       "      <td>9</td>\n",
       "      <td>\\n    An insomniac office worker and a devil-m...</td>\n",
       "    </tr>\n",
       "  </tbody>\n",
       "</table>\n",
       "</div>"
      ],
      "text/plain": [
       "                                            synopsis\n",
       "0  \\n    Two imprisoned men bond over a number of...\n",
       "1  \\n    The aging patriarch of an organized crim...\n",
       "2  \\n    The early life and career of Vito Corleo...\n",
       "3  \\n    When the menace known as the Joker wreak...\n",
       "4  \\n    A jury holdout attempts to prevent a mis...\n",
       "5  \\n    In German-occupied Poland during World W...\n",
       "6  \\n    Gandalf and Aragorn lead the World of Me...\n",
       "7  \\n    The lives of two mob hitmen, a boxer, a ...\n",
       "8  \\n    A bounty hunting scam joins two men in a...\n",
       "9  \\n    An insomniac office worker and a devil-m..."
      ]
     },
     "execution_count": 7,
     "metadata": {},
     "output_type": "execute_result"
    }
   ],
   "source": [
    "Synopsis_df.head(10)"
   ]
  },
  {
   "cell_type": "code",
   "execution_count": 8,
   "metadata": {},
   "outputs": [
    {
     "data": {
      "text/html": [
       "<div>\n",
       "<style scoped>\n",
       "    .dataframe tbody tr th:only-of-type {\n",
       "        vertical-align: middle;\n",
       "    }\n",
       "\n",
       "    .dataframe tbody tr th {\n",
       "        vertical-align: top;\n",
       "    }\n",
       "\n",
       "    .dataframe thead th {\n",
       "        text-align: right;\n",
       "    }\n",
       "</style>\n",
       "<table border=\"1\" class=\"dataframe\">\n",
       "  <thead>\n",
       "    <tr style=\"text-align: right;\">\n",
       "      <th></th>\n",
       "      <th>titre</th>\n",
       "    </tr>\n",
       "  </thead>\n",
       "  <tbody>\n",
       "    <tr>\n",
       "      <td>0</td>\n",
       "      <td>Les évadés</td>\n",
       "    </tr>\n",
       "    <tr>\n",
       "      <td>1</td>\n",
       "      <td>Le parrain</td>\n",
       "    </tr>\n",
       "    <tr>\n",
       "      <td>2</td>\n",
       "      <td>Le parrain, 2ème partie</td>\n",
       "    </tr>\n",
       "    <tr>\n",
       "      <td>3</td>\n",
       "      <td>The Dark Knight: Le chevalier noir</td>\n",
       "    </tr>\n",
       "    <tr>\n",
       "      <td>4</td>\n",
       "      <td>12 hommes en colère</td>\n",
       "    </tr>\n",
       "    <tr>\n",
       "      <td>5</td>\n",
       "      <td>La liste de Schindler</td>\n",
       "    </tr>\n",
       "    <tr>\n",
       "      <td>6</td>\n",
       "      <td>Le seigneur des anneaux: Le retour du roi</td>\n",
       "    </tr>\n",
       "    <tr>\n",
       "      <td>7</td>\n",
       "      <td>Pulp Fiction</td>\n",
       "    </tr>\n",
       "    <tr>\n",
       "      <td>8</td>\n",
       "      <td>Le bon, la brute et le truand</td>\n",
       "    </tr>\n",
       "    <tr>\n",
       "      <td>9</td>\n",
       "      <td>Fight Club</td>\n",
       "    </tr>\n",
       "  </tbody>\n",
       "</table>\n",
       "</div>"
      ],
      "text/plain": [
       "                                       titre\n",
       "0                                 Les évadés\n",
       "1                                 Le parrain\n",
       "2                    Le parrain, 2ème partie\n",
       "3         The Dark Knight: Le chevalier noir\n",
       "4                        12 hommes en colère\n",
       "5                      La liste de Schindler\n",
       "6  Le seigneur des anneaux: Le retour du roi\n",
       "7                               Pulp Fiction\n",
       "8              Le bon, la brute et le truand\n",
       "9                                 Fight Club"
      ]
     },
     "execution_count": 8,
     "metadata": {},
     "output_type": "execute_result"
    }
   ],
   "source": [
    "titre_df.head(10)"
   ]
  },
  {
   "cell_type": "code",
   "execution_count": 9,
   "metadata": {},
   "outputs": [
    {
     "name": "stdout",
     "output_type": "stream",
     "text": [
      "                                             synopsis\n",
      "0   \\n    two imprisoned men bond over a number of...\n",
      "1   \\n    the aging patriarch of an organized crim...\n",
      "2   \\n    the early life and career of vito corleo...\n",
      "3   \\n    when the menace known as the joker wreak...\n",
      "4   \\n    a jury holdout attempts to prevent a mis...\n",
      "..                                                ...\n",
      "95  \\n    a new york city advertising executive go...\n",
      "96  \\n    in the future, a sadistic gang leader is...\n",
      "97  \\n    unscrupulous boxing promoters, violent b...\n",
      "98  \\n    amélie is an innocent and naive girl in ...\n",
      "99  \\n    the tramp cares for an abandoned child, ...\n",
      "\n",
      "[100 rows x 1 columns]\n"
     ]
    }
   ],
   "source": [
    "Synopsis_df = Synopsis_df.astype(str).apply(lambda x: x.str.lower())\n",
    "print (Synopsis_df)"
   ]
  },
  {
   "cell_type": "markdown",
   "metadata": {},
   "source": [
    "## Tokenisation"
   ]
  },
  {
   "cell_type": "code",
   "execution_count": 80,
   "metadata": {},
   "outputs": [
    {
     "data": {
      "text/html": [
       "<div>\n",
       "<style scoped>\n",
       "    .dataframe tbody tr th:only-of-type {\n",
       "        vertical-align: middle;\n",
       "    }\n",
       "\n",
       "    .dataframe tbody tr th {\n",
       "        vertical-align: top;\n",
       "    }\n",
       "\n",
       "    .dataframe thead th {\n",
       "        text-align: right;\n",
       "    }\n",
       "</style>\n",
       "<table border=\"1\" class=\"dataframe\">\n",
       "  <thead>\n",
       "    <tr style=\"text-align: right;\">\n",
       "      <th></th>\n",
       "      <th>mots décomposer</th>\n",
       "    </tr>\n",
       "  </thead>\n",
       "  <tbody>\n",
       "    <tr>\n",
       "      <td>0</td>\n",
       "      <td>[two, imprisoned, men, bond, over, a, number, of, years,, finding, solace, and, eventual, redemption, through, acts, of, common, decency.]</td>\n",
       "    </tr>\n",
       "    <tr>\n",
       "      <td>1</td>\n",
       "      <td>[the, aging, patriarch, of, an, organized, crime, dynasty, transfers, control, of, his, clandestine, empire, to, his, reluctant, son.]</td>\n",
       "    </tr>\n",
       "    <tr>\n",
       "      <td>2</td>\n",
       "      <td>[the, early, life, and, career, of, vito, corleone, in, 1920s, new, york, city, is, portrayed,, while, his, son,, michael,, expands, and, tightens, his, grip, on, the, family, crime, syndicate.]</td>\n",
       "    </tr>\n",
       "    <tr>\n",
       "      <td>3</td>\n",
       "      <td>[when, the, menace, known, as, the, joker, wreaks, havoc, and, chaos, on, the, people, of, gotham,, batman, must, accept, one, of, the, greatest, psychological, and, physical, tests, of, his, ability, to, fight, injustice.]</td>\n",
       "    </tr>\n",
       "    <tr>\n",
       "      <td>4</td>\n",
       "      <td>[a, jury, holdout, attempts, to, prevent, a, miscarriage, of, justice, by, forcing, his, colleagues, to, reconsider, the, evidence.]</td>\n",
       "    </tr>\n",
       "    <tr>\n",
       "      <td>...</td>\n",
       "      <td>...</td>\n",
       "    </tr>\n",
       "    <tr>\n",
       "      <td>95</td>\n",
       "      <td>[a, new, york, city, advertising, executive, goes, on, the, run, after, being, mistaken, for, a, government, agent, by, a, group, of, foreign, spies.]</td>\n",
       "    </tr>\n",
       "    <tr>\n",
       "      <td>96</td>\n",
       "      <td>[in, the, future,, a, sadistic, gang, leader, is, imprisoned, and, volunteers, for, a, conduct-aversion, experiment,, but, it, doesn't, go, as, planned.]</td>\n",
       "    </tr>\n",
       "    <tr>\n",
       "      <td>97</td>\n",
       "      <td>[unscrupulous, boxing, promoters,, violent, bookmakers,, a, russian, gangster,, incompetent, amateur, robbers, and, supposedly, jewish, jewelers, fight, to, track, down, a, priceless, stolen, diamond.]</td>\n",
       "    </tr>\n",
       "    <tr>\n",
       "      <td>98</td>\n",
       "      <td>[amélie, is, an, innocent, and, naive, girl, in, paris, with, her, own, sense, of, justice., she, decides, to, help, those, around, her, and,, along, the, way,, discovers, love.]</td>\n",
       "    </tr>\n",
       "    <tr>\n",
       "      <td>99</td>\n",
       "      <td>[the, tramp, cares, for, an, abandoned, child,, but, events, put, that, relationship, in, jeopardy.]</td>\n",
       "    </tr>\n",
       "  </tbody>\n",
       "</table>\n",
       "<p>100 rows × 1 columns</p>\n",
       "</div>"
      ],
      "text/plain": [
       "                                                                                                                                                                                                                    mots décomposer\n",
       "0   [two, imprisoned, men, bond, over, a, number, of, years,, finding, solace, and, eventual, redemption, through, acts, of, common, decency.]                                                                                     \n",
       "1   [the, aging, patriarch, of, an, organized, crime, dynasty, transfers, control, of, his, clandestine, empire, to, his, reluctant, son.]                                                                                         \n",
       "2   [the, early, life, and, career, of, vito, corleone, in, 1920s, new, york, city, is, portrayed,, while, his, son,, michael,, expands, and, tightens, his, grip, on, the, family, crime, syndicate.]                             \n",
       "3   [when, the, menace, known, as, the, joker, wreaks, havoc, and, chaos, on, the, people, of, gotham,, batman, must, accept, one, of, the, greatest, psychological, and, physical, tests, of, his, ability, to, fight, injustice.]\n",
       "4   [a, jury, holdout, attempts, to, prevent, a, miscarriage, of, justice, by, forcing, his, colleagues, to, reconsider, the, evidence.]                                                                                           \n",
       "..                                                                                                                                   ...                                                                                           \n",
       "95  [a, new, york, city, advertising, executive, goes, on, the, run, after, being, mistaken, for, a, government, agent, by, a, group, of, foreign, spies.]                                                                         \n",
       "96  [in, the, future,, a, sadistic, gang, leader, is, imprisoned, and, volunteers, for, a, conduct-aversion, experiment,, but, it, doesn't, go, as, planned.]                                                                      \n",
       "97  [unscrupulous, boxing, promoters,, violent, bookmakers,, a, russian, gangster,, incompetent, amateur, robbers, and, supposedly, jewish, jewelers, fight, to, track, down, a, priceless, stolen, diamond.]                      \n",
       "98  [amélie, is, an, innocent, and, naive, girl, in, paris, with, her, own, sense, of, justice., she, decides, to, help, those, around, her, and,, along, the, way,, discovers, love.]                                             \n",
       "99  [the, tramp, cares, for, an, abandoned, child,, but, events, put, that, relationship, in, jeopardy.]                                                                                                                           \n",
       "\n",
       "[100 rows x 1 columns]"
      ]
     },
     "execution_count": 80,
     "metadata": {},
     "output_type": "execute_result"
    }
   ],
   "source": [
    "import pandas as pd\n",
    "from nltk.stem.snowball import SnowballStemmer\n",
    "df = pd.DataFrame(Synopsis_df)\n",
    "#print(df)\n",
    "lol = df.values.tolist()\n",
    "lol\n",
    "stemmer = SnowballStemmer(\"english\")\n",
    "# Sentences to be stemmed.\n",
    "data =  lol\n",
    "# Create the Pandas dataFrame.\n",
    "df = pd.DataFrame(data, columns = ['mots décomposer']) \n",
    "# Split the sentences to lists of words.\n",
    "df['mots décomposer'] = df['mots décomposer'].str.split()\n",
    "\n",
    "# Make sure we see the full column.\n",
    "pd.set_option('display.max_colwidth', -1)\n",
    "\n",
    "# Print dataframe.\n",
    "df "
   ]
  },
  {
   "cell_type": "markdown",
   "metadata": {},
   "source": [
    "## Suppression des stop words"
   ]
  },
  {
   "cell_type": "code",
   "execution_count": null,
   "metadata": {},
   "outputs": [],
   "source": [
    "import nltk\n",
    "from nltk.corpus import stopwords\n",
    "print(stopwords.words('english'))"
   ]
  },
  {
   "cell_type": "code",
   "execution_count": 105,
   "metadata": {},
   "outputs": [
    {
     "ename": "LookupError",
     "evalue": "\n**********************************************************************\n  Resource \u001b[93mstopwords\u001b[0m not found.\n  Please use the NLTK Downloader to obtain the resource:\n\n  \u001b[31m>>> import nltk\n  >>> nltk.download('stopwords')\n  \u001b[0m\n  For more information see: https://www.nltk.org/data.html\n\n  Attempted to load \u001b[93mcorpora/stopwords\u001b[0m\n\n  Searched in:\n    - 'C:\\\\Users\\\\pierremarie/nltk_data'\n    - 'C:\\\\ProgramData\\\\Anaconda3\\\\nltk_data'\n    - 'C:\\\\ProgramData\\\\Anaconda3\\\\share\\\\nltk_data'\n    - 'C:\\\\ProgramData\\\\Anaconda3\\\\lib\\\\nltk_data'\n    - 'C:\\\\Users\\\\pierremarie\\\\AppData\\\\Roaming\\\\nltk_data'\n    - 'C:\\\\nltk_data'\n    - 'D:\\\\nltk_data'\n    - 'E:\\\\nltk_data'\n**********************************************************************\n",
     "output_type": "error",
     "traceback": [
      "\u001b[1;31m---------------------------------------------------------------------------\u001b[0m",
      "\u001b[1;31mLookupError\u001b[0m                               Traceback (most recent call last)",
      "\u001b[1;32mC:\\ProgramData\\Anaconda3\\lib\\site-packages\\nltk\\corpus\\util.py\u001b[0m in \u001b[0;36m__load\u001b[1;34m(self)\u001b[0m\n\u001b[0;32m     85\u001b[0m                 \u001b[1;32mtry\u001b[0m\u001b[1;33m:\u001b[0m\u001b[1;33m\u001b[0m\u001b[1;33m\u001b[0m\u001b[0m\n\u001b[1;32m---> 86\u001b[1;33m                     \u001b[0mroot\u001b[0m \u001b[1;33m=\u001b[0m \u001b[0mnltk\u001b[0m\u001b[1;33m.\u001b[0m\u001b[0mdata\u001b[0m\u001b[1;33m.\u001b[0m\u001b[0mfind\u001b[0m\u001b[1;33m(\u001b[0m\u001b[1;34m'{}/{}'\u001b[0m\u001b[1;33m.\u001b[0m\u001b[0mformat\u001b[0m\u001b[1;33m(\u001b[0m\u001b[0mself\u001b[0m\u001b[1;33m.\u001b[0m\u001b[0msubdir\u001b[0m\u001b[1;33m,\u001b[0m \u001b[0mzip_name\u001b[0m\u001b[1;33m)\u001b[0m\u001b[1;33m)\u001b[0m\u001b[1;33m\u001b[0m\u001b[1;33m\u001b[0m\u001b[0m\n\u001b[0m\u001b[0;32m     87\u001b[0m                 \u001b[1;32mexcept\u001b[0m \u001b[0mLookupError\u001b[0m\u001b[1;33m:\u001b[0m\u001b[1;33m\u001b[0m\u001b[1;33m\u001b[0m\u001b[0m\n",
      "\u001b[1;32mC:\\ProgramData\\Anaconda3\\lib\\site-packages\\nltk\\data.py\u001b[0m in \u001b[0;36mfind\u001b[1;34m(resource_name, paths)\u001b[0m\n\u001b[0;32m    700\u001b[0m     \u001b[0mresource_not_found\u001b[0m \u001b[1;33m=\u001b[0m \u001b[1;34m'\\n%s\\n%s\\n%s\\n'\u001b[0m \u001b[1;33m%\u001b[0m \u001b[1;33m(\u001b[0m\u001b[0msep\u001b[0m\u001b[1;33m,\u001b[0m \u001b[0mmsg\u001b[0m\u001b[1;33m,\u001b[0m \u001b[0msep\u001b[0m\u001b[1;33m)\u001b[0m\u001b[1;33m\u001b[0m\u001b[1;33m\u001b[0m\u001b[0m\n\u001b[1;32m--> 701\u001b[1;33m     \u001b[1;32mraise\u001b[0m \u001b[0mLookupError\u001b[0m\u001b[1;33m(\u001b[0m\u001b[0mresource_not_found\u001b[0m\u001b[1;33m)\u001b[0m\u001b[1;33m\u001b[0m\u001b[1;33m\u001b[0m\u001b[0m\n\u001b[0m\u001b[0;32m    702\u001b[0m \u001b[1;33m\u001b[0m\u001b[0m\n",
      "\u001b[1;31mLookupError\u001b[0m: \n**********************************************************************\n  Resource \u001b[93mstopwords\u001b[0m not found.\n  Please use the NLTK Downloader to obtain the resource:\n\n  \u001b[31m>>> import nltk\n  >>> nltk.download('stopwords')\n  \u001b[0m\n  For more information see: https://www.nltk.org/data.html\n\n  Attempted to load \u001b[93mcorpora/stopwords.zip/stopwords/\u001b[0m\n\n  Searched in:\n    - 'C:\\\\Users\\\\pierremarie/nltk_data'\n    - 'C:\\\\ProgramData\\\\Anaconda3\\\\nltk_data'\n    - 'C:\\\\ProgramData\\\\Anaconda3\\\\share\\\\nltk_data'\n    - 'C:\\\\ProgramData\\\\Anaconda3\\\\lib\\\\nltk_data'\n    - 'C:\\\\Users\\\\pierremarie\\\\AppData\\\\Roaming\\\\nltk_data'\n    - 'C:\\\\nltk_data'\n    - 'D:\\\\nltk_data'\n    - 'E:\\\\nltk_data'\n**********************************************************************\n",
      "\nDuring handling of the above exception, another exception occurred:\n",
      "\u001b[1;31mLookupError\u001b[0m                               Traceback (most recent call last)",
      "\u001b[1;32m<ipython-input-105-283abf56e836>\u001b[0m in \u001b[0;36m<module>\u001b[1;34m\u001b[0m\n\u001b[0;32m      2\u001b[0m \u001b[1;32mfrom\u001b[0m \u001b[0mnltk\u001b[0m\u001b[1;33m.\u001b[0m\u001b[0mtokenize\u001b[0m \u001b[1;32mimport\u001b[0m \u001b[0mword_tokenize\u001b[0m\u001b[1;33m\u001b[0m\u001b[1;33m\u001b[0m\u001b[0m\n\u001b[0;32m      3\u001b[0m \u001b[1;33m\u001b[0m\u001b[0m\n\u001b[1;32m----> 4\u001b[1;33m \u001b[0mstop_words\u001b[0m \u001b[1;33m=\u001b[0m \u001b[0mset\u001b[0m\u001b[1;33m(\u001b[0m\u001b[0mstopwords\u001b[0m\u001b[1;33m.\u001b[0m\u001b[0mwords\u001b[0m\u001b[1;33m(\u001b[0m\u001b[1;34m'english'\u001b[0m\u001b[1;33m)\u001b[0m\u001b[1;33m)\u001b[0m\u001b[1;33m\u001b[0m\u001b[1;33m\u001b[0m\u001b[0m\n\u001b[0m\u001b[0;32m      5\u001b[0m \u001b[0mword_tokens\u001b[0m \u001b[1;33m=\u001b[0m \u001b[0mword_tokenize\u001b[0m\u001b[1;33m(\u001b[0m\u001b[1;33m)\u001b[0m\u001b[1;33m\u001b[0m\u001b[1;33m\u001b[0m\u001b[0m\n\u001b[0;32m      6\u001b[0m \u001b[0mfiltered_sentence\u001b[0m \u001b[1;33m=\u001b[0m \u001b[1;33m[\u001b[0m\u001b[0mw\u001b[0m \u001b[1;32mfor\u001b[0m \u001b[0mw\u001b[0m \u001b[1;32min\u001b[0m \u001b[0mword_tokens\u001b[0m \u001b[1;32mif\u001b[0m \u001b[1;32mnot\u001b[0m \u001b[0mw\u001b[0m \u001b[1;32min\u001b[0m \u001b[0mstop_words\u001b[0m\u001b[1;33m]\u001b[0m\u001b[1;33m\u001b[0m\u001b[1;33m\u001b[0m\u001b[0m\n",
      "\u001b[1;32mC:\\ProgramData\\Anaconda3\\lib\\site-packages\\nltk\\corpus\\util.py\u001b[0m in \u001b[0;36m__getattr__\u001b[1;34m(self, attr)\u001b[0m\n\u001b[0;32m    121\u001b[0m             \u001b[1;32mraise\u001b[0m \u001b[0mAttributeError\u001b[0m\u001b[1;33m(\u001b[0m\u001b[1;34m\"LazyCorpusLoader object has no attribute '__bases__'\"\u001b[0m\u001b[1;33m)\u001b[0m\u001b[1;33m\u001b[0m\u001b[1;33m\u001b[0m\u001b[0m\n\u001b[0;32m    122\u001b[0m \u001b[1;33m\u001b[0m\u001b[0m\n\u001b[1;32m--> 123\u001b[1;33m         \u001b[0mself\u001b[0m\u001b[1;33m.\u001b[0m\u001b[0m__load\u001b[0m\u001b[1;33m(\u001b[0m\u001b[1;33m)\u001b[0m\u001b[1;33m\u001b[0m\u001b[1;33m\u001b[0m\u001b[0m\n\u001b[0m\u001b[0;32m    124\u001b[0m         \u001b[1;31m# This looks circular, but its not, since __load() changes our\u001b[0m\u001b[1;33m\u001b[0m\u001b[1;33m\u001b[0m\u001b[1;33m\u001b[0m\u001b[0m\n\u001b[0;32m    125\u001b[0m         \u001b[1;31m# __class__ to something new:\u001b[0m\u001b[1;33m\u001b[0m\u001b[1;33m\u001b[0m\u001b[1;33m\u001b[0m\u001b[0m\n",
      "\u001b[1;32mC:\\ProgramData\\Anaconda3\\lib\\site-packages\\nltk\\corpus\\util.py\u001b[0m in \u001b[0;36m__load\u001b[1;34m(self)\u001b[0m\n\u001b[0;32m     86\u001b[0m                     \u001b[0mroot\u001b[0m \u001b[1;33m=\u001b[0m \u001b[0mnltk\u001b[0m\u001b[1;33m.\u001b[0m\u001b[0mdata\u001b[0m\u001b[1;33m.\u001b[0m\u001b[0mfind\u001b[0m\u001b[1;33m(\u001b[0m\u001b[1;34m'{}/{}'\u001b[0m\u001b[1;33m.\u001b[0m\u001b[0mformat\u001b[0m\u001b[1;33m(\u001b[0m\u001b[0mself\u001b[0m\u001b[1;33m.\u001b[0m\u001b[0msubdir\u001b[0m\u001b[1;33m,\u001b[0m \u001b[0mzip_name\u001b[0m\u001b[1;33m)\u001b[0m\u001b[1;33m)\u001b[0m\u001b[1;33m\u001b[0m\u001b[1;33m\u001b[0m\u001b[0m\n\u001b[0;32m     87\u001b[0m                 \u001b[1;32mexcept\u001b[0m \u001b[0mLookupError\u001b[0m\u001b[1;33m:\u001b[0m\u001b[1;33m\u001b[0m\u001b[1;33m\u001b[0m\u001b[0m\n\u001b[1;32m---> 88\u001b[1;33m                     \u001b[1;32mraise\u001b[0m \u001b[0me\u001b[0m\u001b[1;33m\u001b[0m\u001b[1;33m\u001b[0m\u001b[0m\n\u001b[0m\u001b[0;32m     89\u001b[0m \u001b[1;33m\u001b[0m\u001b[0m\n\u001b[0;32m     90\u001b[0m         \u001b[1;31m# Load the corpus.\u001b[0m\u001b[1;33m\u001b[0m\u001b[1;33m\u001b[0m\u001b[1;33m\u001b[0m\u001b[0m\n",
      "\u001b[1;32mC:\\ProgramData\\Anaconda3\\lib\\site-packages\\nltk\\corpus\\util.py\u001b[0m in \u001b[0;36m__load\u001b[1;34m(self)\u001b[0m\n\u001b[0;32m     81\u001b[0m         \u001b[1;32melse\u001b[0m\u001b[1;33m:\u001b[0m\u001b[1;33m\u001b[0m\u001b[1;33m\u001b[0m\u001b[0m\n\u001b[0;32m     82\u001b[0m             \u001b[1;32mtry\u001b[0m\u001b[1;33m:\u001b[0m\u001b[1;33m\u001b[0m\u001b[1;33m\u001b[0m\u001b[0m\n\u001b[1;32m---> 83\u001b[1;33m                 \u001b[0mroot\u001b[0m \u001b[1;33m=\u001b[0m \u001b[0mnltk\u001b[0m\u001b[1;33m.\u001b[0m\u001b[0mdata\u001b[0m\u001b[1;33m.\u001b[0m\u001b[0mfind\u001b[0m\u001b[1;33m(\u001b[0m\u001b[1;34m'{}/{}'\u001b[0m\u001b[1;33m.\u001b[0m\u001b[0mformat\u001b[0m\u001b[1;33m(\u001b[0m\u001b[0mself\u001b[0m\u001b[1;33m.\u001b[0m\u001b[0msubdir\u001b[0m\u001b[1;33m,\u001b[0m \u001b[0mself\u001b[0m\u001b[1;33m.\u001b[0m\u001b[0m__name\u001b[0m\u001b[1;33m)\u001b[0m\u001b[1;33m)\u001b[0m\u001b[1;33m\u001b[0m\u001b[1;33m\u001b[0m\u001b[0m\n\u001b[0m\u001b[0;32m     84\u001b[0m             \u001b[1;32mexcept\u001b[0m \u001b[0mLookupError\u001b[0m \u001b[1;32mas\u001b[0m \u001b[0me\u001b[0m\u001b[1;33m:\u001b[0m\u001b[1;33m\u001b[0m\u001b[1;33m\u001b[0m\u001b[0m\n\u001b[0;32m     85\u001b[0m                 \u001b[1;32mtry\u001b[0m\u001b[1;33m:\u001b[0m\u001b[1;33m\u001b[0m\u001b[1;33m\u001b[0m\u001b[0m\n",
      "\u001b[1;32mC:\\ProgramData\\Anaconda3\\lib\\site-packages\\nltk\\data.py\u001b[0m in \u001b[0;36mfind\u001b[1;34m(resource_name, paths)\u001b[0m\n\u001b[0;32m    699\u001b[0m     \u001b[0msep\u001b[0m \u001b[1;33m=\u001b[0m \u001b[1;34m'*'\u001b[0m \u001b[1;33m*\u001b[0m \u001b[1;36m70\u001b[0m\u001b[1;33m\u001b[0m\u001b[1;33m\u001b[0m\u001b[0m\n\u001b[0;32m    700\u001b[0m     \u001b[0mresource_not_found\u001b[0m \u001b[1;33m=\u001b[0m \u001b[1;34m'\\n%s\\n%s\\n%s\\n'\u001b[0m \u001b[1;33m%\u001b[0m \u001b[1;33m(\u001b[0m\u001b[0msep\u001b[0m\u001b[1;33m,\u001b[0m \u001b[0mmsg\u001b[0m\u001b[1;33m,\u001b[0m \u001b[0msep\u001b[0m\u001b[1;33m)\u001b[0m\u001b[1;33m\u001b[0m\u001b[1;33m\u001b[0m\u001b[0m\n\u001b[1;32m--> 701\u001b[1;33m     \u001b[1;32mraise\u001b[0m \u001b[0mLookupError\u001b[0m\u001b[1;33m(\u001b[0m\u001b[0mresource_not_found\u001b[0m\u001b[1;33m)\u001b[0m\u001b[1;33m\u001b[0m\u001b[1;33m\u001b[0m\u001b[0m\n\u001b[0m\u001b[0;32m    702\u001b[0m \u001b[1;33m\u001b[0m\u001b[0m\n\u001b[0;32m    703\u001b[0m \u001b[1;33m\u001b[0m\u001b[0m\n",
      "\u001b[1;31mLookupError\u001b[0m: \n**********************************************************************\n  Resource \u001b[93mstopwords\u001b[0m not found.\n  Please use the NLTK Downloader to obtain the resource:\n\n  \u001b[31m>>> import nltk\n  >>> nltk.download('stopwords')\n  \u001b[0m\n  For more information see: https://www.nltk.org/data.html\n\n  Attempted to load \u001b[93mcorpora/stopwords\u001b[0m\n\n  Searched in:\n    - 'C:\\\\Users\\\\pierremarie/nltk_data'\n    - 'C:\\\\ProgramData\\\\Anaconda3\\\\nltk_data'\n    - 'C:\\\\ProgramData\\\\Anaconda3\\\\share\\\\nltk_data'\n    - 'C:\\\\ProgramData\\\\Anaconda3\\\\lib\\\\nltk_data'\n    - 'C:\\\\Users\\\\pierremarie\\\\AppData\\\\Roaming\\\\nltk_data'\n    - 'C:\\\\nltk_data'\n    - 'D:\\\\nltk_data'\n    - 'E:\\\\nltk_data'\n**********************************************************************\n"
     ]
    }
   ],
   "source": [
    "from nltk.corpus import stopwords \n",
    "from nltk.tokenize import word_tokenize     \n",
    "stop_words = set(stopwords.words('english'))   \n",
    "word_tokens = word_tokenize()  \n",
    "filtered_sentence = [w for w in word_tokens if not w in stop_words]   \n",
    "filtered_sentence = []  \n",
    "for w in word_tokens: \n",
    "    if w not in stop_words: \n",
    "        filtered_sentence.append(w) \n",
    "print(word_tokens) \n",
    "print(filtered_sentence)"
   ]
  },
  {
   "cell_type": "code",
   "execution_count": 113,
   "metadata": {},
   "outputs": [],
   "source": [
    "Synopsis_df1=Synopsis_df.astype(str)"
   ]
  },
  {
   "cell_type": "markdown",
   "metadata": {},
   "source": [
    "## Python stemming"
   ]
  },
  {
   "cell_type": "code",
   "execution_count": 114,
   "metadata": {},
   "outputs": [
    {
     "ename": "AttributeError",
     "evalue": "'DataFrame' object has no attribute 'lower'",
     "output_type": "error",
     "traceback": [
      "\u001b[1;31m---------------------------------------------------------------------------\u001b[0m",
      "\u001b[1;31mAttributeError\u001b[0m                            Traceback (most recent call last)",
      "\u001b[1;32m<ipython-input-114-b6c7ff284f69>\u001b[0m in \u001b[0;36m<module>\u001b[1;34m\u001b[0m\n\u001b[0;32m      4\u001b[0m \u001b[1;31m#word_tokens = word_tokenize()\u001b[0m\u001b[1;33m\u001b[0m\u001b[1;33m\u001b[0m\u001b[1;33m\u001b[0m\u001b[0m\n\u001b[0;32m      5\u001b[0m \u001b[0mps\u001b[0m \u001b[1;33m=\u001b[0m \u001b[0mPorterStemmer\u001b[0m\u001b[1;33m(\u001b[0m\u001b[1;33m)\u001b[0m\u001b[1;33m\u001b[0m\u001b[1;33m\u001b[0m\u001b[0m\n\u001b[1;32m----> 6\u001b[1;33m \u001b[1;33m[\u001b[0m\u001b[0mps\u001b[0m\u001b[1;33m.\u001b[0m\u001b[0mstem\u001b[0m\u001b[1;33m(\u001b[0m\u001b[0mword\u001b[0m\u001b[1;33m)\u001b[0m \u001b[1;32mfor\u001b[0m \u001b[0mword\u001b[0m \u001b[1;32min\u001b[0m \u001b[0mword_tokenize\u001b[0m\u001b[1;33m(\u001b[0m\u001b[0mSynopsis_df1\u001b[0m\u001b[1;33m.\u001b[0m\u001b[0mlower\u001b[0m\u001b[1;33m(\u001b[0m\u001b[1;33m)\u001b[0m\u001b[1;33m)\u001b[0m\u001b[1;33m]\u001b[0m\u001b[1;33m\u001b[0m\u001b[1;33m\u001b[0m\u001b[0m\n\u001b[0m\u001b[0;32m      7\u001b[0m \u001b[1;31m# choose some words to be stemmed\u001b[0m\u001b[1;33m\u001b[0m\u001b[1;33m\u001b[0m\u001b[1;33m\u001b[0m\u001b[0m\n",
      "\u001b[1;32mC:\\ProgramData\\Anaconda3\\lib\\site-packages\\pandas\\core\\generic.py\u001b[0m in \u001b[0;36m__getattr__\u001b[1;34m(self, name)\u001b[0m\n\u001b[0;32m   5177\u001b[0m             \u001b[1;32mif\u001b[0m \u001b[0mself\u001b[0m\u001b[1;33m.\u001b[0m\u001b[0m_info_axis\u001b[0m\u001b[1;33m.\u001b[0m\u001b[0m_can_hold_identifiers_and_holds_name\u001b[0m\u001b[1;33m(\u001b[0m\u001b[0mname\u001b[0m\u001b[1;33m)\u001b[0m\u001b[1;33m:\u001b[0m\u001b[1;33m\u001b[0m\u001b[1;33m\u001b[0m\u001b[0m\n\u001b[0;32m   5178\u001b[0m                 \u001b[1;32mreturn\u001b[0m \u001b[0mself\u001b[0m\u001b[1;33m[\u001b[0m\u001b[0mname\u001b[0m\u001b[1;33m]\u001b[0m\u001b[1;33m\u001b[0m\u001b[1;33m\u001b[0m\u001b[0m\n\u001b[1;32m-> 5179\u001b[1;33m             \u001b[1;32mreturn\u001b[0m \u001b[0mobject\u001b[0m\u001b[1;33m.\u001b[0m\u001b[0m__getattribute__\u001b[0m\u001b[1;33m(\u001b[0m\u001b[0mself\u001b[0m\u001b[1;33m,\u001b[0m \u001b[0mname\u001b[0m\u001b[1;33m)\u001b[0m\u001b[1;33m\u001b[0m\u001b[1;33m\u001b[0m\u001b[0m\n\u001b[0m\u001b[0;32m   5180\u001b[0m \u001b[1;33m\u001b[0m\u001b[0m\n\u001b[0;32m   5181\u001b[0m     \u001b[1;32mdef\u001b[0m \u001b[0m__setattr__\u001b[0m\u001b[1;33m(\u001b[0m\u001b[0mself\u001b[0m\u001b[1;33m,\u001b[0m \u001b[0mname\u001b[0m\u001b[1;33m,\u001b[0m \u001b[0mvalue\u001b[0m\u001b[1;33m)\u001b[0m\u001b[1;33m:\u001b[0m\u001b[1;33m\u001b[0m\u001b[1;33m\u001b[0m\u001b[0m\n",
      "\u001b[1;31mAttributeError\u001b[0m: 'DataFrame' object has no attribute 'lower'"
     ]
    }
   ],
   "source": [
    "# import these modules \n",
    "from nltk.stem import PorterStemmer \n",
    "from nltk.tokenize import word_tokenize\n",
    "#word_tokens = word_tokenize()\n",
    "ps = PorterStemmer() \n",
    "[ps.stem(word) for word in word_tokenize(Synopsis_df1.lower())]\n",
    "# choose some words to be stemmed "
   ]
  },
  {
   "cell_type": "code",
   "execution_count": null,
   "metadata": {},
   "outputs": [],
   "source": []
  }
 ],
 "metadata": {
  "celltoolbar": "Edit Metadata",
  "kernelspec": {
   "display_name": "Python 3",
   "language": "python",
   "name": "python3"
  },
  "language_info": {
   "codemirror_mode": {
    "name": "ipython",
    "version": 3
   },
   "file_extension": ".py",
   "mimetype": "text/x-python",
   "name": "python",
   "nbconvert_exporter": "python",
   "pygments_lexer": "ipython3",
   "version": "3.7.4"
  }
 },
 "nbformat": 4,
 "nbformat_minor": 2
}
