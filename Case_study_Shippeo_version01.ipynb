{
  "nbformat": 4,
  "nbformat_minor": 0,
  "metadata": {
    "kernelspec": {
      "display_name": "Python 3",
      "language": "python",
      "name": "python3"
    },
    "language_info": {
      "codemirror_mode": {
        "name": "ipython",
        "version": 3
      },
      "file_extension": ".py",
      "mimetype": "text/x-python",
      "name": "python",
      "nbconvert_exporter": "python",
      "pygments_lexer": "ipython3",
      "version": "3.7.8"
    },
    "colab": {
      "name": "Case_study_Shippeo_version01.ipynb",
      "provenance": [],
      "collapsed_sections": [],
      "include_colab_link": true
    }
  },
  "cells": [
    {
      "cell_type": "markdown",
      "metadata": {
        "id": "view-in-github",
        "colab_type": "text"
      },
      "source": [
        "<a href=\"https://colab.research.google.com/github/dspierre/data-ia/blob/dspierre-machinelearning/Case_study_Shippeo_version01.ipynb\" target=\"_parent\"><img src=\"https://colab.research.google.com/assets/colab-badge.svg\" alt=\"Open In Colab\"/></a>"
      ]
    },
    {
      "cell_type": "markdown",
      "metadata": {
        "id": "C51r7hERyDyd"
      },
      "source": [
        "# Working Environment\n",
        "\n",
        "This python environment contains most of the packages required for the task. **Shall you** need extra packages, you can access to the shell and can install like that: \n",
        "\n",
        "```shell\n",
        "!pip install myPackage\n",
        "```\n",
        "\n",
        "\n",
        "\n",
        "```shell\n",
        "!pip install -e git+https://github.com/scikit-learn/scikit-learn.git\n",
        "```"
      ]
    },
    {
      "cell_type": "markdown",
      "metadata": {
        "id": "-m0HmJmUyDyo"
      },
      "source": [
        "# Challenge Description\n",
        "\n",
        "\n",
        "### Dataset Information\n",
        "\n",
        "This dataset contains information of shippements on a time window of approx 6 month.\n",
        "\n",
        "\n",
        "### Content\n",
        "\n",
        "There are 15 variables:\n",
        "\n",
        "| Name | Description |\n",
        "| -----| ----- | \n",
        "| mean_id |  unique ID of the truck |\n",
        "| mean_organization_id |  unique ID of the carrier organization |\n",
        "| organization_id |  unique ID of the shipper organization |\n",
        "| agency_id |  unique ID of the shipper agency |\n",
        "| origin_history_place_id |  unique ID of the origin of the trip |\n",
        "| destination_history_place_id |  unique ID of the destination of the trip |\n",
        "| trip_distance |  distance in meter of the trip returned by the routing API |\n",
        "| trip_base_time |  duration estimated in second for the trip returned by the routing API |\n",
        "| origin_slot_start | start of the time window for the appoinement at the origin |\n",
        "| origin_slot_end |  end of the time window for the appoinement at the origin |\n",
        "| destination_slot_start |  start of the time window for the appoinement at the destination |\n",
        "| destination_slot_end |  end of the time window for the appoinement at the destination |\n",
        "| origin_arrival_ts | arrival timestamp at the origin|\n",
        "| destination_arrival_ts |  **Do not use as a feature:**  arrival timestamp at the destination  |\n",
        "| trip_duration | **Target:** duration in seconds of the trip between origin and destination |\n",
        "\n",
        "\n",
        "# Instructions\n",
        "\n",
        "The goal of this study case is to predict the travel time of the truck between two warehouses. \n",
        "\n",
        "***The assessment is not done on the performance of the algorithm but rather on the explanation and coding skills***. Fairly good models with clean code and clear justifications will be prefered to high-performance models that are poorly explained. You are encouraged to provide as much details as you can in markdown cells or in comments, even if you have ideas you do not have time to explore. \n",
        "\n",
        "In the first part you are guided with intermediate steps that you are encouraged to follow. In the second part you can go wild...\n"
      ]
    },
    {
      "cell_type": "markdown",
      "metadata": {
        "id": "Hotff2bpyDyq"
      },
      "source": [
        "# Data Loading\n",
        "\n",
        "Load the train data set located at `./interview_dataset.csv`"
      ]
    },
    {
      "cell_type": "code",
      "metadata": {
        "colab": {
          "base_uri": "https://localhost:8080/"
        },
        "id": "FjhFwYpZ71hP",
        "outputId": "23602991-6f6b-44e8-d64b-91cb2ccbba80"
      },
      "source": [
        "!pip install myPackage"
      ],
      "execution_count": null,
      "outputs": [
        {
          "output_type": "stream",
          "text": [
            "Collecting myPackage\n",
            "  Downloading https://files.pythonhosted.org/packages/4b/5b/f816be0965d3fa1a2e99acf8c94876cca249c02b12876507a26e9e6915c6/Mypackage-0.1.tar.gz\n",
            "Collecting cmd2\n",
            "\u001b[?25l  Downloading https://files.pythonhosted.org/packages/27/54/af6e2703f064485d717cb311d3f9440cd302a823ba6d80a020b59eae166d/cmd2-1.4.0-py3-none-any.whl (133kB)\n",
            "\u001b[K     |████████████████████████████████| 133kB 5.6MB/s \n",
            "\u001b[?25hRequirement already satisfied: attrs>=16.3.0 in /usr/local/lib/python3.6/dist-packages (from cmd2->myPackage) (20.3.0)\n",
            "Requirement already satisfied: wcwidth>=0.1.7 in /usr/local/lib/python3.6/dist-packages (from cmd2->myPackage) (0.2.5)\n",
            "Collecting pyperclip>=1.6\n",
            "  Downloading https://files.pythonhosted.org/packages/6f/4c/0b1d507ad7e8bc31d690d04b4f475e74c2002d060f7994ce8c09612df707/pyperclip-1.8.1.tar.gz\n",
            "Requirement already satisfied: importlib-metadata>=1.6.0; python_version < \"3.8\" in /usr/local/lib/python3.6/dist-packages (from cmd2->myPackage) (3.1.1)\n",
            "Collecting colorama>=0.3.7\n",
            "  Downloading https://files.pythonhosted.org/packages/44/98/5b86278fbbf250d239ae0ecb724f8572af1c91f4a11edf4d36a206189440/colorama-0.4.4-py2.py3-none-any.whl\n",
            "Requirement already satisfied: zipp>=0.5 in /usr/local/lib/python3.6/dist-packages (from importlib-metadata>=1.6.0; python_version < \"3.8\"->cmd2->myPackage) (3.4.0)\n",
            "Building wheels for collected packages: myPackage, pyperclip\n",
            "  Building wheel for myPackage (setup.py) ... \u001b[?25l\u001b[?25hdone\n",
            "  Created wheel for myPackage: filename=Mypackage-0.1-cp36-none-any.whl size=1815 sha256=696196bafb6204ea7bfc91589586fc29ad40f02e69f92b3f9443329e14cb2f2e\n",
            "  Stored in directory: /root/.cache/pip/wheels/f1/84/35/381eeb209290a95a44ea08cf82c5075cb076f7237732740388\n",
            "  Building wheel for pyperclip (setup.py) ... \u001b[?25l\u001b[?25hdone\n",
            "  Created wheel for pyperclip: filename=pyperclip-1.8.1-cp36-none-any.whl size=11119 sha256=a3e8b1ce2f97270747421b9052a3d73d240fc0f00ff1574850e9710e99c851b1\n",
            "  Stored in directory: /root/.cache/pip/wheels/44/10/3a/c830e9bb3db2c93274ea1f213a41fabde0d8cf3794251fad0c\n",
            "Successfully built myPackage pyperclip\n",
            "Installing collected packages: pyperclip, colorama, cmd2, myPackage\n",
            "Successfully installed cmd2-1.4.0 colorama-0.4.4 myPackage-0.1 pyperclip-1.8.1\n"
          ],
          "name": "stdout"
        }
      ]
    },
    {
      "cell_type": "code",
      "metadata": {
        "colab": {
          "base_uri": "https://localhost:8080/"
        },
        "id": "t98Ov6gt75uK",
        "outputId": "e617d26e-e2af-41df-d2d8-c267964d71ee"
      },
      "source": [
        "!pip install -e git+https://github.com/scikit-learn/scikit-learn.git"
      ],
      "execution_count": null,
      "outputs": [
        {
          "output_type": "stream",
          "text": [
            "\u001b[31mERROR: Could not detect requirement name for 'git+https://github.com/scikit-learn/scikit-learn.git', please specify one with #egg=your_package_name\u001b[0m\n"
          ],
          "name": "stdout"
        }
      ]
    },
    {
      "cell_type": "code",
      "metadata": {
        "id": "mHhPmZME_RJO"
      },
      "source": [
        "import os\n",
        "import datetime\n",
        "import matplotlib as mpl\n",
        "import matplotlib.pyplot as plt\n",
        "import numpy as np\n",
        "import pandas as pd\n",
        "import seaborn as sns\n",
        "import tensorflow as tf\n",
        "from sklearn.model_selection import train_test_split\n",
        "mpl.rcParams['figure.figsize'] = (8, 6)\n",
        "mpl.rcParams['axes.grid'] = False"
      ],
      "execution_count": null,
      "outputs": []
    },
    {
      "cell_type": "code",
      "metadata": {
        "id": "w8yP4DKayDyr"
      },
      "source": [
        "df =pd.read_csv('/content/sample_data/interview_dataset.csv', sep=',',encoding='utf8') "
      ],
      "execution_count": null,
      "outputs": []
    },
    {
      "cell_type": "code",
      "metadata": {
        "colab": {
          "base_uri": "https://localhost:8080/",
          "height": 610
        },
        "id": "1AHvB1aI_YI0",
        "outputId": "f5c0a2cb-f47f-43f4-f4b4-094388a0f2fa"
      },
      "source": [
        "df"
      ],
      "execution_count": null,
      "outputs": [
        {
          "output_type": "execute_result",
          "data": {
            "text/html": [
              "<div>\n",
              "<style scoped>\n",
              "    .dataframe tbody tr th:only-of-type {\n",
              "        vertical-align: middle;\n",
              "    }\n",
              "\n",
              "    .dataframe tbody tr th {\n",
              "        vertical-align: top;\n",
              "    }\n",
              "\n",
              "    .dataframe thead th {\n",
              "        text-align: right;\n",
              "    }\n",
              "</style>\n",
              "<table border=\"1\" class=\"dataframe\">\n",
              "  <thead>\n",
              "    <tr style=\"text-align: right;\">\n",
              "      <th></th>\n",
              "      <th>Unnamed: 0</th>\n",
              "      <th>mean_id</th>\n",
              "      <th>mean_organization_id</th>\n",
              "      <th>organization_id</th>\n",
              "      <th>agency_id</th>\n",
              "      <th>origin_history_place_id</th>\n",
              "      <th>destination_history_place_id</th>\n",
              "      <th>trip_distance</th>\n",
              "      <th>trip_base_time</th>\n",
              "      <th>origin_slot_start</th>\n",
              "      <th>origin_slot_end</th>\n",
              "      <th>destination_slot_start</th>\n",
              "      <th>destination_slot_end</th>\n",
              "      <th>origin_arrival_ts</th>\n",
              "      <th>destination_arrival_ts</th>\n",
              "      <th>trip_duration</th>\n",
              "    </tr>\n",
              "  </thead>\n",
              "  <tbody>\n",
              "    <tr>\n",
              "      <th>0</th>\n",
              "      <td>0</td>\n",
              "      <td>53431.0</td>\n",
              "      <td>4258</td>\n",
              "      <td>2693</td>\n",
              "      <td>2694.0</td>\n",
              "      <td>125338</td>\n",
              "      <td>34889</td>\n",
              "      <td>142734.0</td>\n",
              "      <td>9180.0</td>\n",
              "      <td>2020-10-14 05:00:00+00:00</td>\n",
              "      <td>2020-10-14 05:00:00+00:00</td>\n",
              "      <td>2020-10-14 09:15:00+00:00</td>\n",
              "      <td>2020-10-14 09:15:00+00:00</td>\n",
              "      <td>2020-10-14 05:08:11+00:00</td>\n",
              "      <td>2020-10-14 08:41:54+00:00</td>\n",
              "      <td>12823</td>\n",
              "    </tr>\n",
              "    <tr>\n",
              "      <th>1</th>\n",
              "      <td>1</td>\n",
              "      <td>53438.0</td>\n",
              "      <td>4258</td>\n",
              "      <td>2693</td>\n",
              "      <td>2694.0</td>\n",
              "      <td>125338</td>\n",
              "      <td>34889</td>\n",
              "      <td>118589.0</td>\n",
              "      <td>9261.0</td>\n",
              "      <td>2020-10-26 06:00:00+00:00</td>\n",
              "      <td>2020-10-26 06:00:00+00:00</td>\n",
              "      <td>2020-10-26 10:15:00+00:00</td>\n",
              "      <td>2020-10-26 10:15:00+00:00</td>\n",
              "      <td>2020-10-26 06:04:56+00:00</td>\n",
              "      <td>2020-10-26 09:23:27+00:00</td>\n",
              "      <td>11911</td>\n",
              "    </tr>\n",
              "    <tr>\n",
              "      <th>2</th>\n",
              "      <td>2</td>\n",
              "      <td>53420.0</td>\n",
              "      <td>4258</td>\n",
              "      <td>2693</td>\n",
              "      <td>2694.0</td>\n",
              "      <td>35823</td>\n",
              "      <td>104707</td>\n",
              "      <td>234555.0</td>\n",
              "      <td>13708.0</td>\n",
              "      <td>2020-07-29 17:00:00+00:00</td>\n",
              "      <td>2020-07-29 17:00:00+00:00</td>\n",
              "      <td>2020-07-29 21:30:00+00:00</td>\n",
              "      <td>2020-07-29 21:30:00+00:00</td>\n",
              "      <td>2020-07-29 16:04:00+00:00</td>\n",
              "      <td>2020-07-29 19:40:29+00:00</td>\n",
              "      <td>12989</td>\n",
              "    </tr>\n",
              "    <tr>\n",
              "      <th>3</th>\n",
              "      <td>3</td>\n",
              "      <td>53420.0</td>\n",
              "      <td>4258</td>\n",
              "      <td>2693</td>\n",
              "      <td>2694.0</td>\n",
              "      <td>35823</td>\n",
              "      <td>104707</td>\n",
              "      <td>235880.0</td>\n",
              "      <td>13649.0</td>\n",
              "      <td>2020-09-01 17:00:00+00:00</td>\n",
              "      <td>2020-09-01 17:00:00+00:00</td>\n",
              "      <td>2020-09-01 21:30:00+00:00</td>\n",
              "      <td>2020-09-01 21:30:00+00:00</td>\n",
              "      <td>2020-09-01 16:05:43+00:00</td>\n",
              "      <td>2020-09-01 20:55:54+00:00</td>\n",
              "      <td>17411</td>\n",
              "    </tr>\n",
              "    <tr>\n",
              "      <th>4</th>\n",
              "      <td>4</td>\n",
              "      <td>46011.0</td>\n",
              "      <td>4018</td>\n",
              "      <td>2693</td>\n",
              "      <td>2694.0</td>\n",
              "      <td>125338</td>\n",
              "      <td>33769</td>\n",
              "      <td>36567.0</td>\n",
              "      <td>4165.0</td>\n",
              "      <td>2020-10-09 07:30:00+00:00</td>\n",
              "      <td>2020-10-09 07:30:00+00:00</td>\n",
              "      <td>2020-10-09 10:30:00+00:00</td>\n",
              "      <td>2020-10-09 10:30:00+00:00</td>\n",
              "      <td>2020-10-09 07:13:48+00:00</td>\n",
              "      <td>2020-10-09 10:01:11+00:00</td>\n",
              "      <td>10043</td>\n",
              "    </tr>\n",
              "    <tr>\n",
              "      <th>...</th>\n",
              "      <td>...</td>\n",
              "      <td>...</td>\n",
              "      <td>...</td>\n",
              "      <td>...</td>\n",
              "      <td>...</td>\n",
              "      <td>...</td>\n",
              "      <td>...</td>\n",
              "      <td>...</td>\n",
              "      <td>...</td>\n",
              "      <td>...</td>\n",
              "      <td>...</td>\n",
              "      <td>...</td>\n",
              "      <td>...</td>\n",
              "      <td>...</td>\n",
              "      <td>...</td>\n",
              "      <td>...</td>\n",
              "    </tr>\n",
              "    <tr>\n",
              "      <th>105107</th>\n",
              "      <td>105107</td>\n",
              "      <td>31374.0</td>\n",
              "      <td>1273</td>\n",
              "      <td>2693</td>\n",
              "      <td>2694.0</td>\n",
              "      <td>35823</td>\n",
              "      <td>104710</td>\n",
              "      <td>244617.0</td>\n",
              "      <td>14763.0</td>\n",
              "      <td>2020-08-12 22:30:00+00:00</td>\n",
              "      <td>2020-08-12 22:30:00+00:00</td>\n",
              "      <td>2020-08-13 04:30:00+00:00</td>\n",
              "      <td>2020-08-13 04:30:00+00:00</td>\n",
              "      <td>2020-08-12 22:24:00+00:00</td>\n",
              "      <td>2020-08-13 03:34:28+00:00</td>\n",
              "      <td>18628</td>\n",
              "    </tr>\n",
              "    <tr>\n",
              "      <th>105108</th>\n",
              "      <td>105108</td>\n",
              "      <td>31374.0</td>\n",
              "      <td>1273</td>\n",
              "      <td>2693</td>\n",
              "      <td>2694.0</td>\n",
              "      <td>35823</td>\n",
              "      <td>34386</td>\n",
              "      <td>283926.0</td>\n",
              "      <td>16759.0</td>\n",
              "      <td>2020-06-29 09:00:00+00:00</td>\n",
              "      <td>2020-06-29 09:00:00+00:00</td>\n",
              "      <td>2020-06-29 15:00:00+00:00</td>\n",
              "      <td>2020-06-29 15:00:00+00:00</td>\n",
              "      <td>2020-06-29 08:20:21+00:00</td>\n",
              "      <td>2020-06-29 14:28:54+00:00</td>\n",
              "      <td>22113</td>\n",
              "    </tr>\n",
              "    <tr>\n",
              "      <th>105109</th>\n",
              "      <td>105109</td>\n",
              "      <td>109263.0</td>\n",
              "      <td>1273</td>\n",
              "      <td>2693</td>\n",
              "      <td>2694.0</td>\n",
              "      <td>45572</td>\n",
              "      <td>114126</td>\n",
              "      <td>22230.0</td>\n",
              "      <td>2917.0</td>\n",
              "      <td>2020-07-03 01:30:00+00:00</td>\n",
              "      <td>2020-07-03 01:30:00+00:00</td>\n",
              "      <td>2020-07-03 03:00:00+00:00</td>\n",
              "      <td>2020-07-03 03:00:00+00:00</td>\n",
              "      <td>2020-07-03 00:55:30+00:00</td>\n",
              "      <td>2020-07-03 02:47:00+00:00</td>\n",
              "      <td>6690</td>\n",
              "    </tr>\n",
              "    <tr>\n",
              "      <th>105110</th>\n",
              "      <td>105110</td>\n",
              "      <td>49677.0</td>\n",
              "      <td>1273</td>\n",
              "      <td>2693</td>\n",
              "      <td>2694.0</td>\n",
              "      <td>35823</td>\n",
              "      <td>25931</td>\n",
              "      <td>31404.0</td>\n",
              "      <td>3240.0</td>\n",
              "      <td>2020-06-08 08:00:00+00:00</td>\n",
              "      <td>2020-06-08 08:00:00+00:00</td>\n",
              "      <td>2020-06-08 10:30:00+00:00</td>\n",
              "      <td>NaN</td>\n",
              "      <td>2020-06-08 07:04:13+00:00</td>\n",
              "      <td>2020-06-08 08:13:29+00:00</td>\n",
              "      <td>4156</td>\n",
              "    </tr>\n",
              "    <tr>\n",
              "      <th>105111</th>\n",
              "      <td>105111</td>\n",
              "      <td>33643.0</td>\n",
              "      <td>1273</td>\n",
              "      <td>2693</td>\n",
              "      <td>2694.0</td>\n",
              "      <td>35823</td>\n",
              "      <td>37263</td>\n",
              "      <td>241841.0</td>\n",
              "      <td>14044.0</td>\n",
              "      <td>2020-09-04 08:00:00+00:00</td>\n",
              "      <td>2020-09-04 08:00:00+00:00</td>\n",
              "      <td>2020-09-04 14:00:00+00:00</td>\n",
              "      <td>2020-09-04 14:00:00+00:00</td>\n",
              "      <td>2020-09-04 07:42:34+00:00</td>\n",
              "      <td>2020-09-04 13:47:12+00:00</td>\n",
              "      <td>21878</td>\n",
              "    </tr>\n",
              "  </tbody>\n",
              "</table>\n",
              "<p>105112 rows × 16 columns</p>\n",
              "</div>"
            ],
            "text/plain": [
              "        Unnamed: 0   mean_id  ...     destination_arrival_ts  trip_duration\n",
              "0                0   53431.0  ...  2020-10-14 08:41:54+00:00          12823\n",
              "1                1   53438.0  ...  2020-10-26 09:23:27+00:00          11911\n",
              "2                2   53420.0  ...  2020-07-29 19:40:29+00:00          12989\n",
              "3                3   53420.0  ...  2020-09-01 20:55:54+00:00          17411\n",
              "4                4   46011.0  ...  2020-10-09 10:01:11+00:00          10043\n",
              "...            ...       ...  ...                        ...            ...\n",
              "105107      105107   31374.0  ...  2020-08-13 03:34:28+00:00          18628\n",
              "105108      105108   31374.0  ...  2020-06-29 14:28:54+00:00          22113\n",
              "105109      105109  109263.0  ...  2020-07-03 02:47:00+00:00           6690\n",
              "105110      105110   49677.0  ...  2020-06-08 08:13:29+00:00           4156\n",
              "105111      105111   33643.0  ...  2020-09-04 13:47:12+00:00          21878\n",
              "\n",
              "[105112 rows x 16 columns]"
            ]
          },
          "metadata": {
            "tags": []
          },
          "execution_count": 6
        }
      ]
    },
    {
      "cell_type": "code",
      "metadata": {
        "id": "gkwv09QwkA5j"
      },
      "source": [
        "df.to_csv=('shippeo.csv')"
      ],
      "execution_count": null,
      "outputs": []
    },
    {
      "cell_type": "markdown",
      "metadata": {
        "id": "J4Uyo5vbFzFx"
      },
      "source": [
        "# dataprocessing "
      ]
    },
    {
      "cell_type": "code",
      "metadata": {
        "colab": {
          "base_uri": "https://localhost:8080/"
        },
        "id": "a_88vrGJBIZ_",
        "outputId": "edce9738-79da-4f01-91b1-777e794339fd"
      },
      "source": [
        "df.dtypes"
      ],
      "execution_count": null,
      "outputs": [
        {
          "output_type": "execute_result",
          "data": {
            "text/plain": [
              "Unnamed: 0                        int64\n",
              "mean_id                         float64\n",
              "mean_organization_id              int64\n",
              "organization_id                   int64\n",
              "agency_id                       float64\n",
              "origin_history_place_id           int64\n",
              "destination_history_place_id      int64\n",
              "trip_distance                   float64\n",
              "trip_base_time                  float64\n",
              "origin_slot_start                object\n",
              "origin_slot_end                  object\n",
              "destination_slot_start           object\n",
              "destination_slot_end             object\n",
              "origin_arrival_ts                object\n",
              "destination_arrival_ts           object\n",
              "trip_duration                     int64\n",
              "dtype: object"
            ]
          },
          "metadata": {
            "tags": []
          },
          "execution_count": 7
        }
      ]
    },
    {
      "cell_type": "code",
      "metadata": {
        "colab": {
          "base_uri": "https://localhost:8080/"
        },
        "id": "11a4PRt5BKxQ",
        "outputId": "4069324d-6e56-4cba-b996-5d85b5996432"
      },
      "source": [
        "print('Les colonnes de interview sont',df.columns)"
      ],
      "execution_count": null,
      "outputs": [
        {
          "output_type": "stream",
          "text": [
            "Les colonnes de interview sont Index(['Unnamed: 0', 'mean_id', 'mean_organization_id', 'organization_id',\n",
            "       'agency_id', 'origin_history_place_id', 'destination_history_place_id',\n",
            "       'trip_distance', 'trip_base_time', 'origin_slot_start',\n",
            "       'origin_slot_end', 'destination_slot_start', 'destination_slot_end',\n",
            "       'origin_arrival_ts', 'destination_arrival_ts', 'trip_duration'],\n",
            "      dtype='object')\n"
          ],
          "name": "stdout"
        }
      ]
    },
    {
      "cell_type": "code",
      "metadata": {
        "colab": {
          "base_uri": "https://localhost:8080/",
          "height": 414
        },
        "id": "h5SJuJ7gBTfX",
        "outputId": "f43f905b-902b-4902-de85-15e67c154c2a"
      },
      "source": [
        "df.describe(include='all')"
      ],
      "execution_count": null,
      "outputs": [
        {
          "output_type": "execute_result",
          "data": {
            "text/html": [
              "<div>\n",
              "<style scoped>\n",
              "    .dataframe tbody tr th:only-of-type {\n",
              "        vertical-align: middle;\n",
              "    }\n",
              "\n",
              "    .dataframe tbody tr th {\n",
              "        vertical-align: top;\n",
              "    }\n",
              "\n",
              "    .dataframe thead th {\n",
              "        text-align: right;\n",
              "    }\n",
              "</style>\n",
              "<table border=\"1\" class=\"dataframe\">\n",
              "  <thead>\n",
              "    <tr style=\"text-align: right;\">\n",
              "      <th></th>\n",
              "      <th>Unnamed: 0</th>\n",
              "      <th>mean_id</th>\n",
              "      <th>mean_organization_id</th>\n",
              "      <th>organization_id</th>\n",
              "      <th>agency_id</th>\n",
              "      <th>origin_history_place_id</th>\n",
              "      <th>destination_history_place_id</th>\n",
              "      <th>trip_distance</th>\n",
              "      <th>trip_base_time</th>\n",
              "      <th>origin_slot_start</th>\n",
              "      <th>origin_slot_end</th>\n",
              "      <th>destination_slot_start</th>\n",
              "      <th>destination_slot_end</th>\n",
              "      <th>origin_arrival_ts</th>\n",
              "      <th>destination_arrival_ts</th>\n",
              "      <th>trip_duration</th>\n",
              "    </tr>\n",
              "  </thead>\n",
              "  <tbody>\n",
              "    <tr>\n",
              "      <th>count</th>\n",
              "      <td>105112.000000</td>\n",
              "      <td>101990.000000</td>\n",
              "      <td>105112.000000</td>\n",
              "      <td>105112.000000</td>\n",
              "      <td>101981.000000</td>\n",
              "      <td>105112.000000</td>\n",
              "      <td>105112.000000</td>\n",
              "      <td>101983.000000</td>\n",
              "      <td>101986.000000</td>\n",
              "      <td>105112</td>\n",
              "      <td>105112</td>\n",
              "      <td>105112</td>\n",
              "      <td>101977</td>\n",
              "      <td>105112</td>\n",
              "      <td>105112</td>\n",
              "      <td>105112.000000</td>\n",
              "    </tr>\n",
              "    <tr>\n",
              "      <th>unique</th>\n",
              "      <td>NaN</td>\n",
              "      <td>NaN</td>\n",
              "      <td>NaN</td>\n",
              "      <td>NaN</td>\n",
              "      <td>NaN</td>\n",
              "      <td>NaN</td>\n",
              "      <td>NaN</td>\n",
              "      <td>NaN</td>\n",
              "      <td>NaN</td>\n",
              "      <td>31256</td>\n",
              "      <td>31347</td>\n",
              "      <td>32837</td>\n",
              "      <td>31444</td>\n",
              "      <td>53672</td>\n",
              "      <td>52518</td>\n",
              "      <td>NaN</td>\n",
              "    </tr>\n",
              "    <tr>\n",
              "      <th>top</th>\n",
              "      <td>NaN</td>\n",
              "      <td>NaN</td>\n",
              "      <td>NaN</td>\n",
              "      <td>NaN</td>\n",
              "      <td>NaN</td>\n",
              "      <td>NaN</td>\n",
              "      <td>NaN</td>\n",
              "      <td>NaN</td>\n",
              "      <td>NaN</td>\n",
              "      <td>2020-07-10 04:00:00+00:00</td>\n",
              "      <td>2020-11-24 07:00:00+00:00</td>\n",
              "      <td>2020-07-18 05:00:00+00:00</td>\n",
              "      <td>2020-07-07 05:00:00+00:00</td>\n",
              "      <td>2020-09-25 12:52:22+00:00</td>\n",
              "      <td>2020-10-01 02:07:28+00:00</td>\n",
              "      <td>NaN</td>\n",
              "    </tr>\n",
              "    <tr>\n",
              "      <th>freq</th>\n",
              "      <td>NaN</td>\n",
              "      <td>NaN</td>\n",
              "      <td>NaN</td>\n",
              "      <td>NaN</td>\n",
              "      <td>NaN</td>\n",
              "      <td>NaN</td>\n",
              "      <td>NaN</td>\n",
              "      <td>NaN</td>\n",
              "      <td>NaN</td>\n",
              "      <td>88</td>\n",
              "      <td>69</td>\n",
              "      <td>100</td>\n",
              "      <td>72</td>\n",
              "      <td>16</td>\n",
              "      <td>20</td>\n",
              "      <td>NaN</td>\n",
              "    </tr>\n",
              "    <tr>\n",
              "      <th>mean</th>\n",
              "      <td>52555.500000</td>\n",
              "      <td>90272.002088</td>\n",
              "      <td>2469.092482</td>\n",
              "      <td>4502.262805</td>\n",
              "      <td>4502.630549</td>\n",
              "      <td>134357.992484</td>\n",
              "      <td>132625.222563</td>\n",
              "      <td>46139.059431</td>\n",
              "      <td>3711.068529</td>\n",
              "      <td>NaN</td>\n",
              "      <td>NaN</td>\n",
              "      <td>NaN</td>\n",
              "      <td>NaN</td>\n",
              "      <td>NaN</td>\n",
              "      <td>NaN</td>\n",
              "      <td>10595.470707</td>\n",
              "    </tr>\n",
              "    <tr>\n",
              "      <th>std</th>\n",
              "      <td>30343.365085</td>\n",
              "      <td>35574.068173</td>\n",
              "      <td>994.287036</td>\n",
              "      <td>1511.504275</td>\n",
              "      <td>1511.618666</td>\n",
              "      <td>78052.672980</td>\n",
              "      <td>75846.985850</td>\n",
              "      <td>42908.246350</td>\n",
              "      <td>2480.572618</td>\n",
              "      <td>NaN</td>\n",
              "      <td>NaN</td>\n",
              "      <td>NaN</td>\n",
              "      <td>NaN</td>\n",
              "      <td>NaN</td>\n",
              "      <td>NaN</td>\n",
              "      <td>16809.378811</td>\n",
              "    </tr>\n",
              "    <tr>\n",
              "      <th>min</th>\n",
              "      <td>0.000000</td>\n",
              "      <td>8927.000000</td>\n",
              "      <td>1273.000000</td>\n",
              "      <td>2693.000000</td>\n",
              "      <td>2694.000000</td>\n",
              "      <td>25793.000000</td>\n",
              "      <td>25793.000000</td>\n",
              "      <td>0.000000</td>\n",
              "      <td>0.000000</td>\n",
              "      <td>NaN</td>\n",
              "      <td>NaN</td>\n",
              "      <td>NaN</td>\n",
              "      <td>NaN</td>\n",
              "      <td>NaN</td>\n",
              "      <td>NaN</td>\n",
              "      <td>3.000000</td>\n",
              "    </tr>\n",
              "    <tr>\n",
              "      <th>25%</th>\n",
              "      <td>26277.750000</td>\n",
              "      <td>82102.000000</td>\n",
              "      <td>1803.000000</td>\n",
              "      <td>2693.000000</td>\n",
              "      <td>2694.000000</td>\n",
              "      <td>44369.000000</td>\n",
              "      <td>44267.000000</td>\n",
              "      <td>17148.000000</td>\n",
              "      <td>1968.000000</td>\n",
              "      <td>NaN</td>\n",
              "      <td>NaN</td>\n",
              "      <td>NaN</td>\n",
              "      <td>NaN</td>\n",
              "      <td>NaN</td>\n",
              "      <td>NaN</td>\n",
              "      <td>4185.000000</td>\n",
              "    </tr>\n",
              "    <tr>\n",
              "      <th>50%</th>\n",
              "      <td>52555.500000</td>\n",
              "      <td>83718.000000</td>\n",
              "      <td>1803.000000</td>\n",
              "      <td>5765.000000</td>\n",
              "      <td>5766.000000</td>\n",
              "      <td>165477.000000</td>\n",
              "      <td>165494.000000</td>\n",
              "      <td>34605.000000</td>\n",
              "      <td>3238.000000</td>\n",
              "      <td>NaN</td>\n",
              "      <td>NaN</td>\n",
              "      <td>NaN</td>\n",
              "      <td>NaN</td>\n",
              "      <td>NaN</td>\n",
              "      <td>NaN</td>\n",
              "      <td>6422.000000</td>\n",
              "    </tr>\n",
              "    <tr>\n",
              "      <th>75%</th>\n",
              "      <td>78833.250000</td>\n",
              "      <td>89573.000000</td>\n",
              "      <td>2801.000000</td>\n",
              "      <td>5765.000000</td>\n",
              "      <td>5766.000000</td>\n",
              "      <td>168436.000000</td>\n",
              "      <td>168434.000000</td>\n",
              "      <td>57523.000000</td>\n",
              "      <td>4796.000000</td>\n",
              "      <td>NaN</td>\n",
              "      <td>NaN</td>\n",
              "      <td>NaN</td>\n",
              "      <td>NaN</td>\n",
              "      <td>NaN</td>\n",
              "      <td>NaN</td>\n",
              "      <td>9931.000000</td>\n",
              "    </tr>\n",
              "    <tr>\n",
              "      <th>max</th>\n",
              "      <td>105111.000000</td>\n",
              "      <td>226383.000000</td>\n",
              "      <td>5947.000000</td>\n",
              "      <td>5765.000000</td>\n",
              "      <td>5766.000000</td>\n",
              "      <td>416138.000000</td>\n",
              "      <td>462146.000000</td>\n",
              "      <td>323050.000000</td>\n",
              "      <td>21842.000000</td>\n",
              "      <td>NaN</td>\n",
              "      <td>NaN</td>\n",
              "      <td>NaN</td>\n",
              "      <td>NaN</td>\n",
              "      <td>NaN</td>\n",
              "      <td>NaN</td>\n",
              "      <td>254484.000000</td>\n",
              "    </tr>\n",
              "  </tbody>\n",
              "</table>\n",
              "</div>"
            ],
            "text/plain": [
              "           Unnamed: 0        mean_id  ...     destination_arrival_ts  trip_duration\n",
              "count   105112.000000  101990.000000  ...                     105112  105112.000000\n",
              "unique            NaN            NaN  ...                      52518            NaN\n",
              "top               NaN            NaN  ...  2020-10-01 02:07:28+00:00            NaN\n",
              "freq              NaN            NaN  ...                         20            NaN\n",
              "mean     52555.500000   90272.002088  ...                        NaN   10595.470707\n",
              "std      30343.365085   35574.068173  ...                        NaN   16809.378811\n",
              "min          0.000000    8927.000000  ...                        NaN       3.000000\n",
              "25%      26277.750000   82102.000000  ...                        NaN    4185.000000\n",
              "50%      52555.500000   83718.000000  ...                        NaN    6422.000000\n",
              "75%      78833.250000   89573.000000  ...                        NaN    9931.000000\n",
              "max     105111.000000  226383.000000  ...                        NaN  254484.000000\n",
              "\n",
              "[11 rows x 16 columns]"
            ]
          },
          "metadata": {
            "tags": []
          },
          "execution_count": 9
        }
      ]
    },
    {
      "cell_type": "markdown",
      "metadata": {
        "id": "B9UvtnPmCQIW"
      },
      "source": [
        "* Regardez les valeurs manquantes et comment vous pouvez les imputer.\r\n",
        "* Calculez quelques statistiques descriptives. \r\n",
        "* Calculez éventuellement les fonctionnalités"
      ]
    },
    {
      "cell_type": "code",
      "metadata": {
        "colab": {
          "base_uri": "https://localhost:8080/"
        },
        "id": "0l8XaqMiCXge",
        "outputId": "8a4094e7-d854-4952-d459-d8de397a7c94"
      },
      "source": [
        "df.isnull().sum()"
      ],
      "execution_count": null,
      "outputs": [
        {
          "output_type": "execute_result",
          "data": {
            "text/plain": [
              "Unnamed: 0                         0\n",
              "mean_id                         3122\n",
              "mean_organization_id               0\n",
              "organization_id                    0\n",
              "agency_id                       3131\n",
              "origin_history_place_id            0\n",
              "destination_history_place_id       0\n",
              "trip_distance                   3129\n",
              "trip_base_time                  3126\n",
              "origin_slot_start                  0\n",
              "origin_slot_end                    0\n",
              "destination_slot_start             0\n",
              "destination_slot_end            3135\n",
              "origin_arrival_ts                  0\n",
              "destination_arrival_ts             0\n",
              "trip_duration                      0\n",
              "dtype: int64"
            ]
          },
          "metadata": {
            "tags": []
          },
          "execution_count": 10
        }
      ]
    },
    {
      "cell_type": "code",
      "metadata": {
        "colab": {
          "base_uri": "https://localhost:8080/"
        },
        "id": "Lf0dEhz-o1Kl",
        "outputId": "06d361fc-43bf-4a59-c0c6-9ec0403c9f8f"
      },
      "source": [
        "%pip  install missingno"
      ],
      "execution_count": null,
      "outputs": [
        {
          "output_type": "stream",
          "text": [
            "Requirement already satisfied: missingno in /usr/local/lib/python3.6/dist-packages (0.4.2)\n",
            "Requirement already satisfied: matplotlib in /usr/local/lib/python3.6/dist-packages (from missingno) (3.2.2)\n",
            "Requirement already satisfied: scipy in /usr/local/lib/python3.6/dist-packages (from missingno) (1.4.1)\n",
            "Requirement already satisfied: numpy in /usr/local/lib/python3.6/dist-packages (from missingno) (1.18.5)\n",
            "Requirement already satisfied: seaborn in /usr/local/lib/python3.6/dist-packages (from missingno) (0.11.0)\n",
            "Requirement already satisfied: pyparsing!=2.0.4,!=2.1.2,!=2.1.6,>=2.0.1 in /usr/local/lib/python3.6/dist-packages (from matplotlib->missingno) (2.4.7)\n",
            "Requirement already satisfied: python-dateutil>=2.1 in /usr/local/lib/python3.6/dist-packages (from matplotlib->missingno) (2.8.1)\n",
            "Requirement already satisfied: cycler>=0.10 in /usr/local/lib/python3.6/dist-packages (from matplotlib->missingno) (0.10.0)\n",
            "Requirement already satisfied: kiwisolver>=1.0.1 in /usr/local/lib/python3.6/dist-packages (from matplotlib->missingno) (1.3.1)\n",
            "Requirement already satisfied: pandas>=0.23 in /usr/local/lib/python3.6/dist-packages (from seaborn->missingno) (1.1.5)\n",
            "Requirement already satisfied: six>=1.5 in /usr/local/lib/python3.6/dist-packages (from python-dateutil>=2.1->matplotlib->missingno) (1.15.0)\n",
            "Requirement already satisfied: pytz>=2017.2 in /usr/local/lib/python3.6/dist-packages (from pandas>=0.23->seaborn->missingno) (2018.9)\n"
          ],
          "name": "stdout"
        }
      ]
    },
    {
      "cell_type": "code",
      "metadata": {
        "colab": {
          "base_uri": "https://localhost:8080/",
          "height": 706
        },
        "id": "FH1gbCU4oj9-",
        "outputId": "e67c3b46-4b46-41ac-c9d8-371fde9ab1c0"
      },
      "source": [
        "import missingno as  msno\r\n",
        "msno.matrix(df)"
      ],
      "execution_count": null,
      "outputs": [
        {
          "output_type": "execute_result",
          "data": {
            "text/plain": [
              "<matplotlib.axes._subplots.AxesSubplot at 0x7f5c78b9e320>"
            ]
          },
          "metadata": {
            "tags": []
          },
          "execution_count": 21
        },
        {
          "output_type": "display_data",
          "data": {
            "image/png": "[encoded data removed]",
            "text/plain": [
              "<Figure size 1800x720 with 2 Axes>"
            ]
          },
          "metadata": {
            "tags": [],
            "needs_background": "light"
          }
        }
      ]
    },
    {
      "cell_type": "code",
      "metadata": {
        "colab": {
          "base_uri": "https://localhost:8080/"
        },
        "id": "cBbo-MDlFbM1",
        "outputId": "7ed1bcb6-5f4c-4ef0-c255-f46de5aecb5b"
      },
      "source": [
        "pourcentate_agency_id =100*df.agency_id.isnull().sum()/len(df.agency_id)\r\n",
        "print(pourcentate_agency_id)"
      ],
      "execution_count": null,
      "outputs": [
        {
          "output_type": "stream",
          "text": [
            "2.978727452621965\n"
          ],
          "name": "stdout"
        }
      ]
    },
    {
      "cell_type": "code",
      "metadata": {
        "colab": {
          "base_uri": "https://localhost:8080/"
        },
        "id": "jZw2EXLqHsu8",
        "outputId": "ee60f9ce-ba16-4d0e-aa39-e9676658656b"
      },
      "source": [
        "pourcentate_mean_id =100*df.mean_id.isnull().sum()/len(df.mean_id)\r\n",
        "print(pourcentate_mean_id)"
      ],
      "execution_count": null,
      "outputs": [
        {
          "output_type": "stream",
          "text": [
            "2.97016515716569\n"
          ],
          "name": "stdout"
        }
      ]
    },
    {
      "cell_type": "code",
      "metadata": {
        "colab": {
          "base_uri": "https://localhost:8080/"
        },
        "id": "JIHXhoiEIAZg",
        "outputId": "c955fc61-c367-4cfa-ebe3-ca350bbc5138"
      },
      "source": [
        "pourcentate_trip_distance =100*df.trip_distance.isnull().sum()/len(df.trip_distance)\r\n",
        "print(pourcentate_trip_distance)"
      ],
      "execution_count": null,
      "outputs": [
        {
          "output_type": "stream",
          "text": [
            "2.976824720298348\n"
          ],
          "name": "stdout"
        }
      ]
    },
    {
      "cell_type": "code",
      "metadata": {
        "colab": {
          "base_uri": "https://localhost:8080/"
        },
        "id": "abLUCF-DDC8I",
        "outputId": "e7a473c0-2462-4b7a-a4de-0891e2afda8c"
      },
      "source": [
        "pourcentate_trip_base_time =100*df.trip_base_time.isnull().sum()/len(df.trip_base_time)\r\n",
        "print(pourcentate_trip_base_time)"
      ],
      "execution_count": null,
      "outputs": [
        {
          "output_type": "stream",
          "text": [
            "2.9739706218129234\n"
          ],
          "name": "stdout"
        }
      ]
    },
    {
      "cell_type": "code",
      "metadata": {
        "colab": {
          "base_uri": "https://localhost:8080/"
        },
        "id": "sI_BYSsDJLqV",
        "outputId": "fa376f7a-d065-41ff-c20b-6712e349f6ad"
      },
      "source": [
        "pourcentate_destination_slot_end =100*df.destination_slot_end.isnull().sum()/len(df.destination_slot_end)\r\n",
        "print(pourcentate_destination_slot_end)"
      ],
      "execution_count": null,
      "outputs": [
        {
          "output_type": "stream",
          "text": [
            "2.982532917269199\n"
          ],
          "name": "stdout"
        }
      ]
    },
    {
      "cell_type": "markdown",
      "metadata": {
        "id": "GCXXDJK5wzOl"
      },
      "source": [
        "# Challenge Description\n",
        "\n",
        "\n",
        "### Dataset Information\n",
        "\n",
        "This dataset contains information of shippements on a time window of approx 6 month.\n",
        "Each line represent a shippement between two warehouses. \n",
        "\n",
        "A shippement is formed by a loading and delivery phase. The shipper ask to the carrier to pick up a parcel at the loading site in a time window represented by `loading_slot_start` & `loading_slot_end`, a time window is also given for the delivery phase. \n",
        "\n",
        "When the carrier truck arrives at the loading site, we record `loading_arrival_ts`. At this moment we want to predict the estimated duration of the transportation for the parcel (Part I), and also if the truck will be delayed at the delivery site (Part II & III).\n",
        "\n",
        "\n",
        "### Content\n",
        "\n",
        "There are 15 variables:\n",
        "\n",
        "| Name | Description |\n",
        "| -----| ----- | \n",
        "| mean_id |  unique ID of the carrier truck |\n",
        "| mean_organization_id |  unique ID of the carrier organization |\n",
        "| organization_id |  unique ID of the shipper organization |\n",
        "| agency_id |  unique ID of the shipper agency |\n",
        "| loading_history_place_id |  unique ID of the loading site |\n",
        "| delivery_history_place_id |  unique ID of the delivery site |\n",
        "| trip_distance |  distance in meter of the trip returned by the routing API |\n",
        "| trip_base_time |  duration estimated in second for the trip returned by the routing API |\n",
        "| loading_slot_start | start of the time window for the appoinement of the loading phase |\n",
        "| loading_slot_end |  end of the time window for the appoinement of the loading phase |\n",
        "| delivery_slot_start |  start of the time window for the appoinement of the delivery phase |\n",
        "| delivery_slot_end |  end of the time window for the appoinement of the delivery phase |\n",
        "| loading_arrival_ts | arrival timestamp at the loading site|\n",
        "| delivery_arrival_ts |  **Do not use as a feature:**  arrival timestamp at the delivery site  |\n",
        "| trip_duration | **Target:** duration in second of the trip between loading site and delivery site |\n",
        "\n",
        "\n",
        "# Instructions\n",
        "\n",
        "***The assessment is not done on the performance of the algorithm but rather on the explanation and coding skills***. Fairly good models with clean code and clear justifications will be prefered to high-performance models that are poorly explained. You are encouraged to provide as much details as you can in markdown cells or in comments, even if you have ideas you do not have time to explore. \n",
        "\n",
        "In the first part you are guided with intermediate steps that you are encouraged to follow. "
      ]
    },
    {
      "cell_type": "code",
      "metadata": {
        "id": "ssDGwAH0alTg"
      },
      "source": [
        "# remplacer par la médiane \r\n",
        "median_trip_distance = df['trip_distance'].median()\r\n",
        "df['trip_distance'].fillna(median_trip_distance, inplace=True)\r\n",
        "median_trip_base_time = df['trip_base_time'].median()\r\n",
        "df['trip_base_time'].fillna(median_trip_base_time, inplace=True)\r\n",
        "median_trip_base_time = df['trip_base_time'].median()\r\n",
        "dfnoNan=df.dropna()\r\n",
        "df_drop=df.drop(columns=['mean_id','agency_id'])"
      ],
      "execution_count": null,
      "outputs": []
    },
    {
      "cell_type": "code",
      "metadata": {
        "colab": {
          "base_uri": "https://localhost:8080/"
        },
        "id": "c1WlBSHA873v",
        "outputId": "1f2e66e7-1021-4143-ca5f-5d33286298dd"
      },
      "source": [
        "df_drop.isnull().sum()"
      ],
      "execution_count": null,
      "outputs": [
        {
          "output_type": "execute_result",
          "data": {
            "text/plain": [
              "Unnamed: 0                         0\n",
              "mean_organization_id               0\n",
              "organization_id                    0\n",
              "origin_history_place_id            0\n",
              "destination_history_place_id       0\n",
              "trip_distance                      0\n",
              "trip_base_time                     0\n",
              "origin_slot_start                  0\n",
              "origin_slot_end                    0\n",
              "destination_slot_start             0\n",
              "destination_slot_end            1965\n",
              "origin_arrival_ts                  1\n",
              "destination_arrival_ts             1\n",
              "trip_duration                      1\n",
              "dtype: int64"
            ]
          },
          "metadata": {
            "tags": []
          },
          "execution_count": 195
        }
      ]
    },
    {
      "cell_type": "markdown",
      "metadata": {
        "id": "fnZCIIEWIMQH"
      },
      "source": [
        "# Datavisualisation "
      ]
    },
    {
      "cell_type": "code",
      "metadata": {
        "colab": {
          "base_uri": "https://localhost:8080/"
        },
        "id": "FLiQ9jzPrdWz",
        "outputId": "8353fdce-71c8-4ba5-d5c6-9bc33d56f7a9"
      },
      "source": [
        "df.columns"
      ],
      "execution_count": null,
      "outputs": [
        {
          "output_type": "execute_result",
          "data": {
            "text/plain": [
              "Index(['Unnamed: 0', 'mean_id', 'mean_organization_id', 'organization_id',\n",
              "       'agency_id', 'origin_history_place_id', 'destination_history_place_id',\n",
              "       'trip_distance', 'trip_base_time', 'origin_slot_start',\n",
              "       'origin_slot_end', 'destination_slot_start', 'destination_slot_end',\n",
              "       'origin_arrival_ts', 'destination_arrival_ts', 'trip_duration'],\n",
              "      dtype='object')"
            ]
          },
          "metadata": {
            "tags": []
          },
          "execution_count": 22
        }
      ]
    },
    {
      "cell_type": "code",
      "metadata": {
        "id": "z2uXMrsWzdxT"
      },
      "source": [
        "# Etude mean_organization_id "
      ],
      "execution_count": null,
      "outputs": []
    },
    {
      "cell_type": "code",
      "metadata": {
        "colab": {
          "base_uri": "https://localhost:8080/",
          "height": 444
        },
        "id": "vYDSCsl__FWx",
        "outputId": "6f1bf76a-4339-4b12-abb1-03c85dfbe45b"
      },
      "source": [
        "sns.countplot('mean_organization_id', data=df_drop)\r\n",
        "plt.show()"
      ],
      "execution_count": null,
      "outputs": [
        {
          "output_type": "stream",
          "text": [
            "/usr/local/lib/python3.6/dist-packages/seaborn/_decorators.py:43: FutureWarning: Pass the following variable as a keyword arg: x. From version 0.12, the only valid positional argument will be `data`, and passing other arguments without an explicit keyword will result in an error or misinterpretation.\n",
            "  FutureWarning\n"
          ],
          "name": "stderr"
        },
        {
          "output_type": "display_data",
          "data": {
            "image/png": "[encoded data removed]",
            "text/plain": [
              "<Figure size 576x432 with 1 Axes>"
            ]
          },
          "metadata": {
            "tags": [],
            "needs_background": "light"
          }
        }
      ]
    },
    {
      "cell_type": "code",
      "metadata": {
        "colab": {
          "base_uri": "https://localhost:8080/",
          "height": 444
        },
        "id": "MBBF5uxg-51a",
        "outputId": "e2c61c07-27da-4f76-d9c1-fd58198ea7ee"
      },
      "source": [
        "# analyse organization_id\r\n",
        "sns.countplot('organization_id', data=df_drop)\r\n",
        "plt.show()"
      ],
      "execution_count": null,
      "outputs": [
        {
          "output_type": "stream",
          "text": [
            "/usr/local/lib/python3.6/dist-packages/seaborn/_decorators.py:43: FutureWarning: Pass the following variable as a keyword arg: x. From version 0.12, the only valid positional argument will be `data`, and passing other arguments without an explicit keyword will result in an error or misinterpretation.\n",
            "  FutureWarning\n"
          ],
          "name": "stderr"
        },
        {
          "output_type": "display_data",
          "data": {
            "image/png": "[encoded data removed]",
            "text/plain": [
              "<Figure size 576x432 with 1 Axes>"
            ]
          },
          "metadata": {
            "tags": [],
            "needs_background": "light"
          }
        }
      ]
    },
    {
      "cell_type": "code",
      "metadata": {
        "colab": {
          "base_uri": "https://localhost:8080/"
        },
        "id": "LP-C5gXLrjlL",
        "outputId": "2f63ed33-3f2a-46ca-9510-94b5d7674b84"
      },
      "source": [
        "cordia=df.corr()\r\n",
        "print(cordia)"
      ],
      "execution_count": null,
      "outputs": [
        {
          "output_type": "stream",
          "text": [
            "                              Unnamed: 0  ...  trip_duration\n",
            "Unnamed: 0                      1.000000  ...      -0.056234\n",
            "mean_id                        -0.140313  ...       0.055752\n",
            "mean_organization_id            0.478984  ...      -0.125597\n",
            "organization_id                -0.469873  ...       0.121625\n",
            "agency_id                      -0.469709  ...       0.121585\n",
            "origin_history_place_id        -0.384261  ...       0.069011\n",
            "destination_history_place_id   -0.376908  ...       0.087505\n",
            "trip_distance                  -0.108696  ...       0.189960\n",
            "trip_base_time                 -0.058316  ...       0.179693\n",
            "trip_duration                  -0.056234  ...       1.000000\n",
            "\n",
            "[10 rows x 10 columns]\n"
          ],
          "name": "stdout"
        }
      ]
    },
    {
      "cell_type": "code",
      "metadata": {
        "colab": {
          "base_uri": "https://localhost:8080/",
          "height": 527
        },
        "id": "qEVlpwScnlCW",
        "outputId": "a1f626c8-d528-49eb-f5eb-f8113bb16db3"
      },
      "source": [
        "matrice_corr = df.corr().round(1)\r\n",
        "sns.heatmap(data=matrice_corr, annot=True)"
      ],
      "execution_count": null,
      "outputs": [
        {
          "output_type": "execute_result",
          "data": {
            "text/plain": [
              "<matplotlib.axes._subplots.AxesSubplot at 0x7f5c76075f28>"
            ]
          },
          "metadata": {
            "tags": []
          },
          "execution_count": 26
        },
        {
          "output_type": "display_data",
          "data": {
            "image/png": "[encoded data removed]",
            "text/plain": [
              "<Figure size 576x432 with 2 Axes>"
            ]
          },
          "metadata": {
            "tags": [],
            "needs_background": "light"
          }
        }
      ]
    },
    {
      "cell_type": "markdown",
      "metadata": {
        "id": "gHONsMBsyDys"
      },
      "source": [
        "##Model\n",
        "\n",
        "Split your data in train / test and train as usual. \n",
        "Train a model of your choice and evaluate it with a relevant metric. "
      ]
    },
    {
      "cell_type": "markdown",
      "metadata": {
        "id": "58U3nG9oq2vt"
      },
      "source": [
        "# creation  des  tests et des trains"
      ]
    },
    {
      "cell_type": "code",
      "metadata": {
        "colab": {
          "base_uri": "https://localhost:8080/"
        },
        "id": "bktISkd6Kl-Y",
        "outputId": "8dc8f7ab-e235-4b0c-a264-8cdbc82f62e9"
      },
      "source": [
        "print(y_train)"
      ],
      "execution_count": null,
      "outputs": [
        {
          "output_type": "stream",
          "text": [
            "        Unnamed: 0  trip_duration\n",
            "102413      102413           4904\n",
            "62011        62011           2064\n",
            "59456        59456          41561\n",
            "99725        99725           9106\n",
            "1518          1518           6152\n",
            "...            ...            ...\n",
            "54886        54886           2336\n",
            "76820        76820           4049\n",
            "103694      103694           4284\n",
            "860            860           4318\n",
            "15795        15795          68469\n",
            "\n",
            "[73578 rows x 2 columns]\n"
          ],
          "name": "stdout"
        }
      ]
    },
    {
      "cell_type": "code",
      "metadata": {
        "colab": {
          "base_uri": "https://localhost:8080/"
        },
        "id": "4dprfcnGKq4q",
        "outputId": "68e680a4-0457-4d05-8af7-b200ae0f2132"
      },
      "source": [
        "print(y_test)"
      ],
      "execution_count": null,
      "outputs": [
        {
          "output_type": "stream",
          "text": [
            "       Unnamed: 0  trip_duration\n",
            "84858       84858           4179\n",
            "37217       37217           4212\n",
            "64923       64923           5294\n",
            "21250       21250          74377\n",
            "64241       64241           9743\n",
            "...           ...            ...\n",
            "48433       48433           3740\n",
            "66499       66499          11583\n",
            "49667       49667           9180\n",
            "35852       35852           3050\n",
            "75793       75793          10161\n",
            "\n",
            "[31534 rows x 2 columns]\n"
          ],
          "name": "stdout"
        }
      ]
    },
    {
      "cell_type": "code",
      "metadata": {
        "colab": {
          "base_uri": "https://localhost:8080/"
        },
        "id": "WSksp0jZkcQQ",
        "outputId": "b795778d-c94f-45e5-e625-949b37956477"
      },
      "source": [
        "print(X_train.shape)\r\n",
        "print(X_test.shape)\r\n",
        "print(y_train.shape)\r\n",
        "print(y_test.shape)"
      ],
      "execution_count": null,
      "outputs": [
        {
          "output_type": "stream",
          "text": [
            "(73578, 11)\n",
            "(31534, 11)\n",
            "(73578, 2)\n",
            "(31534, 2)\n"
          ],
          "name": "stdout"
        }
      ]
    },
    {
      "cell_type": "markdown",
      "metadata": {
        "id": "ZkBvB9GAxHrK"
      },
      "source": [
        "#Etude  pour la  programmation  des  modele "
      ]
    },
    {
      "cell_type": "code",
      "metadata": {
        "colab": {
          "base_uri": "https://localhost:8080/",
          "height": 352
        },
        "id": "842Eq6k_xX0a",
        "outputId": "dec13852-0db0-44cb-9894-9eb7689b0ad3"
      },
      "source": [
        "#Etude de la regression lineaire\r\n",
        "from sklearn.linear_model import LinearRegression\r\n",
        "from sklearn.metrics import mean_squared_error\r\n",
        "lmodellineaire = LinearRegression()\r\n",
        "lmodellineaire.fit(X_train, y_train)"
      ],
      "execution_count": null,
      "outputs": [
        {
          "output_type": "error",
          "ename": "ValueError",
          "evalue": "ignored",
          "traceback": [
            "\u001b[0;31m---------------------------------------------------------------------------\u001b[0m",
            "\u001b[0;31mValueError\u001b[0m                                Traceback (most recent call last)",
            "\u001b[0;32m<ipython-input-144-de0d1a645d1a>\u001b[0m in \u001b[0;36m<module>\u001b[0;34m()\u001b[0m\n\u001b[1;32m      3\u001b[0m \u001b[0;32mfrom\u001b[0m \u001b[0msklearn\u001b[0m\u001b[0;34m.\u001b[0m\u001b[0mmetrics\u001b[0m \u001b[0;32mimport\u001b[0m \u001b[0mmean_squared_error\u001b[0m\u001b[0;34m\u001b[0m\u001b[0;34m\u001b[0m\u001b[0m\n\u001b[1;32m      4\u001b[0m \u001b[0mlmodellineaire\u001b[0m \u001b[0;34m=\u001b[0m \u001b[0mLinearRegression\u001b[0m\u001b[0;34m(\u001b[0m\u001b[0;34m)\u001b[0m\u001b[0;34m\u001b[0m\u001b[0;34m\u001b[0m\u001b[0m\n\u001b[0;32m----> 5\u001b[0;31m \u001b[0mlmodellineaire\u001b[0m\u001b[0;34m.\u001b[0m\u001b[0mfit\u001b[0m\u001b[0;34m(\u001b[0m\u001b[0mX_train\u001b[0m\u001b[0;34m,\u001b[0m \u001b[0my_train\u001b[0m\u001b[0;34m)\u001b[0m\u001b[0;34m\u001b[0m\u001b[0;34m\u001b[0m\u001b[0m\n\u001b[0m",
            "\u001b[0;32m/usr/local/lib/python3.6/dist-packages/sklearn/linear_model/_base.py\u001b[0m in \u001b[0;36mfit\u001b[0;34m(self, X, y, sample_weight)\u001b[0m\n\u001b[1;32m    490\u001b[0m         \u001b[0mn_jobs_\u001b[0m \u001b[0;34m=\u001b[0m \u001b[0mself\u001b[0m\u001b[0;34m.\u001b[0m\u001b[0mn_jobs\u001b[0m\u001b[0;34m\u001b[0m\u001b[0;34m\u001b[0m\u001b[0m\n\u001b[1;32m    491\u001b[0m         X, y = check_X_y(X, y, accept_sparse=['csr', 'csc', 'coo'],\n\u001b[0;32m--> 492\u001b[0;31m                          y_numeric=True, multi_output=True)\n\u001b[0m\u001b[1;32m    493\u001b[0m \u001b[0;34m\u001b[0m\u001b[0m\n\u001b[1;32m    494\u001b[0m         \u001b[0;32mif\u001b[0m \u001b[0msample_weight\u001b[0m \u001b[0;32mis\u001b[0m \u001b[0;32mnot\u001b[0m \u001b[0;32mNone\u001b[0m\u001b[0;34m:\u001b[0m\u001b[0;34m\u001b[0m\u001b[0;34m\u001b[0m\u001b[0m\n",
            "\u001b[0;32m/usr/local/lib/python3.6/dist-packages/sklearn/utils/validation.py\u001b[0m in \u001b[0;36mcheck_X_y\u001b[0;34m(X, y, accept_sparse, accept_large_sparse, dtype, order, copy, force_all_finite, ensure_2d, allow_nd, multi_output, ensure_min_samples, ensure_min_features, y_numeric, warn_on_dtype, estimator)\u001b[0m\n\u001b[1;32m    753\u001b[0m                     \u001b[0mensure_min_features\u001b[0m\u001b[0;34m=\u001b[0m\u001b[0mensure_min_features\u001b[0m\u001b[0;34m,\u001b[0m\u001b[0;34m\u001b[0m\u001b[0;34m\u001b[0m\u001b[0m\n\u001b[1;32m    754\u001b[0m                     \u001b[0mwarn_on_dtype\u001b[0m\u001b[0;34m=\u001b[0m\u001b[0mwarn_on_dtype\u001b[0m\u001b[0;34m,\u001b[0m\u001b[0;34m\u001b[0m\u001b[0;34m\u001b[0m\u001b[0m\n\u001b[0;32m--> 755\u001b[0;31m                     estimator=estimator)\n\u001b[0m\u001b[1;32m    756\u001b[0m     \u001b[0;32mif\u001b[0m \u001b[0mmulti_output\u001b[0m\u001b[0;34m:\u001b[0m\u001b[0;34m\u001b[0m\u001b[0;34m\u001b[0m\u001b[0m\n\u001b[1;32m    757\u001b[0m         y = check_array(y, 'csr', force_all_finite=True, ensure_2d=False,\n",
            "\u001b[0;32m/usr/local/lib/python3.6/dist-packages/sklearn/utils/validation.py\u001b[0m in \u001b[0;36mcheck_array\u001b[0;34m(array, accept_sparse, accept_large_sparse, dtype, order, copy, force_all_finite, ensure_2d, allow_nd, ensure_min_samples, ensure_min_features, warn_on_dtype, estimator)\u001b[0m\n\u001b[1;32m    529\u001b[0m                     \u001b[0marray\u001b[0m \u001b[0;34m=\u001b[0m \u001b[0marray\u001b[0m\u001b[0;34m.\u001b[0m\u001b[0mastype\u001b[0m\u001b[0;34m(\u001b[0m\u001b[0mdtype\u001b[0m\u001b[0;34m,\u001b[0m \u001b[0mcasting\u001b[0m\u001b[0;34m=\u001b[0m\u001b[0;34m\"unsafe\"\u001b[0m\u001b[0;34m,\u001b[0m \u001b[0mcopy\u001b[0m\u001b[0;34m=\u001b[0m\u001b[0;32mFalse\u001b[0m\u001b[0;34m)\u001b[0m\u001b[0;34m\u001b[0m\u001b[0;34m\u001b[0m\u001b[0m\n\u001b[1;32m    530\u001b[0m                 \u001b[0;32melse\u001b[0m\u001b[0;34m:\u001b[0m\u001b[0;34m\u001b[0m\u001b[0;34m\u001b[0m\u001b[0m\n\u001b[0;32m--> 531\u001b[0;31m                     \u001b[0marray\u001b[0m \u001b[0;34m=\u001b[0m \u001b[0mnp\u001b[0m\u001b[0;34m.\u001b[0m\u001b[0masarray\u001b[0m\u001b[0;34m(\u001b[0m\u001b[0marray\u001b[0m\u001b[0;34m,\u001b[0m \u001b[0morder\u001b[0m\u001b[0;34m=\u001b[0m\u001b[0morder\u001b[0m\u001b[0;34m,\u001b[0m \u001b[0mdtype\u001b[0m\u001b[0;34m=\u001b[0m\u001b[0mdtype\u001b[0m\u001b[0;34m)\u001b[0m\u001b[0;34m\u001b[0m\u001b[0;34m\u001b[0m\u001b[0m\n\u001b[0m\u001b[1;32m    532\u001b[0m             \u001b[0;32mexcept\u001b[0m \u001b[0mComplexWarning\u001b[0m\u001b[0;34m:\u001b[0m\u001b[0;34m\u001b[0m\u001b[0;34m\u001b[0m\u001b[0m\n\u001b[1;32m    533\u001b[0m                 raise ValueError(\"Complex data not supported\\n\"\n",
            "\u001b[0;32m/usr/local/lib/python3.6/dist-packages/numpy/core/_asarray.py\u001b[0m in \u001b[0;36masarray\u001b[0;34m(a, dtype, order)\u001b[0m\n\u001b[1;32m     83\u001b[0m \u001b[0;34m\u001b[0m\u001b[0m\n\u001b[1;32m     84\u001b[0m     \"\"\"\n\u001b[0;32m---> 85\u001b[0;31m     \u001b[0;32mreturn\u001b[0m \u001b[0marray\u001b[0m\u001b[0;34m(\u001b[0m\u001b[0ma\u001b[0m\u001b[0;34m,\u001b[0m \u001b[0mdtype\u001b[0m\u001b[0;34m,\u001b[0m \u001b[0mcopy\u001b[0m\u001b[0;34m=\u001b[0m\u001b[0;32mFalse\u001b[0m\u001b[0;34m,\u001b[0m \u001b[0morder\u001b[0m\u001b[0;34m=\u001b[0m\u001b[0morder\u001b[0m\u001b[0;34m)\u001b[0m\u001b[0;34m\u001b[0m\u001b[0;34m\u001b[0m\u001b[0m\n\u001b[0m\u001b[1;32m     86\u001b[0m \u001b[0;34m\u001b[0m\u001b[0m\n\u001b[1;32m     87\u001b[0m \u001b[0;34m\u001b[0m\u001b[0m\n",
            "\u001b[0;32m/usr/local/lib/python3.6/dist-packages/pandas/core/generic.py\u001b[0m in \u001b[0;36m__array__\u001b[0;34m(self, dtype)\u001b[0m\n\u001b[1;32m   1779\u001b[0m \u001b[0;34m\u001b[0m\u001b[0m\n\u001b[1;32m   1780\u001b[0m     \u001b[0;32mdef\u001b[0m \u001b[0m__array__\u001b[0m\u001b[0;34m(\u001b[0m\u001b[0mself\u001b[0m\u001b[0;34m,\u001b[0m \u001b[0mdtype\u001b[0m\u001b[0;34m=\u001b[0m\u001b[0;32mNone\u001b[0m\u001b[0;34m)\u001b[0m \u001b[0;34m->\u001b[0m \u001b[0mnp\u001b[0m\u001b[0;34m.\u001b[0m\u001b[0mndarray\u001b[0m\u001b[0;34m:\u001b[0m\u001b[0;34m\u001b[0m\u001b[0;34m\u001b[0m\u001b[0m\n\u001b[0;32m-> 1781\u001b[0;31m         \u001b[0;32mreturn\u001b[0m \u001b[0mnp\u001b[0m\u001b[0;34m.\u001b[0m\u001b[0masarray\u001b[0m\u001b[0;34m(\u001b[0m\u001b[0mself\u001b[0m\u001b[0;34m.\u001b[0m\u001b[0m_values\u001b[0m\u001b[0;34m,\u001b[0m \u001b[0mdtype\u001b[0m\u001b[0;34m=\u001b[0m\u001b[0mdtype\u001b[0m\u001b[0;34m)\u001b[0m\u001b[0;34m\u001b[0m\u001b[0;34m\u001b[0m\u001b[0m\n\u001b[0m\u001b[1;32m   1782\u001b[0m \u001b[0;34m\u001b[0m\u001b[0m\n\u001b[1;32m   1783\u001b[0m     \u001b[0;32mdef\u001b[0m \u001b[0m__array_wrap__\u001b[0m\u001b[0;34m(\u001b[0m\u001b[0mself\u001b[0m\u001b[0;34m,\u001b[0m \u001b[0mresult\u001b[0m\u001b[0;34m,\u001b[0m \u001b[0mcontext\u001b[0m\u001b[0;34m=\u001b[0m\u001b[0;32mNone\u001b[0m\u001b[0;34m)\u001b[0m\u001b[0;34m:\u001b[0m\u001b[0;34m\u001b[0m\u001b[0;34m\u001b[0m\u001b[0m\n",
            "\u001b[0;32m/usr/local/lib/python3.6/dist-packages/numpy/core/_asarray.py\u001b[0m in \u001b[0;36masarray\u001b[0;34m(a, dtype, order)\u001b[0m\n\u001b[1;32m     83\u001b[0m \u001b[0;34m\u001b[0m\u001b[0m\n\u001b[1;32m     84\u001b[0m     \"\"\"\n\u001b[0;32m---> 85\u001b[0;31m     \u001b[0;32mreturn\u001b[0m \u001b[0marray\u001b[0m\u001b[0;34m(\u001b[0m\u001b[0ma\u001b[0m\u001b[0;34m,\u001b[0m \u001b[0mdtype\u001b[0m\u001b[0;34m,\u001b[0m \u001b[0mcopy\u001b[0m\u001b[0;34m=\u001b[0m\u001b[0;32mFalse\u001b[0m\u001b[0;34m,\u001b[0m \u001b[0morder\u001b[0m\u001b[0;34m=\u001b[0m\u001b[0morder\u001b[0m\u001b[0;34m)\u001b[0m\u001b[0;34m\u001b[0m\u001b[0;34m\u001b[0m\u001b[0m\n\u001b[0m\u001b[1;32m     86\u001b[0m \u001b[0;34m\u001b[0m\u001b[0m\n\u001b[1;32m     87\u001b[0m \u001b[0;34m\u001b[0m\u001b[0m\n",
            "\u001b[0;31mValueError\u001b[0m: could not convert string to float: '2020-09-21 00:00:00+00:00'"
          ]
        }
      ]
    },
    {
      "cell_type": "code",
      "metadata": {
        "id": "IPJuDzfGxX8Y"
      },
      "source": [
        "# Evaluation du training set\r\n",
        "from sklearn.metrics import r2_score\r\n",
        "from sklearn.linear_model import LinearRegression\r\n",
        "from matplotlib.pyplot import figure\r\n",
        "y_train = lmodellineaire.predict(X_train)\r\n",
        "rmse = (np.sqrt(mean_squared_error(Y_train, y_train)))\r\n",
        "r2 = r2_score(Y_train, y_train)\r\n",
        "print('La performance du modèle sur la base dapprentissage')\r\n",
        "print('--------------------------------------')\r\n",
        "print('Lerreur quadratique moyenne est {}'.format(rmse))\r\n",
        "print('le score R2 est {}'.format(r2))\r\n",
        "print('\\n')\r\n",
        "# model evaluation for testing set\r\n",
        "y_test_predict = lmodellineaire.predict(X_test)\r\n",
        "rmse = (np.sqrt(mean_squared_error(Y_test, y_test)))\r\n",
        "r2 = r2_score(Y_test, y_test)\r\n",
        "print('La performance du modèle sur la base de test')\r\n",
        "print('--------------------------------------')\r\n",
        "print('Lerreur quadratique moyenne est {}'.format(rmse))\r\n",
        "print('le score R2 est {}'.format(r2))"
      ],
      "execution_count": null,
      "outputs": []
    },
    {
      "cell_type": "code",
      "metadata": {
        "id": "IH2lvl9VxYEg"
      },
      "source": [
        "# affichage des resultats de la regression lineaire "
      ],
      "execution_count": null,
      "outputs": []
    },
    {
      "cell_type": "code",
      "metadata": {
        "id": "vU1EafhvWChn"
      },
      "source": [
        "from sklearn.linear_model import LogisticRegression\r\n",
        "#3\r\n",
        "reg = LogisticRegression()\r\n",
        "reg.fit(X_train,y_train)\r\n",
        "#4\r\n",
        "print(reg.coef_,'\\n',reg.intercept_)"
      ],
      "execution_count": null,
      "outputs": []
    },
    {
      "cell_type": "code",
      "metadata": {
        "id": "RD4iOgqXVh2k",
        "outputId": "a9ef7443-d83a-4382-8655-ac82c7e22162"
      },
      "source": [
        "Ypred=reg.predict(X_test)\n",
        "Ypred"
      ],
      "execution_count": null,
      "outputs": [
        {
          "output_type": "error",
          "ename": "NotFittedError",
          "evalue": "This LogisticRegression instance is not fitted yet",
          "traceback": [
            "\u001b[1;31m---------------------------------------------------------------------------\u001b[0m",
            "\u001b[1;31mNotFittedError\u001b[0m                            Traceback (most recent call last)",
            "\u001b[1;32m<ipython-input-41-e24392f5ffc5>\u001b[0m in \u001b[0;36m<module>\u001b[1;34m\u001b[0m\n\u001b[1;32m----> 1\u001b[1;33m \u001b[0mYpred\u001b[0m\u001b[1;33m=\u001b[0m\u001b[0mreg\u001b[0m\u001b[1;33m.\u001b[0m\u001b[0mpredict\u001b[0m\u001b[1;33m(\u001b[0m\u001b[0mX_test\u001b[0m\u001b[1;33m)\u001b[0m\u001b[1;33m\u001b[0m\u001b[1;33m\u001b[0m\u001b[0m\n\u001b[0m\u001b[0;32m      2\u001b[0m \u001b[0mYpred\u001b[0m\u001b[1;33m\u001b[0m\u001b[1;33m\u001b[0m\u001b[0m\n",
            "\u001b[1;32m~\\Anaconda3\\lib\\site-packages\\sklearn\\linear_model\\base.py\u001b[0m in \u001b[0;36mpredict\u001b[1;34m(self, X)\u001b[0m\n\u001b[0;32m    287\u001b[0m             \u001b[0mPredicted\u001b[0m \u001b[1;32mclass\u001b[0m \u001b[0mlabel\u001b[0m \u001b[0mper\u001b[0m \u001b[0msample\u001b[0m\u001b[1;33m.\u001b[0m\u001b[1;33m\u001b[0m\u001b[1;33m\u001b[0m\u001b[0m\n\u001b[0;32m    288\u001b[0m         \"\"\"\n\u001b[1;32m--> 289\u001b[1;33m         \u001b[0mscores\u001b[0m \u001b[1;33m=\u001b[0m \u001b[0mself\u001b[0m\u001b[1;33m.\u001b[0m\u001b[0mdecision_function\u001b[0m\u001b[1;33m(\u001b[0m\u001b[0mX\u001b[0m\u001b[1;33m)\u001b[0m\u001b[1;33m\u001b[0m\u001b[1;33m\u001b[0m\u001b[0m\n\u001b[0m\u001b[0;32m    290\u001b[0m         \u001b[1;32mif\u001b[0m \u001b[0mlen\u001b[0m\u001b[1;33m(\u001b[0m\u001b[0mscores\u001b[0m\u001b[1;33m.\u001b[0m\u001b[0mshape\u001b[0m\u001b[1;33m)\u001b[0m \u001b[1;33m==\u001b[0m \u001b[1;36m1\u001b[0m\u001b[1;33m:\u001b[0m\u001b[1;33m\u001b[0m\u001b[1;33m\u001b[0m\u001b[0m\n\u001b[0;32m    291\u001b[0m             \u001b[0mindices\u001b[0m \u001b[1;33m=\u001b[0m \u001b[1;33m(\u001b[0m\u001b[0mscores\u001b[0m \u001b[1;33m>\u001b[0m \u001b[1;36m0\u001b[0m\u001b[1;33m)\u001b[0m\u001b[1;33m.\u001b[0m\u001b[0mastype\u001b[0m\u001b[1;33m(\u001b[0m\u001b[0mnp\u001b[0m\u001b[1;33m.\u001b[0m\u001b[0mint\u001b[0m\u001b[1;33m)\u001b[0m\u001b[1;33m\u001b[0m\u001b[1;33m\u001b[0m\u001b[0m\n",
            "\u001b[1;32m~\\Anaconda3\\lib\\site-packages\\sklearn\\linear_model\\base.py\u001b[0m in \u001b[0;36mdecision_function\u001b[1;34m(self, X)\u001b[0m\n\u001b[0;32m    261\u001b[0m         \u001b[1;32mif\u001b[0m \u001b[1;32mnot\u001b[0m \u001b[0mhasattr\u001b[0m\u001b[1;33m(\u001b[0m\u001b[0mself\u001b[0m\u001b[1;33m,\u001b[0m \u001b[1;34m'coef_'\u001b[0m\u001b[1;33m)\u001b[0m \u001b[1;32mor\u001b[0m \u001b[0mself\u001b[0m\u001b[1;33m.\u001b[0m\u001b[0mcoef_\u001b[0m \u001b[1;32mis\u001b[0m \u001b[1;32mNone\u001b[0m\u001b[1;33m:\u001b[0m\u001b[1;33m\u001b[0m\u001b[1;33m\u001b[0m\u001b[0m\n\u001b[0;32m    262\u001b[0m             raise NotFittedError(\"This %(name)s instance is not fitted \"\n\u001b[1;32m--> 263\u001b[1;33m                                  \"yet\" % {'name': type(self).__name__})\n\u001b[0m\u001b[0;32m    264\u001b[0m \u001b[1;33m\u001b[0m\u001b[0m\n\u001b[0;32m    265\u001b[0m         \u001b[0mX\u001b[0m \u001b[1;33m=\u001b[0m \u001b[0mcheck_array\u001b[0m\u001b[1;33m(\u001b[0m\u001b[0mX\u001b[0m\u001b[1;33m,\u001b[0m \u001b[0maccept_sparse\u001b[0m\u001b[1;33m=\u001b[0m\u001b[1;34m'csr'\u001b[0m\u001b[1;33m)\u001b[0m\u001b[1;33m\u001b[0m\u001b[1;33m\u001b[0m\u001b[0m\n",
            "\u001b[1;31mNotFittedError\u001b[0m: This LogisticRegression instance is not fitted yet"
          ]
        }
      ]
    },
    {
      "cell_type": "markdown",
      "metadata": {
        "id": "93DTcCk0yDyt"
      },
      "source": [
        "\n",
        "# Optimization \n",
        "\n",
        "Optimize the hyperparameters of your algorithm\n"
      ]
    },
    {
      "cell_type": "code",
      "metadata": {
        "id": "eiaRntt6F-yC"
      },
      "source": [
        ""
      ],
      "execution_count": null,
      "outputs": []
    },
    {
      "cell_type": "markdown",
      "metadata": {
        "id": "IxMKejOeyDyt"
      },
      "source": [
        "\n",
        "# Performance\n",
        "\n",
        "Evaluate the performance of the model using the relevant tools. \n",
        "\n",
        "Plot the following graph : MAE on y-axis and trip_duration on the x-axis with an x aggregation of 30 min. \n"
      ]
    },
    {
      "cell_type": "code",
      "metadata": {
        "id": "9JGExdm7F_na"
      },
      "source": [
        "#  MAE MEAN ABSOLUTE ERROR"
      ],
      "execution_count": null,
      "outputs": []
    },
    {
      "cell_type": "markdown",
      "metadata": {
        "id": "kt5KaTAwyDyu"
      },
      "source": [
        "\n",
        "# Part II \n",
        "In this part the goal is to see if our model can predict a delay or not. \n",
        "\n",
        "A truck is said as 'delayed' if it arrives more than 30 min after the destination_slot_end. Using a confusion matrix show how the previous model performs on the delays detection.\n",
        "\n",
        "Use a classification model based on the previous dataset that predict if a truck will be delayed or not. Does it performs better than the regression model in delays detection? Use the right tools to compare the two models."
      ]
    },
    {
      "cell_type": "markdown",
      "metadata": {
        "id": "DIwYHtB1cjCW"
      },
      "source": [
        "Dans cette partie, l'objectif est de voir si notre modèle peut prédire un retard ou non. Un camion est dit «retardé» s'il arrive plus de 30 minutes après la destination_slot_end. À l'aide d'une matrice de confusion, montrez comment le modèle précédent fonctionne sur la détection des retards. Utilisez un modèle de classification basé sur le jeu de données précédent qui prédisent si un camion sera retardé ou non. Est-ce qu'il fonctionne mieux que le modèle de régression dans la détection des retards? Utilisez les bons outils pour comparer les deux modèles."
      ]
    },
    {
      "cell_type": "code",
      "metadata": {
        "id": "6p2rMK_MyDyu"
      },
      "source": [
        "if "
      ],
      "execution_count": null,
      "outputs": []
    }
  ]
}