{
  "nbformat": 4,
  "nbformat_minor": 0,
  "metadata": {
    "kernelspec": {
      "display_name": "Python 3",
      "language": "python",
      "name": "python3"
    },
    "language_info": {
      "codemirror_mode": {
        "name": "ipython",
        "version": 3
      },
      "file_extension": ".py",
      "mimetype": "text/x-python",
      "name": "python",
      "nbconvert_exporter": "python",
      "pygments_lexer": "ipython3",
      "version": "3.7.8"
    },
    "colab": {
      "name": "Case_study_Shippeo_version01.ipynb",
      "provenance": [],
      "collapsed_sections": [],
      "toc_visible": true,
      "include_colab_link": true
    }
  },
  "cells": [
    {
      "cell_type": "markdown",
      "metadata": {
        "id": "view-in-github",
        "colab_type": "text"
      },
      "source": [
        "<a href=\"https://colab.research.google.com/github/dspierre/data-ia/blob/dspierre-machinelearning/Case_study_Shippeo_version01.ipynb\" target=\"_parent\"><img src=\"https://colab.research.google.com/assets/colab-badge.svg\" alt=\"Open In Colab\"/></a>"
      ]
    },
    {
      "cell_type": "markdown",
      "metadata": {
        "id": "C51r7hERyDyd"
      },
      "source": [
        "# Working Environment\n",
        "\n",
        "This python environment contains most of the packages required for the task. **Shall you** need extra packages, you can access to the shell and can install like that: \n",
        "\n",
        "```shell\n",
        "!pip install myPackage\n",
        "```\n",
        "\n",
        "\n",
        "\n",
        "```shell\n",
        "!pip install -e git+https://github.com/scikit-learn/scikit-learn.git\n",
        "```"
      ]
    },
    {
      "cell_type": "markdown",
      "metadata": {
        "id": "-m0HmJmUyDyo"
      },
      "source": [
        "# Challenge Description\n",
        "\n",
        "\n",
        "### Dataset Information\n",
        "\n",
        "This dataset contains information of shippements on a time window of approx 6 month.\n",
        "\n",
        "\n",
        "### Content\n",
        "\n",
        "There are 15 variables:\n",
        "\n",
        "| Name | Description |\n",
        "| -----| ----- | \n",
        "| mean_id |  unique ID of the truck |\n",
        "| mean_organization_id |  unique ID of the carrier organization |\n",
        "| organization_id |  unique ID of the shipper organization |\n",
        "| agency_id |  unique ID of the shipper agency |\n",
        "| origin_history_place_id |  unique ID of the origin of the trip |\n",
        "| destination_history_place_id |  unique ID of the destination of the trip |\n",
        "| trip_distance |  distance in meter of the trip returned by the routing API |\n",
        "| trip_base_time |  duration estimated in second for the trip returned by the routing API |\n",
        "| origin_slot_start | start of the time window for the appoinement at the origin |\n",
        "| origin_slot_end |  end of the time window for the appoinement at the origin |\n",
        "| destination_slot_start |  start of the time window for the appoinement at the destination |\n",
        "| destination_slot_end |  end of the time window for the appoinement at the destination |\n",
        "| origin_arrival_ts | arrival timestamp at the origin|\n",
        "| destination_arrival_ts |  **Do not use as a feature:**  arrival timestamp at the destination  |\n",
        "| trip_duration | **Target:** duration in seconds of the trip between origin and destination |\n",
        "\n",
        "\n",
        "# Instructions\n",
        "\n",
        "The goal of this study case is to predict the travel time of the truck between two warehouses. \n",
        "\n",
        "***The assessment is not done on the performance of the algorithm but rather on the explanation and coding skills***. Fairly good models with clean code and clear justifications will be prefered to high-performance models that are poorly explained. You are encouraged to provide as much details as you can in markdown cells or in comments, even if you have ideas you do not have time to explore. \n",
        "\n",
        "In the first part you are guided with intermediate steps that you are encouraged to follow. In the second part you can go wild...\n"
      ]
    },
    {
      "cell_type": "markdown",
      "metadata": {
        "id": "Hotff2bpyDyq"
      },
      "source": [
        "# Data Loading\n",
        "\n",
        "Load the train data set located at `./interview_dataset.csv`"
      ]
    },
    {
      "cell_type": "code",
      "metadata": {
        "colab": {
          "base_uri": "https://localhost:8080/"
        },
        "id": "FjhFwYpZ71hP",
        "outputId": "95b344fc-f56e-44b6-9eb3-be9d1dd2ea75"
      },
      "source": [
        "!pip install myPackage"
      ],
      "execution_count": null,
      "outputs": [
        {
          "output_type": "stream",
          "text": [
            "Requirement already satisfied: myPackage in /usr/local/lib/python3.6/dist-packages (0.1)\n",
            "Requirement already satisfied: cmd2 in /usr/local/lib/python3.6/dist-packages (from myPackage) (1.4.0)\n",
            "Requirement already satisfied: pyperclip>=1.6 in /usr/local/lib/python3.6/dist-packages (from cmd2->myPackage) (1.8.1)\n",
            "Requirement already satisfied: colorama>=0.3.7 in /usr/local/lib/python3.6/dist-packages (from cmd2->myPackage) (0.4.4)\n",
            "Requirement already satisfied: importlib-metadata>=1.6.0; python_version < \"3.8\" in /usr/local/lib/python3.6/dist-packages (from cmd2->myPackage) (3.3.0)\n",
            "Requirement already satisfied: wcwidth>=0.1.7 in /usr/local/lib/python3.6/dist-packages (from cmd2->myPackage) (0.2.5)\n",
            "Requirement already satisfied: attrs>=16.3.0 in /usr/local/lib/python3.6/dist-packages (from cmd2->myPackage) (20.3.0)\n",
            "Requirement already satisfied: zipp>=0.5 in /usr/local/lib/python3.6/dist-packages (from importlib-metadata>=1.6.0; python_version < \"3.8\"->cmd2->myPackage) (3.4.0)\n",
            "Requirement already satisfied: typing-extensions>=3.6.4; python_version < \"3.8\" in /usr/local/lib/python3.6/dist-packages (from importlib-metadata>=1.6.0; python_version < \"3.8\"->cmd2->myPackage) (3.7.4.3)\n"
          ],
          "name": "stdout"
        }
      ]
    },
    {
      "cell_type": "code",
      "metadata": {
        "colab": {
          "base_uri": "https://localhost:8080/"
        },
        "id": "t98Ov6gt75uK",
        "outputId": "cd3a741e-8a96-40fc-be34-ac626a758140"
      },
      "source": [
        "!pip install -e git+https://github.com/scikit-learn/scikit-learn.git"
      ],
      "execution_count": null,
      "outputs": [
        {
          "output_type": "stream",
          "text": [
            "\u001b[31mERROR: Could not detect requirement name for 'git+https://github.com/scikit-learn/scikit-learn.git', please specify one with #egg=your_package_name\u001b[0m\n"
          ],
          "name": "stdout"
        }
      ]
    },
    {
      "cell_type": "code",
      "metadata": {
        "id": "mHhPmZME_RJO"
      },
      "source": [
        "import os\n",
        "import datetime\n",
        "import matplotlib as mpl\n",
        "import matplotlib.pyplot as plt\n",
        "import numpy as np\n",
        "import pandas as pd\n",
        "import seaborn as sns\n",
        "import tensorflow as tf\n",
        "from sklearn.model_selection import train_test_split\n",
        "mpl.rcParams['figure.figsize'] = (8, 6)\n",
        "mpl.rcParams['axes.grid'] = False"
      ],
      "execution_count": null,
      "outputs": []
    },
    {
      "cell_type": "markdown",
      "metadata": {
        "id": "J4Uyo5vbFzFx"
      },
      "source": [
        "# dataprocessing "
      ]
    },
    {
      "cell_type": "code",
      "metadata": {
        "colab": {
          "base_uri": "https://localhost:8080/",
          "height": 438
        },
        "id": "eOtYezt2VYJ6",
        "outputId": "57d7ec37-96ac-4854-b8f1-6e9db0db5fbb"
      },
      "source": [
        "df_processing =pd.read_csv('/content/sample_data/dataprocessing3.csv', sep=';',encoding='utf8') \r\n",
        "df_processing"
      ],
      "execution_count": null,
      "outputs": [
        {
          "output_type": "execute_result",
          "data": {
            "text/html": [
              "<div>\n",
              "<style scoped>\n",
              "    .dataframe tbody tr th:only-of-type {\n",
              "        vertical-align: middle;\n",
              "    }\n",
              "\n",
              "    .dataframe tbody tr th {\n",
              "        vertical-align: top;\n",
              "    }\n",
              "\n",
              "    .dataframe thead th {\n",
              "        text-align: right;\n",
              "    }\n",
              "</style>\n",
              "<table border=\"1\" class=\"dataframe\">\n",
              "  <thead>\n",
              "    <tr style=\"text-align: right;\">\n",
              "      <th></th>\n",
              "      <th>Unnamed: 0</th>\n",
              "      <th>Unnamed: 0.1</th>\n",
              "      <th>mean_id</th>\n",
              "      <th>mean_organization_id</th>\n",
              "      <th>organization_id</th>\n",
              "      <th>agency_id</th>\n",
              "      <th>origin_history_place_id</th>\n",
              "      <th>destination_history_place_id</th>\n",
              "      <th>trip_distance</th>\n",
              "      <th>trip_base_time</th>\n",
              "      <th>origin_slot_start</th>\n",
              "      <th>origin_slot_end</th>\n",
              "      <th>destination_slot_start</th>\n",
              "      <th>destination_slot_end</th>\n",
              "      <th>origin_arrival_ts</th>\n",
              "      <th>destination_arrival_ts</th>\n",
              "      <th>trip_duration</th>\n",
              "    </tr>\n",
              "  </thead>\n",
              "  <tbody>\n",
              "    <tr>\n",
              "      <th>0</th>\n",
              "      <td>0</td>\n",
              "      <td>0</td>\n",
              "      <td>53431.0</td>\n",
              "      <td>4258</td>\n",
              "      <td>2693</td>\n",
              "      <td>2694.0</td>\n",
              "      <td>125338</td>\n",
              "      <td>34889</td>\n",
              "      <td>142734.0</td>\n",
              "      <td>9180.0</td>\n",
              "      <td>1602651600</td>\n",
              "      <td>1602651600</td>\n",
              "      <td>1602666900</td>\n",
              "      <td>1602666900</td>\n",
              "      <td>1602652091</td>\n",
              "      <td>1602664914</td>\n",
              "      <td>12823</td>\n",
              "    </tr>\n",
              "    <tr>\n",
              "      <th>1</th>\n",
              "      <td>1</td>\n",
              "      <td>1</td>\n",
              "      <td>53438.0</td>\n",
              "      <td>4258</td>\n",
              "      <td>2693</td>\n",
              "      <td>2694.0</td>\n",
              "      <td>125338</td>\n",
              "      <td>34889</td>\n",
              "      <td>118589.0</td>\n",
              "      <td>9261.0</td>\n",
              "      <td>1603692000</td>\n",
              "      <td>1603692000</td>\n",
              "      <td>1603707300</td>\n",
              "      <td>1603707300</td>\n",
              "      <td>1603692296</td>\n",
              "      <td>1603704207</td>\n",
              "      <td>11911</td>\n",
              "    </tr>\n",
              "    <tr>\n",
              "      <th>2</th>\n",
              "      <td>2</td>\n",
              "      <td>2</td>\n",
              "      <td>53420.0</td>\n",
              "      <td>4258</td>\n",
              "      <td>2693</td>\n",
              "      <td>2694.0</td>\n",
              "      <td>35823</td>\n",
              "      <td>104707</td>\n",
              "      <td>234555.0</td>\n",
              "      <td>13708.0</td>\n",
              "      <td>1596042000</td>\n",
              "      <td>1596042000</td>\n",
              "      <td>1596058200</td>\n",
              "      <td>1596058200</td>\n",
              "      <td>1596038640</td>\n",
              "      <td>1596051629</td>\n",
              "      <td>12989</td>\n",
              "    </tr>\n",
              "    <tr>\n",
              "      <th>3</th>\n",
              "      <td>3</td>\n",
              "      <td>3</td>\n",
              "      <td>53420.0</td>\n",
              "      <td>4258</td>\n",
              "      <td>2693</td>\n",
              "      <td>2694.0</td>\n",
              "      <td>35823</td>\n",
              "      <td>104707</td>\n",
              "      <td>235880.0</td>\n",
              "      <td>13649.0</td>\n",
              "      <td>1598979600</td>\n",
              "      <td>1598979600</td>\n",
              "      <td>1598995800</td>\n",
              "      <td>1598995800</td>\n",
              "      <td>1598976343</td>\n",
              "      <td>1598993754</td>\n",
              "      <td>17411</td>\n",
              "    </tr>\n",
              "    <tr>\n",
              "      <th>4</th>\n",
              "      <td>4</td>\n",
              "      <td>4</td>\n",
              "      <td>46011.0</td>\n",
              "      <td>4018</td>\n",
              "      <td>2693</td>\n",
              "      <td>2694.0</td>\n",
              "      <td>125338</td>\n",
              "      <td>33769</td>\n",
              "      <td>36567.0</td>\n",
              "      <td>4165.0</td>\n",
              "      <td>1602228600</td>\n",
              "      <td>1602228600</td>\n",
              "      <td>1602239400</td>\n",
              "      <td>1602239400</td>\n",
              "      <td>1602227628</td>\n",
              "      <td>1602237671</td>\n",
              "      <td>10043</td>\n",
              "    </tr>\n",
              "    <tr>\n",
              "      <th>...</th>\n",
              "      <td>...</td>\n",
              "      <td>...</td>\n",
              "      <td>...</td>\n",
              "      <td>...</td>\n",
              "      <td>...</td>\n",
              "      <td>...</td>\n",
              "      <td>...</td>\n",
              "      <td>...</td>\n",
              "      <td>...</td>\n",
              "      <td>...</td>\n",
              "      <td>...</td>\n",
              "      <td>...</td>\n",
              "      <td>...</td>\n",
              "      <td>...</td>\n",
              "      <td>...</td>\n",
              "      <td>...</td>\n",
              "      <td>...</td>\n",
              "    </tr>\n",
              "    <tr>\n",
              "      <th>105107</th>\n",
              "      <td>105107</td>\n",
              "      <td>105107</td>\n",
              "      <td>31374.0</td>\n",
              "      <td>1273</td>\n",
              "      <td>2693</td>\n",
              "      <td>2694.0</td>\n",
              "      <td>35823</td>\n",
              "      <td>104710</td>\n",
              "      <td>244617.0</td>\n",
              "      <td>14763.0</td>\n",
              "      <td>1597271400</td>\n",
              "      <td>1597271400</td>\n",
              "      <td>1597293000</td>\n",
              "      <td>1597293000</td>\n",
              "      <td>1597271040</td>\n",
              "      <td>1597289668</td>\n",
              "      <td>18628</td>\n",
              "    </tr>\n",
              "    <tr>\n",
              "      <th>105108</th>\n",
              "      <td>105108</td>\n",
              "      <td>105108</td>\n",
              "      <td>31374.0</td>\n",
              "      <td>1273</td>\n",
              "      <td>2693</td>\n",
              "      <td>2694.0</td>\n",
              "      <td>35823</td>\n",
              "      <td>34386</td>\n",
              "      <td>283926.0</td>\n",
              "      <td>16759.0</td>\n",
              "      <td>1593421200</td>\n",
              "      <td>1593421200</td>\n",
              "      <td>1593442800</td>\n",
              "      <td>1593442800</td>\n",
              "      <td>1593418821</td>\n",
              "      <td>1593440934</td>\n",
              "      <td>22113</td>\n",
              "    </tr>\n",
              "    <tr>\n",
              "      <th>105109</th>\n",
              "      <td>105109</td>\n",
              "      <td>105109</td>\n",
              "      <td>109263.0</td>\n",
              "      <td>1273</td>\n",
              "      <td>2693</td>\n",
              "      <td>2694.0</td>\n",
              "      <td>45572</td>\n",
              "      <td>114126</td>\n",
              "      <td>22230.0</td>\n",
              "      <td>2917.0</td>\n",
              "      <td>1593739800</td>\n",
              "      <td>1593739800</td>\n",
              "      <td>1593745200</td>\n",
              "      <td>1593745200</td>\n",
              "      <td>1593737730</td>\n",
              "      <td>1593744420</td>\n",
              "      <td>6690</td>\n",
              "    </tr>\n",
              "    <tr>\n",
              "      <th>105110</th>\n",
              "      <td>105110</td>\n",
              "      <td>105110</td>\n",
              "      <td>49677.0</td>\n",
              "      <td>1273</td>\n",
              "      <td>2693</td>\n",
              "      <td>2694.0</td>\n",
              "      <td>35823</td>\n",
              "      <td>25931</td>\n",
              "      <td>31404.0</td>\n",
              "      <td>3240.0</td>\n",
              "      <td>1591603200</td>\n",
              "      <td>1591603200</td>\n",
              "      <td>1591612200</td>\n",
              "      <td>1594098000</td>\n",
              "      <td>1591599853</td>\n",
              "      <td>1591604009</td>\n",
              "      <td>4156</td>\n",
              "    </tr>\n",
              "    <tr>\n",
              "      <th>105111</th>\n",
              "      <td>105111</td>\n",
              "      <td>105111</td>\n",
              "      <td>33643.0</td>\n",
              "      <td>1273</td>\n",
              "      <td>2693</td>\n",
              "      <td>2694.0</td>\n",
              "      <td>35823</td>\n",
              "      <td>37263</td>\n",
              "      <td>241841.0</td>\n",
              "      <td>14044.0</td>\n",
              "      <td>1599206400</td>\n",
              "      <td>1599206400</td>\n",
              "      <td>1599228000</td>\n",
              "      <td>1599228000</td>\n",
              "      <td>1599205354</td>\n",
              "      <td>1599227232</td>\n",
              "      <td>21878</td>\n",
              "    </tr>\n",
              "  </tbody>\n",
              "</table>\n",
              "<p>105112 rows × 17 columns</p>\n",
              "</div>"
            ],
            "text/plain": [
              "        Unnamed: 0  Unnamed: 0.1  ...  destination_arrival_ts  trip_duration\n",
              "0                0             0  ...              1602664914          12823\n",
              "1                1             1  ...              1603704207          11911\n",
              "2                2             2  ...              1596051629          12989\n",
              "3                3             3  ...              1598993754          17411\n",
              "4                4             4  ...              1602237671          10043\n",
              "...            ...           ...  ...                     ...            ...\n",
              "105107      105107        105107  ...              1597289668          18628\n",
              "105108      105108        105108  ...              1593440934          22113\n",
              "105109      105109        105109  ...              1593744420           6690\n",
              "105110      105110        105110  ...              1591604009           4156\n",
              "105111      105111        105111  ...              1599227232          21878\n",
              "\n",
              "[105112 rows x 17 columns]"
            ]
          },
          "metadata": {
            "tags": []
          },
          "execution_count": 220
        }
      ]
    },
    {
      "cell_type": "code",
      "metadata": {
        "colab": {
          "base_uri": "https://localhost:8080/"
        },
        "id": "a_88vrGJBIZ_",
        "outputId": "a9ecc5d5-0eea-4152-e4ad-a7c73c64fb13"
      },
      "source": [
        "df_processing.dtypes"
      ],
      "execution_count": null,
      "outputs": [
        {
          "output_type": "execute_result",
          "data": {
            "text/plain": [
              "Unnamed: 0                        int64\n",
              "Unnamed: 0.1                      int64\n",
              "mean_id                         float64\n",
              "mean_organization_id              int64\n",
              "organization_id                   int64\n",
              "agency_id                       float64\n",
              "origin_history_place_id           int64\n",
              "destination_history_place_id      int64\n",
              "trip_distance                   float64\n",
              "trip_base_time                  float64\n",
              "origin_slot_start                 int64\n",
              "origin_slot_end                   int64\n",
              "destination_slot_start            int64\n",
              "destination_slot_end              int64\n",
              "origin_arrival_ts                 int64\n",
              "destination_arrival_ts            int64\n",
              "trip_duration                     int64\n",
              "dtype: object"
            ]
          },
          "metadata": {
            "tags": []
          },
          "execution_count": 221
        }
      ]
    },
    {
      "cell_type": "code",
      "metadata": {
        "colab": {
          "base_uri": "https://localhost:8080/",
          "height": 438
        },
        "id": "C4L7uWLxkvgE",
        "outputId": "0d69917c-2f27-440b-d043-ca47cadb65a6"
      },
      "source": [
        "df_processing"
      ],
      "execution_count": null,
      "outputs": [
        {
          "output_type": "execute_result",
          "data": {
            "text/html": [
              "<div>\n",
              "<style scoped>\n",
              "    .dataframe tbody tr th:only-of-type {\n",
              "        vertical-align: middle;\n",
              "    }\n",
              "\n",
              "    .dataframe tbody tr th {\n",
              "        vertical-align: top;\n",
              "    }\n",
              "\n",
              "    .dataframe thead th {\n",
              "        text-align: right;\n",
              "    }\n",
              "</style>\n",
              "<table border=\"1\" class=\"dataframe\">\n",
              "  <thead>\n",
              "    <tr style=\"text-align: right;\">\n",
              "      <th></th>\n",
              "      <th>Unnamed: 0</th>\n",
              "      <th>Unnamed: 0.1</th>\n",
              "      <th>mean_id</th>\n",
              "      <th>mean_organization_id</th>\n",
              "      <th>organization_id</th>\n",
              "      <th>agency_id</th>\n",
              "      <th>origin_history_place_id</th>\n",
              "      <th>destination_history_place_id</th>\n",
              "      <th>trip_distance</th>\n",
              "      <th>trip_base_time</th>\n",
              "      <th>origin_slot_start</th>\n",
              "      <th>origin_slot_end</th>\n",
              "      <th>destination_slot_start</th>\n",
              "      <th>destination_slot_end</th>\n",
              "      <th>origin_arrival_ts</th>\n",
              "      <th>destination_arrival_ts</th>\n",
              "      <th>trip_duration</th>\n",
              "    </tr>\n",
              "  </thead>\n",
              "  <tbody>\n",
              "    <tr>\n",
              "      <th>0</th>\n",
              "      <td>0</td>\n",
              "      <td>0</td>\n",
              "      <td>53431.0</td>\n",
              "      <td>4258</td>\n",
              "      <td>2693</td>\n",
              "      <td>2694.0</td>\n",
              "      <td>125338</td>\n",
              "      <td>34889</td>\n",
              "      <td>142734.0</td>\n",
              "      <td>9180.0</td>\n",
              "      <td>1602651600</td>\n",
              "      <td>1602651600</td>\n",
              "      <td>1602666900</td>\n",
              "      <td>1602666900</td>\n",
              "      <td>1602652091</td>\n",
              "      <td>1602664914</td>\n",
              "      <td>12823</td>\n",
              "    </tr>\n",
              "    <tr>\n",
              "      <th>1</th>\n",
              "      <td>1</td>\n",
              "      <td>1</td>\n",
              "      <td>53438.0</td>\n",
              "      <td>4258</td>\n",
              "      <td>2693</td>\n",
              "      <td>2694.0</td>\n",
              "      <td>125338</td>\n",
              "      <td>34889</td>\n",
              "      <td>118589.0</td>\n",
              "      <td>9261.0</td>\n",
              "      <td>1603692000</td>\n",
              "      <td>1603692000</td>\n",
              "      <td>1603707300</td>\n",
              "      <td>1603707300</td>\n",
              "      <td>1603692296</td>\n",
              "      <td>1603704207</td>\n",
              "      <td>11911</td>\n",
              "    </tr>\n",
              "    <tr>\n",
              "      <th>2</th>\n",
              "      <td>2</td>\n",
              "      <td>2</td>\n",
              "      <td>53420.0</td>\n",
              "      <td>4258</td>\n",
              "      <td>2693</td>\n",
              "      <td>2694.0</td>\n",
              "      <td>35823</td>\n",
              "      <td>104707</td>\n",
              "      <td>234555.0</td>\n",
              "      <td>13708.0</td>\n",
              "      <td>1596042000</td>\n",
              "      <td>1596042000</td>\n",
              "      <td>1596058200</td>\n",
              "      <td>1596058200</td>\n",
              "      <td>1596038640</td>\n",
              "      <td>1596051629</td>\n",
              "      <td>12989</td>\n",
              "    </tr>\n",
              "    <tr>\n",
              "      <th>3</th>\n",
              "      <td>3</td>\n",
              "      <td>3</td>\n",
              "      <td>53420.0</td>\n",
              "      <td>4258</td>\n",
              "      <td>2693</td>\n",
              "      <td>2694.0</td>\n",
              "      <td>35823</td>\n",
              "      <td>104707</td>\n",
              "      <td>235880.0</td>\n",
              "      <td>13649.0</td>\n",
              "      <td>1598979600</td>\n",
              "      <td>1598979600</td>\n",
              "      <td>1598995800</td>\n",
              "      <td>1598995800</td>\n",
              "      <td>1598976343</td>\n",
              "      <td>1598993754</td>\n",
              "      <td>17411</td>\n",
              "    </tr>\n",
              "    <tr>\n",
              "      <th>4</th>\n",
              "      <td>4</td>\n",
              "      <td>4</td>\n",
              "      <td>46011.0</td>\n",
              "      <td>4018</td>\n",
              "      <td>2693</td>\n",
              "      <td>2694.0</td>\n",
              "      <td>125338</td>\n",
              "      <td>33769</td>\n",
              "      <td>36567.0</td>\n",
              "      <td>4165.0</td>\n",
              "      <td>1602228600</td>\n",
              "      <td>1602228600</td>\n",
              "      <td>1602239400</td>\n",
              "      <td>1602239400</td>\n",
              "      <td>1602227628</td>\n",
              "      <td>1602237671</td>\n",
              "      <td>10043</td>\n",
              "    </tr>\n",
              "    <tr>\n",
              "      <th>...</th>\n",
              "      <td>...</td>\n",
              "      <td>...</td>\n",
              "      <td>...</td>\n",
              "      <td>...</td>\n",
              "      <td>...</td>\n",
              "      <td>...</td>\n",
              "      <td>...</td>\n",
              "      <td>...</td>\n",
              "      <td>...</td>\n",
              "      <td>...</td>\n",
              "      <td>...</td>\n",
              "      <td>...</td>\n",
              "      <td>...</td>\n",
              "      <td>...</td>\n",
              "      <td>...</td>\n",
              "      <td>...</td>\n",
              "      <td>...</td>\n",
              "    </tr>\n",
              "    <tr>\n",
              "      <th>105107</th>\n",
              "      <td>105107</td>\n",
              "      <td>105107</td>\n",
              "      <td>31374.0</td>\n",
              "      <td>1273</td>\n",
              "      <td>2693</td>\n",
              "      <td>2694.0</td>\n",
              "      <td>35823</td>\n",
              "      <td>104710</td>\n",
              "      <td>244617.0</td>\n",
              "      <td>14763.0</td>\n",
              "      <td>1597271400</td>\n",
              "      <td>1597271400</td>\n",
              "      <td>1597293000</td>\n",
              "      <td>1597293000</td>\n",
              "      <td>1597271040</td>\n",
              "      <td>1597289668</td>\n",
              "      <td>18628</td>\n",
              "    </tr>\n",
              "    <tr>\n",
              "      <th>105108</th>\n",
              "      <td>105108</td>\n",
              "      <td>105108</td>\n",
              "      <td>31374.0</td>\n",
              "      <td>1273</td>\n",
              "      <td>2693</td>\n",
              "      <td>2694.0</td>\n",
              "      <td>35823</td>\n",
              "      <td>34386</td>\n",
              "      <td>283926.0</td>\n",
              "      <td>16759.0</td>\n",
              "      <td>1593421200</td>\n",
              "      <td>1593421200</td>\n",
              "      <td>1593442800</td>\n",
              "      <td>1593442800</td>\n",
              "      <td>1593418821</td>\n",
              "      <td>1593440934</td>\n",
              "      <td>22113</td>\n",
              "    </tr>\n",
              "    <tr>\n",
              "      <th>105109</th>\n",
              "      <td>105109</td>\n",
              "      <td>105109</td>\n",
              "      <td>109263.0</td>\n",
              "      <td>1273</td>\n",
              "      <td>2693</td>\n",
              "      <td>2694.0</td>\n",
              "      <td>45572</td>\n",
              "      <td>114126</td>\n",
              "      <td>22230.0</td>\n",
              "      <td>2917.0</td>\n",
              "      <td>1593739800</td>\n",
              "      <td>1593739800</td>\n",
              "      <td>1593745200</td>\n",
              "      <td>1593745200</td>\n",
              "      <td>1593737730</td>\n",
              "      <td>1593744420</td>\n",
              "      <td>6690</td>\n",
              "    </tr>\n",
              "    <tr>\n",
              "      <th>105110</th>\n",
              "      <td>105110</td>\n",
              "      <td>105110</td>\n",
              "      <td>49677.0</td>\n",
              "      <td>1273</td>\n",
              "      <td>2693</td>\n",
              "      <td>2694.0</td>\n",
              "      <td>35823</td>\n",
              "      <td>25931</td>\n",
              "      <td>31404.0</td>\n",
              "      <td>3240.0</td>\n",
              "      <td>1591603200</td>\n",
              "      <td>1591603200</td>\n",
              "      <td>1591612200</td>\n",
              "      <td>1594098000</td>\n",
              "      <td>1591599853</td>\n",
              "      <td>1591604009</td>\n",
              "      <td>4156</td>\n",
              "    </tr>\n",
              "    <tr>\n",
              "      <th>105111</th>\n",
              "      <td>105111</td>\n",
              "      <td>105111</td>\n",
              "      <td>33643.0</td>\n",
              "      <td>1273</td>\n",
              "      <td>2693</td>\n",
              "      <td>2694.0</td>\n",
              "      <td>35823</td>\n",
              "      <td>37263</td>\n",
              "      <td>241841.0</td>\n",
              "      <td>14044.0</td>\n",
              "      <td>1599206400</td>\n",
              "      <td>1599206400</td>\n",
              "      <td>1599228000</td>\n",
              "      <td>1599228000</td>\n",
              "      <td>1599205354</td>\n",
              "      <td>1599227232</td>\n",
              "      <td>21878</td>\n",
              "    </tr>\n",
              "  </tbody>\n",
              "</table>\n",
              "<p>105112 rows × 17 columns</p>\n",
              "</div>"
            ],
            "text/plain": [
              "        Unnamed: 0  Unnamed: 0.1  ...  destination_arrival_ts  trip_duration\n",
              "0                0             0  ...              1602664914          12823\n",
              "1                1             1  ...              1603704207          11911\n",
              "2                2             2  ...              1596051629          12989\n",
              "3                3             3  ...              1598993754          17411\n",
              "4                4             4  ...              1602237671          10043\n",
              "...            ...           ...  ...                     ...            ...\n",
              "105107      105107        105107  ...              1597289668          18628\n",
              "105108      105108        105108  ...              1593440934          22113\n",
              "105109      105109        105109  ...              1593744420           6690\n",
              "105110      105110        105110  ...              1591604009           4156\n",
              "105111      105111        105111  ...              1599227232          21878\n",
              "\n",
              "[105112 rows x 17 columns]"
            ]
          },
          "metadata": {
            "tags": []
          },
          "execution_count": 222
        }
      ]
    },
    {
      "cell_type": "code",
      "metadata": {
        "colab": {
          "base_uri": "https://localhost:8080/"
        },
        "id": "11a4PRt5BKxQ",
        "outputId": "db461ff1-5349-4656-9c61-badb076111ba"
      },
      "source": [
        "print('Les colonnes de interview sont',df_processing.columns)"
      ],
      "execution_count": null,
      "outputs": [
        {
          "output_type": "stream",
          "text": [
            "Les colonnes de interview sont Index(['Unnamed: 0', 'Unnamed: 0.1', 'mean_id', 'mean_organization_id',\n",
            "       'organization_id', 'agency_id', 'origin_history_place_id',\n",
            "       'destination_history_place_id', 'trip_distance', 'trip_base_time',\n",
            "       'origin_slot_start', 'origin_slot_end', 'destination_slot_start',\n",
            "       'destination_slot_end', 'origin_arrival_ts', 'destination_arrival_ts',\n",
            "       'trip_duration'],\n",
            "      dtype='object')\n"
          ],
          "name": "stdout"
        }
      ]
    },
    {
      "cell_type": "code",
      "metadata": {
        "colab": {
          "base_uri": "https://localhost:8080/",
          "height": 304
        },
        "id": "h5SJuJ7gBTfX",
        "outputId": "412729a1-31eb-45dc-e255-6cef82f0d704"
      },
      "source": [
        "df_processing.describe(include='all')"
      ],
      "execution_count": null,
      "outputs": [
        {
          "output_type": "execute_result",
          "data": {
            "text/html": [
              "<div>\n",
              "<style scoped>\n",
              "    .dataframe tbody tr th:only-of-type {\n",
              "        vertical-align: middle;\n",
              "    }\n",
              "\n",
              "    .dataframe tbody tr th {\n",
              "        vertical-align: top;\n",
              "    }\n",
              "\n",
              "    .dataframe thead th {\n",
              "        text-align: right;\n",
              "    }\n",
              "</style>\n",
              "<table border=\"1\" class=\"dataframe\">\n",
              "  <thead>\n",
              "    <tr style=\"text-align: right;\">\n",
              "      <th></th>\n",
              "      <th>Unnamed: 0</th>\n",
              "      <th>Unnamed: 0.1</th>\n",
              "      <th>mean_id</th>\n",
              "      <th>mean_organization_id</th>\n",
              "      <th>organization_id</th>\n",
              "      <th>agency_id</th>\n",
              "      <th>origin_history_place_id</th>\n",
              "      <th>destination_history_place_id</th>\n",
              "      <th>trip_distance</th>\n",
              "      <th>trip_base_time</th>\n",
              "      <th>origin_slot_start</th>\n",
              "      <th>origin_slot_end</th>\n",
              "      <th>destination_slot_start</th>\n",
              "      <th>destination_slot_end</th>\n",
              "      <th>origin_arrival_ts</th>\n",
              "      <th>destination_arrival_ts</th>\n",
              "      <th>trip_duration</th>\n",
              "    </tr>\n",
              "  </thead>\n",
              "  <tbody>\n",
              "    <tr>\n",
              "      <th>count</th>\n",
              "      <td>105112.000000</td>\n",
              "      <td>105112.000000</td>\n",
              "      <td>105112.000000</td>\n",
              "      <td>105112.000000</td>\n",
              "      <td>105112.000000</td>\n",
              "      <td>105112.000000</td>\n",
              "      <td>105112.000000</td>\n",
              "      <td>105112.000000</td>\n",
              "      <td>105112.000000</td>\n",
              "      <td>105112.000000</td>\n",
              "      <td>1.051120e+05</td>\n",
              "      <td>1.051120e+05</td>\n",
              "      <td>1.051120e+05</td>\n",
              "      <td>1.051120e+05</td>\n",
              "      <td>1.051120e+05</td>\n",
              "      <td>1.051120e+05</td>\n",
              "      <td>105112.000000</td>\n",
              "    </tr>\n",
              "    <tr>\n",
              "      <th>mean</th>\n",
              "      <td>52555.500000</td>\n",
              "      <td>52555.500000</td>\n",
              "      <td>90242.026086</td>\n",
              "      <td>2469.092482</td>\n",
              "      <td>4502.262805</td>\n",
              "      <td>4448.756374</td>\n",
              "      <td>134358.023984</td>\n",
              "      <td>132625.222563</td>\n",
              "      <td>46135.541832</td>\n",
              "      <td>3710.757259</td>\n",
              "      <td>1.600236e+09</td>\n",
              "      <td>1.600238e+09</td>\n",
              "      <td>1.600247e+09</td>\n",
              "      <td>1.600066e+09</td>\n",
              "      <td>1.600235e+09</td>\n",
              "      <td>1.600246e+09</td>\n",
              "      <td>10595.470707</td>\n",
              "    </tr>\n",
              "    <tr>\n",
              "      <th>std</th>\n",
              "      <td>30343.365085</td>\n",
              "      <td>30343.365085</td>\n",
              "      <td>35556.213608</td>\n",
              "      <td>994.287036</td>\n",
              "      <td>1511.504275</td>\n",
              "      <td>1520.349841</td>\n",
              "      <td>78052.633882</td>\n",
              "      <td>75846.985850</td>\n",
              "      <td>42919.979252</td>\n",
              "      <td>2481.542524</td>\n",
              "      <td>4.663163e+06</td>\n",
              "      <td>4.664140e+06</td>\n",
              "      <td>4.664202e+06</td>\n",
              "      <td>4.713269e+06</td>\n",
              "      <td>4.663713e+06</td>\n",
              "      <td>4.664748e+06</td>\n",
              "      <td>16809.378811</td>\n",
              "    </tr>\n",
              "    <tr>\n",
              "      <th>min</th>\n",
              "      <td>0.000000</td>\n",
              "      <td>0.000000</td>\n",
              "      <td>8927.000000</td>\n",
              "      <td>1273.000000</td>\n",
              "      <td>2693.000000</td>\n",
              "      <td>2694.000000</td>\n",
              "      <td>25793.000000</td>\n",
              "      <td>25793.000000</td>\n",
              "      <td>0.000000</td>\n",
              "      <td>0.000000</td>\n",
              "      <td>1.591114e+09</td>\n",
              "      <td>1.591115e+09</td>\n",
              "      <td>1.591125e+09</td>\n",
              "      <td>1.591129e+09</td>\n",
              "      <td>1.591117e+09</td>\n",
              "      <td>1.591123e+09</td>\n",
              "      <td>3.000000</td>\n",
              "    </tr>\n",
              "    <tr>\n",
              "      <th>25%</th>\n",
              "      <td>26277.750000</td>\n",
              "      <td>26277.750000</td>\n",
              "      <td>82102.000000</td>\n",
              "      <td>1803.000000</td>\n",
              "      <td>2693.000000</td>\n",
              "      <td>2694.000000</td>\n",
              "      <td>44369.000000</td>\n",
              "      <td>44267.000000</td>\n",
              "      <td>17148.000000</td>\n",
              "      <td>1968.000000</td>\n",
              "      <td>1.596186e+09</td>\n",
              "      <td>1.596188e+09</td>\n",
              "      <td>1.596194e+09</td>\n",
              "      <td>1.595849e+09</td>\n",
              "      <td>1.596184e+09</td>\n",
              "      <td>1.596194e+09</td>\n",
              "      <td>4185.000000</td>\n",
              "    </tr>\n",
              "    <tr>\n",
              "      <th>50%</th>\n",
              "      <td>52555.500000</td>\n",
              "      <td>52555.500000</td>\n",
              "      <td>83718.000000</td>\n",
              "      <td>1803.000000</td>\n",
              "      <td>5765.000000</td>\n",
              "      <td>5766.000000</td>\n",
              "      <td>165477.000000</td>\n",
              "      <td>165494.000000</td>\n",
              "      <td>34602.000000</td>\n",
              "      <td>3237.000000</td>\n",
              "      <td>1.600848e+09</td>\n",
              "      <td>1.600851e+09</td>\n",
              "      <td>1.600862e+09</td>\n",
              "      <td>1.600667e+09</td>\n",
              "      <td>1.600849e+09</td>\n",
              "      <td>1.600862e+09</td>\n",
              "      <td>6422.000000</td>\n",
              "    </tr>\n",
              "    <tr>\n",
              "      <th>75%</th>\n",
              "      <td>78833.250000</td>\n",
              "      <td>78833.250000</td>\n",
              "      <td>89573.000000</td>\n",
              "      <td>2801.000000</td>\n",
              "      <td>5765.000000</td>\n",
              "      <td>5766.000000</td>\n",
              "      <td>168436.000000</td>\n",
              "      <td>168434.000000</td>\n",
              "      <td>57536.000000</td>\n",
              "      <td>4795.000000</td>\n",
              "      <td>1.604523e+09</td>\n",
              "      <td>1.604525e+09</td>\n",
              "      <td>1.604549e+09</td>\n",
              "      <td>1.604404e+09</td>\n",
              "      <td>1.604527e+09</td>\n",
              "      <td>1.604547e+09</td>\n",
              "      <td>9931.000000</td>\n",
              "    </tr>\n",
              "    <tr>\n",
              "      <th>max</th>\n",
              "      <td>105111.000000</td>\n",
              "      <td>105111.000000</td>\n",
              "      <td>226383.000000</td>\n",
              "      <td>5947.000000</td>\n",
              "      <td>5765.000000</td>\n",
              "      <td>5766.000000</td>\n",
              "      <td>416138.000000</td>\n",
              "      <td>462146.000000</td>\n",
              "      <td>323050.000000</td>\n",
              "      <td>21842.000000</td>\n",
              "      <td>1.606979e+09</td>\n",
              "      <td>1.606986e+09</td>\n",
              "      <td>1.606987e+09</td>\n",
              "      <td>1.606991e+09</td>\n",
              "      <td>1.606984e+09</td>\n",
              "      <td>1.606989e+09</td>\n",
              "      <td>254484.000000</td>\n",
              "    </tr>\n",
              "  </tbody>\n",
              "</table>\n",
              "</div>"
            ],
            "text/plain": [
              "          Unnamed: 0   Unnamed: 0.1  ...  destination_arrival_ts  trip_duration\n",
              "count  105112.000000  105112.000000  ...            1.051120e+05  105112.000000\n",
              "mean    52555.500000   52555.500000  ...            1.600246e+09   10595.470707\n",
              "std     30343.365085   30343.365085  ...            4.664748e+06   16809.378811\n",
              "min         0.000000       0.000000  ...            1.591123e+09       3.000000\n",
              "25%     26277.750000   26277.750000  ...            1.596194e+09    4185.000000\n",
              "50%     52555.500000   52555.500000  ...            1.600862e+09    6422.000000\n",
              "75%     78833.250000   78833.250000  ...            1.604547e+09    9931.000000\n",
              "max    105111.000000  105111.000000  ...            1.606989e+09  254484.000000\n",
              "\n",
              "[8 rows x 17 columns]"
            ]
          },
          "metadata": {
            "tags": []
          },
          "execution_count": 224
        }
      ]
    },
    {
      "cell_type": "markdown",
      "metadata": {
        "id": "B9UvtnPmCQIW"
      },
      "source": [
        "* Regardez les valeurs manquantes et comment vous pouvez les imputer.\r\n",
        "* Calculez quelques statistiques descriptives. \r\n",
        "* Calculez éventuellement les fonctionnalités"
      ]
    },
    {
      "cell_type": "code",
      "metadata": {
        "colab": {
          "base_uri": "https://localhost:8080/"
        },
        "id": "0l8XaqMiCXge",
        "outputId": "c69711e7-79b3-43c3-fbab-a22eb1123a0d"
      },
      "source": [
        "df_processing.isnull().sum()"
      ],
      "execution_count": null,
      "outputs": [
        {
          "output_type": "execute_result",
          "data": {
            "text/plain": [
              "Unnamed: 0                      0\n",
              "Unnamed: 0.1                    0\n",
              "mean_id                         0\n",
              "mean_organization_id            0\n",
              "organization_id                 0\n",
              "agency_id                       0\n",
              "origin_history_place_id         0\n",
              "destination_history_place_id    0\n",
              "trip_distance                   0\n",
              "trip_base_time                  0\n",
              "origin_slot_start               0\n",
              "origin_slot_end                 0\n",
              "destination_slot_start          0\n",
              "destination_slot_end            0\n",
              "origin_arrival_ts               0\n",
              "destination_arrival_ts          0\n",
              "trip_duration                   0\n",
              "dtype: int64"
            ]
          },
          "metadata": {
            "tags": []
          },
          "execution_count": 225
        }
      ]
    },
    {
      "cell_type": "code",
      "metadata": {
        "colab": {
          "base_uri": "https://localhost:8080/"
        },
        "id": "Lf0dEhz-o1Kl",
        "outputId": "f3884fdd-647f-4e14-8d10-b4d779a9b5af"
      },
      "source": [
        "%pip  install missingno"
      ],
      "execution_count": null,
      "outputs": [
        {
          "output_type": "stream",
          "text": [
            "Requirement already satisfied: missingno in /usr/local/lib/python3.6/dist-packages (0.4.2)\n",
            "Requirement already satisfied: numpy in /usr/local/lib/python3.6/dist-packages (from missingno) (1.19.4)\n",
            "Requirement already satisfied: matplotlib in /usr/local/lib/python3.6/dist-packages (from missingno) (3.2.2)\n",
            "Requirement already satisfied: seaborn in /usr/local/lib/python3.6/dist-packages (from missingno) (0.11.0)\n",
            "Requirement already satisfied: scipy in /usr/local/lib/python3.6/dist-packages (from missingno) (1.4.1)\n",
            "Requirement already satisfied: cycler>=0.10 in /usr/local/lib/python3.6/dist-packages (from matplotlib->missingno) (0.10.0)\n",
            "Requirement already satisfied: kiwisolver>=1.0.1 in /usr/local/lib/python3.6/dist-packages (from matplotlib->missingno) (1.3.1)\n",
            "Requirement already satisfied: python-dateutil>=2.1 in /usr/local/lib/python3.6/dist-packages (from matplotlib->missingno) (2.8.1)\n",
            "Requirement already satisfied: pyparsing!=2.0.4,!=2.1.2,!=2.1.6,>=2.0.1 in /usr/local/lib/python3.6/dist-packages (from matplotlib->missingno) (2.4.7)\n",
            "Requirement already satisfied: pandas>=0.23 in /usr/local/lib/python3.6/dist-packages (from seaborn->missingno) (1.1.5)\n",
            "Requirement already satisfied: six in /usr/local/lib/python3.6/dist-packages (from cycler>=0.10->matplotlib->missingno) (1.15.0)\n",
            "Requirement already satisfied: pytz>=2017.2 in /usr/local/lib/python3.6/dist-packages (from pandas>=0.23->seaborn->missingno) (2018.9)\n"
          ],
          "name": "stdout"
        }
      ]
    },
    {
      "cell_type": "code",
      "metadata": {
        "colab": {
          "base_uri": "https://localhost:8080/",
          "height": 586
        },
        "id": "FH1gbCU4oj9-",
        "outputId": "b95672f2-0a87-4c62-c042-354e1736a23a"
      },
      "source": [
        "import missingno as  msno\r\n",
        "msno.matrix(df_processing)"
      ],
      "execution_count": null,
      "outputs": [
        {
          "output_type": "execute_result",
          "data": {
            "text/plain": [
              "<matplotlib.axes._subplots.AxesSubplot at 0x7fbe45a9b828>"
            ]
          },
          "metadata": {
            "tags": []
          },
          "execution_count": 227
        },
        {
          "output_type": "display_data",
          "data": {
            "image/png": "[encoded data removed]",
            "text/plain": [
              "<Figure size 1800x720 with 2 Axes>"
            ]
          },
          "metadata": {
            "tags": [],
            "needs_background": "light"
          }
        }
      ]
    },
    {
      "cell_type": "code",
      "metadata": {
        "colab": {
          "base_uri": "https://localhost:8080/",
          "height": 438
        },
        "id": "6dZ98Z4uhyWb",
        "outputId": "224fa326-7c00-47ac-fdd9-73d9e5043615"
      },
      "source": [
        "df =pd.read_csv('/content/sample_data/dataprocessing3.csv', sep=';',encoding='utf8') \r\n",
        "df"
      ],
      "execution_count": null,
      "outputs": [
        {
          "output_type": "execute_result",
          "data": {
            "text/html": [
              "<div>\n",
              "<style scoped>\n",
              "    .dataframe tbody tr th:only-of-type {\n",
              "        vertical-align: middle;\n",
              "    }\n",
              "\n",
              "    .dataframe tbody tr th {\n",
              "        vertical-align: top;\n",
              "    }\n",
              "\n",
              "    .dataframe thead th {\n",
              "        text-align: right;\n",
              "    }\n",
              "</style>\n",
              "<table border=\"1\" class=\"dataframe\">\n",
              "  <thead>\n",
              "    <tr style=\"text-align: right;\">\n",
              "      <th></th>\n",
              "      <th>Unnamed: 0</th>\n",
              "      <th>Unnamed: 0.1</th>\n",
              "      <th>mean_id</th>\n",
              "      <th>mean_organization_id</th>\n",
              "      <th>organization_id</th>\n",
              "      <th>agency_id</th>\n",
              "      <th>origin_history_place_id</th>\n",
              "      <th>destination_history_place_id</th>\n",
              "      <th>trip_distance</th>\n",
              "      <th>trip_base_time</th>\n",
              "      <th>origin_slot_start</th>\n",
              "      <th>origin_slot_end</th>\n",
              "      <th>destination_slot_start</th>\n",
              "      <th>destination_slot_end</th>\n",
              "      <th>origin_arrival_ts</th>\n",
              "      <th>destination_arrival_ts</th>\n",
              "      <th>trip_duration</th>\n",
              "    </tr>\n",
              "  </thead>\n",
              "  <tbody>\n",
              "    <tr>\n",
              "      <th>0</th>\n",
              "      <td>0</td>\n",
              "      <td>0</td>\n",
              "      <td>53431.0</td>\n",
              "      <td>4258</td>\n",
              "      <td>2693</td>\n",
              "      <td>2694.0</td>\n",
              "      <td>125338</td>\n",
              "      <td>34889</td>\n",
              "      <td>142734.0</td>\n",
              "      <td>9180.0</td>\n",
              "      <td>1602651600</td>\n",
              "      <td>1602651600</td>\n",
              "      <td>1602666900</td>\n",
              "      <td>1602666900</td>\n",
              "      <td>1602652091</td>\n",
              "      <td>1602664914</td>\n",
              "      <td>12823</td>\n",
              "    </tr>\n",
              "    <tr>\n",
              "      <th>1</th>\n",
              "      <td>1</td>\n",
              "      <td>1</td>\n",
              "      <td>53438.0</td>\n",
              "      <td>4258</td>\n",
              "      <td>2693</td>\n",
              "      <td>2694.0</td>\n",
              "      <td>125338</td>\n",
              "      <td>34889</td>\n",
              "      <td>118589.0</td>\n",
              "      <td>9261.0</td>\n",
              "      <td>1603692000</td>\n",
              "      <td>1603692000</td>\n",
              "      <td>1603707300</td>\n",
              "      <td>1603707300</td>\n",
              "      <td>1603692296</td>\n",
              "      <td>1603704207</td>\n",
              "      <td>11911</td>\n",
              "    </tr>\n",
              "    <tr>\n",
              "      <th>2</th>\n",
              "      <td>2</td>\n",
              "      <td>2</td>\n",
              "      <td>53420.0</td>\n",
              "      <td>4258</td>\n",
              "      <td>2693</td>\n",
              "      <td>2694.0</td>\n",
              "      <td>35823</td>\n",
              "      <td>104707</td>\n",
              "      <td>234555.0</td>\n",
              "      <td>13708.0</td>\n",
              "      <td>1596042000</td>\n",
              "      <td>1596042000</td>\n",
              "      <td>1596058200</td>\n",
              "      <td>1596058200</td>\n",
              "      <td>1596038640</td>\n",
              "      <td>1596051629</td>\n",
              "      <td>12989</td>\n",
              "    </tr>\n",
              "    <tr>\n",
              "      <th>3</th>\n",
              "      <td>3</td>\n",
              "      <td>3</td>\n",
              "      <td>53420.0</td>\n",
              "      <td>4258</td>\n",
              "      <td>2693</td>\n",
              "      <td>2694.0</td>\n",
              "      <td>35823</td>\n",
              "      <td>104707</td>\n",
              "      <td>235880.0</td>\n",
              "      <td>13649.0</td>\n",
              "      <td>1598979600</td>\n",
              "      <td>1598979600</td>\n",
              "      <td>1598995800</td>\n",
              "      <td>1598995800</td>\n",
              "      <td>1598976343</td>\n",
              "      <td>1598993754</td>\n",
              "      <td>17411</td>\n",
              "    </tr>\n",
              "    <tr>\n",
              "      <th>4</th>\n",
              "      <td>4</td>\n",
              "      <td>4</td>\n",
              "      <td>46011.0</td>\n",
              "      <td>4018</td>\n",
              "      <td>2693</td>\n",
              "      <td>2694.0</td>\n",
              "      <td>125338</td>\n",
              "      <td>33769</td>\n",
              "      <td>36567.0</td>\n",
              "      <td>4165.0</td>\n",
              "      <td>1602228600</td>\n",
              "      <td>1602228600</td>\n",
              "      <td>1602239400</td>\n",
              "      <td>1602239400</td>\n",
              "      <td>1602227628</td>\n",
              "      <td>1602237671</td>\n",
              "      <td>10043</td>\n",
              "    </tr>\n",
              "    <tr>\n",
              "      <th>...</th>\n",
              "      <td>...</td>\n",
              "      <td>...</td>\n",
              "      <td>...</td>\n",
              "      <td>...</td>\n",
              "      <td>...</td>\n",
              "      <td>...</td>\n",
              "      <td>...</td>\n",
              "      <td>...</td>\n",
              "      <td>...</td>\n",
              "      <td>...</td>\n",
              "      <td>...</td>\n",
              "      <td>...</td>\n",
              "      <td>...</td>\n",
              "      <td>...</td>\n",
              "      <td>...</td>\n",
              "      <td>...</td>\n",
              "      <td>...</td>\n",
              "    </tr>\n",
              "    <tr>\n",
              "      <th>105107</th>\n",
              "      <td>105107</td>\n",
              "      <td>105107</td>\n",
              "      <td>31374.0</td>\n",
              "      <td>1273</td>\n",
              "      <td>2693</td>\n",
              "      <td>2694.0</td>\n",
              "      <td>35823</td>\n",
              "      <td>104710</td>\n",
              "      <td>244617.0</td>\n",
              "      <td>14763.0</td>\n",
              "      <td>1597271400</td>\n",
              "      <td>1597271400</td>\n",
              "      <td>1597293000</td>\n",
              "      <td>1597293000</td>\n",
              "      <td>1597271040</td>\n",
              "      <td>1597289668</td>\n",
              "      <td>18628</td>\n",
              "    </tr>\n",
              "    <tr>\n",
              "      <th>105108</th>\n",
              "      <td>105108</td>\n",
              "      <td>105108</td>\n",
              "      <td>31374.0</td>\n",
              "      <td>1273</td>\n",
              "      <td>2693</td>\n",
              "      <td>2694.0</td>\n",
              "      <td>35823</td>\n",
              "      <td>34386</td>\n",
              "      <td>283926.0</td>\n",
              "      <td>16759.0</td>\n",
              "      <td>1593421200</td>\n",
              "      <td>1593421200</td>\n",
              "      <td>1593442800</td>\n",
              "      <td>1593442800</td>\n",
              "      <td>1593418821</td>\n",
              "      <td>1593440934</td>\n",
              "      <td>22113</td>\n",
              "    </tr>\n",
              "    <tr>\n",
              "      <th>105109</th>\n",
              "      <td>105109</td>\n",
              "      <td>105109</td>\n",
              "      <td>109263.0</td>\n",
              "      <td>1273</td>\n",
              "      <td>2693</td>\n",
              "      <td>2694.0</td>\n",
              "      <td>45572</td>\n",
              "      <td>114126</td>\n",
              "      <td>22230.0</td>\n",
              "      <td>2917.0</td>\n",
              "      <td>1593739800</td>\n",
              "      <td>1593739800</td>\n",
              "      <td>1593745200</td>\n",
              "      <td>1593745200</td>\n",
              "      <td>1593737730</td>\n",
              "      <td>1593744420</td>\n",
              "      <td>6690</td>\n",
              "    </tr>\n",
              "    <tr>\n",
              "      <th>105110</th>\n",
              "      <td>105110</td>\n",
              "      <td>105110</td>\n",
              "      <td>49677.0</td>\n",
              "      <td>1273</td>\n",
              "      <td>2693</td>\n",
              "      <td>2694.0</td>\n",
              "      <td>35823</td>\n",
              "      <td>25931</td>\n",
              "      <td>31404.0</td>\n",
              "      <td>3240.0</td>\n",
              "      <td>1591603200</td>\n",
              "      <td>1591603200</td>\n",
              "      <td>1591612200</td>\n",
              "      <td>1594098000</td>\n",
              "      <td>1591599853</td>\n",
              "      <td>1591604009</td>\n",
              "      <td>4156</td>\n",
              "    </tr>\n",
              "    <tr>\n",
              "      <th>105111</th>\n",
              "      <td>105111</td>\n",
              "      <td>105111</td>\n",
              "      <td>33643.0</td>\n",
              "      <td>1273</td>\n",
              "      <td>2693</td>\n",
              "      <td>2694.0</td>\n",
              "      <td>35823</td>\n",
              "      <td>37263</td>\n",
              "      <td>241841.0</td>\n",
              "      <td>14044.0</td>\n",
              "      <td>1599206400</td>\n",
              "      <td>1599206400</td>\n",
              "      <td>1599228000</td>\n",
              "      <td>1599228000</td>\n",
              "      <td>1599205354</td>\n",
              "      <td>1599227232</td>\n",
              "      <td>21878</td>\n",
              "    </tr>\n",
              "  </tbody>\n",
              "</table>\n",
              "<p>105112 rows × 17 columns</p>\n",
              "</div>"
            ],
            "text/plain": [
              "        Unnamed: 0  Unnamed: 0.1  ...  destination_arrival_ts  trip_duration\n",
              "0                0             0  ...              1602664914          12823\n",
              "1                1             1  ...              1603704207          11911\n",
              "2                2             2  ...              1596051629          12989\n",
              "3                3             3  ...              1598993754          17411\n",
              "4                4             4  ...              1602237671          10043\n",
              "...            ...           ...  ...                     ...            ...\n",
              "105107      105107        105107  ...              1597289668          18628\n",
              "105108      105108        105108  ...              1593440934          22113\n",
              "105109      105109        105109  ...              1593744420           6690\n",
              "105110      105110        105110  ...              1591604009           4156\n",
              "105111      105111        105111  ...              1599227232          21878\n",
              "\n",
              "[105112 rows x 17 columns]"
            ]
          },
          "metadata": {
            "tags": []
          },
          "execution_count": 228
        }
      ]
    },
    {
      "cell_type": "code",
      "metadata": {
        "colab": {
          "base_uri": "https://localhost:8080/"
        },
        "id": "cBbo-MDlFbM1",
        "outputId": "edefb890-6751-4b52-a2b6-cbfdc8481d53"
      },
      "source": [
        "pourcentate_agency_id =100*df_processing.agency_id.isnull().sum()/len(df_processing.agency_id)\r\n",
        "print(pourcentate_agency_id)"
      ],
      "execution_count": null,
      "outputs": [
        {
          "output_type": "stream",
          "text": [
            "0.0\n"
          ],
          "name": "stdout"
        }
      ]
    },
    {
      "cell_type": "code",
      "metadata": {
        "colab": {
          "base_uri": "https://localhost:8080/"
        },
        "id": "jZw2EXLqHsu8",
        "outputId": "e6a57b36-9464-45cc-ccda-cfb73854811e"
      },
      "source": [
        "pourcentate_mean_id =100*df.mean_id.isnull().sum()/len(df.mean_id)\r\n",
        "print(pourcentate_mean_id)"
      ],
      "execution_count": null,
      "outputs": [
        {
          "output_type": "stream",
          "text": [
            "0.0\n"
          ],
          "name": "stdout"
        }
      ]
    },
    {
      "cell_type": "code",
      "metadata": {
        "colab": {
          "base_uri": "https://localhost:8080/"
        },
        "id": "sI_BYSsDJLqV",
        "outputId": "13d0ea95-968e-456a-c48a-281434644ba6"
      },
      "source": [
        "pourcentate_destination_slot_end =100*df.destination_slot_end.isnull().sum()/len(df.destination_slot_end)\r\n",
        "print(pourcentate_destination_slot_end)"
      ],
      "execution_count": null,
      "outputs": [
        {
          "output_type": "stream",
          "text": [
            "0.0\n"
          ],
          "name": "stdout"
        }
      ]
    },
    {
      "cell_type": "code",
      "metadata": {
        "colab": {
          "base_uri": "https://localhost:8080/"
        },
        "id": "jfBHHhqdTSa5",
        "outputId": "b2dc4ae0-38d0-41af-9f6f-b5f96106723f"
      },
      "source": [
        "pourcentate_mean_organization_id  =100*df.mean_organization_id.isnull().sum()/len(df.destination_slot_end)\r\n",
        "print(pourcentate_destination_slot_end)"
      ],
      "execution_count": null,
      "outputs": [
        {
          "output_type": "stream",
          "text": [
            "0.0\n"
          ],
          "name": "stdout"
        }
      ]
    },
    {
      "cell_type": "code",
      "metadata": {
        "colab": {
          "base_uri": "https://localhost:8080/"
        },
        "id": "TTqttdYLTr5G",
        "outputId": "04670593-801f-49da-f129-3ecc8b461402"
      },
      "source": [
        "pourcentate_agency_id  =100*df.agency_id.isnull().sum()/len(df.agency_id)\r\n",
        "print(pourcentate_destination_slot_end)"
      ],
      "execution_count": null,
      "outputs": [
        {
          "output_type": "stream",
          "text": [
            "0.0\n"
          ],
          "name": "stdout"
        }
      ]
    },
    {
      "cell_type": "code",
      "metadata": {
        "colab": {
          "base_uri": "https://localhost:8080/"
        },
        "id": "ESOAOGrBT_Dc",
        "outputId": "bce72994-fac4-43a3-986a-6ff161a93216"
      },
      "source": [
        "pourcentate_origin_history_place_id =100*df.origin_history_place_id.isnull().sum()/len(df.origin_history_place_id)\r\n",
        "print(pourcentate_origin_history_place_id )"
      ],
      "execution_count": null,
      "outputs": [
        {
          "output_type": "stream",
          "text": [
            "0.0\n"
          ],
          "name": "stdout"
        }
      ]
    },
    {
      "cell_type": "code",
      "metadata": {
        "colab": {
          "base_uri": "https://localhost:8080/"
        },
        "id": "k-GRoSSmUNFi",
        "outputId": "5d5c2084-00d4-4bea-a36d-3407975bc7a8"
      },
      "source": [
        "pourcentate_destination_history_place_id =100*df.destination_history_place_id.isnull().sum()/len(df.destination_history_place_id)\r\n",
        "print(pourcentate_destination_history_place_id )"
      ],
      "execution_count": null,
      "outputs": [
        {
          "output_type": "stream",
          "text": [
            "0.0\n"
          ],
          "name": "stdout"
        }
      ]
    },
    {
      "cell_type": "code",
      "metadata": {
        "colab": {
          "base_uri": "https://localhost:8080/"
        },
        "id": "JIHXhoiEIAZg",
        "outputId": "3ba32629-141c-4574-e7a3-32055d59337e"
      },
      "source": [
        "pourcentate_trip_distance =100*df.trip_distance.isnull().sum()/len(df.trip_distance)\r\n",
        "print(pourcentate_trip_distance)"
      ],
      "execution_count": null,
      "outputs": [
        {
          "output_type": "stream",
          "text": [
            "0.0\n"
          ],
          "name": "stdout"
        }
      ]
    },
    {
      "cell_type": "code",
      "metadata": {
        "colab": {
          "base_uri": "https://localhost:8080/"
        },
        "id": "abLUCF-DDC8I",
        "outputId": "5d83f56c-b975-4ed1-a2f3-c68a266ef556"
      },
      "source": [
        "pourcentate_trip_base_time =100*df.trip_base_time.isnull().sum()/len(df.trip_base_time)\r\n",
        "print(pourcentate_trip_base_time)"
      ],
      "execution_count": null,
      "outputs": [
        {
          "output_type": "stream",
          "text": [
            "0.0\n"
          ],
          "name": "stdout"
        }
      ]
    },
    {
      "cell_type": "code",
      "metadata": {
        "colab": {
          "base_uri": "https://localhost:8080/"
        },
        "id": "Kp8_J4MNUrQ9",
        "outputId": "d9483e66-ea23-42fa-841a-e9758413d629"
      },
      "source": [
        "pourcentate_origin_slot_start =100*df.trip_base_time.isnull().sum()/len(df.origin_slot_start)\r\n",
        "print(pourcentate_origin_slot_start)"
      ],
      "execution_count": null,
      "outputs": [
        {
          "output_type": "stream",
          "text": [
            "0.0\n"
          ],
          "name": "stdout"
        }
      ]
    },
    {
      "cell_type": "code",
      "metadata": {
        "colab": {
          "base_uri": "https://localhost:8080/"
        },
        "id": "dhp7H6BGU8hZ",
        "outputId": "83b38ca5-ef62-4506-e0a6-ffa0b823011a"
      },
      "source": [
        "pourcentate_origin_slot_end =100*df.trip_base_time.isnull().sum()/len(df.origin_slot_end)\r\n",
        "print(pourcentate_origin_slot_end)"
      ],
      "execution_count": null,
      "outputs": [
        {
          "output_type": "stream",
          "text": [
            "0.0\n"
          ],
          "name": "stdout"
        }
      ]
    },
    {
      "cell_type": "code",
      "metadata": {
        "colab": {
          "base_uri": "https://localhost:8080/"
        },
        "id": "d2N6JtpLTZVW",
        "outputId": "76ea4682-a8f3-4a1d-9bec-8f6fa31a1af1"
      },
      "source": [
        "df_processing.isnull().sum()"
      ],
      "execution_count": null,
      "outputs": [
        {
          "output_type": "execute_result",
          "data": {
            "text/plain": [
              "Unnamed: 0                      0\n",
              "Unnamed: 0.1                    0\n",
              "mean_id                         0\n",
              "mean_organization_id            0\n",
              "organization_id                 0\n",
              "agency_id                       0\n",
              "origin_history_place_id         0\n",
              "destination_history_place_id    0\n",
              "trip_distance                   0\n",
              "trip_base_time                  0\n",
              "origin_slot_start               0\n",
              "origin_slot_end                 0\n",
              "destination_slot_start          0\n",
              "destination_slot_end            0\n",
              "origin_arrival_ts               0\n",
              "destination_arrival_ts          0\n",
              "trip_duration                   0\n",
              "dtype: int64"
            ]
          },
          "metadata": {
            "tags": []
          },
          "execution_count": 240
        }
      ]
    },
    {
      "cell_type": "markdown",
      "metadata": {
        "id": "fnZCIIEWIMQH"
      },
      "source": [
        "# Datavisualisation "
      ]
    },
    {
      "cell_type": "code",
      "metadata": {
        "colab": {
          "base_uri": "https://localhost:8080/"
        },
        "id": "FLiQ9jzPrdWz",
        "outputId": "096134f1-7425-485a-d27c-2267c6a2177d"
      },
      "source": [
        "df_processing.columns"
      ],
      "execution_count": null,
      "outputs": [
        {
          "output_type": "execute_result",
          "data": {
            "text/plain": [
              "Index(['Unnamed: 0', 'Unnamed: 0.1', 'mean_id', 'mean_organization_id',\n",
              "       'organization_id', 'agency_id', 'origin_history_place_id',\n",
              "       'destination_history_place_id', 'trip_distance', 'trip_base_time',\n",
              "       'origin_slot_start', 'origin_slot_end', 'destination_slot_start',\n",
              "       'destination_slot_end', 'origin_arrival_ts', 'destination_arrival_ts',\n",
              "       'trip_duration'],\n",
              "      dtype='object')"
            ]
          },
          "metadata": {
            "tags": []
          },
          "execution_count": 241
        }
      ]
    },
    {
      "cell_type": "code",
      "metadata": {
        "colab": {
          "base_uri": "https://localhost:8080/",
          "height": 442
        },
        "id": "vYDSCsl__FWx",
        "outputId": "de26c7d3-6895-4b6b-d372-5248e783e033"
      },
      "source": [
        "sns.countplot('mean_organization_id', data=df_processing)\r\n",
        "plt.show()"
      ],
      "execution_count": null,
      "outputs": [
        {
          "output_type": "stream",
          "text": [
            "/usr/local/lib/python3.6/dist-packages/seaborn/_decorators.py:43: FutureWarning: Pass the following variable as a keyword arg: x. From version 0.12, the only valid positional argument will be `data`, and passing other arguments without an explicit keyword will result in an error or misinterpretation.\n",
            "  FutureWarning\n"
          ],
          "name": "stderr"
        },
        {
          "output_type": "display_data",
          "data": {
            "image/png": "[encoded data removed]",
            "text/plain": [
              "<Figure size 576x432 with 1 Axes>"
            ]
          },
          "metadata": {
            "tags": [],
            "needs_background": "light"
          }
        }
      ]
    },
    {
      "cell_type": "code",
      "metadata": {
        "colab": {
          "base_uri": "https://localhost:8080/",
          "height": 442
        },
        "id": "MBBF5uxg-51a",
        "outputId": "e6ca5651-49dd-4a05-c64d-144bf66707ee"
      },
      "source": [
        "# analyse organization_id\r\n",
        "sns.countplot('organization_id', data=df_processing)\r\n",
        "plt.show()"
      ],
      "execution_count": null,
      "outputs": [
        {
          "output_type": "stream",
          "text": [
            "/usr/local/lib/python3.6/dist-packages/seaborn/_decorators.py:43: FutureWarning: Pass the following variable as a keyword arg: x. From version 0.12, the only valid positional argument will be `data`, and passing other arguments without an explicit keyword will result in an error or misinterpretation.\n",
            "  FutureWarning\n"
          ],
          "name": "stderr"
        },
        {
          "output_type": "display_data",
          "data": {
            "image/png": "[encoded data removed]",
            "text/plain": [
              "<Figure size 576x432 with 1 Axes>"
            ]
          },
          "metadata": {
            "tags": [],
            "needs_background": "light"
          }
        }
      ]
    },
    {
      "cell_type": "code",
      "metadata": {
        "colab": {
          "base_uri": "https://localhost:8080/"
        },
        "id": "LP-C5gXLrjlL",
        "outputId": "59df4571-b29c-4887-d0f9-e73b4c352bc4"
      },
      "source": [
        "cordia=df_processing.corr()\r\n",
        "print(cordia)"
      ],
      "execution_count": null,
      "outputs": [
        {
          "output_type": "stream",
          "text": [
            "                              Unnamed: 0  ...  trip_duration\n",
            "Unnamed: 0                      1.000000  ...      -0.056234\n",
            "Unnamed: 0.1                    1.000000  ...      -0.056234\n",
            "mean_id                        -0.140262  ...       0.055125\n",
            "mean_organization_id            0.478984  ...      -0.125597\n",
            "organization_id                -0.469873  ...       0.121625\n",
            "agency_id                      -0.452759  ...       0.116307\n",
            "origin_history_place_id        -0.384262  ...       0.069011\n",
            "destination_history_place_id   -0.376908  ...       0.087505\n",
            "trip_distance                  -0.109906  ...       0.188585\n",
            "trip_base_time                 -0.059147  ...       0.178010\n",
            "origin_slot_start              -0.209904  ...       0.059764\n",
            "origin_slot_end                -0.210076  ...       0.059900\n",
            "destination_slot_start         -0.210057  ...       0.063302\n",
            "destination_slot_end           -0.202512  ...       0.062532\n",
            "origin_arrival_ts              -0.209971  ...       0.059772\n",
            "destination_arrival_ts         -0.210128  ...       0.063363\n",
            "trip_duration                  -0.056234  ...       1.000000\n",
            "\n",
            "[17 rows x 17 columns]\n"
          ],
          "name": "stdout"
        }
      ]
    },
    {
      "cell_type": "code",
      "metadata": {
        "colab": {
          "base_uri": "https://localhost:8080/",
          "height": 527
        },
        "id": "qEVlpwScnlCW",
        "outputId": "9e41482d-c396-4231-a575-5650e62bfe50"
      },
      "source": [
        "matrice_corr = df_processing.corr().round(1)\r\n",
        "sns.heatmap(data=matrice_corr, annot=True)\r\n",
        "#On affiche la matrice sous forme de carte thermique (heatmap"
      ],
      "execution_count": null,
      "outputs": [
        {
          "output_type": "execute_result",
          "data": {
            "text/plain": [
              "<matplotlib.axes._subplots.AxesSubplot at 0x7fbe45c57eb8>"
            ]
          },
          "metadata": {
            "tags": []
          },
          "execution_count": 245
        },
        {
          "output_type": "display_data",
          "data": {
            "image/png": "[encoded data removed]",
            "text/plain": [
              "<Figure size 576x432 with 2 Axes>"
            ]
          },
          "metadata": {
            "tags": [],
            "needs_background": "light"
          }
        }
      ]
    },
    {
      "cell_type": "markdown",
      "metadata": {
        "id": "gHONsMBsyDys"
      },
      "source": [
        "##Model\n",
        "\n",
        "Split your data in train / test and train as usual. \n",
        "Train a model of your choice and evaluate it with a relevant metric. "
      ]
    },
    {
      "cell_type": "markdown",
      "metadata": {
        "id": "58U3nG9oq2vt"
      },
      "source": [
        "# creation  des  tests et des trains"
      ]
    },
    {
      "cell_type": "code",
      "metadata": {
        "id": "CpucNLJGXkSY"
      },
      "source": [
        "X2=df_processing.drop(['trip_duration','organization_id','mean_organization_id','Unnamed: 0.1','Unnamed: 0','mean_id','origin_history_place_id','destination_history_place_id'],axis=1)"
      ],
      "execution_count": null,
      "outputs": []
    },
    {
      "cell_type": "code",
      "metadata": {
        "id": "q80MOOkwWSCI"
      },
      "source": [
        "Target=df_processing.drop(['mean_organization_id','organization_id','origin_history_place_id','destination_history_place_id',\r\n",
        "'trip_distance','trip_base_time','origin_slot_start','origin_slot_end','destination_slot_start','origin_arrival_ts','destination_arrival_ts',\r\n",
        "'destination_slot_end','mean_id','agency_id','Unnamed: 0.1','Unnamed: 0'\t],axis=1)"
      ],
      "execution_count": null,
      "outputs": []
    },
    {
      "cell_type": "code",
      "metadata": {
        "colab": {
          "base_uri": "https://localhost:8080/",
          "height": 343
        },
        "id": "1nsLOFqvXZIU",
        "outputId": "9ac60a68-86ba-4419-f5ab-d0da85fee01d"
      },
      "source": [
        "Target.head(10)"
      ],
      "execution_count": null,
      "outputs": [
        {
          "output_type": "execute_result",
          "data": {
            "text/html": [
              "<div>\n",
              "<style scoped>\n",
              "    .dataframe tbody tr th:only-of-type {\n",
              "        vertical-align: middle;\n",
              "    }\n",
              "\n",
              "    .dataframe tbody tr th {\n",
              "        vertical-align: top;\n",
              "    }\n",
              "\n",
              "    .dataframe thead th {\n",
              "        text-align: right;\n",
              "    }\n",
              "</style>\n",
              "<table border=\"1\" class=\"dataframe\">\n",
              "  <thead>\n",
              "    <tr style=\"text-align: right;\">\n",
              "      <th></th>\n",
              "      <th>trip_duration</th>\n",
              "    </tr>\n",
              "  </thead>\n",
              "  <tbody>\n",
              "    <tr>\n",
              "      <th>0</th>\n",
              "      <td>12823</td>\n",
              "    </tr>\n",
              "    <tr>\n",
              "      <th>1</th>\n",
              "      <td>11911</td>\n",
              "    </tr>\n",
              "    <tr>\n",
              "      <th>2</th>\n",
              "      <td>12989</td>\n",
              "    </tr>\n",
              "    <tr>\n",
              "      <th>3</th>\n",
              "      <td>17411</td>\n",
              "    </tr>\n",
              "    <tr>\n",
              "      <th>4</th>\n",
              "      <td>10043</td>\n",
              "    </tr>\n",
              "    <tr>\n",
              "      <th>5</th>\n",
              "      <td>14493</td>\n",
              "    </tr>\n",
              "    <tr>\n",
              "      <th>6</th>\n",
              "      <td>7475</td>\n",
              "    </tr>\n",
              "    <tr>\n",
              "      <th>7</th>\n",
              "      <td>12953</td>\n",
              "    </tr>\n",
              "    <tr>\n",
              "      <th>8</th>\n",
              "      <td>70183</td>\n",
              "    </tr>\n",
              "    <tr>\n",
              "      <th>9</th>\n",
              "      <td>12814</td>\n",
              "    </tr>\n",
              "  </tbody>\n",
              "</table>\n",
              "</div>"
            ],
            "text/plain": [
              "   trip_duration\n",
              "0          12823\n",
              "1          11911\n",
              "2          12989\n",
              "3          17411\n",
              "4          10043\n",
              "5          14493\n",
              "6           7475\n",
              "7          12953\n",
              "8          70183\n",
              "9          12814"
            ]
          },
          "metadata": {
            "tags": []
          },
          "execution_count": 248
        }
      ]
    },
    {
      "cell_type": "code",
      "metadata": {
        "colab": {
          "base_uri": "https://localhost:8080/"
        },
        "id": "RJoGsnN1XgAV",
        "outputId": "10b136d2-efd5-4961-89e8-65f712dfe8e1"
      },
      "source": [
        "X_train,X_test,y_train,y_test=train_test_split(X2,Target,test_size=0.3,random_state=42)\r\n",
        "print(X_train)"
      ],
      "execution_count": null,
      "outputs": [
        {
          "output_type": "stream",
          "text": [
            "        agency_id  trip_distance  ...  origin_arrival_ts  destination_arrival_ts\n",
            "102413     2694.0         5012.0  ...         1600644232              1600649136\n",
            "62011      5766.0         5486.0  ...         1602478246              1602480310\n",
            "59456      5766.0        15524.0  ...         1606837958              1606879519\n",
            "99725      2694.0        49376.0  ...         1593469466              1593478572\n",
            "1518       2694.0        18826.0  ...         1593830769              1593836921\n",
            "...           ...            ...  ...                ...                     ...\n",
            "54886      5766.0         6272.0  ...         1594354001              1594356337\n",
            "76820      2694.0        54047.0  ...         1591935793              1591939842\n",
            "103694     2694.0         1166.0  ...         1595564470              1595568754\n",
            "860        2694.0        38207.0  ...         1604991838              1604996156\n",
            "15795      5766.0        11506.0  ...         1605780047              1605848516\n",
            "\n",
            "[73578 rows x 9 columns]\n"
          ],
          "name": "stdout"
        }
      ]
    },
    {
      "cell_type": "code",
      "metadata": {
        "colab": {
          "base_uri": "https://localhost:8080/"
        },
        "id": "bktISkd6Kl-Y",
        "outputId": "08b3d4e8-f214-4005-95be-3e93cb37b332"
      },
      "source": [
        "print(y_train)"
      ],
      "execution_count": null,
      "outputs": [
        {
          "output_type": "stream",
          "text": [
            "        trip_duration\n",
            "102413           4904\n",
            "62011            2064\n",
            "59456           41561\n",
            "99725            9106\n",
            "1518             6152\n",
            "...               ...\n",
            "54886            2336\n",
            "76820            4049\n",
            "103694           4284\n",
            "860              4318\n",
            "15795           68469\n",
            "\n",
            "[73578 rows x 1 columns]\n"
          ],
          "name": "stdout"
        }
      ]
    },
    {
      "cell_type": "code",
      "metadata": {
        "colab": {
          "base_uri": "https://localhost:8080/"
        },
        "id": "4dprfcnGKq4q",
        "outputId": "746427b9-bdd0-49a4-87bf-7480ee131ce4"
      },
      "source": [
        "print(y_test)"
      ],
      "execution_count": null,
      "outputs": [
        {
          "output_type": "stream",
          "text": [
            "       trip_duration\n",
            "84858           4179\n",
            "37217           4212\n",
            "64923           5294\n",
            "21250          74377\n",
            "64241           9743\n",
            "...              ...\n",
            "48433           3740\n",
            "66499          11583\n",
            "49667           9180\n",
            "35852           3050\n",
            "75793          10161\n",
            "\n",
            "[31534 rows x 1 columns]\n"
          ],
          "name": "stdout"
        }
      ]
    },
    {
      "cell_type": "markdown",
      "metadata": {
        "id": "ZkBvB9GAxHrK"
      },
      "source": [
        "#Etude  pour la  programmation  des  modele "
      ]
    },
    {
      "cell_type": "code",
      "metadata": {
        "colab": {
          "base_uri": "https://localhost:8080/"
        },
        "id": "L5nZJFLGap3z",
        "outputId": "16b28f53-f307-4775-9f16-3e052b15cd11"
      },
      "source": [
        "from sklearn.model_selection import train_test_split\r\n",
        "X_train, X_test, y_train, y_test = train_test_split(X2, Target, test_size = 0.2, random_state=5)\r\n",
        "print(X_train.shape)\r\n",
        "print(X_test.shape)\r\n",
        "print(y_train.shape)\r\n",
        "print(y_test.shape)"
      ],
      "execution_count": null,
      "outputs": [
        {
          "output_type": "stream",
          "text": [
            "(84089, 9)\n",
            "(21023, 9)\n",
            "(84089, 1)\n",
            "(21023, 1)\n"
          ],
          "name": "stdout"
        }
      ]
    },
    {
      "cell_type": "code",
      "metadata": {
        "colab": {
          "base_uri": "https://localhost:8080/"
        },
        "id": "FrTS6v7vaqAw",
        "outputId": "fcb4ee67-0033-4cb8-ff59-55937a95cf22"
      },
      "source": [
        "from sklearn.linear_model import LinearRegression\r\n",
        "from sklearn.metrics import mean_squared_error\r\n",
        "lmodellineaire = LinearRegression()\r\n",
        "lmodellineaire.fit(X_train, y_train)\r\n",
        "print(lmodellineaire.fit(X_train, y_train))"
      ],
      "execution_count": null,
      "outputs": [
        {
          "output_type": "stream",
          "text": [
            "LinearRegression(copy_X=True, fit_intercept=True, n_jobs=None, normalize=False)\n"
          ],
          "name": "stdout"
        }
      ]
    },
    {
      "cell_type": "code",
      "metadata": {
        "colab": {
          "base_uri": "https://localhost:8080/"
        },
        "id": "8A0vJZr8e9q_",
        "outputId": "05bb55b5-77a8-4ee0-d6db-e1c8f465127b"
      },
      "source": [
        "# Evaluation du training set\r\n",
        "from sklearn.metrics import r2_score\r\n",
        "y_train_predict = lmodellineaire.predict(X_train)\r\n",
        "rmse = (np.sqrt(mean_squared_error(y_train, y_train_predict)))\r\n",
        "r2 = r2_score(y_train, y_train_predict)\r\n",
        "print('La performance du modèle sur la base dapprentissage')\r\n",
        "print('--------------------------------------')\r\n",
        "print('Lerreur quadratique moyenne est {}'.format(rmse))\r\n",
        "print('le score R2 est {}'.format(r2))\r\n",
        "print('\\n')\r\n",
        " \r\n",
        "# model evaluation for testing set\r\n",
        "y_test_predict = lmodellineaire.predict(X_test)\r\n",
        "rmse = (np.sqrt(mean_squared_error(y_test, y_test_predict)))\r\n",
        "r2 = r2_score(y_test, y_test_predict)\r\n",
        " \r\n",
        "print('La performance du modèle sur la base de test')\r\n",
        "print('--------------------------------------')\r\n",
        "print('Lerreur quadratique moyenne est {}'.format(rmse))\r\n",
        "print('le score R2 est {}'.format(r2))"
      ],
      "execution_count": null,
      "outputs": [
        {
          "output_type": "stream",
          "text": [
            "La performance du modèle sur la base dapprentissage\n",
            "--------------------------------------\n",
            "Lerreur quadratique moyenne est 3.388855337692047e-07\n",
            "le score R2 est 1.0\n",
            "\n",
            "\n",
            "La performance du modèle sur la base de test\n",
            "--------------------------------------\n",
            "Lerreur quadratique moyenne est 3.381973195871092e-07\n",
            "le score R2 est 1.0\n"
          ],
          "name": "stdout"
        }
      ]
    },
    {
      "cell_type": "code",
      "metadata": {
        "id": "IH2lvl9VxYEg"
      },
      "source": [
        "# affichage des resultats de la regression lineaire "
      ],
      "execution_count": null,
      "outputs": []
    },
    {
      "cell_type": "code",
      "metadata": {
        "id": "Eei6miAYMJE0"
      },
      "source": [
        "from sklearn.linear_model import Ridge\r\n",
        "from sklearn.model_selection import GridSearchCV"
      ],
      "execution_count": null,
      "outputs": []
    },
    {
      "cell_type": "code",
      "metadata": {
        "colab": {
          "base_uri": "https://localhost:8080/"
        },
        "id": "F1v5r-lOMR9_",
        "outputId": "4be2de6d-489a-45b5-e4c0-a0cfcf99588c"
      },
      "source": [
        "ridge = Ridge()\r\n",
        "parameters = {'alpha': [1e-15, 1e-10, 1e-8, 1e-6, 1e-4, 1e-3, 1e-2, 1e-1, 1, 5, 10, 20]}\r\n",
        "ridge_regress_train = GridSearchCV(ridge, parameters, scoring=\"r2\", cv=5)\r\n",
        "ridge_regress_train.fit(X_train,y_train)"
      ],
      "execution_count": null,
      "outputs": [
        {
          "output_type": "execute_result",
          "data": {
            "text/plain": [
              "GridSearchCV(cv=5, error_score=nan,\n",
              "             estimator=Ridge(alpha=1.0, copy_X=True, fit_intercept=True,\n",
              "                             max_iter=None, normalize=False, random_state=None,\n",
              "                             solver='auto', tol=0.001),\n",
              "             iid='deprecated', n_jobs=None,\n",
              "             param_grid={'alpha': [1e-15, 1e-10, 1e-08, 1e-06, 0.0001, 0.001,\n",
              "                                   0.01, 0.1, 1, 5, 10, 20]},\n",
              "             pre_dispatch='2*n_jobs', refit=True, return_train_score=False,\n",
              "             scoring='r2', verbose=0)"
            ]
          },
          "metadata": {
            "tags": []
          },
          "execution_count": 256
        }
      ]
    },
    {
      "cell_type": "code",
      "metadata": {
        "colab": {
          "base_uri": "https://localhost:8080/"
        },
        "id": "QQwYa0ghMXFY",
        "outputId": "1a0ec0e1-7e91-44e8-dd8b-3e175bde04d3"
      },
      "source": [
        "print(ridge_regress_train.best_params_)\r\n",
        "print(ridge_regress_train.best_score_)\r\n",
        "print(ridge_regress_train.best_estimator_)\r\n",
        "\r\n",
        "predtrain_ridge = ridge_regress_train.predict(X_train)\r\n",
        "print(np.sqrt(mean_squared_error(y_train,predtrain_ridge)))\r\n",
        "print(r2_score(y_train, predtrain_ridge))"
      ],
      "execution_count": null,
      "outputs": [
        {
          "output_type": "stream",
          "text": [
            "{'alpha': 1e-15}\n",
            "1.0\n",
            "Ridge(alpha=1e-15, copy_X=True, fit_intercept=True, max_iter=None,\n",
            "      normalize=False, random_state=None, solver='auto', tol=0.001)\n",
            "4.325897940102323e-06\n",
            "1.0\n"
          ],
          "name": "stdout"
        }
      ]
    },
    {
      "cell_type": "code",
      "metadata": {
        "colab": {
          "base_uri": "https://localhost:8080/"
        },
        "id": "o6PAVKOqMa90",
        "outputId": "ec08bb79-9d44-45fd-8dd4-44fcc3313e70"
      },
      "source": [
        "ridge = Ridge()\r\n",
        "parameters = {'alpha': [1e-15, 1e-10, 1e-8, 1e-6, 1e-4, 1e-3, 1e-2, 1e-1, 1, 5, 10, 20]}\r\n",
        "ridge_regress_test = GridSearchCV(ridge, parameters, scoring=\"r2\", cv=5)\r\n",
        "ridge_regress_test.fit(X_test,y_test)\r\n",
        "ridge_regress_test.score(X_test,y_test)"
      ],
      "execution_count": null,
      "outputs": [
        {
          "output_type": "execute_result",
          "data": {
            "text/plain": [
              "1.0"
            ]
          },
          "metadata": {
            "tags": []
          },
          "execution_count": 258
        }
      ]
    },
    {
      "cell_type": "code",
      "metadata": {
        "colab": {
          "base_uri": "https://localhost:8080/"
        },
        "id": "VxLBvfJOMeuK",
        "outputId": "32315f33-b750-4907-ed51-5205f7b86904"
      },
      "source": [
        "\r\n",
        "print(ridge_regress_test.best_params_)\r\n",
        "print(ridge_regress_test.best_score_)\r\n",
        "print(ridge_regress_test.best_estimator_)\r\n",
        "predtest_ridge = ridge_regress_test.predict(X_test)\r\n",
        "print(np.sqrt(mean_squared_error(y_test,predtest_ridge))) \r\n",
        "print(r2_score(y_test, predtest_ridge))"
      ],
      "execution_count": null,
      "outputs": [
        {
          "output_type": "stream",
          "text": [
            "{'alpha': 1e-15}\n",
            "1.0\n",
            "Ridge(alpha=1e-15, copy_X=True, fit_intercept=True, max_iter=None,\n",
            "      normalize=False, random_state=None, solver='auto', tol=0.001)\n",
            "6.54432075558166e-06\n",
            "1.0\n"
          ],
          "name": "stdout"
        }
      ]
    },
    {
      "cell_type": "code",
      "metadata": {
        "id": "ILnkulAhMpa2"
      },
      "source": [
        "from sklearn.linear_model import Lasso"
      ],
      "execution_count": null,
      "outputs": []
    },
    {
      "cell_type": "code",
      "metadata": {
        "colab": {
          "base_uri": "https://localhost:8080/"
        },
        "id": "ACciW4qNMvHg",
        "outputId": "9ef2bcd8-4502-43d0-be1d-54f6d297b91e"
      },
      "source": [
        "lasso = Lasso()\r\n",
        "parameters = {'alpha': [1e-15, 1e-10, 1e-8, 1e-6, 1e-4, 1e-3, 1e-2, 1e-1, 1, 5, 10, 20]}\r\n",
        "lasso_regress_train = GridSearchCV(lasso, parameters, scoring=\"r2\", cv=5)\r\n",
        "%time lasso_regress_train.fit(X_train,y_train)\r\n",
        "\r\n",
        "print(lasso_regress_train.best_params_)\r\n",
        "print(lasso_regress_train.best_score_)\r\n",
        "print(lasso_regress_train.best_estimator_)\r\n",
        "predtrain_lasso = lasso_regress_train.predict(X_train)\r\n",
        "print(np.sqrt(mean_squared_error(y_train,predtrain_lasso)))\r\n",
        "print(r2_score(y_train, predtrain_lasso))"
      ],
      "execution_count": null,
      "outputs": [
        {
          "output_type": "stream",
          "text": [
            "/usr/local/lib/python3.6/dist-packages/sklearn/linear_model/_coordinate_descent.py:476: ConvergenceWarning: Objective did not converge. You might want to increase the number of iterations. Duality gap: 8754341614888.795, tolerance: 1923203398.9458337\n",
            "  positive)\n",
            "/usr/local/lib/python3.6/dist-packages/sklearn/linear_model/_coordinate_descent.py:476: ConvergenceWarning: Objective did not converge. You might want to increase the number of iterations. Duality gap: 8573164879226.061, tolerance: 1879118769.6840582\n",
            "  positive)\n",
            "/usr/local/lib/python3.6/dist-packages/sklearn/linear_model/_coordinate_descent.py:476: ConvergenceWarning: Objective did not converge. You might want to increase the number of iterations. Duality gap: 8551667577346.043, tolerance: 1877623861.9149466\n",
            "  positive)\n",
            "/usr/local/lib/python3.6/dist-packages/sklearn/linear_model/_coordinate_descent.py:476: ConvergenceWarning: Objective did not converge. You might want to increase the number of iterations. Duality gap: 8616270058667.053, tolerance: 1891999104.7236607\n",
            "  positive)\n",
            "/usr/local/lib/python3.6/dist-packages/sklearn/linear_model/_coordinate_descent.py:476: ConvergenceWarning: Objective did not converge. You might want to increase the number of iterations. Duality gap: 8446448171805.309, tolerance: 1853724511.876764\n",
            "  positive)\n",
            "/usr/local/lib/python3.6/dist-packages/sklearn/linear_model/_coordinate_descent.py:476: ConvergenceWarning: Objective did not converge. You might want to increase the number of iterations. Duality gap: 8754341614888.796, tolerance: 1923203398.9458337\n",
            "  positive)\n",
            "/usr/local/lib/python3.6/dist-packages/sklearn/linear_model/_coordinate_descent.py:476: ConvergenceWarning: Objective did not converge. You might want to increase the number of iterations. Duality gap: 8573164879226.063, tolerance: 1879118769.6840582\n",
            "  positive)\n",
            "/usr/local/lib/python3.6/dist-packages/sklearn/linear_model/_coordinate_descent.py:476: ConvergenceWarning: Objective did not converge. You might want to increase the number of iterations. Duality gap: 8551667577346.041, tolerance: 1877623861.9149466\n",
            "  positive)\n",
            "/usr/local/lib/python3.6/dist-packages/sklearn/linear_model/_coordinate_descent.py:476: ConvergenceWarning: Objective did not converge. You might want to increase the number of iterations. Duality gap: 8616270058667.047, tolerance: 1891999104.7236607\n",
            "  positive)\n",
            "/usr/local/lib/python3.6/dist-packages/sklearn/linear_model/_coordinate_descent.py:476: ConvergenceWarning: Objective did not converge. You might want to increase the number of iterations. Duality gap: 8446448171805.309, tolerance: 1853724511.876764\n",
            "  positive)\n",
            "/usr/local/lib/python3.6/dist-packages/sklearn/linear_model/_coordinate_descent.py:476: ConvergenceWarning: Objective did not converge. You might want to increase the number of iterations. Duality gap: 8754341614888.797, tolerance: 1923203398.9458337\n",
            "  positive)\n",
            "/usr/local/lib/python3.6/dist-packages/sklearn/linear_model/_coordinate_descent.py:476: ConvergenceWarning: Objective did not converge. You might want to increase the number of iterations. Duality gap: 8573164879226.061, tolerance: 1879118769.6840582\n",
            "  positive)\n",
            "/usr/local/lib/python3.6/dist-packages/sklearn/linear_model/_coordinate_descent.py:476: ConvergenceWarning: Objective did not converge. You might want to increase the number of iterations. Duality gap: 8551667577346.043, tolerance: 1877623861.9149466\n",
            "  positive)\n",
            "/usr/local/lib/python3.6/dist-packages/sklearn/linear_model/_coordinate_descent.py:476: ConvergenceWarning: Objective did not converge. You might want to increase the number of iterations. Duality gap: 8616270058667.051, tolerance: 1891999104.7236607\n",
            "  positive)\n",
            "/usr/local/lib/python3.6/dist-packages/sklearn/linear_model/_coordinate_descent.py:476: ConvergenceWarning: Objective did not converge. You might want to increase the number of iterations. Duality gap: 8446448171805.311, tolerance: 1853724511.876764\n",
            "  positive)\n",
            "/usr/local/lib/python3.6/dist-packages/sklearn/linear_model/_coordinate_descent.py:476: ConvergenceWarning: Objective did not converge. You might want to increase the number of iterations. Duality gap: 8754341614888.839, tolerance: 1923203398.9458337\n",
            "  positive)\n",
            "/usr/local/lib/python3.6/dist-packages/sklearn/linear_model/_coordinate_descent.py:476: ConvergenceWarning: Objective did not converge. You might want to increase the number of iterations. Duality gap: 8573164879226.094, tolerance: 1879118769.6840582\n",
            "  positive)\n",
            "/usr/local/lib/python3.6/dist-packages/sklearn/linear_model/_coordinate_descent.py:476: ConvergenceWarning: Objective did not converge. You might want to increase the number of iterations. Duality gap: 8551667577346.079, tolerance: 1877623861.9149466\n",
            "  positive)\n",
            "/usr/local/lib/python3.6/dist-packages/sklearn/linear_model/_coordinate_descent.py:476: ConvergenceWarning: Objective did not converge. You might want to increase the number of iterations. Duality gap: 8616270058667.09, tolerance: 1891999104.7236607\n",
            "  positive)\n",
            "/usr/local/lib/python3.6/dist-packages/sklearn/linear_model/_coordinate_descent.py:476: ConvergenceWarning: Objective did not converge. You might want to increase the number of iterations. Duality gap: 8446448171805.35, tolerance: 1853724511.876764\n",
            "  positive)\n",
            "/usr/local/lib/python3.6/dist-packages/sklearn/linear_model/_coordinate_descent.py:476: ConvergenceWarning: Objective did not converge. You might want to increase the number of iterations. Duality gap: 8754341614893.129, tolerance: 1923203398.9458337\n",
            "  positive)\n",
            "/usr/local/lib/python3.6/dist-packages/sklearn/linear_model/_coordinate_descent.py:476: ConvergenceWarning: Objective did not converge. You might want to increase the number of iterations. Duality gap: 8573164879230.043, tolerance: 1879118769.6840582\n",
            "  positive)\n",
            "/usr/local/lib/python3.6/dist-packages/sklearn/linear_model/_coordinate_descent.py:476: ConvergenceWarning: Objective did not converge. You might want to increase the number of iterations. Duality gap: 8551667577349.944, tolerance: 1877623861.9149466\n",
            "  positive)\n",
            "/usr/local/lib/python3.6/dist-packages/sklearn/linear_model/_coordinate_descent.py:476: ConvergenceWarning: Objective did not converge. You might want to increase the number of iterations. Duality gap: 8616270058671.202, tolerance: 1891999104.7236607\n",
            "  positive)\n",
            "/usr/local/lib/python3.6/dist-packages/sklearn/linear_model/_coordinate_descent.py:476: ConvergenceWarning: Objective did not converge. You might want to increase the number of iterations. Duality gap: 8446448171808.978, tolerance: 1853724511.876764\n",
            "  positive)\n",
            "/usr/local/lib/python3.6/dist-packages/sklearn/linear_model/_coordinate_descent.py:476: ConvergenceWarning: Objective did not converge. You might want to increase the number of iterations. Duality gap: 8754341614932.3, tolerance: 1923203398.9458337\n",
            "  positive)\n",
            "/usr/local/lib/python3.6/dist-packages/sklearn/linear_model/_coordinate_descent.py:476: ConvergenceWarning: Objective did not converge. You might want to increase the number of iterations. Duality gap: 8573164879265.972, tolerance: 1879118769.6840582\n",
            "  positive)\n",
            "/usr/local/lib/python3.6/dist-packages/sklearn/linear_model/_coordinate_descent.py:476: ConvergenceWarning: Objective did not converge. You might want to increase the number of iterations. Duality gap: 8551667577385.133, tolerance: 1877623861.9149466\n",
            "  positive)\n",
            "/usr/local/lib/python3.6/dist-packages/sklearn/linear_model/_coordinate_descent.py:476: ConvergenceWarning: Objective did not converge. You might want to increase the number of iterations. Duality gap: 8616270058708.681, tolerance: 1891999104.7236607\n",
            "  positive)\n",
            "/usr/local/lib/python3.6/dist-packages/sklearn/linear_model/_coordinate_descent.py:476: ConvergenceWarning: Objective did not converge. You might want to increase the number of iterations. Duality gap: 8446448171842.085, tolerance: 1853724511.876764\n",
            "  positive)\n",
            "/usr/local/lib/python3.6/dist-packages/sklearn/linear_model/_coordinate_descent.py:476: ConvergenceWarning: Objective did not converge. You might want to increase the number of iterations. Duality gap: 8754341615323.735, tolerance: 1923203398.9458337\n",
            "  positive)\n",
            "/usr/local/lib/python3.6/dist-packages/sklearn/linear_model/_coordinate_descent.py:476: ConvergenceWarning: Objective did not converge. You might want to increase the number of iterations. Duality gap: 8573164879625.049, tolerance: 1879118769.6840582\n",
            "  positive)\n",
            "/usr/local/lib/python3.6/dist-packages/sklearn/linear_model/_coordinate_descent.py:476: ConvergenceWarning: Objective did not converge. You might want to increase the number of iterations. Duality gap: 8551667577736.806, tolerance: 1877623861.9149466\n",
            "  positive)\n",
            "/usr/local/lib/python3.6/dist-packages/sklearn/linear_model/_coordinate_descent.py:476: ConvergenceWarning: Objective did not converge. You might want to increase the number of iterations. Duality gap: 8616270059083.195, tolerance: 1891999104.7236607\n",
            "  positive)\n",
            "/usr/local/lib/python3.6/dist-packages/sklearn/linear_model/_coordinate_descent.py:476: ConvergenceWarning: Objective did not converge. You might want to increase the number of iterations. Duality gap: 8446448172172.928, tolerance: 1853724511.876764\n",
            "  positive)\n",
            "/usr/local/lib/python3.6/dist-packages/sklearn/linear_model/_coordinate_descent.py:476: ConvergenceWarning: Objective did not converge. You might want to increase the number of iterations. Duality gap: 8754341619238.341, tolerance: 1923203398.9458337\n",
            "  positive)\n",
            "/usr/local/lib/python3.6/dist-packages/sklearn/linear_model/_coordinate_descent.py:476: ConvergenceWarning: Objective did not converge. You might want to increase the number of iterations. Duality gap: 8573164883216.02, tolerance: 1879118769.6840582\n",
            "  positive)\n",
            "/usr/local/lib/python3.6/dist-packages/sklearn/linear_model/_coordinate_descent.py:476: ConvergenceWarning: Objective did not converge. You might want to increase the number of iterations. Duality gap: 8551667581253.779, tolerance: 1877623861.9149466\n",
            "  positive)\n",
            "/usr/local/lib/python3.6/dist-packages/sklearn/linear_model/_coordinate_descent.py:476: ConvergenceWarning: Objective did not converge. You might want to increase the number of iterations. Duality gap: 8616270062828.604, tolerance: 1891999104.7236607\n",
            "  positive)\n",
            "/usr/local/lib/python3.6/dist-packages/sklearn/linear_model/_coordinate_descent.py:476: ConvergenceWarning: Objective did not converge. You might want to increase the number of iterations. Duality gap: 8446448175481.581, tolerance: 1853724511.876764\n",
            "  positive)\n",
            "/usr/local/lib/python3.6/dist-packages/sklearn/linear_model/_coordinate_descent.py:476: ConvergenceWarning: Objective did not converge. You might want to increase the number of iterations. Duality gap: 8754341658384.03, tolerance: 1923203398.9458337\n",
            "  positive)\n",
            "/usr/local/lib/python3.6/dist-packages/sklearn/linear_model/_coordinate_descent.py:476: ConvergenceWarning: Objective did not converge. You might want to increase the number of iterations. Duality gap: 8573164919125.427, tolerance: 1879118769.6840582\n",
            "  positive)\n",
            "/usr/local/lib/python3.6/dist-packages/sklearn/linear_model/_coordinate_descent.py:476: ConvergenceWarning: Objective did not converge. You might want to increase the number of iterations. Duality gap: 8551667616423.175, tolerance: 1877623861.9149466\n",
            "  positive)\n",
            "/usr/local/lib/python3.6/dist-packages/sklearn/linear_model/_coordinate_descent.py:476: ConvergenceWarning: Objective did not converge. You might want to increase the number of iterations. Duality gap: 8616270100282.403, tolerance: 1891999104.7236607\n",
            "  positive)\n",
            "/usr/local/lib/python3.6/dist-packages/sklearn/linear_model/_coordinate_descent.py:476: ConvergenceWarning: Objective did not converge. You might want to increase the number of iterations. Duality gap: 8446448208567.811, tolerance: 1853724511.876764\n",
            "  positive)\n",
            "/usr/local/lib/python3.6/dist-packages/sklearn/linear_model/_coordinate_descent.py:476: ConvergenceWarning: Objective did not converge. You might want to increase the number of iterations. Duality gap: 8754341832363.672, tolerance: 1923203398.9458337\n",
            "  positive)\n",
            "/usr/local/lib/python3.6/dist-packages/sklearn/linear_model/_coordinate_descent.py:476: ConvergenceWarning: Objective did not converge. You might want to increase the number of iterations. Duality gap: 8573165078721.578, tolerance: 1879118769.6840582\n",
            "  positive)\n",
            "/usr/local/lib/python3.6/dist-packages/sklearn/linear_model/_coordinate_descent.py:476: ConvergenceWarning: Objective did not converge. You might want to increase the number of iterations. Duality gap: 8551667772730.348, tolerance: 1877623861.9149466\n",
            "  positive)\n",
            "/usr/local/lib/python3.6/dist-packages/sklearn/linear_model/_coordinate_descent.py:476: ConvergenceWarning: Objective did not converge. You might want to increase the number of iterations. Duality gap: 8616270266742.49, tolerance: 1891999104.7236607\n",
            "  positive)\n",
            "/usr/local/lib/python3.6/dist-packages/sklearn/linear_model/_coordinate_descent.py:476: ConvergenceWarning: Objective did not converge. You might want to increase the number of iterations. Duality gap: 8446448355616.453, tolerance: 1853724511.876764\n",
            "  positive)\n",
            "/usr/local/lib/python3.6/dist-packages/sklearn/linear_model/_coordinate_descent.py:476: ConvergenceWarning: Objective did not converge. You might want to increase the number of iterations. Duality gap: 8754342049835.383, tolerance: 1923203398.9458337\n",
            "  positive)\n",
            "/usr/local/lib/python3.6/dist-packages/sklearn/linear_model/_coordinate_descent.py:476: ConvergenceWarning: Objective did not converge. You might want to increase the number of iterations. Duality gap: 8573165278213.834, tolerance: 1879118769.6840582\n",
            "  positive)\n",
            "/usr/local/lib/python3.6/dist-packages/sklearn/linear_model/_coordinate_descent.py:476: ConvergenceWarning: Objective did not converge. You might want to increase the number of iterations. Duality gap: 8551667968111.363, tolerance: 1877623861.9149466\n",
            "  positive)\n",
            "/usr/local/lib/python3.6/dist-packages/sklearn/linear_model/_coordinate_descent.py:476: ConvergenceWarning: Objective did not converge. You might want to increase the number of iterations. Duality gap: 8616270474814.723, tolerance: 1891999104.7236607\n",
            "  positive)\n",
            "/usr/local/lib/python3.6/dist-packages/sklearn/linear_model/_coordinate_descent.py:476: ConvergenceWarning: Objective did not converge. You might want to increase the number of iterations. Duality gap: 8446448539424.307, tolerance: 1853724511.876764\n",
            "  positive)\n",
            "/usr/local/lib/python3.6/dist-packages/sklearn/linear_model/_coordinate_descent.py:476: ConvergenceWarning: Objective did not converge. You might want to increase the number of iterations. Duality gap: 8754342484769.335, tolerance: 1923203398.9458337\n",
            "  positive)\n",
            "/usr/local/lib/python3.6/dist-packages/sklearn/linear_model/_coordinate_descent.py:476: ConvergenceWarning: Objective did not converge. You might want to increase the number of iterations. Duality gap: 8573165677188.606, tolerance: 1879118769.6840582\n",
            "  positive)\n",
            "/usr/local/lib/python3.6/dist-packages/sklearn/linear_model/_coordinate_descent.py:476: ConvergenceWarning: Objective did not converge. You might want to increase the number of iterations. Duality gap: 8551668358863.601, tolerance: 1877623861.9149466\n",
            "  positive)\n",
            "/usr/local/lib/python3.6/dist-packages/sklearn/linear_model/_coordinate_descent.py:476: ConvergenceWarning: Objective did not converge. You might want to increase the number of iterations. Duality gap: 8616270890949.627, tolerance: 1891999104.7236607\n",
            "  positive)\n",
            "/usr/local/lib/python3.6/dist-packages/sklearn/linear_model/_coordinate_descent.py:476: ConvergenceWarning: Objective did not converge. You might want to increase the number of iterations. Duality gap: 8446448907030.137, tolerance: 1853724511.876764\n",
            "  positive)\n"
          ],
          "name": "stderr"
        },
        {
          "output_type": "stream",
          "text": [
            "CPU times: user 2min 3s, sys: 20.2 s, total: 2min 23s\n",
            "Wall time: 1min 15s\n",
            "{'alpha': 1e-15}\n",
            "0.08871397840545955\n",
            "Lasso(alpha=1e-15, copy_X=True, fit_intercept=True, max_iter=1000,\n",
            "      normalize=False, positive=False, precompute=False, random_state=None,\n",
            "      selection='cyclic', tol=0.0001, warm_start=False)\n",
            "15979.395833421528\n",
            "0.08881557982097632\n"
          ],
          "name": "stdout"
        },
        {
          "output_type": "stream",
          "text": [
            "/usr/local/lib/python3.6/dist-packages/sklearn/linear_model/_coordinate_descent.py:476: ConvergenceWarning: Objective did not converge. You might want to increase the number of iterations. Duality gap: 10735688509007.559, tolerance: 2356424950.0443144\n",
            "  positive)\n"
          ],
          "name": "stderr"
        }
      ]
    },
    {
      "cell_type": "code",
      "metadata": {
        "id": "lANWyB0_NQbM"
      },
      "source": [
        "from sklearn.linear_model import ElasticNet"
      ],
      "execution_count": null,
      "outputs": []
    },
    {
      "cell_type": "code",
      "metadata": {
        "colab": {
          "base_uri": "https://localhost:8080/"
        },
        "id": "WpJiiA3XNv_b",
        "outputId": "d27ad8a7-c74d-4046-c287-d84c4f8ccfd5"
      },
      "source": [
        "elastic_net_test = ElasticNet(alpha=1, l1_ratio=0.5).fit(X_test, y_test)\r\n",
        "\r\n",
        "scores_test = cross_val_score(elastic_net_test,X_test,y_test,cv=5,scoring='r2')\r\n",
        "\r\n",
        "print('CV Mean: ', np.mean(scores_test))\r\n",
        "print('STD: ', np.std(scores_test))\r\n",
        "\r\n",
        "alpha = [0.001, 0.01, 0.1, 1, 10, 100, 1000]\r\n",
        "l1_ratio = [1e-15, 1e-10, 1e-8, 1e-6, 1e-4, 1e-3, 1e-2, 1e-1, 1, 5, 10, 20]\r\n",
        "param_grid = dict(alpha=alpha, l1_ratio=l1_ratio)\r\n",
        "\r\n",
        "grid_test = GridSearchCV(estimator=elastic_net_test, param_grid=param_grid, scoring='r2', verbose=1, n_jobs=-1)\r\n",
        "grid_result_test = grid_test.fit(X_test, y_test)\r\n",
        "\r\n",
        "print('meilleur  score: ', grid_result_test.best_score_)\r\n",
        "print('meileur  parametre: ', grid_result_test.best_params_)"
      ],
      "execution_count": null,
      "outputs": [
        {
          "output_type": "stream",
          "text": [
            "/usr/local/lib/python3.6/dist-packages/sklearn/linear_model/_coordinate_descent.py:476: ConvergenceWarning: Objective did not converge. You might want to increase the number of iterations. Duality gap: 2792209020336.273, tolerance: 613531911.2935616\n",
            "  positive)\n",
            "/usr/local/lib/python3.6/dist-packages/sklearn/linear_model/_coordinate_descent.py:476: ConvergenceWarning: Objective did not converge. You might want to increase the number of iterations. Duality gap: 2283905696685.8984, tolerance: 502123741.44255686\n",
            "  positive)\n",
            "/usr/local/lib/python3.6/dist-packages/sklearn/linear_model/_coordinate_descent.py:476: ConvergenceWarning: Objective did not converge. You might want to increase the number of iterations. Duality gap: 2117482379059.6243, tolerance: 464604936.0817268\n",
            "  positive)\n",
            "/usr/local/lib/python3.6/dist-packages/sklearn/linear_model/_coordinate_descent.py:476: ConvergenceWarning: Objective did not converge. You might want to increase the number of iterations. Duality gap: 2308543285183.031, tolerance: 508674995.99089414\n",
            "  positive)\n",
            "/usr/local/lib/python3.6/dist-packages/sklearn/linear_model/_coordinate_descent.py:476: ConvergenceWarning: Objective did not converge. You might want to increase the number of iterations. Duality gap: 2165586200355.9805, tolerance: 475726315.65321124\n",
            "  positive)\n"
          ],
          "name": "stderr"
        },
        {
          "output_type": "stream",
          "text": [
            "CV Mean:  0.0895172174754102\n",
            "STD:  0.00679936032659406\n",
            "Fitting 5 folds for each of 84 candidates, totalling 420 fits\n"
          ],
          "name": "stdout"
        },
        {
          "output_type": "stream",
          "text": [
            "/usr/local/lib/python3.6/dist-packages/sklearn/linear_model/_coordinate_descent.py:476: ConvergenceWarning: Objective did not converge. You might want to increase the number of iterations. Duality gap: 2291763578996.977, tolerance: 502978135.6117018\n",
            "  positive)\n",
            "[Parallel(n_jobs=-1)]: Using backend LokyBackend with 2 concurrent workers.\n",
            "[Parallel(n_jobs=-1)]: Done  46 tasks      | elapsed:   10.7s\n",
            "[Parallel(n_jobs=-1)]: Done 196 tasks      | elapsed:   40.4s\n",
            "[Parallel(n_jobs=-1)]: Done 420 out of 420 | elapsed:  1.4min finished\n"
          ],
          "name": "stderr"
        },
        {
          "output_type": "stream",
          "text": [
            "meilleur  score:  0.08951747480711811\n",
            "meileur  parametre:  {'alpha': 1000, 'l1_ratio': 1e-08}\n"
          ],
          "name": "stdout"
        },
        {
          "output_type": "stream",
          "text": [
            "/usr/local/lib/python3.6/dist-packages/sklearn/linear_model/_coordinate_descent.py:476: ConvergenceWarning: Objective did not converge. You might want to increase the number of iterations. Duality gap: 2792220779262.1045, tolerance: 613531911.2935616\n",
            "  positive)\n"
          ],
          "name": "stderr"
        }
      ]
    },
    {
      "cell_type": "markdown",
      "metadata": {
        "id": "93DTcCk0yDyt"
      },
      "source": [
        "\n",
        "# Optimization \n",
        "\n",
        "Optimize the hyperparameters of your algorithm\n"
      ]
    },
    {
      "cell_type": "code",
      "metadata": {
        "id": "bC2NclUKw_Is"
      },
      "source": [
        "import numpy as np                      \r\n",
        "import pandas as pd  \r\n",
        "\r\n",
        "# Plot\r\n",
        "import matplotlib.pyplot as plt         \r\n",
        "import seaborn as sns\r\n",
        "\r\n",
        "# Preprocessing\r\n",
        "from sklearn.preprocessing import LabelEncoder, OneHotEncoder,StandardScaler,LabelBinarizer \r\n",
        "from sklearn.impute import SimpleImputer\r\n",
        "from sklearn.compose import ColumnTransformer\r\n",
        "from sklearn.linear_model import LinearRegression,LogisticRegression, LogisticRegressionCV, RidgeCV, LassoCV, ElasticNet\r\n",
        "from sklearn.multiclass import OneVsRestClassifier\r\n",
        "from sklearn.svm import LinearSVC, SVC, SVR\r\n",
        "from sklearn.ensemble import RandomForestClassifier, RandomForestRegressor, GradientBoostingRegressor\r\n",
        "from xgboost import XGBClassifier, XGBRegressor\r\n",
        "# from sklearn import neighbors \r\n",
        "# from sklearn.naive_bayes import GaussianNB , ComplementNB,CategoricalNB              \r\n",
        "# Metrics : \r\n",
        "from sklearn.metrics import mean_squared_error, r2_score,roc_curve, roc_auc_score, auc \r\n",
        "from sklearn.metrics import confusion_matrix, classification_report, mean_squared_error, r2_score, accuracy_score\r\n",
        "from sklearn.dummy import DummyRegressor\r\n",
        "\r\n",
        "# Optimization / Validation :\r\n",
        "from sklearn.model_selection import train_test_split,GridSearchCV, cross_val_score\r\n",
        "\r\n",
        "from sklearn import svm, datasets,preprocessing\r\n",
        "regression = {\r\n",
        "        \r\n",
        "       'RF': { 'model':RandomForestRegressor(),\r\n",
        "              'param':{\r\n",
        "                  'clf__n_estimators': [100, 200, 300],\r\n",
        "                'clf__max_depth': [1, 5, 10],\r\n",
        "#                   'clf__min_samples_split': [1,5,10,15]\r\n",
        "#                   'cl_max_leaf_nodes': [ 100, 200, 300, 400, 500, 600, 650, 700, 800]\r\n",
        "                  },\r\n",
        "             },\r\n",
        "        'Lasso': { 'model': LassoCV(),\r\n",
        "                'param': {'clf__alpha':[0.001, 0.01, 0.1, 1, 10, 100, 1000]}\r\n",
        "             },\r\n",
        "    \r\n",
        "        'Ridge': { 'model': RidgeCV(),\r\n",
        "                'param': {'clf__alpha':[0.001, 0.01, 0.1, 1, 10, 100, 1000]}\r\n",
        "             },\r\n",
        "    \r\n",
        "        'Elastic': { 'model': ElasticNet(),\r\n",
        "                'param': {'clf__alpha':[0.001, 0.01, 0.1, 1, 10, 100, 1000],\r\n",
        "                         'clf__l1_ratio' : [0, 0.1, 0.2, 0.3, 0.4, 0.5, 0.6, 0.7, 0.8, 0.9, 1]\r\n",
        "                         }\r\n",
        "             },\r\n",
        "    \r\n",
        "        'LR': { 'model': LogisticRegression(),\r\n",
        "                'param': {'clf__penalty' : ['l1', 'l2'], 'clf__C' : np.logspace(-4, 4, 20), 'clf__solver' : ['liblinear']},\r\n",
        "             },\r\n",
        "       \r\n",
        "        'SVR':{ 'model': SVR(),\r\n",
        "                'param': {'clf__C': [0.1,1, 10, 100], \r\n",
        "                          'clf__gamma': [1,0.1,0.01,0.001],\r\n",
        "                          'clf__kernel': ['rbf', 'poly', 'sigmoid'],\r\n",
        "                         },\r\n",
        "             },\r\n",
        "      \r\n",
        "        'XGB':{ \"model\":XGBRegressor(),\r\n",
        "              \"param\":{\"clf__learning_rate\": [0.05,1,5],\r\n",
        "                       'clf__n_estimators': [100,50],\r\n",
        "#                        \"clf__max_depth\": [5,10,15]\r\n",
        "                  },\r\n",
        "            },\r\n",
        "    \r\n",
        "        'GradientBoost':{ \"model\":GradientBoostingRegressor(),\r\n",
        "              \"param\":{\"clf__model__alpha\": [0.0, 0.5, 1.0],\r\n",
        "                        \"clf__ccp_alpha\": [0.0, 0.5]\r\n",
        "                  },\r\n",
        "            },\r\n",
        "    \r\n",
        "        'decisionTree':{ \"model\":GradientBoostingRegressor(),\r\n",
        "              \"param\":{\"clf__criterion\": ['mse', 'mae'],\r\n",
        "                'clf__min_samples_leaf': [5, 10, 15, 20, 25],\r\n",
        "                'clf__max_depth': [6, 9, 12, 15, 20],\r\n",
        "                  },\r\n",
        "            },\r\n",
        "                 \r\n",
        "}"
      ],
      "execution_count": 6,
      "outputs": []
    },
    {
      "cell_type": "code",
      "metadata": {
        "id": "g6bdAFY2pwHC"
      },
      "source": [
        "from sklearn.base import TransformerMixin\r\n",
        "class DenseTransformer(TransformerMixin):\r\n",
        "\r\n",
        "    def fit(self, X, y=None, **fit_params):\r\n",
        "        return self\r\n",
        "\r\n",
        "    def transform(self, X, y=None, **fit_params):\r\n",
        "        return X.todense()"
      ],
      "execution_count": 15,
      "outputs": []
    },
    {
      "cell_type": "code",
      "metadata": {
        "id": "jR1aw8I4p-YC"
      },
      "source": [
        "def modele_entier(cl, df_train, df_test):\r\n",
        "    model = Pipeline(steps=[('preparation', preparation),\r\n",
        "                            ('to_dense', DenseTransformer()),\r\n",
        "                         ('clf', cl['model'] ) ])\r\n",
        "    \r\n",
        "    # ---------- PROCESSING & ENTRAINEMENT ----------\r\n",
        "\r\n",
        "    param_grid = cl['param']\r\n",
        "\r\n",
        "#     on sépare la cible du reste des données (dataset d'entraînement) \r\n",
        "    X = df_train.drop(['prix','nom','ref'], axis=1) # ON GARDE TOUTES LES COLONNES\r\n",
        "\r\n",
        "    y = df_train['trip_duration']\r\n",
        "\r\n",
        "    X_train, X_test, y_train, y_test = train_test_split(X, y, test_size = 0.33, random_state=42)\r\n",
        "    \r\n",
        "    # Debut du decompte du temps\r\n",
        "    start_time = time.time()\r\n",
        "\r\n",
        "    # Model training avec Gridsearch\r\n",
        "    grid = GridSearchCV(estimator=model, \r\n",
        "                        param_grid=param_grid, \r\n",
        "                        n_jobs=-1, cv=10, verbose=False, \r\n",
        "                        scoring='neg_root_mean_squared_error')\r\n",
        "    grid.fit(X_train,y_train)\r\n",
        "    print(grid.best_estimator_)\r\n",
        "    \r\n",
        "    # Score de l'entraînement\r\n",
        "    rmse = grid.score(X_test, y_test)\r\n",
        "    print((\"RMSE  : %.5f\" % rmse))\r\n",
        "    \r\n",
        "    # Temps d'entraînement\r\n",
        "    times = (time.time() - start_time)\r\n",
        "    print(\"Temps d'entraînement' : %s secondes ---\" % times)    \r\n",
        "    \r\n",
        "    # --------------- PREDICTIONS ---------------\r\n",
        "    \r\n",
        "#     on sépare la cible du reste des données (dataset de test) \r\n",
        "    X_reel = df_test.drop(['trip_duration','organization_id',\r\n",
        "                           'mean_organization_id','Unnamed: 0.1','Unnamed: 0','mean_id',\r\n",
        "                           'origin_history_place_id','destination_history_place_id'], axis=1) # ON GARDE TOUTES LES COLONNES\r\n",
        "#     X_reel = df_test.drop(['prix','nom','ref'], axis=1) # ON GARDE LES COLONNES CORRELEES FORTEMENT\r\n",
        "    y_reel = df_test['trip_duration']  \r\n",
        "    y_pred = grid.predict(X_reel)   \r\n",
        "    # RMSE de référence\r\n",
        "    y_pred_reference = grid.predict(X_test)\r\n",
        "    dr = DummyRegressor()\r\n",
        "    dr.fit(X_test,y_test)\r\n",
        "    y_reference = dr.predict(X_test)\r\n",
        "    rmse_reference = mean_squared_error(y_reference, y_pred_reference, squared=False)\r\n",
        "    print((\"RMSE dummy : %.5f\" % rmse_reference))\r\n",
        "    \r\n",
        "    comparaison = pd.DataFrame(data=dic)\r\n",
        "                                    \r\n",
        "    return comparaison\r\n"
      ],
      "execution_count": 16,
      "outputs": []
    },
    {
      "cell_type": "code",
      "metadata": {
        "id": "5jlqSt2Gr9XF",
        "outputId": "e003d29c-cce9-4b0f-ea7e-b24336e175ec",
        "colab": {
          "base_uri": "https://localhost:8080/",
          "height": 162
        }
      },
      "source": [
        "svr_comp = modele_entier(regression['SVR'])"
      ],
      "execution_count": 14,
      "outputs": [
        {
          "output_type": "error",
          "ename": "TypeError",
          "evalue": "ignored",
          "traceback": [
            "\u001b[0;31m---------------------------------------------------------------------------\u001b[0m",
            "\u001b[0;31mTypeError\u001b[0m                                 Traceback (most recent call last)",
            "\u001b[0;32m<ipython-input-14-101330feb211>\u001b[0m in \u001b[0;36m<module>\u001b[0;34m()\u001b[0m\n\u001b[0;32m----> 1\u001b[0;31m \u001b[0msvr_comp\u001b[0m \u001b[0;34m=\u001b[0m \u001b[0mmodele_entier\u001b[0m\u001b[0;34m(\u001b[0m\u001b[0mregression\u001b[0m\u001b[0;34m[\u001b[0m\u001b[0;34m'SVR'\u001b[0m\u001b[0;34m]\u001b[0m\u001b[0;34m)\u001b[0m\u001b[0;34m\u001b[0m\u001b[0;34m\u001b[0m\u001b[0m\n\u001b[0m",
            "\u001b[0;31mTypeError\u001b[0m: modele_entier() missing 2 required positional arguments: 'df_train' and 'df_test'"
          ]
        }
      ]
    },
    {
      "cell_type": "markdown",
      "metadata": {
        "id": "IxMKejOeyDyt"
      },
      "source": [
        "\n",
        "# Performance\n",
        "\n",
        "Evaluate the performance of the model using the relevant tools. \n",
        "\n",
        "Plot the following graph : MAE on y-axis and trip_duration on the x-axis with an x aggregation of 30 min. \n"
      ]
    },
    {
      "cell_type": "code",
      "metadata": {
        "id": "9JGExdm7F_na"
      },
      "source": [
        "#  MAE MEAN ABSOLUTE ERROR"
      ],
      "execution_count": null,
      "outputs": []
    },
    {
      "cell_type": "markdown",
      "metadata": {
        "id": "kt5KaTAwyDyu"
      },
      "source": [
        "\n",
        "# Part II \n",
        "In this part the goal is to see if our model can predict a delay or not. \n",
        "\n",
        "A truck is said as 'delayed' if it arrives more than 30 min after the destination_slot_end. Using a confusion matrix show how the previous model performs on the delays detection.\n",
        "\n",
        "Use a classification model based on the previous dataset that predict if a truck will be delayed or not. Does it performs better than the regression model in delays detection? Use the right tools to compare the two models."
      ]
    },
    {
      "cell_type": "markdown",
      "metadata": {
        "id": "DIwYHtB1cjCW"
      },
      "source": [
        "Dans cette partie, l'objectif est de voir si notre modèle peut prédire un retard ou non. Un camion est dit «retardé» s'il arrive plus de 30 minutes après la destination_slot_end. À l'aide d'une matrice de confusion, montrez comment le modèle précédent fonctionne sur la détection des retards. Utilisez un modèle de classification basé sur le jeu de données précédent qui prédisent si un camion sera retardé ou non. Est-ce qu'il fonctionne mieux que le modèle de régression dans la détection des retards? Utilisez les bons outils pour comparer les deux modèles."
      ]
    },
    {
      "cell_type": "code",
      "metadata": {
        "id": "6p2rMK_MyDyu"
      },
      "source": [
        "#labelisation des  variable\r\n",
        "#randonforest "
      ],
      "execution_count": null,
      "outputs": []
    },
    {
      "cell_type": "code",
      "metadata": {
        "colab": {
          "base_uri": "https://localhost:8080/",
          "height": 438
        },
        "id": "oIGu_ER-RDwQ",
        "outputId": "86501e52-0835-4ff9-918c-5b4abdd84159"
      },
      "source": [
        "df_processing =pd.read_csv('/content/sample_data/dataprocessing3.csv', sep=';',encoding='utf8') \r\n",
        "df_processing"
      ],
      "execution_count": null,
      "outputs": [
        {
          "output_type": "execute_result",
          "data": {
            "text/html": [
              "<div>\n",
              "<style scoped>\n",
              "    .dataframe tbody tr th:only-of-type {\n",
              "        vertical-align: middle;\n",
              "    }\n",
              "\n",
              "    .dataframe tbody tr th {\n",
              "        vertical-align: top;\n",
              "    }\n",
              "\n",
              "    .dataframe thead th {\n",
              "        text-align: right;\n",
              "    }\n",
              "</style>\n",
              "<table border=\"1\" class=\"dataframe\">\n",
              "  <thead>\n",
              "    <tr style=\"text-align: right;\">\n",
              "      <th></th>\n",
              "      <th>Unnamed: 0</th>\n",
              "      <th>Unnamed: 0.1</th>\n",
              "      <th>mean_id</th>\n",
              "      <th>mean_organization_id</th>\n",
              "      <th>organization_id</th>\n",
              "      <th>agency_id</th>\n",
              "      <th>origin_history_place_id</th>\n",
              "      <th>destination_history_place_id</th>\n",
              "      <th>trip_distance</th>\n",
              "      <th>trip_base_time</th>\n",
              "      <th>origin_slot_start</th>\n",
              "      <th>origin_slot_end</th>\n",
              "      <th>destination_slot_start</th>\n",
              "      <th>destination_slot_end</th>\n",
              "      <th>origin_arrival_ts</th>\n",
              "      <th>destination_arrival_ts</th>\n",
              "      <th>trip_duration</th>\n",
              "    </tr>\n",
              "  </thead>\n",
              "  <tbody>\n",
              "    <tr>\n",
              "      <th>0</th>\n",
              "      <td>0</td>\n",
              "      <td>0</td>\n",
              "      <td>53431.0</td>\n",
              "      <td>4258</td>\n",
              "      <td>2693</td>\n",
              "      <td>2694.0</td>\n",
              "      <td>125338</td>\n",
              "      <td>34889</td>\n",
              "      <td>142734.0</td>\n",
              "      <td>9180.0</td>\n",
              "      <td>1602651600</td>\n",
              "      <td>1602651600</td>\n",
              "      <td>1602666900</td>\n",
              "      <td>1602666900</td>\n",
              "      <td>1602652091</td>\n",
              "      <td>1602664914</td>\n",
              "      <td>12823</td>\n",
              "    </tr>\n",
              "    <tr>\n",
              "      <th>1</th>\n",
              "      <td>1</td>\n",
              "      <td>1</td>\n",
              "      <td>53438.0</td>\n",
              "      <td>4258</td>\n",
              "      <td>2693</td>\n",
              "      <td>2694.0</td>\n",
              "      <td>125338</td>\n",
              "      <td>34889</td>\n",
              "      <td>118589.0</td>\n",
              "      <td>9261.0</td>\n",
              "      <td>1603692000</td>\n",
              "      <td>1603692000</td>\n",
              "      <td>1603707300</td>\n",
              "      <td>1603707300</td>\n",
              "      <td>1603692296</td>\n",
              "      <td>1603704207</td>\n",
              "      <td>11911</td>\n",
              "    </tr>\n",
              "    <tr>\n",
              "      <th>2</th>\n",
              "      <td>2</td>\n",
              "      <td>2</td>\n",
              "      <td>53420.0</td>\n",
              "      <td>4258</td>\n",
              "      <td>2693</td>\n",
              "      <td>2694.0</td>\n",
              "      <td>35823</td>\n",
              "      <td>104707</td>\n",
              "      <td>234555.0</td>\n",
              "      <td>13708.0</td>\n",
              "      <td>1596042000</td>\n",
              "      <td>1596042000</td>\n",
              "      <td>1596058200</td>\n",
              "      <td>1596058200</td>\n",
              "      <td>1596038640</td>\n",
              "      <td>1596051629</td>\n",
              "      <td>12989</td>\n",
              "    </tr>\n",
              "    <tr>\n",
              "      <th>3</th>\n",
              "      <td>3</td>\n",
              "      <td>3</td>\n",
              "      <td>53420.0</td>\n",
              "      <td>4258</td>\n",
              "      <td>2693</td>\n",
              "      <td>2694.0</td>\n",
              "      <td>35823</td>\n",
              "      <td>104707</td>\n",
              "      <td>235880.0</td>\n",
              "      <td>13649.0</td>\n",
              "      <td>1598979600</td>\n",
              "      <td>1598979600</td>\n",
              "      <td>1598995800</td>\n",
              "      <td>1598995800</td>\n",
              "      <td>1598976343</td>\n",
              "      <td>1598993754</td>\n",
              "      <td>17411</td>\n",
              "    </tr>\n",
              "    <tr>\n",
              "      <th>4</th>\n",
              "      <td>4</td>\n",
              "      <td>4</td>\n",
              "      <td>46011.0</td>\n",
              "      <td>4018</td>\n",
              "      <td>2693</td>\n",
              "      <td>2694.0</td>\n",
              "      <td>125338</td>\n",
              "      <td>33769</td>\n",
              "      <td>36567.0</td>\n",
              "      <td>4165.0</td>\n",
              "      <td>1602228600</td>\n",
              "      <td>1602228600</td>\n",
              "      <td>1602239400</td>\n",
              "      <td>1602239400</td>\n",
              "      <td>1602227628</td>\n",
              "      <td>1602237671</td>\n",
              "      <td>10043</td>\n",
              "    </tr>\n",
              "    <tr>\n",
              "      <th>...</th>\n",
              "      <td>...</td>\n",
              "      <td>...</td>\n",
              "      <td>...</td>\n",
              "      <td>...</td>\n",
              "      <td>...</td>\n",
              "      <td>...</td>\n",
              "      <td>...</td>\n",
              "      <td>...</td>\n",
              "      <td>...</td>\n",
              "      <td>...</td>\n",
              "      <td>...</td>\n",
              "      <td>...</td>\n",
              "      <td>...</td>\n",
              "      <td>...</td>\n",
              "      <td>...</td>\n",
              "      <td>...</td>\n",
              "      <td>...</td>\n",
              "    </tr>\n",
              "    <tr>\n",
              "      <th>105107</th>\n",
              "      <td>105107</td>\n",
              "      <td>105107</td>\n",
              "      <td>31374.0</td>\n",
              "      <td>1273</td>\n",
              "      <td>2693</td>\n",
              "      <td>2694.0</td>\n",
              "      <td>35823</td>\n",
              "      <td>104710</td>\n",
              "      <td>244617.0</td>\n",
              "      <td>14763.0</td>\n",
              "      <td>1597271400</td>\n",
              "      <td>1597271400</td>\n",
              "      <td>1597293000</td>\n",
              "      <td>1597293000</td>\n",
              "      <td>1597271040</td>\n",
              "      <td>1597289668</td>\n",
              "      <td>18628</td>\n",
              "    </tr>\n",
              "    <tr>\n",
              "      <th>105108</th>\n",
              "      <td>105108</td>\n",
              "      <td>105108</td>\n",
              "      <td>31374.0</td>\n",
              "      <td>1273</td>\n",
              "      <td>2693</td>\n",
              "      <td>2694.0</td>\n",
              "      <td>35823</td>\n",
              "      <td>34386</td>\n",
              "      <td>283926.0</td>\n",
              "      <td>16759.0</td>\n",
              "      <td>1593421200</td>\n",
              "      <td>1593421200</td>\n",
              "      <td>1593442800</td>\n",
              "      <td>1593442800</td>\n",
              "      <td>1593418821</td>\n",
              "      <td>1593440934</td>\n",
              "      <td>22113</td>\n",
              "    </tr>\n",
              "    <tr>\n",
              "      <th>105109</th>\n",
              "      <td>105109</td>\n",
              "      <td>105109</td>\n",
              "      <td>109263.0</td>\n",
              "      <td>1273</td>\n",
              "      <td>2693</td>\n",
              "      <td>2694.0</td>\n",
              "      <td>45572</td>\n",
              "      <td>114126</td>\n",
              "      <td>22230.0</td>\n",
              "      <td>2917.0</td>\n",
              "      <td>1593739800</td>\n",
              "      <td>1593739800</td>\n",
              "      <td>1593745200</td>\n",
              "      <td>1593745200</td>\n",
              "      <td>1593737730</td>\n",
              "      <td>1593744420</td>\n",
              "      <td>6690</td>\n",
              "    </tr>\n",
              "    <tr>\n",
              "      <th>105110</th>\n",
              "      <td>105110</td>\n",
              "      <td>105110</td>\n",
              "      <td>49677.0</td>\n",
              "      <td>1273</td>\n",
              "      <td>2693</td>\n",
              "      <td>2694.0</td>\n",
              "      <td>35823</td>\n",
              "      <td>25931</td>\n",
              "      <td>31404.0</td>\n",
              "      <td>3240.0</td>\n",
              "      <td>1591603200</td>\n",
              "      <td>1591603200</td>\n",
              "      <td>1591612200</td>\n",
              "      <td>1594098000</td>\n",
              "      <td>1591599853</td>\n",
              "      <td>1591604009</td>\n",
              "      <td>4156</td>\n",
              "    </tr>\n",
              "    <tr>\n",
              "      <th>105111</th>\n",
              "      <td>105111</td>\n",
              "      <td>105111</td>\n",
              "      <td>33643.0</td>\n",
              "      <td>1273</td>\n",
              "      <td>2693</td>\n",
              "      <td>2694.0</td>\n",
              "      <td>35823</td>\n",
              "      <td>37263</td>\n",
              "      <td>241841.0</td>\n",
              "      <td>14044.0</td>\n",
              "      <td>1599206400</td>\n",
              "      <td>1599206400</td>\n",
              "      <td>1599228000</td>\n",
              "      <td>1599228000</td>\n",
              "      <td>1599205354</td>\n",
              "      <td>1599227232</td>\n",
              "      <td>21878</td>\n",
              "    </tr>\n",
              "  </tbody>\n",
              "</table>\n",
              "<p>105112 rows × 17 columns</p>\n",
              "</div>"
            ],
            "text/plain": [
              "        Unnamed: 0  Unnamed: 0.1  ...  destination_arrival_ts  trip_duration\n",
              "0                0             0  ...              1602664914          12823\n",
              "1                1             1  ...              1603704207          11911\n",
              "2                2             2  ...              1596051629          12989\n",
              "3                3             3  ...              1598993754          17411\n",
              "4                4             4  ...              1602237671          10043\n",
              "...            ...           ...  ...                     ...            ...\n",
              "105107      105107        105107  ...              1597289668          18628\n",
              "105108      105108        105108  ...              1593440934          22113\n",
              "105109      105109        105109  ...              1593744420           6690\n",
              "105110      105110        105110  ...              1591604009           4156\n",
              "105111      105111        105111  ...              1599227232          21878\n",
              "\n",
              "[105112 rows x 17 columns]"
            ]
          },
          "metadata": {
            "tags": []
          },
          "execution_count": 269
        }
      ]
    },
    {
      "cell_type": "code",
      "metadata": {
        "colab": {
          "base_uri": "https://localhost:8080/"
        },
        "id": "vDMadUMxT6Fu",
        "outputId": "f317245d-76dd-43a2-a69d-8aa700a208ef"
      },
      "source": [
        "result=30*60\r\n",
        "print(result)\r\n",
        "if  "
      ],
      "execution_count": null,
      "outputs": [
        {
          "output_type": "stream",
          "text": [
            "1800\n"
          ],
          "name": "stdout"
        }
      ]
    },
    {
      "cell_type": "code",
      "metadata": {
        "id": "XB0j9D5Wd2zz"
      },
      "source": [
        "from sklearn.ensemble import RandomForestClassifier\r\n",
        "\r\n",
        "#Create a Gaussian Classifier\r\n",
        "clf=RandomForestClassifier(n_estimators=100)\r\n",
        "\r\n",
        "#Train the model using the training sets y_pred=clf.predict(X_test)\r\n",
        "clf.fit(X_train,y_train)\r\n",
        "\r\n",
        "y_pred=clf.predict(X_test)"
      ],
      "execution_count": null,
      "outputs": []
    },
    {
      "cell_type": "code",
      "metadata": {
        "id": "t4-QvTgrd9jF"
      },
      "source": [
        "from sklearn import metrics\r\n",
        "# Model Accuracy, how often is the classifier correct?\r\n",
        "print(\"Accuracy:\",metrics.accuracy_score(y_test, y_pred))"
      ],
      "execution_count": null,
      "outputs": []
    }
  ]
}