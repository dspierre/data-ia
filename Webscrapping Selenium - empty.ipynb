{
 "cells": [
  {
   "cell_type": "markdown",
   "metadata": {},
   "source": [
    "# Webscrapping - Selenium "
   ]
  },
  {
   "cell_type": "markdown",
   "metadata": {},
   "source": [
    "La doc : https://selenium-python.readthedocs.io/navigating.html<br>\n",
    "cheatsheet : http://allselenium.info/python-selenium-commands-cheat-sheet-frequently-used/<br>\n",
    "moins complète mais plus propre : http://akul.me/blog/2016/selenium-cheatsheet/ <br>"
   ]
  },
  {
   "cell_type": "markdown",
   "metadata": {},
   "source": [
    "## Installation "
   ]
  },
  {
   "cell_type": "markdown",
   "metadata": {},
   "source": [
    "Avec Anaconda : ouvrir anaconda prompt et executer : \"conda install -c conda-forge selenium\" \n",
    "Avec juste python, télécharger geckodrive, le mettre dans le path ou au même endroit que votre jupyter notebook\n",
    "https://github.com/mozilla/geckodriver/releases"
   ]
  },
  {
   "cell_type": "markdown",
   "metadata": {},
   "source": [
    "On commence par importer les modules dont on aura besoin. Le webdriver est l’objet qui gère le navigateur utilisé par Selenium. La classe “Keys” permet d’utiliser les touches du clavier. Et la fonction sleep pour mettre le scripte en “pause” pour les chargement de page"
   ]
  },
  {
   "cell_type": "markdown",
   "metadata": {},
   "source": [
    "On utilise le driver Firefox mais il en existe d’autres celui de Chrome et PhantomJS par exemple."
   ]
  },
  {
   "cell_type": "code",
   "execution_count": 1,
   "metadata": {},
   "outputs": [],
   "source": [
    "import os\n",
    "from selenium import webdriver\n",
    "from selenium.webdriver.common.keys import Keys\n",
    "from selenium.webdriver.common.action_chains import ActionChains"
   ]
  },
  {
   "cell_type": "code",
   "execution_count": 2,
   "metadata": {},
   "outputs": [],
   "source": [
    "#driver = webdriver.Chrome()\n",
    "browser = webdriver.Firefox()\n",
    "browser.get('https://m.europages.fr/')"
   ]
  },
  {
   "cell_type": "code",
   "execution_count": 3,
   "metadata": {},
   "outputs": [],
   "source": [
    "# On crée une instance du web-driver Firefox et on va sur la page de eBay.fr\n",
    "#driver = webdriver.Chrome()\n",
    "#browser = webdriver.Firefox(executable_path=\"C:\\\\Users\\\\pierremarie\\\\Desktop\\\\NOTEBOOK_data_ia\\\\geckodriver.exe\")\n",
    "#browser.get('https://m.europages.fr/')\n",
    "#browser.maximize_window()"
   ]
  },
  {
   "cell_type": "markdown",
   "metadata": {},
   "source": [
    "### Différentes manières de sélectionner un élement"
   ]
  },
  {
   "cell_type": "code",
   "execution_count": 4,
   "metadata": {},
   "outputs": [
    {
     "data": {
      "text/plain": [
       "<selenium.webdriver.firefox.webelement.FirefoxWebElement (session=\"cef4c927-995e-4439-b22a-31d3bc9931ee\", element=\"e716e3aa-2274-4ad8-af20-8c0aea56e926\")>"
      ]
     },
     "execution_count": 4,
     "metadata": {},
     "output_type": "execute_result"
    }
   ],
   "source": [
    "input_searche_s = browser.find_element_by_class_name('querystring')\n",
    "input_searche_s"
   ]
  },
  {
   "cell_type": "code",
   "execution_count": 5,
   "metadata": {},
   "outputs": [],
   "source": [
    "#browser.find_element_by_xpath('//*[@id=\"querystring\"]').send_keys('expoys')"
   ]
  },
  {
   "cell_type": "code",
   "execution_count": 6,
   "metadata": {},
   "outputs": [],
   "source": [
    "#browser.find_element_by_id('querystring').clear()"
   ]
  },
  {
   "cell_type": "code",
   "execution_count": 7,
   "metadata": {},
   "outputs": [],
   "source": [
    "input_searche_s.send_keys('carbone')"
   ]
  },
  {
   "cell_type": "markdown",
   "metadata": {},
   "source": [
    "### Cliquer sur un élement"
   ]
  },
  {
   "cell_type": "code",
   "execution_count": 8,
   "metadata": {},
   "outputs": [],
   "source": [
    "buttun_s = browser.find_element_by_class_name('arrow-zoom')\n",
    "buttun_s.click()"
   ]
  },
  {
   "cell_type": "code",
   "execution_count": 9,
   "metadata": {},
   "outputs": [],
   "source": [
    "browser.back()"
   ]
  },
  {
   "cell_type": "markdown",
   "metadata": {},
   "source": [
    "### Relancer une nouvelle recherche avec pour mots clés : \"batiment\"."
   ]
  },
  {
   "cell_type": "code",
   "execution_count": null,
   "metadata": {},
   "outputs": [],
   "source": []
  },
  {
   "cell_type": "code",
   "execution_count": null,
   "metadata": {},
   "outputs": [],
   "source": []
  },
  {
   "cell_type": "code",
   "execution_count": null,
   "metadata": {},
   "outputs": [],
   "source": []
  },
  {
   "cell_type": "code",
   "execution_count": null,
   "metadata": {},
   "outputs": [],
   "source": []
  },
  {
   "cell_type": "code",
   "execution_count": null,
   "metadata": {},
   "outputs": [],
   "source": []
  },
  {
   "cell_type": "markdown",
   "metadata": {},
   "source": [
    "### Récupérer le nom de la première entreprise."
   ]
  },
  {
   "cell_type": "code",
   "execution_count": null,
   "metadata": {},
   "outputs": [],
   "source": []
  },
  {
   "cell_type": "markdown",
   "metadata": {},
   "source": [
    "### Cliquer sur le premier élément de la liste des résultats"
   ]
  },
  {
   "cell_type": "code",
   "execution_count": null,
   "metadata": {},
   "outputs": [],
   "source": []
  },
  {
   "cell_type": "markdown",
   "metadata": {},
   "source": [
    "### Récupérer le numéro de TVA de l'entreprise (Il sera nécessaire d'utiliser une expression régulière)"
   ]
  },
  {
   "cell_type": "code",
   "execution_count": null,
   "metadata": {},
   "outputs": [],
   "source": []
  },
  {
   "cell_type": "markdown",
   "metadata": {},
   "source": [
    "### Récupérer le pays d'exercice de l'entreprise"
   ]
  },
  {
   "cell_type": "code",
   "execution_count": null,
   "metadata": {},
   "outputs": [],
   "source": []
  },
  {
   "cell_type": "markdown",
   "metadata": {},
   "source": [
    "### Récupérer le descriptif de l'entreprise"
   ]
  },
  {
   "cell_type": "code",
   "execution_count": null,
   "metadata": {},
   "outputs": [],
   "source": []
  },
  {
   "cell_type": "markdown",
   "metadata": {},
   "source": [
    "### Récupérer le site de l'entreprise"
   ]
  },
  {
   "cell_type": "code",
   "execution_count": null,
   "metadata": {},
   "outputs": [],
   "source": []
  },
  {
   "cell_type": "markdown",
   "metadata": {},
   "source": [
    "### Récupérer l'adressse de l'entreprise"
   ]
  },
  {
   "cell_type": "code",
   "execution_count": null,
   "metadata": {},
   "outputs": [],
   "source": []
  },
  {
   "cell_type": "code",
   "execution_count": 11,
   "metadata": {},
   "outputs": [],
   "source": [
    "from bs4 import BeautifulSoup\n",
    "\n",
    "import pandas as pd\n",
    "\n",
    "import numpy as np\n",
    "\n",
    "import re\n",
    "\n",
    "# Selenium\n",
    "from selenium import webdriver\n",
    "from selenium.webdriver.common.keys import Keys\n",
    "from selenium.webdriver.common.action_chains import ActionChains\n",
    "from selenium.common.exceptions import NoSuchElementException\n",
    "from selenium.webdriver.support.ui import Select\n",
    "\n",
    "# Multi\n",
    "from multiprocessing import Pool, cpu_count\n",
    "\n",
    "# Time\n",
    "import datetime\n",
    "import time\n",
    "\n",
    "# Tools\n",
    "from itertools import repeat\n",
    "import unittest\n",
    "from unittest.mock import patch"
   ]
  },
  {
   "cell_type": "code",
   "execution_count": 12,
   "metadata": {},
   "outputs": [
    {
     "name": "stdout",
     "output_type": "stream",
     "text": [
      "Nombre total de résultats : 434 RÉFÉRENCES\n",
      "Dernière page disponible :  5\n",
      "Echantillons recupérés :  99\n",
      "Echantillons recupérés :  198\n",
      "Echantillons recupérés :  297\n",
      "Echantillons recupérés :  396\n",
      "Il n'y a plus d'url à récupérér!!!! Itérations effectuées :  39\n",
      "Il n'y a plus de pages à tourner\n",
      "Echantillons recupérés :  435\n"
     ]
    }
   ],
   "source": [
    "# -------------------------------\n",
    "# ---------- FONCTIONS ----------\n",
    "# -------------------------------\n",
    "\n",
    "def turn_page ():\n",
    "    try:\n",
    "        next_page_button = browser.find_element_by_xpath('/html/body/div[2]/div/div[1]/form/div[2]/div[2]/div[2]/div/ul/li[7]/a')\n",
    "        next_page_button.click()\n",
    "    except(NoSuchElementException):\n",
    "        print (\"Il n'y a plus de pages à tourner\")\n",
    "        \n",
    "# dans la page de n resultats, recuperer les liens de chaque résultat -> liste de liens\n",
    "def get_result_urls(sleep_time, resultats_par_page):\n",
    "    url_list = []\n",
    "    counter = 0\n",
    "    for index in range(3,resultats_par_page+2):\n",
    "        try:\n",
    "            time.sleep(sleep_time)\n",
    "            url_list.append(browser.find_element_by_xpath(f'/html/body/div[2]/div/div[1]/form/div[2]/div[{index}]/article/div/div[1]/div/a').get_attribute('href'))\n",
    "            time.sleep(sleep_time)\n",
    "            counter += 1\n",
    "        except:\n",
    "            print(\"Il n'y a plus d'url à récupérér!!!! Itérations effectuées : \", counter)\n",
    "            break\n",
    "    return url_list\n",
    "\n",
    "# ouvrir url dans nouvelle fenêtre, executer get_attributes, remplir liste, fermer onglet -> liste complétée\n",
    "def open_url_get_attributtes_go_back(sleep_time,liste_a_completer):\n",
    "    counter = 0\n",
    "    # for url in url_list[0:20]:\n",
    "    for url in url_list:\n",
    "        try:\n",
    "            main_window = browser.current_window_handle\n",
    "            # Open a new tab in blank\n",
    "            browser.execute_script(\"window.open(''),'_blannk'\")\n",
    "            # Switch to the new window\n",
    "            browser.switch_to.window(browser.window_handles[1])\n",
    "\n",
    "            # Change the url in the .get**\n",
    "            browser.get(url)\n",
    "            # Completer la liste\n",
    "            attributs_voiture = get_attributes(beke_occasion_xpath)\n",
    "            liste_a_completer.append(attributs_voiture)\n",
    "            # Temps d'attente\n",
    "            time.sleep(sleep_time)\n",
    "            # Close Current Tab\n",
    "            browser.close()\n",
    "            # Focus to the main window\n",
    "            browser.switch_to.window(main_window)\n",
    "            counter += 1\n",
    "        \n",
    "        except:\n",
    "            print(\"Il n'y a plus d'url dans la liste. J'ai fini ! Itérations : \", counter)\n",
    "            break\n",
    "        \n",
    "    return liste_a_completer\n",
    "\n",
    "def get_attributes(dictionnaire):\n",
    "    liste = []\n",
    "    for item in dictionnaire.items() : \n",
    "                try:\n",
    "                     liste.append(browser.find_element_by_xpath(item[1]).text)\n",
    "\n",
    "                except (NoSuchElementException) : \n",
    "                    liste.append('nan')\n",
    "    return liste\n",
    "\n",
    "# VOITURES D'OCCASION SI OUVERT DANS NOUVEL L'ONGLET \n",
    "beke_occasion_xpath = {\n",
    "    \"nom\":'/html/body/div[1]/div[1]/div/div/div[2]/h3',    \n",
    "    \"sous_nom\":'/html/body/div[1]/div[1]/div/div/div[2]/span',\n",
    "    \"ref\":\"/html/body/div[1]/div[1]/div/div/div[3]/div[1]/div[2]/div\",\n",
    "    \"marque\":'/html/body/div[1]/div[1]/div/div/div[1]/ul/li[1]/a',\n",
    "    \"modele\":'/html/body/div[1]/div[1]/div/div/div[1]/ul/li[2]/a',\n",
    "    \"categorie\":'/html/body/div[1]/div[1]/div/div/div[1]/ul/li[3]/a',\n",
    "    \"co2\":'/html/body/div[1]/div[1]/div/div/div[3]/div[2]/div/div[2]/div[2]/table/tbody/tr[1]/td[2]/div/div[2]',    \n",
    "    \"nb_km\":\"//td[preceding::th[text()[contains(.,'Kilométrage')]]]\",    \n",
    "    \"carburant\":'/html/body/div[1]/div[1]/div/div/div[3]/div[2]/div/div[2]/div[1]/div[2]/span',    \n",
    "    \"boite_vitesses\":\"//span[preceding::label[text()[contains(.,'Boite')]]]\",    \n",
    "    \"couleur\":\"//td[preceding::th[text()[contains(.,'Couleur')]]]\",\n",
    "    \"nb_portes\":\"//td[preceding::th[text()[contains(.,'Nombre de portes')]]]\",\n",
    "    \"nb_places\":\"//td[preceding::th[text()[contains(.,'Nombre de places')]]]\",\n",
    "    \"mise_circulation\":\"//td[preceding::th[text()[contains(.,'circulation')]]]\",    \n",
    "    \"conso_mixte\":\"//td[preceding::th[text()[contains(.,'Conso. mixte')]]]\",    \n",
    "    \"p_fiscale\":\"//td[preceding::th[text()[contains(.,'Puissance fiscale')]]]\",    \n",
    "    \"p_din\":\"//td[preceding::th[text()[contains(.,'Puissance DIN')]]]\",    \n",
    "    \"critair\":\"//th[text()[contains(.,'Certificat')]]\",    \n",
    "    \"prix\":'/html/body/div[1]/div[1]/div/aside/div/div[1]/div[1]/div[1]/div/span',     \n",
    "}\n",
    "\n",
    "# -------------------------------\n",
    "# ---------- SCRAPPING ----------\n",
    "# -------------------------------\n",
    "\n",
    "# HEADLESS\n",
    "#options = webdriver.ChromeOptions()\n",
    "#options.add_argument('headless')\n",
    "#browser = webdriver.Chrome(options=options)\n",
    "browser = webdriver.Firefox()\n",
    "browser.get('http://www.bekeautocenter.fr/catalogue/?search[vnvo]=1&search[marques][0]=Citro%C3%ABn&search[marques][1]=Peugeot&search[marques][2]=Renault&search[minPrice]=0&search[maxPrice]=40000&search[order]=marque|asc&search[limit]=100&search[_token]=S90FBTV8BwR2bWGAgT4fdtttoPj4ZPTKrUYdM27skPg&_=1590561915186&page=1')\n",
    "\n",
    "\n",
    "# browser = webdriver.Chrome()\n",
    "# browser.maximize_window()\n",
    "# browser.get('http://www.bekeautocenter.fr/catalogue/?search[vnvo]=1&search[marques][0]=Citro%C3%ABn&search[marques][1]=Peugeot&search[marques][2]=Renault&search[minPrice]=0&search[maxPrice]=40000&search[order]=marque|asc&search[limit]=100&search[_token]=S90FBTV8BwR2bWGAgT4fdtttoPj4ZPTKrUYdM27skPg&_=1590561915186&page=1')\n",
    "\n",
    "# Nombre total de résultats au format : '816 RÉFÉRENCES' (type = str)\n",
    "beke_total_results = browser.find_element_by_xpath('/html/body/div[2]/div/div[1]/form/div[1]/div[2]/h3').text\n",
    "print(\"Nombre total de résultats :\", beke_total_results)\n",
    "\n",
    "# Dernière page disponible au format : 9 (type = int)\n",
    "beke_last_page = int(re.findall(\"(\\d+) \",beke_total_results)[0]) // 100 + 1\n",
    "print(\"Dernière page disponible : \", beke_last_page)\n",
    "\n",
    "liste_a_completer = []\n",
    "\n",
    "for page in range(1,beke_last_page+1):\n",
    "    \n",
    "    # Liste de liens de la page en cours :\n",
    "    url_list = get_result_urls(0.5, 100)\n",
    "\n",
    "    # Va dans chaque lien et recupere les infos de chaque voiture\n",
    "    liste_a_completer = open_url_get_attributtes_go_back(10,liste_a_completer)\n",
    "\n",
    "    # On tourne la page :\n",
    "    turn_page() \n",
    "    \n",
    "    print(\"Echantillons recupérés : \",len(liste_a_completer))"
   ]
  },
  {
   "cell_type": "code",
   "execution_count": 13,
   "metadata": {},
   "outputs": [
    {
     "data": {
      "text/plain": [
       "(435, 19)"
      ]
     },
     "execution_count": 13,
     "metadata": {},
     "output_type": "execute_result"
    }
   ],
   "source": [
    "# Convertir liste de listes en DataFrame\n",
    "column_names = [item[0] for item in beke_occasion_xpath.items()]\n",
    "\n",
    "df = pd.DataFrame.from_records(liste_a_completer,columns=column_names)\n",
    "df_copy = df\n",
    "df.shape"
   ]
  },
  {
   "cell_type": "code",
   "execution_count": 14,
   "metadata": {},
   "outputs": [],
   "source": [
    "df.to_csv(\"beke.csv\", index=False)"
   ]
  },
  {
   "cell_type": "code",
   "execution_count": 15,
   "metadata": {},
   "outputs": [],
   "source": [
    "def preprocess_beke_dataframe (df):\n",
    "    # Enlever les espaces entre chiffres\n",
    "    df['prix'] = df['prix'].str.replace(' ', '', regex=True)\n",
    "    df['p_din'] = df['p_din'].str.replace(' ', '', regex=True)\n",
    "    df['ref'] = df['ref'].str.replace(' - ', '', regex=True)\n",
    "\n",
    "    # Remplacer nan par '0' pour pouvoir convertir en nombre plus tard\n",
    "    df['conso_mixte'] = df['conso_mixte'].str.replace('nan', '0', regex=True)\n",
    "\n",
    "    # Extraire par regex puis changer le type\n",
    "    for col in ['co2', 'nb_km', 'nb_portes', 'nb_places', 'p_fiscale', 'p_din', 'critair', 'prix']:\n",
    "        df[col] = df[col].str.extract(r'(\\d+)').astype(int)\n",
    "\n",
    "    # Extraire par regex puis changer le type (colonnes difficiles)\n",
    "    df['conso_mixte'] = df['conso_mixte'].str.extract('(\\d+\\.?)L').astype(float)\n",
    "    df['ref'] = df['ref'].str.extract('(\\d+)').astype(float)\n",
    "    return df"
   ]
  },
  {
   "cell_type": "code",
   "execution_count": null,
   "metadata": {},
   "outputs": [],
   "source": []
  }
 ],
 "metadata": {
  "kernelspec": {
   "display_name": "Python 3",
   "language": "python",
   "name": "python3"
  },
  "language_info": {
   "codemirror_mode": {
    "name": "ipython",
    "version": 3
   },
   "file_extension": ".py",
   "mimetype": "text/x-python",
   "name": "python",
   "nbconvert_exporter": "python",
   "pygments_lexer": "ipython3",
   "version": "3.7.4"
  }
 },
 "nbformat": 4,
 "nbformat_minor": 2
}
