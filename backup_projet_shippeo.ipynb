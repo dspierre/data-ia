{
  "nbformat": 4,
  "nbformat_minor": 0,
  "metadata": {
    "colab": {
      "name": "backup_projet_shippeo.ipynb",
      "provenance": [],
      "collapsed_sections": [],
      "authorship_tag": "ABX9TyOeMIVhiz9+dOJxM9K/Xz62",
      "include_colab_link": true
    },
    "kernelspec": {
      "name": "python3",
      "display_name": "Python 3"
    }
  },
  "cells": [
    {
      "cell_type": "markdown",
      "metadata": {
        "id": "view-in-github",
        "colab_type": "text"
      },
      "source": [
        "<a href=\"https://colab.research.google.com/github/dspierre/data-ia/blob/dspierre-machinelearning/backup_projet_shippeo.ipynb\" target=\"_parent\"><img src=\"https://colab.research.google.com/assets/colab-badge.svg\" alt=\"Open In Colab\"/></a>"
      ]
    },
    {
      "cell_type": "code",
      "metadata": {
        "id": "a2VRQqB8GSdh"
      },
      "source": [
        "import time \r\n",
        "import datetime \r\n",
        "string=\"2020-10-14 05:00\"\r\n",
        "print(string)\r\n",
        "def convert_time(string):\r\n",
        "  element = datetime.strptime(string,\"%Y/%M/%D\")  \r\n",
        "  tuple = element.timetuple() \r\n",
        "  timestamp = time.mktime(tuple)   \r\n",
        "print(timestamp) "
      ],
      "execution_count": null,
      "outputs": []
    },
    {
      "cell_type": "code",
      "metadata": {
        "id": "5BSHJt9YUvu4"
      },
      "source": [
        "\r\n",
        "import time \r\n",
        "import datetime \r\n",
        "from datetime import datetime\r\n",
        "from pandas import Timestamp\r\n",
        "#string=\"2020-10-14 05:00:00\"\r\n",
        "#def convert_time(string):\r\n",
        "#element = datetime.datetime.strptime(string,\"%Y-%m-%d %H:%M%S\")\r\n",
        "#moment = datetime.strptime(strtime, '%Y-%m-%d-%H')\r\n",
        "#return calendar.timegm(moment.timetuple())\r\n",
        "#print(convtime('2020-10-14-05'))\r\n",
        "\r\n"
      ],
      "execution_count": null,
      "outputs": []
    },
    {
      "cell_type": "code",
      "metadata": {
        "id": "QFJ0DMNYwMnS"
      },
      "source": [
        "d1 =df_drop\r\n",
        "d2=df_drop\r\n",
        "Target=df_drop.drop(['mean_organization_id','organization_id','origin_history_place_id','destination_history_place_id',\r\n",
        "'trip_distance','trip_base_time','origin_slot_start','origin_slot_end','destination_slot_start','origin_arrival_ts','destination_arrival_ts',\r\n",
        "'destination_slot_end'],axis=1)"
      ],
      "execution_count": null,
      "outputs": []
    },
    {
      "cell_type": "code",
      "metadata": {
        "id": "QOqEyPCPwPMP"
      },
      "source": [
        "Target.head(10)"
      ],
      "execution_count": 1,
      "outputs": []
    },
    {
      "cell_type": "code",
      "metadata": {
        "id": "xBifTjeUwSv_"
      },
      "source": [
        "X2=df_drop.drop([\"trip_duration\",'organization_id','mean_organization_id'],axis=1)"
      ],
      "execution_count": null,
      "outputs": []
    },
    {
      "cell_type": "code",
      "metadata": {
        "id": "h8d4TXYWwZuj"
      },
      "source": [
        "X_train,X_test,y_train,y_test=train_test_split(X2,Target,test_size=0.3,random_state=42)\r\n",
        "print(X_train)"
      ],
      "execution_count": null,
      "outputs": []
    },
    {
      "cell_type": "code",
      "metadata": {
        "id": "q4FvPI4xwc-3"
      },
      "source": [
        "print(X_test)"
      ],
      "execution_count": null,
      "outputs": []
    },
    {
      "cell_type": "code",
      "metadata": {
        "id": "WcS4sq6HwfxR"
      },
      "source": [
        "print(y_train)"
      ],
      "execution_count": null,
      "outputs": []
    }
  ]
}