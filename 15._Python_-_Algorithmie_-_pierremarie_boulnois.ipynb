{
 "cells": [
  {
   "cell_type": "markdown",
   "metadata": {},
   "source": [
    "# 15. Python - Algorithmie "
   ]
  },
  {
   "cell_type": "markdown",
   "metadata": {},
   "source": [
    "## 1. Bases"
   ]
  },
  {
   "cell_type": "markdown",
   "metadata": {},
   "source": [
    "#### 1. Simple échange"
   ]
  },
  {
   "cell_type": "markdown",
   "metadata": {},
   "source": [
    "Ecrire un algorithme permettant d'échanger les valeurs de deux variables a et b."
   ]
  },
  {
   "cell_type": "code",
   "execution_count": 2,
   "metadata": {},
   "outputs": [
    {
     "name": "stdout",
     "output_type": "stream",
     "text": [
      "40 50\n",
      "50 40\n"
     ]
    }
   ],
   "source": [
    "a=40\n",
    "b=50\n",
    "print(a,b)\n",
    "a,b=b,a\n",
    "print(a,b)"
   ]
  },
  {
   "cell_type": "markdown",
   "metadata": {},
   "source": [
    "#### 2. Le carré"
   ]
  },
  {
   "cell_type": "markdown",
   "metadata": {},
   "source": [
    "Ecrire une fonction qui demande un nombre à l’utilisateur, puis qui calcule et affiche le carré de ce nombre."
   ]
  },
  {
   "cell_type": "code",
   "execution_count": 14,
   "metadata": {},
   "outputs": [],
   "source": [
    "def  square():\n",
    "    x=float(print('entrer un nombre'))\n",
    "    return x**2"
   ]
  },
  {
   "cell_type": "code",
   "execution_count": 1,
   "metadata": {},
   "outputs": [],
   "source": [
    "l = [i for i in range(10)]"
   ]
  },
  {
   "cell_type": "markdown",
   "metadata": {},
   "source": [
    "#### 3. Condition"
   ]
  },
  {
   "cell_type": "markdown",
   "metadata": {},
   "source": [
    "Ecrire une fonction qui demande un nombre à l’utilisateur, et l’informe ensuite si ce nombre est positif ou négatif."
   ]
  },
  {
   "cell_type": "code",
   "execution_count": 2,
   "metadata": {},
   "outputs": [],
   "source": [
    "def condition(nombre):\n",
    "    \"\"\" Affiche la parité d'un nombre entier \"\"\" \n",
    "    if nombre <0:   # L'opérateur % donne le reste d'une division\n",
    "        print(nombre, 'est NEGATIF')\n",
    "        return\n",
    "    if nombre >0 :\n",
    "        print(nombre, 'est  POSITIF')\n",
    "        return"
   ]
  },
  {
   "cell_type": "code",
   "execution_count": 3,
   "metadata": {},
   "outputs": [
    {
     "name": "stdout",
     "output_type": "stream",
     "text": [
      "-123 est NEGATIF\n"
     ]
    }
   ],
   "source": [
    "condition(-123)"
   ]
  },
  {
   "cell_type": "markdown",
   "metadata": {},
   "source": [
    "#### 4. Produit"
   ]
  },
  {
   "cell_type": "markdown",
   "metadata": {},
   "source": [
    "Ecrire un algorithme qui prend entrée deux nombres qui vérifie si leur produit est négatif ou positif. Attention toute fois : on ne doit pas calculer le produit des deux nombres."
   ]
  },
  {
   "cell_type": "code",
   "execution_count": 58,
   "metadata": {},
   "outputs": [
    {
     "name": "stdout",
     "output_type": "stream",
     "text": [
      "Entrer un premier nombre\n",
      "5\n",
      "Entrer un deuxieme nombre\n",
      "3\n"
     ]
    },
    {
     "ename": "TypeError",
     "evalue": "can't multiply sequence by non-int of type 'str'",
     "output_type": "error",
     "traceback": [
      "\u001b[1;31m---------------------------------------------------------------------------\u001b[0m",
      "\u001b[1;31mTypeError\u001b[0m                                 Traceback (most recent call last)",
      "\u001b[1;32m<ipython-input-58-76081ffdc306>\u001b[0m in \u001b[0;36m<module>\u001b[1;34m\u001b[0m\n\u001b[0;32m      4\u001b[0m \u001b[0mprint\u001b[0m\u001b[1;33m(\u001b[0m\u001b[1;34m'Entrer un deuxieme nombre'\u001b[0m\u001b[1;33m)\u001b[0m\u001b[1;33m\u001b[0m\u001b[1;33m\u001b[0m\u001b[0m\n\u001b[0;32m      5\u001b[0m \u001b[0mx2\u001b[0m \u001b[1;33m=\u001b[0m \u001b[0minput\u001b[0m\u001b[1;33m(\u001b[0m\u001b[1;33m)\u001b[0m\u001b[1;33m\u001b[0m\u001b[1;33m\u001b[0m\u001b[0m\n\u001b[1;32m----> 6\u001b[1;33m \u001b[0mproduit\u001b[0m \u001b[1;33m=\u001b[0m \u001b[0mx\u001b[0m\u001b[1;33m*\u001b[0m\u001b[0mx2\u001b[0m\u001b[1;33m\u001b[0m\u001b[1;33m\u001b[0m\u001b[0m\n\u001b[0m\u001b[0;32m      7\u001b[0m \u001b[0mprint\u001b[0m\u001b[1;33m(\u001b[0m\u001b[0mproduit\u001b[0m\u001b[1;33m)\u001b[0m\u001b[1;33m\u001b[0m\u001b[1;33m\u001b[0m\u001b[0m\n",
      "\u001b[1;31mTypeError\u001b[0m: can't multiply sequence by non-int of type 'str'"
     ]
    }
   ],
   "source": [
    "\n",
    "def produit(n,m):\n",
    "    if n=0 or m=0:\n",
    "        return(\"le produit est nul\")\n",
    "    elif (n<0 and m>0 or(n<0 and m>0)):\n",
    "        return(\"Le produit de ces nombres est negatif \")\n",
    "    else:\n",
    "        return(\"le  produit de ces nombres est positifs\")"
   ]
  },
  {
   "cell_type": "markdown",
   "metadata": {},
   "source": [
    "#### 5. Calcul"
   ]
  },
  {
   "cell_type": "markdown",
   "metadata": {},
   "source": [
    "Ecrire une fonction qui demande un nombre de départ, et qui ensuite affiche les dix nombres suivants. Par exemple, si l’utilisateur entre le nombre 17, le programme affichera les nombres de 18 à 27."
   ]
  },
  {
   "cell_type": "code",
   "execution_count": 22,
   "metadata": {},
   "outputs": [
    {
     "name": "stdout",
     "output_type": "stream",
     "text": [
      "saisir un nombre - 125\n",
      "126\n",
      "127\n",
      "128\n",
      "129\n",
      "130\n",
      "131\n",
      "132\n",
      "133\n",
      "134\n",
      "135\n"
     ]
    }
   ],
   "source": [
    "\n",
    "Nb=int(input(\"saisir un nombre - \")) \n",
    "for i in range(Nb+1,Nb+11) :\n",
    "    print(i)"
   ]
  },
  {
   "cell_type": "code",
   "execution_count": 24,
   "metadata": {},
   "outputs": [
    {
     "name": "stdout",
     "output_type": "stream",
     "text": [
      "entrer un nombre11\n"
     ]
    },
    {
     "data": {
      "text/plain": [
       "('les  nombre  sont ', [12, 13, 14, 15, 16, 17, 18, 19, 20, 21])"
      ]
     },
     "execution_count": 24,
     "metadata": {},
     "output_type": "execute_result"
    }
   ],
   "source": [
    "def suite():\n",
    "    x=int(input('entrer un nombre'))\n",
    "    return ('les  nombre  sont ', list(range(x+1,x+11)))\n",
    "suite()"
   ]
  },
  {
   "cell_type": "markdown",
   "metadata": {},
   "source": [
    "#### 6. Additivité"
   ]
  },
  {
   "cell_type": "markdown",
   "metadata": {},
   "source": [
    "Ecrire une fonction qui demande un nombre de départ, et qui calcule la somme des entiers jusqu’à ce nombre. Par exemple, si l’on entre 5, le programme doit calculer: 1+2+3+4+5=15.\n"
   ]
  },
  {
   "cell_type": "code",
   "execution_count": 31,
   "metadata": {},
   "outputs": [
    {
     "name": "stdout",
     "output_type": "stream",
     "text": [
      "taper un nombre52\n",
      "la somme 1+2+3+n 1378\n"
     ]
    }
   ],
   "source": [
    "s = 0\n",
    "n=input(\"taper un nombre\")\n",
    "n=int(n)\n",
    "for i in range(0,n+1):\n",
    "    s = s+i\n",
    "print(\"la somme 1+2+3+n\",s)"
   ]
  },
  {
   "cell_type": "code",
   "execution_count": null,
   "metadata": {},
   "outputs": [],
   "source": []
  },
  {
   "cell_type": "markdown",
   "metadata": {},
   "source": [
    "## 2. Tableau"
   ]
  },
  {
   "cell_type": "markdown",
   "metadata": {},
   "source": [
    "#### 1. Somme"
   ]
  },
  {
   "cell_type": "markdown",
   "metadata": {},
   "source": [
    "Ecrire un algorithme calculant la somme des valeurs d’un tableau (on suppose bien sur que le tableau a été préalablement saisi). **(NE PAS UTILISER LA FONCTION SUM)**"
   ]
  },
  {
   "cell_type": "code",
   "execution_count": 9,
   "metadata": {},
   "outputs": [
    {
     "name": "stdout",
     "output_type": "stream",
     "text": [
      "taper un nombre5\n",
      "la somme 1+2+3+n 15\n"
     ]
    }
   ],
   "source": [
    "s = 0\n",
    "n=input(\"taper un nombre\")\n",
    "n=int(n)\n",
    "for i in range(0,n+1):\n",
    "    s = s+i\n",
    "print(\"la somme 1+2+3+n\",s)"
   ]
  },
  {
   "cell_type": "code",
   "execution_count": null,
   "metadata": {},
   "outputs": [],
   "source": []
  },
  {
   "cell_type": "markdown",
   "metadata": {},
   "source": [
    "#### 2. Double somme"
   ]
  },
  {
   "cell_type": "markdown",
   "metadata": {},
   "source": [
    "\n",
    "Ecrire un algorithme constituant un tableau, à partir de deux tableaux de même longueur préalablement saisis. Le nouveau tableau sera la somme des éléments des deux tableaux de départ."
   ]
  },
  {
   "cell_type": "code",
   "execution_count": 10,
   "metadata": {},
   "outputs": [
    {
     "ename": "NameError",
     "evalue": "name 'np' is not defined",
     "output_type": "error",
     "traceback": [
      "\u001b[1;31m---------------------------------------------------------------------------\u001b[0m",
      "\u001b[1;31mNameError\u001b[0m                                 Traceback (most recent call last)",
      "\u001b[1;32m<ipython-input-10-854a2d6eb9b2>\u001b[0m in \u001b[0;36m<module>\u001b[1;34m\u001b[0m\n\u001b[0;32m      1\u001b[0m \u001b[1;32mfrom\u001b[0m \u001b[0mscipy\u001b[0m \u001b[1;32mimport\u001b[0m \u001b[1;33m*\u001b[0m\u001b[1;33m\u001b[0m\u001b[1;33m\u001b[0m\u001b[0m\n\u001b[1;32m----> 2\u001b[1;33m \u001b[0mtab2\u001b[0m\u001b[1;33m=\u001b[0m\u001b[0mnp\u001b[0m\u001b[1;33m.\u001b[0m\u001b[0marray\u001b[0m\u001b[1;33m(\u001b[0m\u001b[1;33m(\u001b[0m\u001b[1;33m[\u001b[0m\u001b[1;36m1\u001b[0m\u001b[1;33m,\u001b[0m\u001b[1;36m2\u001b[0m\u001b[1;33m,\u001b[0m\u001b[1;36m3\u001b[0m\u001b[1;33m,\u001b[0m\u001b[1;36m4\u001b[0m\u001b[1;33m,\u001b[0m\u001b[1;36m5\u001b[0m\u001b[1;33m]\u001b[0m\u001b[1;33m)\u001b[0m\u001b[1;33m)\u001b[0m\u001b[1;33m\u001b[0m\u001b[1;33m\u001b[0m\u001b[0m\n\u001b[0m\u001b[0;32m      3\u001b[0m \u001b[0mtab1\u001b[0m\u001b[1;33m=\u001b[0m\u001b[0mtab2\u001b[0m\u001b[1;33m.\u001b[0m\u001b[0mcopy\u001b[0m\u001b[1;33m(\u001b[0m\u001b[1;33m)\u001b[0m\u001b[1;33m\u001b[0m\u001b[1;33m\u001b[0m\u001b[0m\n\u001b[0;32m      4\u001b[0m \u001b[0mprint\u001b[0m\u001b[1;33m(\u001b[0m\u001b[0mtab1\u001b[0m\u001b[1;33m)\u001b[0m\u001b[1;33m\u001b[0m\u001b[1;33m\u001b[0m\u001b[0m\n\u001b[0;32m      5\u001b[0m \u001b[0mprint\u001b[0m\u001b[1;33m(\u001b[0m\u001b[0mtab2\u001b[0m\u001b[1;33m)\u001b[0m\u001b[1;33m\u001b[0m\u001b[1;33m\u001b[0m\u001b[0m\n",
      "\u001b[1;31mNameError\u001b[0m: name 'np' is not defined"
     ]
    }
   ],
   "source": [
    "from scipy import *\n",
    "tab2=np.array(([1,2,3,4,5]))\n",
    "tab1=tab2.copy()\n",
    "print(tab1)\n",
    "print(tab2)\n",
    "t3=np.array([tab1+tab2])"
   ]
  },
  {
   "cell_type": "markdown",
   "metadata": {},
   "source": [
    "#### 3. Fac Product"
   ]
  },
  {
   "cell_type": "markdown",
   "metadata": {},
   "source": [
    "Toujours à partir de deux tableaux précédemment saisis, écrire un algorithme qui calcule le ’FacProduct’ des deux tableaux. Pour calculer le ’FacProduct’, il faut multiplier chaque élément du tableau1 par chaque élément du tableau2, et additionner le tout."
   ]
  },
  {
   "cell_type": "code",
   "execution_count": null,
   "metadata": {},
   "outputs": [],
   "source": []
  },
  {
   "cell_type": "markdown",
   "metadata": {},
   "source": [
    "#### 4. Le plus grand"
   ]
  },
  {
   "cell_type": "markdown",
   "metadata": {},
   "source": [
    "Ecrire un algorithme permettant à l’utilisateur de renvoyer la plus grande valeur du tableau passer en input en précisant quelle position elle occupe dans le tableau. **(NE PAS UTILISER LA FONCTION MAX)**"
   ]
  },
  {
   "cell_type": "code",
   "execution_count": 33,
   "metadata": {},
   "outputs": [
    {
     "name": "stdout",
     "output_type": "stream",
     "text": [
      "18\n"
     ]
    }
   ],
   "source": [
    "\n",
    "li=[1,2,3,4,18]\n",
    "ma=li[0]\n",
    "for i in  range (0,len(li)):\n",
    "    if li[i]>ma:\n",
    "        ma=li[i]\n",
    "print(ma)"
   ]
  },
  {
   "cell_type": "markdown",
   "metadata": {},
   "source": [
    "#### 5. Plus grand que la moyenne"
   ]
  },
  {
   "cell_type": "markdown",
   "metadata": {},
   "source": [
    "Ecrire un algorithme permettant à l’utilisateur de renvoyer le nombre de valeurs supérieures à la moyenne d’un tableau passé en input."
   ]
  },
  {
   "cell_type": "code",
   "execution_count": 29,
   "metadata": {},
   "outputs": [
    {
     "data": {
      "text/plain": [
       "('valeur max: ', 30, 'position dans la liste donnée: ', 6)"
      ]
     },
     "execution_count": 29,
     "metadata": {},
     "output_type": "execute_result"
    }
   ],
   "source": [
    "def val_max(lst):\n",
    "    maxlst = [-1]\n",
    "    for i in lst:\n",
    "        #print(lst[i])\n",
    "        if i > maxlst[0]:\n",
    "        #print(maxlst[0])\n",
    "            maxlst[0] = i\n",
    "            a1 = maxlst[0]\n",
    "            a2 = lst.index(maxlst[0])\n",
    "            \n",
    "    return(\"valeur max: \", a1,\"position dans la liste donnée: \", a2)\n",
    "        \n",
    "lst1 = [1, 5, 4, 5, 8, 23, 30, 15, 5, 2]\n",
    "val_max(lst1)"
   ]
  },
  {
   "cell_type": "markdown",
   "metadata": {},
   "source": [
    "#### 6. Les vecteurs"
   ]
  },
  {
   "cell_type": "markdown",
   "metadata": {},
   "source": [
    "Ecrire un algorithme permettant d’effectuer la multiplication de deux vecteurs de taille N connue à l’avance et d’afficher le résultat. **(NE PAS UTILISER LES FONCTIONS PYTHON : TOUT EST A CODER)**"
   ]
  },
  {
   "cell_type": "code",
   "execution_count": 27,
   "metadata": {},
   "outputs": [
    {
     "name": "stdout",
     "output_type": "stream",
     "text": [
      "130\n"
     ]
    }
   ],
   "source": [
    "from scipy import *\n",
    "a = [1,2,3,4, 5]\n",
    "b = [6,7,8,9,10]\n",
    "sum = 0\n",
    "for i in range(len(a)):\n",
    "    c = a[i]*b[i]\n",
    "    sum+=c\n",
    "print (sum)"
   ]
  },
  {
   "cell_type": "code",
   "execution_count": null,
   "metadata": {},
   "outputs": [],
   "source": []
  },
  {
   "cell_type": "markdown",
   "metadata": {},
   "source": [
    "#### 7. Tri"
   ]
  },
  {
   "cell_type": "markdown",
   "metadata": {},
   "source": [
    "Ecrire un algorithme triant un tableau. On va commencer à chercher l’élément de plus petite valeur dans le tableau, on le place en tête du tableau et on recommence avec le tableau moins la première case."
   ]
  },
  {
   "cell_type": "code",
   "execution_count": 22,
   "metadata": {},
   "outputs": [
    {
     "name": "stdout",
     "output_type": "stream",
     "text": [
      "[0, 2, 3, 4, 4, 5, 6, 7, 8, 9]\n"
     ]
    }
   ],
   "source": [
    "L = [5, 9, 4, 0, 8, 7, 3, 6, 2, 4]\n",
    "L.sort()\n",
    "print( L)\n"
   ]
  },
  {
   "cell_type": "code",
   "execution_count": 23,
   "metadata": {},
   "outputs": [
    {
     "name": "stdout",
     "output_type": "stream",
     "text": [
      "[2, 3, 4, 5, 6, 8]\n"
     ]
    }
   ],
   "source": [
    "li = [5, 6, 4, 3, 8, 2]\n",
    "for i in range(0, len(li)):\n",
    "    # recherche du minimum entre i et len (li) exclu\n",
    "    pos = i\n",
    "    for j in range(i + 1, len(li)):\n",
    "        if li[j] < li[pos]:\n",
    "            pos = j\n",
    "    # échange\n",
    "    ech = li[pos]\n",
    "    li[pos] = li[i]\n",
    "    li[i] = ech\n",
    "print(li)"
   ]
  },
  {
   "cell_type": "code",
   "execution_count": null,
   "metadata": {},
   "outputs": [],
   "source": []
  }
 ],
 "metadata": {
  "kernelspec": {
   "display_name": "Python 3",
   "language": "python",
   "name": "python3"
  },
  "language_info": {
   "codemirror_mode": {
    "name": "ipython",
    "version": 3
   },
   "file_extension": ".py",
   "mimetype": "text/x-python",
   "name": "python",
   "nbconvert_exporter": "python",
   "pygments_lexer": "ipython3",
   "version": "3.7.4"
  }
 },
 "nbformat": 4,
 "nbformat_minor": 2
}
