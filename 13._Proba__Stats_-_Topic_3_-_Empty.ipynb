{
 "cells": [
  {
   "cell_type": "markdown",
   "metadata": {},
   "source": [
    "# Notions de probabilités - Partie II"
   ]
  },
  {
   "cell_type": "markdown",
   "metadata": {},
   "source": [
    "L'objectif de ce notebook est de :\n",
    "\n",
    "- Manipuler les sets dans un objectif pratique.\n",
    "\n",
    "\n",
    "Pour ce faire,nous vous proposons de suivre le MOOC \"*EDX - Probability and Statistics in Data Science using Python*\" : https://courses.edx.org/courses/course-v1:UCSanDiegoX+DSE210x+3T2019a/course/ et plus particulièrement les **topics 3** (\"***Counting***\") \n",
    "\n",
    "__Durée des vidéos:__ Envirion 1h30 \n",
    "\n",
    "\n",
    "\n",
    "**POUR CE TOPIC**, nous vous laisserons :\n",
    "1. Regarder les vidéos puis répondre aux questions mises en dessous de chaque vidéo \n",
    "2. Répondre aux questions de __**CE NOTEBOOK**__ pour vérifier votre compréhension des notions abordées dans les vidéos\n",
    "3. A la fin du notebook, prévenir la formatrice de votre fin et compléter le notebook de la partie \"***Programming Assignment***\" \n"
   ]
  },
  {
   "cell_type": "markdown",
   "metadata": {},
   "source": [
    "### 1. Définitions\n",
    "***(Durée moyenne : 1h)***\n",
    "1. Définir la cardinalité d'un set.\n",
    "2. Définir l'union et l'intersection de deux sets.\n",
    "3. Expliquer ce que sont deux sets disjoints.\n",
    "4. Quelle est la cardinalité de l'union de deux ensembles ?\n",
    "$$|A\\cup B| = ... $$ \n",
    "5. Définir mathématiquement un set `D2` contenant tous les entiers entre 1 et 100 divisibles par 2.\n",
    "6. Définir ce qu'est le produit cartésien de deux sets.\n",
    "7. Quelle est la représentation géométrique du produit cartésien de deux sets? De trois sets?\n",
    "8. Définir la puissance cartésienne. $$|A^k| = ... $$ \n",
    "9. Dans quels cas pratiques, la puissance cartésienne est utile?\n",
    "10. Quelle est la librairie utilisée pour le calcul sur les sets?\n"
   ]
  },
  {
   "cell_type": "markdown",
   "metadata": {},
   "source": [
    "1. c 'est le  nombre d'elements que compose  le  set "
   ]
  },
  {
   "cell_type": "markdown",
   "metadata": {},
   "source": [
    " 2.  A et B est l'ensemble qui contient tous les éléments qui appartiennent à A ou appartiennent à B. \n",
    "    On la note A ∪ B et on la dit « A union B »\n",
    "    on appelle intersection de A et B l'ensemble des éléments communs aux deux ensembles A et B.   "
   ]
  },
  {
   "cell_type": "markdown",
   "metadata": {},
   "source": [
    "3. A et B sont disjoints si leur intersection est l'ensemble vide, c'est-à-dire si il est  egal à l'ensemble vide "
   ]
  },
  {
   "cell_type": "markdown",
   "metadata": {},
   "source": [
    "4. Quelle est la cardinalité de l'union de deux ensembles ?\n",
    "    L'union et l'intersection de deux parties A {\\displaystyle A} A et B {\\displaystyle B} B de E {\\displaystyle E} E sont reliées par la formule :\n",
    "\n",
    "        C a r d ( A ∪ B ) = C a r d ( A ) + C a r d ( B ) − C a r d ( A ∩ B ) . {\\displaystyle \\mathrm {Card} (A\\cup B)=\\mathrm {Card} (A)+\\mathrm {Card} (B)-\\mathrm {Card} (A\\cap B).} {\\mathrm {Card}}(A\\cup B)={\\mathrm {Card}}(A)+{\\mathrm {Card}}(B)-{\\mathrm {Card}}(A\\cap B).\n"
   ]
  },
  {
   "cell_type": "code",
   "execution_count": null,
   "metadata": {},
   "outputs": [],
   "source": [
    "5.Définir mathématiquement un set D2`contenant tous les entiers entre 1 et 100 divisibles par 2.\n",
    " D2 les nombre  pair de D2={2,100}\n",
    "    "
   ]
  },
  {
   "cell_type": "code",
   "execution_count": null,
   "metadata": {},
   "outputs": [],
   "source": [
    " 6.Définir ce qu'est le produit cartésien de deux sets.\n",
    "    est la multiplication des deux ensembles comme A*B    "
   ]
  },
  {
   "cell_type": "markdown",
   "metadata": {},
   "source": [
    "7.La représentation de deux set geometriquement est un réctangle et pour trois  set c'est un cube"
   ]
  },
  {
   "cell_type": "code",
   "execution_count": null,
   "metadata": {},
   "outputs": [],
   "source": [
    "8. \n"
   ]
  },
  {
   "cell_type": "code",
   "execution_count": null,
   "metadata": {},
   "outputs": [],
   "source": [
    "10. la bibliotheque python pourles ensemble est itertools"
   ]
  },
  {
   "cell_type": "markdown",
   "metadata": {},
   "source": [
    "### 2. Sets & comptage\n",
    "***(Durée moyenne : 1h30)***"
   ]
  },
  {
   "cell_type": "markdown",
   "metadata": {},
   "source": [
    "### 1.\n",
    "\n",
    "Définir un set `A` contenant es nombres entiers entre 1 et 10.\n"
   ]
  },
  {
   "cell_type": "code",
   "execution_count": 11,
   "metadata": {},
   "outputs": [
    {
     "name": "stdout",
     "output_type": "stream",
     "text": [
      "{1, 2, 3, 4, 5, 6, 7, 8, 9, 10}\n"
     ]
    }
   ],
   "source": [
    "import itertools as it\n",
    "A= {1, 2, 3, 4, 5, 6, 7, 8, 9, 10}\n",
    "print(A)"
   ]
  },
  {
   "cell_type": "markdown",
   "metadata": {},
   "source": [
    "### 2.\n",
    "Définir un set `B` contenant l'alphabet français."
   ]
  },
  {
   "cell_type": "code",
   "execution_count": 48,
   "metadata": {},
   "outputs": [
    {
     "ename": "AttributeError",
     "evalue": "module 'string' has no attribute 'ascii_lowercrease'",
     "output_type": "error",
     "traceback": [
      "\u001b[1;31m---------------------------------------------------------------------------\u001b[0m",
      "\u001b[1;31mAttributeError\u001b[0m                            Traceback (most recent call last)",
      "\u001b[1;32m<ipython-input-48-4cdcb4ced03b>\u001b[0m in \u001b[0;36m<module>\u001b[1;34m\u001b[0m\n\u001b[0;32m      1\u001b[0m \u001b[1;32mimport\u001b[0m \u001b[0mstring\u001b[0m\u001b[1;33m\u001b[0m\u001b[1;33m\u001b[0m\u001b[0m\n\u001b[1;32m----> 2\u001b[1;33m \u001b[0mB\u001b[0m\u001b[1;33m=\u001b[0m\u001b[0mset\u001b[0m\u001b[1;33m(\u001b[0m\u001b[0mstring\u001b[0m\u001b[1;33m.\u001b[0m\u001b[0mascii_lowercrease\u001b[0m\u001b[1;33m)\u001b[0m\u001b[1;33m\u001b[0m\u001b[1;33m\u001b[0m\u001b[0m\n\u001b[0m\u001b[0;32m      3\u001b[0m \u001b[0mprint\u001b[0m\u001b[1;33m(\u001b[0m\u001b[0mB\u001b[0m\u001b[1;33m)\u001b[0m\u001b[1;33m\u001b[0m\u001b[1;33m\u001b[0m\u001b[0m\n",
      "\u001b[1;31mAttributeError\u001b[0m: module 'string' has no attribute 'ascii_lowercrease'"
     ]
    }
   ],
   "source": [
    "import string\n",
    "B=set(string.ascii_lowercrease)\n",
    "print(B)"
   ]
  },
  {
   "cell_type": "markdown",
   "metadata": {},
   "source": [
    "### 3.\n",
    "Afficher le cardinal de chaque set."
   ]
  },
  {
   "cell_type": "code",
   "execution_count": 63,
   "metadata": {},
   "outputs": [
    {
     "ename": "NameError",
     "evalue": "name 'B' is not defined",
     "output_type": "error",
     "traceback": [
      "\u001b[1;31m---------------------------------------------------------------------------\u001b[0m",
      "\u001b[1;31mNameError\u001b[0m                                 Traceback (most recent call last)",
      "\u001b[1;32m<ipython-input-63-9653840004ce>\u001b[0m in \u001b[0;36m<module>\u001b[1;34m\u001b[0m\n\u001b[1;32m----> 1\u001b[1;33m \u001b[0mprint\u001b[0m \u001b[1;33m(\u001b[0m\u001b[0mlen\u001b[0m\u001b[1;33m(\u001b[0m\u001b[0mB\u001b[0m\u001b[1;33m)\u001b[0m\u001b[1;33m)\u001b[0m\u001b[1;33m\u001b[0m\u001b[1;33m\u001b[0m\u001b[0m\n\u001b[0m",
      "\u001b[1;31mNameError\u001b[0m: name 'B' is not defined"
     ]
    }
   ],
   "source": [
    "print (len(B))"
   ]
  },
  {
   "cell_type": "markdown",
   "metadata": {},
   "source": [
    "### 4.\n",
    "Afficher le min de `B`."
   ]
  },
  {
   "cell_type": "code",
   "execution_count": 64,
   "metadata": {},
   "outputs": [
    {
     "name": "stdout",
     "output_type": "stream",
     "text": [
      "0\n"
     ]
    }
   ],
   "source": [
    "print(min(A))\n",
    "##print(min(B))"
   ]
  },
  {
   "cell_type": "markdown",
   "metadata": {},
   "source": [
    "### 5.\n",
    "Créer `C` comme l'intersection de `A1` et `B1` et l'afficher."
   ]
  },
  {
   "cell_type": "code",
   "execution_count": 64,
   "metadata": {},
   "outputs": [],
   "source": [
    "A1 = {-5, -4, -3, -2, 1, 2, 3}\n",
    "B1 = {1, 3, 5}"
   ]
  },
  {
   "cell_type": "code",
   "execution_count": 51,
   "metadata": {},
   "outputs": [
    {
     "name": "stdout",
     "output_type": "stream",
     "text": [
      "{1, 3}\n"
     ]
    }
   ],
   "source": [
    "A1 = {-5, -4, -3, -2, 1, 2, 3}\n",
    "B1 = {1, 3, 5}\n",
    "print(A1.intersection(B1))\n"
   ]
  },
  {
   "cell_type": "markdown",
   "metadata": {},
   "source": [
    "### 6.\n",
    "Créer `D` comme l'union de `A1` et `B1` et l'afficher."
   ]
  },
  {
   "cell_type": "code",
   "execution_count": 52,
   "metadata": {},
   "outputs": [
    {
     "name": "stdout",
     "output_type": "stream",
     "text": [
      "{1, 2, 3, 5, -5, -4, -3, -2}\n"
     ]
    }
   ],
   "source": [
    "A1 = {-5, -4, -3, -2, 1, 2, 3}\n",
    "B1 = {1, 3, 5}\n",
    "D=(B1.union(A1))\n",
    "print(D)"
   ]
  },
  {
   "cell_type": "markdown",
   "metadata": {},
   "source": [
    "### 7.\n",
    "Que représente la différence entre `A1` et `B1`?"
   ]
  },
  {
   "cell_type": "code",
   "execution_count": 34,
   "metadata": {},
   "outputs": [
    {
     "name": "stdout",
     "output_type": "stream",
     "text": [
      "{1, -4, -3, -2}\n"
     ]
    }
   ],
   "source": [
    "a = set([1, 2, 3,-4,-2,-4, -3])\n",
    "b = set([2, 3, 5])\n",
    "c = a.difference(b)\n",
    "print(c)\n"
   ]
  },
  {
   "cell_type": "markdown",
   "metadata": {},
   "source": [
    "### 8.\n",
    "\n",
    "Calculez de deux manières différentes le cardinal de l'union de `A1`et `B1`."
   ]
  },
  {
   "cell_type": "code",
   "execution_count": 67,
   "metadata": {},
   "outputs": [
    {
     "name": "stdout",
     "output_type": "stream",
     "text": [
      "7\n"
     ]
    }
   ],
   "source": [
    "A1= set([1, 2, 3,-4,-2,-4, -3])\n",
    "B1 = set([2, 3,5])\n",
    "C= A1.union(B1)\n",
    "print(len(C))\n",
    "##D=(len(A1)+len(A2)-"
   ]
  },
  {
   "cell_type": "markdown",
   "metadata": {},
   "source": [
    "### 9.\n",
    "En utilisant les compréhensions de liste, créer les sets `E` et `O` contenant respectivement les nombres pairs et impairs entre 1 et 10."
   ]
  },
  {
   "cell_type": "code",
   "execution_count": 114,
   "metadata": {},
   "outputs": [
    {
     "ename": "SyntaxError",
     "evalue": "invalid syntax (<ipython-input-114-3f68b2dcc857>, line 1)",
     "output_type": "error",
     "traceback": [
      "\u001b[1;36m  File \u001b[1;32m\"<ipython-input-114-3f68b2dcc857>\"\u001b[1;36m, line \u001b[1;32m1\u001b[0m\n\u001b[1;33m    paire= set([i for i in  range(1,11) if % 2==0])\u001b[0m\n\u001b[1;37m                                           ^\u001b[0m\n\u001b[1;31mSyntaxError\u001b[0m\u001b[1;31m:\u001b[0m invalid syntax\n"
     ]
    }
   ],
   "source": [
    "\n",
    "paire= set([i for i in  range(1,11) if % 2==0])"
   ]
  },
  {
   "cell_type": "code",
   "execution_count": null,
   "metadata": {},
   "outputs": [],
   "source": []
  },
  {
   "cell_type": "markdown",
   "metadata": {},
   "source": [
    "### 10. \n",
    "Quelle est la probabilité de tomber sur un nombre pair en lançant un dé à 6 faces éqilibré? Justifier la réponse en utilisant des sets. "
   ]
  },
  {
   "cell_type": "code",
   "execution_count": 113,
   "metadata": {},
   "outputs": [
    {
     "name": "stdout",
     "output_type": "stream",
     "text": [
      "0.5\n"
     ]
    }
   ],
   "source": [
    "paire={2,4,6}\n",
    "dice={1,2,3,4,5,6}\n",
    "len(paire)\n",
    "len(dice)\n",
    "proba=len(paire)/len(dice)\n",
    "print(proba)"
   ]
  },
  {
   "cell_type": "markdown",
   "metadata": {},
   "source": [
    "### 11.\n",
    "En utilisant l'opération adéquate, créer un script qui, en prenant en entrée `A` et `B` retourne le résultat attendu (peu importe l'ordre d'affichage).\n",
    "\n",
    "<font  style=\"color:blue\"> * **Input** *</font>\n",
    "```python\n",
    "A = {1, 2}\n",
    "B = {'A','B','C'}\n",
    "\n",
    "```\n",
    "<font  style=\"color:magenta\"> * **Expected Output:** *</font>\n",
    "```\n",
    "{ (A,1),(A,2),(B,1),(B,2),(C,2),(C,2) }\n",
    "```"
   ]
  },
  {
   "cell_type": "code",
   "execution_count": 46,
   "metadata": {},
   "outputs": [
    {
     "data": {
      "text/plain": [
       "[('c', 1), ('c', 2), ('b', 1), ('b', 2), ('a', 1), ('a', 2)]"
      ]
     },
     "execution_count": 46,
     "metadata": {},
     "output_type": "execute_result"
    }
   ],
   "source": [
    "seq1 = {'a','b','c'}\n",
    "seq2 = (1, 2)\n",
    "[(x, y) for x in seq1 for y in seq2]\n"
   ]
  },
  {
   "cell_type": "markdown",
   "metadata": {},
   "source": [
    "### 12.\n",
    "En utilisant les compréhensions de listes, définir le set `cartesian_powers`comme la puissance cartésienne de `A` par `k`. Afficher sa cardinalité."
   ]
  },
  {
   "cell_type": "code",
   "execution_count": 117,
   "metadata": {},
   "outputs": [
    {
     "name": "stdout",
     "output_type": "stream",
     "text": [
      "[(0,), (1,)]\n"
     ]
    }
   ],
   "source": [
    "A = {0, 1}\n",
    "k=3\n",
    "cartesian_powers=[(a,)for a in  A]\n",
    "print(cartesian_powers)"
   ]
  },
  {
   "cell_type": "code",
   "execution_count": 118,
   "metadata": {},
   "outputs": [
    {
     "ename": "SyntaxError",
     "evalue": "invalid syntax (<ipython-input-118-b704eb268a34>, line 3)",
     "output_type": "error",
     "traceback": [
      "\u001b[1;36m  File \u001b[1;32m\"<ipython-input-118-b704eb268a34>\"\u001b[1;36m, line \u001b[1;32m3\u001b[0m\n\u001b[1;33m    print(cartesian_powers)\u001b[0m\n\u001b[1;37m        ^\u001b[0m\n\u001b[1;31mSyntaxError\u001b[0m\u001b[1;31m:\u001b[0m invalid syntax\n"
     ]
    }
   ],
   "source": [
    "from itertools import *\n",
    "cartesian_powers=set(itertools.product(A,repeat=k)\n",
    "print(cartesian_powers)   "
   ]
  },
  {
   "cell_type": "markdown",
   "metadata": {},
   "source": [
    "### 13.\n",
    "Importer la librairie nécessaire au produit cartésien.\n"
   ]
  },
  {
   "cell_type": "code",
   "execution_count": null,
   "metadata": {},
   "outputs": [],
   "source": [
    " import itertools\n",
    "    "
   ]
  },
  {
   "cell_type": "markdown",
   "metadata": {},
   "source": [
    "### 14.\n",
    "En utilisant la librairie adéquate, définir le set `cartesian_powers` comme précédemment. Vérifier les cardinalité obtenues."
   ]
  },
  {
   "cell_type": "code",
   "execution_count": 119,
   "metadata": {},
   "outputs": [
    {
     "name": "stdout",
     "output_type": "stream",
     "text": [
      "{(0, 1, 1), (1, 1, 0), (1, 1, 1), (1, 0, 0), (0, 0, 1), (1, 0, 1), (0, 0, 0), (0, 1, 0)}\n",
      "8\n"
     ]
    }
   ],
   "source": [
    "from itertools import *\n",
    "cartesian_powers=set(itertools.product(A,repeat=k))\n",
    "print(cartesian_powers) \n",
    "print(len(cartesian_powers))                    "
   ]
  },
  {
   "cell_type": "markdown",
   "metadata": {},
   "source": [
    "### 15.\n",
    "\n",
    "Vous devez créer un code à 4 chiffes (entre 0 et 9). Combien de possibilités s'offrent à vous? Justifier le calcul avec un script. \n"
   ]
  },
  {
   "cell_type": "code",
   "execution_count": 128,
   "metadata": {},
   "outputs": [
    {
     "name": "stdout",
     "output_type": "stream",
     "text": [
      "{0, 1, 2, 3, 4, 5, 6, 7, 8, 9}\n"
     ]
    }
   ],
   "source": [
    "A=set(range(0,10))\n",
    "print(A)\n",
    "k=4\n",
    "##print(len(set(itertools.product(A.repeat=k))))"
   ]
  },
  {
   "cell_type": "markdown",
   "metadata": {},
   "source": [
    "### 16. \n",
    "Vous devez créer un code qui varie entre 4 et 5 chiffres (entre 0 et 9). Combien de possibilités s'offrent à vous? Justifier le calcul avec un script. \n"
   ]
  },
  {
   "cell_type": "code",
   "execution_count": 129,
   "metadata": {},
   "outputs": [
    {
     "name": "stdout",
     "output_type": "stream",
     "text": [
      "10000\n",
      "100000\n"
     ]
    }
   ],
   "source": [
    "A1=set(itertools.product(A,repeat=4))\n",
    "A2=set(itertools.product(A,repeat=5))\n",
    "print(len(A1))\n",
    "print(len(A2))"
   ]
  },
  {
   "cell_type": "code",
   "execution_count": null,
   "metadata": {},
   "outputs": [],
   "source": []
  }
 ],
 "metadata": {
  "kernelspec": {
   "display_name": "Python 3",
   "language": "python",
   "name": "python3"
  },
  "language_info": {
   "codemirror_mode": {
    "name": "ipython",
    "version": 3
   },
   "file_extension": ".py",
   "mimetype": "text/x-python",
   "name": "python",
   "nbconvert_exporter": "python",
   "pygments_lexer": "ipython3",
   "version": "3.7.4"
  }
 },
 "nbformat": 4,
 "nbformat_minor": 2
}
