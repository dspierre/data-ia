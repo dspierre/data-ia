{
 "cells": [
  {
   "cell_type": "markdown",
   "metadata": {},
   "source": [
    "# 19. Python - Révisions"
   ]
  },
  {
   "cell_type": "markdown",
   "metadata": {},
   "source": [
    "**1. Créer une liste L1 contenant tous les entiers entre 1 et 100.**"
   ]
  },
  {
   "cell_type": "code",
   "execution_count": 77,
   "metadata": {},
   "outputs": [
    {
     "name": "stdout",
     "output_type": "stream",
     "text": [
      "[0, 1, 2, 3, 4, 5, 6, 7, 8, 9, 10, 11, 12, 13, 14, 15, 16, 17, 18, 19, 20, 21, 22, 23, 24, 25, 26, 27, 28, 29, 30, 31, 32, 33, 34, 35, 36, 37, 38, 39, 40, 41, 42, 43, 44, 45, 46, 47, 48, 49, 50, 51, 52, 53, 54, 55, 56, 57, 58, 59, 60, 61, 62, 63, 64, 65, 66, 67, 68, 69, 70, 71, 72, 73, 74, 75, 76, 77, 78, 79, 80, 81, 82, 83, 84, 85, 86, 87, 88, 89, 90, 91, 92, 93, 94, 95, 96, 97, 98, 99, 100]\n"
     ]
    }
   ],
   "source": [
    "l = list(range(101))\n",
    "print(l)"
   ]
  },
  {
   "cell_type": "markdown",
   "metadata": {},
   "source": [
    "**2.Créer une fonction appelée ispair qui prend en argument un nombre et retour True si le nombre est pair et faux sinon.**"
   ]
  },
  {
   "cell_type": "code",
   "execution_count": 5,
   "metadata": {},
   "outputs": [
    {
     "name": "stdout",
     "output_type": "stream",
     "text": [
      "Entrez un nombre: 12\n",
      "12 est Paire\n"
     ]
    }
   ],
   "source": [
    "n = int(input(\"Entrez un nombre: \"))\n",
    "if (n % 2) == 0:\n",
    "    print(\"{0} est Paire\".format(n))\n",
    "else:\n",
    "    print(\"{0} est Impaire\".format(n))   "
   ]
  },
  {
   "cell_type": "markdown",
   "metadata": {},
   "source": [
    "**3. Compléter le script de la fonction list_ispair qui prend en argument une liste et qui retourne une liste contenant les nombres pairs contenus dans la liste de départ en remplaçant les XXX par le code adéquat.**"
   ]
  },
  {
   "cell_type": "code",
   "execution_count": 85,
   "metadata": {},
   "outputs": [],
   "source": [
    "def list_ispair(liste):\n",
    "    listpair = []\n",
    "    for x in liste:\n",
    "        if x%2 == 0:\n",
    "            listpair.append(x)\n",
    "    return (listpair)"
   ]
  },
  {
   "cell_type": "code",
   "execution_count": 86,
   "metadata": {},
   "outputs": [
    {
     "data": {
      "text/plain": [
       "[4, 6, 8, 12, 44, 66]"
      ]
     },
     "execution_count": 86,
     "metadata": {},
     "output_type": "execute_result"
    }
   ],
   "source": [
    "list_ispair(L_test)"
   ]
  },
  {
   "cell_type": "markdown",
   "metadata": {},
   "source": [
    "**4. Appliquer la fonction précédente à la liste `L_test` et stocker le résultat dans une variable appelée `pair`.**"
   ]
  },
  {
   "cell_type": "code",
   "execution_count": 4,
   "metadata": {},
   "outputs": [],
   "source": [
    "L_test = [4,5,6,7,8,11,12,44,55,66]"
   ]
  },
  {
   "cell_type": "code",
   "execution_count": 87,
   "metadata": {},
   "outputs": [
    {
     "data": {
      "text/plain": [
       "[4, 6, 8, 12, 44, 66]"
      ]
     },
     "execution_count": 87,
     "metadata": {},
     "output_type": "execute_result"
    }
   ],
   "source": [
    "list_ispair(L_test)"
   ]
  },
  {
   "cell_type": "markdown",
   "metadata": {},
   "source": [
    "**5. Afficher l'index du nombre 55 de la liste `L_test`.**"
   ]
  },
  {
   "cell_type": "code",
   "execution_count": 13,
   "metadata": {
    "scrolled": true
   },
   "outputs": [
    {
     "name": "stdout",
     "output_type": "stream",
     "text": [
      "[4, 5, 6, 7, 8, 11, 12, 44, 55, 66]\n"
     ]
    },
    {
     "data": {
      "text/plain": [
       "8"
      ]
     },
     "execution_count": 13,
     "metadata": {},
     "output_type": "execute_result"
    }
   ],
   "source": [
    "L_test = [4,5,6,7,8,11,12,44,55,66]\n",
    "print(L_test)\n",
    "L_test.index(55)"
   ]
  },
  {
   "cell_type": "markdown",
   "metadata": {},
   "source": [
    "**6. Supprimer la valeur 55 de la liste.**"
   ]
  },
  {
   "cell_type": "code",
   "execution_count": 11,
   "metadata": {},
   "outputs": [
    {
     "name": "stdout",
     "output_type": "stream",
     "text": [
      "[4, 5, 6, 7, 8, 11, 12, 44, 66]\n"
     ]
    }
   ],
   "source": [
    "L_test = [4,5,6,7,8,11,12,44,55,66]\n",
    "del L_test[8]\n",
    "print(L_test)"
   ]
  },
  {
   "cell_type": "markdown",
   "metadata": {},
   "source": [
    "**7. En utilisant une boucle, affichez tous les caractères (espaces compris), un à un, de la chaîne de caractères ci-bas.**"
   ]
  },
  {
   "cell_type": "code",
   "execution_count": 82,
   "metadata": {},
   "outputs": [
    {
     "name": "stdout",
     "output_type": "stream",
     "text": [
      "Le confinement c'est cool!\n"
     ]
    }
   ],
   "source": [
    "chaine = \"Le confinement c'est cool!\"\n",
    "print(chaine)  "
   ]
  },
  {
   "cell_type": "code",
   "execution_count": 88,
   "metadata": {},
   "outputs": [
    {
     "name": "stdout",
     "output_type": "stream",
     "text": [
      "Le confinement c'est cool!\n",
      "L\n",
      "e\n",
      " \n",
      "c\n",
      "o\n",
      "n\n",
      "f\n",
      "i\n",
      "n\n",
      "e\n",
      "m\n",
      "e\n",
      "n\n",
      "t\n",
      " \n",
      "c\n",
      "'\n",
      "e\n",
      "s\n",
      "t\n",
      " \n",
      "c\n",
      "o\n",
      "o\n",
      "l\n",
      "!\n"
     ]
    }
   ],
   "source": [
    "chaine = \"Le confinement c'est cool!\"\n",
    "print(chaine)\n",
    "i = 0 # On appelle l'indice 'i' par convention\n",
    "while i < len(chaine):\n",
    "    print(chaine[i]) # On affiche le caractère à chaque tour de boucle\n",
    "    i += 1"
   ]
  },
  {
   "cell_type": "markdown",
   "metadata": {},
   "source": [
    "**8. En utilisant la librairie adéquate, créer un vecteur V1 contenant les valeurs 1, 2, 3 et un vecteur V2 contenant les valeurs 4, 5, 6.**"
   ]
  },
  {
   "cell_type": "code",
   "execution_count": 20,
   "metadata": {},
   "outputs": [
    {
     "name": "stdout",
     "output_type": "stream",
     "text": [
      "[1. 2. 3.]\n",
      "[4. 5. 6.]\n"
     ]
    }
   ],
   "source": [
    "import numpy as np\n",
    "V1= np.array([1, 2, 3,], float)\n",
    "print(V1)\n",
    "V2= np.array([4, 5, 6,], float)\n",
    "print(V2)"
   ]
  },
  {
   "cell_type": "markdown",
   "metadata": {},
   "source": [
    "**9. Calculer la norme L2 du vecteur V3 ci-dessous.**"
   ]
  },
  {
   "cell_type": "code",
   "execution_count": 71,
   "metadata": {},
   "outputs": [
    {
     "name": "stdout",
     "output_type": "stream",
     "text": [
      "[2 2 2]\n",
      "3.4641016151377544\n"
     ]
    }
   ],
   "source": [
    "from math import sqrt\n",
    "from numpy import array\n",
    "from numpy.linalg import norm\n",
    "V3 = np.array([2,2,2])\n",
    "print(V3)\n",
    "l2 = norm(V3)\n",
    "print(l2)"
   ]
  },
  {
   "cell_type": "markdown",
   "metadata": {},
   "source": [
    "**10.Créer la matrice `A` suivante.**\n",
    "\n",
    "$$A = \\begin{bmatrix} 1 & -11 & 5 \\\\ 2 & -15 & 8 \\\\ 12 & 7 & 6 \\end{bmatrix}$$\n"
   ]
  },
  {
   "cell_type": "code",
   "execution_count": 27,
   "metadata": {},
   "outputs": [
    {
     "name": "stdout",
     "output_type": "stream",
     "text": [
      "[[  1 -11   5]\n",
      " [  2 -15   8]\n",
      " [ 12   7   6]]\n"
     ]
    }
   ],
   "source": [
    "A = np.array([[1,-11,5],[2,-15,8],[12,7,6]])\n",
    "print(A)"
   ]
  },
  {
   "cell_type": "markdown",
   "metadata": {},
   "source": [
    "**11. Calculer le déterminant de A.**"
   ]
  },
  {
   "cell_type": "code",
   "execution_count": 28,
   "metadata": {},
   "outputs": [
    {
     "name": "stdout",
     "output_type": "stream",
     "text": [
      "[[  1 -11   5]\n",
      " [  2 -15   8]\n",
      " [ 12   7   6]]\n"
     ]
    },
    {
     "data": {
      "text/plain": [
       "-100.00000000000004"
      ]
     },
     "execution_count": 28,
     "metadata": {},
     "output_type": "execute_result"
    }
   ],
   "source": [
    "A = np.array([[1,-11,5],[2,-15,8],[12,7,6]])\n",
    "print(A)\n",
    "np.linalg.det(A)"
   ]
  },
  {
   "cell_type": "markdown",
   "metadata": {},
   "source": [
    "**12. Calculer l'inverse de A que vous noterez A_inv.**"
   ]
  },
  {
   "cell_type": "code",
   "execution_count": 30,
   "metadata": {
    "scrolled": true
   },
   "outputs": [
    {
     "name": "stdout",
     "output_type": "stream",
     "text": [
      "[[  1 -11   5]\n",
      " [  2 -15   8]\n",
      " [ 12   7   6]]\n",
      "[[ 1.46 -1.01  0.13]\n",
      " [-0.84  0.54 -0.02]\n",
      " [-1.94  1.39 -0.07]]\n"
     ]
    }
   ],
   "source": [
    "A = np.array([[1,-11,5],[2,-15,8],[12,7,6]])\n",
    "print(A)\n",
    "A_inv = np.linalg.inv(A)\n",
    "print(A_inv)"
   ]
  },
  {
   "cell_type": "markdown",
   "metadata": {},
   "source": [
    "**13. Créer la matrice identité de taille 10 que vous noterez Id_10.**"
   ]
  },
  {
   "cell_type": "code",
   "execution_count": 34,
   "metadata": {
    "scrolled": true
   },
   "outputs": [
    {
     "name": "stdout",
     "output_type": "stream",
     "text": [
      "[[  1 -11   5]\n",
      " [  2 -15   8]\n",
      " [ 12   7   6]]\n",
      "[[1. 0. 0. 0. 0. 0. 0. 0. 0. 0.]\n",
      " [0. 1. 0. 0. 0. 0. 0. 0. 0. 0.]\n",
      " [0. 0. 1. 0. 0. 0. 0. 0. 0. 0.]\n",
      " [0. 0. 0. 1. 0. 0. 0. 0. 0. 0.]\n",
      " [0. 0. 0. 0. 1. 0. 0. 0. 0. 0.]\n",
      " [0. 0. 0. 0. 0. 1. 0. 0. 0. 0.]\n",
      " [0. 0. 0. 0. 0. 0. 1. 0. 0. 0.]\n",
      " [0. 0. 0. 0. 0. 0. 0. 1. 0. 0.]\n",
      " [0. 0. 0. 0. 0. 0. 0. 0. 1. 0.]\n",
      " [0. 0. 0. 0. 0. 0. 0. 0. 0. 1.]]\n"
     ]
    }
   ],
   "source": [
    "import numpy as np\n",
    "A = np.array([[1,-11,5],[2,-15,8],[12,7,6]])\n",
    "print(A)\n",
    "Id_10 = np.identity(10)\n",
    "print( Id_10)"
   ]
  },
  {
   "cell_type": "markdown",
   "metadata": {},
   "source": [
    "**14. Créer une fonction `f` qui calcule l'image de la fonction f(x) suivante pour un x donné f(x) = 3x + 6 puis calculer f(2) pour vérification.**"
   ]
  },
  {
   "cell_type": "code",
   "execution_count": 37,
   "metadata": {},
   "outputs": [],
   "source": [
    "def f(n):\n",
    "    resultat=3*n+6\n",
    "    return resultat"
   ]
  },
  {
   "cell_type": "code",
   "execution_count": 38,
   "metadata": {},
   "outputs": [
    {
     "data": {
      "text/plain": [
       "12"
      ]
     },
     "execution_count": 38,
     "metadata": {},
     "output_type": "execute_result"
    }
   ],
   "source": [
    "f(2)"
   ]
  },
  {
   "cell_type": "markdown",
   "metadata": {},
   "source": [
    "**15. En utilisant les fonctions lambda, créer une fonction `f1` qui calcule le carré d'un nombre. Tester la fonction avec le nombre 5.**"
   ]
  },
  {
   "cell_type": "code",
   "execution_count": 44,
   "metadata": {},
   "outputs": [],
   "source": [
    " f1 = lambda x: x**2\n",
    "  "
   ]
  },
  {
   "cell_type": "code",
   "execution_count": 45,
   "metadata": {},
   "outputs": [
    {
     "data": {
      "text/plain": [
       "9"
      ]
     },
     "execution_count": 45,
     "metadata": {},
     "output_type": "execute_result"
    }
   ],
   "source": [
    "f1(3)"
   ]
  },
  {
   "cell_type": "markdown",
   "metadata": {},
   "source": [
    "**16. En utilisant les compréhensions de liste, recoder la fonction list_ispair de la question 3. Elle devra prendre en argument une liste de nombres et retourner une liste de nombres contenant les nombres entiers de la liste d'entrée. Vérifier son fonctionnement avec L_test.**"
   ]
  },
  {
   "cell_type": "code",
   "execution_count": 91,
   "metadata": {},
   "outputs": [],
   "source": [
    "def list_impair(liste):\n",
    "    listentier=[]\n",
    "    listentier=[listentier.append(i)for i in liste %2==0 or i%2==1]\n",
    "    return listentier\n",
    " list_impair()"
   ]
  },
  {
   "cell_type": "markdown",
   "metadata": {},
   "source": [
    "**17. Créer un set appelé `voy` qui contient les voyelles de l'alpjabet français.**"
   ]
  },
  {
   "cell_type": "code",
   "execution_count": 95,
   "metadata": {},
   "outputs": [
    {
     "data": {
      "text/plain": [
       "720"
      ]
     },
     "execution_count": 95,
     "metadata": {},
     "output_type": "execute_result"
    }
   ],
   "source": [
    "import itertools as it\n",
    "voy=list(voy)\n",
    "all_perm = list(it.permutations(voy))\n",
    "len(all_perm)"
   ]
  },
  {
   "cell_type": "code",
   "execution_count": 93,
   "metadata": {},
   "outputs": [
    {
     "name": "stdout",
     "output_type": "stream",
     "text": [
      "{'i', 'u', 'o', 'y', 'e', 'a'}\n"
     ]
    }
   ],
   "source": [
    "voy = set(\"aeiouy\")\n",
    "print (voy)"
   ]
  },
  {
   "cell_type": "markdown",
   "metadata": {},
   "source": [
    "**18. Importer la librairie nécessaire aux calculs combinatoires et calculer toutes les permutations de `voy`. Combien de permutations existe-t-il?**"
   ]
  },
  {
   "cell_type": "code",
   "execution_count": 97,
   "metadata": {},
   "outputs": [
    {
     "name": "stdout",
     "output_type": "stream",
     "text": [
      "[('A', 'I', 'Y', 'E', 'O', 'U'), ('A', 'I', 'Y', 'E', 'U', 'O'), ('A', 'I', 'Y', 'O', 'E', 'U'), ('A', 'I', 'Y', 'O', 'U', 'E'), ('A', 'I', 'Y', 'U', 'E', 'O'), ('A', 'I', 'Y', 'U', 'O', 'E'), ('A', 'I', 'E', 'Y', 'O', 'U'), ('A', 'I', 'E', 'Y', 'U', 'O'), ('A', 'I', 'E', 'O', 'Y', 'U'), ('A', 'I', 'E', 'O', 'U', 'Y'), ('A', 'I', 'E', 'U', 'Y', 'O'), ('A', 'I', 'E', 'U', 'O', 'Y'), ('A', 'I', 'O', 'Y', 'E', 'U'), ('A', 'I', 'O', 'Y', 'U', 'E'), ('A', 'I', 'O', 'E', 'Y', 'U'), ('A', 'I', 'O', 'E', 'U', 'Y'), ('A', 'I', 'O', 'U', 'Y', 'E'), ('A', 'I', 'O', 'U', 'E', 'Y'), ('A', 'I', 'U', 'Y', 'E', 'O'), ('A', 'I', 'U', 'Y', 'O', 'E'), ('A', 'I', 'U', 'E', 'Y', 'O'), ('A', 'I', 'U', 'E', 'O', 'Y'), ('A', 'I', 'U', 'O', 'Y', 'E'), ('A', 'I', 'U', 'O', 'E', 'Y'), ('A', 'Y', 'I', 'E', 'O', 'U'), ('A', 'Y', 'I', 'E', 'U', 'O'), ('A', 'Y', 'I', 'O', 'E', 'U'), ('A', 'Y', 'I', 'O', 'U', 'E'), ('A', 'Y', 'I', 'U', 'E', 'O'), ('A', 'Y', 'I', 'U', 'O', 'E'), ('A', 'Y', 'E', 'I', 'O', 'U'), ('A', 'Y', 'E', 'I', 'U', 'O'), ('A', 'Y', 'E', 'O', 'I', 'U'), ('A', 'Y', 'E', 'O', 'U', 'I'), ('A', 'Y', 'E', 'U', 'I', 'O'), ('A', 'Y', 'E', 'U', 'O', 'I'), ('A', 'Y', 'O', 'I', 'E', 'U'), ('A', 'Y', 'O', 'I', 'U', 'E'), ('A', 'Y', 'O', 'E', 'I', 'U'), ('A', 'Y', 'O', 'E', 'U', 'I'), ('A', 'Y', 'O', 'U', 'I', 'E'), ('A', 'Y', 'O', 'U', 'E', 'I'), ('A', 'Y', 'U', 'I', 'E', 'O'), ('A', 'Y', 'U', 'I', 'O', 'E'), ('A', 'Y', 'U', 'E', 'I', 'O'), ('A', 'Y', 'U', 'E', 'O', 'I'), ('A', 'Y', 'U', 'O', 'I', 'E'), ('A', 'Y', 'U', 'O', 'E', 'I'), ('A', 'E', 'I', 'Y', 'O', 'U'), ('A', 'E', 'I', 'Y', 'U', 'O'), ('A', 'E', 'I', 'O', 'Y', 'U'), ('A', 'E', 'I', 'O', 'U', 'Y'), ('A', 'E', 'I', 'U', 'Y', 'O'), ('A', 'E', 'I', 'U', 'O', 'Y'), ('A', 'E', 'Y', 'I', 'O', 'U'), ('A', 'E', 'Y', 'I', 'U', 'O'), ('A', 'E', 'Y', 'O', 'I', 'U'), ('A', 'E', 'Y', 'O', 'U', 'I'), ('A', 'E', 'Y', 'U', 'I', 'O'), ('A', 'E', 'Y', 'U', 'O', 'I'), ('A', 'E', 'O', 'I', 'Y', 'U'), ('A', 'E', 'O', 'I', 'U', 'Y'), ('A', 'E', 'O', 'Y', 'I', 'U'), ('A', 'E', 'O', 'Y', 'U', 'I'), ('A', 'E', 'O', 'U', 'I', 'Y'), ('A', 'E', 'O', 'U', 'Y', 'I'), ('A', 'E', 'U', 'I', 'Y', 'O'), ('A', 'E', 'U', 'I', 'O', 'Y'), ('A', 'E', 'U', 'Y', 'I', 'O'), ('A', 'E', 'U', 'Y', 'O', 'I'), ('A', 'E', 'U', 'O', 'I', 'Y'), ('A', 'E', 'U', 'O', 'Y', 'I'), ('A', 'O', 'I', 'Y', 'E', 'U'), ('A', 'O', 'I', 'Y', 'U', 'E'), ('A', 'O', 'I', 'E', 'Y', 'U'), ('A', 'O', 'I', 'E', 'U', 'Y'), ('A', 'O', 'I', 'U', 'Y', 'E'), ('A', 'O', 'I', 'U', 'E', 'Y'), ('A', 'O', 'Y', 'I', 'E', 'U'), ('A', 'O', 'Y', 'I', 'U', 'E'), ('A', 'O', 'Y', 'E', 'I', 'U'), ('A', 'O', 'Y', 'E', 'U', 'I'), ('A', 'O', 'Y', 'U', 'I', 'E'), ('A', 'O', 'Y', 'U', 'E', 'I'), ('A', 'O', 'E', 'I', 'Y', 'U'), ('A', 'O', 'E', 'I', 'U', 'Y'), ('A', 'O', 'E', 'Y', 'I', 'U'), ('A', 'O', 'E', 'Y', 'U', 'I'), ('A', 'O', 'E', 'U', 'I', 'Y'), ('A', 'O', 'E', 'U', 'Y', 'I'), ('A', 'O', 'U', 'I', 'Y', 'E'), ('A', 'O', 'U', 'I', 'E', 'Y'), ('A', 'O', 'U', 'Y', 'I', 'E'), ('A', 'O', 'U', 'Y', 'E', 'I'), ('A', 'O', 'U', 'E', 'I', 'Y'), ('A', 'O', 'U', 'E', 'Y', 'I'), ('A', 'U', 'I', 'Y', 'E', 'O'), ('A', 'U', 'I', 'Y', 'O', 'E'), ('A', 'U', 'I', 'E', 'Y', 'O'), ('A', 'U', 'I', 'E', 'O', 'Y'), ('A', 'U', 'I', 'O', 'Y', 'E'), ('A', 'U', 'I', 'O', 'E', 'Y'), ('A', 'U', 'Y', 'I', 'E', 'O'), ('A', 'U', 'Y', 'I', 'O', 'E'), ('A', 'U', 'Y', 'E', 'I', 'O'), ('A', 'U', 'Y', 'E', 'O', 'I'), ('A', 'U', 'Y', 'O', 'I', 'E'), ('A', 'U', 'Y', 'O', 'E', 'I'), ('A', 'U', 'E', 'I', 'Y', 'O'), ('A', 'U', 'E', 'I', 'O', 'Y'), ('A', 'U', 'E', 'Y', 'I', 'O'), ('A', 'U', 'E', 'Y', 'O', 'I'), ('A', 'U', 'E', 'O', 'I', 'Y'), ('A', 'U', 'E', 'O', 'Y', 'I'), ('A', 'U', 'O', 'I', 'Y', 'E'), ('A', 'U', 'O', 'I', 'E', 'Y'), ('A', 'U', 'O', 'Y', 'I', 'E'), ('A', 'U', 'O', 'Y', 'E', 'I'), ('A', 'U', 'O', 'E', 'I', 'Y'), ('A', 'U', 'O', 'E', 'Y', 'I'), ('I', 'A', 'Y', 'E', 'O', 'U'), ('I', 'A', 'Y', 'E', 'U', 'O'), ('I', 'A', 'Y', 'O', 'E', 'U'), ('I', 'A', 'Y', 'O', 'U', 'E'), ('I', 'A', 'Y', 'U', 'E', 'O'), ('I', 'A', 'Y', 'U', 'O', 'E'), ('I', 'A', 'E', 'Y', 'O', 'U'), ('I', 'A', 'E', 'Y', 'U', 'O'), ('I', 'A', 'E', 'O', 'Y', 'U'), ('I', 'A', 'E', 'O', 'U', 'Y'), ('I', 'A', 'E', 'U', 'Y', 'O'), ('I', 'A', 'E', 'U', 'O', 'Y'), ('I', 'A', 'O', 'Y', 'E', 'U'), ('I', 'A', 'O', 'Y', 'U', 'E'), ('I', 'A', 'O', 'E', 'Y', 'U'), ('I', 'A', 'O', 'E', 'U', 'Y'), ('I', 'A', 'O', 'U', 'Y', 'E'), ('I', 'A', 'O', 'U', 'E', 'Y'), ('I', 'A', 'U', 'Y', 'E', 'O'), ('I', 'A', 'U', 'Y', 'O', 'E'), ('I', 'A', 'U', 'E', 'Y', 'O'), ('I', 'A', 'U', 'E', 'O', 'Y'), ('I', 'A', 'U', 'O', 'Y', 'E'), ('I', 'A', 'U', 'O', 'E', 'Y'), ('I', 'Y', 'A', 'E', 'O', 'U'), ('I', 'Y', 'A', 'E', 'U', 'O'), ('I', 'Y', 'A', 'O', 'E', 'U'), ('I', 'Y', 'A', 'O', 'U', 'E'), ('I', 'Y', 'A', 'U', 'E', 'O'), ('I', 'Y', 'A', 'U', 'O', 'E'), ('I', 'Y', 'E', 'A', 'O', 'U'), ('I', 'Y', 'E', 'A', 'U', 'O'), ('I', 'Y', 'E', 'O', 'A', 'U'), ('I', 'Y', 'E', 'O', 'U', 'A'), ('I', 'Y', 'E', 'U', 'A', 'O'), ('I', 'Y', 'E', 'U', 'O', 'A'), ('I', 'Y', 'O', 'A', 'E', 'U'), ('I', 'Y', 'O', 'A', 'U', 'E'), ('I', 'Y', 'O', 'E', 'A', 'U'), ('I', 'Y', 'O', 'E', 'U', 'A'), ('I', 'Y', 'O', 'U', 'A', 'E'), ('I', 'Y', 'O', 'U', 'E', 'A'), ('I', 'Y', 'U', 'A', 'E', 'O'), ('I', 'Y', 'U', 'A', 'O', 'E'), ('I', 'Y', 'U', 'E', 'A', 'O'), ('I', 'Y', 'U', 'E', 'O', 'A'), ('I', 'Y', 'U', 'O', 'A', 'E'), ('I', 'Y', 'U', 'O', 'E', 'A'), ('I', 'E', 'A', 'Y', 'O', 'U'), ('I', 'E', 'A', 'Y', 'U', 'O'), ('I', 'E', 'A', 'O', 'Y', 'U'), ('I', 'E', 'A', 'O', 'U', 'Y'), ('I', 'E', 'A', 'U', 'Y', 'O'), ('I', 'E', 'A', 'U', 'O', 'Y'), ('I', 'E', 'Y', 'A', 'O', 'U'), ('I', 'E', 'Y', 'A', 'U', 'O'), ('I', 'E', 'Y', 'O', 'A', 'U'), ('I', 'E', 'Y', 'O', 'U', 'A'), ('I', 'E', 'Y', 'U', 'A', 'O'), ('I', 'E', 'Y', 'U', 'O', 'A'), ('I', 'E', 'O', 'A', 'Y', 'U'), ('I', 'E', 'O', 'A', 'U', 'Y'), ('I', 'E', 'O', 'Y', 'A', 'U'), ('I', 'E', 'O', 'Y', 'U', 'A'), ('I', 'E', 'O', 'U', 'A', 'Y'), ('I', 'E', 'O', 'U', 'Y', 'A'), ('I', 'E', 'U', 'A', 'Y', 'O'), ('I', 'E', 'U', 'A', 'O', 'Y'), ('I', 'E', 'U', 'Y', 'A', 'O'), ('I', 'E', 'U', 'Y', 'O', 'A'), ('I', 'E', 'U', 'O', 'A', 'Y'), ('I', 'E', 'U', 'O', 'Y', 'A'), ('I', 'O', 'A', 'Y', 'E', 'U'), ('I', 'O', 'A', 'Y', 'U', 'E'), ('I', 'O', 'A', 'E', 'Y', 'U'), ('I', 'O', 'A', 'E', 'U', 'Y'), ('I', 'O', 'A', 'U', 'Y', 'E'), ('I', 'O', 'A', 'U', 'E', 'Y'), ('I', 'O', 'Y', 'A', 'E', 'U'), ('I', 'O', 'Y', 'A', 'U', 'E'), ('I', 'O', 'Y', 'E', 'A', 'U'), ('I', 'O', 'Y', 'E', 'U', 'A'), ('I', 'O', 'Y', 'U', 'A', 'E'), ('I', 'O', 'Y', 'U', 'E', 'A'), ('I', 'O', 'E', 'A', 'Y', 'U'), ('I', 'O', 'E', 'A', 'U', 'Y'), ('I', 'O', 'E', 'Y', 'A', 'U'), ('I', 'O', 'E', 'Y', 'U', 'A'), ('I', 'O', 'E', 'U', 'A', 'Y'), ('I', 'O', 'E', 'U', 'Y', 'A'), ('I', 'O', 'U', 'A', 'Y', 'E'), ('I', 'O', 'U', 'A', 'E', 'Y'), ('I', 'O', 'U', 'Y', 'A', 'E'), ('I', 'O', 'U', 'Y', 'E', 'A'), ('I', 'O', 'U', 'E', 'A', 'Y'), ('I', 'O', 'U', 'E', 'Y', 'A'), ('I', 'U', 'A', 'Y', 'E', 'O'), ('I', 'U', 'A', 'Y', 'O', 'E'), ('I', 'U', 'A', 'E', 'Y', 'O'), ('I', 'U', 'A', 'E', 'O', 'Y'), ('I', 'U', 'A', 'O', 'Y', 'E'), ('I', 'U', 'A', 'O', 'E', 'Y'), ('I', 'U', 'Y', 'A', 'E', 'O'), ('I', 'U', 'Y', 'A', 'O', 'E'), ('I', 'U', 'Y', 'E', 'A', 'O'), ('I', 'U', 'Y', 'E', 'O', 'A'), ('I', 'U', 'Y', 'O', 'A', 'E'), ('I', 'U', 'Y', 'O', 'E', 'A'), ('I', 'U', 'E', 'A', 'Y', 'O'), ('I', 'U', 'E', 'A', 'O', 'Y'), ('I', 'U', 'E', 'Y', 'A', 'O'), ('I', 'U', 'E', 'Y', 'O', 'A'), ('I', 'U', 'E', 'O', 'A', 'Y'), ('I', 'U', 'E', 'O', 'Y', 'A'), ('I', 'U', 'O', 'A', 'Y', 'E'), ('I', 'U', 'O', 'A', 'E', 'Y'), ('I', 'U', 'O', 'Y', 'A', 'E'), ('I', 'U', 'O', 'Y', 'E', 'A'), ('I', 'U', 'O', 'E', 'A', 'Y'), ('I', 'U', 'O', 'E', 'Y', 'A'), ('Y', 'A', 'I', 'E', 'O', 'U'), ('Y', 'A', 'I', 'E', 'U', 'O'), ('Y', 'A', 'I', 'O', 'E', 'U'), ('Y', 'A', 'I', 'O', 'U', 'E'), ('Y', 'A', 'I', 'U', 'E', 'O'), ('Y', 'A', 'I', 'U', 'O', 'E'), ('Y', 'A', 'E', 'I', 'O', 'U'), ('Y', 'A', 'E', 'I', 'U', 'O'), ('Y', 'A', 'E', 'O', 'I', 'U'), ('Y', 'A', 'E', 'O', 'U', 'I'), ('Y', 'A', 'E', 'U', 'I', 'O'), ('Y', 'A', 'E', 'U', 'O', 'I'), ('Y', 'A', 'O', 'I', 'E', 'U'), ('Y', 'A', 'O', 'I', 'U', 'E'), ('Y', 'A', 'O', 'E', 'I', 'U'), ('Y', 'A', 'O', 'E', 'U', 'I'), ('Y', 'A', 'O', 'U', 'I', 'E'), ('Y', 'A', 'O', 'U', 'E', 'I'), ('Y', 'A', 'U', 'I', 'E', 'O'), ('Y', 'A', 'U', 'I', 'O', 'E'), ('Y', 'A', 'U', 'E', 'I', 'O'), ('Y', 'A', 'U', 'E', 'O', 'I'), ('Y', 'A', 'U', 'O', 'I', 'E'), ('Y', 'A', 'U', 'O', 'E', 'I'), ('Y', 'I', 'A', 'E', 'O', 'U'), ('Y', 'I', 'A', 'E', 'U', 'O'), ('Y', 'I', 'A', 'O', 'E', 'U'), ('Y', 'I', 'A', 'O', 'U', 'E'), ('Y', 'I', 'A', 'U', 'E', 'O'), ('Y', 'I', 'A', 'U', 'O', 'E'), ('Y', 'I', 'E', 'A', 'O', 'U'), ('Y', 'I', 'E', 'A', 'U', 'O'), ('Y', 'I', 'E', 'O', 'A', 'U'), ('Y', 'I', 'E', 'O', 'U', 'A'), ('Y', 'I', 'E', 'U', 'A', 'O'), ('Y', 'I', 'E', 'U', 'O', 'A'), ('Y', 'I', 'O', 'A', 'E', 'U'), ('Y', 'I', 'O', 'A', 'U', 'E'), ('Y', 'I', 'O', 'E', 'A', 'U'), ('Y', 'I', 'O', 'E', 'U', 'A'), ('Y', 'I', 'O', 'U', 'A', 'E'), ('Y', 'I', 'O', 'U', 'E', 'A'), ('Y', 'I', 'U', 'A', 'E', 'O'), ('Y', 'I', 'U', 'A', 'O', 'E'), ('Y', 'I', 'U', 'E', 'A', 'O'), ('Y', 'I', 'U', 'E', 'O', 'A'), ('Y', 'I', 'U', 'O', 'A', 'E'), ('Y', 'I', 'U', 'O', 'E', 'A'), ('Y', 'E', 'A', 'I', 'O', 'U'), ('Y', 'E', 'A', 'I', 'U', 'O'), ('Y', 'E', 'A', 'O', 'I', 'U'), ('Y', 'E', 'A', 'O', 'U', 'I'), ('Y', 'E', 'A', 'U', 'I', 'O'), ('Y', 'E', 'A', 'U', 'O', 'I'), ('Y', 'E', 'I', 'A', 'O', 'U'), ('Y', 'E', 'I', 'A', 'U', 'O'), ('Y', 'E', 'I', 'O', 'A', 'U'), ('Y', 'E', 'I', 'O', 'U', 'A'), ('Y', 'E', 'I', 'U', 'A', 'O'), ('Y', 'E', 'I', 'U', 'O', 'A'), ('Y', 'E', 'O', 'A', 'I', 'U'), ('Y', 'E', 'O', 'A', 'U', 'I'), ('Y', 'E', 'O', 'I', 'A', 'U'), ('Y', 'E', 'O', 'I', 'U', 'A'), ('Y', 'E', 'O', 'U', 'A', 'I'), ('Y', 'E', 'O', 'U', 'I', 'A'), ('Y', 'E', 'U', 'A', 'I', 'O'), ('Y', 'E', 'U', 'A', 'O', 'I'), ('Y', 'E', 'U', 'I', 'A', 'O'), ('Y', 'E', 'U', 'I', 'O', 'A'), ('Y', 'E', 'U', 'O', 'A', 'I'), ('Y', 'E', 'U', 'O', 'I', 'A'), ('Y', 'O', 'A', 'I', 'E', 'U'), ('Y', 'O', 'A', 'I', 'U', 'E'), ('Y', 'O', 'A', 'E', 'I', 'U'), ('Y', 'O', 'A', 'E', 'U', 'I'), ('Y', 'O', 'A', 'U', 'I', 'E'), ('Y', 'O', 'A', 'U', 'E', 'I'), ('Y', 'O', 'I', 'A', 'E', 'U'), ('Y', 'O', 'I', 'A', 'U', 'E'), ('Y', 'O', 'I', 'E', 'A', 'U'), ('Y', 'O', 'I', 'E', 'U', 'A'), ('Y', 'O', 'I', 'U', 'A', 'E'), ('Y', 'O', 'I', 'U', 'E', 'A'), ('Y', 'O', 'E', 'A', 'I', 'U'), ('Y', 'O', 'E', 'A', 'U', 'I'), ('Y', 'O', 'E', 'I', 'A', 'U'), ('Y', 'O', 'E', 'I', 'U', 'A'), ('Y', 'O', 'E', 'U', 'A', 'I'), ('Y', 'O', 'E', 'U', 'I', 'A'), ('Y', 'O', 'U', 'A', 'I', 'E'), ('Y', 'O', 'U', 'A', 'E', 'I'), ('Y', 'O', 'U', 'I', 'A', 'E'), ('Y', 'O', 'U', 'I', 'E', 'A'), ('Y', 'O', 'U', 'E', 'A', 'I'), ('Y', 'O', 'U', 'E', 'I', 'A'), ('Y', 'U', 'A', 'I', 'E', 'O'), ('Y', 'U', 'A', 'I', 'O', 'E'), ('Y', 'U', 'A', 'E', 'I', 'O'), ('Y', 'U', 'A', 'E', 'O', 'I'), ('Y', 'U', 'A', 'O', 'I', 'E'), ('Y', 'U', 'A', 'O', 'E', 'I'), ('Y', 'U', 'I', 'A', 'E', 'O'), ('Y', 'U', 'I', 'A', 'O', 'E'), ('Y', 'U', 'I', 'E', 'A', 'O'), ('Y', 'U', 'I', 'E', 'O', 'A'), ('Y', 'U', 'I', 'O', 'A', 'E'), ('Y', 'U', 'I', 'O', 'E', 'A'), ('Y', 'U', 'E', 'A', 'I', 'O'), ('Y', 'U', 'E', 'A', 'O', 'I'), ('Y', 'U', 'E', 'I', 'A', 'O'), ('Y', 'U', 'E', 'I', 'O', 'A'), ('Y', 'U', 'E', 'O', 'A', 'I'), ('Y', 'U', 'E', 'O', 'I', 'A'), ('Y', 'U', 'O', 'A', 'I', 'E'), ('Y', 'U', 'O', 'A', 'E', 'I'), ('Y', 'U', 'O', 'I', 'A', 'E'), ('Y', 'U', 'O', 'I', 'E', 'A'), ('Y', 'U', 'O', 'E', 'A', 'I'), ('Y', 'U', 'O', 'E', 'I', 'A'), ('E', 'A', 'I', 'Y', 'O', 'U'), ('E', 'A', 'I', 'Y', 'U', 'O'), ('E', 'A', 'I', 'O', 'Y', 'U'), ('E', 'A', 'I', 'O', 'U', 'Y'), ('E', 'A', 'I', 'U', 'Y', 'O'), ('E', 'A', 'I', 'U', 'O', 'Y'), ('E', 'A', 'Y', 'I', 'O', 'U'), ('E', 'A', 'Y', 'I', 'U', 'O'), ('E', 'A', 'Y', 'O', 'I', 'U'), ('E', 'A', 'Y', 'O', 'U', 'I'), ('E', 'A', 'Y', 'U', 'I', 'O'), ('E', 'A', 'Y', 'U', 'O', 'I'), ('E', 'A', 'O', 'I', 'Y', 'U'), ('E', 'A', 'O', 'I', 'U', 'Y'), ('E', 'A', 'O', 'Y', 'I', 'U'), ('E', 'A', 'O', 'Y', 'U', 'I'), ('E', 'A', 'O', 'U', 'I', 'Y'), ('E', 'A', 'O', 'U', 'Y', 'I'), ('E', 'A', 'U', 'I', 'Y', 'O'), ('E', 'A', 'U', 'I', 'O', 'Y'), ('E', 'A', 'U', 'Y', 'I', 'O'), ('E', 'A', 'U', 'Y', 'O', 'I'), ('E', 'A', 'U', 'O', 'I', 'Y'), ('E', 'A', 'U', 'O', 'Y', 'I'), ('E', 'I', 'A', 'Y', 'O', 'U'), ('E', 'I', 'A', 'Y', 'U', 'O'), ('E', 'I', 'A', 'O', 'Y', 'U'), ('E', 'I', 'A', 'O', 'U', 'Y'), ('E', 'I', 'A', 'U', 'Y', 'O'), ('E', 'I', 'A', 'U', 'O', 'Y'), ('E', 'I', 'Y', 'A', 'O', 'U'), ('E', 'I', 'Y', 'A', 'U', 'O'), ('E', 'I', 'Y', 'O', 'A', 'U'), ('E', 'I', 'Y', 'O', 'U', 'A'), ('E', 'I', 'Y', 'U', 'A', 'O'), ('E', 'I', 'Y', 'U', 'O', 'A'), ('E', 'I', 'O', 'A', 'Y', 'U'), ('E', 'I', 'O', 'A', 'U', 'Y'), ('E', 'I', 'O', 'Y', 'A', 'U'), ('E', 'I', 'O', 'Y', 'U', 'A'), ('E', 'I', 'O', 'U', 'A', 'Y'), ('E', 'I', 'O', 'U', 'Y', 'A'), ('E', 'I', 'U', 'A', 'Y', 'O'), ('E', 'I', 'U', 'A', 'O', 'Y'), ('E', 'I', 'U', 'Y', 'A', 'O'), ('E', 'I', 'U', 'Y', 'O', 'A'), ('E', 'I', 'U', 'O', 'A', 'Y'), ('E', 'I', 'U', 'O', 'Y', 'A'), ('E', 'Y', 'A', 'I', 'O', 'U'), ('E', 'Y', 'A', 'I', 'U', 'O'), ('E', 'Y', 'A', 'O', 'I', 'U'), ('E', 'Y', 'A', 'O', 'U', 'I'), ('E', 'Y', 'A', 'U', 'I', 'O'), ('E', 'Y', 'A', 'U', 'O', 'I'), ('E', 'Y', 'I', 'A', 'O', 'U'), ('E', 'Y', 'I', 'A', 'U', 'O'), ('E', 'Y', 'I', 'O', 'A', 'U'), ('E', 'Y', 'I', 'O', 'U', 'A'), ('E', 'Y', 'I', 'U', 'A', 'O'), ('E', 'Y', 'I', 'U', 'O', 'A'), ('E', 'Y', 'O', 'A', 'I', 'U'), ('E', 'Y', 'O', 'A', 'U', 'I'), ('E', 'Y', 'O', 'I', 'A', 'U'), ('E', 'Y', 'O', 'I', 'U', 'A'), ('E', 'Y', 'O', 'U', 'A', 'I'), ('E', 'Y', 'O', 'U', 'I', 'A'), ('E', 'Y', 'U', 'A', 'I', 'O'), ('E', 'Y', 'U', 'A', 'O', 'I'), ('E', 'Y', 'U', 'I', 'A', 'O'), ('E', 'Y', 'U', 'I', 'O', 'A'), ('E', 'Y', 'U', 'O', 'A', 'I'), ('E', 'Y', 'U', 'O', 'I', 'A'), ('E', 'O', 'A', 'I', 'Y', 'U'), ('E', 'O', 'A', 'I', 'U', 'Y'), ('E', 'O', 'A', 'Y', 'I', 'U'), ('E', 'O', 'A', 'Y', 'U', 'I'), ('E', 'O', 'A', 'U', 'I', 'Y'), ('E', 'O', 'A', 'U', 'Y', 'I'), ('E', 'O', 'I', 'A', 'Y', 'U'), ('E', 'O', 'I', 'A', 'U', 'Y'), ('E', 'O', 'I', 'Y', 'A', 'U'), ('E', 'O', 'I', 'Y', 'U', 'A'), ('E', 'O', 'I', 'U', 'A', 'Y'), ('E', 'O', 'I', 'U', 'Y', 'A'), ('E', 'O', 'Y', 'A', 'I', 'U'), ('E', 'O', 'Y', 'A', 'U', 'I'), ('E', 'O', 'Y', 'I', 'A', 'U'), ('E', 'O', 'Y', 'I', 'U', 'A'), ('E', 'O', 'Y', 'U', 'A', 'I'), ('E', 'O', 'Y', 'U', 'I', 'A'), ('E', 'O', 'U', 'A', 'I', 'Y'), ('E', 'O', 'U', 'A', 'Y', 'I'), ('E', 'O', 'U', 'I', 'A', 'Y'), ('E', 'O', 'U', 'I', 'Y', 'A'), ('E', 'O', 'U', 'Y', 'A', 'I'), ('E', 'O', 'U', 'Y', 'I', 'A'), ('E', 'U', 'A', 'I', 'Y', 'O'), ('E', 'U', 'A', 'I', 'O', 'Y'), ('E', 'U', 'A', 'Y', 'I', 'O'), ('E', 'U', 'A', 'Y', 'O', 'I'), ('E', 'U', 'A', 'O', 'I', 'Y'), ('E', 'U', 'A', 'O', 'Y', 'I'), ('E', 'U', 'I', 'A', 'Y', 'O'), ('E', 'U', 'I', 'A', 'O', 'Y'), ('E', 'U', 'I', 'Y', 'A', 'O'), ('E', 'U', 'I', 'Y', 'O', 'A'), ('E', 'U', 'I', 'O', 'A', 'Y'), ('E', 'U', 'I', 'O', 'Y', 'A'), ('E', 'U', 'Y', 'A', 'I', 'O'), ('E', 'U', 'Y', 'A', 'O', 'I'), ('E', 'U', 'Y', 'I', 'A', 'O'), ('E', 'U', 'Y', 'I', 'O', 'A'), ('E', 'U', 'Y', 'O', 'A', 'I'), ('E', 'U', 'Y', 'O', 'I', 'A'), ('E', 'U', 'O', 'A', 'I', 'Y'), ('E', 'U', 'O', 'A', 'Y', 'I'), ('E', 'U', 'O', 'I', 'A', 'Y'), ('E', 'U', 'O', 'I', 'Y', 'A'), ('E', 'U', 'O', 'Y', 'A', 'I'), ('E', 'U', 'O', 'Y', 'I', 'A'), ('O', 'A', 'I', 'Y', 'E', 'U'), ('O', 'A', 'I', 'Y', 'U', 'E'), ('O', 'A', 'I', 'E', 'Y', 'U'), ('O', 'A', 'I', 'E', 'U', 'Y'), ('O', 'A', 'I', 'U', 'Y', 'E'), ('O', 'A', 'I', 'U', 'E', 'Y'), ('O', 'A', 'Y', 'I', 'E', 'U'), ('O', 'A', 'Y', 'I', 'U', 'E'), ('O', 'A', 'Y', 'E', 'I', 'U'), ('O', 'A', 'Y', 'E', 'U', 'I'), ('O', 'A', 'Y', 'U', 'I', 'E'), ('O', 'A', 'Y', 'U', 'E', 'I'), ('O', 'A', 'E', 'I', 'Y', 'U'), ('O', 'A', 'E', 'I', 'U', 'Y'), ('O', 'A', 'E', 'Y', 'I', 'U'), ('O', 'A', 'E', 'Y', 'U', 'I'), ('O', 'A', 'E', 'U', 'I', 'Y'), ('O', 'A', 'E', 'U', 'Y', 'I'), ('O', 'A', 'U', 'I', 'Y', 'E'), ('O', 'A', 'U', 'I', 'E', 'Y'), ('O', 'A', 'U', 'Y', 'I', 'E'), ('O', 'A', 'U', 'Y', 'E', 'I'), ('O', 'A', 'U', 'E', 'I', 'Y'), ('O', 'A', 'U', 'E', 'Y', 'I'), ('O', 'I', 'A', 'Y', 'E', 'U'), ('O', 'I', 'A', 'Y', 'U', 'E'), ('O', 'I', 'A', 'E', 'Y', 'U'), ('O', 'I', 'A', 'E', 'U', 'Y'), ('O', 'I', 'A', 'U', 'Y', 'E'), ('O', 'I', 'A', 'U', 'E', 'Y'), ('O', 'I', 'Y', 'A', 'E', 'U'), ('O', 'I', 'Y', 'A', 'U', 'E'), ('O', 'I', 'Y', 'E', 'A', 'U'), ('O', 'I', 'Y', 'E', 'U', 'A'), ('O', 'I', 'Y', 'U', 'A', 'E'), ('O', 'I', 'Y', 'U', 'E', 'A'), ('O', 'I', 'E', 'A', 'Y', 'U'), ('O', 'I', 'E', 'A', 'U', 'Y'), ('O', 'I', 'E', 'Y', 'A', 'U'), ('O', 'I', 'E', 'Y', 'U', 'A'), ('O', 'I', 'E', 'U', 'A', 'Y'), ('O', 'I', 'E', 'U', 'Y', 'A'), ('O', 'I', 'U', 'A', 'Y', 'E'), ('O', 'I', 'U', 'A', 'E', 'Y'), ('O', 'I', 'U', 'Y', 'A', 'E'), ('O', 'I', 'U', 'Y', 'E', 'A'), ('O', 'I', 'U', 'E', 'A', 'Y'), ('O', 'I', 'U', 'E', 'Y', 'A'), ('O', 'Y', 'A', 'I', 'E', 'U'), ('O', 'Y', 'A', 'I', 'U', 'E'), ('O', 'Y', 'A', 'E', 'I', 'U'), ('O', 'Y', 'A', 'E', 'U', 'I'), ('O', 'Y', 'A', 'U', 'I', 'E'), ('O', 'Y', 'A', 'U', 'E', 'I'), ('O', 'Y', 'I', 'A', 'E', 'U'), ('O', 'Y', 'I', 'A', 'U', 'E'), ('O', 'Y', 'I', 'E', 'A', 'U'), ('O', 'Y', 'I', 'E', 'U', 'A'), ('O', 'Y', 'I', 'U', 'A', 'E'), ('O', 'Y', 'I', 'U', 'E', 'A'), ('O', 'Y', 'E', 'A', 'I', 'U'), ('O', 'Y', 'E', 'A', 'U', 'I'), ('O', 'Y', 'E', 'I', 'A', 'U'), ('O', 'Y', 'E', 'I', 'U', 'A'), ('O', 'Y', 'E', 'U', 'A', 'I'), ('O', 'Y', 'E', 'U', 'I', 'A'), ('O', 'Y', 'U', 'A', 'I', 'E'), ('O', 'Y', 'U', 'A', 'E', 'I'), ('O', 'Y', 'U', 'I', 'A', 'E'), ('O', 'Y', 'U', 'I', 'E', 'A'), ('O', 'Y', 'U', 'E', 'A', 'I'), ('O', 'Y', 'U', 'E', 'I', 'A'), ('O', 'E', 'A', 'I', 'Y', 'U'), ('O', 'E', 'A', 'I', 'U', 'Y'), ('O', 'E', 'A', 'Y', 'I', 'U'), ('O', 'E', 'A', 'Y', 'U', 'I'), ('O', 'E', 'A', 'U', 'I', 'Y'), ('O', 'E', 'A', 'U', 'Y', 'I'), ('O', 'E', 'I', 'A', 'Y', 'U'), ('O', 'E', 'I', 'A', 'U', 'Y'), ('O', 'E', 'I', 'Y', 'A', 'U'), ('O', 'E', 'I', 'Y', 'U', 'A'), ('O', 'E', 'I', 'U', 'A', 'Y'), ('O', 'E', 'I', 'U', 'Y', 'A'), ('O', 'E', 'Y', 'A', 'I', 'U'), ('O', 'E', 'Y', 'A', 'U', 'I'), ('O', 'E', 'Y', 'I', 'A', 'U'), ('O', 'E', 'Y', 'I', 'U', 'A'), ('O', 'E', 'Y', 'U', 'A', 'I'), ('O', 'E', 'Y', 'U', 'I', 'A'), ('O', 'E', 'U', 'A', 'I', 'Y'), ('O', 'E', 'U', 'A', 'Y', 'I'), ('O', 'E', 'U', 'I', 'A', 'Y'), ('O', 'E', 'U', 'I', 'Y', 'A'), ('O', 'E', 'U', 'Y', 'A', 'I'), ('O', 'E', 'U', 'Y', 'I', 'A'), ('O', 'U', 'A', 'I', 'Y', 'E'), ('O', 'U', 'A', 'I', 'E', 'Y'), ('O', 'U', 'A', 'Y', 'I', 'E'), ('O', 'U', 'A', 'Y', 'E', 'I'), ('O', 'U', 'A', 'E', 'I', 'Y'), ('O', 'U', 'A', 'E', 'Y', 'I'), ('O', 'U', 'I', 'A', 'Y', 'E'), ('O', 'U', 'I', 'A', 'E', 'Y'), ('O', 'U', 'I', 'Y', 'A', 'E'), ('O', 'U', 'I', 'Y', 'E', 'A'), ('O', 'U', 'I', 'E', 'A', 'Y'), ('O', 'U', 'I', 'E', 'Y', 'A'), ('O', 'U', 'Y', 'A', 'I', 'E'), ('O', 'U', 'Y', 'A', 'E', 'I'), ('O', 'U', 'Y', 'I', 'A', 'E'), ('O', 'U', 'Y', 'I', 'E', 'A'), ('O', 'U', 'Y', 'E', 'A', 'I'), ('O', 'U', 'Y', 'E', 'I', 'A'), ('O', 'U', 'E', 'A', 'I', 'Y'), ('O', 'U', 'E', 'A', 'Y', 'I'), ('O', 'U', 'E', 'I', 'A', 'Y'), ('O', 'U', 'E', 'I', 'Y', 'A'), ('O', 'U', 'E', 'Y', 'A', 'I'), ('O', 'U', 'E', 'Y', 'I', 'A'), ('U', 'A', 'I', 'Y', 'E', 'O'), ('U', 'A', 'I', 'Y', 'O', 'E'), ('U', 'A', 'I', 'E', 'Y', 'O'), ('U', 'A', 'I', 'E', 'O', 'Y'), ('U', 'A', 'I', 'O', 'Y', 'E'), ('U', 'A', 'I', 'O', 'E', 'Y'), ('U', 'A', 'Y', 'I', 'E', 'O'), ('U', 'A', 'Y', 'I', 'O', 'E'), ('U', 'A', 'Y', 'E', 'I', 'O'), ('U', 'A', 'Y', 'E', 'O', 'I'), ('U', 'A', 'Y', 'O', 'I', 'E'), ('U', 'A', 'Y', 'O', 'E', 'I'), ('U', 'A', 'E', 'I', 'Y', 'O'), ('U', 'A', 'E', 'I', 'O', 'Y'), ('U', 'A', 'E', 'Y', 'I', 'O'), ('U', 'A', 'E', 'Y', 'O', 'I'), ('U', 'A', 'E', 'O', 'I', 'Y'), ('U', 'A', 'E', 'O', 'Y', 'I'), ('U', 'A', 'O', 'I', 'Y', 'E'), ('U', 'A', 'O', 'I', 'E', 'Y'), ('U', 'A', 'O', 'Y', 'I', 'E'), ('U', 'A', 'O', 'Y', 'E', 'I'), ('U', 'A', 'O', 'E', 'I', 'Y'), ('U', 'A', 'O', 'E', 'Y', 'I'), ('U', 'I', 'A', 'Y', 'E', 'O'), ('U', 'I', 'A', 'Y', 'O', 'E'), ('U', 'I', 'A', 'E', 'Y', 'O'), ('U', 'I', 'A', 'E', 'O', 'Y'), ('U', 'I', 'A', 'O', 'Y', 'E'), ('U', 'I', 'A', 'O', 'E', 'Y'), ('U', 'I', 'Y', 'A', 'E', 'O'), ('U', 'I', 'Y', 'A', 'O', 'E'), ('U', 'I', 'Y', 'E', 'A', 'O'), ('U', 'I', 'Y', 'E', 'O', 'A'), ('U', 'I', 'Y', 'O', 'A', 'E'), ('U', 'I', 'Y', 'O', 'E', 'A'), ('U', 'I', 'E', 'A', 'Y', 'O'), ('U', 'I', 'E', 'A', 'O', 'Y'), ('U', 'I', 'E', 'Y', 'A', 'O'), ('U', 'I', 'E', 'Y', 'O', 'A'), ('U', 'I', 'E', 'O', 'A', 'Y'), ('U', 'I', 'E', 'O', 'Y', 'A'), ('U', 'I', 'O', 'A', 'Y', 'E'), ('U', 'I', 'O', 'A', 'E', 'Y'), ('U', 'I', 'O', 'Y', 'A', 'E'), ('U', 'I', 'O', 'Y', 'E', 'A'), ('U', 'I', 'O', 'E', 'A', 'Y'), ('U', 'I', 'O', 'E', 'Y', 'A'), ('U', 'Y', 'A', 'I', 'E', 'O'), ('U', 'Y', 'A', 'I', 'O', 'E'), ('U', 'Y', 'A', 'E', 'I', 'O'), ('U', 'Y', 'A', 'E', 'O', 'I'), ('U', 'Y', 'A', 'O', 'I', 'E'), ('U', 'Y', 'A', 'O', 'E', 'I'), ('U', 'Y', 'I', 'A', 'E', 'O'), ('U', 'Y', 'I', 'A', 'O', 'E'), ('U', 'Y', 'I', 'E', 'A', 'O'), ('U', 'Y', 'I', 'E', 'O', 'A'), ('U', 'Y', 'I', 'O', 'A', 'E'), ('U', 'Y', 'I', 'O', 'E', 'A'), ('U', 'Y', 'E', 'A', 'I', 'O'), ('U', 'Y', 'E', 'A', 'O', 'I'), ('U', 'Y', 'E', 'I', 'A', 'O'), ('U', 'Y', 'E', 'I', 'O', 'A'), ('U', 'Y', 'E', 'O', 'A', 'I'), ('U', 'Y', 'E', 'O', 'I', 'A'), ('U', 'Y', 'O', 'A', 'I', 'E'), ('U', 'Y', 'O', 'A', 'E', 'I'), ('U', 'Y', 'O', 'I', 'A', 'E'), ('U', 'Y', 'O', 'I', 'E', 'A'), ('U', 'Y', 'O', 'E', 'A', 'I'), ('U', 'Y', 'O', 'E', 'I', 'A'), ('U', 'E', 'A', 'I', 'Y', 'O'), ('U', 'E', 'A', 'I', 'O', 'Y'), ('U', 'E', 'A', 'Y', 'I', 'O'), ('U', 'E', 'A', 'Y', 'O', 'I'), ('U', 'E', 'A', 'O', 'I', 'Y'), ('U', 'E', 'A', 'O', 'Y', 'I'), ('U', 'E', 'I', 'A', 'Y', 'O'), ('U', 'E', 'I', 'A', 'O', 'Y'), ('U', 'E', 'I', 'Y', 'A', 'O'), ('U', 'E', 'I', 'Y', 'O', 'A'), ('U', 'E', 'I', 'O', 'A', 'Y'), ('U', 'E', 'I', 'O', 'Y', 'A'), ('U', 'E', 'Y', 'A', 'I', 'O'), ('U', 'E', 'Y', 'A', 'O', 'I'), ('U', 'E', 'Y', 'I', 'A', 'O'), ('U', 'E', 'Y', 'I', 'O', 'A'), ('U', 'E', 'Y', 'O', 'A', 'I'), ('U', 'E', 'Y', 'O', 'I', 'A'), ('U', 'E', 'O', 'A', 'I', 'Y'), ('U', 'E', 'O', 'A', 'Y', 'I'), ('U', 'E', 'O', 'I', 'A', 'Y'), ('U', 'E', 'O', 'I', 'Y', 'A'), ('U', 'E', 'O', 'Y', 'A', 'I'), ('U', 'E', 'O', 'Y', 'I', 'A'), ('U', 'O', 'A', 'I', 'Y', 'E'), ('U', 'O', 'A', 'I', 'E', 'Y'), ('U', 'O', 'A', 'Y', 'I', 'E'), ('U', 'O', 'A', 'Y', 'E', 'I'), ('U', 'O', 'A', 'E', 'I', 'Y'), ('U', 'O', 'A', 'E', 'Y', 'I'), ('U', 'O', 'I', 'A', 'Y', 'E'), ('U', 'O', 'I', 'A', 'E', 'Y'), ('U', 'O', 'I', 'Y', 'A', 'E'), ('U', 'O', 'I', 'Y', 'E', 'A'), ('U', 'O', 'I', 'E', 'A', 'Y'), ('U', 'O', 'I', 'E', 'Y', 'A'), ('U', 'O', 'Y', 'A', 'I', 'E'), ('U', 'O', 'Y', 'A', 'E', 'I'), ('U', 'O', 'Y', 'I', 'A', 'E'), ('U', 'O', 'Y', 'I', 'E', 'A'), ('U', 'O', 'Y', 'E', 'A', 'I'), ('U', 'O', 'Y', 'E', 'I', 'A'), ('U', 'O', 'E', 'A', 'I', 'Y'), ('U', 'O', 'E', 'A', 'Y', 'I'), ('U', 'O', 'E', 'I', 'A', 'Y'), ('U', 'O', 'E', 'I', 'Y', 'A'), ('U', 'O', 'E', 'Y', 'A', 'I'), ('U', 'O', 'E', 'Y', 'I', 'A')]\n"
     ]
    },
    {
     "data": {
      "text/plain": [
       "720"
      ]
     },
     "execution_count": 97,
     "metadata": {},
     "output_type": "execute_result"
    }
   ],
   "source": [
    "import itertools as it\n",
    "voy=list(voy)\n",
    "all_perm = list(it.permutations(voy))\n",
    "print(all_perm)\n",
    "len(all_perm)"
   ]
  },
  {
   "cell_type": "markdown",
   "metadata": {},
   "source": [
    "**19. On tire simultanément 2 boules parmi dans une urne contenant 6 boules rouges, 3 vertes et 2 boules noires indicernables au toucher.\n",
    "Combien y-a-t-il de tirages possibles ? Vérifier votre réponse avec un script.**"
   ]
  },
  {
   "cell_type": "code",
   "execution_count": null,
   "metadata": {},
   "outputs": [],
   "source": [
    "Br={R1,R2,R3,R4,R5,R6}\n",
    "Bv={V1,V2,V3}\n",
    "Bn={N1,N2}"
   ]
  },
  {
   "cell_type": "code",
   "execution_count": 98,
   "metadata": {
    "scrolled": true
   },
   "outputs": [
    {
     "name": "stdout",
     "output_type": "stream",
     "text": [
      "{('r5', 'n1'), ('r3', 'r6'), ('r3', 'n2'), ('r6', 'v3'), ('v2', 'n2'), ('r6', 'r2'), ('r3', 'v2'), ('r5', 'v2'), ('n1', 'v3'), ('r1', 'v2'), ('v3', 'r2'), ('r1', 'v3'), ('v2', 'v1'), ('r6', 'v2'), ('r2', 'r4'), ('r5', 'v3'), ('v2', 'r4'), ('n1', 'v1'), ('n1', 'r4'), ('r2', 'v1'), ('r6', 'n2'), ('n1', 'r3'), ('v3', 'v2'), ('r5', 'r4'), ('r3', 'r2'), ('v1', 'r4'), ('v3', 'n2'), ('n1', 'r1'), ('r2', 'n2'), ('r2', 'v2'), ('n1', 'r6'), ('r5', 'r1'), ('n1', 'n2'), ('r1', 'r6'), ('r3', 'v3'), ('r1', 'n2'), ('r6', 'r4'), ('n2', 'r4'), ('r6', 'v1'), ('n2', 'v1'), ('r5', 'n2'), ('r5', 'r6'), ('n1', 'v2'), ('r3', 'r4'), ('v3', 'r4'), ('v3', 'v1'), ('r5', 'r2'), ('r1', 'v1'), ('r5', 'v1'), ('r1', 'r2'), ('r1', 'r4'), ('n1', 'r2'), ('r3', 'v1'), ('r3', 'r1'), ('r5', 'r3')}\n",
      "55\n"
     ]
    }
   ],
   "source": [
    "import itertools\n",
    "boules = {'r1','r2','r3','r4','r5','r6','v1','v2','v3','n1','n2'}\n",
    "k = 2\n",
    "T= set(itertools.combinations(boules,k))\n",
    "print(T)\n",
    "print(len(T))\n",
    "        "
   ]
  },
  {
   "cell_type": "markdown",
   "metadata": {},
   "source": [
    "**20. Le type dictionnaire (ou tableau associatif ) permet de représenter des tableaux structurés. En effet, à chaque clé un dictionnaire associe une valeur, et cette valeur peut elle-même être une structure de donnée (liste, tuple ou un dictionnaire. . .).**\n",
    "\n",
    "**Créer un dictionnaire vide appelé d. Ajouter y une clé `film` associée à une liste contenant 2 de vos films préférés.**"
   ]
  },
  {
   "cell_type": "code",
   "execution_count": 74,
   "metadata": {},
   "outputs": [
    {
     "name": "stdout",
     "output_type": "stream",
     "text": [
      "{'film': ['star  war', 'seigneurdes anneaux']}\n"
     ]
    }
   ],
   "source": [
    "\n",
    "d={}\n",
    "d.update({\"film\":[\"star war\", \"seigneur des anneaux\"]})\n",
    "print(d)"
   ]
  },
  {
   "cell_type": "code",
   "execution_count": 99,
   "metadata": {},
   "outputs": [
    {
     "name": "stdout",
     "output_type": "stream",
     "text": [
      "le dictionnaire d créé  {} est VIDE!\n",
      "le dictionnaire d updaté:  {'film': ['groundhog day', \"time traveller's wife\"]}\n"
     ]
    }
   ],
   "source": [
    "d = {} \n",
    "print(\"le dictionnaire d créé \", d, \"est VIDE!\" )\n",
    "d.update({\"film\": [\"groundhog day\", \"time traveller's wife\"]}) \n",
    "print(\"le dictionnaire d updaté: \", d)"
   ]
  },
  {
   "cell_type": "code",
   "execution_count": null,
   "metadata": {},
   "outputs": [],
   "source": []
  }
 ],
 "metadata": {
  "kernelspec": {
   "display_name": "Python 3",
   "language": "python",
   "name": "python3"
  },
  "language_info": {
   "codemirror_mode": {
    "name": "ipython",
    "version": 3
   },
   "file_extension": ".py",
   "mimetype": "text/x-python",
   "name": "python",
   "nbconvert_exporter": "python",
   "pygments_lexer": "ipython3",
   "version": "3.7.4"
  }
 },
 "nbformat": 4,
 "nbformat_minor": 2
}
