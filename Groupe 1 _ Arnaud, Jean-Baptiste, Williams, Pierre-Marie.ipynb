{
 "cells": [
  {
   "cell_type": "code",
   "execution_count": 0,
   "metadata": {
    "colab": {},
    "colab_type": "code",
    "id": "x9jTz5sGIgdY"
   },
   "outputs": [],
   "source": [
    "#@title Default title text\n",
    "Groupe 1 : Arnaud, Jean-Baptiste, Williams, Pierre-Marie\n",
    "\n",
    "Ce premier projet porte sur l’analyse d’un jeu de données sur les passagers du titanic. Vous utiliserez le\n",
    "dataset suivant : titanic_train transmis en annexe. Ci-bas, la description des variables disponibles:\n",
    "⬩ Survival - Survival (0 = No; 1 = Yes).\n",
    "⬩ Pclass - Passenger Class (1 = 1st; 2 = 2nd; 3 = 3rd)\n",
    "⬩ Name - Name\n",
    "⬩ Sex - Sex\n",
    "⬩ Age - Age\n",
    "⬩ Sibsp - Number of Siblings/Spouses Aboard\n",
    "⬩ Parch - Number of Parents/Children Aboard\n",
    "⬩ Ticket - Ticket Number\n",
    "⬩ Fare - Passenger Fare\n",
    "⬩ Cabin - Cabin\n",
    "⬩ Embarked - Port of Embarkation (C = Cherbourg; Q = Queenstown; S = Southampton)\n",
    "Les objectifs de ce projet sont :\n",
    "⬩ Apprendre à analyser des données réelles\n",
    "⬩ Générer des visualisations pertinentes\n",
    "⬩ Traiter des données manquantes\n",
    "⬩ Sélectionner des variables\n",
    "⬩ Créer de nouvelles variables\n",
    "⬩ Préparer un jeu de données pour la création d’un modèle prédictif"
   ]
  },
  {
   "cell_type": "code",
   "execution_count": null,
   "metadata": {
    "colab": {},
    "colab_type": "code",
    "id": "B7HzPK8sNdxm"
   },
   "outputs": [],
   "source": [
    "# 2. Import Data & Python Packages\n",
    "# 2.1. Importer les librairies utiles.\n",
    "import numpy as np\n",
    "import pandas as pd\n",
    "import matplotlib.pyplot as plt\n",
    "import seaborn as sns\n",
    "from pandas import DataFrame\n",
    "%matplotlib inline"
   ]
  },
  {
   "cell_type": "code",
   "execution_count": null,
   "metadata": {
    "colab": {},
    "colab_type": "code",
    "id": "glFipQVZO12K"
   },
   "outputs": [],
   "source": [
    "#2.2.Importer le jeu de données à partir du fichier CSV.\n",
    "titanic_df = pd.read_csv('Titanic.csv', sep=',')"
   ]
  },
  {
   "cell_type": "markdown",
   "metadata": {
    "colab_type": "text",
    "id": "YU54twlOTNK2"
   },
   "source": [
    "# Nouvelle section"
   ]
  },
  {
   "cell_type": "code",
   "execution_count": 12,
   "metadata": {
    "colab": {
     "base_uri": "https://localhost:8080/",
     "height": 461
    },
    "colab_type": "code",
    "executionInfo": {
     "elapsed": 582,
     "status": "ok",
     "timestamp": 1587133716899,
     "user": {
      "displayName": "Arnaud Khun",
      "photoUrl": "",
      "userId": "06549626334485899671"
     },
     "user_tz": -120
    },
    "id": "1w2n9j3iPC-X",
    "outputId": "408063cd-213f-41bc-b5f6-2d1543d19777"
   },
   "outputs": [
    {
     "data": {
      "text/html": [
       "<div>\n",
       "<style scoped>\n",
       "    .dataframe tbody tr th:only-of-type {\n",
       "        vertical-align: middle;\n",
       "    }\n",
       "\n",
       "    .dataframe tbody tr th {\n",
       "        vertical-align: top;\n",
       "    }\n",
       "\n",
       "    .dataframe thead th {\n",
       "        text-align: right;\n",
       "    }\n",
       "</style>\n",
       "<table border=\"1\" class=\"dataframe\">\n",
       "  <thead>\n",
       "    <tr style=\"text-align: right;\">\n",
       "      <th></th>\n",
       "      <th>PassengerId</th>\n",
       "      <th>Survived</th>\n",
       "      <th>Pclass</th>\n",
       "      <th>Name</th>\n",
       "      <th>Sex</th>\n",
       "      <th>Age</th>\n",
       "      <th>SibSp</th>\n",
       "      <th>Parch</th>\n",
       "      <th>Ticket</th>\n",
       "      <th>Fare</th>\n",
       "      <th>Cabin</th>\n",
       "      <th>Embarked</th>\n",
       "    </tr>\n",
       "  </thead>\n",
       "  <tbody>\n",
       "    <tr>\n",
       "      <td>0</td>\n",
       "      <td>1</td>\n",
       "      <td>0</td>\n",
       "      <td>3</td>\n",
       "      <td>Braund, Mr. Owen Harris</td>\n",
       "      <td>male</td>\n",
       "      <td>22.0</td>\n",
       "      <td>1</td>\n",
       "      <td>0</td>\n",
       "      <td>A/5 21171</td>\n",
       "      <td>7.2500</td>\n",
       "      <td>NaN</td>\n",
       "      <td>S</td>\n",
       "    </tr>\n",
       "    <tr>\n",
       "      <td>1</td>\n",
       "      <td>2</td>\n",
       "      <td>1</td>\n",
       "      <td>1</td>\n",
       "      <td>Cumings, Mrs. John Bradley (Florence Briggs Th...</td>\n",
       "      <td>female</td>\n",
       "      <td>38.0</td>\n",
       "      <td>1</td>\n",
       "      <td>0</td>\n",
       "      <td>PC 17599</td>\n",
       "      <td>71.2833</td>\n",
       "      <td>C85</td>\n",
       "      <td>C</td>\n",
       "    </tr>\n",
       "    <tr>\n",
       "      <td>2</td>\n",
       "      <td>3</td>\n",
       "      <td>1</td>\n",
       "      <td>3</td>\n",
       "      <td>Heikkinen, Miss. Laina</td>\n",
       "      <td>female</td>\n",
       "      <td>26.0</td>\n",
       "      <td>0</td>\n",
       "      <td>0</td>\n",
       "      <td>STON/O2. 3101282</td>\n",
       "      <td>7.9250</td>\n",
       "      <td>NaN</td>\n",
       "      <td>S</td>\n",
       "    </tr>\n",
       "    <tr>\n",
       "      <td>3</td>\n",
       "      <td>4</td>\n",
       "      <td>1</td>\n",
       "      <td>1</td>\n",
       "      <td>Futrelle, Mrs. Jacques Heath (Lily May Peel)</td>\n",
       "      <td>female</td>\n",
       "      <td>35.0</td>\n",
       "      <td>1</td>\n",
       "      <td>0</td>\n",
       "      <td>113803</td>\n",
       "      <td>53.1000</td>\n",
       "      <td>C123</td>\n",
       "      <td>S</td>\n",
       "    </tr>\n",
       "    <tr>\n",
       "      <td>4</td>\n",
       "      <td>5</td>\n",
       "      <td>0</td>\n",
       "      <td>3</td>\n",
       "      <td>Allen, Mr. William Henry</td>\n",
       "      <td>male</td>\n",
       "      <td>35.0</td>\n",
       "      <td>0</td>\n",
       "      <td>0</td>\n",
       "      <td>373450</td>\n",
       "      <td>8.0500</td>\n",
       "      <td>NaN</td>\n",
       "      <td>S</td>\n",
       "    </tr>\n",
       "    <tr>\n",
       "      <td>5</td>\n",
       "      <td>6</td>\n",
       "      <td>0</td>\n",
       "      <td>3</td>\n",
       "      <td>Moran, Mr. James</td>\n",
       "      <td>male</td>\n",
       "      <td>NaN</td>\n",
       "      <td>0</td>\n",
       "      <td>0</td>\n",
       "      <td>330877</td>\n",
       "      <td>8.4583</td>\n",
       "      <td>NaN</td>\n",
       "      <td>Q</td>\n",
       "    </tr>\n",
       "    <tr>\n",
       "      <td>6</td>\n",
       "      <td>7</td>\n",
       "      <td>0</td>\n",
       "      <td>1</td>\n",
       "      <td>McCarthy, Mr. Timothy J</td>\n",
       "      <td>male</td>\n",
       "      <td>54.0</td>\n",
       "      <td>0</td>\n",
       "      <td>0</td>\n",
       "      <td>17463</td>\n",
       "      <td>51.8625</td>\n",
       "      <td>E46</td>\n",
       "      <td>S</td>\n",
       "    </tr>\n",
       "    <tr>\n",
       "      <td>7</td>\n",
       "      <td>8</td>\n",
       "      <td>0</td>\n",
       "      <td>3</td>\n",
       "      <td>Palsson, Master. Gosta Leonard</td>\n",
       "      <td>male</td>\n",
       "      <td>2.0</td>\n",
       "      <td>3</td>\n",
       "      <td>1</td>\n",
       "      <td>349909</td>\n",
       "      <td>21.0750</td>\n",
       "      <td>NaN</td>\n",
       "      <td>S</td>\n",
       "    </tr>\n",
       "    <tr>\n",
       "      <td>8</td>\n",
       "      <td>9</td>\n",
       "      <td>1</td>\n",
       "      <td>3</td>\n",
       "      <td>Johnson, Mrs. Oscar W (Elisabeth Vilhelmina Berg)</td>\n",
       "      <td>female</td>\n",
       "      <td>27.0</td>\n",
       "      <td>0</td>\n",
       "      <td>2</td>\n",
       "      <td>347742</td>\n",
       "      <td>11.1333</td>\n",
       "      <td>NaN</td>\n",
       "      <td>S</td>\n",
       "    </tr>\n",
       "    <tr>\n",
       "      <td>9</td>\n",
       "      <td>10</td>\n",
       "      <td>1</td>\n",
       "      <td>2</td>\n",
       "      <td>Nasser, Mrs. Nicholas (Adele Achem)</td>\n",
       "      <td>female</td>\n",
       "      <td>14.0</td>\n",
       "      <td>1</td>\n",
       "      <td>0</td>\n",
       "      <td>237736</td>\n",
       "      <td>30.0708</td>\n",
       "      <td>NaN</td>\n",
       "      <td>C</td>\n",
       "    </tr>\n",
       "  </tbody>\n",
       "</table>\n",
       "</div>"
      ],
      "text/plain": [
       "   PassengerId  Survived  Pclass  \\\n",
       "0            1         0       3   \n",
       "1            2         1       1   \n",
       "2            3         1       3   \n",
       "3            4         1       1   \n",
       "4            5         0       3   \n",
       "5            6         0       3   \n",
       "6            7         0       1   \n",
       "7            8         0       3   \n",
       "8            9         1       3   \n",
       "9           10         1       2   \n",
       "\n",
       "                                                Name     Sex   Age  SibSp  \\\n",
       "0                            Braund, Mr. Owen Harris    male  22.0      1   \n",
       "1  Cumings, Mrs. John Bradley (Florence Briggs Th...  female  38.0      1   \n",
       "2                             Heikkinen, Miss. Laina  female  26.0      0   \n",
       "3       Futrelle, Mrs. Jacques Heath (Lily May Peel)  female  35.0      1   \n",
       "4                           Allen, Mr. William Henry    male  35.0      0   \n",
       "5                                   Moran, Mr. James    male   NaN      0   \n",
       "6                            McCarthy, Mr. Timothy J    male  54.0      0   \n",
       "7                     Palsson, Master. Gosta Leonard    male   2.0      3   \n",
       "8  Johnson, Mrs. Oscar W (Elisabeth Vilhelmina Berg)  female  27.0      0   \n",
       "9                Nasser, Mrs. Nicholas (Adele Achem)  female  14.0      1   \n",
       "\n",
       "   Parch            Ticket     Fare Cabin Embarked  \n",
       "0      0         A/5 21171   7.2500   NaN        S  \n",
       "1      0          PC 17599  71.2833   C85        C  \n",
       "2      0  STON/O2. 3101282   7.9250   NaN        S  \n",
       "3      0            113803  53.1000  C123        S  \n",
       "4      0            373450   8.0500   NaN        S  \n",
       "5      0            330877   8.4583   NaN        Q  \n",
       "6      0             17463  51.8625   E46        S  \n",
       "7      1            349909  21.0750   NaN        S  \n",
       "8      2            347742  11.1333   NaN        S  \n",
       "9      0            237736  30.0708   NaN        C  "
      ]
     },
     "execution_count": 12,
     "metadata": {},
     "output_type": "execute_result"
    }
   ],
   "source": [
    "# 2.3. Afficher les 10 premières lignes du dataframe.\n",
    "titanic_df.head(10)\n",
    "# La 1è ligne contient le nom des colonnes"
   ]
  },
  {
   "cell_type": "code",
   "execution_count": 0,
   "metadata": {
    "colab": {
     "base_uri": "https://localhost:8080/",
     "height": 34
    },
    "colab_type": "code",
    "executionInfo": {
     "elapsed": 739,
     "status": "ok",
     "timestamp": 1587133722158,
     "user": {
      "displayName": "Arnaud Khun",
      "photoUrl": "",
      "userId": "06549626334485899671"
     },
     "user_tz": -120
    },
    "id": "dFRW5xNsPV5p",
    "outputId": "264a291d-20d0-4a1f-b91e-a42145d8d005"
   },
   "outputs": [
    {
     "name": "stdout",
     "output_type": "stream",
     "text": [
      "Le dataframe titanic a (891, 12) lignes et colonnes\n"
     ]
    }
   ],
   "source": [
    "# 2.4. Afficher les dimensions du dataframe.\n",
    "print('Le dataframe titanic a {} lignes et colonnes'.format(titanic_df.shape))"
   ]
  },
  {
   "cell_type": "code",
   "execution_count": 0,
   "metadata": {
    "colab": {
     "base_uri": "https://localhost:8080/",
     "height": 67
    },
    "colab_type": "code",
    "executionInfo": {
     "elapsed": 548,
     "status": "ok",
     "timestamp": 1587134132413,
     "user": {
      "displayName": "Pierre-Marie Boulnois",
      "photoUrl": "",
      "userId": "18037278970578875901"
     },
     "user_tz": -120
    },
    "id": "EhcOT0grPivT",
    "outputId": "d6a91b69-b4ae-4194-cf18-29d842618591"
   },
   "outputs": [
    {
     "name": "stdout",
     "output_type": "stream",
     "text": [
      "Les colonnes de titanic sont Index(['PassengerId', 'Survived', 'Pclass', 'Name', 'Sex', 'Age', 'SibSp',\n",
      "       'Parch', 'Ticket', 'Fare', 'Cabin', 'Embarked'],\n",
      "      dtype='object')\n"
     ]
    }
   ],
   "source": [
    "# 2.5. Afficher les colonnes du dataframe.\n",
    "print('Les colonnes de titanic sont',titanic_df.columns)"
   ]
  },
  {
   "cell_type": "code",
   "execution_count": 0,
   "metadata": {
    "colab": {
     "base_uri": "https://localhost:8080/",
     "height": 238
    },
    "colab_type": "code",
    "executionInfo": {
     "elapsed": 839,
     "status": "ok",
     "timestamp": 1587133741493,
     "user": {
      "displayName": "Arnaud Khun",
      "photoUrl": "",
      "userId": "06549626334485899671"
     },
     "user_tz": -120
    },
    "id": "mrs4ARuQQOzj",
    "outputId": "6d4d03cb-f205-4720-d415-bf1045ccab6b"
   },
   "outputs": [
    {
     "data": {
      "text/plain": [
       "PassengerId      int64\n",
       "Survived         int64\n",
       "Pclass           int64\n",
       "Name            object\n",
       "Sex             object\n",
       "Age            float64\n",
       "SibSp            int64\n",
       "Parch            int64\n",
       "Ticket          object\n",
       "Fare           float64\n",
       "Cabin           object\n",
       "Embarked        object\n",
       "dtype: object"
      ]
     },
     "execution_count": 241,
     "metadata": {
      "tags": []
     },
     "output_type": "execute_result"
    }
   ],
   "source": [
    "# 2.6. Afficher le type des variables disponibles\n",
    "titanic_df.dtypes"
   ]
  },
  {
   "cell_type": "code",
   "execution_count": 245,
   "metadata": {
    "colab": {
     "base_uri": "https://localhost:8080/",
     "height": 340
    },
    "colab_type": "code",
    "executionInfo": {
     "elapsed": 986,
     "status": "ok",
     "timestamp": 1587134686743,
     "user": {
      "displayName": "Arnaud Khun",
      "photoUrl": "",
      "userId": "06549626334485899671"
     },
     "user_tz": -120
    },
    "id": "luVo4Ui_U0ps",
    "outputId": "fe10d3e6-e794-45aa-ea1b-d5f347c23b51"
   },
   "outputs": [
    {
     "name": "stdout",
     "output_type": "stream",
     "text": [
      "<class 'pandas.core.frame.DataFrame'>\n",
      "RangeIndex: 891 entries, 0 to 890\n",
      "Data columns (total 12 columns):\n",
      " #   Column       Non-Null Count  Dtype  \n",
      "---  ------       --------------  -----  \n",
      " 0   PassengerId  891 non-null    int64  \n",
      " 1   Survived     891 non-null    int64  \n",
      " 2   Pclass       891 non-null    int64  \n",
      " 3   Name         891 non-null    object \n",
      " 4   Sex          891 non-null    object \n",
      " 5   Age          714 non-null    float64\n",
      " 6   SibSp        891 non-null    int64  \n",
      " 7   Parch        891 non-null    int64  \n",
      " 8   Ticket       891 non-null    object \n",
      " 9   Fare         891 non-null    float64\n",
      " 10  Cabin        204 non-null    object \n",
      " 11  Embarked     889 non-null    object \n",
      "dtypes: float64(2), int64(5), object(5)\n",
      "memory usage: 83.7+ KB\n"
     ]
    }
   ],
   "source": [
    "# 2.7. Synthétiser les informations obtenues.\n",
    "'''le dataframe contient les informations sur 891 passagers du Titanic.\n",
    "il y a 12 informations par passager réparties sur 12 colonnes.\n",
    "il y a des informations de type int/float et d'autre de type object\n",
    "il y a 687 donné manquantes sur les cabines, 2 sur les membres embarqués et 177 personnes n'ont pas leur âge renseigné.\n",
    "'''\n",
    "titanic_df.info()"
   ]
  },
  {
   "cell_type": "code",
   "execution_count": 0,
   "metadata": {
    "colab": {
     "base_uri": "https://localhost:8080/",
     "height": 238
    },
    "colab_type": "code",
    "executionInfo": {
     "elapsed": 719,
     "status": "ok",
     "timestamp": 1587125509907,
     "user": {
      "displayName": "Arnaud Khun",
      "photoUrl": "",
      "userId": "06549626334485899671"
     },
     "user_tz": -120
    },
    "id": "cOD2wqHXWLAr",
    "outputId": "b1dba367-773d-4400-e39a-90f213a3d817"
   },
   "outputs": [
    {
     "data": {
      "text/plain": [
       "PassengerId      0\n",
       "Survived         0\n",
       "Pclass           0\n",
       "Name             0\n",
       "Sex              0\n",
       "Age            177\n",
       "SibSp            0\n",
       "Parch            0\n",
       "Ticket           0\n",
       "Fare             0\n",
       "Cabin          687\n",
       "Embarked         2\n",
       "dtype: int64"
      ]
     },
     "execution_count": 58,
     "metadata": {
      "tags": []
     },
     "output_type": "execute_result"
    }
   ],
   "source": [
    "# 3. Data Quality & Missing Value Assessment\n",
    "\n",
    "# 3.1. Afficher le nombre de données manquantes par colonne.\n",
    "titanic_df.isnull().sum()"
   ]
  },
  {
   "cell_type": "markdown",
   "metadata": {
    "colab_type": "text",
    "id": "w72gfTnGU1mC"
   },
   "source": []
  },
  {
   "cell_type": "code",
   "execution_count": 0,
   "metadata": {
    "colab": {
     "base_uri": "https://localhost:8080/",
     "height": 34
    },
    "colab_type": "code",
    "executionInfo": {
     "elapsed": 577,
     "status": "ok",
     "timestamp": 1587125421552,
     "user": {
      "displayName": "Arnaud Khun",
      "photoUrl": "",
      "userId": "06549626334485899671"
     },
     "user_tz": -120
    },
    "id": "lD3XPXi1b2rs",
    "outputId": "8e6338a0-14f3-42ab-f712-34cef837ee97"
   },
   "outputs": [
    {
     "name": "stdout",
     "output_type": "stream",
     "text": [
      "19.865319865319865\n"
     ]
    }
   ],
   "source": [
    "#3.2.1. Calculer le pourcentage de données manquantes pour la variable Age.\n",
    "pourcentate=100*titanic_df.Age.isnull().sum()/len(titanic_df.Age)\n",
    "print(pourcentate)"
   ]
  },
  {
   "cell_type": "markdown",
   "metadata": {
    "colab_type": "text",
    "id": "B6ZYAWQCimEZ"
   },
   "source": []
  },
  {
   "cell_type": "code",
   "execution_count": 0,
   "metadata": {
    "colab": {
     "base_uri": "https://localhost:8080/",
     "height": 296
    },
    "colab_type": "code",
    "executionInfo": {
     "elapsed": 1211,
     "status": "ok",
     "timestamp": 1587125527218,
     "user": {
      "displayName": "Arnaud Khun",
      "photoUrl": "",
      "userId": "06549626334485899671"
     },
     "user_tz": -120
    },
    "id": "yCfX16w6eCdx",
    "outputId": "54a2ed22-6c94-4475-caaa-e28b17fdd53f"
   },
   "outputs": [
    {
     "data": {
      "text/plain": [
       "<matplotlib.axes._subplots.AxesSubplot at 0x7f62aebc0ba8>"
      ]
     },
     "execution_count": 59,
     "metadata": {
      "tags": []
     },
     "output_type": "execute_result"
    },
    {
     "data": {
      "image/png": "[encoded data removed]",
      "text/plain": [
       "<Figure size 432x288 with 1 Axes>"
      ]
     },
     "metadata": {
      "needs_background": "light",
      "tags": []
     },
     "output_type": "display_data"
    }
   ],
   "source": [
    "# 3.2.2. Représenter l'âge des passagers sous forme d’un histogramme 20 bins.\n",
    "\n",
    "sns.distplot(titanic_df.Age,kde=False,bins=20)"
   ]
  },
  {
   "cell_type": "code",
   "execution_count": 0,
   "metadata": {
    "colab": {
     "base_uri": "https://localhost:8080/",
     "height": 34
    },
    "colab_type": "code",
    "executionInfo": {
     "elapsed": 571,
     "status": "ok",
     "timestamp": 1587125531912,
     "user": {
      "displayName": "Arnaud Khun",
      "photoUrl": "",
      "userId": "06549626334485899671"
     },
     "user_tz": -120
    },
    "id": "lVhVRWGpfXDN",
    "outputId": "6526cafd-a7c0-42bb-ea95-17f912eae468"
   },
   "outputs": [
    {
     "name": "stdout",
     "output_type": "stream",
     "text": [
      "Age moyenne= 29.69911764705882 \t médiane= 28.0\n"
     ]
    }
   ],
   "source": [
    "# 3.2.3. Calculer la moyenne et la médiane de l’âge des passagers.\n",
    "print('Age moyenne=',titanic_df.Age.mean(),'\\t médiane=',titanic_df.Age.median())"
   ]
  },
  {
   "cell_type": "code",
   "execution_count": 247,
   "metadata": {
    "colab": {
     "base_uri": "https://localhost:8080/",
     "height": 221
    },
    "colab_type": "code",
    "executionInfo": {
     "elapsed": 1487,
     "status": "ok",
     "timestamp": 1587134950189,
     "user": {
      "displayName": "Arnaud Khun",
      "photoUrl": "",
      "userId": "06549626334485899671"
     },
     "user_tz": -120
    },
    "id": "wlFW8nZsgMpM",
    "outputId": "54f75bcd-c194-41f0-d2df-3e656b381efc"
   },
   "outputs": [
    {
     "data": {
      "text/plain": [
       "0      22.0\n",
       "1      38.0\n",
       "2      26.0\n",
       "3      35.0\n",
       "4      35.0\n",
       "       ... \n",
       "886    27.0\n",
       "887    19.0\n",
       "888    28.0\n",
       "889    26.0\n",
       "890    32.0\n",
       "Name: Age, Length: 891, dtype: float64"
      ]
     },
     "execution_count": 247,
     "metadata": {
      "tags": []
     },
     "output_type": "execute_result"
    }
   ],
   "source": [
    "# 3.2.4. Remplacer les données manquantes par l’une de ces deux quantités. Justifier.\n",
    "titanic_df.Age.fillna(titanic_df.Age.median())\n",
    "#Les données manquantes sont remplacées par la médiane car cela affectera moins la distribution"
   ]
  },
  {
   "cell_type": "code",
   "execution_count": 0,
   "metadata": {
    "colab": {
     "base_uri": "https://localhost:8080/",
     "height": 34
    },
    "colab_type": "code",
    "executionInfo": {
     "elapsed": 519,
     "status": "ok",
     "timestamp": 1587125540372,
     "user": {
      "displayName": "Arnaud Khun",
      "photoUrl": "",
      "userId": "06549626334485899671"
     },
     "user_tz": -120
    },
    "id": "VSm7KMpSg7Wy",
    "outputId": "38c2efa4-8b23-48cb-c0f4-364c62da814e"
   },
   "outputs": [
    {
     "data": {
      "text/plain": [
       "77.10437710437711"
      ]
     },
     "execution_count": 62,
     "metadata": {
      "tags": []
     },
     "output_type": "execute_result"
    }
   ],
   "source": [
    "# 3.3.1. Calculer le pourcentage de données manquantes pour la variable Cabin . Que constatez-vous?\n",
    "100*titanic_df.Cabin.isnull().sum()/len(titanic_df.Cabin)\n",
    "# beaucoup plus de données manquantes pour Cabin que pour Age"
   ]
  },
  {
   "cell_type": "code",
   "execution_count": 0,
   "metadata": {
    "colab": {
     "base_uri": "https://localhost:8080/",
     "height": 323
    },
    "colab_type": "code",
    "executionInfo": {
     "elapsed": 594,
     "status": "ok",
     "timestamp": 1587125543806,
     "user": {
      "displayName": "Arnaud Khun",
      "photoUrl": "",
      "userId": "06549626334485899671"
     },
     "user_tz": -120
    },
    "id": "VcN9kndqhSML",
    "outputId": "f122c1c1-e3cb-48b5-c4f8-8427f7deb991"
   },
   "outputs": [
    {
     "data": {
      "text/plain": [
       "array([nan, 'C85', 'C123', 'E46', 'G6', 'C103', 'D56', 'A6',\n",
       "       'C23 C25 C27', 'B78', 'D33', 'B30', 'C52', 'B28', 'C83', 'F33',\n",
       "       'F G73', 'E31', 'A5', 'D10 D12', 'D26', 'C110', 'B58 B60', 'E101',\n",
       "       'F E69', 'D47', 'B86', 'F2', 'C2', 'E33', 'B19', 'A7', 'C49', 'F4',\n",
       "       'A32', 'B4', 'B80', 'A31', 'D36', 'D15', 'C93', 'C78', 'D35',\n",
       "       'C87', 'B77', 'E67', 'B94', 'C125', 'C99', 'C118', 'D7', 'A19',\n",
       "       'B49', 'D', 'C22 C26', 'C106', 'C65', 'E36', 'C54',\n",
       "       'B57 B59 B63 B66', 'C7', 'E34', 'C32', 'B18', 'C124', 'C91', 'E40',\n",
       "       'T', 'C128', 'D37', 'B35', 'E50', 'C82', 'B96 B98', 'E10', 'E44',\n",
       "       'A34', 'C104', 'C111', 'C92', 'E38', 'D21', 'E12', 'E63', 'A14',\n",
       "       'B37', 'C30', 'D20', 'B79', 'E25', 'D46', 'B73', 'C95', 'B38',\n",
       "       'B39', 'B22', 'C86', 'C70', 'A16', 'C101', 'C68', 'A10', 'E68',\n",
       "       'B41', 'A20', 'D19', 'D50', 'D9', 'A23', 'B50', 'A26', 'D48',\n",
       "       'E58', 'C126', 'B71', 'B51 B53 B55', 'D49', 'B5', 'B20', 'F G63',\n",
       "       'C62 C64', 'E24', 'C90', 'C45', 'E8', 'B101', 'D45', 'C46', 'D30',\n",
       "       'E121', 'D11', 'E77', 'F38', 'B3', 'D6', 'B82 B84', 'D17', 'A36',\n",
       "       'B102', 'B69', 'E49', 'C47', 'D28', 'E17', 'A24', 'C50', 'B42',\n",
       "       'C148'], dtype=object)"
      ]
     },
     "execution_count": 63,
     "metadata": {
      "tags": []
     },
     "output_type": "execute_result"
    }
   ],
   "source": [
    "# 3.3.2. Afficher les valeurs uniques de la variable.\n",
    "pd.unique(titanic_df.Cabin)"
   ]
  },
  {
   "cell_type": "code",
   "execution_count": 0,
   "metadata": {
    "colab": {},
    "colab_type": "code",
    "id": "Xb1wmPCeiJ7C"
   },
   "outputs": [],
   "source": [
    "# 3.3.3. Faîtes le choix de supprimer ou conserver cette colonne. Justifier.\n",
    "# On ne conserve pas les données car  ils y a beaucoup  de données manquante plus de 50%  de valeurs  manquantes   "
   ]
  },
  {
   "cell_type": "code",
   "execution_count": 252,
   "metadata": {
    "colab": {
     "base_uri": "https://localhost:8080/",
     "height": 34
    },
    "colab_type": "code",
    "executionInfo": {
     "elapsed": 776,
     "status": "ok",
     "timestamp": 1587135188182,
     "user": {
      "displayName": "Arnaud Khun",
      "photoUrl": "",
      "userId": "06549626334485899671"
     },
     "user_tz": -120
    },
    "id": "6zNU0DkMjuef",
    "outputId": "6908195a-0e53-4dd5-fff4-f9fbb9b59edc"
   },
   "outputs": [
    {
     "data": {
      "text/plain": [
       "0.2244668911335578"
      ]
     },
     "execution_count": 252,
     "metadata": {
      "tags": []
     },
     "output_type": "execute_result"
    }
   ],
   "source": [
    "# 3.4.Embarked - Missing Values\n",
    "\n",
    "# 3.4.1. Calculer le pourcentage de données manquantes pour la variable Embarked.\n",
    "100*titanic_df.Embarked.isnull().sum()/len(titanic_df.Embarked)"
   ]
  },
  {
   "cell_type": "code",
   "execution_count": 253,
   "metadata": {
    "colab": {
     "base_uri": "https://localhost:8080/",
     "height": 279
    },
    "colab_type": "code",
    "executionInfo": {
     "elapsed": 742,
     "status": "ok",
     "timestamp": 1587135266810,
     "user": {
      "displayName": "Arnaud Khun",
      "photoUrl": "",
      "userId": "06549626334485899671"
     },
     "user_tz": -120
    },
    "id": "6uEBqmUfkJ3F",
    "outputId": "2baaaca6-ad5d-472c-8afc-960b7c78d8aa"
   },
   "outputs": [
    {
     "data": {
      "image/png": "[encoded data removed]",
      "text/plain": [
       "<Figure size 432x288 with 1 Axes>"
      ]
     },
     "metadata": {
      "needs_background": "light",
      "tags": []
     },
     "output_type": "display_data"
    }
   ],
   "source": [
    "# 3.4.2. Représentez par un graphique la donnée Embarked .\n",
    "sns.countplot('Embarked', data=titanic_df)\n",
    "plt.show()"
   ]
  },
  {
   "cell_type": "code",
   "execution_count": 0,
   "metadata": {
    "colab": {},
    "colab_type": "code",
    "id": "W9H-Q7Dyl8yt"
   },
   "outputs": [],
   "source": [
    "# 3.4.3. Quelle est la catégorie la plus représentée?\n",
    "# la categorie est appellée S"
   ]
  },
  {
   "cell_type": "code",
   "execution_count": 0,
   "metadata": {
    "colab": {
     "base_uri": "https://localhost:8080/",
     "height": 221
    },
    "colab_type": "code",
    "executionInfo": {
     "elapsed": 605,
     "status": "ok",
     "timestamp": 1587125611686,
     "user": {
      "displayName": "Arnaud Khun",
      "photoUrl": "",
      "userId": "06549626334485899671"
     },
     "user_tz": -120
    },
    "id": "KcSn4AQLmRsW",
    "outputId": "49cbf7ca-de7b-42fd-e38c-70646f596fc0"
   },
   "outputs": [
    {
     "data": {
      "text/plain": [
       "0      S\n",
       "1      C\n",
       "2      S\n",
       "3      S\n",
       "4      S\n",
       "      ..\n",
       "886    S\n",
       "887    S\n",
       "888    S\n",
       "889    C\n",
       "890    Q\n",
       "Name: Embarked, Length: 891, dtype: object"
      ]
     },
     "execution_count": 70,
     "metadata": {
      "tags": []
     },
     "output_type": "execute_result"
    }
   ],
   "source": [
    "#3.4.4. Remplacer les données manquantes par le mode de la variable Embarked.\n",
    "titanic_df.Embarked.fillna('S')"
   ]
  },
  {
   "cell_type": "code",
   "execution_count": 0,
   "metadata": {
    "colab": {
     "base_uri": "https://localhost:8080/",
     "height": 369
    },
    "colab_type": "code",
    "executionInfo": {
     "elapsed": 815,
     "status": "ok",
     "timestamp": 1587125617949,
     "user": {
      "displayName": "Arnaud Khun",
      "photoUrl": "",
      "userId": "06549626334485899671"
     },
     "user_tz": -120
    },
    "id": "41fghjTcoE5D",
    "outputId": "4378cae2-9d9f-4422-d305-c92441a763d6"
   },
   "outputs": [
    {
     "data": {
      "image/png": "[encoded data removed]",
      "text/plain": [
       "<Figure size 360x360 with 1 Axes>"
      ]
     },
     "metadata": {
      "needs_background": "light",
      "tags": []
     },
     "output_type": "display_data"
    }
   ],
   "source": [
    "# 4.1Exploratory Data Analysis \n",
    "sns.catplot(x='Survived',kind='count', hue='Survived',data=titanic_df)\n",
    "plt.show()\n",
    "\n",
    "#il a plus plus de personnes mortes que vivantes."
   ]
  },
  {
   "cell_type": "code",
   "execution_count": 0,
   "metadata": {
    "colab": {
     "base_uri": "https://localhost:8080/",
     "height": 279
    },
    "colab_type": "code",
    "executionInfo": {
     "elapsed": 626,
     "status": "ok",
     "timestamp": 1587125703601,
     "user": {
      "displayName": "Arnaud Khun",
      "photoUrl": "",
      "userId": "06549626334485899671"
     },
     "user_tz": -120
    },
    "id": "h5EVfGTcpd_l",
    "outputId": "ed22f858-587b-427f-9a77-4d1a3f6dea3e"
   },
   "outputs": [
    {
     "data": {
      "image/png": "[encoded data removed]",
      "text/plain": [
       "<Figure size 432x288 with 1 Axes>"
      ]
     },
     "metadata": {
      "needs_background": "light",
      "tags": []
     },
     "output_type": "display_data"
    }
   ],
   "source": [
    "# 4.2. Exploration of Age\n",
    "sns.boxplot('Survived','Age',data=titanic_df)\n",
    "plt.show()\n",
    "#on voir que la tranche d'age 25 - 40 ans est plus touché par la mort. les plus jeunes ont plus survécus à l'accident."
   ]
  },
  {
   "cell_type": "code",
   "execution_count": 0,
   "metadata": {
    "colab": {
     "base_uri": "https://localhost:8080/",
     "height": 225
    },
    "colab_type": "code",
    "executionInfo": {
     "elapsed": 1196,
     "status": "ok",
     "timestamp": 1587125707301,
     "user": {
      "displayName": "Arnaud Khun",
      "photoUrl": "",
      "userId": "06549626334485899671"
     },
     "user_tz": -120
    },
    "id": "6NqqPb-bp-1K",
    "outputId": "b704f4ca-c4a2-4390-b845-01366e19d177"
   },
   "outputs": [
    {
     "data": {
      "image/png": "[encoded data removed]",
      "text/plain": [
       "<Figure size 432x216 with 2 Axes>"
      ]
     },
     "metadata": {
      "needs_background": "light",
      "tags": []
     },
     "output_type": "display_data"
    }
   ],
   "source": [
    "sns.FacetGrid(data=titanic_df,col='Survived').map(plt.hist,'Age')\n",
    "plt.show()"
   ]
  },
  {
   "cell_type": "code",
   "execution_count": 0,
   "metadata": {
    "colab": {
     "base_uri": "https://localhost:8080/",
     "height": 225
    },
    "colab_type": "code",
    "executionInfo": {
     "elapsed": 1046,
     "status": "ok",
     "timestamp": 1587125710219,
     "user": {
      "displayName": "Arnaud Khun",
      "photoUrl": "",
      "userId": "06549626334485899671"
     },
     "user_tz": -120
    },
    "id": "QJdk-MDNvNKS",
    "outputId": "da63063a-0836-4a93-db4f-791006e3eb71"
   },
   "outputs": [
    {
     "data": {
      "image/png": "[encoded data removed]",
      "text/plain": [
       "<Figure size 432x216 with 2 Axes>"
      ]
     },
     "metadata": {
      "needs_background": "light",
      "tags": []
     },
     "output_type": "display_data"
    }
   ],
   "source": [
    "sns.FacetGrid(data=titanic_df,col='Survived').map(plt.hist,'Fare')\n",
    "plt.show()\n",
    "\n",
    "#ceux qui ont payé le moins cher sont les tranches les plus touchés par la mort."
   ]
  },
  {
   "cell_type": "code",
   "execution_count": 0,
   "metadata": {
    "colab": {
     "base_uri": "https://localhost:8080/",
     "height": 279
    },
    "colab_type": "code",
    "executionInfo": {
     "elapsed": 565,
     "status": "ok",
     "timestamp": 1587127898824,
     "user": {
      "displayName": "Pierre-Marie Boulnois",
      "photoUrl": "",
      "userId": "18037278970578875901"
     },
     "user_tz": -120
    },
    "id": "HFnUlkhQq93r",
    "outputId": "34823f75-2438-4dc5-fe29-497b8d6ed984"
   },
   "outputs": [
    {
     "data": {
      "image/png": "[encoded data removed]",
      "text/plain": [
       "<Figure size 432x288 with 1 Axes>"
      ]
     },
     "metadata": {
      "needs_background": "light",
      "tags": []
     },
     "output_type": "display_data"
    }
   ],
   "source": [
    "# 4.2. Exploration of Age\n",
    "sns.boxplot('Survived','Fare',data=titanic_df)\n",
    "plt.show()"
   ]
  },
  {
   "cell_type": "code",
   "execution_count": 0,
   "metadata": {
    "colab": {
     "base_uri": "https://localhost:8080/",
     "height": 369
    },
    "colab_type": "code",
    "executionInfo": {
     "elapsed": 897,
     "status": "ok",
     "timestamp": 1587127891655,
     "user": {
      "displayName": "Pierre-Marie Boulnois",
      "photoUrl": "",
      "userId": "18037278970578875901"
     },
     "user_tz": -120
    },
    "id": "eOqbtppUvklV",
    "outputId": "12b8a7ad-e92f-4c8e-a96f-0530b5193d2c"
   },
   "outputs": [
    {
     "data": {
      "image/png": "[encoded data removed]",
      "text/plain": [
       "<Figure size 402.375x360 with 1 Axes>"
      ]
     },
     "metadata": {
      "needs_background": "light",
      "tags": []
     },
     "output_type": "display_data"
    }
   ],
   "source": [
    "# 4.3. Exploration of Pclass\n",
    "sns.catplot(x = 'Survived',kind ='count', hue='Pclass', data=titanic_df)\n",
    "plt.show()\n",
    "\n",
    "# les gens de la 3è classe sont le plus mort"
   ]
  },
  {
   "cell_type": "code",
   "execution_count": 0,
   "metadata": {
    "colab": {
     "base_uri": "https://localhost:8080/",
     "height": 369
    },
    "colab_type": "code",
    "executionInfo": {
     "elapsed": 875,
     "status": "ok",
     "timestamp": 1587127887483,
     "user": {
      "displayName": "Pierre-Marie Boulnois",
      "photoUrl": "",
      "userId": "18037278970578875901"
     },
     "user_tz": -120
    },
    "id": "I5ul13awx8jP",
    "outputId": "975668f1-a723-493c-b1cb-b00ba870c88d"
   },
   "outputs": [
    {
     "data": {
      "image/png": "[encoded data removed]",
      "text/plain": [
       "<Figure size 418.25x360 with 1 Axes>"
      ]
     },
     "metadata": {
      "needs_background": "light",
      "tags": []
     },
     "output_type": "display_data"
    }
   ],
   "source": [
    "# 4.5. Exploration of Embarked\n",
    "sns.catplot(x = 'Survived',kind ='count', hue='Embarked', data=titanic_df)\n",
    "plt.show()\n",
    "\n",
    "# il y a plus de gens embarqués au 1 point d'embarquement qui sont mort."
   ]
  },
  {
   "cell_type": "code",
   "execution_count": 13,
   "metadata": {
    "colab": {
     "base_uri": "https://localhost:8080/",
     "height": 221
    },
    "colab_type": "code",
    "executionInfo": {
     "elapsed": 2231,
     "status": "ok",
     "timestamp": 1587136370143,
     "user": {
      "displayName": "Arnaud Khun",
      "photoUrl": "",
      "userId": "06549626334485899671"
     },
     "user_tz": -120
    },
    "id": "j1jCRt5jGPgZ",
    "outputId": "d7cc23c4-43f8-45b1-d78a-50e01838651a"
   },
   "outputs": [
    {
     "data": {
      "text/plain": [
       "0      1\n",
       "1      1\n",
       "2      0\n",
       "3      1\n",
       "4      0\n",
       "      ..\n",
       "886    0\n",
       "887    0\n",
       "888    3\n",
       "889    0\n",
       "890    0\n",
       "Name: TravelF, Length: 891, dtype: int64"
      ]
     },
     "execution_count": 13,
     "metadata": {},
     "output_type": "execute_result"
    }
   ],
   "source": [
    "# 5. Feature Engineering\n",
    "# 5.1. Créer une variable TravelF, ajoutée au dataframe, \n",
    "#à partir des variables SibSp et Parch, qui compte le nombre des membres de la famille.\n",
    "titanic_df['TravelF']=titanic_df['SibSp'] + titanic_df['Parch']\n",
    "titanic_df['TravelF']\n"
   ]
  },
  {
   "cell_type": "code",
   "execution_count": 14,
   "metadata": {
    "colab": {
     "base_uri": "https://localhost:8080/",
     "height": 221
    },
    "colab_type": "code",
    "executionInfo": {
     "elapsed": 1199,
     "status": "ok",
     "timestamp": 1587136430775,
     "user": {
      "displayName": "Arnaud Khun",
      "photoUrl": "",
      "userId": "06549626334485899671"
     },
     "user_tz": -120
    },
    "id": "vG5_wYUiHxMr",
    "outputId": "43deaf0d-d6cb-4854-9650-eb0b0035b372"
   },
   "outputs": [
    {
     "data": {
      "text/plain": [
       "0      0\n",
       "1      0\n",
       "2      1\n",
       "3      0\n",
       "4      1\n",
       "      ..\n",
       "886    1\n",
       "887    1\n",
       "888    0\n",
       "889    1\n",
       "890    1\n",
       "Name: TravelAlone, Length: 891, dtype: int32"
      ]
     },
     "execution_count": 14,
     "metadata": {},
     "output_type": "execute_result"
    }
   ],
   "source": [
    "# 5.2 Créer une variable TravelAlone, ajoutée au dataframe, à partir de TravelF qui vaut 1 si\n",
    "#l’individu voyage seul et 0 sinon (en famille).\n",
    "titanic_df['TravelAlone'] = np.where(titanic_df['TravelF'] == 0, 1, 0)\n",
    "titanic_df['TravelAlone']"
   ]
  },
  {
   "cell_type": "code",
   "execution_count": 335,
   "metadata": {
    "colab": {
     "base_uri": "https://localhost:8080/",
     "height": 1000
    },
    "colab_type": "code",
    "executionInfo": {
     "elapsed": 719,
     "status": "ok",
     "timestamp": 1587139529147,
     "user": {
      "displayName": "Arnaud Khun",
      "photoUrl": "",
      "userId": "06549626334485899671"
     },
     "user_tz": -120
    },
    "id": "qv_CnUs1OGvn",
    "outputId": "023e3fb6-68ff-4c4b-fef0-a898449338af"
   },
   "outputs": [
    {
     "data": {
      "text/plain": [
       "['Mr.',\n",
       " 'Mrs.',\n",
       " 'Miss.',\n",
       " 'Mrs.',\n",
       " 'Mr.',\n",
       " 'Mr.',\n",
       " 'Mr.',\n",
       " 'Master.',\n",
       " 'Mrs.',\n",
       " 'Mrs.',\n",
       " 'Miss.',\n",
       " 'Miss.',\n",
       " 'Mr.',\n",
       " 'Mr.',\n",
       " 'Miss.',\n",
       " 'Mrs.',\n",
       " 'Master.',\n",
       " 'Mr.',\n",
       " 'Planke,',\n",
       " 'Mrs.',\n",
       " 'Mr.',\n",
       " 'Mr.',\n",
       " 'Miss.',\n",
       " 'Mr.',\n",
       " 'Miss.',\n",
       " 'Mrs.',\n",
       " 'Mr.',\n",
       " 'Mr.',\n",
       " 'Miss.',\n",
       " 'Mr.',\n",
       " 'Don.',\n",
       " 'Mrs.',\n",
       " 'Miss.',\n",
       " 'Mr.',\n",
       " 'Mr.',\n",
       " 'Mr.',\n",
       " 'Mr.',\n",
       " 'Mr.',\n",
       " 'Planke,',\n",
       " 'Miss.',\n",
       " 'Mrs.',\n",
       " 'Mrs.',\n",
       " 'Mr.',\n",
       " 'Miss.',\n",
       " 'Miss.',\n",
       " 'Mr.',\n",
       " 'Mr.',\n",
       " 'Miss.',\n",
       " 'Mr.',\n",
       " 'Mrs.',\n",
       " 'Master.',\n",
       " 'Mr.',\n",
       " 'Mrs.',\n",
       " 'Mrs.',\n",
       " 'Mr.',\n",
       " 'Mr.',\n",
       " 'Miss.',\n",
       " 'Mr.',\n",
       " 'Miss.',\n",
       " 'Master.',\n",
       " 'Mr.',\n",
       " 'Miss.',\n",
       " 'Mr.',\n",
       " 'Master.',\n",
       " 'Mr.',\n",
       " 'Master.',\n",
       " 'Mrs.',\n",
       " 'Mr.',\n",
       " 'Miss.',\n",
       " 'Mr.',\n",
       " 'Mr.',\n",
       " 'Miss.',\n",
       " 'Mr.',\n",
       " 'Mr.',\n",
       " 'Mr.',\n",
       " 'Mr.',\n",
       " 'Mr.',\n",
       " 'Mr.',\n",
       " 'Master.',\n",
       " 'Miss.',\n",
       " 'Mr.',\n",
       " 'Mr.',\n",
       " 'Miss.',\n",
       " 'Mr.',\n",
       " 'Miss.',\n",
       " 'Mrs.',\n",
       " 'Mr.',\n",
       " 'Mr.',\n",
       " 'Miss.',\n",
       " 'Mr.',\n",
       " 'Mr.',\n",
       " 'Mr.',\n",
       " 'Mr.',\n",
       " 'Mr.',\n",
       " 'Mr.',\n",
       " 'Mr.',\n",
       " 'Mr.',\n",
       " 'Mr.',\n",
       " 'Mrs.',\n",
       " 'Mr.',\n",
       " 'Miss.',\n",
       " 'Mr.',\n",
       " 'Mr.',\n",
       " 'Mr.',\n",
       " 'Mr.',\n",
       " 'Mr.',\n",
       " 'Miss.',\n",
       " 'Mr.',\n",
       " 'Mr.',\n",
       " 'Miss.',\n",
       " 'Mr.',\n",
       " 'Miss.',\n",
       " 'Mr.',\n",
       " 'Miss.',\n",
       " 'Miss.',\n",
       " 'Mr.',\n",
       " 'Mr.',\n",
       " 'Mr.',\n",
       " 'Mr.',\n",
       " 'Miss.',\n",
       " 'Mr.',\n",
       " 'Mr.',\n",
       " 'Mr.',\n",
       " 'Miss.',\n",
       " 'Mr.',\n",
       " 'Master.',\n",
       " 'Mr.',\n",
       " 'Mr.',\n",
       " 'Miss.',\n",
       " 'Mr.',\n",
       " 'Mr.',\n",
       " 'Mr.',\n",
       " 'Mrs.',\n",
       " 'Mrs.',\n",
       " 'Mr.',\n",
       " 'Mr.',\n",
       " 'Miss.',\n",
       " 'Mr.',\n",
       " 'Mr.',\n",
       " 'Mr.',\n",
       " 'Mrs.',\n",
       " 'Miss.',\n",
       " 'Mrs.',\n",
       " 'Mr.',\n",
       " 'Mr.',\n",
       " 'Mr.',\n",
       " 'Mr.',\n",
       " 'Miss.',\n",
       " 'Mr.',\n",
       " 'Rev.',\n",
       " 'Rev.',\n",
       " 'Mrs.',\n",
       " 'Mr.',\n",
       " 'Billiard,',\n",
       " 'Mr.',\n",
       " 'Mr.',\n",
       " 'Miss.',\n",
       " 'Mr.',\n",
       " 'Mr.',\n",
       " 'Master.',\n",
       " 'Mr.',\n",
       " 'Mrs.',\n",
       " 'Mr.',\n",
       " 'Mr.',\n",
       " 'Master.',\n",
       " 'Master.',\n",
       " 'Mrs.',\n",
       " 'Mrs.',\n",
       " 'Mr.',\n",
       " 'Mr.',\n",
       " 'der',\n",
       " 'Master.',\n",
       " 'Miss.',\n",
       " 'Mr.',\n",
       " 'Mr.',\n",
       " 'Mr.',\n",
       " 'Master.',\n",
       " 'Miss.',\n",
       " 'Mr.',\n",
       " 'Mr.',\n",
       " 'Miss.',\n",
       " 'Mr.',\n",
       " 'Master.',\n",
       " 'Master.',\n",
       " 'Miss.',\n",
       " 'Mr.',\n",
       " 'Mrs.',\n",
       " 'Mr.',\n",
       " 'Mr.',\n",
       " 'Mr.',\n",
       " 'Mrs.',\n",
       " 'Mr.',\n",
       " 'Miss.',\n",
       " 'Master.',\n",
       " 'Mrs.',\n",
       " 'Miss.',\n",
       " 'Mr.',\n",
       " 'Mr.',\n",
       " 'Miss.',\n",
       " 'Miss.',\n",
       " 'Walle,',\n",
       " 'Mr.',\n",
       " 'Mr.',\n",
       " 'Mr.',\n",
       " 'Mr.',\n",
       " 'Miss.',\n",
       " 'Mr.',\n",
       " 'Mr.',\n",
       " 'Miss.',\n",
       " 'Mr.',\n",
       " 'Mr.',\n",
       " 'Miss.',\n",
       " 'Mr.',\n",
       " 'Mr.',\n",
       " 'Mr.',\n",
       " 'Miss.',\n",
       " 'Miss.',\n",
       " 'Mr.',\n",
       " 'Miss.',\n",
       " 'Mr.',\n",
       " 'Mr.',\n",
       " 'Mr.',\n",
       " 'Mr.',\n",
       " 'Mr.',\n",
       " 'Mr.',\n",
       " 'Mr.',\n",
       " 'Mr.',\n",
       " 'Mr.',\n",
       " 'Mr.',\n",
       " 'Miss.',\n",
       " 'Mrs.',\n",
       " 'Mr.',\n",
       " 'Mr.',\n",
       " 'Miss.',\n",
       " 'Mr.',\n",
       " 'Miss.',\n",
       " 'Mr.',\n",
       " 'Miss.',\n",
       " 'Mr.',\n",
       " 'Mr.',\n",
       " 'Miss.',\n",
       " 'Miss.',\n",
       " 'Mr.',\n",
       " 'Mr.',\n",
       " 'Mr.',\n",
       " 'Dr.',\n",
       " 'Miss.',\n",
       " 'Mrs.',\n",
       " 'Mr.',\n",
       " 'Rev.',\n",
       " 'Mr.',\n",
       " 'Mrs.',\n",
       " 'Mr.',\n",
       " 'Mr.',\n",
       " 'Mrs.',\n",
       " 'Mrs.',\n",
       " 'Mrs.',\n",
       " 'Miss.',\n",
       " 'Miss.',\n",
       " 'Mrs.',\n",
       " 'Mr.',\n",
       " 'Master.',\n",
       " 'Mr.',\n",
       " 'Mr.',\n",
       " 'Miss.',\n",
       " 'Mr.',\n",
       " 'Mr.',\n",
       " 'Mr.',\n",
       " 'Mrs.',\n",
       " 'Miss.',\n",
       " 'Mr.',\n",
       " 'Mr.',\n",
       " 'Mrs.',\n",
       " 'Mr.',\n",
       " 'Miss.',\n",
       " 'Miss.',\n",
       " 'Miss.',\n",
       " 'Mr.',\n",
       " 'Master.',\n",
       " 'Mrs.',\n",
       " 'Mr.',\n",
       " 'Mr.',\n",
       " 'Pelsmaeker,',\n",
       " 'Mr.',\n",
       " 'Mr.',\n",
       " 'Mr.',\n",
       " 'Mulder,',\n",
       " 'Mr.',\n",
       " 'Mr.',\n",
       " 'Miss.',\n",
       " 'Miss.',\n",
       " 'Mrs.',\n",
       " 'Mr.',\n",
       " 'Miss.',\n",
       " 'Mr.',\n",
       " 'Mr.',\n",
       " 'Mr.',\n",
       " 'Miss.',\n",
       " 'Mr.',\n",
       " 'Mrs.',\n",
       " 'Miss.',\n",
       " 'Mr.',\n",
       " 'Mr.',\n",
       " 'Miss.',\n",
       " 'Mr.',\n",
       " 'Master.',\n",
       " 'Miss.',\n",
       " 'y',\n",
       " 'Mr.',\n",
       " 'Miss.',\n",
       " 'Miss.',\n",
       " 'Miss.',\n",
       " 'Mrs.',\n",
       " 'Mr.',\n",
       " 'Mr.',\n",
       " 'Miss.',\n",
       " 'Mrs.',\n",
       " 'Dr.',\n",
       " 'Miss.',\n",
       " 'Mrs.',\n",
       " 'Mr.',\n",
       " 'Mr.',\n",
       " 'Miss.',\n",
       " 'Mrs.',\n",
       " 'Mr.',\n",
       " 'Miss.',\n",
       " 'Mr.',\n",
       " 'Mrs.',\n",
       " 'Mrs.',\n",
       " 'Miss.',\n",
       " 'Miss.',\n",
       " 'Mr.',\n",
       " 'Mr.',\n",
       " 'Planke,',\n",
       " 'Mrs.',\n",
       " 'Mr.',\n",
       " 'Mr.',\n",
       " 'Miss.',\n",
       " 'Mr.',\n",
       " 'Mr.',\n",
       " 'Master.',\n",
       " 'Miss.',\n",
       " 'Mr.',\n",
       " 'Mr.',\n",
       " 'Mr.',\n",
       " 'Miss.',\n",
       " 'Miss.',\n",
       " 'Mrs.',\n",
       " 'Master.',\n",
       " 'Mr.',\n",
       " 'Mr.',\n",
       " 'Mr.',\n",
       " 'Mr.',\n",
       " 'Mr.',\n",
       " 'Mr.',\n",
       " 'Steen,',\n",
       " 'Miss.',\n",
       " 'Miss.',\n",
       " 'Miss.',\n",
       " 'Miss.',\n",
       " 'Mr.',\n",
       " 'Carlo,',\n",
       " 'Mrs.',\n",
       " 'Mr.',\n",
       " 'Mr.',\n",
       " 'Mr.',\n",
       " 'Mrs.',\n",
       " 'Mrs.',\n",
       " 'Miss.',\n",
       " 'Mme.',\n",
       " 'Mr.',\n",
       " 'Mr.',\n",
       " 'Mr.',\n",
       " 'Mr.',\n",
       " 'Miss.',\n",
       " 'Mrs.',\n",
       " 'Miss.',\n",
       " 'Mr.',\n",
       " 'Mr.',\n",
       " 'Mr.',\n",
       " 'Miss.',\n",
       " 'Miss.',\n",
       " 'Mr.',\n",
       " 'Mrs.',\n",
       " 'Mr.',\n",
       " 'Mr.',\n",
       " 'Master.',\n",
       " 'Miss.',\n",
       " 'Mr.',\n",
       " 'Miss.',\n",
       " 'Mr.',\n",
       " 'Mr.',\n",
       " 'Mr.',\n",
       " 'Miss.',\n",
       " 'Mrs.',\n",
       " 'Mr.',\n",
       " 'Miss.',\n",
       " 'Mr.',\n",
       " 'Dr.',\n",
       " 'Mrs.',\n",
       " 'Mr.',\n",
       " 'Mr.',\n",
       " 'Miss.',\n",
       " 'Mr.',\n",
       " 'Miss.',\n",
       " 'Mr.',\n",
       " 'Mr.',\n",
       " 'Master.',\n",
       " 'Mr.',\n",
       " 'Miss.',\n",
       " 'Mr.',\n",
       " 'Mr.',\n",
       " 'Miss.',\n",
       " 'Mr.',\n",
       " 'Mr.',\n",
       " 'Mrs.',\n",
       " 'Mrs.',\n",
       " 'Miss.',\n",
       " 'Mr.',\n",
       " 'Impe,',\n",
       " 'Mr.',\n",
       " 'Mr.',\n",
       " 'Mr.',\n",
       " 'Mrs.',\n",
       " 'Mr.',\n",
       " 'Mr.',\n",
       " 'Mrs.',\n",
       " 'Miss.',\n",
       " 'Mr.',\n",
       " 'Mr.',\n",
       " 'Mr.',\n",
       " 'Mrs.',\n",
       " 'Mrs.',\n",
       " 'Mr.',\n",
       " 'Mr.',\n",
       " 'Miss.',\n",
       " 'Miss.',\n",
       " 'Mrs.',\n",
       " 'Mr.',\n",
       " 'Mr.',\n",
       " 'Mrs.',\n",
       " 'Mr.',\n",
       " 'Mr.',\n",
       " 'Ms.',\n",
       " 'Mr.',\n",
       " 'Master.',\n",
       " 'Miss.',\n",
       " 'Mr.',\n",
       " 'Miss.',\n",
       " 'Major.',\n",
       " 'Mr.',\n",
       " 'Mr.',\n",
       " 'Mr.',\n",
       " 'Mr.',\n",
       " 'Mr.',\n",
       " 'Mr.',\n",
       " 'Mr.',\n",
       " 'Mrs.',\n",
       " 'Miss.',\n",
       " 'Mr.',\n",
       " 'Mr.',\n",
       " 'Mr.',\n",
       " 'Mr.',\n",
       " 'Mr.',\n",
       " 'Mr.',\n",
       " 'Mr.',\n",
       " 'Mr.',\n",
       " 'Mr.',\n",
       " 'Mr.',\n",
       " 'Miss.',\n",
       " 'Mr.',\n",
       " 'Mr.',\n",
       " 'Mrs.',\n",
       " 'Mrs.',\n",
       " 'Miss.',\n",
       " 'Mr.',\n",
       " 'Mr.',\n",
       " 'Mr.',\n",
       " 'Mr.',\n",
       " 'Miss.',\n",
       " 'Master.',\n",
       " 'Mr.',\n",
       " 'Mr.',\n",
       " 'Mrs.',\n",
       " 'Mr.',\n",
       " 'Miss.',\n",
       " 'Mrs.',\n",
       " 'Mr.',\n",
       " 'Mr.',\n",
       " 'Master.',\n",
       " 'Mr.',\n",
       " 'Mr.',\n",
       " 'Mr.',\n",
       " 'Mr.',\n",
       " 'Mr.',\n",
       " 'Mr.',\n",
       " 'Miss.',\n",
       " 'Mr.',\n",
       " 'Mrs.',\n",
       " 'Mr.',\n",
       " 'Mr.',\n",
       " 'Miss.',\n",
       " 'Miss.',\n",
       " 'Miss.',\n",
       " 'Miss.',\n",
       " 'y',\n",
       " 'Mrs.',\n",
       " 'Mr.',\n",
       " 'Mr.',\n",
       " 'Mr.',\n",
       " 'Mr.',\n",
       " 'Mr.',\n",
       " 'Mr.',\n",
       " 'Mrs.',\n",
       " 'Mr.',\n",
       " 'Mr.',\n",
       " 'Mrs.',\n",
       " 'Mr.',\n",
       " 'Mrs.',\n",
       " 'Mr.',\n",
       " 'Miss.',\n",
       " 'Mr.',\n",
       " 'Mr.',\n",
       " 'Mrs.',\n",
       " 'Mr.',\n",
       " 'Mr.',\n",
       " 'Miss.',\n",
       " 'Mr.',\n",
       " 'Mr.',\n",
       " 'Mr.',\n",
       " 'Miss.',\n",
       " 'Mr.',\n",
       " 'Mr.',\n",
       " 'Mrs.',\n",
       " 'Miss.',\n",
       " 'Miss.',\n",
       " 'Major.',\n",
       " 'Miss.',\n",
       " 'Mr.',\n",
       " 'Miss.',\n",
       " 'Miss.',\n",
       " 'Miss.',\n",
       " 'Miss.',\n",
       " 'Mr.',\n",
       " 'Mr.',\n",
       " 'Mr.',\n",
       " 'Mrs.',\n",
       " 'y',\n",
       " 'Mr.',\n",
       " 'Master.',\n",
       " 'Mr.',\n",
       " 'Mr.',\n",
       " 'Mr.',\n",
       " 'Mr.',\n",
       " 'Miss.',\n",
       " 'Mr.',\n",
       " 'Gordon,',\n",
       " 'Mr.',\n",
       " 'Mrs.',\n",
       " 'Messemaeker,',\n",
       " 'Mr.',\n",
       " 'Mr.',\n",
       " 'Mr.',\n",
       " 'Mr.',\n",
       " 'Miss.',\n",
       " 'Mr.',\n",
       " 'Mr.',\n",
       " 'Mrs.',\n",
       " 'Mr.',\n",
       " 'Mr.',\n",
       " 'Mr.',\n",
       " 'Mrs.',\n",
       " 'Mr.',\n",
       " 'Miss.',\n",
       " 'Mr.',\n",
       " 'Mr.',\n",
       " 'Miss.',\n",
       " 'Mrs.',\n",
       " 'Mrs.',\n",
       " 'Mr.',\n",
       " 'Miss.',\n",
       " 'Mrs.',\n",
       " 'Mr.',\n",
       " 'Mr.',\n",
       " 'Mr.',\n",
       " 'Miss.',\n",
       " 'Mr.',\n",
       " 'Mr.',\n",
       " 'Mr.',\n",
       " 'Mr.',\n",
       " 'Mr.',\n",
       " 'Mrs.',\n",
       " 'Mr.',\n",
       " 'Miss.',\n",
       " 'Mr.',\n",
       " 'Impe,',\n",
       " 'Miss.',\n",
       " 'Mr.',\n",
       " 'Mr.',\n",
       " 'Gordon,',\n",
       " 'Mrs.',\n",
       " 'Mr.',\n",
       " 'Mr.',\n",
       " 'Mr.',\n",
       " 'Mr.',\n",
       " 'Mr.',\n",
       " 'Mr.',\n",
       " 'Mr.',\n",
       " 'Mrs.',\n",
       " 'Miss.',\n",
       " 'Mrs.',\n",
       " 'Mr.',\n",
       " 'Miss.',\n",
       " 'Mr.',\n",
       " 'Mr.',\n",
       " 'Miss.',\n",
       " 'Mr.',\n",
       " 'Mrs.',\n",
       " 'Miss.',\n",
       " 'Mr.',\n",
       " 'Mr.',\n",
       " 'Mr.',\n",
       " 'Mr.',\n",
       " 'Mr.',\n",
       " 'Mr.',\n",
       " 'Mr.',\n",
       " 'Rev.',\n",
       " 'Miss.',\n",
       " 'Mr.',\n",
       " 'Mr.',\n",
       " 'Mr.',\n",
       " 'Mr.',\n",
       " 'Dr.',\n",
       " 'Mr.',\n",
       " 'Miss.',\n",
       " 'Miss.',\n",
       " 'Mr.',\n",
       " 'Mr.',\n",
       " 'Mrs.',\n",
       " 'Mr.',\n",
       " 'Mr.',\n",
       " 'Mlle.',\n",
       " 'Miss.',\n",
       " 'Mr.',\n",
       " 'Miss.',\n",
       " 'Mr.',\n",
       " 'Mr.',\n",
       " 'Col.',\n",
       " 'Mr.',\n",
       " 'Miss.',\n",
       " 'Mr.',\n",
       " 'Miss.',\n",
       " 'Mr.',\n",
       " 'Miss.',\n",
       " 'Miss.',\n",
       " 'Mr.',\n",
       " 'Mr.',\n",
       " 'Mrs.',\n",
       " 'Mr.',\n",
       " 'Mr.',\n",
       " 'Dr.',\n",
       " 'Mr.',\n",
       " 'Mr.',\n",
       " 'Mr.',\n",
       " 'Mr.',\n",
       " 'Mr.',\n",
       " 'Mr.',\n",
       " 'Mr.',\n",
       " 'Mr.',\n",
       " 'Mrs.',\n",
       " 'Mrs.',\n",
       " 'Mr.',\n",
       " 'Mr.',\n",
       " 'Mr.',\n",
       " 'Mr.',\n",
       " 'Mr.',\n",
       " 'Mr.',\n",
       " 'Miss.',\n",
       " 'Mrs.',\n",
       " 'Mr.',\n",
       " 'Miss.',\n",
       " 'Mr.',\n",
       " 'Mr.',\n",
       " 'Mr.',\n",
       " 'Mr.',\n",
       " 'Mr.',\n",
       " 'Mr.',\n",
       " 'Mr.',\n",
       " 'Mr.',\n",
       " 'Miss.',\n",
       " 'Mr.',\n",
       " 'Miss.',\n",
       " 'Mr.',\n",
       " 'Mr.',\n",
       " 'Col.',\n",
       " 'Mr.',\n",
       " 'Mr.',\n",
       " 'Miss.',\n",
       " 'Mr.',\n",
       " 'Mr.',\n",
       " 'Mrs.',\n",
       " 'Mr.',\n",
       " 'Miss.',\n",
       " 'Mr.',\n",
       " 'Mr.',\n",
       " 'Mr.',\n",
       " 'Mrs.',\n",
       " 'Mr.',\n",
       " 'Miss.',\n",
       " 'Master.',\n",
       " 'Mlle.',\n",
       " 'Mr.',\n",
       " 'Mr.',\n",
       " 'Mr.',\n",
       " 'Mr.',\n",
       " 'Mr.',\n",
       " 'Miss.',\n",
       " 'Miss.',\n",
       " 'Mr.',\n",
       " 'Mr.',\n",
       " 'Miss.',\n",
       " 'Mr.',\n",
       " 'Mr.',\n",
       " 'Mr.',\n",
       " 'Mr.',\n",
       " 'Mr.',\n",
       " 'Mrs.',\n",
       " 'Miss.',\n",
       " 'Mr.',\n",
       " 'Miss.',\n",
       " 'Miss.',\n",
       " 'Mr.',\n",
       " 'Mr.',\n",
       " 'Mr.',\n",
       " 'Mr.',\n",
       " 'Mr.',\n",
       " 'Mrs.',\n",
       " 'Mr.',\n",
       " 'Mr.',\n",
       " 'Mr.',\n",
       " 'Mr.',\n",
       " 'Mr.',\n",
       " 'Miss.',\n",
       " 'Mr.',\n",
       " 'Mr.',\n",
       " 'Capt.',\n",
       " 'Mr.',\n",
       " 'Miss.',\n",
       " 'Mr.',\n",
       " 'Mr.',\n",
       " 'Miss.',\n",
       " 'Master.',\n",
       " 'Velde,',\n",
       " 'Mr.',\n",
       " 'Mrs.',\n",
       " 'Master.',\n",
       " 'Mr.',\n",
       " 'Mr.',\n",
       " 'Mr.',\n",
       " 'the',\n",
       " 'Mr.',\n",
       " 'Mr.',\n",
       " 'Mr.',\n",
       " 'Mrs.',\n",
       " 'Mr.',\n",
       " 'Mrs.',\n",
       " 'Dr.',\n",
       " 'Miss.',\n",
       " 'Mr.',\n",
       " 'Mr.',\n",
       " 'Mr.',\n",
       " 'Mr.',\n",
       " 'Mrs.',\n",
       " 'Mr.',\n",
       " 'Mrs.',\n",
       " 'Mr.',\n",
       " 'Mr.',\n",
       " 'Miss.',\n",
       " 'Mr.',\n",
       " 'Mrs.',\n",
       " 'Miss.',\n",
       " 'Mrs.',\n",
       " 'Mr.',\n",
       " 'Mr.',\n",
       " 'Mr.',\n",
       " 'Mr.',\n",
       " 'Miss.',\n",
       " 'Master.',\n",
       " 'Master.',\n",
       " 'Mr.',\n",
       " 'Mr.',\n",
       " 'Mr.',\n",
       " 'Miss.',\n",
       " 'Mr.',\n",
       " 'Mr.',\n",
       " 'Mr.',\n",
       " 'Dr.',\n",
       " 'Mrs.',\n",
       " 'Shawah,',\n",
       " 'Impe,',\n",
       " 'Mr.',\n",
       " 'Mrs.',\n",
       " 'Master.',\n",
       " 'Master.',\n",
       " 'Mr.',\n",
       " 'Mr.',\n",
       " 'Mr.',\n",
       " 'Miss.',\n",
       " 'Mr.',\n",
       " 'Mrs.',\n",
       " 'Mr.',\n",
       " 'Mr.',\n",
       " 'Mr.',\n",
       " 'Miss.',\n",
       " 'Mr.',\n",
       " 'Mr.',\n",
       " 'Miss.',\n",
       " 'Mr.',\n",
       " 'Mr.',\n",
       " 'Master.',\n",
       " 'Mrs.',\n",
       " 'Mr.',\n",
       " 'Jonkheer.',\n",
       " 'Mrs.',\n",
       " 'Master.',\n",
       " 'Mr.',\n",
       " 'Mr.',\n",
       " 'Master.',\n",
       " 'Mr.',\n",
       " 'Mrs.',\n",
       " 'Mrs.',\n",
       " 'Master.',\n",
       " 'Mr.',\n",
       " 'Mr.',\n",
       " 'Mr.',\n",
       " 'Miss.',\n",
       " 'Mr.',\n",
       " 'Mr.',\n",
       " 'Mr.',\n",
       " 'Mr.',\n",
       " 'Mr.',\n",
       " 'Mr.',\n",
       " 'Miss.',\n",
       " 'Mr.',\n",
       " 'Mr.',\n",
       " 'Mr.',\n",
       " 'Mr.',\n",
       " 'Mr.',\n",
       " 'Rev.',\n",
       " 'Mrs.',\n",
       " 'Master.',\n",
       " 'Mr.',\n",
       " 'Miss.',\n",
       " 'Miss.',\n",
       " 'Mrs.',\n",
       " 'Mrs.',\n",
       " 'Mrs.',\n",
       " 'Mr.',\n",
       " 'Mrs.',\n",
       " 'Mr.',\n",
       " 'Mr.',\n",
       " 'Mr.',\n",
       " 'Mrs.',\n",
       " 'Miss.',\n",
       " 'Mr.',\n",
       " 'Mrs.',\n",
       " 'y',\n",
       " 'Mr.',\n",
       " 'Melkebeke,',\n",
       " 'Master.',\n",
       " 'Mr.',\n",
       " 'Mrs.',\n",
       " 'Mr.',\n",
       " 'Cruyssen,',\n",
       " 'Mrs.',\n",
       " 'Miss.',\n",
       " 'Mr.',\n",
       " 'Mr.',\n",
       " 'Mr.',\n",
       " 'Mrs.',\n",
       " 'Mrs.',\n",
       " 'Mr.',\n",
       " 'Miss.',\n",
       " 'Mr.',\n",
       " 'Mr.',\n",
       " 'Mrs.',\n",
       " 'Rev.',\n",
       " 'Miss.',\n",
       " 'Miss.',\n",
       " 'Mr.',\n",
       " 'Mr.']"
      ]
     },
     "execution_count": 335,
     "metadata": {
      "tags": []
     },
     "output_type": "execute_result"
    }
   ],
   "source": [
    "# 5.3. A l’aide d’une expression régulière, \n",
    "# Créer une variable Title contenant uniquement \n",
    "# le titre présent dans la variable Name (Mrs, Dr, Mr etc..)\n",
    "\n",
    "# import re\n",
    "# Title = [re.split(\"\\s\", i, 2)[1] for i in titanic_df.Name]\n",
    "# Title = titanic_df.Name.str.extract((\"\\s\", i, 2)[1])\n",
    "Title = [i.split(' ')[1] for i in titanic_df.Name]\n",
    "Title"
   ]
  },
  {
   "cell_type": "code",
   "execution_count": 266,
   "metadata": {
    "colab": {
     "base_uri": "https://localhost:8080/",
     "height": 487
    },
    "colab_type": "code",
    "executionInfo": {
     "elapsed": 731,
     "status": "ok",
     "timestamp": 1587137016913,
     "user": {
      "displayName": "Arnaud Khun",
      "photoUrl": "",
      "userId": "06549626334485899671"
     },
     "user_tz": -120
    },
    "id": "OdRnsNSKWWJs",
    "outputId": "c1c605b4-c730-4483-f59e-1992e70bf6d7"
   },
   "outputs": [
    {
     "data": {
      "text/html": [
       "<div>\n",
       "<style scoped>\n",
       "    .dataframe tbody tr th:only-of-type {\n",
       "        vertical-align: middle;\n",
       "    }\n",
       "\n",
       "    .dataframe tbody tr th {\n",
       "        vertical-align: top;\n",
       "    }\n",
       "\n",
       "    .dataframe thead th {\n",
       "        text-align: right;\n",
       "    }\n",
       "</style>\n",
       "<table border=\"1\" class=\"dataframe\">\n",
       "  <thead>\n",
       "    <tr style=\"text-align: right;\">\n",
       "      <th></th>\n",
       "      <th>PassengerId</th>\n",
       "      <th>Survived</th>\n",
       "      <th>Pclass</th>\n",
       "      <th>Name</th>\n",
       "      <th>Sex</th>\n",
       "      <th>Age</th>\n",
       "      <th>Ticket</th>\n",
       "      <th>Fare</th>\n",
       "      <th>Embarked</th>\n",
       "      <th>TravelAlone</th>\n",
       "    </tr>\n",
       "  </thead>\n",
       "  <tbody>\n",
       "    <tr>\n",
       "      <th>0</th>\n",
       "      <td>1</td>\n",
       "      <td>0</td>\n",
       "      <td>3</td>\n",
       "      <td>Braund, Mr. Owen Harris</td>\n",
       "      <td>male</td>\n",
       "      <td>22.0</td>\n",
       "      <td>A/5 21171</td>\n",
       "      <td>7.2500</td>\n",
       "      <td>S</td>\n",
       "      <td>0</td>\n",
       "    </tr>\n",
       "    <tr>\n",
       "      <th>1</th>\n",
       "      <td>2</td>\n",
       "      <td>1</td>\n",
       "      <td>1</td>\n",
       "      <td>Cumings, Mrs. John Bradley (Florence Briggs Th...</td>\n",
       "      <td>female</td>\n",
       "      <td>38.0</td>\n",
       "      <td>PC 17599</td>\n",
       "      <td>71.2833</td>\n",
       "      <td>C</td>\n",
       "      <td>0</td>\n",
       "    </tr>\n",
       "    <tr>\n",
       "      <th>2</th>\n",
       "      <td>3</td>\n",
       "      <td>1</td>\n",
       "      <td>3</td>\n",
       "      <td>Heikkinen, Miss. Laina</td>\n",
       "      <td>female</td>\n",
       "      <td>26.0</td>\n",
       "      <td>STON/O2. 3101282</td>\n",
       "      <td>7.9250</td>\n",
       "      <td>S</td>\n",
       "      <td>1</td>\n",
       "    </tr>\n",
       "    <tr>\n",
       "      <th>3</th>\n",
       "      <td>4</td>\n",
       "      <td>1</td>\n",
       "      <td>1</td>\n",
       "      <td>Futrelle, Mrs. Jacques Heath (Lily May Peel)</td>\n",
       "      <td>female</td>\n",
       "      <td>35.0</td>\n",
       "      <td>113803</td>\n",
       "      <td>53.1000</td>\n",
       "      <td>S</td>\n",
       "      <td>0</td>\n",
       "    </tr>\n",
       "    <tr>\n",
       "      <th>4</th>\n",
       "      <td>5</td>\n",
       "      <td>0</td>\n",
       "      <td>3</td>\n",
       "      <td>Allen, Mr. William Henry</td>\n",
       "      <td>male</td>\n",
       "      <td>35.0</td>\n",
       "      <td>373450</td>\n",
       "      <td>8.0500</td>\n",
       "      <td>S</td>\n",
       "      <td>1</td>\n",
       "    </tr>\n",
       "    <tr>\n",
       "      <th>...</th>\n",
       "      <td>...</td>\n",
       "      <td>...</td>\n",
       "      <td>...</td>\n",
       "      <td>...</td>\n",
       "      <td>...</td>\n",
       "      <td>...</td>\n",
       "      <td>...</td>\n",
       "      <td>...</td>\n",
       "      <td>...</td>\n",
       "      <td>...</td>\n",
       "    </tr>\n",
       "    <tr>\n",
       "      <th>886</th>\n",
       "      <td>887</td>\n",
       "      <td>0</td>\n",
       "      <td>2</td>\n",
       "      <td>Montvila, Rev. Juozas</td>\n",
       "      <td>male</td>\n",
       "      <td>27.0</td>\n",
       "      <td>211536</td>\n",
       "      <td>13.0000</td>\n",
       "      <td>S</td>\n",
       "      <td>1</td>\n",
       "    </tr>\n",
       "    <tr>\n",
       "      <th>887</th>\n",
       "      <td>888</td>\n",
       "      <td>1</td>\n",
       "      <td>1</td>\n",
       "      <td>Graham, Miss. Margaret Edith</td>\n",
       "      <td>female</td>\n",
       "      <td>19.0</td>\n",
       "      <td>112053</td>\n",
       "      <td>30.0000</td>\n",
       "      <td>S</td>\n",
       "      <td>1</td>\n",
       "    </tr>\n",
       "    <tr>\n",
       "      <th>888</th>\n",
       "      <td>889</td>\n",
       "      <td>0</td>\n",
       "      <td>3</td>\n",
       "      <td>Johnston, Miss. Catherine Helen \"Carrie\"</td>\n",
       "      <td>female</td>\n",
       "      <td>NaN</td>\n",
       "      <td>W./C. 6607</td>\n",
       "      <td>23.4500</td>\n",
       "      <td>S</td>\n",
       "      <td>0</td>\n",
       "    </tr>\n",
       "    <tr>\n",
       "      <th>889</th>\n",
       "      <td>890</td>\n",
       "      <td>1</td>\n",
       "      <td>1</td>\n",
       "      <td>Behr, Mr. Karl Howell</td>\n",
       "      <td>male</td>\n",
       "      <td>26.0</td>\n",
       "      <td>111369</td>\n",
       "      <td>30.0000</td>\n",
       "      <td>C</td>\n",
       "      <td>1</td>\n",
       "    </tr>\n",
       "    <tr>\n",
       "      <th>890</th>\n",
       "      <td>891</td>\n",
       "      <td>0</td>\n",
       "      <td>3</td>\n",
       "      <td>Dooley, Mr. Patrick</td>\n",
       "      <td>male</td>\n",
       "      <td>32.0</td>\n",
       "      <td>370376</td>\n",
       "      <td>7.7500</td>\n",
       "      <td>Q</td>\n",
       "      <td>1</td>\n",
       "    </tr>\n",
       "  </tbody>\n",
       "</table>\n",
       "<p>891 rows × 10 columns</p>\n",
       "</div>"
      ],
      "text/plain": [
       "     PassengerId  Survived  Pclass  ...     Fare Embarked  TravelAlone\n",
       "0              1         0       3  ...   7.2500        S            0\n",
       "1              2         1       1  ...  71.2833        C            0\n",
       "2              3         1       3  ...   7.9250        S            1\n",
       "3              4         1       1  ...  53.1000        S            0\n",
       "4              5         0       3  ...   8.0500        S            1\n",
       "..           ...       ...     ...  ...      ...      ...          ...\n",
       "886          887         0       2  ...  13.0000        S            1\n",
       "887          888         1       1  ...  30.0000        S            1\n",
       "888          889         0       3  ...  23.4500        S            0\n",
       "889          890         1       1  ...  30.0000        C            1\n",
       "890          891         0       3  ...   7.7500        Q            1\n",
       "\n",
       "[891 rows x 10 columns]"
      ]
     },
     "execution_count": 266,
     "metadata": {
      "tags": []
     },
     "output_type": "execute_result"
    }
   ],
   "source": [
    "# 5.4. Supprimer les colonnes dont vous n’avez plus l’utilité. \n",
    "titanic_df.drop(columns=[\"Cabin\",\"SibSp\", \"Parch\",'TravelF'])"
   ]
  },
  {
   "cell_type": "code",
   "execution_count": 268,
   "metadata": {
    "colab": {
     "base_uri": "https://localhost:8080/",
     "height": 369
    },
    "colab_type": "code",
    "executionInfo": {
     "elapsed": 1970,
     "status": "ok",
     "timestamp": 1587137088863,
     "user": {
      "displayName": "Arnaud Khun",
      "photoUrl": "",
      "userId": "06549626334485899671"
     },
     "user_tz": -120
    },
    "id": "m0x18gOlZGNv",
    "outputId": "29fd5389-af35-464e-aed2-1c151d07afc6"
   },
   "outputs": [
    {
     "data": {
      "image/png": "[encoded data removed]",
      "text/plain": [
       "<Figure size 425.875x360 with 1 Axes>"
      ]
     },
     "metadata": {
      "needs_background": "light",
      "tags": []
     },
     "output_type": "display_data"
    }
   ],
   "source": [
    "#5.5. Représenter la variable TravelAlone en fonction de la variable Survived.\n",
    "sns.catplot(x = 'Survived',kind ='count', hue='TravelAlone', data=titanic_df)\n",
    "plt.show()\n"
   ]
  },
  {
   "cell_type": "code",
   "execution_count": 0,
   "metadata": {
    "colab": {},
    "colab_type": "code",
    "id": "Dkoppzz0acs_"
   },
   "outputs": [],
   "source": [
    "# 6. Features encoding\n",
    "\n",
    "# 6.1. Créer une copie du dataframe appelé df2.\n",
    "import copy\n",
    "df2 = copy.deepcopy(titanic_df)"
   ]
  },
  {
   "cell_type": "code",
   "execution_count": 276,
   "metadata": {
    "colab": {
     "base_uri": "https://localhost:8080/",
     "height": 748
    },
    "colab_type": "code",
    "executionInfo": {
     "elapsed": 1442,
     "status": "ok",
     "timestamp": 1587137864615,
     "user": {
      "displayName": "Arnaud Khun",
      "photoUrl": "",
      "userId": "06549626334485899671"
     },
     "user_tz": -120
    },
    "id": "YC8-RvaWa6FS",
    "outputId": "ea4f1068-a8db-4174-c0b3-8f04433f3788"
   },
   "outputs": [
    {
     "name": "stdout",
     "output_type": "stream",
     "text": [
      "Dummies Sex, Pclass, Embarked \n",
      "      female  male\n",
      "0         0     1\n",
      "1         1     0\n",
      "2         1     0\n",
      "3         1     0\n",
      "4         0     1\n",
      "..      ...   ...\n",
      "886       0     1\n",
      "887       1     0\n",
      "888       1     0\n",
      "889       0     1\n",
      "890       0     1\n",
      "\n",
      "[891 rows x 2 columns] \n",
      "      1  2  3\n",
      "0    0  0  1\n",
      "1    1  0  0\n",
      "2    0  0  1\n",
      "3    1  0  0\n",
      "4    0  0  1\n",
      "..  .. .. ..\n",
      "886  0  1  0\n",
      "887  1  0  0\n",
      "888  0  0  1\n",
      "889  1  0  0\n",
      "890  0  0  1\n",
      "\n",
      "[891 rows x 3 columns] \n",
      "      C  Q  S\n",
      "0    0  0  1\n",
      "1    1  0  0\n",
      "2    0  0  1\n",
      "3    0  0  1\n",
      "4    0  0  1\n",
      "..  .. .. ..\n",
      "886  0  0  1\n",
      "887  0  0  1\n",
      "888  0  0  1\n",
      "889  1  0  0\n",
      "890  0  1  0\n",
      "\n",
      "[891 rows x 3 columns]\n"
     ]
    }
   ],
   "source": [
    "#6.2 A l’aide de la fonction get_dummies, transformez les variables Pclass, Sex et Embarked en dummies sur le premier dataframe. Définir ce qu’est une variables dummy.\n",
    "Sex = pd.get_dummies(titanic_df.Sex)\n",
    "Pclass =  pd.get_dummies(titanic_df.Pclass)\n",
    "Embarked =  pd.get_dummies(titanic_df.Embarked)\n",
    "print('Dummies Sex, Pclass, Embarked \\n',Sex,'\\n',Pclass,'\\n',Embarked)\n",
    "# Prend une valeur entière suivant la catégorie"
   ]
  },
  {
   "cell_type": "code",
   "execution_count": 0,
   "metadata": {
    "colab": {
     "base_uri": "https://localhost:8080/",
     "height": 921
    },
    "colab_type": "code",
    "executionInfo": {
     "elapsed": 1187,
     "status": "ok",
     "timestamp": 1587132226688,
     "user": {
      "displayName": "Greenstorm",
      "photoUrl": "https://lh3.googleusercontent.com/a-/AOh14GgvlYRfEmuHCSaFjUfCrf3Awhc2q_CVnnEL31aIgg=s64",
      "userId": "13579585697571861503"
     },
     "user_tz": -120
    },
    "id": "V0PEfhNXb1Db",
    "outputId": "ad290b73-07de-4bf9-9f2f-22a583c340df"
   },
   "outputs": [
    {
     "data": {
      "text/html": [
       "<div>\n",
       "<style scoped>\n",
       "    .dataframe tbody tr th:only-of-type {\n",
       "        vertical-align: middle;\n",
       "    }\n",
       "\n",
       "    .dataframe tbody tr th {\n",
       "        vertical-align: top;\n",
       "    }\n",
       "\n",
       "    .dataframe thead th {\n",
       "        text-align: right;\n",
       "    }\n",
       "</style>\n",
       "<table border=\"1\" class=\"dataframe\">\n",
       "  <thead>\n",
       "    <tr style=\"text-align: right;\">\n",
       "      <th></th>\n",
       "      <th>PassengerId</th>\n",
       "      <th>Survived</th>\n",
       "      <th>Pclass</th>\n",
       "      <th>Name</th>\n",
       "      <th>Sex</th>\n",
       "      <th>Age</th>\n",
       "      <th>SibSp</th>\n",
       "      <th>Parch</th>\n",
       "      <th>Ticket</th>\n",
       "      <th>Fare</th>\n",
       "      <th>Cabin</th>\n",
       "      <th>Embarked</th>\n",
       "      <th>TravelF</th>\n",
       "      <th>TravelAlone</th>\n",
       "    </tr>\n",
       "  </thead>\n",
       "  <tbody>\n",
       "    <tr>\n",
       "      <th>0</th>\n",
       "      <td>1</td>\n",
       "      <td>0</td>\n",
       "      <td>3</td>\n",
       "      <td>Braund, Mr. Owen Harris</td>\n",
       "      <td>male</td>\n",
       "      <td>22.0</td>\n",
       "      <td>1</td>\n",
       "      <td>0</td>\n",
       "      <td>A/5 21171</td>\n",
       "      <td>7.2500</td>\n",
       "      <td>NaN</td>\n",
       "      <td>S</td>\n",
       "      <td>1</td>\n",
       "      <td>0</td>\n",
       "    </tr>\n",
       "    <tr>\n",
       "      <th>1</th>\n",
       "      <td>2</td>\n",
       "      <td>1</td>\n",
       "      <td>1</td>\n",
       "      <td>Cumings, Mrs. John Bradley (Florence Briggs Th...</td>\n",
       "      <td>female</td>\n",
       "      <td>38.0</td>\n",
       "      <td>1</td>\n",
       "      <td>0</td>\n",
       "      <td>PC 17599</td>\n",
       "      <td>71.2833</td>\n",
       "      <td>C85</td>\n",
       "      <td>C</td>\n",
       "      <td>1</td>\n",
       "      <td>0</td>\n",
       "    </tr>\n",
       "    <tr>\n",
       "      <th>2</th>\n",
       "      <td>3</td>\n",
       "      <td>1</td>\n",
       "      <td>3</td>\n",
       "      <td>Heikkinen, Miss. Laina</td>\n",
       "      <td>female</td>\n",
       "      <td>26.0</td>\n",
       "      <td>0</td>\n",
       "      <td>0</td>\n",
       "      <td>STON/O2. 3101282</td>\n",
       "      <td>7.9250</td>\n",
       "      <td>NaN</td>\n",
       "      <td>S</td>\n",
       "      <td>0</td>\n",
       "      <td>1</td>\n",
       "    </tr>\n",
       "    <tr>\n",
       "      <th>3</th>\n",
       "      <td>4</td>\n",
       "      <td>1</td>\n",
       "      <td>1</td>\n",
       "      <td>Futrelle, Mrs. Jacques Heath (Lily May Peel)</td>\n",
       "      <td>female</td>\n",
       "      <td>35.0</td>\n",
       "      <td>1</td>\n",
       "      <td>0</td>\n",
       "      <td>113803</td>\n",
       "      <td>53.1000</td>\n",
       "      <td>C123</td>\n",
       "      <td>S</td>\n",
       "      <td>1</td>\n",
       "      <td>0</td>\n",
       "    </tr>\n",
       "    <tr>\n",
       "      <th>4</th>\n",
       "      <td>5</td>\n",
       "      <td>0</td>\n",
       "      <td>3</td>\n",
       "      <td>Allen, Mr. William Henry</td>\n",
       "      <td>male</td>\n",
       "      <td>35.0</td>\n",
       "      <td>0</td>\n",
       "      <td>0</td>\n",
       "      <td>373450</td>\n",
       "      <td>8.0500</td>\n",
       "      <td>NaN</td>\n",
       "      <td>S</td>\n",
       "      <td>0</td>\n",
       "      <td>1</td>\n",
       "    </tr>\n",
       "    <tr>\n",
       "      <th>5</th>\n",
       "      <td>6</td>\n",
       "      <td>0</td>\n",
       "      <td>3</td>\n",
       "      <td>Moran, Mr. James</td>\n",
       "      <td>male</td>\n",
       "      <td>NaN</td>\n",
       "      <td>0</td>\n",
       "      <td>0</td>\n",
       "      <td>330877</td>\n",
       "      <td>8.4583</td>\n",
       "      <td>NaN</td>\n",
       "      <td>Q</td>\n",
       "      <td>0</td>\n",
       "      <td>1</td>\n",
       "    </tr>\n",
       "    <tr>\n",
       "      <th>6</th>\n",
       "      <td>7</td>\n",
       "      <td>0</td>\n",
       "      <td>1</td>\n",
       "      <td>McCarthy, Mr. Timothy J</td>\n",
       "      <td>male</td>\n",
       "      <td>54.0</td>\n",
       "      <td>0</td>\n",
       "      <td>0</td>\n",
       "      <td>17463</td>\n",
       "      <td>51.8625</td>\n",
       "      <td>E46</td>\n",
       "      <td>S</td>\n",
       "      <td>0</td>\n",
       "      <td>1</td>\n",
       "    </tr>\n",
       "    <tr>\n",
       "      <th>7</th>\n",
       "      <td>8</td>\n",
       "      <td>0</td>\n",
       "      <td>3</td>\n",
       "      <td>Palsson, Master. Gosta Leonard</td>\n",
       "      <td>male</td>\n",
       "      <td>2.0</td>\n",
       "      <td>3</td>\n",
       "      <td>1</td>\n",
       "      <td>349909</td>\n",
       "      <td>21.0750</td>\n",
       "      <td>NaN</td>\n",
       "      <td>S</td>\n",
       "      <td>4</td>\n",
       "      <td>0</td>\n",
       "    </tr>\n",
       "    <tr>\n",
       "      <th>8</th>\n",
       "      <td>9</td>\n",
       "      <td>1</td>\n",
       "      <td>3</td>\n",
       "      <td>Johnson, Mrs. Oscar W (Elisabeth Vilhelmina Berg)</td>\n",
       "      <td>female</td>\n",
       "      <td>27.0</td>\n",
       "      <td>0</td>\n",
       "      <td>2</td>\n",
       "      <td>347742</td>\n",
       "      <td>11.1333</td>\n",
       "      <td>NaN</td>\n",
       "      <td>S</td>\n",
       "      <td>2</td>\n",
       "      <td>0</td>\n",
       "    </tr>\n",
       "    <tr>\n",
       "      <th>9</th>\n",
       "      <td>10</td>\n",
       "      <td>1</td>\n",
       "      <td>2</td>\n",
       "      <td>Nasser, Mrs. Nicholas (Adele Achem)</td>\n",
       "      <td>female</td>\n",
       "      <td>14.0</td>\n",
       "      <td>1</td>\n",
       "      <td>0</td>\n",
       "      <td>237736</td>\n",
       "      <td>30.0708</td>\n",
       "      <td>NaN</td>\n",
       "      <td>C</td>\n",
       "      <td>1</td>\n",
       "      <td>0</td>\n",
       "    </tr>\n",
       "  </tbody>\n",
       "</table>\n",
       "</div>"
      ],
      "text/plain": [
       "   PassengerId  Survived  Pclass  ... Embarked TravelF  TravelAlone\n",
       "0            1         0       3  ...        S       1            0\n",
       "1            2         1       1  ...        C       1            0\n",
       "2            3         1       3  ...        S       0            1\n",
       "3            4         1       1  ...        S       1            0\n",
       "4            5         0       3  ...        S       0            1\n",
       "5            6         0       3  ...        Q       0            1\n",
       "6            7         0       1  ...        S       0            1\n",
       "7            8         0       3  ...        S       4            0\n",
       "8            9         1       3  ...        S       2            0\n",
       "9           10         1       2  ...        C       1            0\n",
       "\n",
       "[10 rows x 14 columns]"
      ]
     },
     "execution_count": 73,
     "metadata": {
      "tags": []
     },
     "output_type": "execute_result"
    }
   ],
   "source": [
    "#6.3 Affichez les 10 premières lignes du premier dataframe.\n",
    "titanic_df.head(10)"
   ]
  },
  {
   "cell_type": "code",
   "execution_count": 0,
   "metadata": {
    "colab": {},
    "colab_type": "code",
    "id": "sBbHkk3EcM6l"
   },
   "outputs": [],
   "source": [
    "# 6.4. Importer la librairie preprocessing de sklearn.\n",
    "\n",
    "from sklearn import preprocessing as skp"
   ]
  },
  {
   "cell_type": "code",
   "execution_count": 0,
   "metadata": {
    "colab": {
     "base_uri": "https://localhost:8080/",
     "height": 221
    },
    "colab_type": "code",
    "executionInfo": {
     "elapsed": 1257,
     "status": "ok",
     "timestamp": 1587132835477,
     "user": {
      "displayName": "Arnaud Khun",
      "photoUrl": "",
      "userId": "06549626334485899671"
     },
     "user_tz": -120
    },
    "id": "Jwae1VYuefz1",
    "outputId": "1e5ca277-4995-4b3f-d9fc-13e82035c985"
   },
   "outputs": [
    {
     "data": {
      "text/plain": [
       "0      S\n",
       "1      C\n",
       "2      S\n",
       "3      S\n",
       "4      S\n",
       "      ..\n",
       "886    S\n",
       "887    S\n",
       "888    S\n",
       "889    C\n",
       "890    Q\n",
       "Name: Embarked, Length: 891, dtype: object"
      ]
     },
     "execution_count": 225,
     "metadata": {
      "tags": []
     },
     "output_type": "execute_result"
    }
   ],
   "source": [
    "# 6.5. A l’aide de la fonction LabelEncoder, transformez les variables Embarked et Sex de df2 en variables catégorielles numériques.\n",
    "\n",
    "skp.LabelEncoder.fit(df2['Embarked'],df2['Sex'])"
   ]
  },
  {
   "cell_type": "code",
   "execution_count": 0,
   "metadata": {
    "colab": {
     "base_uri": "https://localhost:8080/",
     "height": 906
    },
    "colab_type": "code",
    "executionInfo": {
     "elapsed": 1290,
     "status": "ok",
     "timestamp": 1587132970797,
     "user": {
      "displayName": "Arnaud Khun",
      "photoUrl": "",
      "userId": "06549626334485899671"
     },
     "user_tz": -120
    },
    "id": "SQ3-SjAvfZDG",
    "outputId": "ecc0ed92-ed1b-40d2-b41a-1b72919fcbf0"
   },
   "outputs": [
    {
     "data": {
      "text/html": [
       "<div>\n",
       "<style scoped>\n",
       "    .dataframe tbody tr th:only-of-type {\n",
       "        vertical-align: middle;\n",
       "    }\n",
       "\n",
       "    .dataframe tbody tr th {\n",
       "        vertical-align: top;\n",
       "    }\n",
       "\n",
       "    .dataframe thead th {\n",
       "        text-align: right;\n",
       "    }\n",
       "</style>\n",
       "<table border=\"1\" class=\"dataframe\">\n",
       "  <thead>\n",
       "    <tr style=\"text-align: right;\">\n",
       "      <th></th>\n",
       "      <th>TravelH</th>\n",
       "      <th>TravelG</th>\n",
       "      <th>PassengerId</th>\n",
       "      <th>Survived</th>\n",
       "      <th>Pclass</th>\n",
       "      <th>Name</th>\n",
       "      <th>Sex</th>\n",
       "      <th>Age</th>\n",
       "      <th>SibSp</th>\n",
       "      <th>Parch</th>\n",
       "      <th>Ticket</th>\n",
       "      <th>Fare</th>\n",
       "      <th>Cabin</th>\n",
       "      <th>Embarked</th>\n",
       "      <th>TravelF</th>\n",
       "    </tr>\n",
       "  </thead>\n",
       "  <tbody>\n",
       "    <tr>\n",
       "      <th>0</th>\n",
       "      <td>1</td>\n",
       "      <td>1</td>\n",
       "      <td>1</td>\n",
       "      <td>0</td>\n",
       "      <td>3</td>\n",
       "      <td>Braund, Mr. Owen Harris</td>\n",
       "      <td>male</td>\n",
       "      <td>22.0</td>\n",
       "      <td>1</td>\n",
       "      <td>0</td>\n",
       "      <td>A/5 21171</td>\n",
       "      <td>7.2500</td>\n",
       "      <td>NaN</td>\n",
       "      <td>S</td>\n",
       "      <td>1</td>\n",
       "    </tr>\n",
       "    <tr>\n",
       "      <th>1</th>\n",
       "      <td>1</td>\n",
       "      <td>1</td>\n",
       "      <td>2</td>\n",
       "      <td>1</td>\n",
       "      <td>1</td>\n",
       "      <td>Cumings, Mrs. John Bradley (Florence Briggs Th...</td>\n",
       "      <td>female</td>\n",
       "      <td>38.0</td>\n",
       "      <td>1</td>\n",
       "      <td>0</td>\n",
       "      <td>PC 17599</td>\n",
       "      <td>71.2833</td>\n",
       "      <td>C85</td>\n",
       "      <td>C</td>\n",
       "      <td>1</td>\n",
       "    </tr>\n",
       "    <tr>\n",
       "      <th>2</th>\n",
       "      <td>0</td>\n",
       "      <td>0</td>\n",
       "      <td>3</td>\n",
       "      <td>1</td>\n",
       "      <td>3</td>\n",
       "      <td>Heikkinen, Miss. Laina</td>\n",
       "      <td>female</td>\n",
       "      <td>26.0</td>\n",
       "      <td>0</td>\n",
       "      <td>0</td>\n",
       "      <td>STON/O2. 3101282</td>\n",
       "      <td>7.9250</td>\n",
       "      <td>NaN</td>\n",
       "      <td>S</td>\n",
       "      <td>0</td>\n",
       "    </tr>\n",
       "    <tr>\n",
       "      <th>3</th>\n",
       "      <td>1</td>\n",
       "      <td>1</td>\n",
       "      <td>4</td>\n",
       "      <td>1</td>\n",
       "      <td>1</td>\n",
       "      <td>Futrelle, Mrs. Jacques Heath (Lily May Peel)</td>\n",
       "      <td>female</td>\n",
       "      <td>35.0</td>\n",
       "      <td>1</td>\n",
       "      <td>0</td>\n",
       "      <td>113803</td>\n",
       "      <td>53.1000</td>\n",
       "      <td>C123</td>\n",
       "      <td>S</td>\n",
       "      <td>1</td>\n",
       "    </tr>\n",
       "    <tr>\n",
       "      <th>4</th>\n",
       "      <td>0</td>\n",
       "      <td>0</td>\n",
       "      <td>5</td>\n",
       "      <td>0</td>\n",
       "      <td>3</td>\n",
       "      <td>Allen, Mr. William Henry</td>\n",
       "      <td>male</td>\n",
       "      <td>35.0</td>\n",
       "      <td>0</td>\n",
       "      <td>0</td>\n",
       "      <td>373450</td>\n",
       "      <td>8.0500</td>\n",
       "      <td>NaN</td>\n",
       "      <td>S</td>\n",
       "      <td>0</td>\n",
       "    </tr>\n",
       "    <tr>\n",
       "      <th>5</th>\n",
       "      <td>0</td>\n",
       "      <td>0</td>\n",
       "      <td>6</td>\n",
       "      <td>0</td>\n",
       "      <td>3</td>\n",
       "      <td>Moran, Mr. James</td>\n",
       "      <td>male</td>\n",
       "      <td>NaN</td>\n",
       "      <td>0</td>\n",
       "      <td>0</td>\n",
       "      <td>330877</td>\n",
       "      <td>8.4583</td>\n",
       "      <td>NaN</td>\n",
       "      <td>Q</td>\n",
       "      <td>0</td>\n",
       "    </tr>\n",
       "    <tr>\n",
       "      <th>6</th>\n",
       "      <td>0</td>\n",
       "      <td>0</td>\n",
       "      <td>7</td>\n",
       "      <td>0</td>\n",
       "      <td>1</td>\n",
       "      <td>McCarthy, Mr. Timothy J</td>\n",
       "      <td>male</td>\n",
       "      <td>54.0</td>\n",
       "      <td>0</td>\n",
       "      <td>0</td>\n",
       "      <td>17463</td>\n",
       "      <td>51.8625</td>\n",
       "      <td>E46</td>\n",
       "      <td>S</td>\n",
       "      <td>0</td>\n",
       "    </tr>\n",
       "    <tr>\n",
       "      <th>7</th>\n",
       "      <td>4</td>\n",
       "      <td>4</td>\n",
       "      <td>8</td>\n",
       "      <td>0</td>\n",
       "      <td>3</td>\n",
       "      <td>Palsson, Master. Gosta Leonard</td>\n",
       "      <td>male</td>\n",
       "      <td>2.0</td>\n",
       "      <td>3</td>\n",
       "      <td>1</td>\n",
       "      <td>349909</td>\n",
       "      <td>21.0750</td>\n",
       "      <td>NaN</td>\n",
       "      <td>S</td>\n",
       "      <td>4</td>\n",
       "    </tr>\n",
       "    <tr>\n",
       "      <th>8</th>\n",
       "      <td>2</td>\n",
       "      <td>2</td>\n",
       "      <td>9</td>\n",
       "      <td>1</td>\n",
       "      <td>3</td>\n",
       "      <td>Johnson, Mrs. Oscar W (Elisabeth Vilhelmina Berg)</td>\n",
       "      <td>female</td>\n",
       "      <td>27.0</td>\n",
       "      <td>0</td>\n",
       "      <td>2</td>\n",
       "      <td>347742</td>\n",
       "      <td>11.1333</td>\n",
       "      <td>NaN</td>\n",
       "      <td>S</td>\n",
       "      <td>2</td>\n",
       "    </tr>\n",
       "    <tr>\n",
       "      <th>9</th>\n",
       "      <td>1</td>\n",
       "      <td>1</td>\n",
       "      <td>10</td>\n",
       "      <td>1</td>\n",
       "      <td>2</td>\n",
       "      <td>Nasser, Mrs. Nicholas (Adele Achem)</td>\n",
       "      <td>female</td>\n",
       "      <td>14.0</td>\n",
       "      <td>1</td>\n",
       "      <td>0</td>\n",
       "      <td>237736</td>\n",
       "      <td>30.0708</td>\n",
       "      <td>NaN</td>\n",
       "      <td>C</td>\n",
       "      <td>1</td>\n",
       "    </tr>\n",
       "  </tbody>\n",
       "</table>\n",
       "</div>"
      ],
      "text/plain": [
       "   TravelH  TravelG  PassengerId  Survived  ...     Fare Cabin Embarked  TravelF\n",
       "0        1        1            1         0  ...   7.2500   NaN        S        1\n",
       "1        1        1            2         1  ...  71.2833   C85        C        1\n",
       "2        0        0            3         1  ...   7.9250   NaN        S        0\n",
       "3        1        1            4         1  ...  53.1000  C123        S        1\n",
       "4        0        0            5         0  ...   8.0500   NaN        S        0\n",
       "5        0        0            6         0  ...   8.4583   NaN        Q        0\n",
       "6        0        0            7         0  ...  51.8625   E46        S        0\n",
       "7        4        4            8         0  ...  21.0750   NaN        S        4\n",
       "8        2        2            9         1  ...  11.1333   NaN        S        2\n",
       "9        1        1           10         1  ...  30.0708   NaN        C        1\n",
       "\n",
       "[10 rows x 15 columns]"
      ]
     },
     "execution_count": 226,
     "metadata": {
      "tags": []
     },
     "output_type": "execute_result"
    }
   ],
   "source": [
    "# 6.6. Afficher les 10 premières lignes de df2.\n",
    "\n",
    "df2.head(10)"
   ]
  }
 ],
 "metadata": {
  "colab": {
   "collapsed_sections": [],
   "name": "Groupe 1 : Arnaud, Jean-Baptiste, Williams, Pierre-Marie.ipynb",
   "provenance": [],
   "toc_visible": true
  },
  "kernelspec": {
   "display_name": "Python 3",
   "language": "python",
   "name": "python3"
  },
  "language_info": {
   "codemirror_mode": {
    "name": "ipython",
    "version": 3
   },
   "file_extension": ".py",
   "mimetype": "text/x-python",
   "name": "python",
   "nbconvert_exporter": "python",
   "pygments_lexer": "ipython3",
   "version": "3.7.6"
  }
 },
 "nbformat": 4,
 "nbformat_minor": 1
}
