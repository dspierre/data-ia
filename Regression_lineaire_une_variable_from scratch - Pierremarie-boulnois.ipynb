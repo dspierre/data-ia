{
 "cells": [
  {
   "cell_type": "markdown",
   "metadata": {},
   "source": [
    "# Régression linéaire avec descente de gradient from scratch - une variable"
   ]
  },
  {
   "cell_type": "markdown",
   "metadata": {},
   "source": [
    "## 1. Définitions - Fonctions\n",
    "\n",
    "(Durée moyenne : 2 heures)"
   ]
  },
  {
   "cell_type": "markdown",
   "metadata": {},
   "source": [
    "1. Qu'est-ce-que l'ensemble de définition d'une fonction mathématique?"
   ]
  },
  {
   "cell_type": "markdown",
   "metadata": {},
   "source": [
    "L'ensemble des nombres réels possédant une image par une fonction f est appelé ensemble de\n",
    "définition de la fonction f . De façon formelle, soit f une fonction à valeurs réelles, \n",
    "l'ensemble de définition de f est l'ensemble des réels x pour lesquels l'image f \n",
    "( x ) existe ou pour lesquels f ( x ) a un sens."
   ]
  },
  {
   "cell_type": "markdown",
   "metadata": {},
   "source": [
    "2. Qu'est-ce que la dérivée d'une fonction?"
   ]
  },
  {
   "cell_type": "markdown",
   "metadata": {},
   "source": [
    "La dérivée d'une fonction f est une fonction qui, à tout nombre pour lequel\n",
    "f admet un nombre dérivé, associe ce nombre dérivé. ... \n",
    "C'est le coefficient directeur de l'approximation affine de f en x ; \n",
    "ce nombre n'est donc défini que  si cette tangente — ou cette approximation — existe."
   ]
  },
  {
   "cell_type": "markdown",
   "metadata": {},
   "source": [
    "3. Que représente graphiquement la dérivée en un point?"
   ]
  },
  {
   "cell_type": "markdown",
   "metadata": {},
   "source": [
    "On peut également effectuer une dérivation graphique, sans utiliser de calcul.\n",
    "On approche les tangentes par les cordes comme pour la méthode numérique.\n",
    "Puis, on tire des parallèles à ces droites passant par un point nommé pôle P. \n",
    "On considère l'intersection de ces droites avec la verticale passant par O, le segment [OP] étant horizontal\n",
    ". La hauteur vi des segments ainsi délimités est proportionnelle à la pente ai :"
   ]
  },
  {
   "cell_type": "markdown",
   "metadata": {},
   "source": [
    "4. Trouver un aide mémoire sur la dérivation de fonctions."
   ]
  },
  {
   "cell_type": "markdown",
   "metadata": {},
   "source": [
    "https://www.mat.ulaval.ca/fileadmin/mat/documents/CDA/aide-m%C3%A9moire-mat.pdf"
   ]
  },
  {
   "cell_type": "markdown",
   "metadata": {},
   "source": [
    "5. Pour chacune des fonctions suivantes définir :\n",
    "    - Son ensemble de définition\n",
    "    - Tracer avec Python la courbe représentative de cette fonction sur un intervalle assez grand.\n",
    "    - Donner sa dérivée \n",
    "\n",
    "        - $f_{1}(x) = ax + b $ (Pour le graphique : a=2 b=1)\n",
    "        - $f_{2}(x) = x^2 $\n",
    "        - $f_{3}(x) = ax^2 + bx + c $ (Pour le graphique : a=2 b=4 c=2)\n",
    "        - $f_{4}(x) = \\frac{1}{x} $\n",
    "        - $f_{5}(x) = \\sqrt{x} $\t \n",
    "        - $f_{6}(x) = \\lvert x \\rvert $\t\n",
    "        - $f_{7}(x) =  e^x  $\t \n",
    "        - $f_{8}(x) =  ln(x)  $\t "
   ]
  },
  {
   "cell_type": "markdown",
   "metadata": {},
   "source": [
    " 5. f1(x)= ax+b  sur R\n",
    "    f2(x)= x2    sur R\n",
    "    f3(x)= ax2+bx+c  sur R\n",
    "    f4(x)=1/x sur R*\n",
    "    f5(x)=srt(x) sur R+\n",
    "    f6(x) =|x|  sur R+\n",
    "    𝑓7(𝑥)= expo(x) sur R\n",
    "    𝑓7(𝑥)= ln(x) sur R"
   ]
  },
  {
   "cell_type": "code",
   "execution_count": null,
   "metadata": {},
   "outputs": [],
   "source": [
    "from numpy import *            \n",
    "from matplotlib.pyplot import *\n",
    "x=linspace(-3.,1.,100)\n",
    "y=2*x+1\n",
    "plot(x,y)\n",
    "show()"
   ]
  },
  {
   "cell_type": "code",
   "execution_count": null,
   "metadata": {},
   "outputs": [],
   "source": []
  },
  {
   "cell_type": "code",
   "execution_count": 2,
   "metadata": {},
   "outputs": [
    {
     "data": {
      "image/png": "[encoded data removed]",
      "text/plain": [
       "<Figure size 432x288 with 1 Axes>"
      ]
     },
     "metadata": {
      "needs_background": "light"
     },
     "output_type": "display_data"
    }
   ],
   "source": [
    "from numpy import *            \n",
    "from matplotlib.pyplot import *\n",
    "x=linspace(-3.,1.,100)\n",
    "y=x**2\n",
    "plot(x,y)\n",
    "show()"
   ]
  },
  {
   "cell_type": "code",
   "execution_count": 3,
   "metadata": {},
   "outputs": [
    {
     "data": {
      "text/latex": [
       "$\\displaystyle 1$"
      ],
      "text/plain": [
       "1"
      ]
     },
     "execution_count": 3,
     "metadata": {},
     "output_type": "execute_result"
    }
   ],
   "source": [
    "import sympy as sp\n",
    "x = sp.Symbol('x')\n",
    "y = x+2 \n",
    "sp.diff(y,x)"
   ]
  },
  {
   "cell_type": "code",
   "execution_count": 4,
   "metadata": {},
   "outputs": [
    {
     "data": {
      "image/png": "[encoded data removed]",
      "text/plain": [
       "<Figure size 432x288 with 1 Axes>"
      ]
     },
     "metadata": {
      "needs_background": "light"
     },
     "output_type": "display_data"
    }
   ],
   "source": [
    "from numpy import *            \n",
    "from matplotlib.pyplot import *\n",
    "x=linspace(-3.,1.,100)\n",
    "y=2*x**2+2*x+2\n",
    "plot(x,y)\n",
    "show()"
   ]
  },
  {
   "cell_type": "code",
   "execution_count": 5,
   "metadata": {},
   "outputs": [
    {
     "data": {
      "text/latex": [
       "$\\displaystyle 4 x + 4$"
      ],
      "text/plain": [
       "4*x + 4"
      ]
     },
     "execution_count": 5,
     "metadata": {},
     "output_type": "execute_result"
    }
   ],
   "source": [
    "import sympy as sp\n",
    "x = sp.Symbol('x')\n",
    "y = 2*x**2+4*x+8 \n",
    "sp.diff(y,x)"
   ]
  },
  {
   "cell_type": "code",
   "execution_count": 6,
   "metadata": {},
   "outputs": [
    {
     "data": {
      "image/png": "[encoded data removed]",
      "text/plain": [
       "<Figure size 432x288 with 1 Axes>"
      ]
     },
     "metadata": {
      "needs_background": "light"
     },
     "output_type": "display_data"
    }
   ],
   "source": [
    "from numpy import *            \n",
    "from matplotlib.pyplot import *\n",
    "x=linspace(-3.,1.,100)\n",
    "y=1/x\n",
    "plot(x,y)\n",
    "show()"
   ]
  },
  {
   "cell_type": "code",
   "execution_count": 7,
   "metadata": {},
   "outputs": [
    {
     "data": {
      "text/latex": [
       "$\\displaystyle - \\frac{1}{x^{2}}$"
      ],
      "text/plain": [
       "-1/x**2"
      ]
     },
     "execution_count": 7,
     "metadata": {},
     "output_type": "execute_result"
    }
   ],
   "source": [
    "import sympy as sp\n",
    "import math  \n",
    "x = sp.Symbol('x')\n",
    "y = 1/x\n",
    "sp.diff(y,x)"
   ]
  },
  {
   "cell_type": "code",
   "execution_count": null,
   "metadata": {},
   "outputs": [],
   "source": [
    "import sympy as sp\n",
    "import math  \n",
    "x = sp.Symbol('x')\n",
    "y = math.sqrt(x)\n",
    "sp.diff(y,x)"
   ]
  },
  {
   "cell_type": "code",
   "execution_count": 9,
   "metadata": {},
   "outputs": [
    {
     "data": {
      "image/png": "[encoded data removed]",
      "text/plain": [
       "<Figure size 432x288 with 1 Axes>"
      ]
     },
     "metadata": {
      "needs_background": "light"
     },
     "output_type": "display_data"
    }
   ],
   "source": [
    "from numpy import *            \n",
    "from matplotlib.pyplot import *\n",
    "x=linspace(-3.,1.,100)\n",
    "y=abs(x)\n",
    "plot(x,y)\n",
    "show()"
   ]
  },
  {
   "cell_type": "code",
   "execution_count": 10,
   "metadata": {},
   "outputs": [
    {
     "data": {
      "text/latex": [
       "$\\displaystyle \\frac{\\left(\\operatorname{re}{\\left(x\\right)} \\frac{d}{d x} \\operatorname{re}{\\left(x\\right)} + \\operatorname{im}{\\left(x\\right)} \\frac{d}{d x} \\operatorname{im}{\\left(x\\right)}\\right) \\operatorname{sign}{\\left(x \\right)}}{x}$"
      ],
      "text/plain": [
       "(re(x)*Derivative(re(x), x) + im(x)*Derivative(im(x), x))*sign(x)/x"
      ]
     },
     "execution_count": 10,
     "metadata": {},
     "output_type": "execute_result"
    }
   ],
   "source": [
    "import sympy as sp\n",
    "import math  \n",
    "x = sp.Symbol('x')\n",
    "y = abs(x)\n",
    "sp.diff(y,x)"
   ]
  },
  {
   "cell_type": "code",
   "execution_count": 11,
   "metadata": {},
   "outputs": [
    {
     "data": {
      "image/png": "[encoded data removed]",
      "text/plain": [
       "<Figure size 432x288 with 1 Axes>"
      ]
     },
     "metadata": {
      "needs_background": "light"
     },
     "output_type": "display_data"
    }
   ],
   "source": [
    "from numpy import *            \n",
    "from matplotlib.pyplot import *\n",
    "x=linspace(0.,1.,100)\n",
    "y=exp(x)\n",
    "plot(x,y)\n",
    "show()"
   ]
  },
  {
   "cell_type": "code",
   "execution_count": null,
   "metadata": {},
   "outputs": [],
   "source": [
    "import sympy as sp\n",
    "import math  \n",
    "x = sp.Symbol('x')\n",
    "y = math.exp(x)\n",
    "sp.diff(y,x)"
   ]
  },
  {
   "cell_type": "code",
   "execution_count": 13,
   "metadata": {},
   "outputs": [
    {
     "name": "stderr",
     "output_type": "stream",
     "text": [
      "C:\\ProgramData\\Anaconda3\\lib\\site-packages\\ipykernel_launcher.py:4: RuntimeWarning: invalid value encountered in log\n",
      "  after removing the cwd from sys.path.\n"
     ]
    },
    {
     "data": {
      "image/png": "[encoded data removed]",
      "text/plain": [
       "<Figure size 432x288 with 1 Axes>"
      ]
     },
     "metadata": {
      "needs_background": "light"
     },
     "output_type": "display_data"
    }
   ],
   "source": [
    "from numpy import *            \n",
    "from matplotlib.pyplot import *\n",
    "x=linspace(-3.,1.,100)\n",
    "y=log(x)\n",
    "plot(x,y)\n",
    "show()"
   ]
  },
  {
   "cell_type": "code",
   "execution_count": null,
   "metadata": {},
   "outputs": [],
   "source": [
    "import sympy as sp\n",
    "import math\n",
    "int =x \n",
    "x = sp.Symbol('x')\n",
    "y = math.log(x)\n",
    "sp.diff(y,x)"
   ]
  },
  {
   "cell_type": "markdown",
   "metadata": {},
   "source": [
    "6. Qu'est-ce-qu'une fonction de plusieurs variables? Qu'est-ce-que le gradient d'une fonction de plusieurs variables?"
   ]
  },
  {
   "cell_type": "markdown",
   "metadata": {},
   "source": [
    "une fonction numérique à plusieurs variables réelles est une fonction dont \n",
    "l'ensemble de départ E est une partie de R . L ensemble d'arrivée F peut être {\\displaystyle \\mathbb {R} }\\mathbb {R}  ou {\\displaystyle \\mathbb {R} ^{p}}\\mathbb {R} ^{p}. Le second cas peut se ramener au premier cas en considérant qu'il s'agit en réalité de p fonctions de {\\displaystyle \\mathbb {R} ^{n}}\\mathbb {R} ^{n} dans {\\displaystyle \\mathbb {R} }\\mathbb {R}  appelées fonctions coordonnées.\n",
    "La fonction est donc une relation associant à chaque n-uplet x = (x1, x2, ..., xn) \n",
    "élément de l'ensemble de départ un et un seul élément de l'ensemble d'arrivée,\n",
    "que l'on appelle image de x par f et que l'on note f(x) ou f(x1, ..., xn) :"
   ]
  },
  {
   "cell_type": "markdown",
   "metadata": {},
   "source": [
    "Le gradient d'une fonction de plusieurs variables en un certain point est un vecteur qui caractérise la variabilité de \n",
    "cette fonction au voisinage de ce point. ...\n",
    "Le gradient est la généralisation à plusieurs variables de la \n",
    "dérivée d'une fonction d'une seule variable."
   ]
  },
  {
   "cell_type": "markdown",
   "metadata": {},
   "source": [
    "7. Calculer les dérivées partielles de la fonction suivante (sans Python) : \n",
    "\n",
    "$$ f(x,y) = 1-x^2 + 4y^3 + 3xy + 4x^2y^3 $$\n",
    "\n"
   ]
  },
  {
   "cell_type": "code",
   "execution_count": null,
   "metadata": {},
   "outputs": [],
   "source": [
    "f(x,y)=1-x²+4y**3 +3xy +4x²y3\n",
    "df(x)/dx = 0 - 2x +0 +3y*1 +2x4y^3 =df(x)/dx =-2x +3y + 8xy^3\n",
    "df(x)/dy = 0 + 0 +4*3*y^2 +3*x*1 + 4*x^2*3*y^2  "
   ]
  },
  {
   "cell_type": "markdown",
   "metadata": {},
   "source": [
    "7. Créer une fonction Python qui calcule les images da la fonction suivante: : \n",
    "\n",
    "$$ H(x,y) = (1-x^2 +y^3)*e^{(-\\frac{x^2 + y^2}{2})}$$"
   ]
  },
  {
   "cell_type": "code",
   "execution_count": null,
   "metadata": {},
   "outputs": [],
   "source": [
    "def imagedeH(x,y):\n",
    "    return((1 - (x**2) + y**3)* np.exp(-(((x**2) + (y**2))/2)))"
   ]
  },
  {
   "cell_type": "code",
   "execution_count": null,
   "metadata": {},
   "outputs": [],
   "source": [
    "\n",
    "h=((1 - (x**2) + y**3)* np.exp(-(((x**2) + (y**2))/2)))\n",
    "print(h)"
   ]
  },
  {
   "cell_type": "markdown",
   "metadata": {},
   "source": [
    "8. Créer des intervalles x et y à l'aide de numpy qui contiennent les nombres entre -3 et 3 par pas de 0.1 puis créer une Grid de points. "
   ]
  },
  {
   "cell_type": "code",
   "execution_count": null,
   "metadata": {},
   "outputs": [],
   "source": [
    "def imagedeH(x,y):\n",
    "    return((1 - (x**2) + y**3)* np.exp(-(((x**2) + (y**2))/2)))"
   ]
  },
  {
   "cell_type": "markdown",
   "metadata": {},
   "source": [
    "9. Représenter la fonction `H` en 3-D. "
   ]
  },
  {
   "cell_type": "code",
   "execution_count": null,
   "metadata": {},
   "outputs": [],
   "source": [
    "import pylab as plt\n",
    "from mpl_toolkits.mplot3d import Axes3D\n",
    "import seaborn as sns\n",
    "import numpy as np\n",
    "sigma=1 \n",
    "fig = plt.figure() \n",
    "ax = Axes3D(fig) \n",
    "x=np.arange(-1,2,0.25)\n",
    "y=np.arange(-1,2,0.25)\n",
    "x,y=np.meshgrid(x,y)\n",
    "h=(1-x*x+y**3)*np.exp(-x*x+y*y/2)\n",
    "ax.plot_surface(x,y,z,cmap='hot') \n",
    "plt.show()"
   ]
  },
  {
   "cell_type": "markdown",
   "metadata": {},
   "source": [
    "10. Faites une recherche sur l'algorithme de descente de gradient.\n",
    "    - Que fait cet algorithme?\n",
    "    - Quelles sont les étapes de cet algorithme?\n",
    "    - Qu'est-ce-que le taux d'apprentissage?"
   ]
  },
  {
   "cell_type": "code",
   "execution_count": null,
   "metadata": {},
   "outputs": [],
   "source": [
    "Il s’agit d’un algorithme permettant de trouver le minimum d’une fonction.\n",
    "C’est une problématique qu’on retrouve partout en mathématiques.\n",
    "Et en data science, c’est aussi le cas, surtout quand on veut trouver l’estimateur du maximum de vraisemblance."
   ]
  },
  {
   "cell_type": "markdown",
   "metadata": {},
   "source": [
    "L'algorithme du gradient est également connu sous le nom d'algorithme de la plus forte pente ou de la plus profonde descente (steepest descent, en anglais) parce que \n",
    "le gradient est la pente de la fonction linéarisée au point courant et est donc, localement, sa plus forte pente (notion qui dépend du produit scalaire)."
   ]
  },
  {
   "cell_type": "code",
   "execution_count": null,
   "metadata": {},
   "outputs": [],
   "source": [
    "les etapes de l algorythme de gradient calcul le  gradient  (xk)\n",
    "teste si gradient f(xk)<= epsilon  \n",
    "calcul  du pas  ak>0 par une régles de recherche lineaire \n",
    "sur f en xk le long de la direction du -gradient f(xk)\n",
    "nouvel itéré xk+1=xk-ak*gradient f (xk) "
   ]
  },
  {
   "cell_type": "markdown",
   "metadata": {},
   "source": [
    "scalaire appelée taux d'apprentissage (ou parfois pas d'apprentissage) pour déterminer le point suivant. Par exemple, si la magnitude du gradient est de 2,5 et que le taux d'apprentissage est de 0,01, alors l'algorithme de descente de gradient sélectionnera le point suivant situé à une distance de 0,025 du point précédent."
   ]
  },
  {
   "cell_type": "markdown",
   "metadata": {},
   "source": [
    "11. Comment cet algorihme peut-il nous être utile pour le Machine Learning / Deep Learning?"
   ]
  },
  {
   "cell_type": "code",
   "execution_count": null,
   "metadata": {},
   "outputs": [],
   "source": [
    "ils permet de déterminer la derniere valeurs \n",
    " Cet algorithme de descente du gradient va\n",
    "permettre de minimiser la fonction de coût, appelé aussi fonction d’objectif ou encore de perte. \n",
    "Celle-ci conserve donc cette notion de biologie en s’inspirant de la rétropropagation neuronale. \n",
    "Le but de cet algorithme est de chercher à résoudre la fonction suivante :"
   ]
  },
  {
   "cell_type": "markdown",
   "metadata": {},
   "source": [
    "12. Que fait l'algorithme `Stochastic Gradient Descent`? Quelle est la différence avec la descente de gradient classique?"
   ]
  },
  {
   "cell_type": "markdown",
   "metadata": {},
   "source": [
    "La descente de gradient stochastique (SGD) est une approche simple mais très efficace\n",
    "pour l'apprentissage discriminant des classificateurs linéaires sous des fonctions de \n",
    "perte convexes telles que les machines à vecteur de support (linéaire) et\n",
    "la régression logistique . Même si SGD existe depuis longtemps dans la communauté \n",
    "de l'apprentissage automatique, il a récemment reçu une attention considérable \n",
    "dans le contexte de l'apprentissage à grande échelle."
   ]
  },
  {
   "cell_type": "markdown",
   "metadata": {},
   "source": [
    "## 2. Descente de Gradient - Python\n"
   ]
  },
  {
   "cell_type": "markdown",
   "metadata": {},
   "source": [
    "Dans cet exercice, on va réimplementer une régression linéaire **depuis zéro (from scratch)** en utilisant la méthode de **descente de gradient (gradient descent)**. On part du modèle suivant à une variable : $ y = f_{\\theta}(x) = \\theta_0 + \\theta_1 * x + \\epsilon$ \n",
    "\n",
    "où y désigne la variable cible (*target*) et x une variable explicative (*feature*).\n",
    "\n",
    "On cherche à estimer $\\theta_0$ et $\\theta_1$. Dans ce notebook, on va créer plusieurs fonctions intermédiaires pour implémenter la descente de gradient.On vérifiera ensuite les paramètres obtenus en sortie en utilisant des données simulées."
   ]
  },
  {
   "cell_type": "markdown",
   "metadata": {},
   "source": [
    "1. Coder la fonction **predict_linear(x, theta0, theta1)** pour une régression linéaire utilisant une variable : $ \\hat{y} = f_{\\theta}(x) = \\theta_0 + \\theta_1 * x$\n"
   ]
  },
  {
   "cell_type": "code",
   "execution_count": null,
   "metadata": {},
   "outputs": [],
   "source": [
    "def predict_linear(x, theta0, theta1): \n",
    "    y=theta0+theta1*x\n",
    "    return y;"
   ]
  },
  {
   "cell_type": "markdown",
   "metadata": {},
   "source": [
    "Pour trouver les paramètres d'un modèle, il est habituel d'utiliser la moyenne des erreurs au carré (Mean Squared Error - MSE) comme fonction de coût.\n",
    "\n",
    "2. En partant du modèle précédent et avoir défini la MSE,coder la fonction **mse(predictions, labels)** qui calcule la MSE entre les prédictions d'un modèle et les labels ($y$)\n"
   ]
  },
  {
   "cell_type": "code",
   "execution_count": null,
   "metadata": {},
   "outputs": [],
   "source": [
    "#Mean Squared Error \n",
    "def mse(predictions,labels):\n",
    "    res=0\n",
    "    for i in  range (len(predictions)) :\n",
    "        res+=(labels[i]-predictions[i])**2\n",
    "        return (1/2*len(predictions))*res "
   ]
  },
  {
   "cell_type": "markdown",
   "metadata": {},
   "source": [
    "3. Coder la fonction **grad(x**_**, y, theta0**_ **,theta1)** qui calcule le gradient de la fonction **de coût** pour la régression linéaire (la MSE). Le type de retour devra être un vecteur numpy\n"
   ]
  },
  {
   "cell_type": "code",
   "execution_count": null,
   "metadata": {},
   "outputs": [],
   "source": [
    "\n",
    "  def grad(x, y, theta0,theta1):\n",
    "    cost_theta0 = 0.0\n",
    "    cost_theta1 = 0.0   \n",
    "    for j in range(len(y)):\n",
    "        \n",
    "        partial_deriv_theta0 = (-y[j] - (theta0 + theta1*x[j])) \n",
    "        partial_deriv_theta1 = (-x[j]) * (y[j] - (theta0 + theta1*x[j])) \n",
    "        \n",
    "        cost_theta0 += partial_deriv_theta0\n",
    "        cost_theta1 += partial_deriv_theta1\n",
    "        \n",
    "    return float(cost_theta0/len(y)),float(cost_theta1/len(y))"
   ]
  },
  {
   "cell_type": "markdown",
   "metadata": {},
   "source": [
    "4. Coder la fonction **compute_theta_sgd(theta0, theta1, learning_rate,x ,y)** et qui renvoie les nouveaux  $\\theta$ selon la Stochastic Gradient Descent en divisant par 2 le `learning_rate` à chaque itération.\n"
   ]
  },
  {
   "cell_type": "code",
   "execution_count": 6,
   "metadata": {},
   "outputs": [],
   "source": [
    "\n",
    "def compute_theta_sgd(theta0, theta1, learning_rate,x ,y):\n",
    "    deriv0,deriv1 = grad(x, y, theta0,theta1)\n",
    "    dividedby = 2\n",
    "    new_theta0 = theta0 -(learning_rate * deriv0)\n",
    "    new_theta1 = theta1 -(learning_rate * deriv1)\n",
    "    learning_rate = learning_rate/dividedby\n",
    "    return float(new_theta0),float(new_theta1)\n",
    " \n"
   ]
  },
  {
   "cell_type": "markdown",
   "metadata": {},
   "source": [
    "5. Reprendre les fonctions précédentes et faire une fonction **gradient_descent(X, y, theta_0, theta_1, learning_rate, n_iterations)** pour effectuer la descente de gradient et qui retourne theta0 et theta1 après l'entraînement (sous forme de liste)\n",
    " - learning_rate : Taux d'apprentissage\n",
    " - n_iterations : Nombre d'itérations\n",
    " "
   ]
  },
  {
   "cell_type": "code",
   "execution_count": 7,
   "metadata": {},
   "outputs": [],
   "source": [
    "def gradient_descent(X, y, theta0, theta1, learning_rate, n_iterations):\n",
    "    \n",
    "    # containers\n",
    "    theta_0 = []\n",
    "    theta_1 = []\n",
    "    erreur_ = []\n",
    "\n",
    "    # iteration\n",
    "    i = 0\n",
    "    while i <= n_iterations:\n",
    "    # theta old\n",
    "        theta_old = np.array([theta0,theta1])\n",
    "        \n",
    "        a, b = grad(X, y, theta0, theta1)\n",
    "        \n",
    "        erreur = mse(X,y)\n",
    "    # theta update\n",
    "        theta01 = compute_theta_sgd(theta0, theta1, learning_rate,X ,y)\n",
    "        theta11 = compute_theta_sgd(theta0, theta1, learning_rate,X ,y)\n",
    "    # append \n",
    "        theta_0.append(theta01)\n",
    "        theta_1.append(theta11)\n",
    "        erreur_.append(erreur)     \n",
    "        i += 1    \n",
    "    return(theta_0,theta_1,erreur_)"
   ]
  },
  {
   "cell_type": "markdown",
   "metadata": {},
   "source": [
    "6. Tester la fonction **gradient_descent(X, y, theta_0, theta_1, learning_rate, n_iterations)** sur le jeu de données simulées (pouvant être modifié):\n",
    "     - theta0 = 5\n",
    "     - theta1 = 3\n",
    "     - X = 2 * np.random.rand(100,1)\n",
    "     - Y = theta0 +theta1 * X+np.random.randn(100,1)\n",
    "\n",
    "     - Initialiser theta0 et theta1 de façon aléatoire (via la fonction random) et comparer les derniers theta_0 et theta_1    générés dans la fonction **gradient_descent** aux valeurs choisies dans la simulation (theta0 = 2, theta1 = 3)\n",
    "    - Tracer le nuage de points de Y en fonction de X\n",
    "    - Tracer la courbe de la fonction de coût en fonction des itérations\n",
    "    - Tracer les courbes de theta0 et theta1 en fonction des itérations\n",
    "    - Tracer des Y et des prédictions $ \\hat{y}$\n",
    "\n",
    "\n",
    "\n",
    "\n"
   ]
  },
  {
   "cell_type": "code",
   "execution_count": 8,
   "metadata": {},
   "outputs": [
    {
     "ename": "SyntaxError",
     "evalue": "can't assign to operator (<ipython-input-8-f7dacb81382b>, line 8)",
     "output_type": "error",
     "traceback": [
      "\u001b[1;36m  File \u001b[1;32m\"<ipython-input-8-f7dacb81382b>\"\u001b[1;36m, line \u001b[1;32m8\u001b[0m\n\u001b[1;33m    learning-rate=0.001\u001b[0m\n\u001b[1;37m                       ^\u001b[0m\n\u001b[1;31mSyntaxError\u001b[0m\u001b[1;31m:\u001b[0m can't assign to operator\n"
     ]
    }
   ],
   "source": [
    "import numpy as np\n",
    "theta0 = 5\n",
    "theta1 = 3\n",
    "X =2*np.random.rand(100,1)\n",
    "Y =(theta0 + theta1) * X + np.random.randn(100,1)\n",
    "theta0 = 0.4*np.random.rand(1,1)\n",
    "theta1 = 0.3*np.random.rand(1,1)\n",
    "learning-rate=0.001\n",
    "n_iterations=1000\n",
    "#result_grad_desc=gradient_descent(X,Y,theta0,theta1,2,10)"
   ]
  },
  {
   "cell_type": "code",
   "execution_count": null,
   "metadata": {},
   "outputs": [],
   "source": [
    "plt.scatter(x,y)\n",
    "plt.show()"
   ]
  },
  {
   "cell_type": "code",
   "execution_count": null,
   "metadata": {},
   "outputs": [],
   "source": [
    "plt.plot(range(100,1), aaa[2])\n",
    "plt.xlabel('itertor')\n",
    "plt.ylabel('Mse')\n",
    "plt.title('linear regression')"
   ]
  },
  {
   "cell_type": "code",
   "execution_count": 1,
   "metadata": {},
   "outputs": [
    {
     "name": "stdout",
     "output_type": "stream",
     "text": [
      "[[0.14313078]]\n",
      "[[0.06384598]]\n"
     ]
    },
    {
     "ename": "NameError",
     "evalue": "name 'gradient_descent' is not defined",
     "output_type": "error",
     "traceback": [
      "\u001b[1;31m---------------------------------------------------------------------------\u001b[0m",
      "\u001b[1;31mNameError\u001b[0m                                 Traceback (most recent call last)",
      "\u001b[1;32m<ipython-input-1-e57d5cc90caf>\u001b[0m in \u001b[0;36m<module>\u001b[1;34m\u001b[0m\n\u001b[0;32m     17\u001b[0m \u001b[1;31m#a learning rate taken within the set {.1, .01, 10−3, 10−4 , 10−5}\u001b[0m\u001b[1;33m\u001b[0m\u001b[1;33m\u001b[0m\u001b[1;33m\u001b[0m\u001b[0m\n\u001b[0;32m     18\u001b[0m \u001b[1;33m\u001b[0m\u001b[0m\n\u001b[1;32m---> 19\u001b[1;33m \u001b[0mtheta0_L\u001b[0m\u001b[1;33m,\u001b[0m \u001b[0mtheta1_L\u001b[0m\u001b[1;33m,\u001b[0m \u001b[0mMSE\u001b[0m\u001b[1;33m,\u001b[0m \u001b[0mcur_iter\u001b[0m \u001b[1;33m=\u001b[0m \u001b[0mgradient_descent\u001b[0m\u001b[1;33m(\u001b[0m\u001b[0mx\u001b[0m\u001b[1;33m,\u001b[0m \u001b[0my\u001b[0m\u001b[1;33m,\u001b[0m \u001b[0mtheta0\u001b[0m\u001b[1;33m,\u001b[0m \u001b[0mtheta1\u001b[0m\u001b[1;33m,\u001b[0m \u001b[0ml_r\u001b[0m\u001b[1;33m,\u001b[0m \u001b[0mnb_it\u001b[0m\u001b[1;33m)\u001b[0m\u001b[1;33m\u001b[0m\u001b[1;33m\u001b[0m\u001b[0m\n\u001b[0m\u001b[0;32m     20\u001b[0m \u001b[0mprint\u001b[0m\u001b[1;33m(\u001b[0m\u001b[1;34mf\"Les valeurs estimées sont {theta0_L[-1]} et {theta1_L[-1]} obtenus en {cur_iter} itérations\"\u001b[0m\u001b[1;33m)\u001b[0m\u001b[1;33m\u001b[0m\u001b[1;33m\u001b[0m\u001b[0m\n\u001b[0;32m     21\u001b[0m \u001b[0mplt\u001b[0m\u001b[1;33m.\u001b[0m\u001b[0mscatter\u001b[0m\u001b[1;33m(\u001b[0m\u001b[0mx\u001b[0m\u001b[1;33m,\u001b[0m\u001b[0my\u001b[0m\u001b[1;33m)\u001b[0m\u001b[1;33m\u001b[0m\u001b[1;33m\u001b[0m\u001b[0m\n",
      "\u001b[1;31mNameError\u001b[0m: name 'gradient_descent' is not defined"
     ]
    }
   ],
   "source": [
    "import numpy as np\n",
    "import matplotlib.pyplot as plt\n",
    "# données simulées\n",
    "np.random.seed(1234)\n",
    "x = 2 * np.random.rand(100,1)\n",
    "y = 5 + 3 *x + np.random.randn(100,1)\n",
    "theta0_sim = 5\n",
    "theta1_sim = 3\n",
    "# Algo\n",
    "theta0 = 0.4*np.random.rand(1,1)\n",
    "theta1 = 0.3*np.random.rand(1,1)\n",
    "print(theta0)\n",
    "print(theta1)\n",
    "\n",
    "nb_it = 1000\n",
    "l_r = 0.001\n",
    "#a learning rate taken within the set {.1, .01, 10−3, 10−4 , 10−5}\n",
    "\n",
    "theta0_L, theta1_L, MSE, cur_iter = gradient_descent(x, y, theta0, theta1, l_r, nb_it)\n",
    "print(f\"Les valeurs estimées sont {theta0_L[-1]} et {theta1_L[-1]} obtenus en {cur_iter} itérations\")\n",
    "plt.scatter(x,y)\n",
    "plt.title('y = f(x)')\n",
    "plt.plot(x,predict_linear(x, theta0_L[-1], theta1_L[-1]))\n",
    "fig,ax = plt.subplots(2,sharex=True)\n",
    " # MSE en fonction des itérations\n",
    "ax[0].plot(MSE)\n",
    "ax[0].set_title(\"MSE\")\n",
    "# theta0_L et theta1_L en fonction des itérations\n",
    "ax[1].plot(theta0_L)\n",
    "ax[1].legend(loc=\"best\")\n",
    "ax[1].plot(theta1_L)\n",
    "ax[1].set_ylabel(\"theta\")\n",
    "plt.show()"
   ]
  },
  {
   "cell_type": "markdown",
   "metadata": {},
   "source": [
    "6. Tester la fonction **gradient_descent(X, y, theta_0, theta_1, learning_rate, n_iterations)** sur le jeu de données Boston Housing data:\n",
    " \n",
    "    - Charger les données avec la commande `from sklearn.datasets import load_boston`\n",
    "    - Récupérer dans un dataframe les variables Y = `MEDV` (target - prix de l'immobilier) et X = `RM` (surface habitée)\n",
    "    - Faire la régression linéaire de Y en fonction de X puis récupérer les theta0 et theta1 estimés\n",
    "    - Lancer la fonction **gradient_descent** à partir de Y, X et en initialisant aléatoirement theta0 et theta1\n",
    "    - Comparer les theta obtenus en sortie à ceux de la régression linéaire via scikit-learn\n",
    "    - Tracer le nuage de points de Y en fonction de X\n",
    "    - Tracer la courbe de la fonction de coût en fonction des itérations\n",
    "    - Tracer les courbes de theta0 et theta1 en fonction des itérations\n",
    "    - Tracer des Y et des prédictions $ \\hat{y}$\n",
    "\n",
    "\n"
   ]
  },
  {
   "cell_type": "code",
   "execution_count": null,
   "metadata": {},
   "outputs": [],
   "source": [
    "\n"
   ]
  },
  {
   "cell_type": "code",
   "execution_count": null,
   "metadata": {},
   "outputs": [],
   "source": []
  },
  {
   "cell_type": "code",
   "execution_count": null,
   "metadata": {},
   "outputs": [],
   "source": []
  }
 ],
 "metadata": {
  "kernelspec": {
   "display_name": "Python 3",
   "language": "python",
   "name": "python3"
  },
  "language_info": {
   "codemirror_mode": {
    "name": "ipython",
    "version": 3
   },
   "file_extension": ".py",
   "mimetype": "text/x-python",
   "name": "python",
   "nbconvert_exporter": "python",
   "pygments_lexer": "ipython3",
   "version": "3.7.4"
  }
 },
 "nbformat": 4,
 "nbformat_minor": 2
}
