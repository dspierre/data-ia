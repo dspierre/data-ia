{
 "cells": [
  {
   "cell_type": "markdown",
   "metadata": {},
   "source": [
    "# **12. Python -  Set & Dictionnaires**\n"
   ]
  },
  {
   "cell_type": "markdown",
   "metadata": {},
   "source": [
    "### 1. Définitions"
   ]
  },
  {
   "cell_type": "markdown",
   "metadata": {},
   "source": [
    "__1. Définir ce qu'est un set en Python.__\n",
    "\n",
    "__2. Définir ce qu'est un dictionnaire.__"
   ]
  },
  {
   "cell_type": "markdown",
   "metadata": {},
   "source": [
    "### `Dictionnaire` : Collection non-ordonnée (non indicée) d'objets (simples ou évolués) s’appuyant sur le mécanisme associatif « clé – valeur »."
   ]
  },
  {
   "cell_type": "markdown",
   "metadata": {},
   "source": [
    "## 1)\n",
    "### Créer un set `s1` avec 4 valeurs numériques."
   ]
  },
  {
   "cell_type": "markdown",
   "metadata": {},
   "source": [
    "## 2)\n",
    "### Transformez la chaine de caractères suivante en set appelée `s2`. et affichez-le\n"
   ]
  },
  {
   "cell_type": "markdown",
   "metadata": {},
   "source": [
    "## 3)\n",
    "\n",
    "### Vérifiez l'égalité des des sets `s3`et `s4` suivants. Expliquez le résultat."
   ]
  },
  {
   "cell_type": "markdown",
   "metadata": {},
   "source": [
    "## 4) \n",
    "### Ajouter la valeur 4 à `s3` et afficher le."
   ]
  },
  {
   "cell_type": "markdown",
   "metadata": {},
   "source": [
    "## 5)\n",
    "### Supprimer la dernière valeur ajoutée à `s3`"
   ]
  },
  {
   "cell_type": "markdown",
   "metadata": {},
   "source": [
    "\n",
    "\n",
    "\n",
    "## 6)\n",
    "\n",
    "### Définir un dictionnaire par individu, respectivement, `d1`, `d2`, `d3` contenant les données suivantes : \n",
    "\n",
    "#### Pierre, 21 ans, 1m80\n",
    "#### Paul, 89 ans, 1m75\n",
    "#### Jacques, 16 ans, 1m65\n",
    "\n",
    "#### Afficher la taille du premier dictionnaire, ses items, ses clés.\n",
    "\n"
   ]
  },
  {
   "cell_type": "markdown",
   "metadata": {},
   "source": [
    "## 6)\n",
    "\n",
    "### Créer un dictionnaire `d` avec simplement les prénoms et les âges."
   ]
  },
  {
   "cell_type": "markdown",
   "metadata": {},
   "source": [
    "## 8)\n",
    "\n",
    "### Après un examen, les notes des étudiants sont les suivantes :\n",
    "\n",
    "#### Florian : abs\n",
    "#### Antoine : 12\n",
    "#### Clara : 15\n",
    "#### Robert : 0\n",
    "#### Agathe : 8\n",
    "#### Erwan : 7\n",
    "#### Zoé : 20\n",
    "#### Xavier : 11\n",
    "#### Didier : 20\n",
    "#### Alain : 0\n",
    "#### Hadi : 12"
   ]
  },
  {
   "cell_type": "markdown",
   "metadata": {},
   "source": [
    "## 9)\n",
    "\n",
    "### Écrire une fonction `supp_abs` permettant de supprimer du dictionnaire toutes les informations relatives aux élèves absent."
   ]
  },
  {
   "cell_type": "markdown",
   "metadata": {},
   "source": [
    "## 10)\n",
    "\n",
    "### Écrire une fonction `moy` qui permet de calculer et d’afficher la moyenne de l’examen."
   ]
  },
  {
   "cell_type": "markdown",
   "metadata": {},
   "source": [
    "## 11)\n",
    "\n",
    "### Écrire une fonction `print_admis` qui permet d’afficher le nom et la note de chacun des élèves, avec la mention \"admis\" si la note est supérieure ou égale à 10, ou bien \"recalé\" sinon."
   ]
  },
  {
   "cell_type": "markdown",
   "metadata": {},
   "source": [
    "## 12)\n",
    "\n",
    "### Modifier la fonction `print_admis` pour qu’elle stocke dans deux listes distinctes, les noms des élèves ayant réussi leur examen et ceux des élèves ayant raté leur examen."
   ]
  },
  {
   "cell_type": "markdown",
   "metadata": {},
   "source": [
    "## 13)\n",
    "\n",
    "### Écrire une fonction `saisie_notes` permettant de saisir et d’intégrer dans le dictionnaire les notes de nouveaux étudiants en supposant que les nouvelles sont respectivement contenues dans une liste de prénoms et une liste de notes."
   ]
  },
  {
   "cell_type": "markdown",
   "metadata": {},
   "source": [
    "## 14)\n",
    "\n",
    "### Choisissez 5 mots de la langue française et créez un dictionnaire qui associe à chacun de ces mots sa traduction en anglais.\n"
   ]
  },
  {
   "cell_type": "markdown",
   "metadata": {},
   "source": [
    "## 15)\n",
    "\n",
    "### Ajoutez une entrée au dictionnaire de la question précédente (un nouveau mot et sa traduction). \n"
   ]
  },
  {
   "cell_type": "markdown",
   "metadata": {},
   "source": [
    "## 16)\n",
    "\n",
    "### Écrivez une fonction `add(word1, word2, d`) qui prend en argument un mot en français, sa traduction en anglais et ajoute ces deux mots dans le dictionnaire d uniquement si `word1` n’est pas une clé du dictionnaire. Si le `word1` est déjà présent, la fonction devra afficher le texte suivant : \"The word word is already as a key in d.\"\n"
   ]
  },
  {
   "cell_type": "markdown",
   "metadata": {},
   "source": [
    "## 17)\n",
    "\n",
    "### Écrivez une fonction `print_d` qui affiche à l’écran toutes les valeurs correspondant aux clés qui sont dans votre dictionnaire (ici, tous les mots en anglais qui apparaissent dans votre dictionnaire).\n"
   ]
  },
  {
   "cell_type": "markdown",
   "metadata": {},
   "source": [
    "## 18)\n",
    "\n",
    "### Écrivez une fonction `delete_d(car, d)` qui prend en argument un caractère car et un dictionnaire d et supprime du dictionnaire toutes les entrées correspondant à des traductions qui commencent par la lettre c."
   ]
  }
 ],
 "metadata": {
  "kernelspec": {
   "display_name": "Python 3",
   "language": "python",
   "name": "python3"
  },
  "language_info": {
   "codemirror_mode": {
    "name": "ipython",
    "version": 3
   },
   "file_extension": ".py",
   "mimetype": "text/x-python",
   "name": "python",
   "nbconvert_exporter": "python",
   "pygments_lexer": "ipython3",
   "version": "3.7.3"
  }
 },
 "nbformat": 4,
 "nbformat_minor": 2
}
