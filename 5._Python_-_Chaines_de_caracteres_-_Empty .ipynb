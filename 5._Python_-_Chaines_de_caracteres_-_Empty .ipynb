{
 "cells": [
  {
   "cell_type": "markdown",
   "metadata": {},
   "source": [
    "# **5. Python - Chaînes de caractères**\n"
   ]
  },
  {
   "cell_type": "code",
   "execution_count": null,
   "metadata": {},
   "outputs": [],
   "source": []
  },
  {
   "cell_type": "markdown",
   "metadata": {},
   "source": [
    "### VEILLE "
   ]
  },
  {
   "cell_type": "markdown",
   "metadata": {},
   "source": [
    "Qu'est ce qu'une chaîne de caractères?"
   ]
  },
  {
   "cell_type": "code",
   "execution_count": null,
   "metadata": {},
   "outputs": [],
   "source": [
    "## une chaine  de caractere  est un  ensemble  de  lettre "
   ]
  },
  {
   "cell_type": "markdown",
   "metadata": {},
   "source": [
    "Comment manipule-t-on les chaîne de caractères en Python?"
   ]
  },
  {
   "cell_type": "markdown",
   "metadata": {},
   "source": [
    " ## avec  la  methode de  la  classe str  "
   ]
  },
  {
   "cell_type": "markdown",
   "metadata": {},
   "source": [
    "Quelle est la librairie utilisée pour manipuler les vecteurs en Python?"
   ]
  },
  {
   "cell_type": "markdown",
   "metadata": {},
   "source": [
    "  ## avec la librairie str "
   ]
  },
  {
   "cell_type": "markdown",
   "metadata": {},
   "source": [
    "Quelle est la commande pour charger une librairie?"
   ]
  },
  {
   "cell_type": "markdown",
   "metadata": {},
   "source": [
    "##  la  manipule pour mettre une librairie est import "
   ]
  },
  {
   "cell_type": "markdown",
   "metadata": {},
   "source": [
    "## 1)\n",
    "\n",
    "### Créer une chaîne de caractères appelée `chaine` contenant le texte suivant : \"ici C'EST PARIS !!\"\n",
    "\n",
    "### Afficher la longeur de cette chaîne.\n",
    "\n",
    "### Afficher les 3 premiers éléments de la chaîne.\n",
    "\n",
    "### Remplacer le dernier élément par un point d'interrogation. Quelle est la différence avec les listes ?"
   ]
  },
  {
   "cell_type": "code",
   "execution_count": 12,
   "metadata": {},
   "outputs": [
    {
     "name": "stdout",
     "output_type": "stream",
     "text": [
      "ici Cest paris!!'\n",
      "17\n"
     ]
    }
   ],
   "source": [
    "\n",
    "chaine_de_caratere=\"ici Cest paris!!\"\n",
    "print(chaine_de_caratere)\n",
    "print(len(chaine_de_caratere))"
   ]
  },
  {
   "cell_type": "code",
   "execution_count": 13,
   "metadata": {},
   "outputs": [
    {
     "name": "stdout",
     "output_type": "stream",
     "text": [
      "ici\n"
     ]
    }
   ],
   "source": [
    "chaine_de_caratere=\"ici Cest paris!!\"\n",
    "print(chaine_de_caratere[0:3])"
   ]
  },
  {
   "cell_type": "code",
   "execution_count": 15,
   "metadata": {},
   "outputs": [
    {
     "name": "stdout",
     "output_type": "stream",
     "text": [
      "ici Cest paris??\n"
     ]
    }
   ],
   "source": [
    "chaine_de_caratere=\"ici Cest paris??\"\n",
    "print(chaine_de_caratere)"
   ]
  },
  {
   "cell_type": "code",
   "execution_count": null,
   "metadata": {},
   "outputs": [],
   "source": []
  },
  {
   "cell_type": "code",
   "execution_count": null,
   "metadata": {},
   "outputs": [],
   "source": []
  },
  {
   "cell_type": "markdown",
   "metadata": {},
   "source": [
    "## 2)\n",
    "\n",
    "### Créer une liste `s1` contenant la même chaîne que `chaine` en majuscules en utilisant la méthode adéquate.\n",
    "\n",
    "### Afficher l'index du caractère\"P\" dans `s1`.\n",
    "\n",
    "### Compter le nombre d'apparitions de \"S\" , de\"s\" et de \"!\"\n",
    "\n",
    "### Remplacer les \"S\" par des \"s\" et stocker cette modification dans une liste `s2`.\n",
    "\n"
   ]
  },
  {
   "cell_type": "code",
   "execution_count": null,
   "metadata": {},
   "outputs": [],
   "source": [
    "chaine_de_caratere=\"ici Cest paris??\"\n"
   ]
  },
  {
   "cell_type": "code",
   "execution_count": null,
   "metadata": {},
   "outputs": [],
   "source": []
  },
  {
   "cell_type": "code",
   "execution_count": null,
   "metadata": {},
   "outputs": [],
   "source": []
  },
  {
   "cell_type": "code",
   "execution_count": null,
   "metadata": {},
   "outputs": [],
   "source": []
  },
  {
   "cell_type": "code",
   "execution_count": null,
   "metadata": {},
   "outputs": [],
   "source": []
  },
  {
   "cell_type": "code",
   "execution_count": null,
   "metadata": {},
   "outputs": [],
   "source": []
  },
  {
   "cell_type": "markdown",
   "metadata": {},
   "source": [
    "## 3)\n",
    "\n",
    "### Créer une chaine `s` contenant le texte suivant : \"Le monde tourne à l'envers\" et transformer la en liste.\n",
    "\n",
    "### Créer une liste `decoupe` contenant tous les mots de la chaine `s`.\n",
    "\n",
    "### Créer une chaine `s_tiret` contenant les mots de la chaine `s` séparées par des tirets."
   ]
  },
  {
   "cell_type": "code",
   "execution_count": null,
   "metadata": {},
   "outputs": [],
   "source": []
  },
  {
   "cell_type": "code",
   "execution_count": null,
   "metadata": {},
   "outputs": [],
   "source": []
  },
  {
   "cell_type": "code",
   "execution_count": null,
   "metadata": {},
   "outputs": [],
   "source": []
  },
  {
   "cell_type": "markdown",
   "metadata": {},
   "source": [
    "## 4)\n",
    "### Coder une fonction `comptage_e` qui prend en entrée une chaîne de caractères et qui compte le nombre de \"e\" ou \"E\" contenue dans cette chaîne. Tester la fonction.\n"
   ]
  },
  {
   "cell_type": "code",
   "execution_count": null,
   "metadata": {},
   "outputs": [],
   "source": []
  },
  {
   "cell_type": "markdown",
   "metadata": {},
   "source": [
    "## 5)\n",
    "\n",
    "### Coder une fonction `count_voyelle` qui demande la saisie d'une chaîne de caractères et qui retourne le nombre d'apparitions de voyelles dans cette chaîne avec un affichage : \n",
    "\n",
    "** Dans \"chaine\": \"a\" apparaît x fois \"e\" n'apparaît pas ..... **"
   ]
  },
  {
   "cell_type": "code",
   "execution_count": null,
   "metadata": {},
   "outputs": [],
   "source": []
  },
  {
   "cell_type": "code",
   "execution_count": null,
   "metadata": {},
   "outputs": [],
   "source": []
  },
  {
   "cell_type": "code",
   "execution_count": null,
   "metadata": {},
   "outputs": [],
   "source": []
  }
 ],
 "metadata": {
  "kernelspec": {
   "display_name": "Python 3",
   "language": "python",
   "name": "python3"
  },
  "language_info": {
   "codemirror_mode": {
    "name": "ipython",
    "version": 3
   },
   "file_extension": ".py",
   "mimetype": "text/x-python",
   "name": "python",
   "nbconvert_exporter": "python",
   "pygments_lexer": "ipython3",
   "version": "3.7.4"
  }
 },
 "nbformat": 4,
 "nbformat_minor": 4
}
