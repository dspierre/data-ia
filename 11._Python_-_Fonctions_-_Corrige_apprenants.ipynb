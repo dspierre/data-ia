{
 "cells": [
  {
   "cell_type": "markdown",
   "metadata": {},
   "source": [
    "# **11. Python - Fonctions**\n"
   ]
  },
  {
   "cell_type": "code",
   "execution_count": null,
   "metadata": {},
   "outputs": [],
   "source": [
    "# CELLULES POUR IMPORT"
   ]
  },
  {
   "cell_type": "markdown",
   "metadata": {},
   "source": [
    "## 1)\n",
    "\n",
    "### Fonction qui calcule le périmètre d'un carré"
   ]
  },
  {
   "cell_type": "code",
   "execution_count": 1,
   "metadata": {},
   "outputs": [],
   "source": [
    "def sq_pe(L):\n",
    "    return(4*L)"
   ]
  },
  {
   "cell_type": "code",
   "execution_count": 2,
   "metadata": {},
   "outputs": [
    {
     "data": {
      "text/plain": [
       "12"
      ]
     },
     "execution_count": 2,
     "metadata": {},
     "output_type": "execute_result"
    }
   ],
   "source": [
    "sq_pe(3)"
   ]
  },
  {
   "cell_type": "markdown",
   "metadata": {},
   "source": [
    "## 2)\n",
    "### Fonction qui calcule la surface d'un carré"
   ]
  },
  {
   "cell_type": "code",
   "execution_count": 10,
   "metadata": {},
   "outputs": [],
   "source": [
    "def surface(cote):\n",
    "    return(cote*cote)\n",
    "    #return(cote**2)"
   ]
  },
  {
   "cell_type": "code",
   "execution_count": 12,
   "metadata": {},
   "outputs": [
    {
     "data": {
      "text/plain": [
       "25"
      ]
     },
     "execution_count": 12,
     "metadata": {},
     "output_type": "execute_result"
    }
   ],
   "source": [
    "surface(5)"
   ]
  },
  {
   "cell_type": "markdown",
   "metadata": {},
   "source": [
    "## 3)\n",
    "### Périmètre rectangle\n"
   ]
  },
  {
   "cell_type": "code",
   "execution_count": 13,
   "metadata": {},
   "outputs": [
    {
     "data": {
      "text/plain": [
       "16"
      ]
     },
     "execution_count": 13,
     "metadata": {},
     "output_type": "execute_result"
    }
   ],
   "source": [
    "def perimetre_rectangle(longueur, largeur) :\n",
    "    perimeter = 2 * (longueur + largeur)\n",
    "    return(perimeter)\n",
    "perimetre_rectangle(5,3)"
   ]
  },
  {
   "cell_type": "markdown",
   "metadata": {},
   "source": [
    "## 4)\n",
    "### Surface rectangle"
   ]
  },
  {
   "cell_type": "code",
   "execution_count": 14,
   "metadata": {},
   "outputs": [
    {
     "name": "stdout",
     "output_type": "stream",
     "text": [
      "12\n"
     ]
    }
   ],
   "source": [
    "def srec(longueur,largeur):\n",
    "    res = longueur * largeur\n",
    "    return(res)\n",
    "\n",
    "test = srec(4,3)\n",
    "print(test)"
   ]
  },
  {
   "cell_type": "markdown",
   "metadata": {},
   "source": [
    "## 5)\n",
    "### Surface disque "
   ]
  },
  {
   "cell_type": "code",
   "execution_count": 15,
   "metadata": {},
   "outputs": [
    {
     "data": {
      "text/plain": [
       "60.47565858160352"
      ]
     },
     "execution_count": 15,
     "metadata": {},
     "output_type": "execute_result"
    }
   ],
   "source": [
    "import math\n",
    "\n",
    "def surface_disque(D):\n",
    "     return (math.pi*(D^2)/4)\n",
    "surface_disque(79)"
   ]
  },
  {
   "cell_type": "markdown",
   "metadata": {},
   "source": [
    "## 6)\n",
    "### Coder une fonction `conv_hour_to_second` qui convertit les heures en secondes."
   ]
  },
  {
   "cell_type": "markdown",
   "metadata": {},
   "source": [
    "Si l'heure est fournie au format décimal"
   ]
  },
  {
   "cell_type": "code",
   "execution_count": 19,
   "metadata": {},
   "outputs": [],
   "source": [
    "def conv_hour_to_second(nb_hour):\n",
    "    nb_second = nb_hour*3600\n",
    "    return(nb_second)"
   ]
  },
  {
   "cell_type": "code",
   "execution_count": 20,
   "metadata": {},
   "outputs": [
    {
     "data": {
      "text/plain": [
       "3600"
      ]
     },
     "execution_count": 20,
     "metadata": {},
     "output_type": "execute_result"
    }
   ],
   "source": [
    "conv_hour_to_second(1)"
   ]
  },
  {
   "cell_type": "code",
   "execution_count": 21,
   "metadata": {},
   "outputs": [
    {
     "data": {
      "text/plain": [
       "5400.0"
      ]
     },
     "execution_count": 21,
     "metadata": {},
     "output_type": "execute_result"
    }
   ],
   "source": [
    "conv_hour_to_second(1.5)"
   ]
  },
  {
   "cell_type": "markdown",
   "metadata": {},
   "source": [
    "si l'heure est fournie au format horaire "
   ]
  },
  {
   "cell_type": "markdown",
   "metadata": {},
   "source": [
    "## 7)\n",
    "### Coder une fonction `conv_minute_to_second` qui convertit les minutes en secondes."
   ]
  },
  {
   "cell_type": "code",
   "execution_count": 23,
   "metadata": {},
   "outputs": [],
   "source": [
    "def conv_minute_to_second(nb_minute):\n",
    "    res = 60*nb_minute\n",
    "    return(res)"
   ]
  },
  {
   "cell_type": "code",
   "execution_count": 25,
   "metadata": {},
   "outputs": [
    {
     "data": {
      "text/plain": [
       "60"
      ]
     },
     "execution_count": 25,
     "metadata": {},
     "output_type": "execute_result"
    }
   ],
   "source": [
    "conv_minute_to_second(1)"
   ]
  },
  {
   "cell_type": "markdown",
   "metadata": {},
   "source": [
    "# 8)\n",
    "\n",
    "### Coder une fonction `conv_h_m_to_second` qui convertit les heures et les minutes en secondes."
   ]
  },
  {
   "cell_type": "code",
   "execution_count": 26,
   "metadata": {},
   "outputs": [
    {
     "data": {
      "text/plain": [
       "3660"
      ]
     },
     "execution_count": 26,
     "metadata": {},
     "output_type": "execute_result"
    }
   ],
   "source": [
    "def conv_h_m_to_second(nb_hour,nb_minute):\n",
    "    return( nb_hour*60*60 + nb_minute*60 )\n",
    "conv_h_m_to_second(1,1)"
   ]
  },
  {
   "cell_type": "code",
   "execution_count": 29,
   "metadata": {},
   "outputs": [
    {
     "data": {
      "text/plain": [
       "3660"
      ]
     },
     "execution_count": 29,
     "metadata": {},
     "output_type": "execute_result"
    }
   ],
   "source": [
    "def conv_h_m_to_second(nb_hour,nb_minute):\n",
    "    return( conv_hour_to_second(nb_hour) + conv_minute_to_second(nb_minute)  )\n",
    "conv_h_m_to_second(1,1)"
   ]
  },
  {
   "cell_type": "code",
   "execution_count": 41,
   "metadata": {},
   "outputs": [],
   "source": [
    "def conv_h_m_to_second2(a):\n",
    "    #a = \"4h20\"\n",
    "    a = a.lower()\n",
    "    a = a.split(\"h\")\n",
    "    h1 = int(a[0])\n",
    "    h = h1 * 3600\n",
    "    m1 = int(a[1])\n",
    "    m = m1 * 60\n",
    "\n",
    "    return(h + m)"
   ]
  },
  {
   "cell_type": "code",
   "execution_count": 42,
   "metadata": {},
   "outputs": [
    {
     "data": {
      "text/plain": [
       "12600"
      ]
     },
     "execution_count": 42,
     "metadata": {},
     "output_type": "execute_result"
    }
   ],
   "source": [
    "conv_h_m_to_second2(\"3H30\")"
   ]
  },
  {
   "cell_type": "markdown",
   "metadata": {},
   "source": [
    "## 9)\n",
    "\n",
    "### Créer une fonction `f` qui calcule l'image de la fonction f(x) suivante pour un x donné f(x) = 3x^2 + 6x -5"
   ]
  },
  {
   "cell_type": "code",
   "execution_count": 45,
   "metadata": {},
   "outputs": [
    {
     "data": {
      "text/plain": [
       "19"
      ]
     },
     "execution_count": 45,
     "metadata": {},
     "output_type": "execute_result"
    }
   ],
   "source": [
    "def f(x):\n",
    "    return(3*x**2 + 6*x - 5)\n",
    "\n",
    "f(2)"
   ]
  },
  {
   "cell_type": "markdown",
   "metadata": {},
   "source": [
    "## 10)\n",
    "\n",
    "### Créer une fonction `f2` prenant en entrée une liste de nombres et retourne les doubles sous forme de liste."
   ]
  },
  {
   "cell_type": "code",
   "execution_count": 47,
   "metadata": {},
   "outputs": [
    {
     "data": {
      "text/plain": [
       "[4, 19, 40, 67]"
      ]
     },
     "execution_count": 47,
     "metadata": {},
     "output_type": "execute_result"
    }
   ],
   "source": [
    "liste = [1,2,3,4]\n",
    "\n",
    "def f2(liste_n):\n",
    "    liste_res = []\n",
    "    \n",
    "    for i in range(len(liste_n)):\n",
    "        liste_res.append( f(liste_n[i]) )\n",
    "    \n",
    "    return(liste_res)\n",
    "\n",
    "f2(liste)"
   ]
  },
  {
   "cell_type": "markdown",
   "metadata": {},
   "source": [
    "## 11)\n",
    "\n",
    "### Coder une fonction `racine_polynome` qui prends en entrée trois réels `a`, `b`, `c` correspondant aux coefficient d'un polynôme du second degré. La fonction devra retourner le nombre de racines et leurs valeurs.\n"
   ]
  },
  {
   "cell_type": "code",
   "execution_count": 53,
   "metadata": {},
   "outputs": [
    {
     "data": {
      "text/plain": [
       "('il y a 2 racines:', -3.0, -2.0)"
      ]
     },
     "execution_count": 53,
     "metadata": {},
     "output_type": "execute_result"
    }
   ],
   "source": [
    "import math\n",
    "\n",
    "def racine_polynome(a,b,c):\n",
    "    if a == 0:\n",
    "        return(\"Le coefficient a vaut zéro, ce n'est pas un polynôme du second degré\")\n",
    "        \n",
    "    elif a != 0:\n",
    "        \n",
    "        delta = (b**2) - (4 * (a * c)) # Discriminant \n",
    "        \n",
    "        if delta < 0:\n",
    "            return(\"il n'y a pas de racine: ø\")\n",
    "        \n",
    "        elif delta > 0:\n",
    "            x1 = ((-b) - math.sqrt(delta)) / (2 * a)\n",
    "            x2 = ((-b) + math.sqrt(delta)) / (2 * a)\n",
    "            return(\"il y a 2 racines:\",x1,x2)\n",
    "        \n",
    "        elif delta == 0:\n",
    "            x = (-b) / (2 * a)\n",
    "            return(\"il y a une racine:\",x)\n",
    "\n",
    "\n",
    "racine_polynome(1,5,6)"
   ]
  },
  {
   "cell_type": "markdown",
   "metadata": {},
   "source": [
    "## 12)\n",
    "\n",
    "### Ecrire une fonction `fact` qui calcule la factorielle d'un nombre. La factorielle de 5 (noté 5!) est égale à 1x2x3x4x5. "
   ]
  },
  {
   "cell_type": "code",
   "execution_count": 54,
   "metadata": {},
   "outputs": [
    {
     "data": {
      "text/plain": [
       "120"
      ]
     },
     "execution_count": 54,
     "metadata": {},
     "output_type": "execute_result"
    }
   ],
   "source": [
    "# récursive\n",
    "def fact(a):\n",
    "    if a < 2:\n",
    "        return 1\n",
    "    else:\n",
    "        return a*fact(a-1)# a*(a-1)*(a-2)*(a-3)*...*1\n",
    "\n",
    "fact(5)"
   ]
  },
  {
   "cell_type": "code",
   "execution_count": 57,
   "metadata": {},
   "outputs": [
    {
     "data": {
      "text/plain": [
       "120"
      ]
     },
     "execution_count": 57,
     "metadata": {},
     "output_type": "execute_result"
    }
   ],
   "source": [
    "def fact (x) : \n",
    "    facto = 1\n",
    "    for i in range (1,x+1) :\n",
    "        facto = facto*i\n",
    "    return (facto)\n",
    "\n",
    "\n",
    "fact(5)"
   ]
  },
  {
   "cell_type": "markdown",
   "metadata": {},
   "source": [
    "## 13) \n",
    "### Ecrire une fonction `palindrome` qui prend en entrée un mot et qui vérifie si ce mot est un palindrome."
   ]
  },
  {
   "cell_type": "code",
   "execution_count": 59,
   "metadata": {},
   "outputs": [
    {
     "data": {
      "text/plain": [
       "\"Ceci n'est pas un palindrome.\""
      ]
     },
     "execution_count": 59,
     "metadata": {},
     "output_type": "execute_result"
    }
   ],
   "source": [
    "def palindrome(chaine):\n",
    "    \n",
    "    ch1 = chaine[::-1]\n",
    "    if ch1==chaine:\n",
    "        \n",
    "        return(\"Ce mot est un palindrome.\")\n",
    "    else:\n",
    "        return(\"Ceci n'est pas un palindrome.\")\n",
    "    \n",
    "palindrome(\"kayak\")\n"
   ]
  },
  {
   "cell_type": "code",
   "execution_count": 60,
   "metadata": {},
   "outputs": [
    {
     "data": {
      "text/plain": [
       "\"Ceci n'est pas un palindrome.\""
      ]
     },
     "execution_count": 60,
     "metadata": {},
     "output_type": "execute_result"
    }
   ],
   "source": [
    "palindrome(\"toto\")"
   ]
  },
  {
   "cell_type": "markdown",
   "metadata": {},
   "source": [
    "## 14)\n",
    "### Faîtes une recherche sur les fonctions `lambda`. Comment fonctionnent-elles?"
   ]
  },
  {
   "cell_type": "markdown",
   "metadata": {},
   "source": [
    "créer des fonction courtes : une seule instruction\n",
    "\n",
    "####syntaxe\n",
    "lambda argument1,argument2:instruction(opération) "
   ]
  },
  {
   "cell_type": "markdown",
   "metadata": {},
   "source": [
    "## 15)\n",
    "\n",
    "### Write a Python program to create a `lambda function named` `f1` that adds 15 to a given number passed in as an argument. Test the function with the number below."
   ]
  },
  {
   "cell_type": "code",
   "execution_count": 61,
   "metadata": {},
   "outputs": [],
   "source": [
    "number = 1000"
   ]
  },
  {
   "cell_type": "code",
   "execution_count": 63,
   "metadata": {},
   "outputs": [],
   "source": [
    "f1 = lambda x : x + 15"
   ]
  },
  {
   "cell_type": "code",
   "execution_count": 64,
   "metadata": {},
   "outputs": [
    {
     "data": {
      "text/plain": [
       "1015"
      ]
     },
     "execution_count": 64,
     "metadata": {},
     "output_type": "execute_result"
    }
   ],
   "source": [
    "f1(1000) #appel de fonction"
   ]
  },
  {
   "cell_type": "markdown",
   "metadata": {},
   "source": [
    "## 16)\n",
    "### Create a `lambda function`named `f2` that multiplies argument `x` with argument `y` and print the result. Try it with x = 3 and y = 4."
   ]
  },
  {
   "cell_type": "code",
   "execution_count": 65,
   "metadata": {},
   "outputs": [
    {
     "data": {
      "text/plain": [
       "12"
      ]
     },
     "execution_count": 65,
     "metadata": {},
     "output_type": "execute_result"
    }
   ],
   "source": [
    "f2 = lambda x,y : x*y\n",
    "\n",
    "f2(3,4)"
   ]
  },
  {
   "cell_type": "markdown",
   "metadata": {},
   "source": [
    "## 17)\n",
    "### Write a program to sort a list of tuples using Lambda.\n",
    "### Try it with the list of marks above."
   ]
  },
  {
   "cell_type": "code",
   "execution_count": 67,
   "metadata": {},
   "outputs": [],
   "source": [
    "marks = [('English', 18), ('Science', 19), ('Maths', 20), ('Social sciences', 10),('French', 14)]"
   ]
  },
  {
   "cell_type": "code",
   "execution_count": 68,
   "metadata": {},
   "outputs": [
    {
     "data": {
      "text/plain": [
       "list"
      ]
     },
     "execution_count": 68,
     "metadata": {},
     "output_type": "execute_result"
    }
   ],
   "source": [
    "type(marks)"
   ]
  },
  {
   "cell_type": "code",
   "execution_count": 69,
   "metadata": {},
   "outputs": [
    {
     "data": {
      "text/plain": [
       "('English', 18)"
      ]
     },
     "execution_count": 69,
     "metadata": {},
     "output_type": "execute_result"
    }
   ],
   "source": [
    "marks[0]"
   ]
  },
  {
   "cell_type": "code",
   "execution_count": 71,
   "metadata": {},
   "outputs": [
    {
     "data": {
      "text/plain": [
       "tuple"
      ]
     },
     "execution_count": 71,
     "metadata": {},
     "output_type": "execute_result"
    }
   ],
   "source": [
    "type(marks[0])"
   ]
  },
  {
   "cell_type": "code",
   "execution_count": 74,
   "metadata": {},
   "outputs": [
    {
     "data": {
      "text/plain": [
       "('English', 18)"
      ]
     },
     "execution_count": 74,
     "metadata": {},
     "output_type": "execute_result"
    }
   ],
   "source": [
    "marks[0]"
   ]
  },
  {
   "cell_type": "code",
   "execution_count": 75,
   "metadata": {},
   "outputs": [
    {
     "data": {
      "text/plain": [
       "[('English', 18),\n",
       " ('French', 14),\n",
       " ('Maths', 20),\n",
       " ('Science', 19),\n",
       " ('Social sciences', 10)]"
      ]
     },
     "execution_count": 75,
     "metadata": {},
     "output_type": "execute_result"
    }
   ],
   "source": [
    "f3 = lambda liste : sorted(liste,key = lambda liste : liste[1] ) # key = condition pour trier # Tri par note\n",
    "f3(marks)\n",
    "\n",
    "f3 = lambda liste : sorted(liste,key = lambda liste : liste[0] ) # tri par matière \n",
    "f3(marks)\n"
   ]
  },
  {
   "cell_type": "markdown",
   "metadata": {},
   "source": [
    "## 18)\n",
    "\n",
    "### What does the map function do ?"
   ]
  },
  {
   "cell_type": "markdown",
   "metadata": {},
   "source": [
    "Map : retourne en sortie une liste qui contient résultat de la fonction appliqué à chaque élément de la liste\n",
    "si plusieurs listes : itère sur la longueur de la plus petite passée en argument\n",
    "\n",
    "syntaxe\n",
    "map(f,iterable)"
   ]
  },
  {
   "cell_type": "markdown",
   "metadata": {},
   "source": [
    "## 19)\n",
    "\n",
    "### Using map and lambda functions, write a Python program to square and cube every number in a given list of integers."
   ]
  },
  {
   "cell_type": "code",
   "execution_count": 77,
   "metadata": {},
   "outputs": [],
   "source": [
    "numbers = [1,2,3,4,5,6,7,8,9,10]"
   ]
  },
  {
   "cell_type": "code",
   "execution_count": 80,
   "metadata": {},
   "outputs": [],
   "source": []
  },
  {
   "cell_type": "code",
   "execution_count": 82,
   "metadata": {},
   "outputs": [
    {
     "name": "stdout",
     "output_type": "stream",
     "text": [
      "[1, 4, 9, 16, 25, 36, 49, 64, 81, 100]\n",
      "[1, 8, 27, 64, 125, 216, 343, 512, 729, 1000]\n"
     ]
    }
   ],
   "source": [
    "square_numbers = list(map(lambda x: x ** 2, numbers))\n",
    "print(square_numbers)\n",
    "\n",
    "cube_numbers = list(map(lambda x: x ** 3, numbers))\n",
    "print(cube_numbers)"
   ]
  },
  {
   "cell_type": "markdown",
   "metadata": {},
   "source": [
    "## 20)\n",
    "\n",
    "### Write a Python program to count the even, odd numbers in a given array of integers using Lambda."
   ]
  },
  {
   "cell_type": "code",
   "execution_count": 21,
   "metadata": {},
   "outputs": [],
   "source": [
    "numbers = [1,2,3,4,5,6,7,8,9,10,11]"
   ]
  },
  {
   "cell_type": "code",
   "execution_count": 83,
   "metadata": {},
   "outputs": [
    {
     "name": "stdout",
     "output_type": "stream",
     "text": [
      "Original arrays:\n",
      "[1, 2, 3, 4, 5, 6, 7, 8, 9, 10]\n",
      "\n",
      "Number of even numbers in the above array:  5\n",
      "\n",
      "Number of odd numbers in the above array:  5\n"
     ]
    }
   ],
   "source": [
    "##Écrire un programme Python pour compter les nombres pairs et impairs dans un tableau d'entiers donné en utilisant Lambda\n",
    "print(\"Original arrays:\")\n",
    "print(numbers)\n",
    "\n",
    "odd = len(list(filter(lambda x: (x%2 != 0) , numbers)))\n",
    "even = len(list(filter(lambda x: (x%2 == 0) , numbers)))\n",
    "\n",
    "\n",
    "print(\"\\nNumber of even numbers in the above array: \", even)\n",
    "print(\"\\nNumber of odd numbers in the above array: \", odd)"
   ]
  },
  {
   "cell_type": "markdown",
   "metadata": {},
   "source": [
    "## 21)\n",
    "\n",
    "### What is a doc string? Add it for the fact function "
   ]
  },
  {
   "cell_type": "code",
   "execution_count": 84,
   "metadata": {},
   "outputs": [
    {
     "data": {
      "text/plain": [
       "120"
      ]
     },
     "execution_count": 84,
     "metadata": {},
     "output_type": "execute_result"
    }
   ],
   "source": [
    "def fact(n):\n",
    "    \"\"\"fact(n): calcule la factorielle de n (entier >= 0)\n",
    "    \"\"\"\n",
    "    if n<2:\n",
    "        return 1\n",
    "    else:\n",
    "        return(n*fact(n-1))\n",
    "\n",
    "fact(5)"
   ]
  },
  {
   "cell_type": "code",
   "execution_count": null,
   "metadata": {},
   "outputs": [],
   "source": []
  }
 ],
 "metadata": {
  "kernelspec": {
   "display_name": "Python 3",
   "language": "python",
   "name": "python3"
  },
  "language_info": {
   "codemirror_mode": {
    "name": "ipython",
    "version": 3
   },
   "file_extension": ".py",
   "mimetype": "text/x-python",
   "name": "python",
   "nbconvert_exporter": "python",
   "pygments_lexer": "ipython3",
   "version": "3.7.4"
  }
 },
 "nbformat": 4,
 "nbformat_minor": 2
}
