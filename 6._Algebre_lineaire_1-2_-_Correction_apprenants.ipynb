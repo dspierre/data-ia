{
 "cells": [
  {
   "cell_type": "markdown",
   "metadata": {},
   "source": [
    "# Notions d'algèbre linéaire - 1/2"
   ]
  },
  {
   "cell_type": "markdown",
   "metadata": {},
   "source": [
    "L'objectif de ce TP est de découvrir ou revoir les bases de l'algèbre linéaire utiles pour la compréhension des modèles de machine learning. \n",
    "Les notions abordées ici sont les vecteurs, les espaces vectoriels, les bases et les applications linéaires.\n",
    "\n",
    "Afin de comprendre de façon intuitive ces notions, nous vous proposons de regarder la série de vidéos de 3Blue1Brown conscrée à l'algèbre linéaire et disponible ici : https://www.youtube.com/playlist?list=PLZHQObOWTQDPD3MizzM2xVFitgF8hE_ab\n",
    "\n",
    "Nous vous proposons également de regarder la série de vidéos de Khan Academy francophone sur l'algèbre linéaire : \n",
    "https://fr.khanacademy.org/math/linear-algebra"
   ]
  },
  {
   "cell_type": "markdown",
   "metadata": {},
   "source": [
    "## 1. Qu'est-ce qu'un vecteur? \n",
    "***(Durée moyenne : 1h)***\n",
    "\n",
    "***Supports vidéo pour vous aider à répondre aux questions:***\n",
    "\n",
    "https://www.youtube.com/watch?v=fNk_zzaMoSs&list=PLZHQObOWTQDPD3MizzM2xVFitgF8hE_ab&index=2&t=0s\n",
    "\n",
    "https://fr.khanacademy.org/math/linear-algebra/vectors-and-spaces (répondre aux questions d'entraînement de la section \"Les vecteurs\")"
   ]
  },
  {
   "cell_type": "markdown",
   "metadata": {},
   "source": [
    "### 1.1 Définition \n",
    "\n",
    "1. Comment est défini/caractérisé un vecteur? \n",
    "2. Quelle est sa notation au sens géométrique?\n",
    "\n",
    "\n",
    "### 1.2 Opérations sur les vecteurs\n",
    "\n",
    "1. Quelles sont les opérations usuelles appliquées aux vecteurs?\n",
    "\n",
    "\n",
    "### 1.3 Norme d'un vecteur \n",
    "\n",
    "1. Comment est calculée la norme d'un vecteur à l'aide de ses coordonnées?\n",
    "2. Définir les normes usuelles\n",
    "\n",
    "\n",
    "### 1.4 Codage en Python \n",
    "\n",
    "  1. A l'aide de la libraire Numpy  créer d'une (ou plusieurs) manière(s) le vecteur (1 2 3 4). Afficher son type et ses dimensions.\n",
    "  2. Additionner les vecteurs (1 2 3) et (4 5 6) ainsi que les vecteurs (1 2) et (1 2 3). Que remarquez-vous?\n",
    "  3. Soustraire les vecteurs (1 2 3) et (4 5 6)\n",
    "  4. Calculer le produit des vecteurs (1 2 3) et (4 5 6) \n",
    "  5. Calculer le produit scalaire des vecteurs (1 2 3) et (4 5 6) \n",
    "  6. Représenter graphiquement dans un repère les vecteurs (4,3) et (1,2) en partant du point de coordonnées (1,1)à l'aide de la librairie matplotlib\n",
    "  7. Calculer les normes $L^{1}$,$L^{2}$ et infinie du vecteur (1 2 3) en utilisant la librairie Scipy.\n",
    "  \n",
    "  "
   ]
  },
  {
   "cell_type": "code",
   "execution_count": 52,
   "metadata": {},
   "outputs": [],
   "source": [
    "import numpy as np"
   ]
  },
  {
   "cell_type": "code",
   "execution_count": 53,
   "metadata": {},
   "outputs": [
    {
     "name": "stdout",
     "output_type": "stream",
     "text": [
      "[ 4 10 18 28]\n",
      "[ 4 10 18 28]\n",
      "60\n"
     ]
    }
   ],
   "source": [
    "u = np.array([1,2,3,4])\n",
    "v = np.array([4,5,6,7])\n",
    "\n",
    "m = u*v\n",
    "print(m)\n",
    "\n",
    "m = np.multiply(u,v)\n",
    "print(m)\n",
    "\n",
    "scalaire = np.vdot(u,v)\n",
    "print(scalaire)"
   ]
  },
  {
   "cell_type": "code",
   "execution_count": 54,
   "metadata": {},
   "outputs": [
    {
     "data": {
      "image/png": "[encoded data removed]",
      "text/plain": [
       "<Figure size 432x288 with 1 Axes>"
      ]
     },
     "metadata": {
      "needs_background": "light"
     },
     "output_type": "display_data"
    }
   ],
   "source": [
    "#6\n",
    "import matplotlib.pyplot as plt\n",
    "\n",
    "fig, ax = plt.subplots()\n",
    "\n",
    "x0 = [1,1] # premier vect\n",
    "y0 = [1,1] # deuxième vect\n",
    "u = [4,3]\n",
    "v = [1,2]\n",
    "\n",
    "#ax.axis('equal')\n",
    "ax.quiver(x0,y0,u,v,scale=10)\n",
    "ax.axis([0, 8, 0, 8])\n",
    "\n",
    "ax.set_xticks([ k for k in range (1,10,1) ])\n",
    "ax.set_yticks([ k for k in range (1,10,1) ])\n",
    "\n",
    "ax.text(3,1.2,\"u\",fontsize=12)\n",
    "#ax.text(2.5,5,\"u+v\",fontsize=12,color=\"green\")\n",
    "ax.text(2,3,\"v\",fontsize=12)\n",
    "\n",
    "plt.show()\n"
   ]
  },
  {
   "cell_type": "markdown",
   "metadata": {},
   "source": [
    "## 2. Qu'est-ce qu'un espace vectoriel?\n",
    "***(Durée moyenne : 45 min)***\n",
    "\n",
    "***Rechercher des supports écrits ou vidéo intéressants***"
   ]
  },
  {
   "cell_type": "markdown",
   "metadata": {},
   "source": [
    "### 2.1 Définition d'un ensemble\n",
    "\n",
    "1. Qu'est-ce qu'un ensemble? \n",
    "2. Quelle est son écriture mathématique?\n",
    "3. Définir l'appartenance (ou non) d'un élément à un ensemble\n",
    "4. Citer des exemples d'ensemble \n",
    "5. Définir l'inclusion et l'union de deux ensembles"
   ]
  },
  {
   "cell_type": "markdown",
   "metadata": {},
   "source": [
    "### 2.2 Définition d'un espace vectoriel\n",
    "\n",
    "1. Donner la définition d'un espace vectoriel (sans forcément être exhaustif sur toutes ses propriétés)\n",
    "\n",
    "#### Exemple d'espace vectoriel \n",
    "\n",
    "1. Citer un exemple d'espace vectoriel dans la géométrie\n",
    "\n",
    "\n",
    "#### Dimension d’un espace vectoriel\n",
    "\n",
    "1. Définir la dimension d'un espace vectoriel\n",
    "\n",
    "\n",
    "### 2.3 Sous-espace vectoriel\n",
    "\n",
    "1. Définir un sous-espace vectoriel\n",
    "\n",
    "\n",
    "#### Exemple de sous-espaces vectoriels\n",
    "\n",
    "1. L’ensemble F ={(x,y)∈ $R^{2}$, x+y = 0} est t-il un sous-espace vectoriel de $R^{2}$ ?\n",
    "\n",
    "2. L’ensemble G = {(x,y)∈ $R^{2}$, x+y = 1} est t-il un sous-espace vectoriel de $R^{2}$\n",
    "\n",
    "####  Caractérisation d’un sous-espace vectoriel engendré par une famille de vecteurs\n",
    "\n",
    "3. Définir un sous-espace vectoriel engendré par une famille de vecteurs\n",
    "\n"
   ]
  },
  {
   "cell_type": "markdown",
   "metadata": {},
   "source": [
    "## 3. Qu'est-ce qu'une base?\n",
    "***(Durée moyenne : 45 minutes)***\n",
    "\n",
    "***Supports vidéo pour vous aider à répondre aux questions:***\n",
    "\n",
    "https://www.youtube.com/watch?v=k7RM-ot2NWY&list=PLZHQObOWTQDPD3MizzM2xVFitgF8hE_ab&index=2\n",
    "\n",
    "https://fr.khanacademy.org/math/linear-algebra/vectors-and-spaces (sections \"Dépendance et indépendance linéaire\" et \"Sous-espaces et base d'un sous-espace\")\n"
   ]
  },
  {
   "cell_type": "markdown",
   "metadata": {},
   "source": [
    " ### 3.1 Dépendance et indépendance linéaire\n",
    " \n",
    " Définir ce qu'est une famille de vecteurs libres.\n",
    " Définir une famille de vecteurs liés."
   ]
  },
  {
   "cell_type": "markdown",
   "metadata": {},
   "source": [
    " ### 3.2 Définition d'une base\n",
    "\t\n",
    "  Définir une base\n",
    "\n",
    " ### 3.3 Rang d'une famille de vecteurs\n",
    " \n",
    " Définir le rang d'une famille de vecteurs\n",
    "\n",
    "\n",
    "### 3.4 Codage en Python\n",
    "\n",
    "  1. Vérifier que les vecteurs (1,-3) et (1,2) sont linéairement indépendants à l'aide du rang et d'autres méthodes\n",
    "  2. Indiquer si les vecteurs (1,2,5), (2,8,9), (0,2,6) sont linéairements indépendants\n",
    "  3. Indiquer si les vecteurs (4,-2) et (-6,3) sont linéairement indépendants\n",
    "  4. Dans R3, on considère les vecteurs : $V_{1}$(1,4,−1) ; $V_{2}$(2,3,1) ;$V_{3}$(4,−1,2) ; $V_{4}$(3,5,−3) \n",
    "     Montrez que ( $V_{1}$, $V_{2}$, $V_{3}$) est une base de $R^{3}$. Déterminez les coordonnées de  $V_{4}$ dans\n",
    "     cette base.\n"
   ]
  },
  {
   "cell_type": "code",
   "execution_count": 30,
   "metadata": {},
   "outputs": [],
   "source": [
    "import numpy as np \n",
    "from scipy import linalg"
   ]
  },
  {
   "cell_type": "code",
   "execution_count": 33,
   "metadata": {},
   "outputs": [
    {
     "name": "stdout",
     "output_type": "stream",
     "text": [
      "[ 1 -3] [1 2]\n",
      "[[ 1 -3]\n",
      " [ 1  2]]\n"
     ]
    }
   ],
   "source": [
    "# 1 \n",
    "v1 = np.array([1,-3])\n",
    "v2 = np.array([1,2])\n",
    "\n",
    "# Ou\n",
    "\n",
    "v = np.array([[1,-3],[1,2]])\n",
    "\n",
    "print(v1,v2)\n",
    "print(v)"
   ]
  },
  {
   "cell_type": "code",
   "execution_count": 37,
   "metadata": {},
   "outputs": [
    {
     "name": "stdout",
     "output_type": "stream",
     "text": [
      "2\n"
     ]
    }
   ],
   "source": [
    "# calcul du rang \n",
    "\n",
    "rang = np.linalg.matrix_rank(v)\n",
    "print(rang)\n",
    "\n",
    "# rang = dim => indep"
   ]
  },
  {
   "cell_type": "code",
   "execution_count": 39,
   "metadata": {},
   "outputs": [
    {
     "name": "stdout",
     "output_type": "stream",
     "text": [
      "[[1 2 5]\n",
      " [2 8 9]\n",
      " [0 2 6]]\n",
      "3\n"
     ]
    }
   ],
   "source": [
    "# 2\n",
    "v2 = np.array([[1,2,5],[2,8,9],[0,2,6]])\n",
    "print(v2)\n",
    "rang2 = np.linalg.matrix_rank(v2)\n",
    "print(rang2)"
   ]
  },
  {
   "cell_type": "code",
   "execution_count": 42,
   "metadata": {},
   "outputs": [
    {
     "name": "stdout",
     "output_type": "stream",
     "text": [
      "1\n"
     ]
    }
   ],
   "source": [
    "# 3\n",
    "\n",
    "v3 = np.array([[4,-2], [-6,3]])\n",
    "print(np.linalg.matrix_rank(v3))\n"
   ]
  },
  {
   "cell_type": "code",
   "execution_count": 46,
   "metadata": {},
   "outputs": [
    {
     "name": "stdout",
     "output_type": "stream",
     "text": [
      "[[ 1  4 -1]\n",
      " [ 2  3  1]\n",
      " [ 4 -1  2]]\n",
      "3\n"
     ]
    }
   ],
   "source": [
    "V = np.array([[1,4,-1],[2,3,1],[4,-1,2]])\n",
    "print(V)\n",
    "rang4 = np.linalg.matrix_rank(V)\n",
    "print(rang4)"
   ]
  },
  {
   "cell_type": "markdown",
   "metadata": {},
   "source": [
    "Résoudre\n",
    "\n",
    "V4 = (3,5,-3)\n",
    "V4 = x*V1 + y*V2 + z*V3\n",
    "\n",
    "x, y et z sont des coefficients. => résolution d'un système d'équations \n",
    "\n",
    "3 = x*1 + y*2 + z*4\n",
    "5 = x*4 + y*3 + z*(-1)\n",
    "-3 = x*(-1) + y*1 + z*2"
   ]
  },
  {
   "cell_type": "code",
   "execution_count": 49,
   "metadata": {},
   "outputs": [],
   "source": [
    "V = np.array([[1,4,-1],[2,3,1],[4,-1,2]])\n",
    "V4 = np.array([3,5,-3])"
   ]
  },
  {
   "cell_type": "code",
   "execution_count": 51,
   "metadata": {},
   "outputs": [
    {
     "name": "stdout",
     "output_type": "stream",
     "text": [
      "[-1.66666667  1.85714286  2.76190476]\n"
     ]
    }
   ],
   "source": [
    "res = np.linalg.solve(V,V4)\n",
    "print(res)"
   ]
  },
  {
   "cell_type": "markdown",
   "metadata": {},
   "source": [
    "## 4. Qu'est-ce qu'une application linéaire?\n",
    "\n",
    "***(Durée moyenne : 1h à 1h30)***\n",
    "\n",
    "***Supports vidéo pour vous aider à répondre aux questions:***\n",
    "\n",
    "https://www.youtube.com/watch?v=kYB8IZa5AuE&list=PLZHQObOWTQDPD3MizzM2xVFitgF8hE_ab&index=3\n",
    "\n",
    "https://fr.khanacademy.org/math/linear-algebra/matrix-transformations (sections \"Fonctions et applications linéaires\", \"exemples d'applications linéaires\", \"Fonctions et transformations linéaires\")\n",
    "\n",
    "\n",
    "\n",
    "(Rechercher d'autres supports écrits ou vidéo intéressants)\n"
   ]
  },
  {
   "attachments": {
    "image.png": {
     "image/png": "[encoded data removed]"
    }
   },
   "cell_type": "markdown",
   "metadata": {},
   "source": [
    "### 4.1 Définition d'une application\n",
    "\n",
    "1. Définir une application\n",
    "2. Définir l'image et l'antécédent par une application\n",
    "\n",
    "#### Exemple d'applications\n",
    "\n",
    "| Apprenant | Age      |\n",
    "|---------- |----------| \n",
    "| Omar      |   25     | \n",
    "| Lucie     |   25     | \n",
    "| Bastien   |   27     | \n",
    "\n",
    "A partir de ce tableau, quelle application peut-on définir? \n",
    "\n",
    "\n",
    "#### Composée d'applications\n",
    "\n",
    "La composée de deux applications $ f: A → B $ et $ g: B → C $ est l’application\n",
    "\n",
    "![image.png](attachment:image.png)\n",
    "\n",
    "##### Exemple de composition\n",
    "\n",
    "| Numéro d'apprenant | Prenom    | Age      |\n",
    "|--------------------| ----------| ---------|\n",
    "| apprenant_1        | Omar      |   25     | \n",
    "| apprenant_2        | Lucie     |   25     | \n",
    "| apprenant_3        | Bastien   |   27     | \n",
    "\n",
    "1. A partir de ce tableau, quelles applications peut-on définir? \n",
    "2. Définir une composée d'applications. Que renvoie t-elle pour \"apprenant_1\"?\n"
   ]
  },
  {
   "cell_type": "markdown",
   "metadata": {},
   "source": [
    "\n",
    "### 4.2 Injectivité, Surjectivité, Bijectivité\n",
    "\n",
    "1. Définir une application injective. \n",
    "2. Définir une application surjective. \n",
    "3. Définir une application bijective.\n",
    "4. L'application \"Age\" (qui associe un âge à chaque prénom) est-elle injective, surjective ou bijective? \n",
    "5. L'application \"Prenom\" (qui associe un prénom à chaque numéro d'apprenant) est-elle injective, surjective ou bijective? "
   ]
  },
  {
   "cell_type": "markdown",
   "metadata": {},
   "source": [
    "### 4.3 Application linéaire entre K-espaces vectoriels, L(E,F) \n",
    "\n",
    "1. Définir une application linéaire\n",
    "2. Définir un isomorphisme, un endomorphisme et un automorphisme\n"
   ]
  },
  {
   "cell_type": "markdown",
   "metadata": {},
   "source": [
    "\n",
    "### 4.4 Image et noyau d’une application linéaire\n",
    "\n",
    "1. Définir l'image et le noyau d'une application linéaire\n",
    "\n",
    "### 4.5 Théorème du rang\n",
    "\n",
    "1. Définir le théorème du rang\n",
    "2. Que permet de caractériser le rang pour une famille de vecteurs?\n",
    "\n",
    "\n",
    "### 4.6 Les espaces vectoriels de matrices\n",
    "\n",
    "L’ensemble Mn,p(K) des matrices à n lignes et p colonnes à coefficients dans K peut être muni d’une structure de K-espace vectoriel de dimension (n,p). "
   ]
  },
  {
   "cell_type": "markdown",
   "metadata": {},
   "source": [
    "### 4.7 Codage en Python\n",
    "Soit E = $R^4$ et B = ($e_{1}$,$e_{2}$,$e_{3}$,$e_{4}$) la base canonique de $R^4$ dans $R^4$\n",
    "Soit f l'endomorphisme de $R^4$ défini par :\n",
    " - f (e1) = e1 −e3 +e4\n",
    " - f (e2) = −e1 +e2 +e3\n",
    " - f (e3) = −e1 +3e2 +e3 +2e4\n",
    " - f (e4) = −3e1 +e2 +3e3 −2e4\n",
    " \n",
    "1. Déterminez le rang de la famille (f(e1), f (e2), f (e3), f (e4))\n",
    "2. Déduisez-en la dimension de Im f.\n",
    "3. f est-elle surjective?\n",
    "4. Déterminez une base de Ker f. \n",
    "5. f est-elle injective?\n"
   ]
  },
  {
   "cell_type": "code",
   "execution_count": null,
   "metadata": {},
   "outputs": [],
   "source": []
  },
  {
   "cell_type": "code",
   "execution_count": null,
   "metadata": {},
   "outputs": [],
   "source": []
  },
  {
   "cell_type": "code",
   "execution_count": null,
   "metadata": {},
   "outputs": [],
   "source": []
  }
 ],
 "metadata": {
  "kernelspec": {
   "display_name": "Python 3",
   "language": "python",
   "name": "python3"
  },
  "language_info": {
   "codemirror_mode": {
    "name": "ipython",
    "version": 3
   },
   "file_extension": ".py",
   "mimetype": "text/x-python",
   "name": "python",
   "nbconvert_exporter": "python",
   "pygments_lexer": "ipython3",
   "version": "3.7.4"
  }
 },
 "nbformat": 4,
 "nbformat_minor": 2
}
