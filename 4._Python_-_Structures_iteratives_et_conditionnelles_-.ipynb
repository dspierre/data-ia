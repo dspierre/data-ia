{
 "cells": [
  {
   "cell_type": "markdown",
   "metadata": {},
   "source": [
    "# **4. Python - Structures itératives et conditionnelles**\n"
   ]
  },
  {
   "cell_type": "markdown",
   "metadata": {},
   "source": [
    "A quoi sert une boucle en programmation?"
   ]
  },
  {
   "cell_type": "markdown",
   "metadata": {},
   "source": [
    "## une  boucle  sert   "
   ]
  },
  {
   "cell_type": "markdown",
   "metadata": {},
   "source": [
    "## Quels types de boucles existe-t-il?"
   ]
  },
  {
   "cell_type": "markdown",
   "metadata": {},
   "source": [
    "## while do for "
   ]
  },
  {
   "cell_type": "markdown",
   "metadata": {},
   "source": [
    "Quelle est la syntaxe des boucles en Python?"
   ]
  },
  {
   "cell_type": "markdown",
   "metadata": {},
   "source": [
    "## for x in range(0, 3):"
   ]
  },
  {
   "cell_type": "markdown",
   "metadata": {},
   "source": [
    "## while  valeur  à tester  :"
   ]
  },
  {
   "cell_type": "markdown",
   "metadata": {},
   "source": [
    "Comment vérifier des conditions en Python? "
   ]
  },
  {
   "cell_type": "markdown",
   "metadata": {},
   "source": [
    "## if  condition de  teste :"
   ]
  },
  {
   "cell_type": "markdown",
   "metadata": {},
   "source": [
    "Quelle est la syntaxe à utiliser pour vérifier une unique condition?"
   ]
  },
  {
   "cell_type": "markdown",
   "metadata": {},
   "source": [
    "##  if  condition  de  teste :"
   ]
  },
  {
   "cell_type": "markdown",
   "metadata": {},
   "source": [
    "Quelle est la syntaxe à utiliser pour vérifier plusieurs conditions?"
   ]
  },
  {
   "cell_type": "markdown",
   "metadata": {},
   "source": [
    "## if  condition  de  teste :\n",
    "## elif  seconde  condition  a  tester:\n",
    "## else  sinon: valeur  autre  "
   ]
  },
  {
   "cell_type": "markdown",
   "metadata": {},
   "source": [
    "## Boucles for"
   ]
  },
  {
   "cell_type": "markdown",
   "metadata": {},
   "source": [
    "## 1) \n",
    "### En utilisant une boucle, affichez les éléments de la liste `numbers` un à un."
   ]
  },
  {
   "cell_type": "code",
   "execution_count": null,
   "metadata": {},
   "outputs": [],
   "source": [
    "numbers = [12,34,1000,5.5,0,4875]"
   ]
  },
  {
   "cell_type": "code",
   "execution_count": 4,
   "metadata": {},
   "outputs": [
    {
     "name": "stdout",
     "output_type": "stream",
     "text": [
      "[12, 34, 1000, 5.5, 0, 4875]\n",
      "[12, 34, 1000, 5.5, 0, 4875]\n",
      "[12, 34, 1000, 5.5, 0, 4875]\n",
      "[12, 34, 1000, 5.5, 0, 4875]\n",
      "[12, 34, 1000, 5.5, 0, 4875]\n",
      "[12, 34, 1000, 5.5, 0, 4875]\n"
     ]
    }
   ],
   "source": [
    "numbers = [12,34,1000,5.5,0,4875]\n",
    "x=0\n",
    "for x in range(len(numbers)):\n",
    "    print (numbers);\n",
    "    "
   ]
  },
  {
   "cell_type": "markdown",
   "metadata": {},
   "source": [
    "## 2)\n",
    "### Affichez tous les entiers entre 1 et 145."
   ]
  },
  {
   "cell_type": "code",
   "execution_count": 7,
   "metadata": {},
   "outputs": [
    {
     "name": "stdout",
     "output_type": "stream",
     "text": [
      "0\n",
      "1\n",
      "2\n",
      "3\n",
      "4\n",
      "5\n",
      "6\n",
      "7\n",
      "8\n",
      "9\n",
      "10\n",
      "11\n",
      "12\n",
      "13\n",
      "14\n",
      "15\n",
      "16\n",
      "17\n",
      "18\n",
      "19\n",
      "20\n",
      "21\n",
      "22\n",
      "23\n",
      "24\n",
      "25\n",
      "26\n",
      "27\n",
      "28\n",
      "29\n",
      "30\n",
      "31\n",
      "32\n",
      "33\n",
      "34\n",
      "35\n",
      "36\n",
      "37\n",
      "38\n",
      "39\n",
      "40\n",
      "41\n",
      "42\n",
      "43\n",
      "44\n",
      "45\n",
      "46\n",
      "47\n",
      "48\n",
      "49\n",
      "50\n",
      "51\n",
      "52\n",
      "53\n",
      "54\n",
      "55\n",
      "56\n",
      "57\n",
      "58\n",
      "59\n",
      "60\n",
      "61\n",
      "62\n",
      "63\n",
      "64\n",
      "65\n",
      "66\n",
      "67\n",
      "68\n",
      "69\n",
      "70\n",
      "71\n",
      "72\n",
      "73\n",
      "74\n",
      "75\n",
      "76\n",
      "77\n",
      "78\n",
      "79\n",
      "80\n",
      "81\n",
      "82\n",
      "83\n",
      "84\n",
      "85\n",
      "86\n",
      "87\n",
      "88\n",
      "89\n",
      "90\n",
      "91\n",
      "92\n",
      "93\n",
      "94\n",
      "95\n",
      "96\n",
      "97\n",
      "98\n",
      "99\n",
      "100\n",
      "101\n",
      "102\n",
      "103\n",
      "104\n",
      "105\n",
      "106\n",
      "107\n",
      "108\n",
      "109\n",
      "110\n",
      "111\n",
      "112\n",
      "113\n",
      "114\n",
      "115\n",
      "116\n",
      "117\n",
      "118\n",
      "119\n",
      "120\n",
      "121\n",
      "122\n",
      "123\n",
      "124\n",
      "125\n",
      "126\n",
      "127\n",
      "128\n",
      "129\n",
      "130\n",
      "131\n",
      "132\n",
      "133\n",
      "134\n",
      "135\n",
      "136\n",
      "137\n",
      "138\n",
      "139\n",
      "140\n",
      "141\n",
      "142\n",
      "143\n",
      "144\n",
      "145\n"
     ]
    }
   ],
   "source": [
    "for x in range(146):\n",
    "    print(x)"
   ]
  },
  {
   "cell_type": "markdown",
   "metadata": {},
   "source": [
    "## 3) \n",
    "### Créer une variable `char1` contenant la chaîne suivante : \"Python c'est vraiment trop stylé !\" Créer une boucle afin d'afficher chacune des lettres composant la chaîne."
   ]
  },
  {
   "cell_type": "code",
   "execution_count": 10,
   "metadata": {},
   "outputs": [
    {
     "name": "stdout",
     "output_type": "stream",
     "text": [
      "P\n",
      "y\n",
      "t\n",
      "h\n",
      "o\n",
      "n\n",
      " \n",
      "c\n",
      "'\n",
      "e\n",
      "s\n",
      "t\n",
      " \n",
      "v\n",
      "r\n",
      "a\n",
      "i\n",
      "m\n",
      "e\n",
      "n\n",
      "t\n",
      " \n",
      "t\n",
      "r\n",
      "o\n",
      "p\n",
      " \n",
      "s\n",
      "t\n",
      "y\n",
      "l\n",
      "é\n",
      " \n",
      "!\n"
     ]
    }
   ],
   "source": [
    "char1= \"Python c'est vraiment trop stylé !\"\n",
    "i=0\n",
    "for i in range(0, len(char1)):\n",
    "   print(char1[i])"
   ]
  },
  {
   "cell_type": "markdown",
   "metadata": {},
   "source": [
    "## 4) \n",
    "### Afficher le nombre d'éléments de la chaine `char1` (espace compris)."
   ]
  },
  {
   "cell_type": "code",
   "execution_count": 17,
   "metadata": {},
   "outputs": [
    {
     "data": {
      "text/plain": [
       "33"
      ]
     },
     "execution_count": 17,
     "metadata": {},
     "output_type": "execute_result"
    }
   ],
   "source": [
    "char1= \"Python c'est vraiment trop stylé!\"\n",
    "i=0\n",
    "len(char1)"
   ]
  },
  {
   "cell_type": "code",
   "execution_count": 21,
   "metadata": {
    "scrolled": true
   },
   "outputs": [
    {
     "data": {
      "text/plain": [
       "2"
      ]
     },
     "execution_count": 21,
     "metadata": {},
     "output_type": "execute_result"
    }
   ],
   "source": [
    "A=[[1,2,3],[4,5,6]]\n",
    "len(A)"
   ]
  },
  {
   "cell_type": "markdown",
   "metadata": {},
   "source": [
    "## 5)\n",
    "### En utilisant une boucle for, comptez le nombre d'éléments de la chaine (espace compris)."
   ]
  },
  {
   "cell_type": "code",
   "execution_count": 62,
   "metadata": {},
   "outputs": [],
   "source": [
    "char1= \"Python c'est vraiment trop stylé!\"\n",
    "\n",
    "def Countnumberchar(char1):\n",
    "    c=0\n",
    "    for i in char1 : \n",
    "        c=c+1            \n",
    "    print(c)"
   ]
  },
  {
   "cell_type": "code",
   "execution_count": 63,
   "metadata": {},
   "outputs": [
    {
     "name": "stdout",
     "output_type": "stream",
     "text": [
      "33\n"
     ]
    }
   ],
   "source": [
    "Countnumberchar(char1)"
   ]
  },
  {
   "cell_type": "markdown",
   "metadata": {},
   "source": [
    " ##coder la suite de fibbonacci le départ de  la suite est (1,1)"
   ]
  },
  {
   "cell_type": "code",
   "execution_count": 83,
   "metadata": {},
   "outputs": [
    {
     "name": "stdout",
     "output_type": "stream",
     "text": [
      "1 2\n",
      "2 3\n",
      "3 5\n",
      "5 8\n",
      "8 13\n",
      "13 21\n",
      "21 34\n",
      "34 55\n",
      "55 89\n",
      "89 144\n",
      "144 233\n",
      "(144, 233)\n"
     ]
    }
   ],
   "source": [
    "  \n",
    "        \n",
    "def fibo(n):\n",
    "    a,b =1,1\n",
    "    while a<n:\n",
    "        a,b=b,a+b\n",
    "        print(a,b)\n",
    "    return(a,b)\n",
    "print(fibo(100))\n",
    "\n",
    "        \n",
    "        \n",
    "        \n",
    "        \n",
    "        \n",
    "        \n",
    "        "
   ]
  },
  {
   "cell_type": "markdown",
   "metadata": {},
   "source": [
    "## Boucles while"
   ]
  },
  {
   "cell_type": "code",
   "execution_count": null,
   "metadata": {},
   "outputs": [],
   "source": []
  },
  {
   "cell_type": "markdown",
   "metadata": {},
   "source": [
    "Exemple"
   ]
  },
  {
   "cell_type": "code",
   "execution_count": 6,
   "metadata": {},
   "outputs": [
    {
     "name": "stdout",
     "output_type": "stream",
     "text": [
      "valeur de i avant la boucle: 1\n",
      "valeur de i dans la boucle: 1\n",
      "valeur de i dans la boucle: 2\n",
      "valeur de i dans la boucle: 3\n",
      "valeur de i dans la boucle: 4\n",
      "valeur de i dans la boucle: 5\n",
      "valeur de i dans la boucle: 6\n",
      "valeur de i dans la boucle: 7\n",
      "valeur de i dans la boucle: 8\n",
      "valeur de i dans la boucle: 9\n",
      "valeur de i dans la boucle: 10\n",
      "valeur de i après la boucle: 11\n"
     ]
    }
   ],
   "source": [
    "i = 1\n",
    "print(\"valeur de i avant la boucle:\" , i)\n",
    "while i <= 10:\n",
    "    print(\"valeur de i dans la boucle:\" , i)\n",
    "    i = i + 1\n",
    "print(\"valeur de i après la boucle:\" , i)"
   ]
  },
  {
   "cell_type": "markdown",
   "metadata": {},
   "source": [
    "## 7)\n",
    "### Écrire un programme qui affiche les nombres de 2 en 2 jusqu’à 100 avec une boucle for puis avec une boucle while."
   ]
  },
  {
   "cell_type": "code",
   "execution_count": 79,
   "metadata": {},
   "outputs": [
    {
     "ename": "SyntaxError",
     "evalue": "invalid syntax (<ipython-input-79-66265d623507>, line 1)",
     "output_type": "error",
     "traceback": [
      "\u001b[1;36m  File \u001b[1;32m\"<ipython-input-79-66265d623507>\"\u001b[1;36m, line \u001b[1;32m1\u001b[0m\n\u001b[1;33m    for i in(range(0,102,2):\u001b[0m\n\u001b[1;37m                           ^\u001b[0m\n\u001b[1;31mSyntaxError\u001b[0m\u001b[1;31m:\u001b[0m invalid syntax\n"
     ]
    }
   ],
   "source": [
    "for i in(range(0,102,2):\n",
    "  print(i)"
   ]
  },
  {
   "cell_type": "code",
   "execution_count": null,
   "metadata": {},
   "outputs": [],
   "source": []
  },
  {
   "cell_type": "markdown",
   "metadata": {},
   "source": [
    "## 8)\n",
    "### En utilisant une boucle while, calculer la somme des n premiers entiers."
   ]
  },
  {
   "cell_type": "code",
   "execution_count": 80,
   "metadata": {},
   "outputs": [
    {
     "ename": "SyntaxError",
     "evalue": "invalid syntax (<ipython-input-80-1cc92cd53653>, line 5)",
     "output_type": "error",
     "traceback": [
      "\u001b[1;36m  File \u001b[1;32m\"<ipython-input-80-1cc92cd53653>\"\u001b[1;36m, line \u001b[1;32m5\u001b[0m\n\u001b[1;33m    while e=<n\u001b[0m\n\u001b[1;37m           ^\u001b[0m\n\u001b[1;31mSyntaxError\u001b[0m\u001b[1;31m:\u001b[0m invalid syntax\n"
     ]
    }
   ],
   "source": [
    "i=0 \n",
    "e=0\n",
    "n=input (\"entrer un nombre\")\n",
    "n=int[n]\n",
    "while e=<n\n",
    "total=total+e\n",
    "e=e+1\n",
    "print(total)\n"
   ]
  },
  {
   "cell_type": "markdown",
   "metadata": {},
   "source": [
    "## 9)\n",
    "### En utilisant une boucle while, calculer la somme des termes de la liste `UneListe`."
   ]
  },
  {
   "cell_type": "code",
   "execution_count": null,
   "metadata": {},
   "outputs": [],
   "source": [
    "UneListe = [2,5,9,100,39,4]"
   ]
  },
  {
   "cell_type": "code",
   "execution_count": 6,
   "metadata": {},
   "outputs": [
    {
     "name": "stdout",
     "output_type": "stream",
     "text": [
      "159\n"
     ]
    }
   ],
   "source": [
    "UneListe = [2,5,9,100,39,4]\n",
    "i=0\n"
   ]
  },
  {
   "cell_type": "markdown",
   "metadata": {},
   "source": [
    "# STRUCTURES CONDITIONNELLES"
   ]
  },
  {
   "cell_type": "markdown",
   "metadata": {},
   "source": [
    "Exemple"
   ]
  },
  {
   "cell_type": "code",
   "execution_count": 5,
   "metadata": {},
   "outputs": [
    {
     "name": "stdout",
     "output_type": "stream",
     "text": [
      "a est positif.\n"
     ]
    }
   ],
   "source": [
    "a = 5\n",
    "\n",
    "if a > 0: # Positif\n",
    "    print(\"a est positif.\")\n",
    "elif a < 0: # Négatif\n",
    "    print(\"a est négatif.\")\n",
    "else: # Nul\n",
    "    print(\"a est nul.\")\n",
    "    "
   ]
  },
  {
   "cell_type": "markdown",
   "metadata": {},
   "source": [
    "## 10)\n",
    "### Ecrire un programme qui effectue une conversion Euros - Dollars. Le programme commencera par demander à l’utilisateur d’indiquer par un caractère `€` ou $ la devise du montant qu’il va entrer puis le montant lui même et calculera la conversion.\n"
   ]
  },
  {
   "cell_type": "code",
   "execution_count": null,
   "metadata": {},
   "outputs": [],
   "source": [
    "char_conv = \"\"\n",
    "montant = 0.0\n",
    "result = 0.0\n",
    "rate_dollars = 1.12\n",
    "while True:\n",
    "    char_conv = input(\"Veuillez indiquer le symbole de la devise initiale (€ pour euros, $ pour dollars) :\")\n",
    "    \n",
    "    if char_conv == \"€\":            \n",
    "            try:\n",
    "                montant = float(input(\"Veuillez entrer le montant à convertir\"))\n",
    "            except ValueError:\n",
    "                print(\"Veuillez n'utiliser que des nombres.\")\n",
    "                continue\n",
    "                \n",
    "            result = montant * rate_dollars\n",
    "            print(f\"{montant} € = {result} $\")\n",
    "            break\n",
    "    \n",
    "    if char_conv == \"$\":        \n",
    "        try:\n",
    "            montant = float(input(\"Veuillez entrer le montant à couvertir :\"))\n",
    "        except ValueError:\n",
    "            print(\"Veuillez n'utiliser que des nombres.\")\n",
    "            continue\n",
    "        \n",
    "        result = montant / rate_dollars\n",
    "        print(f\"{montant} $ = {result} €\")\n",
    "        break\n",
    "        \n",
    "    else:\n",
    "        print(\"Veuillez utiliser soit le symbole de la devise en euros, soit celle en dollars, rien d'autre.\")\n",
    "        continue\n"
   ]
  },
  {
   "cell_type": "markdown",
   "metadata": {},
   "source": [
    "## 11)\n",
    "### Coder un script qui demande à l'utilisateur de choisir un nombre et retourne: \n",
    "### Le nombre \"\" est pair\n",
    "#### OU\n",
    "### Le nombre \"\" est impair."
   ]
  },
  {
   "cell_type": "code",
   "execution_count": 8,
   "metadata": {},
   "outputs": [
    {
     "name": "stdout",
     "output_type": "stream",
     "text": [
      "Entrer un nombre :5\n",
      "impair\n"
     ]
    }
   ],
   "source": [
    "nombre = float(input('Entrer un nombre :')) \n",
    "if(nombre% 2) == 0:\n",
    "    print(\"pair\")\n",
    "else:\n",
    "    print(\"impair\")\n",
    "    \n",
    "    "
   ]
  },
  {
   "cell_type": "markdown",
   "metadata": {},
   "source": [
    "## 12)\n",
    "\n",
    "### Coder un script qui parcourt la liste `numbers` pour déterminer le maximum de la liste sans utiliser la fonction max de python."
   ]
  },
  {
   "cell_type": "code",
   "execution_count": 24,
   "metadata": {},
   "outputs": [
    {
     "name": "stdout",
     "output_type": "stream",
     "text": [
      "4875\n"
     ]
    }
   ],
   "source": [
    "numbers = [12,34,1000,5.5,0,4875]\n",
    "maxi=0\n",
    "for i in numbers :\n",
    "    if  maxi <i:\n",
    "        maxi =i\n",
    "    else:\n",
    "        continue\n",
    "print(maxi)\n",
    "    "
   ]
  },
  {
   "cell_type": "code",
   "execution_count": null,
   "metadata": {},
   "outputs": [],
   "source": []
  }
 ],
 "metadata": {
  "kernelspec": {
   "display_name": "Python 3",
   "language": "python",
   "name": "python3"
  }
 },
 "nbformat": 4,
 "nbformat_minor": 2
}
