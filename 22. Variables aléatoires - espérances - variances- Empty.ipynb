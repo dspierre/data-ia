{
 "cells": [
  {
   "cell_type": "markdown",
   "metadata": {},
   "source": [
    "# 22. Variables aléatoires - Espérance - Variance"
   ]
  },
  {
   "cell_type": "markdown",
   "metadata": {},
   "source": [
    "Les notions abordées dans ce notebook sont:\n",
    "- Les variables aléatoires\n",
    "- La loi de probabilité d'une variable aléatoire discrète \n",
    "- L'indépendance de variables aléatoires\n",
    "- L'espérance et la variance d'une variable aléatoire\n",
    "- La covariance et la corrélation de plusieurs variables\n",
    "\n",
    "Vous avez préalablement suivi le **topic 7** (\"***Probability Introduction***\") du  MOOC \"*EDX - Probability and Statistics in Data Science using Python*\" : https://courses.edx.org/courses/course-v1:UCSanDiegoX+DSE210x+3T2019a/course/\n",
    "\n",
    "En complément, nous vous proposons de regarder **pour cette séance** les vidéos de Khan Academy Francophone dédiées aux variables aléatoires: https://fr.khanacademy.org/math/statistics-probability/random-variables-stats-library pour répondre aux questions posées dans <span style=\"color:red\">**CE NOTEBOOK**</span> . \n",
    "\n",
    "**Sélectionner UNIQUEMENT les vidéos qui vont vous aider à répondre aux questions de ce notebook. Des questions d'entraînement vous sont également proposées (à droite de chaque section)  pour vérifier vos acquis.**"
   ]
  },
  {
   "cell_type": "markdown",
   "metadata": {},
   "source": [
    "### 1. Définitions\n",
    "***(Durée moyenne : 1h)***"
   ]
  },
  {
   "cell_type": "markdown",
   "metadata": {},
   "source": [
    "1. Définir une variable aléatoire. Donner un exemple\n",
    "2. Définir une variable aléatoire discrète et une variable aléatoire continue. Donner des exemples\n",
    "3. Définir une loi de probabilité pour une variable discrète. Quelle est la loi de probabilité d'un lancer de dé équilibré? Donner d'autres exemples\n",
    "4. Définir l'indépendance de deux variables aléatoires. Donner un exemple.\n",
    "\n",
    "\n",
    "5. Définir une fonction de répartition pour une variable discrète. Quelles sont ses propriétés?\n",
    "6. Reprendre l'exemple du lancer de dé équilibré et définir sa fonction de répartition.\n",
    "\n",
    "\n",
    "7. Définir l'espérance et la variance d'une variable aléatoire. Reprendre l'exemple du lancer de dé et définir l'espérance et la variance.\n",
    "8. Quelles sont les propriétés de l'espérance et de la variance? Définir l'espérance et la variance d'une somme de 2 variables.\n",
    "9. Définir la covariance et la corrélation de 2 variables. Quelle est leur interprétation?\n"
   ]
  },
  {
   "cell_type": "markdown",
   "metadata": {},
   "source": [
    "1. variables aleatoires:Une variable aléatoire réelle est une fonction qui associe un réel à chaque événement de l'univers d'une expérience aléatoire. \n",
    " L ensemble des valeurs prises par une variable aléatoire réelle X."
   ]
  },
  {
   "cell_type": "markdown",
   "metadata": {},
   "source": [
    " 2. une variable aléatoire:\n",
    "   est dite discrète lorsque l'ensemble des valeurs qu'elle peut prendre est fini ou infini       dénombrable. Ainsi, le résultat d'un lancer de dé cubique est une variable aléatoire réelle discrète car elle ne peut prendre que 6 valeurs : 1, 2, 3, 4, 5, 6."
   ]
  },
  {
   "cell_type": "code",
   "execution_count": null,
   "metadata": {},
   "outputs": [],
   "source": [
    "Quand le résultat d'une expérience aléatoire n’est pas un entier et\n",
    "n'appartient pas à un ensemble fini,\n",
    "le mieux est de définir la variable aléatoire correspondante \n",
    "directement sur R ou sur un intervalle de R ."
   ]
  },
  {
   "cell_type": "markdown",
   "metadata": {},
   "source": [
    "3. En théorie des probabilités et en statistique, une loi de probabilité décrit le comportement aléatoire d'un phénomène dépendant du hasard. ... Ces premières approches sont des phénomènes discrets, c'est-à-dire dont le nombre de résultats possibles est fini ou au plus dénombrable.\n",
    "1                2                3                   4                  5                6\n",
    "0.16666666666 0.16666666666      0.16666666666       0.16666666666      0.16666666666 "
   ]
  },
  {
   "cell_type": "markdown",
   "metadata": {},
   "source": [
    "4. L'indépendance est une notion probabiliste qualifiant \n",
    "   de manière intuitive des événements aléatoires n'ayant aucune influence l'un sur l'autre. \n",
    "   "
   ]
  },
  {
   "cell_type": "markdown",
   "metadata": {},
   "source": [
    "5.La variable aléatoire réelle X est la fonction FX qui, à tout réel x, associe la probabilité d’obtenir une valeur inférieure ou égale :\n",
    "F X ( x ) = P ( X ≤ x )  F_{X}(x)=\\mathbb {P}(X\\leq x)}.\n",
    "Cette fonction est caractéristique de la loi de probabilité de la variable aléatoire. Elle permet de calculer la probabilité de chaque intervalle semi-ouvert à gauche par\n",
    "P ( X ∈ ] a , b ] ) = P ( a < X ≤ b ) = F X ( b ) − F X ( a ) {P} (X\\in ]a,b])=\\mathbb {P} (a<X\\leq b)=F_{X}(b)-F_{X}(a)} (a<X\\leq b)=F_{X}(b)-F_{X}(a)}.\n",
    "La fonction de répartition d'une mesure de probabilité P) est la fonction F qui à tout réel x associe."
   ]
  },
  {
   "cell_type": "code",
   "execution_count": null,
   "metadata": {},
   "outputs": [],
   "source": [
    "6. "
   ]
  },
  {
   "cell_type": "markdown",
   "metadata": {},
   "source": [
    "7. l'espérance et la variance d'une variable aléatoire\n",
    " l'espérance mathématique d'une variable aléatoire réelle est, intuitivement, la valeur que  l'on s'attend à trouver, en moyenne,si l'on répète un grand nombre de fois la même expérience  aléatoire. \n",
    "Elle se note E(X) et se lit « espérance de X »\n",
    "\n",
    "la variance est une mesure de la dispersion des valeurs d'un échantillon ou d'une distribution de probabilité. Elle exprime la moyenne des carrés des écarts à la moyenne, aussi égale à la différence entre la moyenne des carrés des valeurs de la variable et le carré de la moyenne, selon le théorème de König-Huygens."
   ]
  },
  {
   "cell_type": "markdown",
   "metadata": {},
   "source": [
    "8. Quelles sont les propriétés de l'espérance et de la variance? Définir \n",
    "l'espérance et la variance d'une somme de 2 variables.\n",
    "\n",
    "La variance est toujours positive, et ne s’annule que si les valeurs sont toutes égales.\n",
    "V(x)=écarttype²"
   ]
  },
  {
   "cell_type": "markdown",
   "metadata": {},
   "source": [
    "9. la covariance :\n",
    "entre deux variables aléatoires est un nombre permettant de quantifier leurs écarts conjoints par rapport à leurs espérances respectives. Elle s’utilise également pour deux séries de données numériques (écarts par rapport aux moyennes)."
   ]
  },
  {
   "cell_type": "markdown",
   "metadata": {},
   "source": [
    "9.bis \n",
    "la corrélation entre plusieurs variables aléatoires ou statistiques est une notion \n",
    "de liaison qui contredit leur indépendance.\n",
    "Cette corrélation est très souvent réduite à la corrélation linéaire entre variables\n",
    "quantitatives, c’est-à-dire l’ajustement d’une variable par rapport à l’autre par une \n",
    "relation affine obtenue par régression linéaire."
   ]
  },
  {
   "cell_type": "markdown",
   "metadata": {},
   "source": [
    "### 2. Exercices \n",
    "***(Durée moyenne : 1 à 2 heures)***"
   ]
  },
  {
   "cell_type": "markdown",
   "metadata": {},
   "source": [
    "#### Exercice 1 (sans codage Python)\n",
    "On vous propose le jeu suivant:\n",
    "- Pour jouer, il faut payer 2€. \n",
    "- Ensuite, on lance 2 fois de suite une pièce bien équilibrée. Chaque pile rapporte 3€ et chaque face fait perdre 2€.\n",
    "\n",
    "On considère la variable aléatoire G égale au gain algébrique du joueur. \n",
    "\n",
    "1. Déterminer la loi de probabilité de G et son espérance. \n"
   ]
  },
  {
   "cell_type": "code",
   "execution_count": null,
   "metadata": {},
   "outputs": [],
   "source": [
    "  \n",
    "      3     -2          3      -2\n",
    "      1/4   1/4       1/4      1/4"
   ]
  },
  {
   "cell_type": "code",
   "execution_count": null,
   "metadata": {},
   "outputs": [],
   "source": [
    "import numpy as np\n",
    "PX=np.array([range(1,7),sorted(np.divide(range(1,12,2),36),reverse=True)])\n",
    "PY=np.array([range(1,7),np.divide(range(1,12,2),36)]); print(PX,'\\n',PY)\n",
    "EX=sum(np.multiply(PX[0],PX[1]))\n",
    "EY=sum(np.multiply(PY[0],PY[1])); print(EX,EY)\n",
    "VX=sum(np.multiply(PX[0]-3.5,PX[1]))**2\n",
    "VY=sum(np.multiply(PY[0]-3.5,PY[1]))**2; print(VX,VY)\n",
    "P=PX*PY\n",
    "np.cov(PX,PY)"
   ]
  },
  {
   "cell_type": "code",
   "execution_count": 9,
   "metadata": {},
   "outputs": [
    {
     "name": "stdout",
     "output_type": "stream",
     "text": [
      "[[1.         2.         3.         4.         5.         6.        ]\n",
      " [0.30555556 0.25       0.19444444 0.13888889 0.08333333 0.02777778]] \n",
      " [[1.         2.         3.         4.         5.         6.        ]\n",
      " [0.02777778 0.08333333 0.13888889 0.19444444 0.25       0.30555556]]\n",
      "2.5277777777777777 4.472222222222222\n",
      "0.9452160493827162 0.9452160493827162\n"
     ]
    },
    {
     "data": {
      "text/plain": [
       "array([[ 3.5       , -0.19444444,  3.5       ,  0.19444444],\n",
       "       [-0.19444444,  0.01080247, -0.19444444, -0.01080247],\n",
       "       [ 3.5       , -0.19444444,  3.5       ,  0.19444444],\n",
       "       [ 0.19444444, -0.01080247,  0.19444444,  0.01080247]])"
      ]
     },
     "execution_count": 9,
     "metadata": {},
     "output_type": "execute_result"
    }
   ],
   "source": []
  },
  {
   "cell_type": "code",
   "execution_count": null,
   "metadata": {},
   "outputs": [],
   "source": []
  },
  {
   "cell_type": "code",
   "execution_count": null,
   "metadata": {},
   "outputs": [],
   "source": [
    "#### Exercice 2 (sans codage Python)\n",
    "On lance deux dés cubiques bien équilibrés dont les faces sont numérotées de 1 à 6.\n",
    "On note X la variable aléatoire égale à l'écart entre les deux nombres sortis.\n",
    "1. Déterminer la loi de probabilité de X.\n",
    "2. Déterminer l'espérance de X. Interpréter."
   ]
  },
  {
   "cell_type": "code",
   "execution_count": null,
   "metadata": {},
   "outputs": [],
   "source": [
    "2       3       4       5       6     7     8      9    10      11   12\n",
    "1/12    1/12    1/12    1/12   1/12  1/12   1/12  1/12  1/12   1/12  1/12"
   ]
  },
  {
   "cell_type": "code",
   "execution_count": 47,
   "metadata": {},
   "outputs": [
    {
     "name": "stdout",
     "output_type": "stream",
     "text": [
      "6.416666666666667\n"
     ]
    }
   ],
   "source": [
    "Ex=1/12*2+3*1/12+4*1/12+5*1/12+6*1/12+7*1/12+8/12+1/12*9+10/12+11/12+12/12\n",
    "print(Ex)"
   ]
  },
  {
   "cell_type": "markdown",
   "metadata": {},
   "source": [
    "#### Exercice 3 (sans codage Python)\n",
    "\n",
    "Un trader a analysé plusieurs scénarios quant à l'évolution de deux actions notées A et B. On note X la variable aléatoire donnant l'évolution en euros de l'action A et Y celle donnant l'évolution en euros de l'action B. Voici les lois de probabilités de X et de Y.\n",
    "\n",
    "|X  | -50 | 0  | 10 |40 |\n",
    "|---|-----|----|----|---|\n",
    "|Pxi|0.1  |0.3 | 0.5|0.1|\n",
    "\n",
    "|Y  | -30 | 10 | 30 |\n",
    "|---|-----|----|----|\n",
    "|Pyi|0.3  |0.4 | 0.3|\n",
    "\n",
    "\n",
    "1. Vérifier que E(X)=E(Y)\n",
    "2. Calculer V(X) et V(Y)\n",
    "3. Le trader ne souhaite pas prendre trop de risques et décide d'investir sur l'action la moins volatile. Quelle action lui conseillez-vous? Justifier. "
   ]
  },
  {
   "cell_type": "markdown",
   "metadata": {},
   "source": [
    "1. E(x)=-50*0.1+0.3*0+10*0.5+40*0.1=4\n",
    "   E(Y)= -0.3*0.3+10*0.4+30*0.3=4"
   ]
  },
  {
   "cell_type": "markdown",
   "metadata": {},
   "source": [
    "2. V(x)=((4-50)²*0.1+(4-10)²*0.3+(10-4)²*0.5+(40-4)²*0.1)/4=\n",
    "2. V(y)=((4-30)²0.3+(4-10)²0.4+(10-4)²*0.3)/3="
   ]
  },
  {
   "cell_type": "code",
   "execution_count": null,
   "metadata": {},
   "outputs": [],
   "source": [
    "V(x)=((4+50)*(4-50)*0.1+(4-10)*(4-10)*0.3+(10-4)*0.5+(40-4)*(40-4)*0.1=\n",
    "V(x)=((4+30)*(4+30)*0.1+(4-10)*(4-10)*0.3+(30-4)*0.5+(30-4)*0.1)/=      "
   ]
  },
  {
   "cell_type": "markdown",
   "metadata": {},
   "source": [
    "#### Exercice 4 (avec codage Python)"
   ]
  },
  {
   "cell_type": "markdown",
   "metadata": {},
   "source": [
    "On lance deux dés équilibrés, on note U1 et U2 les variables aléatoires correspondant aux résultats obtenus. \n",
    "On appelle X = min(U1,U2) et Y = max(U1,U2).\n",
    "\n",
    "1. Donner les lois de probabilité de X et de Y\n",
    "2. Calculer E(X) et E(Y)\n",
    "3. Calculer V(X) et V(Y)\n",
    "4. Déterminer la loi jointe de (X,Y). \n",
    "5. Déterminer la covariance de X et Y. X et Y sont-elles indépendantes? \n"
   ]
  },
  {
   "cell_type": "code",
   "execution_count": null,
   "metadata": {},
   "outputs": [],
   "source": [
    "Xmin   1       2      3    4   5   6\n",
    "\n",
    "x      1/6    1/6    1/6  1/6  1/6  1/6"
   ]
  },
  {
   "cell_type": "code",
   "execution_count": null,
   "metadata": {},
   "outputs": [],
   "source": [
    "Xmin   1       2      3    4   5     6\n",
    "\n",
    "x      1/6    1/6    1/6  1/6  1/6  1/6"
   ]
  },
  {
   "cell_type": "code",
   "execution_count": 54,
   "metadata": {},
   "outputs": [
    {
     "name": "stdout",
     "output_type": "stream",
     "text": [
      "3.5\n"
     ]
    }
   ],
   "source": [
    "Ey=1*1/6+(2/6)+3/6+4/6+5/6+1\n",
    "print(Ey)"
   ]
  },
  {
   "cell_type": "code",
   "execution_count": 12,
   "metadata": {
    "scrolled": true
   },
   "outputs": [
    {
     "name": "stdout",
     "output_type": "stream",
     "text": [
      "[[1.         2.         3.         4.         5.         6.        ]\n",
      " [0.30555556 0.25       0.19444444 0.13888889 0.08333333 0.02777778]] \n",
      " [[1.         2.         3.         4.         5.         6.        ]\n",
      " [0.02777778 0.08333333 0.13888889 0.19444444 0.25       0.30555556]]\n",
      "2.5277777777777777 4.472222222222222\n",
      "0.9452160493827162 0.9452160493827162\n"
     ]
    },
    {
     "data": {
      "text/plain": [
       "array([[ 3.5       , -0.19444444,  3.5       ,  0.19444444],\n",
       "       [-0.19444444,  0.01080247, -0.19444444, -0.01080247],\n",
       "       [ 3.5       , -0.19444444,  3.5       ,  0.19444444],\n",
       "       [ 0.19444444, -0.01080247,  0.19444444,  0.01080247]])"
      ]
     },
     "execution_count": 12,
     "metadata": {},
     "output_type": "execute_result"
    }
   ],
   "source": [
    "import numpy as np\n",
    "PX=np.array([range(1,7),sorted(np.divide(range(1,12,2),36),reverse=True)])\n",
    "PY=np.array([range(1,7),np.divide(range(1,12,2),36)]); print(PX,'\\n',PY)\n",
    "\n",
    "\n",
    "P=PX*PY\n",
    "np.cov(PX,PY)\n"
   ]
  },
  {
   "cell_type": "code",
   "execution_count": 13,
   "metadata": {},
   "outputs": [
    {
     "name": "stdout",
     "output_type": "stream",
     "text": [
      "[[1.         2.         3.         4.         5.         6.        ]\n",
      " [0.30555556 0.25       0.19444444 0.13888889 0.08333333 0.02777778]]\n"
     ]
    }
   ],
   "source": [
    "import numpy as np\n",
    "PX=np.array([range(1,7),sorted(np.divide(range(1,12,2),36),reverse=True)])\n",
    "PY=np.array([range(1,7),np.divide(range(1,12,2),36)]); print(PX)"
   ]
  },
  {
   "cell_type": "code",
   "execution_count": 14,
   "metadata": {},
   "outputs": [
    {
     "name": "stdout",
     "output_type": "stream",
     "text": [
      "2.5277777777777777 4.472222222222222\n"
     ]
    }
   ],
   "source": [
    "EX=sum(np.multiply(PX[0],PX[1]))\n",
    "EY=sum(np.multiply(PY[0],PY[1])); print(EX,EY)"
   ]
  },
  {
   "cell_type": "code",
   "execution_count": 15,
   "metadata": {
    "scrolled": true
   },
   "outputs": [
    {
     "name": "stdout",
     "output_type": "stream",
     "text": [
      "0.9452160493827162 0.9452160493827162\n"
     ]
    }
   ],
   "source": [
    "VX=sum(np.multiply(PX[0]-3.5,PX[1]))**2\n",
    "VY=sum(np.multiply(PY[0]-3.5,PY[1]))**2; print(VX,VY)"
   ]
  },
  {
   "cell_type": "code",
   "execution_count": 16,
   "metadata": {},
   "outputs": [
    {
     "data": {
      "text/plain": [
       "array([[ 3.5       , -0.19444444,  3.5       ,  0.19444444],\n",
       "       [-0.19444444,  0.01080247, -0.19444444, -0.01080247],\n",
       "       [ 3.5       , -0.19444444,  3.5       ,  0.19444444],\n",
       "       [ 0.19444444, -0.01080247,  0.19444444,  0.01080247]])"
      ]
     },
     "execution_count": 16,
     "metadata": {},
     "output_type": "execute_result"
    }
   ],
   "source": [
    "P=PX*PY\n",
    "np.cov(PX,PY)"
   ]
  },
  {
   "cell_type": "markdown",
   "metadata": {},
   "source": [
    "#### Exercice 5 (avec codage Python)\n",
    "1. Simuler N lancers de 2 dés équilibrés. X désigne le résultat du 1er dé et Y le résultat du second.\n",
    "2. Comparer la moyenne empirique de X à son espérance théorique\n",
    "3. Comparer l'écart-type empirique de X à l'écart-type théorique\n",
    "4. Comparer la covariance empirique à la covariance théorique de X et Y\n",
    "\n",
    "- N prend comme valeurs 10, 100, 1000,10000,100000"
   ]
  },
  {
   "cell_type": "code",
   "execution_count": null,
   "metadata": {},
   "outputs": [],
   "source": [
    " def lancer2(n):\n",
    "    i=0\n",
    "    liste=[]\n",
    "    while i<n:\n",
    "        X=rd.randint(1,6)\n",
    "        Y=rd.randint(1,6)\n",
    "        liste.append((X,Y))\n",
    "        i+=1\n",
    "    return liste\n",
    "A=lancer(10)\n",
    "B=lancer(100)\n",
    "C=lancer(1000)\n",
    "D=lancer(10000)\n",
    "E=lancer(10000)"
   ]
  },
  {
   "cell_type": "code",
   "execution_count": null,
   "metadata": {},
   "outputs": [],
   "source": []
  },
  {
   "cell_type": "code",
   "execution_count": 20,
   "metadata": {},
   "outputs": [
    {
     "name": "stdout",
     "output_type": "stream",
     "text": [
      "[1, 4, 2, 1, 2, 4, 2, 2, 3, 4] 4.166666666666667 3.5\n"
     ]
    }
   ],
   "source": [
    "import numpy.random as rd\n",
    "A=lancer2(10)\n",
    "p=[]\n",
    "for i in A:\n",
    "    x=(1/6)*i\n",
    "    p.append(x)\n",
    "C=sum(p)\n",
    "E=21/6\n",
    "print(A,sum(p),E)"
   ]
  },
  {
   "cell_type": "code",
   "execution_count": 23,
   "metadata": {},
   "outputs": [
    {
     "name": "stdout",
     "output_type": "stream",
     "text": [
      "10\n",
      "la moyenne arithmétique de X est  4\n",
      "l'écart type empirique de X est  1.4142135623730951\n",
      "100\n",
      "la moyenne arithmétique de X est  3.35\n",
      "l'écart type empirique de X est  1.6575584454250776\n",
      "1000\n",
      "la moyenne arithmétique de X est  3.455\n",
      "l'écart type empirique de X est  1.6964595485893557\n",
      "10000\n",
      "la moyenne arithmétique de X est  3.5295\n",
      "l'écart type empirique de X est  1.6890025902881263\n",
      "100000\n",
      "la moyenne arithmétique de X est  3.49887\n",
      "l'écart type empirique de X est  1.707764246932228\n",
      "10\n",
      "la moyenne empirique de Y est  3\n",
      "l'écart type empirique de Y est  1.5491933384829668\n",
      "100\n",
      "la moyenne empirique de Y est  3.22\n",
      "l'écart type empirique de Y est  1.7696327302578918\n",
      "1000\n",
      "la moyenne empirique de Y est  3.446\n",
      "l'écart type empirique de Y est  1.7283182577291718\n",
      "10000\n",
      "la moyenne empirique de Y est  3.4727\n",
      "l'écart type empirique de Y est  1.7092263483810446\n",
      "100000\n",
      "la moyenne empirique de Y est  3.48739\n",
      "l'écart type empirique de Y est  1.7082742718603474\n",
      "la covarience de X,Y est  [[2.91648789 0.00952585]\n",
      " [0.00952585 2.91823017]]\n"
     ]
    }
   ],
   "source": [
    "import statistics as  st\n",
    "N = [10,100,1000,10000, 100000]\n",
    "N2 = [10,100,1000,10000, 100000]\n",
    "X  =  []\n",
    "Y = []\n",
    "J = 0\n",
    "j = 0\n",
    "for i in N : \n",
    "    while j< i : \n",
    "        d=randint(1,6)\n",
    "        X.append(d)\n",
    "        j = j+1\n",
    "    print(len(X))\n",
    "    sigmaX = st.pstdev(X)\n",
    "    MoyX = st.mean(X)\n",
    "    print (\"la moyenne arithmétique de X est \", MoyX)\n",
    "    print (\"l'écart type empirique de X est \",sigmaX)\n",
    "for I in N2 : \n",
    "    while J < I : \n",
    "        d=randint(1,6)\n",
    "        Y.append(d)\n",
    "        J = J+1 \n",
    "    print(len(Y))\n",
    "    sigmaY = st.pstdev(Y)\n",
    "    MoyY = st.mean(Y)\n",
    "    print(\"la moyenne empirique de Y est \", MoyY)\n",
    "    print(\"l'écart type empirique de Y est \",sigmaY)\n",
    "Covxy = np.cov(X,Y)\n",
    "print (\"la covarience de X,Y est \", Covxy)"
   ]
  },
  {
   "cell_type": "code",
   "execution_count": null,
   "metadata": {},
   "outputs": [],
   "source": []
  }
 ],
 "metadata": {
  "kernelspec": {
   "display_name": "Python 3",
   "language": "python",
   "name": "python3"
  },
  "language_info": {
   "codemirror_mode": {
    "name": "ipython",
    "version": 3
   },
   "file_extension": ".py",
   "mimetype": "text/x-python",
   "name": "python",
   "nbconvert_exporter": "python",
   "pygments_lexer": "ipython3",
   "version": "3.7.4"
  }
 },
 "nbformat": 4,
 "nbformat_minor": 2
}
