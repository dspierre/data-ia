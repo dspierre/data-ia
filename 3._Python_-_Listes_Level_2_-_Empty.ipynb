{
 "cells": [
  {
   "cell_type": "markdown",
   "metadata": {},
   "source": [
    "# **3. Python - Listes Level 2**\n"
   ]
  },
  {
   "cell_type": "markdown",
   "metadata": {},
   "source": [
    "## 1)\n",
    "### Définir la liste : `liste` =[17, 38, 10, 25, 72], puis effectuez les actions suivantes :\n",
    "\n",
    "##### – triez et affichez la liste ;\n",
    "\n",
    "##### – ajoutez l’élément 12 à la liste et affichez la liste ;\n",
    "\n",
    "##### – renversez et affichez la liste ;\n",
    "\n",
    "##### – affichez l’indice de l’élément 17 ;\n",
    "\n",
    "##### – enlevez l’élément 38 et affichez la liste ;\n",
    "\n",
    "##### – affichez la sous-liste du 2 au 3 ème élément ;\n",
    "\n",
    "##### – affichez la sous-liste du début au 2e élément ;\n",
    "\n",
    "##### – affichez la sous-liste du 3e élément à la fin de la liste ;\n",
    "\n",
    "##### – affichez la sous-liste complète de la liste ;\n",
    "\n",
    "##### – affichez le dernier élément en utilisant un indiçage négatif.\n",
    "\n",
    "##### Bien remarquer que certaines méthodes de liste ne retournent rien.\n"
   ]
  },
  {
   "cell_type": "code",
   "execution_count": 105,
   "metadata": {},
   "outputs": [
    {
     "name": "stdout",
     "output_type": "stream",
     "text": [
      "[10, 17, 25, 38, 72]\n",
      "[17, 38, 10, 25, 72, 12]\n",
      "[72, 25, 10, 38, 17]\n",
      "4\n",
      "[72, 25, 38, 17]\n",
      "[38, 10]\n",
      "[38, 10]\n",
      "[10, 25, 72]\n",
      "[17, 38, 10, 25, 72]\n",
      "72\n"
     ]
    }
   ],
   "source": [
    "Liste=[17,38,10,25,72]\n",
    "Liste=sorted([17,38,10,25,72]) \n",
    "print(Liste)\n",
    "\n",
    "Liste=[17,38,10,25,72]\n",
    "Liste.append(12)\n",
    "print(Liste)\n",
    "\n",
    "Liste=[17,38,10,25,72]\n",
    "Liste.reverse()\n",
    "print(Liste)\n",
    "\n",
    "Liste.index(17)\n",
    "print(Liste.index(17))\n",
    "\n",
    "del Liste[2]\n",
    "print(Liste)\n",
    "\n",
    "Liste=[17,38,10,25,72]\n",
    "L2=Liste[1:3]\n",
    "print(L2) #pour découper une grande liste en petit liste on  fait liste\n",
    "          #avec  indice  1 jusqu'a 3 \n",
    "    \n",
    "Liste=[17,38,10,25,72]\n",
    "L2=Liste[1:3]#ajouter +1 a l'index pour avoir tout les index a partir  0  \n",
    "print(L2)\n",
    "\n",
    "Liste=[17,38,10,25,72]\n",
    "L2=Liste[2:] \n",
    "print(L2)# ne pas mettre de  nombre pour avoir la fin \n",
    "\n",
    "\n",
    "Liste=[17,38,10,25,72]\n",
    "L2=Liste[0:] \n",
    "print(L2)\n",
    "\n",
    "Liste=[17,38,10,25,72]\n",
    "L2=Liste[-1] \n",
    "print(L2)\n",
    "\n"
   ]
  },
  {
   "cell_type": "code",
   "execution_count": null,
   "metadata": {},
   "outputs": [],
   "source": []
  },
  {
   "cell_type": "markdown",
   "metadata": {},
   "source": [
    "## 2)\n",
    "\n",
    "### Initialisez une liste `L1` comme une liste vide, et `L2` comme une liste de cinq float nuls. Affichez ces listes.\n",
    "\n",
    "### Utilisez la fonction range() pour créer les listes suivantes :\n",
    "\n",
    "### les entiers de 0 à 3 ;\n",
    "\n",
    "### les entiers de 4 à 7 ;\n",
    "\n",
    "### les entiers de 2 à 8 par pas de 2.\n",
    "\n",
    "### Définir `L3` comme une liste des entiers de 0 à 5 et testez l’appartenance des éléments 3 et 6 à `L3`."
   ]
  },
  {
   "cell_type": "code",
   "execution_count": 112,
   "metadata": {},
   "outputs": [
    {
     "name": "stdout",
     "output_type": "stream",
     "text": [
      "[]\n",
      "[0.0, 0.0, 0.0, 0.0, 0.0]\n",
      "[0, 1, 2, 3]\n",
      "[4, 5, 6, 7]\n",
      "[2, 4, 6, 8]\n",
      "True\n"
     ]
    }
   ],
   "source": [
    "L1=[]\n",
    "print(L1)\n",
    "\n",
    "L2=[0.0]*5\n",
    "print(L2)\n",
    "\n",
    "L4=list(range(4))\n",
    "print(L4)\n",
    "\n",
    "L5=list(range(4,8))\n",
    "print(L5)\n",
    "\n",
    "L5=list(range(2,9,2))\n",
    "print(L5)\n",
    "\n",
    "for i in L5:\n",
    "    if i==3 or i==6:\n",
    "        print(\"True\")"
   ]
  },
  {
   "cell_type": "markdown",
   "metadata": {},
   "source": [
    "## 3)\n",
    "\n",
    "### Utilisez une liste en compréhension pour ajouter 3 à chaque élément d’une liste d’entiers de 0 à 5. Faites de même en utilisant une boucle For.\n"
   ]
  },
  {
   "cell_type": "code",
   "execution_count": 78,
   "metadata": {},
   "outputs": [
    {
     "name": "stdout",
     "output_type": "stream",
     "text": [
      "[0, 1, 2, 3, 4, 5]\n",
      "[3, 4, 5, 6, 7, 8]\n"
     ]
    }
   ],
   "source": [
    "L6=list(range(0,6))\n",
    "print(L6)\n",
    "for x in L6:\n",
    "  L6[x]=L6[x]+3\n",
    "x=x+1  \n",
    "print(L6)\n",
    "  \n",
    " liste=[i+3 for  in range (6)]"
   ]
  },
  {
   "cell_type": "markdown",
   "metadata": {},
   "source": [
    "## 4)\n",
    "\n",
    "### Utilisez une liste en compréhension pour ajouter 3 à chaque élément d’une liste d’entiers de 0 à 5, mais seulement si l’élément est supérieur ou égal à 2.\n",
    "\n"
   ]
  },
  {
   "cell_type": "code",
   "execution_count": 99,
   "metadata": {},
   "outputs": [
    {
     "name": "stdout",
     "output_type": "stream",
     "text": [
      "[0, 1, 2, 3, 4, 5]\n",
      "[0, 1, 5, 6, 7, 8]\n"
     ]
    }
   ],
   "source": [
    "L6=list(range(0,6))\n",
    "i=0\n",
    "print(L6)\n",
    "for x in L6:\n",
    "    if L6[i]>=2:\n",
    "        L6[i]=L6[i]+3\n",
    "    i=i+1  \n",
    "print(L6)"
   ]
  },
  {
   "cell_type": "markdown",
   "metadata": {},
   "source": [
    "## 5) \n",
    "\n",
    "### En utilisant les compréhensions de listes, récupérer les mots de la liste `ma_liste_de_mots` dont la première lettre est une voyelle."
   ]
  },
  {
   "cell_type": "code",
   "execution_count": 97,
   "metadata": {},
   "outputs": [],
   "source": [
    "ma_liste_de_mots= [\"maths\", \"info\", \"python\", \"exposant\", \"alpha\", \"fonction\", \"parabole\", \"equilateral\", \"orthogonal\", \"cercle\", \"isocèle\" ]"
   ]
  },
  {
   "cell_type": "code",
   "execution_count": null,
   "metadata": {},
   "outputs": [],
   "source": [
    "if x[0] in [x for in  maliste]"
   ]
  },
  {
   "cell_type": "code",
   "execution_count": 114,
   "metadata": {},
   "outputs": [
    {
     "name": "stdout",
     "output_type": "stream",
     "text": [
      "['info', 'exposant', 'alpha', 'equilateral', 'orthogonal', 'isocèle']\n"
     ]
    }
   ],
   "source": [
    "ma_liste_de_mots= [\"maths\", \"info\", \"python\", \"exposant\", \"alpha\", \"fonction\", \"parabole\", \"equilateral\", \"orthogonal\", \"cercle\", \"isocèle\" ]\n",
    "lst_2_voy=[]\n",
    "\n",
    "for i in ma_liste_de_mots:\n",
    "    if(i[0] in [\"a\",\"e\",\"i\",\"o\",\"u\",\"y\"]):\n",
    "        lst_2_voy.append(i)\n",
    "print(lst_2_voy)"
   ]
  },
  {
   "cell_type": "markdown",
   "metadata": {},
   "source": [
    "## 6)\n",
    "\n",
    "### Utilisez une liste en compréhension pour obtenir la liste ['ad', 'ae', 'bd', 'be','cd', 'ce'] à partir des chaînes \"abc\" et \"de\". Indication : utilisez deux boucles for imbriquées"
   ]
  },
  {
   "cell_type": "code",
   "execution_count": null,
   "metadata": {},
   "outputs": [],
   "source": []
  },
  {
   "cell_type": "code",
   "execution_count": 128,
   "metadata": {},
   "outputs": [
    {
     "name": "stdout",
     "output_type": "stream",
     "text": [
      "['abcde']\n"
     ]
    }
   ],
   "source": [
    "Str1=[\"abc\"]\n",
    "Str2=[\"de\"]\n",
    "Res=[]\n",
    "for i in Str1:\n",
    "    for j in Str2:            \n",
    "        Res.append(i+j)\n",
    "print(Res)\n"
   ]
  },
  {
   "cell_type": "markdown",
   "metadata": {},
   "source": [
    "## 7)\n",
    "\n",
    "### Utilisez une liste en compréhension pour calculer la somme d’une liste d’entiers de 0 à 9.\n"
   ]
  },
  {
   "cell_type": "code",
   "execution_count": 129,
   "metadata": {},
   "outputs": [
    {
     "name": "stdout",
     "output_type": "stream",
     "text": [
      "45\n"
     ]
    }
   ],
   "source": [
    "i=0\n",
    "c=0\n",
    "res=[]\n",
    "List=list(range(0,10))\n",
    "for  i in  List:\n",
    "    c=c+i\n",
    "print(c)"
   ]
  },
  {
   "cell_type": "markdown",
   "metadata": {},
   "source": [
    "# Traitement par le contenu "
   ]
  },
  {
   "cell_type": "markdown",
   "metadata": {},
   "source": [
    "## 8)\n",
    "### Créer une liste contenant les valeurs suivantes: [21,68,68,32,34,55]. En traitant le contenu, créer une variable `toto50` qui renvoie VRAI si le nombre 50 est dans cette liste et faux sinon. De même créer une variable `toto32`. "
   ]
  },
  {
   "cell_type": "code",
   "execution_count": 143,
   "metadata": {},
   "outputs": [
    {
     "name": "stdout",
     "output_type": "stream",
     "text": [
      "False\n",
      "True\n"
     ]
    }
   ],
   "source": [
    "w=[21,68,68,32,34,55]\n",
    "Toto50=50 in w\n",
    "print(Toto50)\n",
    "Toto32=32 in w\n",
    "print(Toto32) \n"
   ]
  },
  {
   "cell_type": "code",
   "execution_count": null,
   "metadata": {},
   "outputs": [],
   "source": []
  },
  {
   "cell_type": "code",
   "execution_count": null,
   "metadata": {},
   "outputs": [],
   "source": []
  },
  {
   "cell_type": "markdown",
   "metadata": {},
   "source": [
    "## 9) \n",
    "### Déterminer l'index de la valeur \"32\".\n",
    "\n",
    "### Déterminer l'index de la valeur \"68\". Que constatez-vous?\n",
    "\n",
    "### Compter le nombre d'apparitions de la valeur \"68\".\n",
    "\n",
    "### Supprimer la première apparition de la valeur \"68\"."
   ]
  },
  {
   "cell_type": "code",
   "execution_count": 145,
   "metadata": {},
   "outputs": [
    {
     "data": {
      "text/plain": [
       "3"
      ]
     },
     "execution_count": 145,
     "metadata": {},
     "output_type": "execute_result"
    }
   ],
   "source": [
    "w=[21,68,68,32,34,55]\n",
    "w.index(32)"
   ]
  },
  {
   "cell_type": "code",
   "execution_count": 147,
   "metadata": {},
   "outputs": [
    {
     "data": {
      "text/plain": [
       "1"
      ]
     },
     "execution_count": 147,
     "metadata": {},
     "output_type": "execute_result"
    }
   ],
   "source": [
    "w=[21,68,68,32,34,55]\n",
    "w.index(68)\n"
   ]
  },
  {
   "cell_type": "code",
   "execution_count": 148,
   "metadata": {},
   "outputs": [
    {
     "data": {
      "text/plain": [
       "2"
      ]
     },
     "execution_count": 148,
     "metadata": {},
     "output_type": "execute_result"
    }
   ],
   "source": [
    "w=[21,68,68,32,34,55]\n",
    "w.count(68)"
   ]
  },
  {
   "cell_type": "code",
   "execution_count": null,
   "metadata": {},
   "outputs": [],
   "source": [
    "w=[21,68,68,32,34,55]\n",
    "w.remove(68)"
   ]
  },
  {
   "cell_type": "markdown",
   "metadata": {},
   "source": [
    "## 10)\n",
    "### Reprenons la liste créée précédemment : `L` = [21,68,68,32,34,55]. Créer une copie de cette liste appellée `L_copie`. Remplacer la dernière valeur de la liste L_copie par 0 et afficher les listes."
   ]
  },
  {
   "cell_type": "code",
   "execution_count": 152,
   "metadata": {},
   "outputs": [
    {
     "name": "stdout",
     "output_type": "stream",
     "text": [
      "[21, 68, 68, 32, 34, 55]\n",
      "[21, 68, 68, 32, 34, 0]\n"
     ]
    }
   ],
   "source": [
    "Liste=[21,68,68,32,34,55]\n",
    "L_copie=Liste.copy()\n",
    "L_copie[-1]=0\n",
    "print(Liste)\n",
    "print(L_copie)"
   ]
  },
  {
   "cell_type": "code",
   "execution_count": null,
   "metadata": {},
   "outputs": [],
   "source": []
  },
  {
   "cell_type": "code",
   "execution_count": null,
   "metadata": {},
   "outputs": [],
   "source": []
  },
  {
   "cell_type": "code",
   "execution_count": null,
   "metadata": {},
   "outputs": [],
   "source": []
  },
  {
   "cell_type": "markdown",
   "metadata": {},
   "source": [
    "## 11)\n",
    "\n",
    "### Créer une copie de `L` appelée liste `L_vraie_copie` en utilisant la méthode copy et effectuer la même modification que précédemment. Vérifier les modifications."
   ]
  },
  {
   "cell_type": "code",
   "execution_count": 161,
   "metadata": {},
   "outputs": [
    {
     "name": "stdout",
     "output_type": "stream",
     "text": [
      "[21, 68, 68, 32, 34, 0]\n"
     ]
    }
   ],
   "source": [
    "L_vraie_copie= Liste.copy()\n",
    "L_vraie_copie[-1]=0\n",
    "print(L_vraie_copie)"
   ]
  },
  {
   "cell_type": "code",
   "execution_count": null,
   "metadata": {},
   "outputs": [],
   "source": []
  },
  {
   "cell_type": "code",
   "execution_count": null,
   "metadata": {},
   "outputs": [],
   "source": []
  },
  {
   "cell_type": "code",
   "execution_count": null,
   "metadata": {},
   "outputs": [],
   "source": []
  }
 ],
 "metadata": {
  "kernelspec": {
   "display_name": "Python 3",
   "language": "python",
   "name": "python3"
  },
  "language_info": {
   "codemirror_mode": {
    "name": "ipython",
    "version": 3
   },
   "file_extension": ".py",
   "mimetype": "text/x-python",
   "name": "python",
   "nbconvert_exporter": "python",
   "pygments_lexer": "ipython3",
   "version": "3.7.4"
  }
 },
 "nbformat": 4,
 "nbformat_minor": 2
}
