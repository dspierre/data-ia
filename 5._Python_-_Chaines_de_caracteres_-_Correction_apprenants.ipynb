{
 "cells": [
  {
   "cell_type": "markdown",
   "metadata": {},
   "source": [
    "# **5. Python - Chaînes de caractères**\n"
   ]
  },
  {
   "cell_type": "markdown",
   "metadata": {},
   "source": [
    "### VEILLE "
   ]
  },
  {
   "cell_type": "markdown",
   "metadata": {},
   "source": [
    "Qu'est ce qu'une chaîne de caractères?"
   ]
  },
  {
   "cell_type": "markdown",
   "metadata": {},
   "source": [
    "On appelle \"chaine de caractères\",(string en anglais) un ensemble de symboles faisant partie d’un jeu de caractères, défini par le code. Elles constituent un type de donnée composite. Autrement dit,une entité bien définie qui est faite elle-même d'un ensemble de caractères. Les chaînes de caractères font partie d'une catégorie d'objets Python que l'on appelle des séquences, et dont font partie aussi les listes et les tuples.\n",
    "\n",
    "Les chaînes sont caractérisées par des \"\" ou ''.  \n",
    "\n",
    "Définie par le code ASCII : code regroupant tous les symboles (lettres, chiffres et symboles de ponctuation).\n",
    "\n",
    "Objet immuables "
   ]
  },
  {
   "cell_type": "markdown",
   "metadata": {},
   "source": [
    "Comment manipule-t-on les chaîne de caractères en Python?"
   ]
  },
  {
   "cell_type": "markdown",
   "metadata": {},
   "source": [
    "Accès indexé à la chaîne [0,...,n-1] où n est la longueur. \n",
    "\n",
    "Concaténation \n",
    "\n",
    "Répétition "
   ]
  },
  {
   "cell_type": "code",
   "execution_count": 1,
   "metadata": {},
   "outputs": [
    {
     "data": {
      "text/plain": [
       "'o'"
      ]
     },
     "execution_count": 1,
     "metadata": {},
     "output_type": "execute_result"
    }
   ],
   "source": [
    "chaine = \"toto\"\n",
    "chaine.index('t') # par la valeur\n",
    "chaine[1] # par l'index"
   ]
  },
  {
   "cell_type": "code",
   "execution_count": 2,
   "metadata": {},
   "outputs": [
    {
     "name": "stdout",
     "output_type": "stream",
     "text": [
      "toto\n"
     ]
    }
   ],
   "source": [
    "chaine2 = \"to\"\n",
    "chaine3 = chaine2 + chaine2\n",
    "print(chaine3)"
   ]
  },
  {
   "cell_type": "code",
   "execution_count": 3,
   "metadata": {},
   "outputs": [
    {
     "name": "stdout",
     "output_type": "stream",
     "text": [
      "totototo\n"
     ]
    }
   ],
   "source": [
    "chaine3 = chaine2*4\n",
    "print(chaine3)"
   ]
  },
  {
   "cell_type": "markdown",
   "metadata": {},
   "source": [
    "Quelle est la librairie utilisée pour manipuler les `vecteurs` en Python?"
   ]
  },
  {
   "cell_type": "raw",
   "metadata": {},
   "source": [
    "librairie Numpy => Array (vecteurs et matrices)\n",
    "\n",
    "librairie pandas => Données (tableaux et autres) \n",
    "\n",
    "libraire matplotlib => librairie représentation graphique "
   ]
  },
  {
   "cell_type": "markdown",
   "metadata": {},
   "source": [
    "Quelle est la commande pour charger une librairie?"
   ]
  },
  {
   "cell_type": "markdown",
   "metadata": {},
   "source": [
    "pip3 install ou pipinstall nomdelalibrairie=> installer une librairie "
   ]
  },
  {
   "cell_type": "markdown",
   "metadata": {},
   "source": [
    "import numpy\n",
    "\n",
    "import numpy as np \n",
    "\n",
    "import numpy.`nomdelafonction`\n",
    "\n",
    "from numpy import `nomdelafonction`\n",
    "\n",
    "from numpy import *"
   ]
  },
  {
   "cell_type": "markdown",
   "metadata": {},
   "source": [
    "## 1)\n",
    "\n",
    "### Créer une chaîne de caractères appelée `chaine` contenant le texte suivant : \"ici C'EST PARIS !!\"\n",
    "\n",
    "### Afficher la longeur de cette chaîne.\n",
    "\n",
    "### Afficher les 3 premiers éléments de la chaîne.\n",
    "\n",
    "### Remplacer le dernier élément par un point d'interrogation. Quelle est la différence avec les listes ?"
   ]
  },
  {
   "cell_type": "code",
   "execution_count": 18,
   "metadata": {},
   "outputs": [],
   "source": [
    "chaine = \"ici C'EST PARIS !!\""
   ]
  },
  {
   "cell_type": "code",
   "execution_count": 19,
   "metadata": {},
   "outputs": [
    {
     "name": "stdout",
     "output_type": "stream",
     "text": [
      "18\n"
     ]
    }
   ],
   "source": [
    "print(len(chaine))"
   ]
  },
  {
   "cell_type": "code",
   "execution_count": 8,
   "metadata": {},
   "outputs": [
    {
     "name": "stdout",
     "output_type": "stream",
     "text": [
      "tot\n"
     ]
    }
   ],
   "source": [
    "print(chaine[0:3])"
   ]
  },
  {
   "cell_type": "code",
   "execution_count": 9,
   "metadata": {},
   "outputs": [
    {
     "ename": "TypeError",
     "evalue": "'str' object does not support item assignment",
     "output_type": "error",
     "traceback": [
      "\u001b[0;31m---------------------------------------------------------------------------\u001b[0m",
      "\u001b[0;31mTypeError\u001b[0m                                 Traceback (most recent call last)",
      "\u001b[0;32m<ipython-input-9-79a83882161a>\u001b[0m in \u001b[0;36m<module>\u001b[0;34m\u001b[0m\n\u001b[0;32m----> 1\u001b[0;31m \u001b[0mchaine\u001b[0m\u001b[0;34m[\u001b[0m\u001b[0;34m-\u001b[0m\u001b[0;36m1\u001b[0m\u001b[0;34m]\u001b[0m \u001b[0;34m=\u001b[0m \u001b[0;34m\"?\"\u001b[0m\u001b[0;34m\u001b[0m\u001b[0;34m\u001b[0m\u001b[0m\n\u001b[0m",
      "\u001b[0;31mTypeError\u001b[0m: 'str' object does not support item assignment"
     ]
    }
   ],
   "source": [
    "chaine[-1] = \"?\""
   ]
  },
  {
   "cell_type": "code",
   "execution_count": 14,
   "metadata": {},
   "outputs": [
    {
     "name": "stdout",
     "output_type": "stream",
     "text": [
      "ici C'EST PARIS !?\n"
     ]
    }
   ],
   "source": [
    "chaine = chaine[:-1] +\"?\"\n",
    "print(chaine)"
   ]
  },
  {
   "cell_type": "code",
   "execution_count": null,
   "metadata": {},
   "outputs": [],
   "source": [
    "# autre possibilité"
   ]
  },
  {
   "cell_type": "code",
   "execution_count": 17,
   "metadata": {},
   "outputs": [
    {
     "name": "stdout",
     "output_type": "stream",
     "text": [
      "['i', 'c', 'i', ' ', 'C', \"'\", 'E', 'S', 'T', ' ', 'P', 'A', 'R', 'I', 'S', ' ', '!', '?']\n",
      "ici C'EST PARIS !?\n"
     ]
    }
   ],
   "source": [
    "chaine = list(\"ici C'EST PARIS !!\")\n",
    "chaine[-1] = \"?\"\n",
    "print(chaine)\n",
    "chaine2 = \"\".join(chaine)\n",
    "print(chaine2)"
   ]
  },
  {
   "cell_type": "markdown",
   "metadata": {},
   "source": [
    "## 2)\n",
    "\n",
    "### Créer une liste `s1` contenant la même chaîne de caractères que `chaine` en majuscules en utilisant la méthode adéquate.\n",
    "\n",
    "### Afficher l'index du caractère\"P\" dans `s1`.\n",
    "\n",
    "### Compter le nombre d'apparitions de \"S\" , de\"s\" et de \"!\"\n",
    "\n",
    "### Remplacer les \"S\" par des \"s\" et stocker cette modification dans une liste `s2`.\n",
    "\n"
   ]
  },
  {
   "cell_type": "code",
   "execution_count": 20,
   "metadata": {},
   "outputs": [
    {
     "name": "stdout",
     "output_type": "stream",
     "text": [
      "ici C'EST PARIS !!\n",
      "['ici', \"C'EST\", 'PARIS', '!!']\n"
     ]
    }
   ],
   "source": [
    "print(chaine)\n",
    "ch1 = chaine.split()\n",
    "print(ch1)\n"
   ]
  },
  {
   "cell_type": "code",
   "execution_count": 21,
   "metadata": {},
   "outputs": [
    {
     "name": "stdout",
     "output_type": "stream",
     "text": [
      "ICI C'EST PARIS !!\n"
     ]
    }
   ],
   "source": [
    "for i in range(2):\n",
    "    ch1[i] = ch1[i].upper()  \n",
    "    \n",
    "s1 = \" \".join(ch1)  \n",
    "print(s1)\n",
    "\n",
    "# Boucle à ne pas utiliser car la méthode upper() applique le traitement à tous les élements de la chaîne automatiquement "
   ]
  },
  {
   "cell_type": "code",
   "execution_count": 22,
   "metadata": {},
   "outputs": [
    {
     "name": "stdout",
     "output_type": "stream",
     "text": [
      "ICI C'EST PARIS !!\n"
     ]
    }
   ],
   "source": [
    "## autre proposition \n",
    "\n",
    "s1 = chaine.upper()\n",
    "print(s1)"
   ]
  },
  {
   "cell_type": "code",
   "execution_count": 23,
   "metadata": {},
   "outputs": [
    {
     "data": {
      "text/plain": [
       "10"
      ]
     },
     "execution_count": 23,
     "metadata": {},
     "output_type": "execute_result"
    }
   ],
   "source": [
    "s1.index(\"P\")"
   ]
  },
  {
   "cell_type": "code",
   "execution_count": 29,
   "metadata": {},
   "outputs": [
    {
     "data": {
      "text/plain": [
       "10"
      ]
     },
     "execution_count": 29,
     "metadata": {},
     "output_type": "execute_result"
    }
   ],
   "source": [
    "s1.find(\"P\")"
   ]
  },
  {
   "cell_type": "code",
   "execution_count": 24,
   "metadata": {},
   "outputs": [
    {
     "data": {
      "text/plain": [
       "2"
      ]
     },
     "execution_count": 24,
     "metadata": {},
     "output_type": "execute_result"
    }
   ],
   "source": [
    "s1.count(\"S\")"
   ]
  },
  {
   "cell_type": "code",
   "execution_count": 25,
   "metadata": {},
   "outputs": [
    {
     "data": {
      "text/plain": [
       "0"
      ]
     },
     "execution_count": 25,
     "metadata": {},
     "output_type": "execute_result"
    }
   ],
   "source": [
    "s1.count(\"s\")"
   ]
  },
  {
   "cell_type": "code",
   "execution_count": 26,
   "metadata": {},
   "outputs": [
    {
     "data": {
      "text/plain": [
       "2"
      ]
     },
     "execution_count": 26,
     "metadata": {},
     "output_type": "execute_result"
    }
   ],
   "source": [
    "s1.count(\"!\")"
   ]
  },
  {
   "cell_type": "code",
   "execution_count": 28,
   "metadata": {},
   "outputs": [
    {
     "name": "stdout",
     "output_type": "stream",
     "text": [
      "ICI C'EsT PARIs !!\n"
     ]
    }
   ],
   "source": [
    "s2 = s1.replace(\"S\",\"s\")\n",
    "print(s2)"
   ]
  },
  {
   "cell_type": "code",
   "execution_count": null,
   "metadata": {},
   "outputs": [],
   "source": []
  },
  {
   "cell_type": "code",
   "execution_count": null,
   "metadata": {},
   "outputs": [],
   "source": []
  },
  {
   "cell_type": "markdown",
   "metadata": {},
   "source": [
    "## 3)\n",
    "\n",
    "### Créer une chaine `s` contenant le texte suivant : \"Le monde tourne à l'envers\" et transformer la en liste.\n",
    "\n",
    "### Créer une liste `decoupe` contenant tous les mots de la chaine `s`.\n",
    "\n",
    "### Créer une chaine `s_tiret` contenant les mots de la chaine `s` séparées par des tirets."
   ]
  },
  {
   "cell_type": "code",
   "execution_count": 31,
   "metadata": {},
   "outputs": [
    {
     "name": "stdout",
     "output_type": "stream",
     "text": [
      "Le monde tourne à l'envers\n",
      "['L', 'e', ' ', 'm', 'o', 'n', 'd', 'e', ' ', 't', 'o', 'u', 'r', 'n', 'e', ' ', 'à', ' ', 'l', \"'\", 'e', 'n', 'v', 'e', 'r', 's']\n"
     ]
    }
   ],
   "source": [
    "s = \"Le monde tourne à l'envers\"\n",
    "print(s)\n",
    "s_liste = list(s)\n",
    "print(s_liste)"
   ]
  },
  {
   "cell_type": "markdown",
   "metadata": {},
   "source": [
    "string.split(separator, maxsplit)"
   ]
  },
  {
   "cell_type": "code",
   "execution_count": 32,
   "metadata": {},
   "outputs": [
    {
     "name": "stdout",
     "output_type": "stream",
     "text": [
      "['Le', 'monde', 'tourne', 'à', \"l'envers\"]\n"
     ]
    }
   ],
   "source": [
    "#decoupe = s.split(\" \") par défaut \n",
    "#decoupe = s.split(separator = \" \", maxplit = -1)\n",
    "#decoupe = s.split(maxplit = -1,separator = \" \")\n",
    "\n",
    "decoupe = s.split()\n",
    "print(decoupe)"
   ]
  },
  {
   "cell_type": "code",
   "execution_count": 36,
   "metadata": {},
   "outputs": [
    {
     "name": "stdout",
     "output_type": "stream",
     "text": [
      "Le-monde-tourne-à-l'envers\n"
     ]
    }
   ],
   "source": [
    "s_tiret = \"-\".join(decoupe)\n",
    "print(s_tiret)"
   ]
  },
  {
   "cell_type": "markdown",
   "metadata": {},
   "source": [
    "## 4)\n",
    "### Coder une fonction `comptage_e` qui prend en entrée une chaîne de caractères et qui compte le nombre de \"e\" ou \"E\" contenue dans cette chaîne. Tester la fonction.\n"
   ]
  },
  {
   "cell_type": "markdown",
   "metadata": {},
   "source": [
    "def NomDeDaFonction(arg1,arg2):\n",
    "    MONCODE\n",
    "    MONCODE\n",
    "    return(resultat)\n",
    "\n",
    "var1 = 5\n",
    "var2 = 6\n",
    "\n",
    "NomDeDaFonction(var1,var2)\n",
    "\n",
    "Les variables du corps de la fonction sont indépe"
   ]
  },
  {
   "cell_type": "code",
   "execution_count": 38,
   "metadata": {},
   "outputs": [
    {
     "data": {
      "text/plain": [
       "10"
      ]
     },
     "execution_count": 38,
     "metadata": {},
     "output_type": "execute_result"
    }
   ],
   "source": [
    "def double( nb ): #nb est une variable locale (interne à la fonction)\n",
    "    return(nb*2)\n",
    "\n",
    "number = 5 # variable globale, un espace lui est alloué en mémoire\n",
    "double(number) # Appel de fonction"
   ]
  },
  {
   "cell_type": "code",
   "execution_count": 39,
   "metadata": {},
   "outputs": [
    {
     "ename": "NameError",
     "evalue": "name 'nb' is not defined",
     "output_type": "error",
     "traceback": [
      "\u001b[0;31m---------------------------------------------------------------------------\u001b[0m",
      "\u001b[0;31mNameError\u001b[0m                                 Traceback (most recent call last)",
      "\u001b[0;32m<ipython-input-39-2a16fbdc1ce6>\u001b[0m in \u001b[0;36m<module>\u001b[0;34m\u001b[0m\n\u001b[0;32m----> 1\u001b[0;31m \u001b[0mprint\u001b[0m\u001b[0;34m(\u001b[0m\u001b[0mnb\u001b[0m\u001b[0;34m)\u001b[0m\u001b[0;34m\u001b[0m\u001b[0;34m\u001b[0m\u001b[0m\n\u001b[0m",
      "\u001b[0;31mNameError\u001b[0m: name 'nb' is not defined"
     ]
    }
   ],
   "source": [
    "print(nb) # nb est une variable locale de la fonction double"
   ]
  },
  {
   "cell_type": "code",
   "execution_count": 40,
   "metadata": {},
   "outputs": [
    {
     "name": "stdout",
     "output_type": "stream",
     "text": [
      "5\n"
     ]
    }
   ],
   "source": [
    "print(number)"
   ]
  },
  {
   "cell_type": "code",
   "execution_count": null,
   "metadata": {},
   "outputs": [],
   "source": [
    "# Correction débute ici"
   ]
  },
  {
   "cell_type": "code",
   "execution_count": 41,
   "metadata": {},
   "outputs": [
    {
     "data": {
      "text/plain": [
       "5"
      ]
     },
     "execution_count": 41,
     "metadata": {},
     "output_type": "execute_result"
    }
   ],
   "source": [
    "s.count(\"e\")"
   ]
  },
  {
   "cell_type": "code",
   "execution_count": 42,
   "metadata": {},
   "outputs": [
    {
     "data": {
      "text/plain": [
       "0"
      ]
     },
     "execution_count": 42,
     "metadata": {},
     "output_type": "execute_result"
    }
   ],
   "source": [
    "s.count(\"E\")"
   ]
  },
  {
   "cell_type": "code",
   "execution_count": null,
   "metadata": {},
   "outputs": [],
   "source": [
    "def comptage_e(chaine):\n",
    "    \n",
    "    res = chaine.count(\"e\") + chaine.count(\"E\")# stocke le résultat\n",
    "    \n",
    "    return(res) # retourn le résultat"
   ]
  },
  {
   "cell_type": "code",
   "execution_count": null,
   "metadata": {},
   "outputs": [],
   "source": [
    "def comptage_e(chaine):\n",
    "    \n",
    "    return( chaine.count(\"e\") + chaine.count(\"E\") ) # ne stocke pas et retourne directement le résultat\n"
   ]
  },
  {
   "cell_type": "code",
   "execution_count": 43,
   "metadata": {},
   "outputs": [],
   "source": [
    "## VERSION WILLIAMS QUI UTILISE LES BOUCLES ET LES IF \n",
    "\n",
    "def comptage_e(str): #str =  variable locale\n",
    "    \n",
    "    cpt = 0 # compteur \n",
    "    aa = len(str)# stocker la longueur totale de la chaine\n",
    "    \n",
    "    for i in range(aa): # boucle\n",
    "        #print(str[i]) # test print\n",
    "        a=str[i]\n",
    "        if(a == \"e\" or a == \"E\"): # test si c'est un e ou E\n",
    "            cpt = cpt + 1 #incrémente lorsque c'est un e ou E\n",
    "\n",
    "    return cpt"
   ]
  },
  {
   "cell_type": "code",
   "execution_count": 44,
   "metadata": {},
   "outputs": [
    {
     "data": {
      "text/plain": [
       "5"
      ]
     },
     "execution_count": 44,
     "metadata": {},
     "output_type": "execute_result"
    }
   ],
   "source": [
    "comptage_e(s)"
   ]
  },
  {
   "cell_type": "markdown",
   "metadata": {},
   "source": [
    "## 5)\n",
    "\n",
    "### Coder une fonction `count_voyelle` qui demande la saisie d'une chaîne de caractères et qui retourne le nombre d'apparitions de voyelles dans cette chaîne avec un affichage : \n",
    "\n",
    "** Dans \"chaine\": \"a\" apparaît x fois \"e\" n'apparaît pas ..... **"
   ]
  },
  {
   "cell_type": "code",
   "execution_count": 68,
   "metadata": {},
   "outputs": [],
   "source": [
    "def count_voyelle(chaine):\n",
    "    \n",
    "    #liste_voyelle ='aeiouyAEIOUY' # Option 1\n",
    "    chaine = chaine.upper() #option 2 ou lower \n",
    "    liste_voyelle = \"AEIOUY\"\n",
    "    resultat = []\n",
    "    \n",
    "    for v in range(len(liste_voyelle)):\n",
    "        #print(v)\n",
    "        resultat.append(chaine.count(liste_voyelle[v]))\n",
    "        print(\"Dans\",chaine,\",\",liste_voyelle[v],\",apparait\",resultat[v],\"fois.\")\n",
    "    \n",
    "    return(resultat)\n",
    "    "
   ]
  },
  {
   "cell_type": "code",
   "execution_count": 70,
   "metadata": {},
   "outputs": [
    {
     "name": "stdout",
     "output_type": "stream",
     "text": [
      "Dans LE MONDE TOURNE À L'ENVERS , A ,apparait 0 fois\n",
      "Dans LE MONDE TOURNE À L'ENVERS , E ,apparait 5 fois\n",
      "Dans LE MONDE TOURNE À L'ENVERS , I ,apparait 0 fois\n",
      "Dans LE MONDE TOURNE À L'ENVERS , O ,apparait 2 fois\n",
      "Dans LE MONDE TOURNE À L'ENVERS , U ,apparait 1 fois\n",
      "Dans LE MONDE TOURNE À L'ENVERS , Y ,apparait 0 fois\n"
     ]
    },
    {
     "data": {
      "text/plain": [
       "[0, 5, 0, 2, 1, 0]"
      ]
     },
     "execution_count": 70,
     "metadata": {},
     "output_type": "execute_result"
    }
   ],
   "source": [
    "#s='abcdef'\n",
    "s = \"Le monde tourne à l'envers\"\n",
    "count_voyelle(s)"
   ]
  },
  {
   "cell_type": "code",
   "execution_count": null,
   "metadata": {},
   "outputs": [],
   "source": []
  },
  {
   "cell_type": "code",
   "execution_count": 44,
   "metadata": {},
   "outputs": [],
   "source": [
    "# Correction Samira \n",
    "def count_voyelle():\n",
    "    chaine = input(\"Saisir une chaine de caractères: \")\n",
    "    \n",
    "    count = []\n",
    "    voy = list(\"aeiouAEIOU\")\n",
    "    \n",
    "    for i in voy:\n",
    "        count.append(chaine.count(i))\n",
    "    #print(count)\n",
    "    \n",
    "    print('\\n')\n",
    "\n",
    "    print(\" Dans la chaîne :\",chaine.upper())\n",
    "    print('\\n')\n",
    "    #print(count[0]+count[0+5])\n",
    "\n",
    "    for i in range(5):\n",
    "        \n",
    "        if count[i] == 0:\n",
    "            print(\"La lettre\", voy[i],\" n'apparait pas\")\n",
    "            print(\"\".center(40, '-'))\n",
    "            print('\\n')\n",
    "\n",
    "            \n",
    "\n",
    "        else:\n",
    "            print(\"La lettre\", voy[i],\" apparait \",(count[i-1]+count[(i-1)+5]),\"fois\")\n",
    "            print(\"\".center(40, '-'))\n",
    "            print('\\n')\n",
    "\n",
    "\n",
    "    \n",
    "    \n",
    "    \n",
    "    "
   ]
  },
  {
   "cell_type": "code",
   "execution_count": 45,
   "metadata": {},
   "outputs": [
    {
     "name": "stdout",
     "output_type": "stream",
     "text": [
      "Saisir une chaine de caractères: Salut !\n",
      "\n",
      "\n",
      " Dans la chaîne : SALUT !\n",
      "\n",
      "\n",
      "La lettre a  apparait  1 fois\n",
      "----------------------------------------\n",
      "\n",
      "\n",
      "La lettre e  n'apparait pas\n",
      "----------------------------------------\n",
      "\n",
      "\n",
      "La lettre i  n'apparait pas\n",
      "----------------------------------------\n",
      "\n",
      "\n",
      "La lettre o  n'apparait pas\n",
      "----------------------------------------\n",
      "\n",
      "\n",
      "La lettre u  apparait  0 fois\n",
      "----------------------------------------\n",
      "\n",
      "\n"
     ]
    }
   ],
   "source": [
    "count_voyelle()"
   ]
  },
  {
   "cell_type": "code",
   "execution_count": null,
   "metadata": {},
   "outputs": [],
   "source": [
    "# Correction d'AMBRE \n",
    "def count_voyelle(str):\n",
    "    str = input()\n",
    "\n",
    "    print(\"Dans\",str,\":\")\n",
    "\n",
    "    a = str.count('a') + str.count('A')\n",
    "\n",
    "    if a > 0:\n",
    "        print(\"'a' apparaît \",a,\" fois\")\n",
    "    else:\n",
    "        print(\"'a' n'apparaît pas\")\n",
    "\n",
    "\n",
    "    e = str.count('e') + str.count('E')\n",
    "\n",
    "    if e > 0:\n",
    "        print(\"'e' apparaît \",e,\" fois\")\n",
    "    else:\n",
    "        print(\"'e' n'apparaît pas\")\n",
    "\n",
    "\n",
    "    i = str.count('i') + str.count('I')\n",
    "\n",
    "    if i > 0:\n",
    "        print(\"'i' apparaît \",i,\" fois\")\n",
    "    else:\n",
    "        print(\"'i' n'apparaît pas\")\n",
    "\n",
    "\n",
    "    o = str.count('o') + str.count('O')\n",
    "\n",
    "    if o > 0:\n",
    "        print(\"'o' apparaît \",o,\" fois\")\n",
    "    else:\n",
    "        print(\"'o' n'apparaît pas\")\n",
    "\n",
    "\n",
    "    u = str.count('u') + str.count('U')\n",
    "\n",
    "    if u > 0:\n",
    "        print(\"'u' apparaît \",u,\" fois\")\n",
    "    else:\n",
    "        print(\"'u' n'apparaît pas\")\n",
    "\n",
    "\n",
    "    y = str.count('y') + str.count('Y')\n",
    "\n",
    "    if y > 0:\n",
    "        print(\"'y' apparaît \",y,\" fois\")\n",
    "    else:\n",
    "        print(\"'y' n'apparaît pas\")\n",
    "\n",
    "\n",
    "count_voyelle(str)"
   ]
  },
  {
   "cell_type": "code",
   "execution_count": null,
   "metadata": {},
   "outputs": [],
   "source": [
    "# Correction de WILLIAMS \n",
    "def count_voyelle(str12):\n",
    "    \n",
    "    str12 = str12.lower()\n",
    "    tabvoy = []\n",
    "    cpt = 0\n",
    "    aa = len(str12)\n",
    "    L = []\n",
    "    voyelle = [\"a\",\"e\",\"i\",\"o\",\"u\",\"y\"]\n",
    "    for i in range(aa):\n",
    "        for j in voyelle:\n",
    "            if (str12[i] == j):\n",
    "                tabvoy.append(str12[i])\n",
    "                sepa = ','\n",
    "                jt = (sepa.join(tabvoy))\n",
    "                s_tiret = \"\"\n",
    "                for k in tabvoy:\n",
    "                    s_tiret = s_tiret + k + \"\"\n",
    "                    str_count1 = s_tiret.count('')\n",
    "                    cpt1 = str_count1-1\n",
    "\n",
    "    for k in range(0, cpt1):\n",
    "        if s_tiret[k] not in L:\n",
    "            L.append(s_tiret[k])\n",
    "            print(\"le caractere \", \"' \", s_tiret[k], \"' \", \"figure \", s_tiret.count(s_tiret[k]), \"fois dans la chaine de caractère\")\n",
    "            voyelle.remove(s_tiret[k])\n",
    "\n",
    "    for l in voyelle:\n",
    "        print(\"' \", l, \"' \", \" n'apparaît pas dans la chaine de caractere\")"
   ]
  },
  {
   "cell_type": "code",
   "execution_count": null,
   "metadata": {},
   "outputs": [],
   "source": [
    "# Correction Pierre-Marie\n",
    "compteur_voyelles = 0\n",
    "for lettre in une_chaine :\n",
    "    if lettre in \"aeiouyAEIOUY\":\n",
    "        print (lettre, \"est une voyelle\")\n",
    "        compteur_voyelles = compteur_voyelles + 1\n",
    "    else :\n",
    "        compteur_consonnes = compteur_consonnes + 1\n",
    "print (\"Il y a, dans cette phrase,\",compteur_voyelles,\"voyelle(s),\")\n"
   ]
  }
 ],
 "metadata": {
  "kernelspec": {
   "display_name": "Python 3",
   "language": "python",
   "name": "python3"
  },
  "language_info": {
   "codemirror_mode": {
    "name": "ipython",
    "version": 3
   },
   "file_extension": ".py",
   "mimetype": "text/x-python",
   "name": "python",
   "nbconvert_exporter": "python",
   "pygments_lexer": "ipython3",
   "version": "3.7.3"
  }
 },
 "nbformat": 4,
 "nbformat_minor": 2
}
