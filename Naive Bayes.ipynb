{
 "cells": [
  {
   "cell_type": "markdown",
   "metadata": {
    "_cell_guid": "de05512e-6991-44df-9599-da92a7e459ac",
    "_uuid": "d8bdd5f0320e244e4702ed8ec1c2482b022c51cd"
   },
   "source": [
    "# Naive Bayes\n",
    "\n",
    "### 1. Import des libraries utiles"
   ]
  },
  {
   "cell_type": "code",
   "execution_count": 28,
   "metadata": {},
   "outputs": [],
   "source": [
    "import numpy as np\n",
    "import matplotlib.pyplot as plt\n",
    "import pandas as pd\n",
    "import seaborn as sns\n",
    "\n",
    "from sklearn.preprocessing import StandardScaler\n",
    "from sklearn.naive_bayes import GaussianNB, MultinomialNB, ComplementNB, BernoulliNB, CategoricalNB\n",
    "from sklearn.datasets import make_classification\n",
    "from sklearn.model_selection import train_test_split, GridSearchCV\n",
    "from sklearn.feature_extraction.text import CountVectorizer\n",
    "from sklearn.metrics import classification_report\n",
    "\n",
    "from collections import Counter"
   ]
  },
  {
   "cell_type": "markdown",
   "metadata": {
    "_cell_guid": "e0a17223-f682-45fc-89a5-667af9782bbe",
    "_uuid": "7964157913fbcff581fc1929eed487708e81ac9c"
   },
   "source": [
    "### 2. Traitement du dataset (idem SVM)"
   ]
  },
  {
   "cell_type": "code",
   "execution_count": 10,
   "metadata": {},
   "outputs": [],
   "source": [
    "sms = pd.read_csv('SMS_spam.csv', encoding='latin-1')\n",
    "\n",
    "sms.drop(sms.columns[range(2,5)],axis=1,inplace=True)\n",
    "\n",
    "vec = CountVectorizer(stop_words = 'english')\n",
    "X = vec.fit_transform(sms.v2).toarray()\n",
    "is_spam = sms.v1.map({'spam':1,'ham':0})\n",
    "\n",
    "y = sms.v1\n",
    "X_train, X_test, Y_train, Y_test = train_test_split(X, y, test_size=0.3,random_state=1,stratify=y)"
   ]
  },
  {
   "cell_type": "markdown",
   "metadata": {
    "_cell_guid": "c833cbf5-74db-44ff-90fa-b600ff0a09d7",
    "_uuid": "39dbc095f99dcec6d25a7a4561e81bb641078622"
   },
   "source": [
    " ### 3. Modélisation et Performances"
   ]
  },
  {
   "cell_type": "code",
   "execution_count": 36,
   "metadata": {},
   "outputs": [
    {
     "name": "stdout",
     "output_type": "stream",
     "text": [
      "0.9 {'var_smoothing': 0.001}\n",
      "['ham' 'ham' 'ham' ... 'ham' 'ham' 'ham'] ['spam' 'ham' 'ham' ... 'spam' 'ham' 'spam']\n",
      "              precision    recall  f1-score   support\n",
      "\n",
      "         ham       1.00      0.94      0.97      3377\n",
      "        spam       0.71      1.00      0.83       523\n",
      "\n",
      "    accuracy                           0.94      3900\n",
      "   macro avg       0.85      0.97      0.90      3900\n",
      "weighted avg       0.96      0.94      0.95      3900\n",
      " \n",
      "               precision    recall  f1-score   support\n",
      "\n",
      "         ham       0.99      0.89      0.94      1448\n",
      "        spam       0.57      0.95      0.71       224\n",
      "\n",
      "    accuracy                           0.90      1672\n",
      "   macro avg       0.78      0.92      0.82      1672\n",
      "weighted avg       0.93      0.90      0.91      1672\n",
      "\n"
     ]
    }
   ],
   "source": [
    "#1 paramètres grid pour GaussianNB\n",
    "param_grid = {'var_smoothing': np.logspace(0,-9, num=4)}\n",
    "param_grid\n",
    "#2 fit\n",
    "gscv = GridSearchCV(\n",
    "    GaussianNB(),\n",
    "    param_grid,\n",
    "    cv = 3)\n",
    "gscv.fit(X_train,Y_train)\n",
    "#3 best_score et params\n",
    "print(gscv.best_score_,gscv.best_params_)\n",
    "#4 pred\n",
    "best_model = gscv.best_estimator_\n",
    "pred_train = best_model.predict(X_train)\n",
    "pred_test = best_model.predict(X_test)\n",
    "print(pred_train,pred_test)\n",
    "#5 report\n",
    "print(classification_report(Y_train,pred_train),'\\n',classification_report(Y_test,pred_test))"
   ]
  },
  {
   "cell_type": "code",
   "execution_count": 30,
   "metadata": {},
   "outputs": [
    {
     "name": "stdout",
     "output_type": "stream",
     "text": [
      "0.9797435897435897 {'alpha': 1}\n",
      "['ham' 'ham' 'ham' ... 'ham' 'ham' 'ham'] ['spam' 'ham' 'ham' ... 'ham' 'ham' 'spam']\n",
      "              precision    recall  f1-score   support\n",
      "\n",
      "         ham       1.00      1.00      1.00      3377\n",
      "        spam       0.98      0.98      0.98       523\n",
      "\n",
      "    accuracy                           1.00      3900\n",
      "   macro avg       0.99      0.99      0.99      3900\n",
      "weighted avg       1.00      1.00      1.00      3900\n",
      " \n",
      "               precision    recall  f1-score   support\n",
      "\n",
      "         ham       0.99      0.98      0.99      1448\n",
      "        spam       0.90      0.96      0.93       224\n",
      "\n",
      "    accuracy                           0.98      1672\n",
      "   macro avg       0.95      0.97      0.96      1672\n",
      "weighted avg       0.98      0.98      0.98      1672\n",
      "\n"
     ]
    }
   ],
   "source": [
    "#1 paramètres grid pour MultinomialNB\n",
    "param_grid = {'alpha': np.linspace(0.25,1, num=4)}\n",
    "param_grid\n",
    "#2 fit\n",
    "gscv = GridSearchCV(\n",
    "    MultinomialNB(),\n",
    "    param_grid,\n",
    "    cv = 3)\n",
    "gscv.fit(X_train,Y_train)\n",
    "#3 best_score et params\n",
    "print(gscv.best_score_,gscv.best_params_)\n",
    "#4 pred\n",
    "best_model = gscv.best_estimator_\n",
    "pred_train = best_model.predict(X_train)\n",
    "pred_test = best_model.predict(X_test)\n",
    "print(pred_train,pred_test)\n",
    "#5 report\n",
    "print(classification_report(Y_train,pred_train),'\\n',classification_report(Y_test,pred_test))"
   ]
  },
  {
   "cell_type": "code",
   "execution_count": 40,
   "metadata": {},
   "outputs": [
    {
     "name": "stdout",
     "output_type": "stream",
     "text": [
      "0.9382051282051282 {'alpha': 0.25}\n",
      "['ham' 'ham' 'ham' ... 'ham' 'ham' 'ham'] ['spam' 'ham' 'ham' ... 'ham' 'ham' 'spam']\n",
      "              precision    recall  f1-score   support\n",
      "\n",
      "         ham       1.00      0.98      0.99      3377\n",
      "        spam       0.91      0.99      0.95       523\n",
      "\n",
      "    accuracy                           0.99      3900\n",
      "   macro avg       0.95      0.99      0.97      3900\n",
      "weighted avg       0.99      0.99      0.99      3900\n",
      " \n",
      "               precision    recall  f1-score   support\n",
      "\n",
      "         ham       1.00      0.94      0.97      1448\n",
      "        spam       0.72      0.98      0.83       224\n",
      "\n",
      "    accuracy                           0.95      1672\n",
      "   macro avg       0.86      0.96      0.90      1672\n",
      "weighted avg       0.96      0.95      0.95      1672\n",
      "\n"
     ]
    }
   ],
   "source": [
    "#1 paramètres grid pour ComplementNB\n",
    "param_grid = {'alpha': np.linspace(0.25,1, num=4)}\n",
    "param_grid\n",
    "#2 fit\n",
    "gscv = GridSearchCV(\n",
    "    ComplementNB(),\n",
    "    param_grid,\n",
    "    cv = 3)\n",
    "gscv.fit(X_train,Y_train)\n",
    "#3 best_score et params\n",
    "print(gscv.best_score_,gscv.best_params_)\n",
    "#4 pred\n",
    "best_model = gscv.best_estimator_\n",
    "pred_train = best_model.predict(X_train)\n",
    "pred_test = best_model.predict(X_test)\n",
    "print(pred_train,pred_test)\n",
    "#5 report\n",
    "print(classification_report(Y_train,pred_train),'\\n',classification_report(Y_test,pred_test))"
   ]
  },
  {
   "cell_type": "code",
   "execution_count": 41,
   "metadata": {},
   "outputs": [
    {
     "name": "stdout",
     "output_type": "stream",
     "text": [
      "0.9835897435897435 {'alpha': 0.25}\n",
      "['ham' 'ham' 'ham' ... 'ham' 'ham' 'ham'] ['spam' 'ham' 'ham' ... 'ham' 'ham' 'spam']\n",
      "              precision    recall  f1-score   support\n",
      "\n",
      "         ham       0.99      1.00      1.00      3377\n",
      "        spam       1.00      0.97      0.98       523\n",
      "\n",
      "    accuracy                           0.99      3900\n",
      "   macro avg       1.00      0.98      0.99      3900\n",
      "weighted avg       0.99      0.99      0.99      3900\n",
      " \n",
      "               precision    recall  f1-score   support\n",
      "\n",
      "         ham       0.99      0.99      0.99      1448\n",
      "        spam       0.94      0.94      0.94       224\n",
      "\n",
      "    accuracy                           0.98      1672\n",
      "   macro avg       0.97      0.97      0.97      1672\n",
      "weighted avg       0.98      0.98      0.98      1672\n",
      "\n"
     ]
    }
   ],
   "source": [
    "#1 paramètres grid pour BernoulliNB\n",
    "param_grid = {'alpha': np.linspace(0.25,1, num=4),'binarize':}\n",
    "param_grid\n",
    "#2 fit\n",
    "gscv = GridSearchCV(\n",
    "    BernoulliNB(),\n",
    "    param_grid,\n",
    "    cv = 3)\n",
    "gscv.fit(X_train,Y_train)\n",
    "#3 best_score et params\n",
    "print(gscv.best_score_,gscv.best_params_)\n",
    "#4 pred\n",
    "best_model = gscv.best_estimator_\n",
    "pred_train = best_model.predict(X_train)\n",
    "pred_test = best_model.predict(X_test)\n",
    "print(pred_train,pred_test)\n",
    "#5 report\n",
    "print(classification_report(Y_train,pred_train),'\\n',classification_report(Y_test,pred_test))"
   ]
  },
  {
   "cell_type": "markdown",
   "metadata": {},
   "source": [
    "Conclusion : pour is_spam, BernoulliNB semble la méthode la plus précise - ce qui se comprend car variable cible binaire spam/ham"
   ]
  }
 ],
 "metadata": {
  "kernelspec": {
   "display_name": "Python 3",
   "language": "python",
   "name": "python3"
  },
  "language_info": {
   "codemirror_mode": {
    "name": "ipython",
    "version": 3
   },
   "file_extension": ".py",
   "mimetype": "text/x-python",
   "name": "python",
   "nbconvert_exporter": "python",
   "pygments_lexer": "ipython3",
   "version": "3.7.4"
  }
 },
 "nbformat": 4,
 "nbformat_minor": 4
}
