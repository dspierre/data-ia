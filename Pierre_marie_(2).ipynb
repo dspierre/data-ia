{
  "nbformat": 4,
  "nbformat_minor": 0,
  "metadata": {
    "kernelspec": {
      "display_name": "Python 3",
      "language": "python",
      "name": "python3"
    },
    "language_info": {
      "codemirror_mode": {
        "name": "ipython",
        "version": 3
      },
      "file_extension": ".py",
      "mimetype": "text/x-python",
      "name": "python",
      "nbconvert_exporter": "python",
      "pygments_lexer": "ipython3",
      "version": "3.7.6"
    },
    "colab": {
      "name": "Pierre_marie (2).ipynb",
      "provenance": [],
      "collapsed_sections": [],
      "include_colab_link": true
    }
  },
  "cells": [
    {
      "cell_type": "markdown",
      "metadata": {
        "id": "view-in-github",
        "colab_type": "text"
      },
      "source": [
        "<a href=\"https://colab.research.google.com/github/dspierre/data-ia/blob/dspierre-machinelearning/Pierre_marie_(2).ipynb\" target=\"_parent\"><img src=\"https://colab.research.google.com/assets/colab-badge.svg\" alt=\"Open In Colab\"/></a>"
      ]
    },
    {
      "cell_type": "code",
      "metadata": {
        "id": "mIaxRrSVrIPP"
      },
      "source": [
        "import pandas as pd"
      ],
      "execution_count": 1,
      "outputs": []
    },
    {
      "cell_type": "code",
      "metadata": {
        "id": "O1dC2m5xrIPX"
      },
      "source": [
        "df = pd.read_csv('/content/sample_data/pm_dataset.csv')"
      ],
      "execution_count": 3,
      "outputs": []
    },
    {
      "cell_type": "code",
      "metadata": {
        "colab": {
          "base_uri": "https://localhost:8080/",
          "height": 590
        },
        "id": "t76UvU8FrIPY",
        "outputId": "1e4e11bb-0def-40d1-abcb-bfb645249e0a"
      },
      "source": [
        "df"
      ],
      "execution_count": 4,
      "outputs": [
        {
          "output_type": "execute_result",
          "data": {
            "text/html": [
              "<div>\n",
              "<style scoped>\n",
              "    .dataframe tbody tr th:only-of-type {\n",
              "        vertical-align: middle;\n",
              "    }\n",
              "\n",
              "    .dataframe tbody tr th {\n",
              "        vertical-align: top;\n",
              "    }\n",
              "\n",
              "    .dataframe thead th {\n",
              "        text-align: right;\n",
              "    }\n",
              "</style>\n",
              "<table border=\"1\" class=\"dataframe\">\n",
              "  <thead>\n",
              "    <tr style=\"text-align: right;\">\n",
              "      <th></th>\n",
              "      <th>Unnamed: 0</th>\n",
              "      <th>mean_id</th>\n",
              "      <th>mean_organization_id</th>\n",
              "      <th>organization_id</th>\n",
              "      <th>agency_id</th>\n",
              "      <th>origin_history_place_id</th>\n",
              "      <th>destination_history_place_id</th>\n",
              "      <th>trip_distance</th>\n",
              "      <th>trip_base_time</th>\n",
              "      <th>origin_slot_start</th>\n",
              "      <th>origin_slot_end</th>\n",
              "      <th>destination_slot_start</th>\n",
              "      <th>destination_slot_end</th>\n",
              "      <th>origin_arrival_ts</th>\n",
              "      <th>destination_arrival_ts</th>\n",
              "      <th>trip_duration</th>\n",
              "    </tr>\n",
              "  </thead>\n",
              "  <tbody>\n",
              "    <tr>\n",
              "      <th>0</th>\n",
              "      <td>0</td>\n",
              "      <td>53431.0</td>\n",
              "      <td>4258</td>\n",
              "      <td>2693</td>\n",
              "      <td>2694.0</td>\n",
              "      <td>125338</td>\n",
              "      <td>34889</td>\n",
              "      <td>142734.0</td>\n",
              "      <td>9180.0</td>\n",
              "      <td>2020-10-14 05:00:00+00:00</td>\n",
              "      <td>2020-10-14 05:00:00+00:00</td>\n",
              "      <td>2020-10-14 09:15:00+00:00</td>\n",
              "      <td>2020-10-14 09:15:00+00:00</td>\n",
              "      <td>2020-10-14 05:08:11+00:00</td>\n",
              "      <td>2020-10-14 08:41:54+00:00</td>\n",
              "      <td>12823</td>\n",
              "    </tr>\n",
              "    <tr>\n",
              "      <th>1</th>\n",
              "      <td>1</td>\n",
              "      <td>53438.0</td>\n",
              "      <td>4258</td>\n",
              "      <td>2693</td>\n",
              "      <td>2694.0</td>\n",
              "      <td>125338</td>\n",
              "      <td>34889</td>\n",
              "      <td>118589.0</td>\n",
              "      <td>9261.0</td>\n",
              "      <td>2020-10-26 06:00:00+00:00</td>\n",
              "      <td>2020-10-26 06:00:00+00:00</td>\n",
              "      <td>2020-10-26 10:15:00+00:00</td>\n",
              "      <td>2020-10-26 10:15:00+00:00</td>\n",
              "      <td>2020-10-26 06:04:56+00:00</td>\n",
              "      <td>2020-10-26 09:23:27+00:00</td>\n",
              "      <td>11911</td>\n",
              "    </tr>\n",
              "    <tr>\n",
              "      <th>2</th>\n",
              "      <td>2</td>\n",
              "      <td>53420.0</td>\n",
              "      <td>4258</td>\n",
              "      <td>2693</td>\n",
              "      <td>2694.0</td>\n",
              "      <td>35823</td>\n",
              "      <td>104707</td>\n",
              "      <td>234555.0</td>\n",
              "      <td>13708.0</td>\n",
              "      <td>2020-07-29 17:00:00+00:00</td>\n",
              "      <td>2020-07-29 17:00:00+00:00</td>\n",
              "      <td>2020-07-29 21:30:00+00:00</td>\n",
              "      <td>2020-07-29 21:30:00+00:00</td>\n",
              "      <td>2020-07-29 16:04:00+00:00</td>\n",
              "      <td>2020-07-29 19:40:29+00:00</td>\n",
              "      <td>12989</td>\n",
              "    </tr>\n",
              "    <tr>\n",
              "      <th>3</th>\n",
              "      <td>3</td>\n",
              "      <td>53420.0</td>\n",
              "      <td>4258</td>\n",
              "      <td>2693</td>\n",
              "      <td>2694.0</td>\n",
              "      <td>35823</td>\n",
              "      <td>104707</td>\n",
              "      <td>235880.0</td>\n",
              "      <td>13649.0</td>\n",
              "      <td>2020-09-01 17:00:00+00:00</td>\n",
              "      <td>2020-09-01 17:00:00+00:00</td>\n",
              "      <td>2020-09-01 21:30:00+00:00</td>\n",
              "      <td>2020-09-01 21:30:00+00:00</td>\n",
              "      <td>2020-09-01 16:05:43+00:00</td>\n",
              "      <td>2020-09-01 20:55:54+00:00</td>\n",
              "      <td>17411</td>\n",
              "    </tr>\n",
              "    <tr>\n",
              "      <th>4</th>\n",
              "      <td>4</td>\n",
              "      <td>46011.0</td>\n",
              "      <td>4018</td>\n",
              "      <td>2693</td>\n",
              "      <td>2694.0</td>\n",
              "      <td>125338</td>\n",
              "      <td>33769</td>\n",
              "      <td>36567.0</td>\n",
              "      <td>4165.0</td>\n",
              "      <td>2020-10-09 07:30:00+00:00</td>\n",
              "      <td>2020-10-09 07:30:00+00:00</td>\n",
              "      <td>2020-10-09 10:30:00+00:00</td>\n",
              "      <td>2020-10-09 10:30:00+00:00</td>\n",
              "      <td>2020-10-09 07:13:48+00:00</td>\n",
              "      <td>2020-10-09 10:01:11+00:00</td>\n",
              "      <td>10043</td>\n",
              "    </tr>\n",
              "    <tr>\n",
              "      <th>...</th>\n",
              "      <td>...</td>\n",
              "      <td>...</td>\n",
              "      <td>...</td>\n",
              "      <td>...</td>\n",
              "      <td>...</td>\n",
              "      <td>...</td>\n",
              "      <td>...</td>\n",
              "      <td>...</td>\n",
              "      <td>...</td>\n",
              "      <td>...</td>\n",
              "      <td>...</td>\n",
              "      <td>...</td>\n",
              "      <td>...</td>\n",
              "      <td>...</td>\n",
              "      <td>...</td>\n",
              "      <td>...</td>\n",
              "    </tr>\n",
              "    <tr>\n",
              "      <th>105107</th>\n",
              "      <td>105107</td>\n",
              "      <td>31374.0</td>\n",
              "      <td>1273</td>\n",
              "      <td>2693</td>\n",
              "      <td>2694.0</td>\n",
              "      <td>35823</td>\n",
              "      <td>104710</td>\n",
              "      <td>244617.0</td>\n",
              "      <td>14763.0</td>\n",
              "      <td>2020-08-12 22:30:00+00:00</td>\n",
              "      <td>2020-08-12 22:30:00+00:00</td>\n",
              "      <td>2020-08-13 04:30:00+00:00</td>\n",
              "      <td>2020-08-13 04:30:00+00:00</td>\n",
              "      <td>2020-08-12 22:24:00+00:00</td>\n",
              "      <td>2020-08-13 03:34:28+00:00</td>\n",
              "      <td>18628</td>\n",
              "    </tr>\n",
              "    <tr>\n",
              "      <th>105108</th>\n",
              "      <td>105108</td>\n",
              "      <td>31374.0</td>\n",
              "      <td>1273</td>\n",
              "      <td>2693</td>\n",
              "      <td>2694.0</td>\n",
              "      <td>35823</td>\n",
              "      <td>34386</td>\n",
              "      <td>283926.0</td>\n",
              "      <td>16759.0</td>\n",
              "      <td>2020-06-29 09:00:00+00:00</td>\n",
              "      <td>2020-06-29 09:00:00+00:00</td>\n",
              "      <td>2020-06-29 15:00:00+00:00</td>\n",
              "      <td>2020-06-29 15:00:00+00:00</td>\n",
              "      <td>2020-06-29 08:20:21+00:00</td>\n",
              "      <td>2020-06-29 14:28:54+00:00</td>\n",
              "      <td>22113</td>\n",
              "    </tr>\n",
              "    <tr>\n",
              "      <th>105109</th>\n",
              "      <td>105109</td>\n",
              "      <td>109263.0</td>\n",
              "      <td>1273</td>\n",
              "      <td>2693</td>\n",
              "      <td>2694.0</td>\n",
              "      <td>45572</td>\n",
              "      <td>114126</td>\n",
              "      <td>22230.0</td>\n",
              "      <td>2917.0</td>\n",
              "      <td>2020-07-03 01:30:00+00:00</td>\n",
              "      <td>2020-07-03 01:30:00+00:00</td>\n",
              "      <td>2020-07-03 03:00:00+00:00</td>\n",
              "      <td>2020-07-03 03:00:00+00:00</td>\n",
              "      <td>2020-07-03 00:55:30+00:00</td>\n",
              "      <td>2020-07-03 02:47:00+00:00</td>\n",
              "      <td>6690</td>\n",
              "    </tr>\n",
              "    <tr>\n",
              "      <th>105110</th>\n",
              "      <td>105110</td>\n",
              "      <td>49677.0</td>\n",
              "      <td>1273</td>\n",
              "      <td>2693</td>\n",
              "      <td>2694.0</td>\n",
              "      <td>35823</td>\n",
              "      <td>25931</td>\n",
              "      <td>31404.0</td>\n",
              "      <td>3240.0</td>\n",
              "      <td>2020-06-08 08:00:00+00:00</td>\n",
              "      <td>2020-06-08 08:00:00+00:00</td>\n",
              "      <td>2020-06-08 10:30:00+00:00</td>\n",
              "      <td>NaN</td>\n",
              "      <td>2020-06-08 07:04:13+00:00</td>\n",
              "      <td>2020-06-08 08:13:29+00:00</td>\n",
              "      <td>4156</td>\n",
              "    </tr>\n",
              "    <tr>\n",
              "      <th>105111</th>\n",
              "      <td>105111</td>\n",
              "      <td>33643.0</td>\n",
              "      <td>1273</td>\n",
              "      <td>2693</td>\n",
              "      <td>2694.0</td>\n",
              "      <td>35823</td>\n",
              "      <td>37263</td>\n",
              "      <td>241841.0</td>\n",
              "      <td>14044.0</td>\n",
              "      <td>2020-09-04 08:00:00+00:00</td>\n",
              "      <td>2020-09-04 08:00:00+00:00</td>\n",
              "      <td>2020-09-04 14:00:00+00:00</td>\n",
              "      <td>2020-09-04 14:00:00+00:00</td>\n",
              "      <td>2020-09-04 07:42:34+00:00</td>\n",
              "      <td>2020-09-04 13:47:12+00:00</td>\n",
              "      <td>21878</td>\n",
              "    </tr>\n",
              "  </tbody>\n",
              "</table>\n",
              "<p>105112 rows × 16 columns</p>\n",
              "</div>"
            ],
            "text/plain": [
              "        Unnamed: 0   mean_id  ...     destination_arrival_ts  trip_duration\n",
              "0                0   53431.0  ...  2020-10-14 08:41:54+00:00          12823\n",
              "1                1   53438.0  ...  2020-10-26 09:23:27+00:00          11911\n",
              "2                2   53420.0  ...  2020-07-29 19:40:29+00:00          12989\n",
              "3                3   53420.0  ...  2020-09-01 20:55:54+00:00          17411\n",
              "4                4   46011.0  ...  2020-10-09 10:01:11+00:00          10043\n",
              "...            ...       ...  ...                        ...            ...\n",
              "105107      105107   31374.0  ...  2020-08-13 03:34:28+00:00          18628\n",
              "105108      105108   31374.0  ...  2020-06-29 14:28:54+00:00          22113\n",
              "105109      105109  109263.0  ...  2020-07-03 02:47:00+00:00           6690\n",
              "105110      105110   49677.0  ...  2020-06-08 08:13:29+00:00           4156\n",
              "105111      105111   33643.0  ...  2020-09-04 13:47:12+00:00          21878\n",
              "\n",
              "[105112 rows x 16 columns]"
            ]
          },
          "metadata": {
            "tags": []
          },
          "execution_count": 4
        }
      ]
    },
    {
      "cell_type": "code",
      "metadata": {
        "colab": {
          "base_uri": "https://localhost:8080/"
        },
        "id": "1XSC4aZvrIPa",
        "outputId": "30a7810a-3734-4740-cf1d-14de2b802628"
      },
      "source": [
        "type(df['origin_slot_start'])"
      ],
      "execution_count": 5,
      "outputs": [
        {
          "output_type": "execute_result",
          "data": {
            "text/plain": [
              "pandas.core.series.Series"
            ]
          },
          "metadata": {
            "tags": []
          },
          "execution_count": 5
        }
      ]
    },
    {
      "cell_type": "code",
      "metadata": {
        "id": "GV42GVzMrIPa"
      },
      "source": [
        "date = df['origin_slot_start'][0]"
      ],
      "execution_count": 6,
      "outputs": []
    },
    {
      "cell_type": "code",
      "metadata": {
        "id": "6LpORvl1rIPb"
      },
      "source": [
        "import calendar\n",
        "import time \n",
        "from datetime import datetime\n",
        "from pandas import Timestamp\n",
        "def convtime(strtime):\n",
        "    moment = datetime.strptime(strtime, '%Y-%m-%d %H:%M:%S')\n",
        "    return calendar.timegm(moment.timetuple())"
      ],
      "execution_count": 7,
      "outputs": []
    },
    {
      "cell_type": "code",
      "metadata": {
        "id": "X7JoA1xerIPb"
      },
      "source": [
        "import re\n",
        "\n",
        "def split_it(year):\n",
        "    return re.findall('(\\d{4}-\\d{2}-\\d{2} \\d{2}:\\d{2}:\\d{2})', year)"
      ],
      "execution_count": 66,
      "outputs": []
    },
    {
      "cell_type": "code",
      "metadata": {
        "id": "pTL-KHdUrIPd"
      },
      "source": [
        "df['origin_slot_start'] = df['origin_slot_start'].apply(lambda x: split_it(x))"
      ],
      "execution_count": 9,
      "outputs": []
    },
    {
      "cell_type": "code",
      "metadata": {
        "id": "WbLVXvYmrIPd"
      },
      "source": [
        "df['origin_slot_start'] = df['origin_slot_start'].apply(lambda x: ','.join(map(str, x)))"
      ],
      "execution_count": 10,
      "outputs": []
    },
    {
      "cell_type": "code",
      "metadata": {
        "colab": {
          "base_uri": "https://localhost:8080/"
        },
        "id": "GPWQ6ByZrIPe",
        "outputId": "bd0ce974-d837-474a-f184-b8438c571591"
      },
      "source": [
        "df['origin_slot_start']"
      ],
      "execution_count": 11,
      "outputs": [
        {
          "output_type": "execute_result",
          "data": {
            "text/plain": [
              "0         2020-10-14 05:00:00\n",
              "1         2020-10-26 06:00:00\n",
              "2         2020-07-29 17:00:00\n",
              "3         2020-09-01 17:00:00\n",
              "4         2020-10-09 07:30:00\n",
              "                 ...         \n",
              "105107    2020-08-12 22:30:00\n",
              "105108    2020-06-29 09:00:00\n",
              "105109    2020-07-03 01:30:00\n",
              "105110    2020-06-08 08:00:00\n",
              "105111    2020-09-04 08:00:00\n",
              "Name: origin_slot_start, Length: 105112, dtype: object"
            ]
          },
          "metadata": {
            "tags": []
          },
          "execution_count": 11
        }
      ]
    },
    {
      "cell_type": "code",
      "metadata": {
        "colab": {
          "base_uri": "https://localhost:8080/"
        },
        "id": "OEBCRf_SrIPe",
        "outputId": "1c026a68-0fde-4d31-ffdc-d89254acc7fe"
      },
      "source": [
        "type(df['origin_slot_start'])"
      ],
      "execution_count": 12,
      "outputs": [
        {
          "output_type": "execute_result",
          "data": {
            "text/plain": [
              "pandas.core.series.Series"
            ]
          },
          "metadata": {
            "tags": []
          },
          "execution_count": 12
        }
      ]
    },
    {
      "cell_type": "code",
      "metadata": {
        "colab": {
          "base_uri": "https://localhost:8080/",
          "height": 36
        },
        "id": "SV-VoKtsrIPf",
        "outputId": "369980e7-d2a7-4dd1-eea3-ab05ce596a80"
      },
      "source": [
        "date1 =  df['origin_slot_start'][0]\n",
        "date1"
      ],
      "execution_count": 13,
      "outputs": [
        {
          "output_type": "execute_result",
          "data": {
            "application/vnd.google.colaboratory.intrinsic+json": {
              "type": "string"
            },
            "text/plain": [
              "'2020-10-14 05:00:00'"
            ]
          },
          "metadata": {
            "tags": []
          },
          "execution_count": 13
        }
      ]
    },
    {
      "cell_type": "code",
      "metadata": {
        "colab": {
          "base_uri": "https://localhost:8080/"
        },
        "id": "qD0XXTMarIPf",
        "outputId": "755a7414-bcea-4bbd-ee5b-3f37319058c2"
      },
      "source": [
        "print(convtime(date1)) "
      ],
      "execution_count": 14,
      "outputs": [
        {
          "output_type": "stream",
          "text": [
            "1602651600\n"
          ],
          "name": "stdout"
        }
      ]
    },
    {
      "cell_type": "code",
      "metadata": {
        "id": "QK-k74S6rIPf"
      },
      "source": [
        "f = lambda x: convtime(x)"
      ],
      "execution_count": 15,
      "outputs": []
    },
    {
      "cell_type": "code",
      "metadata": {
        "id": "p84fw8zrrIPg"
      },
      "source": [
        "df['origin_slot_start'] = df['origin_slot_start'].apply(f)"
      ],
      "execution_count": 16,
      "outputs": []
    },
    {
      "cell_type": "code",
      "metadata": {
        "colab": {
          "base_uri": "https://localhost:8080/"
        },
        "id": "8mEsx4tirIPg",
        "outputId": "faf9cb22-f157-44f6-f836-e1f2f776b956"
      },
      "source": [
        "df['origin_slot_start'] "
      ],
      "execution_count": 17,
      "outputs": [
        {
          "output_type": "execute_result",
          "data": {
            "text/plain": [
              "0         1602651600\n",
              "1         1603692000\n",
              "2         1596042000\n",
              "3         1598979600\n",
              "4         1602228600\n",
              "             ...    \n",
              "105107    1597271400\n",
              "105108    1593421200\n",
              "105109    1593739800\n",
              "105110    1591603200\n",
              "105111    1599206400\n",
              "Name: origin_slot_start, Length: 105112, dtype: int64"
            ]
          },
          "metadata": {
            "tags": []
          },
          "execution_count": 17
        }
      ]
    },
    {
      "cell_type": "code",
      "metadata": {
        "colab": {
          "base_uri": "https://localhost:8080/",
          "height": 308
        },
        "id": "4Vn-H0QhrIPg",
        "outputId": "865b7ab9-f8f3-4eaa-f97d-a15178e7c1ce"
      },
      "source": [
        "df.head()"
      ],
      "execution_count": 18,
      "outputs": [
        {
          "output_type": "execute_result",
          "data": {
            "text/html": [
              "<div>\n",
              "<style scoped>\n",
              "    .dataframe tbody tr th:only-of-type {\n",
              "        vertical-align: middle;\n",
              "    }\n",
              "\n",
              "    .dataframe tbody tr th {\n",
              "        vertical-align: top;\n",
              "    }\n",
              "\n",
              "    .dataframe thead th {\n",
              "        text-align: right;\n",
              "    }\n",
              "</style>\n",
              "<table border=\"1\" class=\"dataframe\">\n",
              "  <thead>\n",
              "    <tr style=\"text-align: right;\">\n",
              "      <th></th>\n",
              "      <th>Unnamed: 0</th>\n",
              "      <th>mean_id</th>\n",
              "      <th>mean_organization_id</th>\n",
              "      <th>organization_id</th>\n",
              "      <th>agency_id</th>\n",
              "      <th>origin_history_place_id</th>\n",
              "      <th>destination_history_place_id</th>\n",
              "      <th>trip_distance</th>\n",
              "      <th>trip_base_time</th>\n",
              "      <th>origin_slot_start</th>\n",
              "      <th>origin_slot_end</th>\n",
              "      <th>destination_slot_start</th>\n",
              "      <th>destination_slot_end</th>\n",
              "      <th>origin_arrival_ts</th>\n",
              "      <th>destination_arrival_ts</th>\n",
              "      <th>trip_duration</th>\n",
              "    </tr>\n",
              "  </thead>\n",
              "  <tbody>\n",
              "    <tr>\n",
              "      <th>0</th>\n",
              "      <td>0</td>\n",
              "      <td>53431.0</td>\n",
              "      <td>4258</td>\n",
              "      <td>2693</td>\n",
              "      <td>2694.0</td>\n",
              "      <td>125338</td>\n",
              "      <td>34889</td>\n",
              "      <td>142734.0</td>\n",
              "      <td>9180.0</td>\n",
              "      <td>1602651600</td>\n",
              "      <td>2020-10-14 05:00:00+00:00</td>\n",
              "      <td>2020-10-14 09:15:00+00:00</td>\n",
              "      <td>2020-10-14 09:15:00+00:00</td>\n",
              "      <td>2020-10-14 05:08:11+00:00</td>\n",
              "      <td>2020-10-14 08:41:54+00:00</td>\n",
              "      <td>12823</td>\n",
              "    </tr>\n",
              "    <tr>\n",
              "      <th>1</th>\n",
              "      <td>1</td>\n",
              "      <td>53438.0</td>\n",
              "      <td>4258</td>\n",
              "      <td>2693</td>\n",
              "      <td>2694.0</td>\n",
              "      <td>125338</td>\n",
              "      <td>34889</td>\n",
              "      <td>118589.0</td>\n",
              "      <td>9261.0</td>\n",
              "      <td>1603692000</td>\n",
              "      <td>2020-10-26 06:00:00+00:00</td>\n",
              "      <td>2020-10-26 10:15:00+00:00</td>\n",
              "      <td>2020-10-26 10:15:00+00:00</td>\n",
              "      <td>2020-10-26 06:04:56+00:00</td>\n",
              "      <td>2020-10-26 09:23:27+00:00</td>\n",
              "      <td>11911</td>\n",
              "    </tr>\n",
              "    <tr>\n",
              "      <th>2</th>\n",
              "      <td>2</td>\n",
              "      <td>53420.0</td>\n",
              "      <td>4258</td>\n",
              "      <td>2693</td>\n",
              "      <td>2694.0</td>\n",
              "      <td>35823</td>\n",
              "      <td>104707</td>\n",
              "      <td>234555.0</td>\n",
              "      <td>13708.0</td>\n",
              "      <td>1596042000</td>\n",
              "      <td>2020-07-29 17:00:00+00:00</td>\n",
              "      <td>2020-07-29 21:30:00+00:00</td>\n",
              "      <td>2020-07-29 21:30:00+00:00</td>\n",
              "      <td>2020-07-29 16:04:00+00:00</td>\n",
              "      <td>2020-07-29 19:40:29+00:00</td>\n",
              "      <td>12989</td>\n",
              "    </tr>\n",
              "    <tr>\n",
              "      <th>3</th>\n",
              "      <td>3</td>\n",
              "      <td>53420.0</td>\n",
              "      <td>4258</td>\n",
              "      <td>2693</td>\n",
              "      <td>2694.0</td>\n",
              "      <td>35823</td>\n",
              "      <td>104707</td>\n",
              "      <td>235880.0</td>\n",
              "      <td>13649.0</td>\n",
              "      <td>1598979600</td>\n",
              "      <td>2020-09-01 17:00:00+00:00</td>\n",
              "      <td>2020-09-01 21:30:00+00:00</td>\n",
              "      <td>2020-09-01 21:30:00+00:00</td>\n",
              "      <td>2020-09-01 16:05:43+00:00</td>\n",
              "      <td>2020-09-01 20:55:54+00:00</td>\n",
              "      <td>17411</td>\n",
              "    </tr>\n",
              "    <tr>\n",
              "      <th>4</th>\n",
              "      <td>4</td>\n",
              "      <td>46011.0</td>\n",
              "      <td>4018</td>\n",
              "      <td>2693</td>\n",
              "      <td>2694.0</td>\n",
              "      <td>125338</td>\n",
              "      <td>33769</td>\n",
              "      <td>36567.0</td>\n",
              "      <td>4165.0</td>\n",
              "      <td>1602228600</td>\n",
              "      <td>2020-10-09 07:30:00+00:00</td>\n",
              "      <td>2020-10-09 10:30:00+00:00</td>\n",
              "      <td>2020-10-09 10:30:00+00:00</td>\n",
              "      <td>2020-10-09 07:13:48+00:00</td>\n",
              "      <td>2020-10-09 10:01:11+00:00</td>\n",
              "      <td>10043</td>\n",
              "    </tr>\n",
              "  </tbody>\n",
              "</table>\n",
              "</div>"
            ],
            "text/plain": [
              "   Unnamed: 0  mean_id  ...     destination_arrival_ts  trip_duration\n",
              "0           0  53431.0  ...  2020-10-14 08:41:54+00:00          12823\n",
              "1           1  53438.0  ...  2020-10-26 09:23:27+00:00          11911\n",
              "2           2  53420.0  ...  2020-07-29 19:40:29+00:00          12989\n",
              "3           3  53420.0  ...  2020-09-01 20:55:54+00:00          17411\n",
              "4           4  46011.0  ...  2020-10-09 10:01:11+00:00          10043\n",
              "\n",
              "[5 rows x 16 columns]"
            ]
          },
          "metadata": {
            "tags": []
          },
          "execution_count": 18
        }
      ]
    },
    {
      "cell_type": "code",
      "metadata": {
        "id": "Vk5ArVb4sEt4"
      },
      "source": [
        "df['origin_arrival_ts'] = df['origin_arrival_ts'].apply(lambda x: split_it(x))"
      ],
      "execution_count": 22,
      "outputs": []
    },
    {
      "cell_type": "code",
      "metadata": {
        "id": "xNhbaJnqsJdo"
      },
      "source": [
        "df['origin_arrival_ts'] = df['origin_arrival_ts'].apply(lambda x: ','.join(map(str, x)))"
      ],
      "execution_count": 23,
      "outputs": []
    },
    {
      "cell_type": "code",
      "metadata": {
        "colab": {
          "base_uri": "https://localhost:8080/"
        },
        "id": "sNZWIlwyscfG",
        "outputId": "af3370a5-15fd-4039-f6a3-fb01094cc3af"
      },
      "source": [
        "df['origin_arrival_ts']"
      ],
      "execution_count": 27,
      "outputs": [
        {
          "output_type": "execute_result",
          "data": {
            "text/plain": [
              "0         2020-10-14 05:08:11\n",
              "1         2020-10-26 06:04:56\n",
              "2         2020-07-29 16:04:00\n",
              "3         2020-09-01 16:05:43\n",
              "4         2020-10-09 07:13:48\n",
              "                 ...         \n",
              "105107    2020-08-12 22:24:00\n",
              "105108    2020-06-29 08:20:21\n",
              "105109    2020-07-03 00:55:30\n",
              "105110    2020-06-08 07:04:13\n",
              "105111    2020-09-04 07:42:34\n",
              "Name: origin_arrival_ts, Length: 105112, dtype: object"
            ]
          },
          "metadata": {
            "tags": []
          },
          "execution_count": 27
        }
      ]
    },
    {
      "cell_type": "code",
      "metadata": {
        "colab": {
          "base_uri": "https://localhost:8080/"
        },
        "id": "eElWgASCsyfN",
        "outputId": "6b7a38cd-0a5a-40b2-a44a-adcc2ed23517"
      },
      "source": [
        "type(df['origin_arrival_ts'])\r\n"
      ],
      "execution_count": 28,
      "outputs": [
        {
          "output_type": "execute_result",
          "data": {
            "text/plain": [
              "pandas.core.series.Series"
            ]
          },
          "metadata": {
            "tags": []
          },
          "execution_count": 28
        }
      ]
    },
    {
      "cell_type": "code",
      "metadata": {
        "colab": {
          "base_uri": "https://localhost:8080/",
          "height": 36
        },
        "id": "BY92oMgds8WV",
        "outputId": "a4321ac4-6e7e-4e17-cdcf-561643cac392"
      },
      "source": [
        "date2 =  df['origin_arrival_ts'][0]\r\n",
        "date2"
      ],
      "execution_count": 32,
      "outputs": [
        {
          "output_type": "execute_result",
          "data": {
            "application/vnd.google.colaboratory.intrinsic+json": {
              "type": "string"
            },
            "text/plain": [
              "'2020-10-14 05:08:11'"
            ]
          },
          "metadata": {
            "tags": []
          },
          "execution_count": 32
        }
      ]
    },
    {
      "cell_type": "code",
      "metadata": {
        "id": "7LKO-RHntDUu"
      },
      "source": [
        "f = lambda x: convtime(x)"
      ],
      "execution_count": 30,
      "outputs": []
    },
    {
      "cell_type": "code",
      "metadata": {
        "id": "yaiR-ceUtEfn"
      },
      "source": [
        "df['origin_arrival_ts'] = df['origin_arrival_ts'].apply(f)"
      ],
      "execution_count": 33,
      "outputs": []
    },
    {
      "cell_type": "code",
      "metadata": {
        "colab": {
          "base_uri": "https://localhost:8080/"
        },
        "id": "ZIxEAOoytPiU",
        "outputId": "a1790c66-05d4-4902-e165-ab7fae9f8459"
      },
      "source": [
        "df['origin_arrival_ts'] "
      ],
      "execution_count": 34,
      "outputs": [
        {
          "output_type": "execute_result",
          "data": {
            "text/plain": [
              "0         1602652091\n",
              "1         1603692296\n",
              "2         1596038640\n",
              "3         1598976343\n",
              "4         1602227628\n",
              "             ...    \n",
              "105107    1597271040\n",
              "105108    1593418821\n",
              "105109    1593737730\n",
              "105110    1591599853\n",
              "105111    1599205354\n",
              "Name: origin_arrival_ts, Length: 105112, dtype: int64"
            ]
          },
          "metadata": {
            "tags": []
          },
          "execution_count": 34
        }
      ]
    },
    {
      "cell_type": "code",
      "metadata": {
        "colab": {
          "base_uri": "https://localhost:8080/",
          "height": 308
        },
        "id": "oriW9sHxtU0F",
        "outputId": "9978148a-4d64-494c-d112-7fe1d7d00994"
      },
      "source": [
        "df.head()"
      ],
      "execution_count": 35,
      "outputs": [
        {
          "output_type": "execute_result",
          "data": {
            "text/html": [
              "<div>\n",
              "<style scoped>\n",
              "    .dataframe tbody tr th:only-of-type {\n",
              "        vertical-align: middle;\n",
              "    }\n",
              "\n",
              "    .dataframe tbody tr th {\n",
              "        vertical-align: top;\n",
              "    }\n",
              "\n",
              "    .dataframe thead th {\n",
              "        text-align: right;\n",
              "    }\n",
              "</style>\n",
              "<table border=\"1\" class=\"dataframe\">\n",
              "  <thead>\n",
              "    <tr style=\"text-align: right;\">\n",
              "      <th></th>\n",
              "      <th>Unnamed: 0</th>\n",
              "      <th>mean_id</th>\n",
              "      <th>mean_organization_id</th>\n",
              "      <th>organization_id</th>\n",
              "      <th>agency_id</th>\n",
              "      <th>origin_history_place_id</th>\n",
              "      <th>destination_history_place_id</th>\n",
              "      <th>trip_distance</th>\n",
              "      <th>trip_base_time</th>\n",
              "      <th>origin_slot_start</th>\n",
              "      <th>origin_slot_end</th>\n",
              "      <th>destination_slot_start</th>\n",
              "      <th>destination_slot_end</th>\n",
              "      <th>origin_arrival_ts</th>\n",
              "      <th>destination_arrival_ts</th>\n",
              "      <th>trip_duration</th>\n",
              "    </tr>\n",
              "  </thead>\n",
              "  <tbody>\n",
              "    <tr>\n",
              "      <th>0</th>\n",
              "      <td>0</td>\n",
              "      <td>53431.0</td>\n",
              "      <td>4258</td>\n",
              "      <td>2693</td>\n",
              "      <td>2694.0</td>\n",
              "      <td>125338</td>\n",
              "      <td>34889</td>\n",
              "      <td>142734.0</td>\n",
              "      <td>9180.0</td>\n",
              "      <td>1602651600</td>\n",
              "      <td>[2020-10-14 05:00:00]</td>\n",
              "      <td>2020-10-14 09:15:00+00:00</td>\n",
              "      <td>2020-10-14 09:15:00+00:00</td>\n",
              "      <td>1602652091</td>\n",
              "      <td>2020-10-14 08:41:54+00:00</td>\n",
              "      <td>12823</td>\n",
              "    </tr>\n",
              "    <tr>\n",
              "      <th>1</th>\n",
              "      <td>1</td>\n",
              "      <td>53438.0</td>\n",
              "      <td>4258</td>\n",
              "      <td>2693</td>\n",
              "      <td>2694.0</td>\n",
              "      <td>125338</td>\n",
              "      <td>34889</td>\n",
              "      <td>118589.0</td>\n",
              "      <td>9261.0</td>\n",
              "      <td>1603692000</td>\n",
              "      <td>[2020-10-26 06:00:00]</td>\n",
              "      <td>2020-10-26 10:15:00+00:00</td>\n",
              "      <td>2020-10-26 10:15:00+00:00</td>\n",
              "      <td>1603692296</td>\n",
              "      <td>2020-10-26 09:23:27+00:00</td>\n",
              "      <td>11911</td>\n",
              "    </tr>\n",
              "    <tr>\n",
              "      <th>2</th>\n",
              "      <td>2</td>\n",
              "      <td>53420.0</td>\n",
              "      <td>4258</td>\n",
              "      <td>2693</td>\n",
              "      <td>2694.0</td>\n",
              "      <td>35823</td>\n",
              "      <td>104707</td>\n",
              "      <td>234555.0</td>\n",
              "      <td>13708.0</td>\n",
              "      <td>1596042000</td>\n",
              "      <td>[2020-07-29 17:00:00]</td>\n",
              "      <td>2020-07-29 21:30:00+00:00</td>\n",
              "      <td>2020-07-29 21:30:00+00:00</td>\n",
              "      <td>1596038640</td>\n",
              "      <td>2020-07-29 19:40:29+00:00</td>\n",
              "      <td>12989</td>\n",
              "    </tr>\n",
              "    <tr>\n",
              "      <th>3</th>\n",
              "      <td>3</td>\n",
              "      <td>53420.0</td>\n",
              "      <td>4258</td>\n",
              "      <td>2693</td>\n",
              "      <td>2694.0</td>\n",
              "      <td>35823</td>\n",
              "      <td>104707</td>\n",
              "      <td>235880.0</td>\n",
              "      <td>13649.0</td>\n",
              "      <td>1598979600</td>\n",
              "      <td>[2020-09-01 17:00:00]</td>\n",
              "      <td>2020-09-01 21:30:00+00:00</td>\n",
              "      <td>2020-09-01 21:30:00+00:00</td>\n",
              "      <td>1598976343</td>\n",
              "      <td>2020-09-01 20:55:54+00:00</td>\n",
              "      <td>17411</td>\n",
              "    </tr>\n",
              "    <tr>\n",
              "      <th>4</th>\n",
              "      <td>4</td>\n",
              "      <td>46011.0</td>\n",
              "      <td>4018</td>\n",
              "      <td>2693</td>\n",
              "      <td>2694.0</td>\n",
              "      <td>125338</td>\n",
              "      <td>33769</td>\n",
              "      <td>36567.0</td>\n",
              "      <td>4165.0</td>\n",
              "      <td>1602228600</td>\n",
              "      <td>[2020-10-09 07:30:00]</td>\n",
              "      <td>2020-10-09 10:30:00+00:00</td>\n",
              "      <td>2020-10-09 10:30:00+00:00</td>\n",
              "      <td>1602227628</td>\n",
              "      <td>2020-10-09 10:01:11+00:00</td>\n",
              "      <td>10043</td>\n",
              "    </tr>\n",
              "  </tbody>\n",
              "</table>\n",
              "</div>"
            ],
            "text/plain": [
              "   Unnamed: 0  mean_id  ...     destination_arrival_ts  trip_duration\n",
              "0           0  53431.0  ...  2020-10-14 08:41:54+00:00          12823\n",
              "1           1  53438.0  ...  2020-10-26 09:23:27+00:00          11911\n",
              "2           2  53420.0  ...  2020-07-29 19:40:29+00:00          12989\n",
              "3           3  53420.0  ...  2020-09-01 20:55:54+00:00          17411\n",
              "4           4  46011.0  ...  2020-10-09 10:01:11+00:00          10043\n",
              "\n",
              "[5 rows x 16 columns]"
            ]
          },
          "metadata": {
            "tags": []
          },
          "execution_count": 35
        }
      ]
    },
    {
      "cell_type": "code",
      "metadata": {
        "id": "6H4-3SWUtYd9"
      },
      "source": [
        "df['destination_arrival_ts'] = df['destination_arrival_ts'].apply(lambda x: split_it(x))"
      ],
      "execution_count": 56,
      "outputs": []
    },
    {
      "cell_type": "code",
      "metadata": {
        "id": "3Ur6S_Cbtv_B"
      },
      "source": [
        "df['destination_arrival_ts'] = df['destination_arrival_ts'].apply(lambda x: ','.join(map(str, x)))"
      ],
      "execution_count": 57,
      "outputs": []
    },
    {
      "cell_type": "code",
      "metadata": {
        "colab": {
          "base_uri": "https://localhost:8080/"
        },
        "id": "ziDIgKxpt3ux",
        "outputId": "efbfa5ff-51f3-4f6d-9faa-7cb11b356694"
      },
      "source": [
        "df['destination_arrival_ts']"
      ],
      "execution_count": 58,
      "outputs": [
        {
          "output_type": "execute_result",
          "data": {
            "text/plain": [
              "0         2020-10-14 08:41:54\n",
              "1         2020-10-26 09:23:27\n",
              "2         2020-07-29 19:40:29\n",
              "3         2020-09-01 20:55:54\n",
              "4         2020-10-09 10:01:11\n",
              "                 ...         \n",
              "105107    2020-08-13 03:34:28\n",
              "105108    2020-06-29 14:28:54\n",
              "105109    2020-07-03 02:47:00\n",
              "105110    2020-06-08 08:13:29\n",
              "105111    2020-09-04 13:47:12\n",
              "Name: destination_arrival_ts, Length: 105112, dtype: object"
            ]
          },
          "metadata": {
            "tags": []
          },
          "execution_count": 58
        }
      ]
    },
    {
      "cell_type": "code",
      "metadata": {
        "colab": {
          "base_uri": "https://localhost:8080/"
        },
        "id": "Fw6IDW-UuCBR",
        "outputId": "b6bf5115-0ae6-4619-be8b-6aa4d69baf5e"
      },
      "source": [
        "type(df['destination_arrival_ts'])"
      ],
      "execution_count": 59,
      "outputs": [
        {
          "output_type": "execute_result",
          "data": {
            "text/plain": [
              "pandas.core.series.Series"
            ]
          },
          "metadata": {
            "tags": []
          },
          "execution_count": 59
        }
      ]
    },
    {
      "cell_type": "code",
      "metadata": {
        "colab": {
          "base_uri": "https://localhost:8080/",
          "height": 36
        },
        "id": "1dz6HpnNuEpt",
        "outputId": "fe855b36-1ec2-4a0e-8522-6c5815c7bee7"
      },
      "source": [
        "date2 =  df['destination_arrival_ts'][0]\r\n",
        "date2"
      ],
      "execution_count": 60,
      "outputs": [
        {
          "output_type": "execute_result",
          "data": {
            "application/vnd.google.colaboratory.intrinsic+json": {
              "type": "string"
            },
            "text/plain": [
              "'2020-10-14 08:41:54'"
            ]
          },
          "metadata": {
            "tags": []
          },
          "execution_count": 60
        }
      ]
    },
    {
      "cell_type": "code",
      "metadata": {
        "id": "LiHnturIuG2d"
      },
      "source": [
        "f = lambda x: convtime(x)"
      ],
      "execution_count": 61,
      "outputs": []
    },
    {
      "cell_type": "code",
      "metadata": {
        "id": "EaGqkWIluSFd"
      },
      "source": [
        "df['destination_arrival_ts'] = df['destination_arrival_ts'].apply(f)"
      ],
      "execution_count": 62,
      "outputs": []
    },
    {
      "cell_type": "code",
      "metadata": {
        "colab": {
          "base_uri": "https://localhost:8080/"
        },
        "id": "x9qgxS2MuXZf",
        "outputId": "318edc51-2cf3-49f6-edca-33e40e6b61eb"
      },
      "source": [
        "df['destination_arrival_ts'] "
      ],
      "execution_count": 63,
      "outputs": [
        {
          "output_type": "execute_result",
          "data": {
            "text/plain": [
              "0         1602664914\n",
              "1         1603704207\n",
              "2         1596051629\n",
              "3         1598993754\n",
              "4         1602237671\n",
              "             ...    \n",
              "105107    1597289668\n",
              "105108    1593440934\n",
              "105109    1593744420\n",
              "105110    1591604009\n",
              "105111    1599227232\n",
              "Name: destination_arrival_ts, Length: 105112, dtype: int64"
            ]
          },
          "metadata": {
            "tags": []
          },
          "execution_count": 63
        }
      ]
    },
    {
      "cell_type": "code",
      "metadata": {
        "colab": {
          "base_uri": "https://localhost:8080/",
          "height": 308
        },
        "id": "Xj-LGh-AvcFt",
        "outputId": "d31c6fe2-445f-4343-8c10-07b4e6a27f3a"
      },
      "source": [
        "df.head()"
      ],
      "execution_count": 64,
      "outputs": [
        {
          "output_type": "execute_result",
          "data": {
            "text/html": [
              "<div>\n",
              "<style scoped>\n",
              "    .dataframe tbody tr th:only-of-type {\n",
              "        vertical-align: middle;\n",
              "    }\n",
              "\n",
              "    .dataframe tbody tr th {\n",
              "        vertical-align: top;\n",
              "    }\n",
              "\n",
              "    .dataframe thead th {\n",
              "        text-align: right;\n",
              "    }\n",
              "</style>\n",
              "<table border=\"1\" class=\"dataframe\">\n",
              "  <thead>\n",
              "    <tr style=\"text-align: right;\">\n",
              "      <th></th>\n",
              "      <th>Unnamed: 0</th>\n",
              "      <th>mean_id</th>\n",
              "      <th>mean_organization_id</th>\n",
              "      <th>organization_id</th>\n",
              "      <th>agency_id</th>\n",
              "      <th>origin_history_place_id</th>\n",
              "      <th>destination_history_place_id</th>\n",
              "      <th>trip_distance</th>\n",
              "      <th>trip_base_time</th>\n",
              "      <th>origin_slot_start</th>\n",
              "      <th>origin_slot_end</th>\n",
              "      <th>destination_slot_start</th>\n",
              "      <th>destination_slot_end</th>\n",
              "      <th>origin_arrival_ts</th>\n",
              "      <th>destination_arrival_ts</th>\n",
              "      <th>trip_duration</th>\n",
              "    </tr>\n",
              "  </thead>\n",
              "  <tbody>\n",
              "    <tr>\n",
              "      <th>0</th>\n",
              "      <td>0</td>\n",
              "      <td>53431.0</td>\n",
              "      <td>4258</td>\n",
              "      <td>2693</td>\n",
              "      <td>2694.0</td>\n",
              "      <td>125338</td>\n",
              "      <td>34889</td>\n",
              "      <td>142734.0</td>\n",
              "      <td>9180.0</td>\n",
              "      <td>1602651600</td>\n",
              "      <td>[2020-10-14 05:00:00]</td>\n",
              "      <td>1602666900</td>\n",
              "      <td>2020-10-14 09:15:00+00:00</td>\n",
              "      <td>1602652091</td>\n",
              "      <td>1602664914</td>\n",
              "      <td>12823</td>\n",
              "    </tr>\n",
              "    <tr>\n",
              "      <th>1</th>\n",
              "      <td>1</td>\n",
              "      <td>53438.0</td>\n",
              "      <td>4258</td>\n",
              "      <td>2693</td>\n",
              "      <td>2694.0</td>\n",
              "      <td>125338</td>\n",
              "      <td>34889</td>\n",
              "      <td>118589.0</td>\n",
              "      <td>9261.0</td>\n",
              "      <td>1603692000</td>\n",
              "      <td>[2020-10-26 06:00:00]</td>\n",
              "      <td>1603707300</td>\n",
              "      <td>2020-10-26 10:15:00+00:00</td>\n",
              "      <td>1603692296</td>\n",
              "      <td>1603704207</td>\n",
              "      <td>11911</td>\n",
              "    </tr>\n",
              "    <tr>\n",
              "      <th>2</th>\n",
              "      <td>2</td>\n",
              "      <td>53420.0</td>\n",
              "      <td>4258</td>\n",
              "      <td>2693</td>\n",
              "      <td>2694.0</td>\n",
              "      <td>35823</td>\n",
              "      <td>104707</td>\n",
              "      <td>234555.0</td>\n",
              "      <td>13708.0</td>\n",
              "      <td>1596042000</td>\n",
              "      <td>[2020-07-29 17:00:00]</td>\n",
              "      <td>1596058200</td>\n",
              "      <td>2020-07-29 21:30:00+00:00</td>\n",
              "      <td>1596038640</td>\n",
              "      <td>1596051629</td>\n",
              "      <td>12989</td>\n",
              "    </tr>\n",
              "    <tr>\n",
              "      <th>3</th>\n",
              "      <td>3</td>\n",
              "      <td>53420.0</td>\n",
              "      <td>4258</td>\n",
              "      <td>2693</td>\n",
              "      <td>2694.0</td>\n",
              "      <td>35823</td>\n",
              "      <td>104707</td>\n",
              "      <td>235880.0</td>\n",
              "      <td>13649.0</td>\n",
              "      <td>1598979600</td>\n",
              "      <td>[2020-09-01 17:00:00]</td>\n",
              "      <td>1598995800</td>\n",
              "      <td>2020-09-01 21:30:00+00:00</td>\n",
              "      <td>1598976343</td>\n",
              "      <td>1598993754</td>\n",
              "      <td>17411</td>\n",
              "    </tr>\n",
              "    <tr>\n",
              "      <th>4</th>\n",
              "      <td>4</td>\n",
              "      <td>46011.0</td>\n",
              "      <td>4018</td>\n",
              "      <td>2693</td>\n",
              "      <td>2694.0</td>\n",
              "      <td>125338</td>\n",
              "      <td>33769</td>\n",
              "      <td>36567.0</td>\n",
              "      <td>4165.0</td>\n",
              "      <td>1602228600</td>\n",
              "      <td>[2020-10-09 07:30:00]</td>\n",
              "      <td>1602239400</td>\n",
              "      <td>2020-10-09 10:30:00+00:00</td>\n",
              "      <td>1602227628</td>\n",
              "      <td>1602237671</td>\n",
              "      <td>10043</td>\n",
              "    </tr>\n",
              "  </tbody>\n",
              "</table>\n",
              "</div>"
            ],
            "text/plain": [
              "   Unnamed: 0  mean_id  ...  destination_arrival_ts  trip_duration\n",
              "0           0  53431.0  ...              1602664914          12823\n",
              "1           1  53438.0  ...              1603704207          11911\n",
              "2           2  53420.0  ...              1596051629          12989\n",
              "3           3  53420.0  ...              1598993754          17411\n",
              "4           4  46011.0  ...              1602237671          10043\n",
              "\n",
              "[5 rows x 16 columns]"
            ]
          },
          "metadata": {
            "tags": []
          },
          "execution_count": 64
        }
      ]
    },
    {
      "cell_type": "code",
      "metadata": {
        "colab": {
          "base_uri": "https://localhost:8080/",
          "height": 357
        },
        "id": "V5zqXvaiv1eN",
        "outputId": "c32af8a5-984f-4374-dbe2-2252ba84f079"
      },
      "source": [
        "df['origin_slot_end'] = df['origin_slot_end'].apply(lambda x: split_it(x))"
      ],
      "execution_count": 86,
      "outputs": [
        {
          "output_type": "error",
          "ename": "TypeError",
          "evalue": "ignored",
          "traceback": [
            "\u001b[0;31m---------------------------------------------------------------------------\u001b[0m",
            "\u001b[0;31mTypeError\u001b[0m                                 Traceback (most recent call last)",
            "\u001b[0;32m<ipython-input-86-2491d549335e>\u001b[0m in \u001b[0;36m<module>\u001b[0;34m()\u001b[0m\n\u001b[0;32m----> 1\u001b[0;31m \u001b[0mdf\u001b[0m\u001b[0;34m[\u001b[0m\u001b[0;34m'origin_slot_end'\u001b[0m\u001b[0;34m]\u001b[0m \u001b[0;34m=\u001b[0m \u001b[0mdf\u001b[0m\u001b[0;34m[\u001b[0m\u001b[0;34m'origin_slot_end'\u001b[0m\u001b[0;34m]\u001b[0m\u001b[0;34m.\u001b[0m\u001b[0mapply\u001b[0m\u001b[0;34m(\u001b[0m\u001b[0;32mlambda\u001b[0m \u001b[0mx\u001b[0m\u001b[0;34m:\u001b[0m \u001b[0msplit_it\u001b[0m\u001b[0;34m(\u001b[0m\u001b[0mx\u001b[0m\u001b[0;34m)\u001b[0m\u001b[0;34m)\u001b[0m\u001b[0;34m\u001b[0m\u001b[0;34m\u001b[0m\u001b[0m\n\u001b[0m",
            "\u001b[0;32m/usr/local/lib/python3.6/dist-packages/pandas/core/series.py\u001b[0m in \u001b[0;36mapply\u001b[0;34m(self, func, convert_dtype, args, **kwds)\u001b[0m\n\u001b[1;32m   4211\u001b[0m             \u001b[0;32melse\u001b[0m\u001b[0;34m:\u001b[0m\u001b[0;34m\u001b[0m\u001b[0;34m\u001b[0m\u001b[0m\n\u001b[1;32m   4212\u001b[0m                 \u001b[0mvalues\u001b[0m \u001b[0;34m=\u001b[0m \u001b[0mself\u001b[0m\u001b[0;34m.\u001b[0m\u001b[0mastype\u001b[0m\u001b[0;34m(\u001b[0m\u001b[0mobject\u001b[0m\u001b[0;34m)\u001b[0m\u001b[0;34m.\u001b[0m\u001b[0m_values\u001b[0m\u001b[0;34m\u001b[0m\u001b[0;34m\u001b[0m\u001b[0m\n\u001b[0;32m-> 4213\u001b[0;31m                 \u001b[0mmapped\u001b[0m \u001b[0;34m=\u001b[0m \u001b[0mlib\u001b[0m\u001b[0;34m.\u001b[0m\u001b[0mmap_infer\u001b[0m\u001b[0;34m(\u001b[0m\u001b[0mvalues\u001b[0m\u001b[0;34m,\u001b[0m \u001b[0mf\u001b[0m\u001b[0;34m,\u001b[0m \u001b[0mconvert\u001b[0m\u001b[0;34m=\u001b[0m\u001b[0mconvert_dtype\u001b[0m\u001b[0;34m)\u001b[0m\u001b[0;34m\u001b[0m\u001b[0;34m\u001b[0m\u001b[0m\n\u001b[0m\u001b[1;32m   4214\u001b[0m \u001b[0;34m\u001b[0m\u001b[0m\n\u001b[1;32m   4215\u001b[0m         \u001b[0;32mif\u001b[0m \u001b[0mlen\u001b[0m\u001b[0;34m(\u001b[0m\u001b[0mmapped\u001b[0m\u001b[0;34m)\u001b[0m \u001b[0;32mand\u001b[0m \u001b[0misinstance\u001b[0m\u001b[0;34m(\u001b[0m\u001b[0mmapped\u001b[0m\u001b[0;34m[\u001b[0m\u001b[0;36m0\u001b[0m\u001b[0;34m]\u001b[0m\u001b[0;34m,\u001b[0m \u001b[0mSeries\u001b[0m\u001b[0;34m)\u001b[0m\u001b[0;34m:\u001b[0m\u001b[0;34m\u001b[0m\u001b[0;34m\u001b[0m\u001b[0m\n",
            "\u001b[0;32mpandas/_libs/lib.pyx\u001b[0m in \u001b[0;36mpandas._libs.lib.map_infer\u001b[0;34m()\u001b[0m\n",
            "\u001b[0;32m<ipython-input-86-2491d549335e>\u001b[0m in \u001b[0;36m<lambda>\u001b[0;34m(x)\u001b[0m\n\u001b[0;32m----> 1\u001b[0;31m \u001b[0mdf\u001b[0m\u001b[0;34m[\u001b[0m\u001b[0;34m'origin_slot_end'\u001b[0m\u001b[0;34m]\u001b[0m \u001b[0;34m=\u001b[0m \u001b[0mdf\u001b[0m\u001b[0;34m[\u001b[0m\u001b[0;34m'origin_slot_end'\u001b[0m\u001b[0;34m]\u001b[0m\u001b[0;34m.\u001b[0m\u001b[0mapply\u001b[0m\u001b[0;34m(\u001b[0m\u001b[0;32mlambda\u001b[0m \u001b[0mx\u001b[0m\u001b[0;34m:\u001b[0m \u001b[0msplit_it\u001b[0m\u001b[0;34m(\u001b[0m\u001b[0mx\u001b[0m\u001b[0;34m)\u001b[0m\u001b[0;34m)\u001b[0m\u001b[0;34m\u001b[0m\u001b[0;34m\u001b[0m\u001b[0m\n\u001b[0m",
            "\u001b[0;32m<ipython-input-66-0d5c43ee0721>\u001b[0m in \u001b[0;36msplit_it\u001b[0;34m(year)\u001b[0m\n\u001b[1;32m      2\u001b[0m \u001b[0;34m\u001b[0m\u001b[0m\n\u001b[1;32m      3\u001b[0m \u001b[0;32mdef\u001b[0m \u001b[0msplit_it\u001b[0m\u001b[0;34m(\u001b[0m\u001b[0myear\u001b[0m\u001b[0;34m)\u001b[0m\u001b[0;34m:\u001b[0m\u001b[0;34m\u001b[0m\u001b[0;34m\u001b[0m\u001b[0m\n\u001b[0;32m----> 4\u001b[0;31m     \u001b[0;32mreturn\u001b[0m \u001b[0mre\u001b[0m\u001b[0;34m.\u001b[0m\u001b[0mfindall\u001b[0m\u001b[0;34m(\u001b[0m\u001b[0;34m'(\\d{4}-\\d{2}-\\d{2} \\d{2}:\\d{2}:\\d{2})'\u001b[0m\u001b[0;34m,\u001b[0m \u001b[0myear\u001b[0m\u001b[0;34m)\u001b[0m\u001b[0;34m\u001b[0m\u001b[0;34m\u001b[0m\u001b[0m\n\u001b[0m",
            "\u001b[0;32m/usr/lib/python3.6/re.py\u001b[0m in \u001b[0;36mfindall\u001b[0;34m(pattern, string, flags)\u001b[0m\n\u001b[1;32m    220\u001b[0m \u001b[0;34m\u001b[0m\u001b[0m\n\u001b[1;32m    221\u001b[0m     Empty matches are included in the result.\"\"\"\n\u001b[0;32m--> 222\u001b[0;31m     \u001b[0;32mreturn\u001b[0m \u001b[0m_compile\u001b[0m\u001b[0;34m(\u001b[0m\u001b[0mpattern\u001b[0m\u001b[0;34m,\u001b[0m \u001b[0mflags\u001b[0m\u001b[0;34m)\u001b[0m\u001b[0;34m.\u001b[0m\u001b[0mfindall\u001b[0m\u001b[0;34m(\u001b[0m\u001b[0mstring\u001b[0m\u001b[0;34m)\u001b[0m\u001b[0;34m\u001b[0m\u001b[0;34m\u001b[0m\u001b[0m\n\u001b[0m\u001b[1;32m    223\u001b[0m \u001b[0;34m\u001b[0m\u001b[0m\n\u001b[1;32m    224\u001b[0m \u001b[0;32mdef\u001b[0m \u001b[0mfinditer\u001b[0m\u001b[0;34m(\u001b[0m\u001b[0mpattern\u001b[0m\u001b[0;34m,\u001b[0m \u001b[0mstring\u001b[0m\u001b[0;34m,\u001b[0m \u001b[0mflags\u001b[0m\u001b[0;34m=\u001b[0m\u001b[0;36m0\u001b[0m\u001b[0;34m)\u001b[0m\u001b[0;34m:\u001b[0m\u001b[0;34m\u001b[0m\u001b[0;34m\u001b[0m\u001b[0m\n",
            "\u001b[0;31mTypeError\u001b[0m: expected string or bytes-like object"
          ]
        }
      ]
    },
    {
      "cell_type": "code",
      "metadata": {
        "id": "Ai1TIWKTxArO"
      },
      "source": [
        "df['origin_slot_end'] = df['origin_slot_end'].apply(lambda x: ','.join(map(str, x)))"
      ],
      "execution_count": 87,
      "outputs": []
    },
    {
      "cell_type": "code",
      "metadata": {
        "colab": {
          "base_uri": "https://localhost:8080/"
        },
        "id": "Quu5LzX9xNFp",
        "outputId": "421ceb53-1e45-426f-a7f9-f8f4fc1461ae"
      },
      "source": [
        "df['origin_slot_end']"
      ],
      "execution_count": 88,
      "outputs": [
        {
          "output_type": "execute_result",
          "data": {
            "text/plain": [
              "0         2020-10-14 05:00:00\n",
              "1         2020-10-26 06:00:00\n",
              "2         2020-07-29 17:00:00\n",
              "3         2020-09-01 17:00:00\n",
              "4         2020-10-09 07:30:00\n",
              "                 ...         \n",
              "105107    2020-08-12 22:30:00\n",
              "105108    2020-06-29 09:00:00\n",
              "105109    2020-07-03 01:30:00\n",
              "105110    2020-06-08 08:00:00\n",
              "105111    2020-09-04 08:00:00\n",
              "Name: origin_slot_end, Length: 105112, dtype: object"
            ]
          },
          "metadata": {
            "tags": []
          },
          "execution_count": 88
        }
      ]
    },
    {
      "cell_type": "code",
      "metadata": {
        "colab": {
          "base_uri": "https://localhost:8080/"
        },
        "id": "NtApJRi4xR8a",
        "outputId": "0bc4d668-f0dd-45db-c1ea-eef06666ff09"
      },
      "source": [
        "type(df['origin_slot_end'])"
      ],
      "execution_count": 89,
      "outputs": [
        {
          "output_type": "execute_result",
          "data": {
            "text/plain": [
              "pandas.core.series.Series"
            ]
          },
          "metadata": {
            "tags": []
          },
          "execution_count": 89
        }
      ]
    },
    {
      "cell_type": "code",
      "metadata": {
        "colab": {
          "base_uri": "https://localhost:8080/",
          "height": 36
        },
        "id": "G_L3pi7ExWMR",
        "outputId": "190abcc8-72ac-4e2b-90d3-7e08ccc3786a"
      },
      "source": [
        "date2 =  df['origin_slot_end'][0]\r\n",
        "date2"
      ],
      "execution_count": 90,
      "outputs": [
        {
          "output_type": "execute_result",
          "data": {
            "application/vnd.google.colaboratory.intrinsic+json": {
              "type": "string"
            },
            "text/plain": [
              "'2020-10-14 05:00:00'"
            ]
          },
          "metadata": {
            "tags": []
          },
          "execution_count": 90
        }
      ]
    },
    {
      "cell_type": "code",
      "metadata": {
        "id": "QwJJpSXLxb2a"
      },
      "source": [
        "f = lambda x: convtime(x)"
      ],
      "execution_count": 91,
      "outputs": []
    },
    {
      "cell_type": "code",
      "metadata": {
        "id": "i4orjI5lxz-B"
      },
      "source": [
        "df['origin_slot_end'] = df['origin_slot_end'].apply(f)"
      ],
      "execution_count": 92,
      "outputs": []
    },
    {
      "cell_type": "code",
      "metadata": {
        "colab": {
          "base_uri": "https://localhost:8080/"
        },
        "id": "X3hBLIhbyBCl",
        "outputId": "23467433-e5db-482a-a3e3-914a60ff8524"
      },
      "source": [
        "df['origin_slot_end'] "
      ],
      "execution_count": 93,
      "outputs": [
        {
          "output_type": "execute_result",
          "data": {
            "text/plain": [
              "0         1602651600\n",
              "1         1603692000\n",
              "2         1596042000\n",
              "3         1598979600\n",
              "4         1602228600\n",
              "             ...    \n",
              "105107    1597271400\n",
              "105108    1593421200\n",
              "105109    1593739800\n",
              "105110    1591603200\n",
              "105111    1599206400\n",
              "Name: origin_slot_end, Length: 105112, dtype: int64"
            ]
          },
          "metadata": {
            "tags": []
          },
          "execution_count": 93
        }
      ]
    },
    {
      "cell_type": "code",
      "metadata": {
        "colab": {
          "base_uri": "https://localhost:8080/",
          "height": 308
        },
        "id": "qE4mJYWnyZLj",
        "outputId": "3dd9aa70-fe29-4594-d405-e20ad688a551"
      },
      "source": [
        "df.head()"
      ],
      "execution_count": 94,
      "outputs": [
        {
          "output_type": "execute_result",
          "data": {
            "text/html": [
              "<div>\n",
              "<style scoped>\n",
              "    .dataframe tbody tr th:only-of-type {\n",
              "        vertical-align: middle;\n",
              "    }\n",
              "\n",
              "    .dataframe tbody tr th {\n",
              "        vertical-align: top;\n",
              "    }\n",
              "\n",
              "    .dataframe thead th {\n",
              "        text-align: right;\n",
              "    }\n",
              "</style>\n",
              "<table border=\"1\" class=\"dataframe\">\n",
              "  <thead>\n",
              "    <tr style=\"text-align: right;\">\n",
              "      <th></th>\n",
              "      <th>Unnamed: 0</th>\n",
              "      <th>mean_id</th>\n",
              "      <th>mean_organization_id</th>\n",
              "      <th>organization_id</th>\n",
              "      <th>agency_id</th>\n",
              "      <th>origin_history_place_id</th>\n",
              "      <th>destination_history_place_id</th>\n",
              "      <th>trip_distance</th>\n",
              "      <th>trip_base_time</th>\n",
              "      <th>origin_slot_start</th>\n",
              "      <th>origin_slot_end</th>\n",
              "      <th>destination_slot_start</th>\n",
              "      <th>destination_slot_end</th>\n",
              "      <th>origin_arrival_ts</th>\n",
              "      <th>destination_arrival_ts</th>\n",
              "      <th>trip_duration</th>\n",
              "    </tr>\n",
              "  </thead>\n",
              "  <tbody>\n",
              "    <tr>\n",
              "      <th>0</th>\n",
              "      <td>0</td>\n",
              "      <td>53431.0</td>\n",
              "      <td>4258</td>\n",
              "      <td>2693</td>\n",
              "      <td>2694.0</td>\n",
              "      <td>125338</td>\n",
              "      <td>34889</td>\n",
              "      <td>142734.0</td>\n",
              "      <td>9180.0</td>\n",
              "      <td>1602651600</td>\n",
              "      <td>1602651600</td>\n",
              "      <td>1602666900</td>\n",
              "      <td>2020-10-14 09:15:00+00:00</td>\n",
              "      <td>1602652091</td>\n",
              "      <td>1602664914</td>\n",
              "      <td>12823</td>\n",
              "    </tr>\n",
              "    <tr>\n",
              "      <th>1</th>\n",
              "      <td>1</td>\n",
              "      <td>53438.0</td>\n",
              "      <td>4258</td>\n",
              "      <td>2693</td>\n",
              "      <td>2694.0</td>\n",
              "      <td>125338</td>\n",
              "      <td>34889</td>\n",
              "      <td>118589.0</td>\n",
              "      <td>9261.0</td>\n",
              "      <td>1603692000</td>\n",
              "      <td>1603692000</td>\n",
              "      <td>1603707300</td>\n",
              "      <td>2020-10-26 10:15:00+00:00</td>\n",
              "      <td>1603692296</td>\n",
              "      <td>1603704207</td>\n",
              "      <td>11911</td>\n",
              "    </tr>\n",
              "    <tr>\n",
              "      <th>2</th>\n",
              "      <td>2</td>\n",
              "      <td>53420.0</td>\n",
              "      <td>4258</td>\n",
              "      <td>2693</td>\n",
              "      <td>2694.0</td>\n",
              "      <td>35823</td>\n",
              "      <td>104707</td>\n",
              "      <td>234555.0</td>\n",
              "      <td>13708.0</td>\n",
              "      <td>1596042000</td>\n",
              "      <td>1596042000</td>\n",
              "      <td>1596058200</td>\n",
              "      <td>2020-07-29 21:30:00+00:00</td>\n",
              "      <td>1596038640</td>\n",
              "      <td>1596051629</td>\n",
              "      <td>12989</td>\n",
              "    </tr>\n",
              "    <tr>\n",
              "      <th>3</th>\n",
              "      <td>3</td>\n",
              "      <td>53420.0</td>\n",
              "      <td>4258</td>\n",
              "      <td>2693</td>\n",
              "      <td>2694.0</td>\n",
              "      <td>35823</td>\n",
              "      <td>104707</td>\n",
              "      <td>235880.0</td>\n",
              "      <td>13649.0</td>\n",
              "      <td>1598979600</td>\n",
              "      <td>1598979600</td>\n",
              "      <td>1598995800</td>\n",
              "      <td>2020-09-01 21:30:00+00:00</td>\n",
              "      <td>1598976343</td>\n",
              "      <td>1598993754</td>\n",
              "      <td>17411</td>\n",
              "    </tr>\n",
              "    <tr>\n",
              "      <th>4</th>\n",
              "      <td>4</td>\n",
              "      <td>46011.0</td>\n",
              "      <td>4018</td>\n",
              "      <td>2693</td>\n",
              "      <td>2694.0</td>\n",
              "      <td>125338</td>\n",
              "      <td>33769</td>\n",
              "      <td>36567.0</td>\n",
              "      <td>4165.0</td>\n",
              "      <td>1602228600</td>\n",
              "      <td>1602228600</td>\n",
              "      <td>1602239400</td>\n",
              "      <td>2020-10-09 10:30:00+00:00</td>\n",
              "      <td>1602227628</td>\n",
              "      <td>1602237671</td>\n",
              "      <td>10043</td>\n",
              "    </tr>\n",
              "  </tbody>\n",
              "</table>\n",
              "</div>"
            ],
            "text/plain": [
              "   Unnamed: 0  mean_id  ...  destination_arrival_ts  trip_duration\n",
              "0           0  53431.0  ...              1602664914          12823\n",
              "1           1  53438.0  ...              1603704207          11911\n",
              "2           2  53420.0  ...              1596051629          12989\n",
              "3           3  53420.0  ...              1598993754          17411\n",
              "4           4  46011.0  ...              1602237671          10043\n",
              "\n",
              "[5 rows x 16 columns]"
            ]
          },
          "metadata": {
            "tags": []
          },
          "execution_count": 94
        }
      ]
    },
    {
      "cell_type": "code",
      "metadata": {
        "colab": {
          "base_uri": "https://localhost:8080/",
          "height": 357
        },
        "id": "bFNmyJlzyj3Y",
        "outputId": "5fd9377b-100f-436e-cdce-bc84f617568e"
      },
      "source": [
        "df['destination_slot_end'] = df['destination_slot_end'].apply(lambda x: split_it(x))"
      ],
      "execution_count": 104,
      "outputs": [
        {
          "output_type": "error",
          "ename": "TypeError",
          "evalue": "ignored",
          "traceback": [
            "\u001b[0;31m---------------------------------------------------------------------------\u001b[0m",
            "\u001b[0;31mTypeError\u001b[0m                                 Traceback (most recent call last)",
            "\u001b[0;32m<ipython-input-104-eacd053fe3c1>\u001b[0m in \u001b[0;36m<module>\u001b[0;34m()\u001b[0m\n\u001b[0;32m----> 1\u001b[0;31m \u001b[0mdf\u001b[0m\u001b[0;34m[\u001b[0m\u001b[0;34m'destination_slot_end'\u001b[0m\u001b[0;34m]\u001b[0m \u001b[0;34m=\u001b[0m \u001b[0mdf\u001b[0m\u001b[0;34m[\u001b[0m\u001b[0;34m'destination_slot_end'\u001b[0m\u001b[0;34m]\u001b[0m\u001b[0;34m.\u001b[0m\u001b[0mapply\u001b[0m\u001b[0;34m(\u001b[0m\u001b[0;32mlambda\u001b[0m \u001b[0mx\u001b[0m\u001b[0;34m:\u001b[0m \u001b[0msplit_it\u001b[0m\u001b[0;34m(\u001b[0m\u001b[0mx\u001b[0m\u001b[0;34m)\u001b[0m\u001b[0;34m)\u001b[0m\u001b[0;34m\u001b[0m\u001b[0;34m\u001b[0m\u001b[0m\n\u001b[0m",
            "\u001b[0;32m/usr/local/lib/python3.6/dist-packages/pandas/core/series.py\u001b[0m in \u001b[0;36mapply\u001b[0;34m(self, func, convert_dtype, args, **kwds)\u001b[0m\n\u001b[1;32m   4211\u001b[0m             \u001b[0;32melse\u001b[0m\u001b[0;34m:\u001b[0m\u001b[0;34m\u001b[0m\u001b[0;34m\u001b[0m\u001b[0m\n\u001b[1;32m   4212\u001b[0m                 \u001b[0mvalues\u001b[0m \u001b[0;34m=\u001b[0m \u001b[0mself\u001b[0m\u001b[0;34m.\u001b[0m\u001b[0mastype\u001b[0m\u001b[0;34m(\u001b[0m\u001b[0mobject\u001b[0m\u001b[0;34m)\u001b[0m\u001b[0;34m.\u001b[0m\u001b[0m_values\u001b[0m\u001b[0;34m\u001b[0m\u001b[0;34m\u001b[0m\u001b[0m\n\u001b[0;32m-> 4213\u001b[0;31m                 \u001b[0mmapped\u001b[0m \u001b[0;34m=\u001b[0m \u001b[0mlib\u001b[0m\u001b[0;34m.\u001b[0m\u001b[0mmap_infer\u001b[0m\u001b[0;34m(\u001b[0m\u001b[0mvalues\u001b[0m\u001b[0;34m,\u001b[0m \u001b[0mf\u001b[0m\u001b[0;34m,\u001b[0m \u001b[0mconvert\u001b[0m\u001b[0;34m=\u001b[0m\u001b[0mconvert_dtype\u001b[0m\u001b[0;34m)\u001b[0m\u001b[0;34m\u001b[0m\u001b[0;34m\u001b[0m\u001b[0m\n\u001b[0m\u001b[1;32m   4214\u001b[0m \u001b[0;34m\u001b[0m\u001b[0m\n\u001b[1;32m   4215\u001b[0m         \u001b[0;32mif\u001b[0m \u001b[0mlen\u001b[0m\u001b[0;34m(\u001b[0m\u001b[0mmapped\u001b[0m\u001b[0;34m)\u001b[0m \u001b[0;32mand\u001b[0m \u001b[0misinstance\u001b[0m\u001b[0;34m(\u001b[0m\u001b[0mmapped\u001b[0m\u001b[0;34m[\u001b[0m\u001b[0;36m0\u001b[0m\u001b[0;34m]\u001b[0m\u001b[0;34m,\u001b[0m \u001b[0mSeries\u001b[0m\u001b[0;34m)\u001b[0m\u001b[0;34m:\u001b[0m\u001b[0;34m\u001b[0m\u001b[0;34m\u001b[0m\u001b[0m\n",
            "\u001b[0;32mpandas/_libs/lib.pyx\u001b[0m in \u001b[0;36mpandas._libs.lib.map_infer\u001b[0;34m()\u001b[0m\n",
            "\u001b[0;32m<ipython-input-104-eacd053fe3c1>\u001b[0m in \u001b[0;36m<lambda>\u001b[0;34m(x)\u001b[0m\n\u001b[0;32m----> 1\u001b[0;31m \u001b[0mdf\u001b[0m\u001b[0;34m[\u001b[0m\u001b[0;34m'destination_slot_end'\u001b[0m\u001b[0;34m]\u001b[0m \u001b[0;34m=\u001b[0m \u001b[0mdf\u001b[0m\u001b[0;34m[\u001b[0m\u001b[0;34m'destination_slot_end'\u001b[0m\u001b[0;34m]\u001b[0m\u001b[0;34m.\u001b[0m\u001b[0mapply\u001b[0m\u001b[0;34m(\u001b[0m\u001b[0;32mlambda\u001b[0m \u001b[0mx\u001b[0m\u001b[0;34m:\u001b[0m \u001b[0msplit_it\u001b[0m\u001b[0;34m(\u001b[0m\u001b[0mx\u001b[0m\u001b[0;34m)\u001b[0m\u001b[0;34m)\u001b[0m\u001b[0;34m\u001b[0m\u001b[0;34m\u001b[0m\u001b[0m\n\u001b[0m",
            "\u001b[0;32m<ipython-input-66-0d5c43ee0721>\u001b[0m in \u001b[0;36msplit_it\u001b[0;34m(year)\u001b[0m\n\u001b[1;32m      2\u001b[0m \u001b[0;34m\u001b[0m\u001b[0m\n\u001b[1;32m      3\u001b[0m \u001b[0;32mdef\u001b[0m \u001b[0msplit_it\u001b[0m\u001b[0;34m(\u001b[0m\u001b[0myear\u001b[0m\u001b[0;34m)\u001b[0m\u001b[0;34m:\u001b[0m\u001b[0;34m\u001b[0m\u001b[0;34m\u001b[0m\u001b[0m\n\u001b[0;32m----> 4\u001b[0;31m     \u001b[0;32mreturn\u001b[0m \u001b[0mre\u001b[0m\u001b[0;34m.\u001b[0m\u001b[0mfindall\u001b[0m\u001b[0;34m(\u001b[0m\u001b[0;34m'(\\d{4}-\\d{2}-\\d{2} \\d{2}:\\d{2}:\\d{2})'\u001b[0m\u001b[0;34m,\u001b[0m \u001b[0myear\u001b[0m\u001b[0;34m)\u001b[0m\u001b[0;34m\u001b[0m\u001b[0;34m\u001b[0m\u001b[0m\n\u001b[0m",
            "\u001b[0;32m/usr/lib/python3.6/re.py\u001b[0m in \u001b[0;36mfindall\u001b[0;34m(pattern, string, flags)\u001b[0m\n\u001b[1;32m    220\u001b[0m \u001b[0;34m\u001b[0m\u001b[0m\n\u001b[1;32m    221\u001b[0m     Empty matches are included in the result.\"\"\"\n\u001b[0;32m--> 222\u001b[0;31m     \u001b[0;32mreturn\u001b[0m \u001b[0m_compile\u001b[0m\u001b[0;34m(\u001b[0m\u001b[0mpattern\u001b[0m\u001b[0;34m,\u001b[0m \u001b[0mflags\u001b[0m\u001b[0;34m)\u001b[0m\u001b[0;34m.\u001b[0m\u001b[0mfindall\u001b[0m\u001b[0;34m(\u001b[0m\u001b[0mstring\u001b[0m\u001b[0;34m)\u001b[0m\u001b[0;34m\u001b[0m\u001b[0;34m\u001b[0m\u001b[0m\n\u001b[0m\u001b[1;32m    223\u001b[0m \u001b[0;34m\u001b[0m\u001b[0m\n\u001b[1;32m    224\u001b[0m \u001b[0;32mdef\u001b[0m \u001b[0mfinditer\u001b[0m\u001b[0;34m(\u001b[0m\u001b[0mpattern\u001b[0m\u001b[0;34m,\u001b[0m \u001b[0mstring\u001b[0m\u001b[0;34m,\u001b[0m \u001b[0mflags\u001b[0m\u001b[0;34m=\u001b[0m\u001b[0;36m0\u001b[0m\u001b[0;34m)\u001b[0m\u001b[0;34m:\u001b[0m\u001b[0;34m\u001b[0m\u001b[0;34m\u001b[0m\u001b[0m\n",
            "\u001b[0;31mTypeError\u001b[0m: expected string or bytes-like object"
          ]
        }
      ]
    },
    {
      "cell_type": "code",
      "metadata": {
        "id": "70-SgJjmzHkb"
      },
      "source": [
        "df.to_csv (r'C:\\Users\\pierre-marie\\Desktop\\projet_python\\dataframe_dataproccesing2csv')"
      ],
      "execution_count": 101,
      "outputs": []
    },
    {
      "cell_type": "code",
      "metadata": {
        "colab": {
          "base_uri": "https://localhost:8080/",
          "height": 573
        },
        "id": "jMqHyAJS2Myt",
        "outputId": "e09261e5-345a-4c14-b2fb-d2d5ef9a52cd"
      },
      "source": [
        "df"
      ],
      "execution_count": 103,
      "outputs": [
        {
          "output_type": "execute_result",
          "data": {
            "text/html": [
              "<div>\n",
              "<style scoped>\n",
              "    .dataframe tbody tr th:only-of-type {\n",
              "        vertical-align: middle;\n",
              "    }\n",
              "\n",
              "    .dataframe tbody tr th {\n",
              "        vertical-align: top;\n",
              "    }\n",
              "\n",
              "    .dataframe thead th {\n",
              "        text-align: right;\n",
              "    }\n",
              "</style>\n",
              "<table border=\"1\" class=\"dataframe\">\n",
              "  <thead>\n",
              "    <tr style=\"text-align: right;\">\n",
              "      <th></th>\n",
              "      <th>Unnamed: 0</th>\n",
              "      <th>mean_id</th>\n",
              "      <th>mean_organization_id</th>\n",
              "      <th>organization_id</th>\n",
              "      <th>agency_id</th>\n",
              "      <th>origin_history_place_id</th>\n",
              "      <th>destination_history_place_id</th>\n",
              "      <th>trip_distance</th>\n",
              "      <th>trip_base_time</th>\n",
              "      <th>origin_slot_start</th>\n",
              "      <th>origin_slot_end</th>\n",
              "      <th>destination_slot_start</th>\n",
              "      <th>destination_slot_end</th>\n",
              "      <th>origin_arrival_ts</th>\n",
              "      <th>destination_arrival_ts</th>\n",
              "      <th>trip_duration</th>\n",
              "    </tr>\n",
              "  </thead>\n",
              "  <tbody>\n",
              "    <tr>\n",
              "      <th>0</th>\n",
              "      <td>0</td>\n",
              "      <td>53431.0</td>\n",
              "      <td>4258</td>\n",
              "      <td>2693</td>\n",
              "      <td>2694.0</td>\n",
              "      <td>125338</td>\n",
              "      <td>34889</td>\n",
              "      <td>142734.0</td>\n",
              "      <td>9180.0</td>\n",
              "      <td>1602651600</td>\n",
              "      <td>1602651600</td>\n",
              "      <td>1602666900</td>\n",
              "      <td>2020-10-14 09:15:00+00:00</td>\n",
              "      <td>1602652091</td>\n",
              "      <td>1602664914</td>\n",
              "      <td>12823</td>\n",
              "    </tr>\n",
              "    <tr>\n",
              "      <th>1</th>\n",
              "      <td>1</td>\n",
              "      <td>53438.0</td>\n",
              "      <td>4258</td>\n",
              "      <td>2693</td>\n",
              "      <td>2694.0</td>\n",
              "      <td>125338</td>\n",
              "      <td>34889</td>\n",
              "      <td>118589.0</td>\n",
              "      <td>9261.0</td>\n",
              "      <td>1603692000</td>\n",
              "      <td>1603692000</td>\n",
              "      <td>1603707300</td>\n",
              "      <td>2020-10-26 10:15:00+00:00</td>\n",
              "      <td>1603692296</td>\n",
              "      <td>1603704207</td>\n",
              "      <td>11911</td>\n",
              "    </tr>\n",
              "    <tr>\n",
              "      <th>2</th>\n",
              "      <td>2</td>\n",
              "      <td>53420.0</td>\n",
              "      <td>4258</td>\n",
              "      <td>2693</td>\n",
              "      <td>2694.0</td>\n",
              "      <td>35823</td>\n",
              "      <td>104707</td>\n",
              "      <td>234555.0</td>\n",
              "      <td>13708.0</td>\n",
              "      <td>1596042000</td>\n",
              "      <td>1596042000</td>\n",
              "      <td>1596058200</td>\n",
              "      <td>2020-07-29 21:30:00+00:00</td>\n",
              "      <td>1596038640</td>\n",
              "      <td>1596051629</td>\n",
              "      <td>12989</td>\n",
              "    </tr>\n",
              "    <tr>\n",
              "      <th>3</th>\n",
              "      <td>3</td>\n",
              "      <td>53420.0</td>\n",
              "      <td>4258</td>\n",
              "      <td>2693</td>\n",
              "      <td>2694.0</td>\n",
              "      <td>35823</td>\n",
              "      <td>104707</td>\n",
              "      <td>235880.0</td>\n",
              "      <td>13649.0</td>\n",
              "      <td>1598979600</td>\n",
              "      <td>1598979600</td>\n",
              "      <td>1598995800</td>\n",
              "      <td>2020-09-01 21:30:00+00:00</td>\n",
              "      <td>1598976343</td>\n",
              "      <td>1598993754</td>\n",
              "      <td>17411</td>\n",
              "    </tr>\n",
              "    <tr>\n",
              "      <th>4</th>\n",
              "      <td>4</td>\n",
              "      <td>46011.0</td>\n",
              "      <td>4018</td>\n",
              "      <td>2693</td>\n",
              "      <td>2694.0</td>\n",
              "      <td>125338</td>\n",
              "      <td>33769</td>\n",
              "      <td>36567.0</td>\n",
              "      <td>4165.0</td>\n",
              "      <td>1602228600</td>\n",
              "      <td>1602228600</td>\n",
              "      <td>1602239400</td>\n",
              "      <td>2020-10-09 10:30:00+00:00</td>\n",
              "      <td>1602227628</td>\n",
              "      <td>1602237671</td>\n",
              "      <td>10043</td>\n",
              "    </tr>\n",
              "    <tr>\n",
              "      <th>...</th>\n",
              "      <td>...</td>\n",
              "      <td>...</td>\n",
              "      <td>...</td>\n",
              "      <td>...</td>\n",
              "      <td>...</td>\n",
              "      <td>...</td>\n",
              "      <td>...</td>\n",
              "      <td>...</td>\n",
              "      <td>...</td>\n",
              "      <td>...</td>\n",
              "      <td>...</td>\n",
              "      <td>...</td>\n",
              "      <td>...</td>\n",
              "      <td>...</td>\n",
              "      <td>...</td>\n",
              "      <td>...</td>\n",
              "    </tr>\n",
              "    <tr>\n",
              "      <th>105107</th>\n",
              "      <td>105107</td>\n",
              "      <td>31374.0</td>\n",
              "      <td>1273</td>\n",
              "      <td>2693</td>\n",
              "      <td>2694.0</td>\n",
              "      <td>35823</td>\n",
              "      <td>104710</td>\n",
              "      <td>244617.0</td>\n",
              "      <td>14763.0</td>\n",
              "      <td>1597271400</td>\n",
              "      <td>1597271400</td>\n",
              "      <td>1597293000</td>\n",
              "      <td>2020-08-13 04:30:00+00:00</td>\n",
              "      <td>1597271040</td>\n",
              "      <td>1597289668</td>\n",
              "      <td>18628</td>\n",
              "    </tr>\n",
              "    <tr>\n",
              "      <th>105108</th>\n",
              "      <td>105108</td>\n",
              "      <td>31374.0</td>\n",
              "      <td>1273</td>\n",
              "      <td>2693</td>\n",
              "      <td>2694.0</td>\n",
              "      <td>35823</td>\n",
              "      <td>34386</td>\n",
              "      <td>283926.0</td>\n",
              "      <td>16759.0</td>\n",
              "      <td>1593421200</td>\n",
              "      <td>1593421200</td>\n",
              "      <td>1593442800</td>\n",
              "      <td>2020-06-29 15:00:00+00:00</td>\n",
              "      <td>1593418821</td>\n",
              "      <td>1593440934</td>\n",
              "      <td>22113</td>\n",
              "    </tr>\n",
              "    <tr>\n",
              "      <th>105109</th>\n",
              "      <td>105109</td>\n",
              "      <td>109263.0</td>\n",
              "      <td>1273</td>\n",
              "      <td>2693</td>\n",
              "      <td>2694.0</td>\n",
              "      <td>45572</td>\n",
              "      <td>114126</td>\n",
              "      <td>22230.0</td>\n",
              "      <td>2917.0</td>\n",
              "      <td>1593739800</td>\n",
              "      <td>1593739800</td>\n",
              "      <td>1593745200</td>\n",
              "      <td>2020-07-03 03:00:00+00:00</td>\n",
              "      <td>1593737730</td>\n",
              "      <td>1593744420</td>\n",
              "      <td>6690</td>\n",
              "    </tr>\n",
              "    <tr>\n",
              "      <th>105110</th>\n",
              "      <td>105110</td>\n",
              "      <td>49677.0</td>\n",
              "      <td>1273</td>\n",
              "      <td>2693</td>\n",
              "      <td>2694.0</td>\n",
              "      <td>35823</td>\n",
              "      <td>25931</td>\n",
              "      <td>31404.0</td>\n",
              "      <td>3240.0</td>\n",
              "      <td>1591603200</td>\n",
              "      <td>1591603200</td>\n",
              "      <td>1591612200</td>\n",
              "      <td>NaN</td>\n",
              "      <td>1591599853</td>\n",
              "      <td>1591604009</td>\n",
              "      <td>4156</td>\n",
              "    </tr>\n",
              "    <tr>\n",
              "      <th>105111</th>\n",
              "      <td>105111</td>\n",
              "      <td>33643.0</td>\n",
              "      <td>1273</td>\n",
              "      <td>2693</td>\n",
              "      <td>2694.0</td>\n",
              "      <td>35823</td>\n",
              "      <td>37263</td>\n",
              "      <td>241841.0</td>\n",
              "      <td>14044.0</td>\n",
              "      <td>1599206400</td>\n",
              "      <td>1599206400</td>\n",
              "      <td>1599228000</td>\n",
              "      <td>2020-09-04 14:00:00+00:00</td>\n",
              "      <td>1599205354</td>\n",
              "      <td>1599227232</td>\n",
              "      <td>21878</td>\n",
              "    </tr>\n",
              "  </tbody>\n",
              "</table>\n",
              "<p>105112 rows × 16 columns</p>\n",
              "</div>"
            ],
            "text/plain": [
              "        Unnamed: 0   mean_id  ...  destination_arrival_ts  trip_duration\n",
              "0                0   53431.0  ...              1602664914          12823\n",
              "1                1   53438.0  ...              1603704207          11911\n",
              "2                2   53420.0  ...              1596051629          12989\n",
              "3                3   53420.0  ...              1598993754          17411\n",
              "4                4   46011.0  ...              1602237671          10043\n",
              "...            ...       ...  ...                     ...            ...\n",
              "105107      105107   31374.0  ...              1597289668          18628\n",
              "105108      105108   31374.0  ...              1593440934          22113\n",
              "105109      105109  109263.0  ...              1593744420           6690\n",
              "105110      105110   49677.0  ...              1591604009           4156\n",
              "105111      105111   33643.0  ...              1599227232          21878\n",
              "\n",
              "[105112 rows x 16 columns]"
            ]
          },
          "metadata": {
            "tags": []
          },
          "execution_count": 103
        }
      ]
    }
  ]
}