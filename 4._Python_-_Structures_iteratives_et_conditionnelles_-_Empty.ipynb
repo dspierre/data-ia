{
 "cells": [
  {
   "cell_type": "markdown",
   "metadata": {},
   "source": [
    "# **4. Python - Structures itératives et conditionnelles**\n"
   ]
  },
  {
   "cell_type": "markdown",
   "metadata": {},
   "source": [
    "A quoi sert une boucle en programmation?"
   ]
  },
  {
   "cell_type": "markdown",
   "metadata": {},
   "source": [
    "Quels types de boucles existe-t-il?"
   ]
  },
  {
   "cell_type": "markdown",
   "metadata": {},
   "source": [
    "Quelle est la syntaxe des boucles en Python?"
   ]
  },
  {
   "cell_type": "markdown",
   "metadata": {},
   "source": [
    "Comment vérifier des conditions en Python? "
   ]
  },
  {
   "cell_type": "markdown",
   "metadata": {},
   "source": [
    "Quelle est la syntaxe à utiliser pour vérifier une unique condition?"
   ]
  },
  {
   "cell_type": "markdown",
   "metadata": {},
   "source": [
    "Quelle est la syntaxe à utiliser pour vérifier plusieurs conditions?"
   ]
  },
  {
   "cell_type": "markdown",
   "metadata": {},
   "source": [
    "## Boucles for"
   ]
  },
  {
   "cell_type": "markdown",
   "metadata": {},
   "source": [
    "## 1) \n",
    "### En utilisant une boucle, affichez les éléments de la liste `numbers` un à un."
   ]
  },
  {
   "cell_type": "code",
   "execution_count": null,
   "metadata": {},
   "outputs": [],
   "source": [
    "numbers = [12,34,1000,5.5,0,4875]"
   ]
  },
  {
   "cell_type": "markdown",
   "metadata": {},
   "source": [
    "## 2)\n",
    "### Affichez tous les entiers entre 1 et 145."
   ]
  },
  {
   "cell_type": "code",
   "execution_count": null,
   "metadata": {},
   "outputs": [],
   "source": []
  },
  {
   "cell_type": "markdown",
   "metadata": {},
   "source": [
    "## 3) \n",
    "### Créer une variable `char1` contenant la chaîne suivante : \"Python c'est vraiment trop stylé !\" Créer une boucle afin d'afficher chacune des lettres composant la chaîne."
   ]
  },
  {
   "cell_type": "code",
   "execution_count": null,
   "metadata": {},
   "outputs": [],
   "source": []
  },
  {
   "cell_type": "markdown",
   "metadata": {},
   "source": [
    "## 4) \n",
    "### Afficher le nombre d'éléments de la chaine `char1` (espace compris)."
   ]
  },
  {
   "cell_type": "code",
   "execution_count": 3,
   "metadata": {},
   "outputs": [
    {
     "name": "stdout",
     "output_type": "stream",
     "text": [
      "34\n"
     ]
    }
   ],
   "source": []
  },
  {
   "cell_type": "markdown",
   "metadata": {},
   "source": [
    "## 5)\n",
    "### En utilisant une boucle for, comptez le nombre d'éléments de la chaine (espace compris)."
   ]
  },
  {
   "cell_type": "code",
   "execution_count": null,
   "metadata": {},
   "outputs": [],
   "source": []
  },
  {
   "cell_type": "markdown",
   "metadata": {},
   "source": [
    "## 6)\n",
    "### Coder la suite de fibonacci. Le départ de la suite est : (1,1)"
   ]
  },
  {
   "cell_type": "code",
   "execution_count": null,
   "metadata": {},
   "outputs": [],
   "source": []
  },
  {
   "cell_type": "markdown",
   "metadata": {},
   "source": [
    "## Boucles while"
   ]
  },
  {
   "cell_type": "markdown",
   "metadata": {},
   "source": [
    "Exemple"
   ]
  },
  {
   "cell_type": "code",
   "execution_count": 6,
   "metadata": {},
   "outputs": [
    {
     "name": "stdout",
     "output_type": "stream",
     "text": [
      "valeur de i avant la boucle: 1\n",
      "valeur de i dans la boucle: 1\n",
      "valeur de i dans la boucle: 2\n",
      "valeur de i dans la boucle: 3\n",
      "valeur de i dans la boucle: 4\n",
      "valeur de i dans la boucle: 5\n",
      "valeur de i dans la boucle: 6\n",
      "valeur de i dans la boucle: 7\n",
      "valeur de i dans la boucle: 8\n",
      "valeur de i dans la boucle: 9\n",
      "valeur de i dans la boucle: 10\n",
      "valeur de i après la boucle: 11\n"
     ]
    }
   ],
   "source": [
    "i = 1\n",
    "print(\"valeur de i avant la boucle:\" , i)\n",
    "while i <= 10:\n",
    "    print(\"valeur de i dans la boucle:\" , i)\n",
    "    i = i + 1\n",
    "print(\"valeur de i après la boucle:\" , i)"
   ]
  },
  {
   "cell_type": "markdown",
   "metadata": {},
   "source": [
    "## 7)\n",
    "### Écrire un programme qui affiche les nombres de 2 en 2 jusqu’à 100 avec une boucle for puis avec une boucle while."
   ]
  },
  {
   "cell_type": "code",
   "execution_count": null,
   "metadata": {},
   "outputs": [],
   "source": []
  },
  {
   "cell_type": "code",
   "execution_count": null,
   "metadata": {},
   "outputs": [],
   "source": []
  },
  {
   "cell_type": "markdown",
   "metadata": {},
   "source": [
    "## 8)\n",
    "### En utilisant une boucle while, calculer la somme des n premiers entiers."
   ]
  },
  {
   "cell_type": "code",
   "execution_count": null,
   "metadata": {},
   "outputs": [],
   "source": []
  },
  {
   "cell_type": "markdown",
   "metadata": {},
   "source": [
    "## 9)\n",
    "### En utilisant une boucle while, calculer la somme des termes de la liste `UneListe`."
   ]
  },
  {
   "cell_type": "code",
   "execution_count": null,
   "metadata": {},
   "outputs": [],
   "source": [
    "UneListe = [2,5,9,100,39,4]"
   ]
  },
  {
   "cell_type": "code",
   "execution_count": 6,
   "metadata": {},
   "outputs": [
    {
     "name": "stdout",
     "output_type": "stream",
     "text": [
      "159\n"
     ]
    }
   ],
   "source": []
  },
  {
   "cell_type": "markdown",
   "metadata": {},
   "source": [
    "# STRUCTURES CONDITIONNELLES"
   ]
  },
  {
   "cell_type": "markdown",
   "metadata": {},
   "source": [
    "Exemple"
   ]
  },
  {
   "cell_type": "code",
   "execution_count": 5,
   "metadata": {},
   "outputs": [
    {
     "name": "stdout",
     "output_type": "stream",
     "text": [
      "a est positif.\n"
     ]
    }
   ],
   "source": [
    "a = 5\n",
    "\n",
    "if a > 0: # Positif\n",
    "    print(\"a est positif.\")\n",
    "elif a < 0: # Négatif\n",
    "    print(\"a est négatif.\")\n",
    "else: # Nul\n",
    "    print(\"a est nul.\")\n",
    "    "
   ]
  },
  {
   "cell_type": "markdown",
   "metadata": {},
   "source": [
    "## 10)\n",
    "### Ecrire un programme qui effectue une conversion Euros - Dollars. Le programme commencera par demander à l’utilisateur d’indiquer par un caractère `€` ou $ la devise du montant qu’il va entrer puis le montant lui même et calculera la conversion.\n"
   ]
  },
  {
   "cell_type": "code",
   "execution_count": null,
   "metadata": {},
   "outputs": [],
   "source": []
  },
  {
   "cell_type": "markdown",
   "metadata": {},
   "source": [
    "## 11)\n",
    "### Coder un script qui demande à l'utilisateur de choisir un nombre et retourne: \n",
    "### Le nombre \"\" est pair\n",
    "#### OU\n",
    "### Le nombre \"\" est impair."
   ]
  },
  {
   "cell_type": "code",
   "execution_count": null,
   "metadata": {},
   "outputs": [],
   "source": []
  },
  {
   "cell_type": "markdown",
   "metadata": {},
   "source": [
    "## 12)\n",
    "\n",
    "### Coder un script qui parcourt la liste `numbers` pour déterminer le maximum de la liste sans utiliser la fonction max de python."
   ]
  },
  {
   "cell_type": "code",
   "execution_count": null,
   "metadata": {},
   "outputs": [],
   "source": [
    "numbers = [12,34,1000,5.5,0,4875]"
   ]
  }
 ],
 "metadata": {
  "kernelspec": {
   "display_name": "Python 3",
   "language": "python",
   "name": "python3"
  },
  "language_info": {
   "codemirror_mode": {
    "name": "ipython",
    "version": 3
   },
   "file_extension": ".py",
   "mimetype": "text/x-python",
   "name": "python",
   "nbconvert_exporter": "python",
   "pygments_lexer": "ipython3",
   "version": "3.7.4"
  }
 },
 "nbformat": 4,
 "nbformat_minor": 2
}
