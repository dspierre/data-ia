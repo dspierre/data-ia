{
 "cells": [
  {
   "cell_type": "markdown",
   "metadata": {},
   "source": [
    "# XGBoost"
   ]
  },
  {
   "cell_type": "markdown",
   "metadata": {},
   "source": [
    "## I. Data"
   ]
  },
  {
   "cell_type": "markdown",
   "metadata": {},
   "source": [
    "### **1. Libraries**"
   ]
  },
  {
   "cell_type": "code",
   "execution_count": 79,
   "metadata": {},
   "outputs": [],
   "source": [
    "#Analyse exploratoire des données et Preprocessing\n",
    "import numpy as np \n",
    "import pandas as pd \n",
    "from sklearn.model_selection import train_test_split\n",
    "import matplotlib.pyplot as plt \n",
    "import seaborn as sns\n",
    "from sklearn.preprocessing import LabelEncoder\n",
    "from sklearn.datasets import make_classification\n",
    "from sklearn.ensemble import GradientBoostingClassifier\n",
    "from sklearn.model_selection import train_test_split\n",
    "import seaborn as sns\n",
    "sns.set(color_codes=True)\n",
    "sns.set(style=\"white\") #white background style for seaborn plots\n",
    "sns.set(style=\"whitegrid\", color_codes=True)"
   ]
  },
  {
   "cell_type": "markdown",
   "metadata": {},
   "source": [
    "### **2. Load data**"
   ]
  },
  {
   "cell_type": "code",
   "execution_count": 7,
   "metadata": {},
   "outputs": [],
   "source": [
    "astro_data=pd.read_csv('astro_data2.csv', sep=',', encoding='utf8')"
   ]
  },
  {
   "cell_type": "markdown",
   "metadata": {},
   "source": [
    "### **3. Dataframe head**"
   ]
  },
  {
   "cell_type": "code",
   "execution_count": 8,
   "metadata": {},
   "outputs": [
    {
     "data": {
      "text/html": [
       "<div>\n",
       "<style scoped>\n",
       "    .dataframe tbody tr th:only-of-type {\n",
       "        vertical-align: middle;\n",
       "    }\n",
       "\n",
       "    .dataframe tbody tr th {\n",
       "        vertical-align: top;\n",
       "    }\n",
       "\n",
       "    .dataframe thead th {\n",
       "        text-align: right;\n",
       "    }\n",
       "</style>\n",
       "<table border=\"1\" class=\"dataframe\">\n",
       "  <thead>\n",
       "    <tr style=\"text-align: right;\">\n",
       "      <th></th>\n",
       "      <th>Unnamed: 0</th>\n",
       "      <th>ra</th>\n",
       "      <th>dec</th>\n",
       "      <th>redshift</th>\n",
       "      <th>plate</th>\n",
       "      <th>fiberid</th>\n",
       "      <th>PCA_1</th>\n",
       "      <th>PCA_2</th>\n",
       "      <th>PCA_3</th>\n",
       "      <th>class</th>\n",
       "    </tr>\n",
       "  </thead>\n",
       "  <tbody>\n",
       "    <tr>\n",
       "      <th>0</th>\n",
       "      <td>0</td>\n",
       "      <td>0.693832</td>\n",
       "      <td>0.074025</td>\n",
       "      <td>0.000770</td>\n",
       "      <td>0.373281</td>\n",
       "      <td>0.490490</td>\n",
       "      <td>0.385886</td>\n",
       "      <td>0.069348</td>\n",
       "      <td>0.387685</td>\n",
       "      <td>star</td>\n",
       "    </tr>\n",
       "    <tr>\n",
       "      <th>1</th>\n",
       "      <td>1</td>\n",
       "      <td>0.694098</td>\n",
       "      <td>0.074642</td>\n",
       "      <td>0.000762</td>\n",
       "      <td>0.006999</td>\n",
       "      <td>0.540541</td>\n",
       "      <td>0.448110</td>\n",
       "      <td>0.215264</td>\n",
       "      <td>0.415556</td>\n",
       "      <td>star</td>\n",
       "    </tr>\n",
       "    <tr>\n",
       "      <th>2</th>\n",
       "      <td>2</td>\n",
       "      <td>0.694422</td>\n",
       "      <td>0.074519</td>\n",
       "      <td>0.023749</td>\n",
       "      <td>0.002579</td>\n",
       "      <td>0.512513</td>\n",
       "      <td>0.518964</td>\n",
       "      <td>0.154511</td>\n",
       "      <td>0.490959</td>\n",
       "      <td>galaxy</td>\n",
       "    </tr>\n",
       "    <tr>\n",
       "      <th>3</th>\n",
       "      <td>3</td>\n",
       "      <td>0.695175</td>\n",
       "      <td>0.073487</td>\n",
       "      <td>0.000751</td>\n",
       "      <td>0.373281</td>\n",
       "      <td>0.509510</td>\n",
       "      <td>0.388785</td>\n",
       "      <td>0.279638</td>\n",
       "      <td>0.452852</td>\n",
       "      <td>star</td>\n",
       "    </tr>\n",
       "    <tr>\n",
       "      <th>4</th>\n",
       "      <td>4</td>\n",
       "      <td>0.695225</td>\n",
       "      <td>0.074199</td>\n",
       "      <td>0.000882</td>\n",
       "      <td>0.373281</td>\n",
       "      <td>0.511512</td>\n",
       "      <td>0.417103</td>\n",
       "      <td>0.357613</td>\n",
       "      <td>0.353918</td>\n",
       "      <td>star</td>\n",
       "    </tr>\n",
       "    <tr>\n",
       "      <th>5</th>\n",
       "      <td>5</td>\n",
       "      <td>0.695082</td>\n",
       "      <td>0.075162</td>\n",
       "      <td>0.000831</td>\n",
       "      <td>0.007122</td>\n",
       "      <td>0.593594</td>\n",
       "      <td>0.593735</td>\n",
       "      <td>0.221552</td>\n",
       "      <td>0.420061</td>\n",
       "      <td>star</td>\n",
       "    </tr>\n",
       "    <tr>\n",
       "      <th>6</th>\n",
       "      <td>6</td>\n",
       "      <td>0.695151</td>\n",
       "      <td>0.073072</td>\n",
       "      <td>0.019481</td>\n",
       "      <td>0.002579</td>\n",
       "      <td>0.558559</td>\n",
       "      <td>0.483823</td>\n",
       "      <td>0.133452</td>\n",
       "      <td>0.472879</td>\n",
       "      <td>galaxy</td>\n",
       "    </tr>\n",
       "    <tr>\n",
       "      <th>7</th>\n",
       "      <td>7</td>\n",
       "      <td>0.695292</td>\n",
       "      <td>0.075348</td>\n",
       "      <td>0.000831</td>\n",
       "      <td>0.373281</td>\n",
       "      <td>0.514515</td>\n",
       "      <td>0.514510</td>\n",
       "      <td>0.216695</td>\n",
       "      <td>0.440919</td>\n",
       "      <td>star</td>\n",
       "    </tr>\n",
       "    <tr>\n",
       "      <th>8</th>\n",
       "      <td>8</td>\n",
       "      <td>0.695389</td>\n",
       "      <td>0.074128</td>\n",
       "      <td>0.000789</td>\n",
       "      <td>0.006999</td>\n",
       "      <td>0.594595</td>\n",
       "      <td>0.436979</td>\n",
       "      <td>0.296010</td>\n",
       "      <td>0.458723</td>\n",
       "      <td>star</td>\n",
       "    </tr>\n",
       "    <tr>\n",
       "      <th>9</th>\n",
       "      <td>9</td>\n",
       "      <td>0.695582</td>\n",
       "      <td>0.073916</td>\n",
       "      <td>0.008332</td>\n",
       "      <td>0.002701</td>\n",
       "      <td>0.399399</td>\n",
       "      <td>0.516311</td>\n",
       "      <td>0.257842</td>\n",
       "      <td>0.450275</td>\n",
       "      <td>galaxy</td>\n",
       "    </tr>\n",
       "  </tbody>\n",
       "</table>\n",
       "</div>"
      ],
      "text/plain": [
       "   Unnamed: 0        ra       dec  redshift     plate   fiberid     PCA_1  \\\n",
       "0           0  0.693832  0.074025  0.000770  0.373281  0.490490  0.385886   \n",
       "1           1  0.694098  0.074642  0.000762  0.006999  0.540541  0.448110   \n",
       "2           2  0.694422  0.074519  0.023749  0.002579  0.512513  0.518964   \n",
       "3           3  0.695175  0.073487  0.000751  0.373281  0.509510  0.388785   \n",
       "4           4  0.695225  0.074199  0.000882  0.373281  0.511512  0.417103   \n",
       "5           5  0.695082  0.075162  0.000831  0.007122  0.593594  0.593735   \n",
       "6           6  0.695151  0.073072  0.019481  0.002579  0.558559  0.483823   \n",
       "7           7  0.695292  0.075348  0.000831  0.373281  0.514515  0.514510   \n",
       "8           8  0.695389  0.074128  0.000789  0.006999  0.594595  0.436979   \n",
       "9           9  0.695582  0.073916  0.008332  0.002701  0.399399  0.516311   \n",
       "\n",
       "      PCA_2     PCA_3   class  \n",
       "0  0.069348  0.387685    star  \n",
       "1  0.215264  0.415556    star  \n",
       "2  0.154511  0.490959  galaxy  \n",
       "3  0.279638  0.452852    star  \n",
       "4  0.357613  0.353918    star  \n",
       "5  0.221552  0.420061    star  \n",
       "6  0.133452  0.472879  galaxy  \n",
       "7  0.216695  0.440919    star  \n",
       "8  0.296010  0.458723    star  \n",
       "9  0.257842  0.450275  galaxy  "
      ]
     },
     "execution_count": 8,
     "metadata": {},
     "output_type": "execute_result"
    }
   ],
   "source": [
    "astro_data.head(10)"
   ]
  },
  {
   "cell_type": "code",
   "execution_count": 9,
   "metadata": {},
   "outputs": [
    {
     "data": {
      "text/plain": [
       "(10000, 10)"
      ]
     },
     "execution_count": 9,
     "metadata": {},
     "output_type": "execute_result"
    }
   ],
   "source": [
    "astro_data.shape"
   ]
  },
  {
   "cell_type": "code",
   "execution_count": 10,
   "metadata": {},
   "outputs": [
    {
     "data": {
      "text/plain": [
       "Unnamed: 0    0\n",
       "ra            0\n",
       "dec           0\n",
       "redshift      0\n",
       "plate         0\n",
       "fiberid       0\n",
       "PCA_1         0\n",
       "PCA_2         0\n",
       "PCA_3         0\n",
       "class         0\n",
       "dtype: int64"
      ]
     },
     "execution_count": 10,
     "metadata": {},
     "output_type": "execute_result"
    }
   ],
   "source": [
    "astro_data.isnull().sum()"
   ]
  },
  {
   "cell_type": "code",
   "execution_count": 11,
   "metadata": {},
   "outputs": [
    {
     "name": "stdout",
     "output_type": "stream",
     "text": [
      "10000 lignes 10 colonnes\n"
     ]
    }
   ],
   "source": [
    "print(astro_data.shape[0],'lignes',astro_data.shape[1],'colonnes')"
   ]
  },
  {
   "cell_type": "markdown",
   "metadata": {},
   "source": [
    "### **4. Drop the \"unnamed\" column\".**"
   ]
  },
  {
   "cell_type": "code",
   "execution_count": 20,
   "metadata": {},
   "outputs": [
    {
     "data": {
      "text/html": [
       "<div>\n",
       "<style scoped>\n",
       "    .dataframe tbody tr th:only-of-type {\n",
       "        vertical-align: middle;\n",
       "    }\n",
       "\n",
       "    .dataframe tbody tr th {\n",
       "        vertical-align: top;\n",
       "    }\n",
       "\n",
       "    .dataframe thead th {\n",
       "        text-align: right;\n",
       "    }\n",
       "</style>\n",
       "<table border=\"1\" class=\"dataframe\">\n",
       "  <thead>\n",
       "    <tr style=\"text-align: right;\">\n",
       "      <th></th>\n",
       "      <th>ra</th>\n",
       "      <th>dec</th>\n",
       "      <th>redshift</th>\n",
       "      <th>plate</th>\n",
       "      <th>fiberid</th>\n",
       "      <th>PCA_1</th>\n",
       "      <th>PCA_2</th>\n",
       "      <th>PCA_3</th>\n",
       "      <th>class</th>\n",
       "    </tr>\n",
       "  </thead>\n",
       "  <tbody>\n",
       "    <tr>\n",
       "      <th>0</th>\n",
       "      <td>0.693832</td>\n",
       "      <td>0.074025</td>\n",
       "      <td>0.000770</td>\n",
       "      <td>0.373281</td>\n",
       "      <td>0.490490</td>\n",
       "      <td>0.385886</td>\n",
       "      <td>0.069348</td>\n",
       "      <td>0.387685</td>\n",
       "      <td>star</td>\n",
       "    </tr>\n",
       "    <tr>\n",
       "      <th>1</th>\n",
       "      <td>0.694098</td>\n",
       "      <td>0.074642</td>\n",
       "      <td>0.000762</td>\n",
       "      <td>0.006999</td>\n",
       "      <td>0.540541</td>\n",
       "      <td>0.448110</td>\n",
       "      <td>0.215264</td>\n",
       "      <td>0.415556</td>\n",
       "      <td>star</td>\n",
       "    </tr>\n",
       "    <tr>\n",
       "      <th>2</th>\n",
       "      <td>0.694422</td>\n",
       "      <td>0.074519</td>\n",
       "      <td>0.023749</td>\n",
       "      <td>0.002579</td>\n",
       "      <td>0.512513</td>\n",
       "      <td>0.518964</td>\n",
       "      <td>0.154511</td>\n",
       "      <td>0.490959</td>\n",
       "      <td>galaxy</td>\n",
       "    </tr>\n",
       "    <tr>\n",
       "      <th>3</th>\n",
       "      <td>0.695175</td>\n",
       "      <td>0.073487</td>\n",
       "      <td>0.000751</td>\n",
       "      <td>0.373281</td>\n",
       "      <td>0.509510</td>\n",
       "      <td>0.388785</td>\n",
       "      <td>0.279638</td>\n",
       "      <td>0.452852</td>\n",
       "      <td>star</td>\n",
       "    </tr>\n",
       "    <tr>\n",
       "      <th>4</th>\n",
       "      <td>0.695225</td>\n",
       "      <td>0.074199</td>\n",
       "      <td>0.000882</td>\n",
       "      <td>0.373281</td>\n",
       "      <td>0.511512</td>\n",
       "      <td>0.417103</td>\n",
       "      <td>0.357613</td>\n",
       "      <td>0.353918</td>\n",
       "      <td>star</td>\n",
       "    </tr>\n",
       "    <tr>\n",
       "      <th>...</th>\n",
       "      <td>...</td>\n",
       "      <td>...</td>\n",
       "      <td>...</td>\n",
       "      <td>...</td>\n",
       "      <td>...</td>\n",
       "      <td>...</td>\n",
       "      <td>...</td>\n",
       "      <td>...</td>\n",
       "      <td>...</td>\n",
       "    </tr>\n",
       "    <tr>\n",
       "      <th>9995</th>\n",
       "      <td>0.487163</td>\n",
       "      <td>0.770000</td>\n",
       "      <td>0.005920</td>\n",
       "      <td>0.022225</td>\n",
       "      <td>0.245245</td>\n",
       "      <td>0.467976</td>\n",
       "      <td>0.203809</td>\n",
       "      <td>0.440477</td>\n",
       "      <td>galaxy</td>\n",
       "    </tr>\n",
       "    <tr>\n",
       "      <th>9996</th>\n",
       "      <td>0.487122</td>\n",
       "      <td>0.771783</td>\n",
       "      <td>0.022753</td>\n",
       "      <td>0.022225</td>\n",
       "      <td>0.227227</td>\n",
       "      <td>0.469694</td>\n",
       "      <td>0.263266</td>\n",
       "      <td>0.495585</td>\n",
       "      <td>galaxy</td>\n",
       "    </tr>\n",
       "    <tr>\n",
       "      <th>9997</th>\n",
       "      <td>0.488097</td>\n",
       "      <td>0.771724</td>\n",
       "      <td>0.000697</td>\n",
       "      <td>0.864072</td>\n",
       "      <td>0.621622</td>\n",
       "      <td>0.527653</td>\n",
       "      <td>0.260387</td>\n",
       "      <td>0.422956</td>\n",
       "      <td>star</td>\n",
       "    </tr>\n",
       "    <tr>\n",
       "      <th>9998</th>\n",
       "      <td>0.487799</td>\n",
       "      <td>0.772888</td>\n",
       "      <td>0.003388</td>\n",
       "      <td>0.022225</td>\n",
       "      <td>0.228228</td>\n",
       "      <td>0.523447</td>\n",
       "      <td>0.230994</td>\n",
       "      <td>0.465101</td>\n",
       "      <td>galaxy</td>\n",
       "    </tr>\n",
       "    <tr>\n",
       "      <th>9999</th>\n",
       "      <td>0.488543</td>\n",
       "      <td>0.773595</td>\n",
       "      <td>0.022873</td>\n",
       "      <td>0.022225</td>\n",
       "      <td>0.232232</td>\n",
       "      <td>0.412978</td>\n",
       "      <td>0.097915</td>\n",
       "      <td>0.454926</td>\n",
       "      <td>galaxy</td>\n",
       "    </tr>\n",
       "  </tbody>\n",
       "</table>\n",
       "<p>10000 rows × 9 columns</p>\n",
       "</div>"
      ],
      "text/plain": [
       "            ra       dec  redshift     plate   fiberid     PCA_1     PCA_2  \\\n",
       "0     0.693832  0.074025  0.000770  0.373281  0.490490  0.385886  0.069348   \n",
       "1     0.694098  0.074642  0.000762  0.006999  0.540541  0.448110  0.215264   \n",
       "2     0.694422  0.074519  0.023749  0.002579  0.512513  0.518964  0.154511   \n",
       "3     0.695175  0.073487  0.000751  0.373281  0.509510  0.388785  0.279638   \n",
       "4     0.695225  0.074199  0.000882  0.373281  0.511512  0.417103  0.357613   \n",
       "...        ...       ...       ...       ...       ...       ...       ...   \n",
       "9995  0.487163  0.770000  0.005920  0.022225  0.245245  0.467976  0.203809   \n",
       "9996  0.487122  0.771783  0.022753  0.022225  0.227227  0.469694  0.263266   \n",
       "9997  0.488097  0.771724  0.000697  0.864072  0.621622  0.527653  0.260387   \n",
       "9998  0.487799  0.772888  0.003388  0.022225  0.228228  0.523447  0.230994   \n",
       "9999  0.488543  0.773595  0.022873  0.022225  0.232232  0.412978  0.097915   \n",
       "\n",
       "         PCA_3   class  \n",
       "0     0.387685    star  \n",
       "1     0.415556    star  \n",
       "2     0.490959  galaxy  \n",
       "3     0.452852    star  \n",
       "4     0.353918    star  \n",
       "...        ...     ...  \n",
       "9995  0.440477  galaxy  \n",
       "9996  0.495585  galaxy  \n",
       "9997  0.422956    star  \n",
       "9998  0.465101  galaxy  \n",
       "9999  0.454926  galaxy  \n",
       "\n",
       "[10000 rows x 9 columns]"
      ]
     },
     "execution_count": 20,
     "metadata": {},
     "output_type": "execute_result"
    }
   ],
   "source": [
    "astro_data = astro_data.drop(['Unnamed: 0'],axis=1)\n",
    "astro_data"
   ]
  },
  {
   "cell_type": "markdown",
   "metadata": {},
   "source": [
    "### **5. Columns names.**"
   ]
  },
  {
   "cell_type": "markdown",
   "metadata": {},
   "source": [
    "Columns : \n",
    "- ra : right ascension\n",
    "- dec : declination\n",
    "- redshift :  Final Redshift\n",
    "- plate : plate number\n",
    "- fiberid : fiber ID\n",
    "- First PCA Component\n",
    "- Second PCA Component\n",
    "- Third PCA Component\n",
    "- Class : object class (galaxy, star or quasar object)\n",
    "\n",
    "In physics, redshift happens when light or other electromagnetic radiation from an object is increased in wavelength, or shifted to the red end of the spectrum.\n",
    "\n",
    "Each spectroscopic exposure employs a large, thin, circular metal plate that positions optical fibers via holes drilled at the locations of the images in the telescope focal plane. These fibers then feed into the spectrographs. Each plate has a unique serial number, which is called plate in views such as SpecObj in the CAS."
   ]
  },
  {
   "cell_type": "code",
   "execution_count": 21,
   "metadata": {},
   "outputs": [
    {
     "data": {
      "text/plain": [
       "Index(['ra', 'dec', 'redshift', 'plate', 'fiberid', 'PCA_1', 'PCA_2', 'PCA_3',\n",
       "       'class'],\n",
       "      dtype='object')"
      ]
     },
     "execution_count": 21,
     "metadata": {},
     "output_type": "execute_result"
    }
   ],
   "source": [
    "astro_data.columns"
   ]
  },
  {
   "cell_type": "markdown",
   "metadata": {},
   "source": [
    "### **6. Dataframe shape**"
   ]
  },
  {
   "cell_type": "code",
   "execution_count": 22,
   "metadata": {},
   "outputs": [
    {
     "data": {
      "text/plain": [
       "(10000, 9)"
      ]
     },
     "execution_count": 22,
     "metadata": {},
     "output_type": "execute_result"
    }
   ],
   "source": [
    "astro_data.shape"
   ]
  },
  {
   "cell_type": "markdown",
   "metadata": {},
   "source": [
    "### **7. Target distribution**"
   ]
  },
  {
   "cell_type": "code",
   "execution_count": null,
   "metadata": {},
   "outputs": [],
   "source": [
    "Target1 = diabete_df['Outcome']\n",
    "X1 = diabete_df.iloc[:,:-1]\n",
    "# methode 2 \n",
    "d1 =astro_data\n",
    "d2=astro_data\n",
    "Target=d2.drop(['Pregnancies', 'Glucose', 'BloodPressure', 'SkinThickness', 'Insulin',\n",
    "       'BMI','DiabetesPedigreeFunction', 'Age'],axis=1)\n",
    "X2=d1.drop([\"Outcome\"],axis=1)"
   ]
  },
  {
   "cell_type": "code",
   "execution_count": 85,
   "metadata": {},
   "outputs": [
    {
     "data": {
      "image/png": "[encoded data removed]",
      "text/plain": [
       "<Figure size 432x288 with 1 Axes>"
      ]
     },
     "metadata": {},
     "output_type": "display_data"
    }
   ],
   "source": [
    "sns.countplot(astro_data['class'])\n",
    "plt.show()"
   ]
  },
  {
   "cell_type": "markdown",
   "metadata": {},
   "source": [
    "### **8. Columns types**"
   ]
  },
  {
   "cell_type": "code",
   "execution_count": 25,
   "metadata": {},
   "outputs": [
    {
     "name": "stdout",
     "output_type": "stream",
     "text": [
      "<class 'pandas.core.frame.DataFrame'>\n",
      "RangeIndex: 10000 entries, 0 to 9999\n",
      "Data columns (total 9 columns):\n",
      " #   Column    Non-Null Count  Dtype  \n",
      "---  ------    --------------  -----  \n",
      " 0   ra        10000 non-null  float64\n",
      " 1   dec       10000 non-null  float64\n",
      " 2   redshift  10000 non-null  float64\n",
      " 3   plate     10000 non-null  float64\n",
      " 4   fiberid   10000 non-null  float64\n",
      " 5   PCA_1     10000 non-null  float64\n",
      " 6   PCA_2     10000 non-null  float64\n",
      " 7   PCA_3     10000 non-null  float64\n",
      " 8   class     10000 non-null  object \n",
      "dtypes: float64(8), object(1)\n",
      "memory usage: 703.2+ KB\n"
     ]
    }
   ],
   "source": [
    "astro_data.info()"
   ]
  },
  {
   "cell_type": "markdown",
   "metadata": {},
   "source": [
    "### **9. Df describe**"
   ]
  },
  {
   "cell_type": "code",
   "execution_count": 24,
   "metadata": {},
   "outputs": [
    {
     "data": {
      "text/html": [
       "<div>\n",
       "<style scoped>\n",
       "    .dataframe tbody tr th:only-of-type {\n",
       "        vertical-align: middle;\n",
       "    }\n",
       "\n",
       "    .dataframe tbody tr th {\n",
       "        vertical-align: top;\n",
       "    }\n",
       "\n",
       "    .dataframe thead th {\n",
       "        text-align: right;\n",
       "    }\n",
       "</style>\n",
       "<table border=\"1\" class=\"dataframe\">\n",
       "  <thead>\n",
       "    <tr style=\"text-align: right;\">\n",
       "      <th></th>\n",
       "      <th>ra</th>\n",
       "      <th>dec</th>\n",
       "      <th>redshift</th>\n",
       "      <th>plate</th>\n",
       "      <th>fiberid</th>\n",
       "      <th>PCA_1</th>\n",
       "      <th>PCA_2</th>\n",
       "      <th>PCA_3</th>\n",
       "      <th>class</th>\n",
       "    </tr>\n",
       "  </thead>\n",
       "  <tbody>\n",
       "    <tr>\n",
       "      <th>count</th>\n",
       "      <td>10000.000000</td>\n",
       "      <td>10000.000000</td>\n",
       "      <td>10000.000000</td>\n",
       "      <td>10000.000000</td>\n",
       "      <td>10000.000000</td>\n",
       "      <td>10000.000000</td>\n",
       "      <td>10000.000000</td>\n",
       "      <td>10000.000000</td>\n",
       "      <td>10000</td>\n",
       "    </tr>\n",
       "    <tr>\n",
       "      <th>unique</th>\n",
       "      <td>NaN</td>\n",
       "      <td>NaN</td>\n",
       "      <td>NaN</td>\n",
       "      <td>NaN</td>\n",
       "      <td>NaN</td>\n",
       "      <td>NaN</td>\n",
       "      <td>NaN</td>\n",
       "      <td>NaN</td>\n",
       "      <td>3</td>\n",
       "    </tr>\n",
       "    <tr>\n",
       "      <th>top</th>\n",
       "      <td>NaN</td>\n",
       "      <td>NaN</td>\n",
       "      <td>NaN</td>\n",
       "      <td>NaN</td>\n",
       "      <td>NaN</td>\n",
       "      <td>NaN</td>\n",
       "      <td>NaN</td>\n",
       "      <td>NaN</td>\n",
       "      <td>galaxy</td>\n",
       "    </tr>\n",
       "    <tr>\n",
       "      <th>freq</th>\n",
       "      <td>NaN</td>\n",
       "      <td>NaN</td>\n",
       "      <td>NaN</td>\n",
       "      <td>NaN</td>\n",
       "      <td>NaN</td>\n",
       "      <td>NaN</td>\n",
       "      <td>NaN</td>\n",
       "      <td>NaN</td>\n",
       "      <td>4998</td>\n",
       "    </tr>\n",
       "    <tr>\n",
       "      <th>mean</th>\n",
       "      <td>0.662163</td>\n",
       "      <td>0.273504</td>\n",
       "      <td>0.027597</td>\n",
       "      <td>0.146732</td>\n",
       "      <td>0.352422</td>\n",
       "      <td>0.457398</td>\n",
       "      <td>0.218337</td>\n",
       "      <td>0.455214</td>\n",
       "      <td>NaN</td>\n",
       "    </tr>\n",
       "    <tr>\n",
       "      <th>std</th>\n",
       "      <td>0.189130</td>\n",
       "      <td>0.341052</td>\n",
       "      <td>0.072560</td>\n",
       "      <td>0.219644</td>\n",
       "      <td>0.206505</td>\n",
       "      <td>0.105448</td>\n",
       "      <td>0.074867</td>\n",
       "      <td>0.040324</td>\n",
       "      <td>NaN</td>\n",
       "    </tr>\n",
       "    <tr>\n",
       "      <th>min</th>\n",
       "      <td>0.000000</td>\n",
       "      <td>0.000000</td>\n",
       "      <td>0.000000</td>\n",
       "      <td>0.000000</td>\n",
       "      <td>0.000000</td>\n",
       "      <td>0.000000</td>\n",
       "      <td>0.000000</td>\n",
       "      <td>0.000000</td>\n",
       "      <td>NaN</td>\n",
       "    </tr>\n",
       "    <tr>\n",
       "      <th>25%</th>\n",
       "      <td>0.590288</td>\n",
       "      <td>0.065521</td>\n",
       "      <td>0.000787</td>\n",
       "      <td>0.004298</td>\n",
       "      <td>0.185936</td>\n",
       "      <td>0.392505</td>\n",
       "      <td>0.163367</td>\n",
       "      <td>0.432861</td>\n",
       "      <td>NaN</td>\n",
       "    </tr>\n",
       "    <tr>\n",
       "      <th>50%</th>\n",
       "      <td>0.681417</td>\n",
       "      <td>0.078279</td>\n",
       "      <td>0.008721</td>\n",
       "      <td>0.021488</td>\n",
       "      <td>0.350350</td>\n",
       "      <td>0.460267</td>\n",
       "      <td>0.214737</td>\n",
       "      <td>0.455051</td>\n",
       "      <td>NaN</td>\n",
       "    </tr>\n",
       "    <tr>\n",
       "      <th>75%</th>\n",
       "      <td>0.765140</td>\n",
       "      <td>0.555050</td>\n",
       "      <td>0.018051</td>\n",
       "      <td>0.281557</td>\n",
       "      <td>0.509510</td>\n",
       "      <td>0.524651</td>\n",
       "      <td>0.267016</td>\n",
       "      <td>0.478103</td>\n",
       "      <td>NaN</td>\n",
       "    </tr>\n",
       "    <tr>\n",
       "      <th>max</th>\n",
       "      <td>1.000000</td>\n",
       "      <td>1.000000</td>\n",
       "      <td>1.000000</td>\n",
       "      <td>1.000000</td>\n",
       "      <td>1.000000</td>\n",
       "      <td>1.000000</td>\n",
       "      <td>1.000000</td>\n",
       "      <td>1.000000</td>\n",
       "      <td>NaN</td>\n",
       "    </tr>\n",
       "  </tbody>\n",
       "</table>\n",
       "</div>"
      ],
      "text/plain": [
       "                  ra           dec      redshift         plate       fiberid  \\\n",
       "count   10000.000000  10000.000000  10000.000000  10000.000000  10000.000000   \n",
       "unique           NaN           NaN           NaN           NaN           NaN   \n",
       "top              NaN           NaN           NaN           NaN           NaN   \n",
       "freq             NaN           NaN           NaN           NaN           NaN   \n",
       "mean        0.662163      0.273504      0.027597      0.146732      0.352422   \n",
       "std         0.189130      0.341052      0.072560      0.219644      0.206505   \n",
       "min         0.000000      0.000000      0.000000      0.000000      0.000000   \n",
       "25%         0.590288      0.065521      0.000787      0.004298      0.185936   \n",
       "50%         0.681417      0.078279      0.008721      0.021488      0.350350   \n",
       "75%         0.765140      0.555050      0.018051      0.281557      0.509510   \n",
       "max         1.000000      1.000000      1.000000      1.000000      1.000000   \n",
       "\n",
       "               PCA_1         PCA_2         PCA_3   class  \n",
       "count   10000.000000  10000.000000  10000.000000   10000  \n",
       "unique           NaN           NaN           NaN       3  \n",
       "top              NaN           NaN           NaN  galaxy  \n",
       "freq             NaN           NaN           NaN    4998  \n",
       "mean        0.457398      0.218337      0.455214     NaN  \n",
       "std         0.105448      0.074867      0.040324     NaN  \n",
       "min         0.000000      0.000000      0.000000     NaN  \n",
       "25%         0.392505      0.163367      0.432861     NaN  \n",
       "50%         0.460267      0.214737      0.455051     NaN  \n",
       "75%         0.524651      0.267016      0.478103     NaN  \n",
       "max         1.000000      1.000000      1.000000     NaN  "
      ]
     },
     "execution_count": 24,
     "metadata": {},
     "output_type": "execute_result"
    }
   ],
   "source": [
    "astro_data.describe(include='all')"
   ]
  },
  {
   "cell_type": "markdown",
   "metadata": {},
   "source": [
    "# II. Data visualization\n"
   ]
  },
  {
   "cell_type": "markdown",
   "metadata": {},
   "source": [
    "### **1. Plot the `redshift` distribution per class.**"
   ]
  },
  {
   "cell_type": "code",
   "execution_count": 26,
   "metadata": {},
   "outputs": [
    {
     "data": {
      "text/plain": [
       "<matplotlib.axes._subplots.AxesSubplot at 0x1c98c749748>"
      ]
     },
     "execution_count": 26,
     "metadata": {},
     "output_type": "execute_result"
    },
    {
     "data": {
      "image/png": "[encoded data removed]",
      "text/plain": [
       "<Figure size 432x288 with 1 Axes>"
      ]
     },
     "metadata": {},
     "output_type": "display_data"
    }
   ],
   "source": [
    "sns.distplot(astro_data['redshift'])"
   ]
  },
  {
   "cell_type": "code",
   "execution_count": null,
   "metadata": {},
   "outputs": [],
   "source": []
  },
  {
   "cell_type": "markdown",
   "metadata": {},
   "source": [
    "### **3. Using a `lmplot` from `seaborn`, plot the relation between `dec ` and `ra` by `class` .**"
   ]
  },
  {
   "cell_type": "code",
   "execution_count": 28,
   "metadata": {},
   "outputs": [
    {
     "data": {
      "image/png": "[encoded data removed]",
      "text/plain": [
       "<Figure size 360x360 with 1 Axes>"
      ]
     },
     "metadata": {},
     "output_type": "display_data"
    }
   ],
   "source": [
    "g = sns.lmplot(x=\"dec\", y=\"ra\", data=astro_data)"
   ]
  },
  {
   "cell_type": "markdown",
   "metadata": {},
   "source": [
    "### **2. Plot the features correlation.**"
   ]
  },
  {
   "cell_type": "code",
   "execution_count": 86,
   "metadata": {},
   "outputs": [
    {
     "data": {
      "image/png": "[encoded data removed]",
      "text/plain": [
       "<Figure size 1080x1080 with 2 Axes>"
      ]
     },
     "metadata": {},
     "output_type": "display_data"
    }
   ],
   "source": [
    "plt.figure(figsize=(15,15))\n",
    "sns.heatmap(astro_data.corr(), annot=True, square=False, cmap=\"coolwarm\")\n",
    "plt.show()"
   ]
  },
  {
   "cell_type": "markdown",
   "metadata": {},
   "source": [
    "### **3. Target encoding.**"
   ]
  },
  {
   "cell_type": "code",
   "execution_count": 37,
   "metadata": {},
   "outputs": [
    {
     "data": {
      "text/html": [
       "<div>\n",
       "<style scoped>\n",
       "    .dataframe tbody tr th:only-of-type {\n",
       "        vertical-align: middle;\n",
       "    }\n",
       "\n",
       "    .dataframe tbody tr th {\n",
       "        vertical-align: top;\n",
       "    }\n",
       "\n",
       "    .dataframe thead th {\n",
       "        text-align: right;\n",
       "    }\n",
       "</style>\n",
       "<table border=\"1\" class=\"dataframe\">\n",
       "  <thead>\n",
       "    <tr style=\"text-align: right;\">\n",
       "      <th></th>\n",
       "      <th>ra</th>\n",
       "      <th>dec</th>\n",
       "      <th>redshift</th>\n",
       "      <th>plate</th>\n",
       "      <th>fiberid</th>\n",
       "      <th>PCA_1</th>\n",
       "      <th>PCA_2</th>\n",
       "      <th>PCA_3</th>\n",
       "      <th>class</th>\n",
       "    </tr>\n",
       "  </thead>\n",
       "  <tbody>\n",
       "    <tr>\n",
       "      <th>0</th>\n",
       "      <td>0.693832</td>\n",
       "      <td>0.074025</td>\n",
       "      <td>0.000770</td>\n",
       "      <td>0.373281</td>\n",
       "      <td>0.490490</td>\n",
       "      <td>0.385886</td>\n",
       "      <td>0.069348</td>\n",
       "      <td>0.387685</td>\n",
       "      <td>2</td>\n",
       "    </tr>\n",
       "    <tr>\n",
       "      <th>1</th>\n",
       "      <td>0.694098</td>\n",
       "      <td>0.074642</td>\n",
       "      <td>0.000762</td>\n",
       "      <td>0.006999</td>\n",
       "      <td>0.540541</td>\n",
       "      <td>0.448110</td>\n",
       "      <td>0.215264</td>\n",
       "      <td>0.415556</td>\n",
       "      <td>2</td>\n",
       "    </tr>\n",
       "    <tr>\n",
       "      <th>2</th>\n",
       "      <td>0.694422</td>\n",
       "      <td>0.074519</td>\n",
       "      <td>0.023749</td>\n",
       "      <td>0.002579</td>\n",
       "      <td>0.512513</td>\n",
       "      <td>0.518964</td>\n",
       "      <td>0.154511</td>\n",
       "      <td>0.490959</td>\n",
       "      <td>0</td>\n",
       "    </tr>\n",
       "    <tr>\n",
       "      <th>3</th>\n",
       "      <td>0.695175</td>\n",
       "      <td>0.073487</td>\n",
       "      <td>0.000751</td>\n",
       "      <td>0.373281</td>\n",
       "      <td>0.509510</td>\n",
       "      <td>0.388785</td>\n",
       "      <td>0.279638</td>\n",
       "      <td>0.452852</td>\n",
       "      <td>2</td>\n",
       "    </tr>\n",
       "    <tr>\n",
       "      <th>4</th>\n",
       "      <td>0.695225</td>\n",
       "      <td>0.074199</td>\n",
       "      <td>0.000882</td>\n",
       "      <td>0.373281</td>\n",
       "      <td>0.511512</td>\n",
       "      <td>0.417103</td>\n",
       "      <td>0.357613</td>\n",
       "      <td>0.353918</td>\n",
       "      <td>2</td>\n",
       "    </tr>\n",
       "    <tr>\n",
       "      <th>...</th>\n",
       "      <td>...</td>\n",
       "      <td>...</td>\n",
       "      <td>...</td>\n",
       "      <td>...</td>\n",
       "      <td>...</td>\n",
       "      <td>...</td>\n",
       "      <td>...</td>\n",
       "      <td>...</td>\n",
       "      <td>...</td>\n",
       "    </tr>\n",
       "    <tr>\n",
       "      <th>9995</th>\n",
       "      <td>0.487163</td>\n",
       "      <td>0.770000</td>\n",
       "      <td>0.005920</td>\n",
       "      <td>0.022225</td>\n",
       "      <td>0.245245</td>\n",
       "      <td>0.467976</td>\n",
       "      <td>0.203809</td>\n",
       "      <td>0.440477</td>\n",
       "      <td>0</td>\n",
       "    </tr>\n",
       "    <tr>\n",
       "      <th>9996</th>\n",
       "      <td>0.487122</td>\n",
       "      <td>0.771783</td>\n",
       "      <td>0.022753</td>\n",
       "      <td>0.022225</td>\n",
       "      <td>0.227227</td>\n",
       "      <td>0.469694</td>\n",
       "      <td>0.263266</td>\n",
       "      <td>0.495585</td>\n",
       "      <td>0</td>\n",
       "    </tr>\n",
       "    <tr>\n",
       "      <th>9997</th>\n",
       "      <td>0.488097</td>\n",
       "      <td>0.771724</td>\n",
       "      <td>0.000697</td>\n",
       "      <td>0.864072</td>\n",
       "      <td>0.621622</td>\n",
       "      <td>0.527653</td>\n",
       "      <td>0.260387</td>\n",
       "      <td>0.422956</td>\n",
       "      <td>2</td>\n",
       "    </tr>\n",
       "    <tr>\n",
       "      <th>9998</th>\n",
       "      <td>0.487799</td>\n",
       "      <td>0.772888</td>\n",
       "      <td>0.003388</td>\n",
       "      <td>0.022225</td>\n",
       "      <td>0.228228</td>\n",
       "      <td>0.523447</td>\n",
       "      <td>0.230994</td>\n",
       "      <td>0.465101</td>\n",
       "      <td>0</td>\n",
       "    </tr>\n",
       "    <tr>\n",
       "      <th>9999</th>\n",
       "      <td>0.488543</td>\n",
       "      <td>0.773595</td>\n",
       "      <td>0.022873</td>\n",
       "      <td>0.022225</td>\n",
       "      <td>0.232232</td>\n",
       "      <td>0.412978</td>\n",
       "      <td>0.097915</td>\n",
       "      <td>0.454926</td>\n",
       "      <td>0</td>\n",
       "    </tr>\n",
       "  </tbody>\n",
       "</table>\n",
       "<p>10000 rows × 9 columns</p>\n",
       "</div>"
      ],
      "text/plain": [
       "            ra       dec  redshift     plate   fiberid     PCA_1     PCA_2  \\\n",
       "0     0.693832  0.074025  0.000770  0.373281  0.490490  0.385886  0.069348   \n",
       "1     0.694098  0.074642  0.000762  0.006999  0.540541  0.448110  0.215264   \n",
       "2     0.694422  0.074519  0.023749  0.002579  0.512513  0.518964  0.154511   \n",
       "3     0.695175  0.073487  0.000751  0.373281  0.509510  0.388785  0.279638   \n",
       "4     0.695225  0.074199  0.000882  0.373281  0.511512  0.417103  0.357613   \n",
       "...        ...       ...       ...       ...       ...       ...       ...   \n",
       "9995  0.487163  0.770000  0.005920  0.022225  0.245245  0.467976  0.203809   \n",
       "9996  0.487122  0.771783  0.022753  0.022225  0.227227  0.469694  0.263266   \n",
       "9997  0.488097  0.771724  0.000697  0.864072  0.621622  0.527653  0.260387   \n",
       "9998  0.487799  0.772888  0.003388  0.022225  0.228228  0.523447  0.230994   \n",
       "9999  0.488543  0.773595  0.022873  0.022225  0.232232  0.412978  0.097915   \n",
       "\n",
       "         PCA_3  class  \n",
       "0     0.387685      2  \n",
       "1     0.415556      2  \n",
       "2     0.490959      0  \n",
       "3     0.452852      2  \n",
       "4     0.353918      2  \n",
       "...        ...    ...  \n",
       "9995  0.440477      0  \n",
       "9996  0.495585      0  \n",
       "9997  0.422956      2  \n",
       "9998  0.465101      0  \n",
       "9999  0.454926      0  \n",
       "\n",
       "[10000 rows x 9 columns]"
      ]
     },
     "execution_count": 37,
     "metadata": {},
     "output_type": "execute_result"
    }
   ],
   "source": [
    "le=LabelEncoder()\n",
    "astro_data['class']=le.fit_transform(astro_data['class'])\n",
    "astro_data"
   ]
  },
  {
   "cell_type": "markdown",
   "metadata": {},
   "source": [
    "### **4. MinMax features scaling.**"
   ]
  },
  {
   "cell_type": "code",
   "execution_count": 38,
   "metadata": {},
   "outputs": [
    {
     "name": "stdout",
     "output_type": "stream",
     "text": [
      "MinMaxScaler(copy=True, feature_range=(0, 1))\n"
     ]
    }
   ],
   "source": [
    "from sklearn.preprocessing import MinMaxScaler\n",
    "data = astro_data\n",
    "scaler = MinMaxScaler()\n",
    "print(scaler.fit(data))"
   ]
  },
  {
   "cell_type": "markdown",
   "metadata": {},
   "source": [
    "## 5 Xbboost classifier with  100 trees"
   ]
  },
  {
   "cell_type": "code",
   "execution_count": null,
   "metadata": {},
   "outputs": [],
   "source": []
  },
  {
   "cell_type": "markdown",
   "metadata": {},
   "source": [
    "# III. Model\n"
   ]
  },
  {
   "cell_type": "markdown",
   "metadata": {},
   "source": [
    "### **1. Train Test Split.**"
   ]
  },
  {
   "cell_type": "code",
   "execution_count": 47,
   "metadata": {},
   "outputs": [],
   "source": [
    "X2=astro_data.drop([\"class\"],axis=1)"
   ]
  },
  {
   "cell_type": "code",
   "execution_count": 48,
   "metadata": {},
   "outputs": [
    {
     "data": {
      "text/html": [
       "<div>\n",
       "<style scoped>\n",
       "    .dataframe tbody tr th:only-of-type {\n",
       "        vertical-align: middle;\n",
       "    }\n",
       "\n",
       "    .dataframe tbody tr th {\n",
       "        vertical-align: top;\n",
       "    }\n",
       "\n",
       "    .dataframe thead th {\n",
       "        text-align: right;\n",
       "    }\n",
       "</style>\n",
       "<table border=\"1\" class=\"dataframe\">\n",
       "  <thead>\n",
       "    <tr style=\"text-align: right;\">\n",
       "      <th></th>\n",
       "      <th>ra</th>\n",
       "      <th>dec</th>\n",
       "      <th>redshift</th>\n",
       "      <th>plate</th>\n",
       "      <th>fiberid</th>\n",
       "      <th>PCA_1</th>\n",
       "      <th>PCA_2</th>\n",
       "      <th>PCA_3</th>\n",
       "    </tr>\n",
       "  </thead>\n",
       "  <tbody>\n",
       "    <tr>\n",
       "      <th>0</th>\n",
       "      <td>0.693832</td>\n",
       "      <td>0.074025</td>\n",
       "      <td>0.000770</td>\n",
       "      <td>0.373281</td>\n",
       "      <td>0.490490</td>\n",
       "      <td>0.385886</td>\n",
       "      <td>0.069348</td>\n",
       "      <td>0.387685</td>\n",
       "    </tr>\n",
       "    <tr>\n",
       "      <th>1</th>\n",
       "      <td>0.694098</td>\n",
       "      <td>0.074642</td>\n",
       "      <td>0.000762</td>\n",
       "      <td>0.006999</td>\n",
       "      <td>0.540541</td>\n",
       "      <td>0.448110</td>\n",
       "      <td>0.215264</td>\n",
       "      <td>0.415556</td>\n",
       "    </tr>\n",
       "    <tr>\n",
       "      <th>2</th>\n",
       "      <td>0.694422</td>\n",
       "      <td>0.074519</td>\n",
       "      <td>0.023749</td>\n",
       "      <td>0.002579</td>\n",
       "      <td>0.512513</td>\n",
       "      <td>0.518964</td>\n",
       "      <td>0.154511</td>\n",
       "      <td>0.490959</td>\n",
       "    </tr>\n",
       "    <tr>\n",
       "      <th>3</th>\n",
       "      <td>0.695175</td>\n",
       "      <td>0.073487</td>\n",
       "      <td>0.000751</td>\n",
       "      <td>0.373281</td>\n",
       "      <td>0.509510</td>\n",
       "      <td>0.388785</td>\n",
       "      <td>0.279638</td>\n",
       "      <td>0.452852</td>\n",
       "    </tr>\n",
       "    <tr>\n",
       "      <th>4</th>\n",
       "      <td>0.695225</td>\n",
       "      <td>0.074199</td>\n",
       "      <td>0.000882</td>\n",
       "      <td>0.373281</td>\n",
       "      <td>0.511512</td>\n",
       "      <td>0.417103</td>\n",
       "      <td>0.357613</td>\n",
       "      <td>0.353918</td>\n",
       "    </tr>\n",
       "    <tr>\n",
       "      <th>5</th>\n",
       "      <td>0.695082</td>\n",
       "      <td>0.075162</td>\n",
       "      <td>0.000831</td>\n",
       "      <td>0.007122</td>\n",
       "      <td>0.593594</td>\n",
       "      <td>0.593735</td>\n",
       "      <td>0.221552</td>\n",
       "      <td>0.420061</td>\n",
       "    </tr>\n",
       "    <tr>\n",
       "      <th>6</th>\n",
       "      <td>0.695151</td>\n",
       "      <td>0.073072</td>\n",
       "      <td>0.019481</td>\n",
       "      <td>0.002579</td>\n",
       "      <td>0.558559</td>\n",
       "      <td>0.483823</td>\n",
       "      <td>0.133452</td>\n",
       "      <td>0.472879</td>\n",
       "    </tr>\n",
       "    <tr>\n",
       "      <th>7</th>\n",
       "      <td>0.695292</td>\n",
       "      <td>0.075348</td>\n",
       "      <td>0.000831</td>\n",
       "      <td>0.373281</td>\n",
       "      <td>0.514515</td>\n",
       "      <td>0.514510</td>\n",
       "      <td>0.216695</td>\n",
       "      <td>0.440919</td>\n",
       "    </tr>\n",
       "    <tr>\n",
       "      <th>8</th>\n",
       "      <td>0.695389</td>\n",
       "      <td>0.074128</td>\n",
       "      <td>0.000789</td>\n",
       "      <td>0.006999</td>\n",
       "      <td>0.594595</td>\n",
       "      <td>0.436979</td>\n",
       "      <td>0.296010</td>\n",
       "      <td>0.458723</td>\n",
       "    </tr>\n",
       "    <tr>\n",
       "      <th>9</th>\n",
       "      <td>0.695582</td>\n",
       "      <td>0.073916</td>\n",
       "      <td>0.008332</td>\n",
       "      <td>0.002701</td>\n",
       "      <td>0.399399</td>\n",
       "      <td>0.516311</td>\n",
       "      <td>0.257842</td>\n",
       "      <td>0.450275</td>\n",
       "    </tr>\n",
       "  </tbody>\n",
       "</table>\n",
       "</div>"
      ],
      "text/plain": [
       "         ra       dec  redshift     plate   fiberid     PCA_1     PCA_2  \\\n",
       "0  0.693832  0.074025  0.000770  0.373281  0.490490  0.385886  0.069348   \n",
       "1  0.694098  0.074642  0.000762  0.006999  0.540541  0.448110  0.215264   \n",
       "2  0.694422  0.074519  0.023749  0.002579  0.512513  0.518964  0.154511   \n",
       "3  0.695175  0.073487  0.000751  0.373281  0.509510  0.388785  0.279638   \n",
       "4  0.695225  0.074199  0.000882  0.373281  0.511512  0.417103  0.357613   \n",
       "5  0.695082  0.075162  0.000831  0.007122  0.593594  0.593735  0.221552   \n",
       "6  0.695151  0.073072  0.019481  0.002579  0.558559  0.483823  0.133452   \n",
       "7  0.695292  0.075348  0.000831  0.373281  0.514515  0.514510  0.216695   \n",
       "8  0.695389  0.074128  0.000789  0.006999  0.594595  0.436979  0.296010   \n",
       "9  0.695582  0.073916  0.008332  0.002701  0.399399  0.516311  0.257842   \n",
       "\n",
       "      PCA_3  \n",
       "0  0.387685  \n",
       "1  0.415556  \n",
       "2  0.490959  \n",
       "3  0.452852  \n",
       "4  0.353918  \n",
       "5  0.420061  \n",
       "6  0.472879  \n",
       "7  0.440919  \n",
       "8  0.458723  \n",
       "9  0.450275  "
      ]
     },
     "execution_count": 48,
     "metadata": {},
     "output_type": "execute_result"
    }
   ],
   "source": [
    "X2.head(10)"
   ]
  },
  {
   "cell_type": "code",
   "execution_count": 45,
   "metadata": {},
   "outputs": [],
   "source": [
    "Target=astro_data.drop(['ra', 'dec', 'redshift', 'plate', 'fiberid',\n",
    "       'PCA_1','PCA_2', 'PCA_3'],axis=1)"
   ]
  },
  {
   "cell_type": "code",
   "execution_count": 46,
   "metadata": {},
   "outputs": [
    {
     "data": {
      "text/html": [
       "<div>\n",
       "<style scoped>\n",
       "    .dataframe tbody tr th:only-of-type {\n",
       "        vertical-align: middle;\n",
       "    }\n",
       "\n",
       "    .dataframe tbody tr th {\n",
       "        vertical-align: top;\n",
       "    }\n",
       "\n",
       "    .dataframe thead th {\n",
       "        text-align: right;\n",
       "    }\n",
       "</style>\n",
       "<table border=\"1\" class=\"dataframe\">\n",
       "  <thead>\n",
       "    <tr style=\"text-align: right;\">\n",
       "      <th></th>\n",
       "      <th>class</th>\n",
       "    </tr>\n",
       "  </thead>\n",
       "  <tbody>\n",
       "    <tr>\n",
       "      <th>0</th>\n",
       "      <td>2</td>\n",
       "    </tr>\n",
       "    <tr>\n",
       "      <th>1</th>\n",
       "      <td>2</td>\n",
       "    </tr>\n",
       "    <tr>\n",
       "      <th>2</th>\n",
       "      <td>0</td>\n",
       "    </tr>\n",
       "    <tr>\n",
       "      <th>3</th>\n",
       "      <td>2</td>\n",
       "    </tr>\n",
       "    <tr>\n",
       "      <th>4</th>\n",
       "      <td>2</td>\n",
       "    </tr>\n",
       "    <tr>\n",
       "      <th>5</th>\n",
       "      <td>2</td>\n",
       "    </tr>\n",
       "    <tr>\n",
       "      <th>6</th>\n",
       "      <td>0</td>\n",
       "    </tr>\n",
       "    <tr>\n",
       "      <th>7</th>\n",
       "      <td>2</td>\n",
       "    </tr>\n",
       "    <tr>\n",
       "      <th>8</th>\n",
       "      <td>2</td>\n",
       "    </tr>\n",
       "    <tr>\n",
       "      <th>9</th>\n",
       "      <td>0</td>\n",
       "    </tr>\n",
       "  </tbody>\n",
       "</table>\n",
       "</div>"
      ],
      "text/plain": [
       "   class\n",
       "0      2\n",
       "1      2\n",
       "2      0\n",
       "3      2\n",
       "4      2\n",
       "5      2\n",
       "6      0\n",
       "7      2\n",
       "8      2\n",
       "9      0"
      ]
     },
     "execution_count": 46,
     "metadata": {},
     "output_type": "execute_result"
    }
   ],
   "source": [
    "Target.head(10)"
   ]
  },
  {
   "cell_type": "code",
   "execution_count": 51,
   "metadata": {},
   "outputs": [
    {
     "name": "stdout",
     "output_type": "stream",
     "text": [
      "      class\n",
      "0         2\n",
      "1         2\n",
      "2         0\n",
      "3         2\n",
      "4         2\n",
      "...     ...\n",
      "9995      0\n",
      "9996      0\n",
      "9997      2\n",
      "9998      0\n",
      "9999      0\n",
      "\n",
      "[10000 rows x 1 columns]\n",
      "            ra       dec  redshift     plate   fiberid     PCA_1     PCA_2  \\\n",
      "0     0.693832  0.074025  0.000770  0.373281  0.490490  0.385886  0.069348   \n",
      "1     0.694098  0.074642  0.000762  0.006999  0.540541  0.448110  0.215264   \n",
      "2     0.694422  0.074519  0.023749  0.002579  0.512513  0.518964  0.154511   \n",
      "3     0.695175  0.073487  0.000751  0.373281  0.509510  0.388785  0.279638   \n",
      "4     0.695225  0.074199  0.000882  0.373281  0.511512  0.417103  0.357613   \n",
      "...        ...       ...       ...       ...       ...       ...       ...   \n",
      "9995  0.487163  0.770000  0.005920  0.022225  0.245245  0.467976  0.203809   \n",
      "9996  0.487122  0.771783  0.022753  0.022225  0.227227  0.469694  0.263266   \n",
      "9997  0.488097  0.771724  0.000697  0.864072  0.621622  0.527653  0.260387   \n",
      "9998  0.487799  0.772888  0.003388  0.022225  0.228228  0.523447  0.230994   \n",
      "9999  0.488543  0.773595  0.022873  0.022225  0.232232  0.412978  0.097915   \n",
      "\n",
      "         PCA_3  \n",
      "0     0.387685  \n",
      "1     0.415556  \n",
      "2     0.490959  \n",
      "3     0.452852  \n",
      "4     0.353918  \n",
      "...        ...  \n",
      "9995  0.440477  \n",
      "9996  0.495585  \n",
      "9997  0.422956  \n",
      "9998  0.465101  \n",
      "9999  0.454926  \n",
      "\n",
      "[10000 rows x 8 columns]\n"
     ]
    }
   ],
   "source": [
    "Y_1=pd.DataFrame(Target)\n",
    "X_2=pd.DataFrame(X2)\n",
    "print(Y_1)\n",
    "print(X_2)"
   ]
  },
  {
   "cell_type": "code",
   "execution_count": 57,
   "metadata": {},
   "outputs": [],
   "source": [
    "X_train,X_test,y_train,y_test=train_test_split(X_2,Y_1,test_size=0.3,random_state=42)\n",
    "#print(X_train)\n",
    "#print(X_test)\n",
    "#print(y_train)\n",
    "#print(y_test)"
   ]
  },
  {
   "cell_type": "markdown",
   "metadata": {},
   "source": [
    "### **2. XGBoost Classifier with 100 trees. .**"
   ]
  },
  {
   "cell_type": "code",
   "execution_count": 77,
   "metadata": {},
   "outputs": [
    {
     "name": "stdout",
     "output_type": "stream",
     "text": [
      "[[ 0.01971107  0.02272578 -0.71719713 ...  0.62719563  0.1254869\n",
      "   0.36749417]\n",
      " [-0.9272486  -0.39928463  1.0312822  ...  1.52254309  1.12841475\n",
      "  -0.38179069]\n",
      " [ 1.07594092  0.63387081  1.05945552 ... -2.15959205  0.21789246\n",
      "   0.62772673]\n",
      " ...\n",
      " [ 0.6325448  -1.53768482  2.1355456  ... -0.16672104 -0.44385382\n",
      "   0.79108934]\n",
      " [ 0.84668724  0.21453404  0.68771749 ...  1.4692083   0.96921334\n",
      "  -0.65068474]\n",
      " [ 2.53943203  0.46034921  0.83153303 ...  2.29936947  0.11182258\n",
      "  -0.41968754]]\n",
      "[[ 1.83273343  2.72502081  0.88508989  2.02577923  1.19933281 -0.60808108\n",
      "   0.45076299 -0.86955071  1.4966446   0.96890456 -0.04019548 -0.83947772\n",
      "   1.30161022  0.70799438  0.17077093 -1.94687007 -0.15833695  1.58606514\n",
      "   1.53030103 -0.72320277]\n",
      " [ 0.6668802  -2.30532242  0.48468628  1.35462631  0.11873193  0.5470528\n",
      "   0.71999114 -0.52443498 -0.46901795 -1.0137197   1.35697879 -1.28450456\n",
      "  -1.55238871  0.21087317  0.19659507 -0.95310601  2.15804846 -0.25611541\n",
      "   2.07595058  0.04694527]\n",
      " [ 0.24074228  2.8857518  -0.02398076 -0.45619207  0.61775947 -0.08768374\n",
      "   1.7598211  -0.0310287  -0.49143267 -0.05864391 -2.21346061  1.09133091\n",
      "   0.91179656 -0.1227857  -0.87399992  1.11710729 -0.59250897  1.23725351\n",
      "   2.1247454   0.29239596]\n",
      " [-0.20429551 -0.77424462  0.93140075  2.56591736 -1.93736463  0.53847147\n",
      "   0.98636816  1.48317892 -0.9316097  -0.52778304 -1.32848397  1.13753778\n",
      "   0.41535787 -0.18726676 -0.05624642  0.04668632  1.67011802  0.4152987\n",
      "   1.31109092  0.31623205]\n",
      " [ 1.09015289 -0.94533461 -0.47291319  1.44308758 -1.41304073  0.24204584\n",
      "   1.52215286 -1.49252017 -0.7500706   1.09256336 -0.65637899  2.00067202\n",
      "   1.95505544  0.82371261 -0.3241502   0.33208424  0.94745999  1.74625632\n",
      "  -0.91944918  0.28846144]\n",
      " [-0.6017025   0.03192367 -1.01548936  1.22770549 -0.17345609  1.35080137\n",
      "  -0.86037048  0.7158373   0.60984238  0.26686482 -0.21636159  1.41787894\n",
      "   0.07902572  1.6204684  -1.02807068 -1.40536498  0.76102492 -0.72597531\n",
      "  -1.12648546 -0.36504291]\n",
      " [ 0.86216892  0.07355255 -0.8847286   0.47969621  0.56775355 -2.52894751\n",
      "   0.74832419  2.28863529 -0.46387267 -1.47265713  1.25223156  0.91465664\n",
      "   1.34323688 -0.15168997  0.6523102   0.80027954 -0.21644929  1.17560948\n",
      "  -0.58996743  0.24678019]\n",
      " [-0.49517395  3.07557389  0.71253894  0.712748    3.85793967 -1.3801143\n",
      "   0.83081956  1.6659047   1.69243761  0.13296228  0.13986221 -0.87826817\n",
      "   0.69269606  0.21421905 -0.08289853 -1.69773916 -0.85859561  0.35962374\n",
      "   1.06878568 -0.75989861]\n",
      " [ 0.48923376 -0.88796113 -0.65751914 -0.90416521 -0.15048806 -0.14829296\n",
      "   0.28675095 -0.56957365  0.15975526 -2.26787692  0.30743025  0.28597294\n",
      "  -0.12518244  0.59233942 -1.43639203 -0.90592213  0.92469174 -0.12518484\n",
      "   0.07971001 -0.15744398]\n",
      " [-1.28557386  0.95270524 -0.53939102  0.14069506  0.62788768  2.29219365\n",
      "  -0.82962774 -0.82760174 -0.56911148 -0.78043418 -0.31152511  1.16046637\n",
      "  -0.4582304   0.09694034 -0.46617213  0.79146382 -0.00878153  0.54043276\n",
      "   1.23826241  0.28088357]\n",
      " [ 0.23838465 -0.31300773  1.00339756  0.08864979  1.67179119  1.33473076\n",
      "   0.12355263  0.38378885  1.05457583  1.19666146 -0.10788918  1.5477291\n",
      "   0.24849462 -1.13667271 -0.46484257 -0.66650729 -1.06287353  0.88767178\n",
      "  -1.3245781  -0.42851264]\n",
      " [ 0.81019164 -0.68639587 -0.5296495  -2.59304939  1.30995232 -0.55606816\n",
      "  -1.13324727  0.44878879  1.35560753  0.10193765  1.06049118 -0.16433173\n",
      "  -0.24321111 -0.57777272 -0.28050963 -2.59149432  0.97349072 -0.42081661\n",
      "   0.28768108 -0.75024024]\n",
      " [-0.46537678  0.57065526 -1.25108252 -0.38542738  0.54183933  0.86965646\n",
      "  -0.26774268  1.38744006 -1.69892256 -0.85439808 -0.71263004  0.39242736\n",
      "   0.74278617  0.23731165  0.1784026   2.26495023  0.10561849  1.78939621\n",
      "  -0.3393772   0.82726351]\n",
      " [ 3.2529008  -0.2716698  -0.10473606 -0.65347232 -0.4772939   0.19299501\n",
      "  -0.24751855  1.0219252  -1.31713473 -0.32230875 -0.81102229 -1.13224127\n",
      "  -0.4661557  -0.94713927 -1.59588137  1.16098408  0.88437692 -0.03592836\n",
      "  -0.81545787  0.57296512]\n",
      " [ 0.92910011 -0.17083041  0.53644394  0.26307669 -0.12959656  0.99294165\n",
      "   0.79042809 -0.01912275  1.50571135 -1.93141286 -0.40508326  1.09181591\n",
      "   0.18813696 -1.21369154  0.02421534 -1.96631402 -0.14897842 -2.13131466\n",
      "  -1.27105799 -0.72846331]\n",
      " [-1.72319332 -0.24801135 -1.98982224  0.76569543 -0.05483024  1.6169399\n",
      "  -0.39672495  1.03234591  0.97318951  1.03039243  1.03291805 -0.03354703\n",
      "  -1.06244114 -0.93421584  0.05971477  0.25789653 -2.15828386 -0.27803372\n",
      "   0.74414957 -0.29509484]\n",
      " [-0.33614363  0.18234273  3.33420352  1.01289623 -1.88111465 -0.95816834\n",
      "  -0.54849228  0.11760846  1.14681472  0.49875049  3.17339052 -0.05263497\n",
      "   0.08652485  0.57693406 -1.07782608 -0.88295787 -0.94252338  1.603372\n",
      "   1.84452321 -0.48417252]\n",
      " [-0.64799211 -0.9442706   0.20181386 -1.00347453 -0.93692211 -1.00338072\n",
      "  -0.72752125 -0.18202083  0.86914877 -0.78552144  0.13606129  2.06548614\n",
      "  -1.23992033 -0.44615386  1.73473118 -0.63146192 -0.76518919  1.2707549\n",
      "  -0.73233781 -0.36260969]\n",
      " [-0.72305979  0.738951   -1.93022327 -0.07844206 -1.81559957  0.4605439\n",
      "   0.33409134  0.27987376 -2.18918034  0.81432461  0.33687081 -1.13662591\n",
      "   0.38265856 -1.61195034  1.21405952  3.690454   -0.90503419  0.94045482\n",
      "  -0.6885409   1.15471763]\n",
      " [ 0.28544899  0.35300518  0.13329024 -2.06645372 -0.26458368  0.52454785\n",
      "   0.22382412 -0.48256531  0.1324914   0.91272826  2.64741899 -0.37219899\n",
      "  -1.54807741  0.66289322 -0.8853952   1.18362901 -1.84292719  0.81009787\n",
      "  -0.32840808  0.09184769]\n",
      " [ 0.5583469  -0.93096965 -2.08427088  0.03087775  1.03963889 -0.30228442\n",
      "  -1.27762908 -0.62944586  1.23875647  0.13639754 -0.31880742 -0.94432003\n",
      "  -0.41149095 -1.33716505 -0.33733841 -1.09530213 -0.82715897  1.27031154\n",
      "   0.65317585 -0.53926121]\n",
      " [-1.09268886  0.74740342  0.5070475  -0.85606202  2.01908612  2.70900195\n",
      "  -0.58970859  0.46800069  1.19739259  0.7580425  -0.17689686 -0.81342482\n",
      "  -0.87573084  0.17637048 -1.19943997 -0.89890321 -1.01510745 -0.26677816\n",
      "   1.55931486 -0.50288258]\n",
      " [ 0.15323003 -0.39661869  0.84217249 -1.31762773 -0.33858048 -0.40906579\n",
      "  -1.45824185 -0.65948406 -0.40041082 -0.78639503 -0.76657298 -0.01090659\n",
      "   0.4531942   0.0040088   1.36810522  0.82851472 -0.37259127  0.7918792\n",
      "   0.01315304  0.22884947]\n",
      " [-0.74304592 -0.34502527 -0.68365014  1.18100216  0.41375865 -1.07173557\n",
      "   1.24018982  0.70453543 -0.90634301 -0.88592525 -2.14185161  0.10342902\n",
      "  -0.30175139  0.52738769 -0.49581834  1.02611699  0.30208056 -1.18079803\n",
      "  -1.06605526  0.42038654]\n",
      " [ 0.52422365 -0.0630788  -1.32944562  0.8242892  -1.08125857  1.34495027\n",
      "  -0.50356049 -0.38621991 -0.05314119 -0.4527133   0.08725798 -2.05090576\n",
      "   1.1197161   0.91674695  0.68759279  0.85799726 -1.05838752  0.75637689\n",
      "   0.37967322  0.11635935]]\n",
      "[1 0 1 1 1 0 1 0 1 0 0 1 1 1 0 0 0 0 0 0 1 1 1 1 1 1 1 1 0 1 1 1 1 1 1 1 0\n",
      " 0 1 0 1 1 1 1 1 1 0 0 0 0 0 0 1 0 1 0 0 0 0 0 1 0 0 0 0 0 1 1 1 1 0 0 1 0\n",
      " 0]\n",
      "[1 0 1 1 1 0 1 0 1 0 0 1 1 1 0 0 0 0 0 0 1 1 1 1 1 1 1 1 0 1 1 1 1 1 1 1 0\n",
      " 0 1 0 1 1 1 1 1 1 0 0 0 0 0 0 1 0 1 0 0 0 0 0 1 0 0 0 0 0 1 1 1 1 0 0 1 0\n",
      " 0]\n"
     ]
    }
   ],
   "source": [
    "from sklearn.datasets import make_classification\n",
    "from sklearn.ensemble import GradientBoostingClassifier\n",
    "from sklearn.model_selection import train_test_split\n",
    "#XGBC = XGBClassifier(booster='gbtree',num_parallel_tree = 100)\n",
    "X_2, Y_1 = make_classification(random_state=42)\n",
    "X_train, X_test, y_train, y_test = train_test_split(\n",
    "X_2, y, random_state=100)\n",
    "print(X_train)\n",
    "print(X_test)\n",
    "print(y_train)\n",
    "print(y_train)"
   ]
  },
  {
   "cell_type": "markdown",
   "metadata": {},
   "source": [
    "### **3. Add a timer to measure the training time and the predict time with the `time` library.**\n"
   ]
  },
  {
   "cell_type": "code",
   "execution_count": null,
   "metadata": {},
   "outputs": [],
   "source": []
  },
  {
   "cell_type": "markdown",
   "metadata": {},
   "source": [
    "### **4. Classification Scores.**\n"
   ]
  },
  {
   "cell_type": "code",
   "execution_count": null,
   "metadata": {},
   "outputs": [],
   "source": []
  },
  {
   "cell_type": "markdown",
   "metadata": {},
   "source": [
    "Ensachage\n",
    "L'ensachage signifie agrégation bootstrap. Une façon de réduire la variance\n",
    "d'une estimation consiste à faire la moyenne de plusieurs estimations.\n",
    "Par exemple, nous pouvons former M arbres différents sur différents sous-ensembles de données \n",
    "(choisis au hasard avec remplacement) et calculer l'ensemble:\n",
    "Nous pouvons étudier l'ensachage dans le cadre d'une classification sur l'ensemble de données Iris. Nous pouvons choisir deux estimateurs de base: un arbre de décision et un classificateur k-NN. La figure 1 montre la frontière de décision apprise des estimateurs de base ainsi que leurs ensembles d'ensachage appliqués à l'ensemble de données Iris.\n"
   ]
  },
  {
   "cell_type": "markdown",
   "metadata": {},
   "source": [
    "<div>\n",
    "<img src=\"0__qR1_TDjTpchTmDE_.png\" width=\"450\"/>\n",
    "</div>"
   ]
  },
  {
   "cell_type": "markdown",
   "metadata": {},
   "source": [
    "explication "
   ]
  },
  {
   "cell_type": "markdown",
   "metadata": {},
   "source": [
    "tandis que les k = 1 voisins les plus proches s'ajustent étroitement aux points de données. \n",
    "Les ensembles d'ensachage ont été formés à l'aide de 10 estimateurs de base\n",
    "avec 0,8 sous-échantillonnage des données \n",
    "d'apprentissage et 0,8 sous-échantillonnage des caractéristiques."
   ]
  },
  {
   "cell_type": "markdown",
   "metadata": {},
   "source": [
    "## Empilage"
   ]
  },
  {
   "cell_type": "markdown",
   "metadata": {},
   "source": [
    "L'empilement est une technique d'apprentissage d'ensemble qui combine plusieurs modèles\n",
    "de classification ou de régression via un métaclassificateur ou un métarégresseur. \n",
    "Les modèles de niveau de base sont formés sur la base d'un ensemble de formation complet,\n",
    "puis le méta-modèle est formé sur les sorties du modèle\n",
    "de niveau de base en tant que fonctionnalités."
   ]
  },
  {
   "cell_type": "markdown",
   "metadata": {},
   "source": [
    "Le niveau de base se compose souvent de différents algorithmes d'apprentissage et, par conséquent,\n",
    "les ensembles d'empilement sont souvent hétérogènes."
   ]
  },
  {
   "cell_type": "markdown",
   "metadata": {},
   "source": [
    "<div>\n",
    "<img src=\"algo_.png\" width=\"450\"/>\n",
    "</div>"
   ]
  },
  {
   "cell_type": "markdown",
   "metadata": {},
   "source": [
    "image de l'algorytme d'empilement"
   ]
  },
  {
   "cell_type": "markdown",
   "metadata": {},
   "source": [
    "<div>\n",
    "<img src=\"0__qR1_TDjTpchTmDE_.png\" width=\"450\"/>\n",
    "</div>"
   ]
  },
  {
   "cell_type": "markdown",
   "metadata": {},
   "source": [
    "Exemple :\n",
    "Nous avons produit deux modèles g1 et g2 prédisant avec plus ou moins de réussite la survie des passagers du Titanic.\n",
    "Il se trouve que lorsque le passager est une femme, le modèle g1 est plus précis. Le modèle g2 est lui spécialisé lorsque l’information du port d’embarquement du passager est disponible.\n",
    "Par conséquent, nous utiliserons deux méta-feature décrivant la spécialisation de chaque modèle.\n",
    "f1 vaudra par exemple 1 lorsque le vecteur x décriant le passager indique que c’est une femme et 0 ailleurs.\n",
    "f2 vaudra de la même façon 1 lorsque l’information du port d’embarquement est disponible et 0 sinon.\n",
    "Il reste à ajuster a{1,1}, a{1,2}, a{2,1} et a{2,2} avec une régression linéaire pour optimiser la fonction stack.\n",
    "Ainsi du fait de cette pondération, stack sera fortement ressemblant à g1 pour certains x et à g2 pour d’autres.\n",
    "Le choix des meta-features reste ardu et nécessite beaucoup de tests et d’intuition.\n",
    "La liste des 24 meta-features non triviales utilisées pour le challenge NetFlix est publiée dans [Stacking]. Ce type de stacking est considéré aujourd’hui comme étant à l’état de l’art.\n",
    "Le stacking est disponible dans weka avec la classe :\n",
    "weka.classifiers.meta.Stacking"
   ]
  },
  {
   "cell_type": "code",
   "execution_count": null,
   "metadata": {},
   "outputs": [],
   "source": [
    "##"
   ]
  },
  {
   "cell_type": "code",
   "execution_count": 101,
   "metadata": {},
   "outputs": [
    {
     "data": {
      "text/html": [
       "<div>\n",
       "<style scoped>\n",
       "    .dataframe tbody tr th:only-of-type {\n",
       "        vertical-align: middle;\n",
       "    }\n",
       "\n",
       "    .dataframe tbody tr th {\n",
       "        vertical-align: top;\n",
       "    }\n",
       "\n",
       "    .dataframe thead th {\n",
       "        text-align: right;\n",
       "    }\n",
       "</style>\n",
       "<table border=\"1\" class=\"dataframe\">\n",
       "  <thead>\n",
       "    <tr style=\"text-align: right;\">\n",
       "      <th></th>\n",
       "      <th>ra</th>\n",
       "      <th>dec</th>\n",
       "      <th>redshift</th>\n",
       "      <th>plate</th>\n",
       "      <th>fiberid</th>\n",
       "      <th>PCA_1</th>\n",
       "      <th>PCA_2</th>\n",
       "      <th>PCA_3</th>\n",
       "      <th>class</th>\n",
       "    </tr>\n",
       "  </thead>\n",
       "  <tbody>\n",
       "    <tr>\n",
       "      <th>0</th>\n",
       "      <td>0.693832</td>\n",
       "      <td>0.074025</td>\n",
       "      <td>0.000770</td>\n",
       "      <td>0.373281</td>\n",
       "      <td>0.490490</td>\n",
       "      <td>0.385886</td>\n",
       "      <td>0.069348</td>\n",
       "      <td>0.387685</td>\n",
       "      <td>star</td>\n",
       "    </tr>\n",
       "    <tr>\n",
       "      <th>1</th>\n",
       "      <td>0.694098</td>\n",
       "      <td>0.074642</td>\n",
       "      <td>0.000762</td>\n",
       "      <td>0.006999</td>\n",
       "      <td>0.540541</td>\n",
       "      <td>0.448110</td>\n",
       "      <td>0.215264</td>\n",
       "      <td>0.415556</td>\n",
       "      <td>star</td>\n",
       "    </tr>\n",
       "    <tr>\n",
       "      <th>2</th>\n",
       "      <td>0.694422</td>\n",
       "      <td>0.074519</td>\n",
       "      <td>0.023749</td>\n",
       "      <td>0.002579</td>\n",
       "      <td>0.512513</td>\n",
       "      <td>0.518964</td>\n",
       "      <td>0.154511</td>\n",
       "      <td>0.490959</td>\n",
       "      <td>galaxy</td>\n",
       "    </tr>\n",
       "    <tr>\n",
       "      <th>3</th>\n",
       "      <td>0.695175</td>\n",
       "      <td>0.073487</td>\n",
       "      <td>0.000751</td>\n",
       "      <td>0.373281</td>\n",
       "      <td>0.509510</td>\n",
       "      <td>0.388785</td>\n",
       "      <td>0.279638</td>\n",
       "      <td>0.452852</td>\n",
       "      <td>star</td>\n",
       "    </tr>\n",
       "    <tr>\n",
       "      <th>4</th>\n",
       "      <td>0.695225</td>\n",
       "      <td>0.074199</td>\n",
       "      <td>0.000882</td>\n",
       "      <td>0.373281</td>\n",
       "      <td>0.511512</td>\n",
       "      <td>0.417103</td>\n",
       "      <td>0.357613</td>\n",
       "      <td>0.353918</td>\n",
       "      <td>star</td>\n",
       "    </tr>\n",
       "    <tr>\n",
       "      <th>...</th>\n",
       "      <td>...</td>\n",
       "      <td>...</td>\n",
       "      <td>...</td>\n",
       "      <td>...</td>\n",
       "      <td>...</td>\n",
       "      <td>...</td>\n",
       "      <td>...</td>\n",
       "      <td>...</td>\n",
       "      <td>...</td>\n",
       "    </tr>\n",
       "    <tr>\n",
       "      <th>9995</th>\n",
       "      <td>0.487163</td>\n",
       "      <td>0.770000</td>\n",
       "      <td>0.005920</td>\n",
       "      <td>0.022225</td>\n",
       "      <td>0.245245</td>\n",
       "      <td>0.467976</td>\n",
       "      <td>0.203809</td>\n",
       "      <td>0.440477</td>\n",
       "      <td>galaxy</td>\n",
       "    </tr>\n",
       "    <tr>\n",
       "      <th>9996</th>\n",
       "      <td>0.487122</td>\n",
       "      <td>0.771783</td>\n",
       "      <td>0.022753</td>\n",
       "      <td>0.022225</td>\n",
       "      <td>0.227227</td>\n",
       "      <td>0.469694</td>\n",
       "      <td>0.263266</td>\n",
       "      <td>0.495585</td>\n",
       "      <td>galaxy</td>\n",
       "    </tr>\n",
       "    <tr>\n",
       "      <th>9997</th>\n",
       "      <td>0.488097</td>\n",
       "      <td>0.771724</td>\n",
       "      <td>0.000697</td>\n",
       "      <td>0.864072</td>\n",
       "      <td>0.621622</td>\n",
       "      <td>0.527653</td>\n",
       "      <td>0.260387</td>\n",
       "      <td>0.422956</td>\n",
       "      <td>star</td>\n",
       "    </tr>\n",
       "    <tr>\n",
       "      <th>9998</th>\n",
       "      <td>0.487799</td>\n",
       "      <td>0.772888</td>\n",
       "      <td>0.003388</td>\n",
       "      <td>0.022225</td>\n",
       "      <td>0.228228</td>\n",
       "      <td>0.523447</td>\n",
       "      <td>0.230994</td>\n",
       "      <td>0.465101</td>\n",
       "      <td>galaxy</td>\n",
       "    </tr>\n",
       "    <tr>\n",
       "      <th>9999</th>\n",
       "      <td>0.488543</td>\n",
       "      <td>0.773595</td>\n",
       "      <td>0.022873</td>\n",
       "      <td>0.022225</td>\n",
       "      <td>0.232232</td>\n",
       "      <td>0.412978</td>\n",
       "      <td>0.097915</td>\n",
       "      <td>0.454926</td>\n",
       "      <td>galaxy</td>\n",
       "    </tr>\n",
       "  </tbody>\n",
       "</table>\n",
       "<p>10000 rows × 9 columns</p>\n",
       "</div>"
      ],
      "text/plain": [
       "            ra       dec  redshift     plate   fiberid     PCA_1     PCA_2  \\\n",
       "0     0.693832  0.074025  0.000770  0.373281  0.490490  0.385886  0.069348   \n",
       "1     0.694098  0.074642  0.000762  0.006999  0.540541  0.448110  0.215264   \n",
       "2     0.694422  0.074519  0.023749  0.002579  0.512513  0.518964  0.154511   \n",
       "3     0.695175  0.073487  0.000751  0.373281  0.509510  0.388785  0.279638   \n",
       "4     0.695225  0.074199  0.000882  0.373281  0.511512  0.417103  0.357613   \n",
       "...        ...       ...       ...       ...       ...       ...       ...   \n",
       "9995  0.487163  0.770000  0.005920  0.022225  0.245245  0.467976  0.203809   \n",
       "9996  0.487122  0.771783  0.022753  0.022225  0.227227  0.469694  0.263266   \n",
       "9997  0.488097  0.771724  0.000697  0.864072  0.621622  0.527653  0.260387   \n",
       "9998  0.487799  0.772888  0.003388  0.022225  0.228228  0.523447  0.230994   \n",
       "9999  0.488543  0.773595  0.022873  0.022225  0.232232  0.412978  0.097915   \n",
       "\n",
       "         PCA_3   class  \n",
       "0     0.387685    star  \n",
       "1     0.415556    star  \n",
       "2     0.490959  galaxy  \n",
       "3     0.452852    star  \n",
       "4     0.353918    star  \n",
       "...        ...     ...  \n",
       "9995  0.440477  galaxy  \n",
       "9996  0.495585  galaxy  \n",
       "9997  0.422956    star  \n",
       "9998  0.465101  galaxy  \n",
       "9999  0.454926  galaxy  \n",
       "\n",
       "[10000 rows x 9 columns]"
      ]
     },
     "execution_count": 101,
     "metadata": {},
     "output_type": "execute_result"
    }
   ],
   "source": [
    "pd.read_csv(\"astro_data2.csv\", sep=\",\", index_col=0)"
   ]
  },
  {
   "cell_type": "code",
   "execution_count": 109,
   "metadata": {},
   "outputs": [
    {
     "data": {
      "text/plain": [
       "0.88"
      ]
     },
     "execution_count": 109,
     "metadata": {},
     "output_type": "execute_result"
    }
   ],
   "source": [
    "from sklearn.ensemble import RandomForestClassifier\n",
    "from sklearn.pipeline import make_pipeline\n",
    "from sklearn.preprocessing import StandardScaler\n",
    "from sklearn.svm import LinearSVC\n",
    "from sklearn.ensemble import StackingClassifier\n",
    "from sklearn.linear_model import LogisticRegression\n",
    "from sklearn.ensemble import AdaBoostClassifier\n",
    "estimators = [\n",
    "    ('rf', RandomForestClassifier(n_estimators=10, random_state=42)),\n",
    "    ('svr', make_pipeline(StandardScaler(),\n",
    "                          LinearSVC(random_state=42)))]\n",
    "clf = StackingClassifier(\n",
    "    estimators=estimators, final_estimator=LogisticRegression())\n",
    "from sklearn.model_selection import train_test_split\n",
    "X_train, X_test, y_train, y_test = train_test_split(\n",
    "    X, y, stratify=y, random_state=42\n",
    ")\n",
    "clf.fit(X_train, y_train).score(X_test, y_test)\n"
   ]
  },
  {
   "cell_type": "code",
   "execution_count": 113,
   "metadata": {},
   "outputs": [
    {
     "name": "stdout",
     "output_type": "stream",
     "text": [
      "0.9733333333333334 0.84\n"
     ]
    }
   ],
   "source": [
    "\n",
    "from sklearn.ensemble import RandomForestClassifier\n",
    "from sklearn.svm import LinearSVC\n",
    "from sklearn.linear_model import LogisticRegression\n",
    "from sklearn.preprocessing import StandardScaler\n",
    "from sklearn.preprocessing import MinMaxScaler\n",
    "from sklearn.svm import SVC\n",
    "from sklearn.pipeline import make_pipeline\n",
    "from sklearn.ensemble import StackingClassifier\n",
    "from sklearn.metrics import accuracy_score\n",
    "\n",
    "estimators = [\n",
    "    ('rf', RandomForestClassifier(n_estimators=10, random_state=42)),\n",
    "    ('svr', make_pipeline(MinMaxScaler(),\n",
    "                          SVC(gamma='auto')))\n",
    "]\n",
    "clf = StackingClassifier(\n",
    "     estimators=estimators, final_estimator=LogisticRegression()\n",
    ")\n",
    "from sklearn.model_selection import train_test_split\n",
    "X_train, X_test, y_train, y_test = train_test_split(\n",
    "     X, y, stratify=y, random_state=42)\n",
    "sctrain=clf.fit(X_train, y_train).score(X_train, y_train)\n",
    "sctest=clf.fit(X_train, y_train).score(X_test, y_test)\n",
    "print(sctrain, sctest)"
   ]
  },
  {
   "cell_type": "code",
   "execution_count": 114,
   "metadata": {},
   "outputs": [
    {
     "ename": "ModuleNotFoundError",
     "evalue": "No module named 'xgboost'",
     "output_type": "error",
     "traceback": [
      "\u001b[1;31m---------------------------------------------------------------------------\u001b[0m",
      "\u001b[1;31mModuleNotFoundError\u001b[0m                       Traceback (most recent call last)",
      "\u001b[1;32m<ipython-input-114-47f83b01015e>\u001b[0m in \u001b[0;36m<module>\u001b[1;34m\u001b[0m\n\u001b[0;32m      2\u001b[0m \u001b[1;32mfrom\u001b[0m \u001b[0msklearn\u001b[0m\u001b[1;33m.\u001b[0m\u001b[0mneighbors\u001b[0m \u001b[1;32mimport\u001b[0m \u001b[0mKNeighborsClassifier\u001b[0m\u001b[1;33m\u001b[0m\u001b[1;33m\u001b[0m\u001b[0m\n\u001b[0;32m      3\u001b[0m \u001b[1;32mfrom\u001b[0m \u001b[0msklearn\u001b[0m\u001b[1;33m.\u001b[0m\u001b[0mensemble\u001b[0m \u001b[1;32mimport\u001b[0m \u001b[0mRandomForestClassifier\u001b[0m\u001b[1;33m\u001b[0m\u001b[1;33m\u001b[0m\u001b[0m\n\u001b[1;32m----> 4\u001b[1;33m \u001b[1;32mfrom\u001b[0m \u001b[0mxgboost\u001b[0m \u001b[1;32mimport\u001b[0m \u001b[0mXGBClassifier\u001b[0m\u001b[1;33m\u001b[0m\u001b[1;33m\u001b[0m\u001b[0m\n\u001b[0m\u001b[0;32m      5\u001b[0m \u001b[0mdfsc\u001b[0m\u001b[1;33m=\u001b[0m\u001b[0mpd\u001b[0m\u001b[1;33m.\u001b[0m\u001b[0mDataFrame\u001b[0m\u001b[1;33m(\u001b[0m\u001b[0mdfsc\u001b[0m\u001b[1;33m)\u001b[0m\u001b[1;33m\u001b[0m\u001b[1;33m\u001b[0m\u001b[0m\n\u001b[0;32m      6\u001b[0m \u001b[0mX\u001b[0m\u001b[1;33m=\u001b[0m\u001b[0mdfsc\u001b[0m\u001b[1;33m\u001b[0m\u001b[1;33m\u001b[0m\u001b[0m\n",
      "\u001b[1;31mModuleNotFoundError\u001b[0m: No module named 'xgboost'"
     ]
    }
   ],
   "source": [
    "from vecstack import stacking\n",
    "from sklearn.neighbors import KNeighborsClassifier\n",
    "from sklearn.ensemble import RandomForestClassifier\n",
    "from xgboost import XGBClassifier\n",
    "dfsc=pd.DataFrame(dfsc)\n",
    "X=dfsc\n",
    "y=df['class']\n",
    "X_train, X_test, y_train, y_test = train_test_split(X, y, test_size=0.3, random_state=42)\n",
    "models = [\n",
    "    KNeighborsClassifier(n_neighbors=5,\n",
    "                        n_jobs=-1),\n",
    "    RandomForestClassifier(random_state=0, n_jobs=-1, \n",
    "                           n_estimators=100, max_depth=3),\n",
    "    XGBClassifier(random_state=0, n_jobs=-1, learning_rate=0.1, \n",
    "                  n_estimators=100, max_depth=3)]\n",
    "S_train, S_test = stacking(models,\n",
    "                           X_train, y_train, X_test,\n",
    "                           regression=False, \n",
    "                           mode='oof_pred_bag', \n",
    "                           needs_proba=False,\n",
    "                           save_dir=None, \n",
    "                           metric=accuracy_score, \n",
    "                           n_folds=4, \n",
    "                           stratified=True,\n",
    "                           shuffle=True,\n",
    "                           random_state=42,\n",
    "                           verbose=2)"
   ]
  },
  {
   "cell_type": "code",
   "execution_count": 117,
   "metadata": {},
   "outputs": [
    {
     "ename": "ModuleNotFoundError",
     "evalue": "No module named 'RandomForestClassifier'",
     "output_type": "error",
     "traceback": [
      "\u001b[1;31m---------------------------------------------------------------------------\u001b[0m",
      "\u001b[1;31mModuleNotFoundError\u001b[0m                       Traceback (most recent call last)",
      "\u001b[1;32m<ipython-input-117-5b3554071960>\u001b[0m in \u001b[0;36m<module>\u001b[1;34m\u001b[0m\n\u001b[1;32m----> 1\u001b[1;33m \u001b[1;32mimport\u001b[0m \u001b[0mRandomForestClassifier\u001b[0m\u001b[1;33m\u001b[0m\u001b[1;33m\u001b[0m\u001b[0m\n\u001b[0m\u001b[0;32m      2\u001b[0m \u001b[1;32mfrom\u001b[0m \u001b[0msklearn\u001b[0m\u001b[1;33m.\u001b[0m\u001b[0msvm\u001b[0m \u001b[1;32mimport\u001b[0m \u001b[0mLinearSVC\u001b[0m\u001b[1;33m\u001b[0m\u001b[1;33m\u001b[0m\u001b[0m\n\u001b[0;32m      3\u001b[0m \u001b[1;32mfrom\u001b[0m \u001b[0msklearn\u001b[0m\u001b[1;33m.\u001b[0m\u001b[0mlinear_model\u001b[0m \u001b[1;32mimport\u001b[0m \u001b[0mLogisticRegression\u001b[0m\u001b[1;33m\u001b[0m\u001b[1;33m\u001b[0m\u001b[0m\n\u001b[0;32m      4\u001b[0m \u001b[1;32mfrom\u001b[0m \u001b[0msklearn\u001b[0m\u001b[1;33m.\u001b[0m\u001b[0mpreprocessing\u001b[0m \u001b[1;32mimport\u001b[0m \u001b[0mStandardScaler\u001b[0m\u001b[1;33m\u001b[0m\u001b[1;33m\u001b[0m\u001b[0m\n\u001b[0;32m      5\u001b[0m \u001b[1;32mfrom\u001b[0m \u001b[0msklearn\u001b[0m\u001b[1;33m.\u001b[0m\u001b[0mpipeline\u001b[0m \u001b[1;32mimport\u001b[0m \u001b[0mmake_pipeline\u001b[0m\u001b[1;33m\u001b[0m\u001b[1;33m\u001b[0m\u001b[0m\n",
      "\u001b[1;31mModuleNotFoundError\u001b[0m: No module named 'RandomForestClassifier'"
     ]
    }
   ],
   "source": [
    "import RandomForestClassifier\n",
    "from sklearn.model_selection import train_test_split\n",
    "from sklearn.svm import LinearSVC\n",
    "from sklearn.linear_model import LogisticRegression\n",
    "from sklearn.preprocessing import StandardScaler\n",
    "from sklearn.pipeline import make_pipeline\n",
    "from sklearn.neighbors import NearestNeighbors\n",
    "from sklearn.naive_bayes import GaussianNB\n",
    "from sklearn.preprocessing import MinMaxScaler\n",
    "scaler = MinMaxScaler()\n",
    "estimators = [('lr',make_pipeline(scaler,LogisticRegression())),\n",
    "              ('GNB', GaussianNB()),('xbg', XGBClassifier ()),]\n",
    "clf = SC(estimators=estimators, final_estimator=RandomForestClassifier(n_estimators=10, random_state=42))\n",
    "X_train, X_test, y_train,y_test = train_test_split(astro,Astro_df['class'],test_size=0.33,random_state = 42,stratify = Astro_df['class'])\n",
    "clf.fit(X_train,y_train).score(X_test, y_test)"
   ]
  },
  {
   "cell_type": "code",
   "execution_count": null,
   "metadata": {},
   "outputs": [],
   "source": []
  }
 ],
 "metadata": {
  "kernelspec": {
   "display_name": "Python 3",
   "language": "python",
   "name": "python3"
  },
  "language_info": {
   "codemirror_mode": {
    "name": "ipython",
    "version": 3
   },
   "file_extension": ".py",
   "mimetype": "text/x-python",
   "name": "python",
   "nbconvert_exporter": "python",
   "pygments_lexer": "ipython3",
   "version": "3.7.6"
  }
 },
 "nbformat": 4,
 "nbformat_minor": 2
}
