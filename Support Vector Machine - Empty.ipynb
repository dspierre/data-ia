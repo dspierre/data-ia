{
 "cells": [
  {
   "cell_type": "markdown",
   "metadata": {
    "_cell_guid": "de05512e-6991-44df-9599-da92a7e459ac",
    "_uuid": "d8bdd5f0320e244e4702ed8ec1c2482b022c51cd"
   },
   "source": [
    "\n",
    "### 1. Import des libraries utiles"
   ]
  },
  {
   "cell_type": "code",
   "execution_count": 253,
   "metadata": {},
   "outputs": [],
   "source": [
    "import numpy as np\n",
    "import matplotlib.pyplot as plt\n",
    "import pandas as pd\n",
    "import seaborn as sns\n",
    "from sklearn import svm\n",
    "from sklearn.pipeline import make_pipeline\n",
    "from sklearn.preprocessing import StandardScaler\n",
    "from sklearn.svm import SVR, NuSVR, LinearSVR, SVC, NuSVC, LinearSVC\n",
    "from sklearn.datasets import make_classification\n",
    "from sklearn.model_selection import train_test_split, GridSearchCV\n",
    "from sklearn.feature_extraction.text import CountVectorizer\n",
    "from sklearn.metrics import classification_report\n",
    "from collections import Counter"
   ]
  },
  {
   "cell_type": "markdown",
   "metadata": {
    "_cell_guid": "e0a17223-f682-45fc-89a5-667af9782bbe",
    "_uuid": "7964157913fbcff581fc1929eed487708e81ac9c"
   },
   "source": [
    "### 2. Description du dataset\n",
    "1. Charger le dataset et afficher sa dimension\n",
    "\n",
    "2. Afficher les 10 premières lignes de la table\n",
    "\n",
    "3. Afficher la liste des variables et leurs types\n",
    "\n",
    "4. En utilisant un piechart, représenter la variable v1.\n",
    "\n",
    "5. Renommer les variables v1 et v2 en conséquence.\n"
   ]
  },
  {
   "cell_type": "code",
   "execution_count": 256,
   "metadata": {
    "scrolled": true
   },
   "outputs": [
    {
     "name": "stdout",
     "output_type": "stream",
     "text": [
      "     v1                                                 v2 Unnamed: 3  \\\n",
      "0   ham  Go until jurong point, crazy.. Available only ...        NaN   \n",
      "1   ham                      Ok lar... Joking wif u oni...        NaN   \n",
      "2  spam  Free entry in 2 a wkly comp to win FA Cup fina...        NaN   \n",
      "3   ham  U dun say so early hor... U c already then say...        NaN   \n",
      "4   ham  Nah I don't think he goes to usf, he lives aro...        NaN   \n",
      "5  spam  FreeMsg Hey there darling it's been 3 week's n...        NaN   \n",
      "6   ham  Even my brother is not like to speak with me. ...        NaN   \n",
      "7   ham  As per your request 'Melle Melle (Oru Minnamin...        NaN   \n",
      "8  spam  WINNER!! As a valued network customer you have...        NaN   \n",
      "9  spam  Had your mobile 11 months or more? U R entitle...        NaN   \n",
      "\n",
      "  Unnamed: 4  \n",
      "0        NaN  \n",
      "1        NaN  \n",
      "2        NaN  \n",
      "3        NaN  \n",
      "4        NaN  \n",
      "5        NaN  \n",
      "6        NaN  \n",
      "7        NaN  \n",
      "8        NaN  \n",
      "9        NaN   \n",
      " v1            object\n",
      "v2            object\n",
      "Unnamed: 3    object\n",
      "Unnamed: 4    object\n",
      "dtype: object\n"
     ]
    },
    {
     "data": {
      "image/png": "[encoded data removed]",
      "text/plain": [
       "<Figure size 432x288 with 1 Axes>"
      ]
     },
     "metadata": {},
     "output_type": "display_data"
    }
   ],
   "source": [
    "#sms = pd.read_csv('SMS_spam.csv', encoding='latin-1')\n",
    "plt.pie([df_sms.v1.value_counts()[0],df_sms.v1.value_counts()[1]],labels=['ham','spam'],autopct='%1.1f%%')\n",
    "#si spam<5% besoin ajout données\n",
    "print(df_sms.head(10),'\\n',df_sms.dtypes)"
   ]
  },
  {
   "cell_type": "code",
   "execution_count": 104,
   "metadata": {
    "scrolled": true
   },
   "outputs": [
    {
     "data": {
      "text/html": [
       "<div>\n",
       "<style scoped>\n",
       "    .dataframe tbody tr th:only-of-type {\n",
       "        vertical-align: middle;\n",
       "    }\n",
       "\n",
       "    .dataframe tbody tr th {\n",
       "        vertical-align: top;\n",
       "    }\n",
       "\n",
       "    .dataframe thead th {\n",
       "        text-align: right;\n",
       "    }\n",
       "</style>\n",
       "<table border=\"1\" class=\"dataframe\">\n",
       "  <thead>\n",
       "    <tr style=\"text-align: right;\">\n",
       "      <th></th>\n",
       "      <th>v1</th>\n",
       "      <th>v2</th>\n",
       "      <th>Unnamed: 2</th>\n",
       "      <th>Unnamed: 3</th>\n",
       "      <th>Unnamed: 4</th>\n",
       "    </tr>\n",
       "  </thead>\n",
       "  <tbody>\n",
       "    <tr>\n",
       "      <td>0</td>\n",
       "      <td>ham</td>\n",
       "      <td>Go until jurong point, crazy.. Available only ...</td>\n",
       "      <td>NaN</td>\n",
       "      <td>NaN</td>\n",
       "      <td>NaN</td>\n",
       "    </tr>\n",
       "    <tr>\n",
       "      <td>1</td>\n",
       "      <td>ham</td>\n",
       "      <td>Ok lar... Joking wif u oni...</td>\n",
       "      <td>NaN</td>\n",
       "      <td>NaN</td>\n",
       "      <td>NaN</td>\n",
       "    </tr>\n",
       "    <tr>\n",
       "      <td>2</td>\n",
       "      <td>spam</td>\n",
       "      <td>Free entry in 2 a wkly comp to win FA Cup fina...</td>\n",
       "      <td>NaN</td>\n",
       "      <td>NaN</td>\n",
       "      <td>NaN</td>\n",
       "    </tr>\n",
       "    <tr>\n",
       "      <td>3</td>\n",
       "      <td>ham</td>\n",
       "      <td>U dun say so early hor... U c already then say...</td>\n",
       "      <td>NaN</td>\n",
       "      <td>NaN</td>\n",
       "      <td>NaN</td>\n",
       "    </tr>\n",
       "    <tr>\n",
       "      <td>4</td>\n",
       "      <td>ham</td>\n",
       "      <td>Nah I don't think he goes to usf, he lives aro...</td>\n",
       "      <td>NaN</td>\n",
       "      <td>NaN</td>\n",
       "      <td>NaN</td>\n",
       "    </tr>\n",
       "    <tr>\n",
       "      <td>5</td>\n",
       "      <td>spam</td>\n",
       "      <td>FreeMsg Hey there darling it's been 3 week's n...</td>\n",
       "      <td>NaN</td>\n",
       "      <td>NaN</td>\n",
       "      <td>NaN</td>\n",
       "    </tr>\n",
       "    <tr>\n",
       "      <td>6</td>\n",
       "      <td>ham</td>\n",
       "      <td>Even my brother is not like to speak with me. ...</td>\n",
       "      <td>NaN</td>\n",
       "      <td>NaN</td>\n",
       "      <td>NaN</td>\n",
       "    </tr>\n",
       "    <tr>\n",
       "      <td>7</td>\n",
       "      <td>ham</td>\n",
       "      <td>As per your request 'Melle Melle (Oru Minnamin...</td>\n",
       "      <td>NaN</td>\n",
       "      <td>NaN</td>\n",
       "      <td>NaN</td>\n",
       "    </tr>\n",
       "    <tr>\n",
       "      <td>8</td>\n",
       "      <td>spam</td>\n",
       "      <td>WINNER!! As a valued network customer you have...</td>\n",
       "      <td>NaN</td>\n",
       "      <td>NaN</td>\n",
       "      <td>NaN</td>\n",
       "    </tr>\n",
       "    <tr>\n",
       "      <td>9</td>\n",
       "      <td>spam</td>\n",
       "      <td>Had your mobile 11 months or more? U R entitle...</td>\n",
       "      <td>NaN</td>\n",
       "      <td>NaN</td>\n",
       "      <td>NaN</td>\n",
       "    </tr>\n",
       "  </tbody>\n",
       "</table>\n",
       "</div>"
      ],
      "text/plain": [
       "     v1                                                 v2 Unnamed: 2  \\\n",
       "0   ham  Go until jurong point, crazy.. Available only ...        NaN   \n",
       "1   ham                      Ok lar... Joking wif u oni...        NaN   \n",
       "2  spam  Free entry in 2 a wkly comp to win FA Cup fina...        NaN   \n",
       "3   ham  U dun say so early hor... U c already then say...        NaN   \n",
       "4   ham  Nah I don't think he goes to usf, he lives aro...        NaN   \n",
       "5  spam  FreeMsg Hey there darling it's been 3 week's n...        NaN   \n",
       "6   ham  Even my brother is not like to speak with me. ...        NaN   \n",
       "7   ham  As per your request 'Melle Melle (Oru Minnamin...        NaN   \n",
       "8  spam  WINNER!! As a valued network customer you have...        NaN   \n",
       "9  spam  Had your mobile 11 months or more? U R entitle...        NaN   \n",
       "\n",
       "  Unnamed: 3 Unnamed: 4  \n",
       "0        NaN        NaN  \n",
       "1        NaN        NaN  \n",
       "2        NaN        NaN  \n",
       "3        NaN        NaN  \n",
       "4        NaN        NaN  \n",
       "5        NaN        NaN  \n",
       "6        NaN        NaN  \n",
       "7        NaN        NaN  \n",
       "8        NaN        NaN  \n",
       "9        NaN        NaN  "
      ]
     },
     "execution_count": 104,
     "metadata": {},
     "output_type": "execute_result"
    }
   ],
   "source": [
    "# 2.3. Afficher les 10 premières lignes du dataframe.\n",
    "df_sms.head(10)\n",
    "# La 1è ligne contient le nom des colonnes"
   ]
  },
  {
   "cell_type": "code",
   "execution_count": 106,
   "metadata": {},
   "outputs": [
    {
     "data": {
      "text/plain": [
       "v1            object\n",
       "v2            object\n",
       "Unnamed: 2    object\n",
       "Unnamed: 3    object\n",
       "Unnamed: 4    object\n",
       "dtype: object"
      ]
     },
     "execution_count": 106,
     "metadata": {},
     "output_type": "execute_result"
    }
   ],
   "source": [
    "# 2.6. Afficher le type des variables disponibles\n",
    "df_sms.dtypes"
   ]
  },
  {
   "cell_type": "code",
   "execution_count": 111,
   "metadata": {},
   "outputs": [
    {
     "data": {
      "text/plain": [
       "([<matplotlib.patches.Wedge at 0x1fb1d920ac8>,\n",
       "  <matplotlib.patches.Wedge at 0x1fb1d9292c8>],\n",
       " [Text(-1.0038714981945518, 0.4497132587689916, 'ham'),\n",
       "  Text(1.0038714771419537, -0.44971330576360763, 'spam')],\n",
       " [Text(-0.5475662717424827, 0.24529814114672266, '86.6%'),\n",
       "  Text(0.5475662602592474, -0.2452981667801496, '13.4%')])"
      ]
     },
     "execution_count": 111,
     "metadata": {},
     "output_type": "execute_result"
    },
    {
     "data": {
      "image/png": "[encoded data removed]",
      "text/plain": [
       "<Figure size 432x288 with 1 Axes>"
      ]
     },
     "metadata": {},
     "output_type": "display_data"
    }
   ],
   "source": [
    "plt.pie([df_sms.v1.value_counts()[0],df_sms.v1.value_counts()[1]],labels=['ham','spam'],autopct='%1.1f%%')"
   ]
  },
  {
   "cell_type": "code",
   "execution_count": 153,
   "metadata": {},
   "outputs": [],
   "source": [
    "#Supprimer les variables qui présentent beaucoup de données manquantes.\n",
    "#df_sms.drop('Unnamed: 2', axis=1, inplace=True)\n",
    "#df_sms = df_sms.drop('Unnamed: 2', 1)"
   ]
  },
  {
   "cell_type": "markdown",
   "metadata": {},
   "source": [
    " ### 3. Analyse des valeurs manquantes\n",
    "1. Afficher le nombre ainsi que le pourcentage de valeurs manquantes par variable\n",
    "\n",
    "2. Supprimer les variables qui présentent beaucoup de données manquantes.\n"
   ]
  },
  {
   "cell_type": "code",
   "execution_count": 257,
   "metadata": {
    "scrolled": true
   },
   "outputs": [
    {
     "name": "stdout",
     "output_type": "stream",
     "text": [
      "v1               0\n",
      "v2               0\n",
      "Unnamed: 3    5560\n",
      "Unnamed: 4    5566\n",
      "dtype: int64 \n",
      " v1            0.000000\n",
      "v2            0.000000\n",
      "Unnamed: 3    0.997846\n",
      "Unnamed: 4    0.998923\n",
      "dtype: float64\n"
     ]
    },
    {
     "data": {
      "image/png": "[encoded data removed]",
      "text/plain": [
       "<Figure size 432x288 with 1 Axes>"
      ]
     },
     "metadata": {
      "needs_background": "light"
     },
     "output_type": "display_data"
    }
   ],
   "source": [
    "na = df_sms.isnull().sum()\n",
    "nap = na/len(df_sms)\n",
    "print(na,'\\n',nap)\n",
    "sns.heatmap(df_sms.isna(),cbar=False)\n",
    "plt.show()"
   ]
  },
  {
   "cell_type": "code",
   "execution_count": null,
   "metadata": {},
   "outputs": [],
   "source": [
    "sms.drop(sms.columns[range(2,5)],axis=1,inplace=True)\n",
    "sms"
   ]
  },
  {
   "cell_type": "markdown",
   "metadata": {},
   "source": [
    " ### 4. Analyse de données\n",
    "1. En utilisant la fonction `Counter` de la librairie `collections` et les méthodes `.join` et `.split`, déterminer les 20 mots les plus fréquents dans le dataset. Représenter les résultats par un barplot.\n",
    "\n",
    "2. De la même manière, les 20 mots les plus fréquents dans les non spam du dataset. Représenter les résultats par un barplot.\n",
    "\n",
    "3. Même question pour les spams."
   ]
  },
  {
   "cell_type": "code",
   "execution_count": 95,
   "metadata": {
    "scrolled": true
   },
   "outputs": [
    {
     "name": "stdout",
     "output_type": "stream",
     "text": [
      "       0     1\n",
      "0     to  2134\n",
      "1    you  1622\n",
      "2      I  1466\n",
      "3      a  1327\n",
      "4    the  1197\n",
      "5    and   857\n",
      "6     in   798\n",
      "7     is   781\n",
      "8      i   742\n",
      "9      u   692\n",
      "10   for   644\n",
      "11    my   628\n",
      "12    of   591\n",
      "13  your   560\n",
      "14    me   557\n",
      "15    on   487\n",
      "16  have   474\n",
      "17     2   453\n",
      "18  that   421\n",
      "19    it   396\n"
     ]
    },
    {
     "data": {
      "text/plain": [
       "<BarContainer object of 20 artists>"
      ]
     },
     "execution_count": 95,
     "metadata": {},
     "output_type": "execute_result"
    },
    {
     "data": {
      "image/png": "[encoded data removed]",
      "text/plain": [
       "<Figure size 432x288 with 1 Axes>"
      ]
     },
     "metadata": {
      "needs_background": "light"
     },
     "output_type": "display_data"
    }
   ],
   "source": [
    "from collections import Counter\n",
    "freq = pd.DataFrame(Counter(' '.join(df_sms['v1']).split()).most_common(20))\n",
    "print(freq)\n",
    "plt.bar(freq[0],freq[1])"
   ]
  },
  {
   "cell_type": "code",
   "execution_count": 121,
   "metadata": {
    "scrolled": true
   },
   "outputs": [
    {
     "name": "stdout",
     "output_type": "stream",
     "text": [
      "       0     1\n",
      "0     to  1530\n",
      "1    you  1458\n",
      "2      I  1436\n",
      "3    the  1019\n",
      "4      a   969\n",
      "5    and   738\n",
      "6      i   736\n",
      "7     in   734\n",
      "8      u   645\n",
      "9     is   638\n",
      "10    my   619\n",
      "11    me   537\n",
      "12    of   498\n",
      "13   for   475\n",
      "14  that   398\n",
      "15    it   375\n",
      "16  your   373\n",
      "17    on   352\n",
      "18  have   346\n",
      "19    at   333\n"
     ]
    },
    {
     "data": {
      "text/plain": [
       "<BarContainer object of 20 artists>"
      ]
     },
     "execution_count": 121,
     "metadata": {},
     "output_type": "execute_result"
    },
    {
     "data": {
      "image/png": "[encoded data removed]",
      "text/plain": [
       "<Figure size 432x288 with 1 Axes>"
      ]
     },
     "metadata": {
      "needs_background": "light"
     },
     "output_type": "display_data"
    }
   ],
   "source": [
    "\n",
    "freqh = pd.DataFrame(Counter(' '.join(df_sms.v2[i] for i in range(len(df_sms)) if df_sms.v1[i]=='ham').split()).most_common(20))\n",
    "print(freqh)\n",
    "plt.bar(freqh[0],freqh[1])"
   ]
  },
  {
   "cell_type": "code",
   "execution_count": 122,
   "metadata": {},
   "outputs": [
    {
     "name": "stdout",
     "output_type": "stream",
     "text": [
      "       0    1\n",
      "0     to  604\n",
      "1      a  358\n",
      "2   your  187\n",
      "3   call  185\n",
      "4     or  185\n",
      "5    the  178\n",
      "6      2  169\n",
      "7    for  169\n",
      "8    you  164\n",
      "9     is  143\n",
      "10  Call  136\n",
      "11    on  135\n",
      "12  have  128\n",
      "13   and  119\n",
      "14  from  116\n",
      "15    ur  107\n",
      "16  with  101\n",
      "17     &   98\n",
      "18     4   93\n",
      "19    of   93\n"
     ]
    },
    {
     "data": {
      "text/plain": [
       "<BarContainer object of 20 artists>"
      ]
     },
     "execution_count": 122,
     "metadata": {},
     "output_type": "execute_result"
    },
    {
     "data": {
      "image/png": "[encoded data removed]",
      "text/plain": [
       "<Figure size 432x288 with 1 Axes>"
      ]
     },
     "metadata": {
      "needs_background": "light"
     },
     "output_type": "display_data"
    }
   ],
   "source": [
    "freqh = pd.DataFrame(Counter(' '.join(df_sms.v2[i] for i in range(len(df_sms)) if df_sms.v1[i]=='spam').split()).most_common(20))\n",
    "print(freqh)\n",
    "plt.bar(freqh[0],freqh[1])"
   ]
  },
  {
   "cell_type": "markdown",
   "metadata": {},
   "source": [
    " ### 5. Traitement des données avant modélisation\n",
    "1. Que fait la fonction `CountVectorizer` de la librairie `feature_extraction` issue de `scikitlearn`?\n",
    "\n",
    "2. Appliquer la fonction aux données et convertir le résultat en un `numpy array` que vous appelerez `X`.\n",
    "\n",
    "3. Afficher les dimensions de `X`. Commenter.\n",
    "\n",
    "4. Recoder la variable `is_spam` en utilisant la méthode `map`. "
   ]
  },
  {
   "cell_type": "code",
   "execution_count": 125,
   "metadata": {},
   "outputs": [
    {
     "name": "stdout",
     "output_type": "stream",
     "text": [
      "Help on class CountVectorizer in module sklearn.feature_extraction.text:\n",
      "\n",
      "class CountVectorizer(sklearn.base.BaseEstimator, VectorizerMixin)\n",
      " |  CountVectorizer(input='content', encoding='utf-8', decode_error='strict', strip_accents=None, lowercase=True, preprocessor=None, tokenizer=None, stop_words=None, token_pattern='(?u)\\\\b\\\\w\\\\w+\\\\b', ngram_range=(1, 1), analyzer='word', max_df=1.0, min_df=1, max_features=None, vocabulary=None, binary=False, dtype=<class 'numpy.int64'>)\n",
      " |  \n",
      " |  Convert a collection of text documents to a matrix of token counts\n",
      " |  \n",
      " |  This implementation produces a sparse representation of the counts using\n",
      " |  scipy.sparse.csr_matrix.\n",
      " |  \n",
      " |  If you do not provide an a-priori dictionary and you do not use an analyzer\n",
      " |  that does some kind of feature selection then the number of features will\n",
      " |  be equal to the vocabulary size found by analyzing the data.\n",
      " |  \n",
      " |  Read more in the :ref:`User Guide <text_feature_extraction>`.\n",
      " |  \n",
      " |  Parameters\n",
      " |  ----------\n",
      " |  input : string {'filename', 'file', 'content'}\n",
      " |      If 'filename', the sequence passed as an argument to fit is\n",
      " |      expected to be a list of filenames that need reading to fetch\n",
      " |      the raw content to analyze.\n",
      " |  \n",
      " |      If 'file', the sequence items must have a 'read' method (file-like\n",
      " |      object) that is called to fetch the bytes in memory.\n",
      " |  \n",
      " |      Otherwise the input is expected to be the sequence strings or\n",
      " |      bytes items are expected to be analyzed directly.\n",
      " |  \n",
      " |  encoding : string, 'utf-8' by default.\n",
      " |      If bytes or files are given to analyze, this encoding is used to\n",
      " |      decode.\n",
      " |  \n",
      " |  decode_error : {'strict', 'ignore', 'replace'}\n",
      " |      Instruction on what to do if a byte sequence is given to analyze that\n",
      " |      contains characters not of the given `encoding`. By default, it is\n",
      " |      'strict', meaning that a UnicodeDecodeError will be raised. Other\n",
      " |      values are 'ignore' and 'replace'.\n",
      " |  \n",
      " |  strip_accents : {'ascii', 'unicode', None}\n",
      " |      Remove accents and perform other character normalization\n",
      " |      during the preprocessing step.\n",
      " |      'ascii' is a fast method that only works on characters that have\n",
      " |      an direct ASCII mapping.\n",
      " |      'unicode' is a slightly slower method that works on any characters.\n",
      " |      None (default) does nothing.\n",
      " |  \n",
      " |      Both 'ascii' and 'unicode' use NFKD normalization from\n",
      " |      :func:`unicodedata.normalize`.\n",
      " |  \n",
      " |  lowercase : boolean, True by default\n",
      " |      Convert all characters to lowercase before tokenizing.\n",
      " |  \n",
      " |  preprocessor : callable or None (default)\n",
      " |      Override the preprocessing (string transformation) stage while\n",
      " |      preserving the tokenizing and n-grams generation steps.\n",
      " |  \n",
      " |  tokenizer : callable or None (default)\n",
      " |      Override the string tokenization step while preserving the\n",
      " |      preprocessing and n-grams generation steps.\n",
      " |      Only applies if ``analyzer == 'word'``.\n",
      " |  \n",
      " |  stop_words : string {'english'}, list, or None (default)\n",
      " |      If 'english', a built-in stop word list for English is used.\n",
      " |      There are several known issues with 'english' and you should\n",
      " |      consider an alternative (see :ref:`stop_words`).\n",
      " |  \n",
      " |      If a list, that list is assumed to contain stop words, all of which\n",
      " |      will be removed from the resulting tokens.\n",
      " |      Only applies if ``analyzer == 'word'``.\n",
      " |  \n",
      " |      If None, no stop words will be used. max_df can be set to a value\n",
      " |      in the range [0.7, 1.0) to automatically detect and filter stop\n",
      " |      words based on intra corpus document frequency of terms.\n",
      " |  \n",
      " |  token_pattern : string\n",
      " |      Regular expression denoting what constitutes a \"token\", only used\n",
      " |      if ``analyzer == 'word'``. The default regexp select tokens of 2\n",
      " |      or more alphanumeric characters (punctuation is completely ignored\n",
      " |      and always treated as a token separator).\n",
      " |  \n",
      " |  ngram_range : tuple (min_n, max_n)\n",
      " |      The lower and upper boundary of the range of n-values for different\n",
      " |      n-grams to be extracted. All values of n such that min_n <= n <= max_n\n",
      " |      will be used.\n",
      " |  \n",
      " |  analyzer : string, {'word', 'char', 'char_wb'} or callable\n",
      " |      Whether the feature should be made of word or character n-grams.\n",
      " |      Option 'char_wb' creates character n-grams only from text inside\n",
      " |      word boundaries; n-grams at the edges of words are padded with space.\n",
      " |  \n",
      " |      If a callable is passed it is used to extract the sequence of features\n",
      " |      out of the raw, unprocessed input.\n",
      " |  \n",
      " |      .. versionchanged:: 0.21\n",
      " |      Since v0.21, if ``input`` is ``filename`` or ``file``, the data is\n",
      " |      first read from the file and then passed to the given callable\n",
      " |      analyzer.\n",
      " |  \n",
      " |  max_df : float in range [0.0, 1.0] or int, default=1.0\n",
      " |      When building the vocabulary ignore terms that have a document\n",
      " |      frequency strictly higher than the given threshold (corpus-specific\n",
      " |      stop words).\n",
      " |      If float, the parameter represents a proportion of documents, integer\n",
      " |      absolute counts.\n",
      " |      This parameter is ignored if vocabulary is not None.\n",
      " |  \n",
      " |  min_df : float in range [0.0, 1.0] or int, default=1\n",
      " |      When building the vocabulary ignore terms that have a document\n",
      " |      frequency strictly lower than the given threshold. This value is also\n",
      " |      called cut-off in the literature.\n",
      " |      If float, the parameter represents a proportion of documents, integer\n",
      " |      absolute counts.\n",
      " |      This parameter is ignored if vocabulary is not None.\n",
      " |  \n",
      " |  max_features : int or None, default=None\n",
      " |      If not None, build a vocabulary that only consider the top\n",
      " |      max_features ordered by term frequency across the corpus.\n",
      " |  \n",
      " |      This parameter is ignored if vocabulary is not None.\n",
      " |  \n",
      " |  vocabulary : Mapping or iterable, optional\n",
      " |      Either a Mapping (e.g., a dict) where keys are terms and values are\n",
      " |      indices in the feature matrix, or an iterable over terms. If not\n",
      " |      given, a vocabulary is determined from the input documents. Indices\n",
      " |      in the mapping should not be repeated and should not have any gap\n",
      " |      between 0 and the largest index.\n",
      " |  \n",
      " |  binary : boolean, default=False\n",
      " |      If True, all non zero counts are set to 1. This is useful for discrete\n",
      " |      probabilistic models that model binary events rather than integer\n",
      " |      counts.\n",
      " |  \n",
      " |  dtype : type, optional\n",
      " |      Type of the matrix returned by fit_transform() or transform().\n",
      " |  \n",
      " |  Attributes\n",
      " |  ----------\n",
      " |  vocabulary_ : dict\n",
      " |      A mapping of terms to feature indices.\n",
      " |  \n",
      " |  stop_words_ : set\n",
      " |      Terms that were ignored because they either:\n",
      " |  \n",
      " |        - occurred in too many documents (`max_df`)\n",
      " |        - occurred in too few documents (`min_df`)\n",
      " |        - were cut off by feature selection (`max_features`).\n",
      " |  \n",
      " |      This is only available if no vocabulary was given.\n",
      " |  \n",
      " |  Examples\n",
      " |  --------\n",
      " |  >>> from sklearn.feature_extraction.text import CountVectorizer\n",
      " |  >>> corpus = [\n",
      " |  ...     'This is the first document.',\n",
      " |  ...     'This document is the second document.',\n",
      " |  ...     'And this is the third one.',\n",
      " |  ...     'Is this the first document?',\n",
      " |  ... ]\n",
      " |  >>> vectorizer = CountVectorizer()\n",
      " |  >>> X = vectorizer.fit_transform(corpus)\n",
      " |  >>> print(vectorizer.get_feature_names())\n",
      " |  ['and', 'document', 'first', 'is', 'one', 'second', 'the', 'third', 'this']\n",
      " |  >>> print(X.toarray())  # doctest: +NORMALIZE_WHITESPACE\n",
      " |  [[0 1 1 1 0 0 1 0 1]\n",
      " |   [0 2 0 1 0 1 1 0 1]\n",
      " |   [1 0 0 1 1 0 1 1 1]\n",
      " |   [0 1 1 1 0 0 1 0 1]]\n",
      " |  \n",
      " |  See also\n",
      " |  --------\n",
      " |  HashingVectorizer, TfidfVectorizer\n",
      " |  \n",
      " |  Notes\n",
      " |  -----\n",
      " |  The ``stop_words_`` attribute can get large and increase the model size\n",
      " |  when pickling. This attribute is provided only for introspection and can\n",
      " |  be safely removed using delattr or set to None before pickling.\n",
      " |  \n",
      " |  Method resolution order:\n",
      " |      CountVectorizer\n",
      " |      sklearn.base.BaseEstimator\n",
      " |      VectorizerMixin\n",
      " |      builtins.object\n",
      " |  \n",
      " |  Methods defined here:\n",
      " |  \n",
      " |  __init__(self, input='content', encoding='utf-8', decode_error='strict', strip_accents=None, lowercase=True, preprocessor=None, tokenizer=None, stop_words=None, token_pattern='(?u)\\\\b\\\\w\\\\w+\\\\b', ngram_range=(1, 1), analyzer='word', max_df=1.0, min_df=1, max_features=None, vocabulary=None, binary=False, dtype=<class 'numpy.int64'>)\n",
      " |      Initialize self.  See help(type(self)) for accurate signature.\n",
      " |  \n",
      " |  fit(self, raw_documents, y=None)\n",
      " |      Learn a vocabulary dictionary of all tokens in the raw documents.\n",
      " |      \n",
      " |      Parameters\n",
      " |      ----------\n",
      " |      raw_documents : iterable\n",
      " |          An iterable which yields either str, unicode or file objects.\n",
      " |      \n",
      " |      Returns\n",
      " |      -------\n",
      " |      self\n",
      " |  \n",
      " |  fit_transform(self, raw_documents, y=None)\n",
      " |      Learn the vocabulary dictionary and return term-document matrix.\n",
      " |      \n",
      " |      This is equivalent to fit followed by transform, but more efficiently\n",
      " |      implemented.\n",
      " |      \n",
      " |      Parameters\n",
      " |      ----------\n",
      " |      raw_documents : iterable\n",
      " |          An iterable which yields either str, unicode or file objects.\n",
      " |      \n",
      " |      Returns\n",
      " |      -------\n",
      " |      X : array, [n_samples, n_features]\n",
      " |          Document-term matrix.\n",
      " |  \n",
      " |  get_feature_names(self)\n",
      " |      Array mapping from feature integer indices to feature name\n",
      " |  \n",
      " |  inverse_transform(self, X)\n",
      " |      Return terms per document with nonzero entries in X.\n",
      " |      \n",
      " |      Parameters\n",
      " |      ----------\n",
      " |      X : {array, sparse matrix}, shape = [n_samples, n_features]\n",
      " |      \n",
      " |      Returns\n",
      " |      -------\n",
      " |      X_inv : list of arrays, len = n_samples\n",
      " |          List of arrays of terms.\n",
      " |  \n",
      " |  transform(self, raw_documents)\n",
      " |      Transform documents to document-term matrix.\n",
      " |      \n",
      " |      Extract token counts out of raw text documents using the vocabulary\n",
      " |      fitted with fit or the one provided to the constructor.\n",
      " |      \n",
      " |      Parameters\n",
      " |      ----------\n",
      " |      raw_documents : iterable\n",
      " |          An iterable which yields either str, unicode or file objects.\n",
      " |      \n",
      " |      Returns\n",
      " |      -------\n",
      " |      X : sparse matrix, [n_samples, n_features]\n",
      " |          Document-term matrix.\n",
      " |  \n",
      " |  ----------------------------------------------------------------------\n",
      " |  Methods inherited from sklearn.base.BaseEstimator:\n",
      " |  \n",
      " |  __getstate__(self)\n",
      " |  \n",
      " |  __repr__(self, N_CHAR_MAX=700)\n",
      " |      Return repr(self).\n",
      " |  \n",
      " |  __setstate__(self, state)\n",
      " |  \n",
      " |  get_params(self, deep=True)\n",
      " |      Get parameters for this estimator.\n",
      " |      \n",
      " |      Parameters\n",
      " |      ----------\n",
      " |      deep : boolean, optional\n",
      " |          If True, will return the parameters for this estimator and\n",
      " |          contained subobjects that are estimators.\n",
      " |      \n",
      " |      Returns\n",
      " |      -------\n",
      " |      params : mapping of string to any\n",
      " |          Parameter names mapped to their values.\n",
      " |  \n",
      " |  set_params(self, **params)\n",
      " |      Set the parameters of this estimator.\n",
      " |      \n",
      " |      The method works on simple estimators as well as on nested objects\n",
      " |      (such as pipelines). The latter have parameters of the form\n",
      " |      ``<component>__<parameter>`` so that it's possible to update each\n",
      " |      component of a nested object.\n",
      " |      \n",
      " |      Returns\n",
      " |      -------\n",
      " |      self\n",
      " |  \n",
      " |  ----------------------------------------------------------------------\n",
      " |  Data descriptors inherited from sklearn.base.BaseEstimator:\n",
      " |  \n",
      " |  __dict__\n",
      " |      dictionary for instance variables (if defined)\n",
      " |  \n",
      " |  __weakref__\n",
      " |      list of weak references to the object (if defined)\n",
      " |  \n",
      " |  ----------------------------------------------------------------------\n",
      " |  Methods inherited from VectorizerMixin:\n",
      " |  \n",
      " |  build_analyzer(self)\n",
      " |      Return a callable that handles preprocessing and tokenization\n",
      " |  \n",
      " |  build_preprocessor(self)\n",
      " |      Return a function to preprocess the text before tokenization\n",
      " |  \n",
      " |  build_tokenizer(self)\n",
      " |      Return a function that splits a string into a sequence of tokens\n",
      " |  \n",
      " |  decode(self, doc)\n",
      " |      Decode the input into a string of unicode symbols\n",
      " |      \n",
      " |      The decoding strategy depends on the vectorizer parameters.\n",
      " |      \n",
      " |      Parameters\n",
      " |      ----------\n",
      " |      doc : string\n",
      " |          The string to decode\n",
      " |  \n",
      " |  get_stop_words(self)\n",
      " |      Build or fetch the effective stop words list\n",
      "\n"
     ]
    }
   ],
   "source": [
    "from sklearn.feature_extraction.text import CountVectorizer\n",
    "help(CountVectorizer)"
   ]
  },
  {
   "cell_type": "code",
   "execution_count": 128,
   "metadata": {},
   "outputs": [
    {
     "name": "stdout",
     "output_type": "stream",
     "text": [
      "['unnamed', 'v1', 'v2']\n",
      "[[0 1 0]\n",
      " [0 0 1]\n",
      " [1 0 0]\n",
      " [1 0 0]\n",
      " [1 0 0]]\n"
     ]
    }
   ],
   "source": [
    "#2.Appliquer la fonction aux données et convertir le résultat en un numpy array que vous appelerez X.\n",
    "vectorizer = CountVectorizer()\n",
    "X = vectorizer.fit_transform(df_sms)\n",
    "print(vectorizer.get_feature_names())\n",
    "print(X.toarray())"
   ]
  },
  {
   "cell_type": "code",
   "execution_count": 239,
   "metadata": {},
   "outputs": [
    {
     "name": "stdout",
     "output_type": "stream",
     "text": [
      "['00', '000', '000pes', '008704050406', '0089', '0121', '01223585236', '01223585334', '0125698789', '02', '0207', '02072069400', '02073162414', '02085076972', '021', '03', '04', '0430', '05', '050703', '0578', '06', '07', '07008009200', '07046744435', '07090201529', '07090298926', '07099833605', '07123456789', '0721072', '07732584351', '07734396839', '07742676969', '07753741225', '0776xxxxxxx', '07781482378', '07786200117', '077xxx', '078', '07801543489', '07808', '07808247860', '07808726822', '07815296484', '07821230901', '078498', '07880867867', '0789xxxxxxx', '07946746291', '0796xxxxxx', '07973788240', '07xxxxxxxxx', '08', '0800', '08000407165', '08000776320', '08000839402', '08000930705', '08000938767', '08001950382', '08002888812', '08002986030', '08002986906', '08002988890', '08006344447', '0808', '08081263000', '08081560665', '0825', '083', '0844', '08448350055', '08448714184', '0845', '08450542832', '08452810071', '08452810073', '08452810075over18', '0870', '08700435505150p', '08700469649', '08700621170150p', '08701213186', '08701237397', '08701417012', '08701417012150p', '0870141701216', '087016248', '08701752560', '087018728737', '0870241182716', '08702490080', '08702840625', '08704050406', '08704439680', '08704439680ts', '08706091795', '0870737910216yrs', '08707500020', '08707509020', '0870753331018', '08707808226', '08708034412', '08708800282', '08709222922', '08709501522', '0871', '087104711148', '08712101358', '08712103738', '0871212025016', '08712300220', '087123002209am', '08712317606', '08712400200', '08712400602450p', '08712400603', '08712402050', '08712402578', '08712402779', '08712402902', '08712402972', '08712404000', '08712405020', '08712405022', '08712460324', '08712466669', '0871277810710p', '0871277810810', '0871277810910p', '08714342399', '087147123779am', '08714712379', '08714712388', '08714712394', '08714712412', '08714714011', '08715203028', '08715203649', '08715203652', '08715203656', '08715203677', '08715203685', '08715203694', '08715205273', '08715500022', '08715705022', '08717111821', '08717168528', '08717205546', '0871750', '08717507382', '08717509990', '08717890890å', '08717895698', '08717898035', '08718711108', '08718720201', '08718723815', '08718725756', '08718726270', '087187262701', '08718726970', '08718726971', '08718726978', '087187272008', '08718727868', '08718727870', '08718727870150ppm', '08718730555', '08718730666', '08718738001', '08718738002', '08718738034', '08719180219', '08719180248', '08719181259', '08719181503', '08719181513', '08719839835', '08719899217', '08719899229', '08719899230', '09', '09041940223', '09050000301', '09050000332', '09050000460', '09050000555', '09050000878', '09050000928', '09050001295', '09050001808', '09050002311', '09050003091', '09050005321', '09050090044', '09050280520', '09053750005', '09056242159', '09057039994', '09058091854', '09058091870', '09058094454', '09058094455', '09058094507', '09058094565', '09058094583', '09058094594', '09058094597', '09058094599', '09058095107', '09058095201', '09058097189', '09058097218', '09058098002', '09058099801', '09061104276', '09061104283', '09061209465', '09061213237', '09061221061', '09061221066', '09061701444', '09061701461', '09061701851', '09061701939', '09061702893', '09061743386', '09061743806', '09061743810', '09061743811', '09061744553', '09061749602', '09061790121', '09061790125', '09061790126', '09063440451', '09063442151', '09063458130', '0906346330', '09064011000', '09064012103', '09064012160', '09064015307', '09064017295', '09064017305', '09064018838', '09064019014', '09064019788', '09065069120', '09065069154', '09065171142', '09065174042', '09065394514', '09065394973', '09065989180', '09065989182', '09066350750', '09066358152', '09066358361', '09066361921', '09066362206', '09066362220', '09066362231', '09066364311', '09066364349', '09066364589', '09066368327', '09066368470', '09066368753', '09066380611', '09066382422', '09066612661', '09066649731from', '09066660100', '09071512432', '09071512433', '09071517866', '09077818151', '09090204448', '09090900040', '09094100151', '09094646631', '09094646899', '09095350301', '09096102316', '09099725823', '09099726395', '09099726429', '09099726481', '09099726553', '09111030116', '09111032124', '09701213186', '0a', '0quit', '10', '100', '1000', '1000call', '1000s', '100p', '100percent', '100txt', '1013', '1030', '10am', '10k', '10p', '10ppm', '10th', '11', '1120', '113', '1131', '114', '116', '1172', '118p', '11mths', '11pm', '12', '1205', '120p', '121', '1225', '123', '125', '1250', '125gift', '128', '12hours', '12hrs', '12mths', '13', '130', '1327', '139', '14', '140', '1405', '140ppm', '145', '1450', '146tf150p', '14tcr', '14thmarch', '15', '150', '1500', '150p', '150p16', '150pm', '150ppermesssubscription', '150ppm', '150ppmpobox10183bhamb64xe', '150ppmsg', '150pw', '151', '153', '15541', '15pm', '16', '165', '1680', '169', '177', '18', '180', '1843', '18p', '18yrs', '195', '1956669', '1apple', '1b6a5ecef91ff9', '1cup', '1da', '1er', '1hr', '1im', '1lemon', '1mega', '1million', '1pm', '1st', '1st4terms', '1stchoice', '1stone', '1thing', '1tulsi', '1win150ppmx3', '1winaweek', '1winawk', '1x150p', '1yf', '20', '200', '2000', '2003', '2004', '2005', '2006', '2007', '200p', '2025050', '20m12aq', '20p', '21', '21870000', '21st', '22', '220', '220cm2', '2309', '23f', '23g', '24', '24hrs', '24m', '24th', '25', '250', '250k', '255', '25p', '26', '2667', '26th', '27', '28', '2814032', '28days', '28th', '28thfeb', '29', '2b', '2bold', '2c', '2channel', '2day', '2end', '2exit', '2ez', '2find', '2getha', '2geva', '2go', '2gthr', '2hrs', '2kbsubject', '2lands', '2marrow', '2moro', '2morow', '2morro', '2morrow', '2morrowxxxx', '2mro', '2mrw', '2nd', '2nhite', '2nights', '2nite', '2optout', '2p', '2price', '2px', '2rcv', '2stop', '2stoptx', '2stoptxt', '2u', '2u2', '2waxsto', '2wks', '2wt', '2wu', '2years', '2yr', '2yrs', '30', '300', '3000', '300603', '300603t', '300p', '3030', '30apr', '30ish', '30pm', '30pp', '30s', '30th', '31', '3100', '310303', '31p', '32', '32000', '3230', '32323', '326', '33', '330', '350', '3510i', '35p', '3650', '36504', '3680', '373', '3750', '37819', '38', '382', '391784', '3aj', '3d', '3days', '3g', '3gbp', '3hrs', '3lions', '3lp', '3miles', '3mins', '3mobile', '3optical', '3pound', '3qxj9', '3rd', '3ss', '3uz', '3wks', '3xx', '3xå', '40', '400', '400mins', '400thousad', '402', '4041', '40411', '40533', '40gb', '40mph', '41685', '41782', '420', '42049', '4217', '42478', '42810', '430', '434', '44', '440', '4403ldnw1a7rw18', '44345', '447797706009', '447801259231', '448712404000', '449050000301', '449071512431', '45', '450', '450p', '450pw', '45239', '45pm', '47', '4719', '4742', '47per', '48', '4882', '48922', '49', '49557', '4a', '4d', '4eva', '4few', '4fil', '4get', '4give', '4got', '4goten', '4info', '4jx', '4msgs', '4mths', '4qf2', '4t', '4th', '4the', '4thnov', '4txt', '4u', '4utxt', '4w', '4ward', '4wrd', '4xx26', '4years', '50', '500', '5000', '505060', '50award', '50ea', '50gbp', '50p', '50perweeksub', '50perwksub', '50pm', '50pmmorefrommobile2bremoved', '50ppm', '50rcvd', '50s', '515', '5226', '523', '526', '528', '530', '54', '542', '545', '5digital', '5free', '5ish', '5k', '5min', '5mls', '5p', '5pm', '5th', '5wb', '5we', '5wkg', '5wq', '5years', '60', '600', '6031', '6089', '60p', '61', '61200', '61610', '62220cncl', '6230', '62468', '62735', '630', '63miles', '645', '65', '650', '66', '6669', '674', '67441233', '68866', '69101', '69200', '69669', '69696', '69698', '69855', '69866', '69876', '69888', '69888nyt', '69911', '69969', '69988', '6days', '6hl', '6hrs', '6ish', '6missed', '6months', '6ph', '6pm', '6th', '6times', '6wu', '6zf', '700', '71', '7250', '7250i', '730', '731', '74355', '75', '750', '7548', '75max', '762', '7634', '7684', '77', '7732584351', '78', '786', '7876150ppm', '79', '7am', '7cfca1a', '7ish', '7mp', '7oz', '7pm', '7th', '7ws', '7zs', '80', '800', '8000930705', '80062', '8007', '80082', '80086', '80122300p', '80155', '80160', '80182', '8027', '80488', '80608', '8077', '80878', '81010', '81151', '81303', '81618', '82050', '820554ad0a1705572711', '82242', '82277', '82324', '82468', '83021', '83039', '83049', '83110', '83118', '83222', '83332', '83338', '83355', '83370', '83383', '83435', '83600', '83738', '84', '84025', '84122', '84128', '84199', '84484', '85', '850', '85023', '85069', '85222', '85233', '8552', '85555', '86021', '861', '864233', '86688', '86888', '87021', '87066', '87070', '87077', '87121', '87131', '8714714', '872', '87239', '87575', '8800', '88039', '88066', '88088', '88222', '88600', '88800', '8883', '88877', '88888', '89034', '89070', '89080', '89105', '89123', '89545', '89555', '89693', '89938', '8am', '8ball', '8lb', '8p', '8pm', '8th', '8wp', '900', '9061100010', '910', '9153', '9280114', '930', '9307622', '945', '946', '95', '9755', '9758', '97n7qp', '98321561', '99', '9996', '9ae', '9am', '9ja', '9pm', '9t', '9th', '9yt', '____', 'a21', 'a30', 'aa', 'aah', 'aaniye', 'aaooooright', 'aathi', 'ab', 'abbey', 'abdomen', 'abeg', 'abel', 'aberdeen', 'abi', 'ability', 'abiola', 'abj', 'able', 'abnormally', 'aboutas', 'abroad', 'absence', 'absolutely', 'absolutly', 'abstract', 'abt', 'abta', 'aburo', 'abuse', 'abusers', 'ac', 'academic', 'acc', 'accent', 'accenture', 'accept', 'access', 'accessible', 'accidant', 'accident', 'accidentally', 'accommodation', 'accommodationvouchers', 'accomodate', 'accomodations', 'accordin', 'accordingly', 'account', 'accounting', 'accounts', 'accumulation', 'achan', 'ache', 'achieve', 'acid', 'acknowledgement', 'acl03530150pm', 'acnt', 'aco', 'act', 'acted', 'actin', 'acting', 'action', 'activ8', 'activate', 'active', 'activities', 'actor', 'actual', 'actually', 'ad', 'adam', 'add', 'addamsfa', 'added', 'addicted', 'addie', 'adding', 'address', 'adds', 'adewale', 'adi', 'adjustable', 'admin', 'administrator', 'admirer', 'admission', 'admit', 'adore', 'adoring', 'adp', 'adress', 'adrian', 'ads', 'adsense', 'adult', 'adults', 'advance', 'adventure', 'adventuring', 'advice', 'advise', 'advising', 'advisors', 'aeronautics', 'aeroplane', 'afew', 'affair', 'affairs', 'affection', 'affectionate', 'affections', 'affidavit', 'afford', 'afghanistan', 'afraid', 'africa', 'african', 'aft', 'afternon', 'afternoon', 'afternoons', 'aftr', 'ag', 'agalla', 'age', 'age16', 'age23', 'agency', 'agent', 'agents', 'ages', 'agidhane', 'aging', 'ago', 'agree', 'ah', 'aha', 'ahead', 'ahhh', 'ahhhh', 'ahmad', 'ahold', 'aid', 'aids', 'aig', 'aight', 'ain', 'aint', 'air', 'air1', 'airport', 'airtel', 'aiya', 'aiyah', 'aiyar', 'aiyo', 'ajith', 'ak', 'aka', 'akon', 'al', 'alaikkum', 'alaipayuthe', 'albi', 'album', 'alcohol', 'aldrine', 'alert', 'alertfrom', 'alerts', 'aletter', 'alex', 'alfie', 'algarve', 'algebra', 'algorithms', 'ali', 'alian', 'alibi', 'alive', 'allah', 'allalo', 'allday', 'alle', 'allo', 'allow', 'allowed', 'allows', 'alot', 'alright', 'alrite', 'alter', 'alternative', 'alto18', 'aluable', 'alwa', 'alwys', 'amanda', 'amazing', 'ambitious', 'ambrith', 'american', 'ami', 'amigos', 'amk', 'amla', 'amma', 'ammae', 'ammo', 'amore', 'amp', 'amplikater', 'amrca', 'amrita', 'ams', 'amt', 'amused', 'amy', 'ana', 'anal', 'analysis', 'anand', 'anderson', 'andre', 'andres', 'andrews', 'andros', 'angels', 'angry', 'animal', 'animation', 'anjie', 'anjola', 'anna', 'annie', 'anniversary', 'annoncement', 'announced', 'announcement', 'annoyin', 'annoying', 'anonymous', 'anot', 'ans', 'ansr', 'answer', 'answered', 'answerin', 'answering', 'answers', 'answr', 'antelope', 'antha', 'anthony', 'anti', 'antibiotic', 'anybody', 'anymore', 'anyones', 'anyplaces', 'anythiing', 'anythin', 'anythingtomorrow', 'anytime', 'anyways', 'aom', 'apart', 'apartment', 'apes', 'apeshit', 'aphexåõs', 'apnt', 'apo', 'apologetic', 'apologise', 'apologize', 'apology', 'app', 'apparently', 'appeal', 'appear', 'appendix', 'applausestore', 'applebees', 'apples', 'application', 'apply', 'applyed', 'applying', 'appointment', 'appointments', 'appreciate', 'appreciated', 'approaches', 'approaching', 'appropriate', 'approve', 'approved', 'approx', 'apps', 'appt', 'appy', 'april', 'aproach', 'apt', 'aptitude', 'aquarius', 'ar', 'arab', 'arabian', 'arcade', 'archive', 'ard', 'area', 'aren', 'arent', 'arestaurant', 'aretaking', 'areyouunique', 'argentina', 'argh', 'argue', 'arguing', 'argument', 'arguments', 'aries', 'arise', 'arises', 'arithmetic', 'arm', 'armand', 'armenia', 'arms', 'arng', 'arngd', 'arnt', 'aroundn', 'arr', 'arrange', 'arranging', 'arrested', 'arrival', 'arrive', 'arrived', 'arrow', 'arsenal', 'art', 'artists', 'arts', 'arty', 'arul', 'arun', 'asa', 'asap', 'asda', 'ashes', 'ashley', 'ashwini', 'asia', 'asian', 'asjesus', 'ask', 'askd', 'asked', 'askin', 'asking', 'asks', 'aslamalaikkum', 'asleep', 'asp', 'aspects', 'ass', 'assessment', 'asshole', 'assistance', 'associate', 'asssssholeeee', 'assume', 'assumed', 'asthere', 'asthma', 'astne', 'astoundingly', 'astrology', 'astronomer', 'asus', 'asusual', 'ate', 'athletic', 'athome', 'atlanta', 'atlast', 'atleast', 'atm', 'atrocious', 'attach', 'attached', 'attack', 'attempt', 'atten', 'attend', 'attended', 'attending', 'attention', 'attitude', 'attraction', 'attractive', 'attracts', 'attributed', 'atural', 'auction', 'audiitions', 'audition', 'audrey', 'audrie', 'august', 'aunt', 'auntie', 'aunties', 'aunts', 'aunty', 'aust', 'australia', 'authorise', 'auto', 'autocorrect', 'av', 'ava', 'availa', 'available', 'avalarr', 'avatar', 'avble', 'ave', 'avenge', 'avent', 'avenue', 'avin', 'avo', 'avoid', 'avoiding', 'avoids', 'await', 'awaiting', 'awake', 'award', 'awarded', 'away', 'awesome', 'awkward', 'aww', 'awww', 'ax', 'axel', 'axis', 'ay', 'ayn', 'ayo', 'aå', 'b4', 'b4190604', 'b4280703', 'b4u', 'b4utele', 'ba', 'ba128nnfwfly150ppm', 'baaaaaaaabe', 'baaaaabe', 'babe', 'babes', 'babies', 'baby', 'babygoodbye', 'babyjontet', 'babysit', 'babysitting', 'bac', 'backdoor', 'backwards', 'bad', 'badass', 'badly', 'badrith', 'bag', 'bags', 'bahamas', 'baig', 'bailiff', 'bajarangabali', 'bak', 'bakra', 'bakrid', 'balance', 'ball', 'baller', 'balloon', 'balls', 'bam', 'bambling', 'band', 'bandages', 'bang', 'bangb', 'bangbabes', 'bani', 'bank', 'banks', 'banned', 'banneduk', 'banter', 'bao', 'bar', 'barbie', 'barcelona', 'bare', 'barely', 'bari', 'barkleys', 'barmed', 'barolla', 'barred', 'barrel', 'barring', 'barry', 'bars', 'base', 'based', 'bash', 'basic', 'basically', 'basket', 'basketball', 'basq', 'bat', 'batch', 'batchlor', 'bath', 'bathe', 'bathing', 'bathroom', 'batsman', 'batt', 'battery', 'battle', 'bawling', 'bay', 'bb', 'bbc', 'bbd', 'bbdeluxe', 'bbq', 'bc', 'bcaz', 'bck', 'bcm', 'bcm1896wc1n3xx', 'bcm4284', 'bcmsfwc1n3xx', 'bcoz', 'bcum', 'bcums', 'bcz', 'bday', 'beach', 'beads', 'bear', 'bears', 'beatings', 'beauties', 'beautiful', 'beauty', 'bec', 'becaus', 'becausethey', 'becoz', 'becz', 'bed', 'bedrm', 'bedroom', 'beeen', 'beehoon', 'beendropping', 'beer', 'beerage', 'beers', 'befor', 'beg', 'beggar', 'begging', 'begin', 'begins', 'begun', 'behalf', 'behave', 'bein', 'believe', 'belive', 'bell', 'bellearlier', 'belligerent', 'belly', 'belong', 'belongs', 'belovd', 'beloved', 'belt', 'ben', 'bend', 'beneath', 'beneficiary', 'benefits', 'bennys', 'bergkamp', 'best', 'best1', 'bet', 'beta', 'beth', 'betta', 'better', 'bettersn', 'bettr', 'beverage', 'bevies', 'beware', 'bf', 'bffs', 'bfore', 'bhaji', 'bhaskar', 'bhayandar', 'bian', 'biatch', 'bid', 'bids', 'big', 'bigger', 'biggest', 'bike', 'billed', 'billing', 'billion', 'bills', 'billy', 'bilo', 'bimbo', 'bin', 'biola', 'bird', 'birds', 'birla', 'biro', 'birth', 'birthdate', 'birthday', 'bishan', 'bit', 'bitch', 'bitching', 'bite', 'bites', 'bits', 'biz', 'bk', 'black', 'blackberry', 'blacko', 'blah', 'blake', 'blame', 'blank', 'blanked', 'blanket', 'blankets', 'blastin', 'bleak', 'bleh', 'bless', 'blessed', 'blessing', 'blessings', 'blimey', 'blind', 'block', 'blocked', 'blog', 'blogging', 'blogspot', 'bloke', 'blokes', 'blonde', 'bloo', 'blood', 'bloody', 'bloomberg', 'blow', 'blowing', 'blown', 'blu', 'blue', 'bluetooth', 'bluetoothhdset', 'bluff', 'blur', 'bluray', 'bmw', 'board', 'boat', 'boatin', 'bob', 'body', 'boggy', 'bognor', 'bold', 'bold2', 'bollox', 'boltblue', 'bomb', 'bone', 'bong', 'bonus', 'boo', 'boobs', 'book', 'booked', 'bookedthe', 'booking', 'bookmark', 'books', 'bookshelf', 'boooo', 'boost', 'booty', 'bootydelious', 'borderline', 'bored', 'borin', 'boring', 'born', 'borrow', 'boss', 'boston', 'bot', 'bother', 'bothering', 'bottle', 'bought', 'boughtåóbraindanceåóa', 'boundaries', 'bout', 'bowa', 'bowl', 'bowls', 'box', 'box1146', 'box139', 'box177', 'box245c2150pm', 'box326', 'box334', 'box334sk38ch', 'box385', 'box39822', 'box403', 'box420', 'box42wr29c', 'box434sk38wp150ppm18', 'box61', 'box95qu', 'box97n7qp', 'boy', 'boye', 'boyf', 'boyfriend', 'boys', 'boytoy', 'bpo', 'brah', 'brain', 'brainless', 'brains', 'brainy', 'brand', 'brandy', 'bras', 'brats', 'braved', 'bray', 'brb', 'brdget', 'bread', 'breadstick', 'break', 'breaker', 'breakfast', 'breakin', 'breaking', 'breaks', 'breath', 'breathe', 'breathe1', 'breather', 'breathing', 'breeze', 'breezy', 'bribe', 'bridal', 'bridge', 'bridgwater', 'brief', 'bright', 'brighten', 'brilliant', 'brilliantly', 'brin', 'bring', 'bringing', 'brings', 'brisk', 'brison', 'bristol', 'british', 'britney', 'bro', 'broad', 'broadband', 'broke', 'broken', 'brolly', 'bros', 'broth', 'brothas', 'brother', 'brothers', 'brought', 'brown', 'brownie', 'brownies', 'browse', 'browser', 'browsin', 'bruce', 'brum', 'bruv', 'bslvyl', 'bsn', 'bsnl', 'bstfrnd', 'bt', 'btw', 'btwn', 'bubbletext', 'bucks', 'bud', 'buddy', 'buddys', 'budget', 'buen', 'buff', 'buffet', 'buffy', 'bugis', 'build', 'building', 'built', 'bulbs', 'bull', 'bullshit', 'bunch', 'bundle', 'bunkers', 'buns', 'burden', 'burger', 'burgundy', 'burial', 'burn', 'burning', 'burns', 'burnt', 'burrito', 'bus', 'bus8', 'buses', 'busetop', 'business', 'busty', 'busy', 'butt', 'buttheres', 'butting', 'buttons', 'buy', 'buyer', 'buyers', 'buying', 'buzy', 'buzz', 'buzzzz', 'bw', 'bx', 'bx420', 'bx526', 'byatch', 'bye', 'byåóleafcutter', 'båõday', 'c52', 'cab', 'cabin', 'cable', 'cafe', 'cage', 'cake', 'cakes', 'cal', 'calculated', 'calculation', 'cali', 'calicut', 'california', 'call09050000327', 'call2optout', 'callback', 'callcost', 'callcost150ppmmobilesvary', 'calld', 'called', 'caller', 'callers', 'callertune', 'callfreefone', 'callin', 'calling', 'callon', 'calls', 'calls1', 'callså', 'calm', 'cam', 'camcorder', 'came', 'camera', 'camp', 'campus', 'camry', 'canada', 'canal', 'canary', 'cancel', 'canceled', 'cancelled', 'cancer', 'canlove', 'cann', 'canname', 'cantdo', 'canteen', 'canåõt', 'capacity', 'capital', 'cappuccino', 'caps', 'captain', 'captaining', 'car', 'card', 'cardiff', 'cardin', 'cards', 'care', 'careabout', 'cared', 'career', 'careers', 'careful', 'carefully', 'careless', 'cares', 'caring', 'carlie', 'carlin', 'carlos', 'carly', 'carolina', 'caroline', 'carpark', 'carry', 'carryin', 'cars', 'cartons', 'cartoon', 'case', 'cash', 'cashbin', 'cashed', 'cashto', 'casing', 'cast', 'casting', 'castor', 'casualty', 'cat', 'catch', 'catches', 'catching', 'categories', 'caught', 'cause', 'causes', 'causing', 'cave', 'caveboy', 'cbe', 'cc', 'cc100p', 'ccna', 'cd', 'cdgt', 'cds', 'cedar', 'ceiling', 'celeb', 'celebrate', 'celebrated', 'celebration', 'celebrations', 'cell', 'census', 'center', 'centre', 'century', 'cer', 'cereals', 'ceri', 'certainly', 'certificate', 'cha', 'chachi', 'chad', 'chain', 'challenge', 'challenging', 'champ', 'champlaxigating', 'champneys', 'chance', 'chances', 'change', 'changed', 'changes', 'changing', 'channel', 'chapel', 'chaps', 'chapter', 'character', 'characters', 'charge', 'charged', 'charges', 'charity', 'charles', 'charlie', 'charming', 'chart', 'charts', 'chase', 'chasing', 'chastity', 'chat', 'chat80155', 'chatlines', 'chatter', 'chatting', 'cheap', 'cheaper', 'cheat', 'cheating', 'chechi', 'check', 'checkboxes', 'checked', 'checkin', 'checking', 'checkmate', 'checkup', 'cheek', 'cheer', 'cheered', 'cheers', 'cheery', 'cheese', 'cheesy', 'cheetos', 'chef', 'chennai', 'cheque', 'cherish', 'cherthala', 'chess', 'chest', 'chex', 'cheyyamo', 'chez', 'chg', 'chgs', 'chic', 'chick', 'chicken', 'chickened', 'chief', 'chik', 'chikku', 'child', 'childish', 'childporn', 'children', 'childrens', 'chile', 'chill', 'chillaxin', 'chillin', 'china', 'chinatown', 'chinchillas', 'chinese', 'chinky', 'chinnu', 'chiong', 'chip', 'chit', 'chk', 'chloe', 'chocolate', 'choice', 'choices', 'choose', 'choosing', 'chop', 'chords', 'chores', 'chosen', 'chrgd', 'christ', 'christians', 'christmas', 'christmassy', 'chuck', 'chuckin', 'church', 'ciao', 'cine', 'cinema', 'citizen', 'city', 'citylink', 'cl', 'claim', 'claimcode', 'claims', 'claire', 'clarification', 'clarify', 'clark', 'clas', 'clash', 'class', 'classes', 'classic', 'classmates', 'claypot', 'cld', 'clean', 'cleaning', 'clear', 'cleared', 'clearer', 'clearing', 'clearly', 'clever', 'click', 'cliff', 'cliffs', 'clip', 'clock', 'clocks', 'clos1', 'close', 'closeby', 'closed', 'closer', 'closes', 'closingdate04', 'cloth', 'clothes', 'cloud', 'clover', 'club', 'club4', 'club4mobiles', 'clubmoby', 'clubsaisai', 'clubzed', 'clue', 'cm', 'cm2', 'cme', 'cmon', 'cn', 'cnl', 'cnn', 'cnupdates', 'coach', 'coast', 'coat', 'coaxing', 'coca', 'coccooning', 'cochin', 'cock', 'cocksuckers', 'coco', 'code', 'coffee', 'coherently', 'coimbatore', 'coin', 'coincidence', 'coins', 'cola', 'colany', 'cold', 'colin', 'collages', 'collapsed', 'colleagues', 'collect', 'collected', 'collecting', 'collection', 'colleg', 'college', 'color', 'colour', 'colourful', 'colours', 'com', 'com1win150ppmx3age16', 'com1win150ppmx3age16subscription', 'comb', 'combination', 'combine', 'come', 'comedy', 'comes', 'comfey', 'comfort', 'comin', 'coming', 'comingdown', 'command', 'comment', 'commercial', 'commit', 'common', 'community', 'como', 'comp', 'companies', 'companion', 'company', 'compare', 'compass', 'compensation', 'competition', 'complacent', 'complain', 'complaining', 'complaint', 'complementary', 'complete', 'completed', 'completely', 'completes', 'completing', 'complexities', 'complimentary', 'compliments', 'comprehensive', 'compromised', 'compulsory', 'computational', 'computer', 'computerless', 'computers', 'comuk', 'conacted', 'concentrate', 'concentrating', 'concentration', 'concern', 'concerned', 'concert', 'conclusion', 'condition', 'conditions', 'conducts', 'conected', 'conference', 'confidence', 'configure', 'confirm', 'confirmd', 'confirmed', 'conform', 'confused', 'confuses', 'congrats', 'congratulation', 'congratulations', 'connect', 'connected', 'connection', 'connections', 'cons', 'consensus', 'consent', 'conserve', 'consider', 'considering', 'consistently', 'console', 'constant', 'constantly', 'contact', 'contacted', 'contacts', 'contains', 'content', 'contented', 'contention', 'contents', 'continent', 'continue', 'continued', 'contract', 'contribute', 'control', 'convenience', 'conversations', 'converted', 'converter', 'convey', 'conveying', 'convince', 'convinced', 'convincing', 'cook', 'cooked', 'cookies', 'cooking', 'cool', 'cooped', 'cooperative', 'copied', 'copies', 'coping', 'cops', 'copy', 'corect', 'cornwall', 'corporation', 'corrct', 'correct', 'correction', 'correctly', 'corrupt', 'corvettes', 'cos', 'cosign', 'cost', 'costa', 'costing', 'costs', 'costume', 'costumes', 'costå', 'couch', 'cougar', 'cough', 'coughing', 'coulda', 'couldn', 'couldnåõt', 'count', 'countin', 'countinlots', 'country', 'counts', 'coupla', 'couple', 'courage', 'courageous', 'course', 'court', 'courtroom', 'cousin', 'cover', 'coveragd', 'covers', 'coz', 'cozy', 'cps', 'cr', 'cr01327bt', 'cr9', 'crab', 'crack', 'craigslist', 'crammed', 'cramps', 'crap', 'crash', 'crashed', 'crashing', 'crave', 'craving', 'craziest', 'crazy', 'crazyin', 'crckt', 'cream', 'created', 'creative', 'creativity', 'credit', 'credited', 'credits', 'creep', 'creepy', 'cres', 'cribbs', 'cricket', 'cricketer', 'crickiting', 'cried', 'crisis', 'cro1327', 'crore', 'cross', 'crossing', 'crowd', 'croydon', 'crucial', 'crucify', 'cruel', 'cruise', 'cruisin', 'crushes', 'crying', 'cs', 'csbcm4235wc1n3xx', 'csc', 'csh11', 'cst', 'cstore', 'ctagg', 'ctargg', 'cthen', 'ctla', 'cts', 'cttargg', 'ctter', 'cttergg', 'ctxt', 'cuck', 'cud', 'cuddle', 'cuddled', 'cuddling', 'cudnt', 'culdnt', 'cultures', 'cum', 'cumin', 'cumming', 'cup', 'cupboard', 'cuppa', 'curfew', 'curious', 'current', 'currently', 'curry', 'curtsey', 'cusoon', 'cust', 'custcare', 'custom', 'customer', 'customercare', 'customers', 'customersqueries', 'cut', 'cute', 'cutefrnd', 'cutest', 'cutie', 'cutter', 'cutting', 'cuz', 'cw25wx', 'cya', 'cyclists', 'cysts', 'd3wv', 'da', 'daaaaa', 'dabbles', 'dabooks', 'dad', 'daddy', 'dads', 'dai', 'daily', 'dammit', 'damn', 'dan', 'dancce', 'dance', 'dancin', 'dancing', 'dane', 'dang', 'danger', 'dangerous', 'dao', 'dare', 'dark', 'darker', 'darkest', 'darkness', 'darlin', 'darling', 'darlings', 'darren', 'dartboard', 'das', 'dasara', 'dat', 'data', 'date', 'datebox1282essexcm61xn', 'dates', 'dating', 'dats', 'dave', 'dawns', 'day', 'days', 'daytime', 'daywith', 'db', 'dbuk', 'dd', 'dead', 'deal', 'dealer', 'dealing', 'deals', 'dear', 'dear1', 'dearer', 'dearly', 'death', 'debating', 'dec', 'decades', 'december', 'decent', 'decide', 'decided', 'deciding', 'decimal', 'decision', 'decisions', 'deck', 'decking', 'declare', 'decorating', 'dedicate', 'dedicated', 'deduct', 'deep', 'deepak', 'deepest', 'deer', 'deeraj', 'def', 'defeat', 'defer', 'deficient', 'definite', 'definitely', 'definitly', 'defo', 'degree', 'degrees', 'dehydrated', 'dehydration', 'del', 'delay', 'delayed', 'delete', 'deleted', 'delhi', 'delicious', 'deliver', 'delivered', 'deliveredtomorrow', 'delivery', 'deltomorrow', 'deluxe', 'dem', 'demand', 'den', 'dena', 'dengra', 'denis', 'dent', 'dental', 'dentist', 'dentists', 'deny', 'denying', 'department', 'dependable', 'dependents', 'depends', 'deposit', 'deposited', 'depressed', 'depression', 'dept', 'der', 'derek', 'derp', 'description', 'desert', 'deserve', 'designation', 'desires', 'desk', 'desparate', 'desparately', 'desperate', 'despite', 'dessert', 'destination', 'destiny', 'detailed', 'details', 'determine', 'determined', 'detroit', 'deus', 'develop', 'developed', 'developer', 'device', 'devils', 'devouring', 'dey', 'dha', 'dhanush', 'dhina', 'dhoni', 'dhorte', 'di', 'dial', 'dialling', 'dialogue', 'diamond', 'diamonds', 'diapers', 'dice', 'dick', 'dict', 'dictionary', 'did', 'diddy', 'didn', 'didnt', 'didntgive', 'didnåõt', 'die', 'died', 'diesel', 'diet', 'dieting', 'diff', 'differ', 'difference', 'differences', 'different', 'difficult', 'difficulties', 'dificult', 'digi', 'digital', 'digits', 'dignity', 'dileep', 'dime', 'dimension', 'din', 'dine', 'dined', 'dinero', 'ding', 'dining', 'dinner', 'dino', 'dint', 'dip', 'dippeditinadew', 'direct', 'directly', 'director', 'directors', 'dirt', 'dirtiest', 'dirty', 'dis', 'disagreeable', 'disappeared', 'disappointment', 'disaster', 'disasters', 'disastrous', 'disc', 'disclose', 'disconnect', 'disconnected', 'discount', 'discreet', 'discuss', 'discussed', 'diseases', 'disk', 'dislikes', 'dismay', 'dismissial', 'display', 'distance', 'distract', 'disturb', 'disturbance', 'disturbing', 'ditto', 'divert', 'division', 'divorce', 'diwali', 'dizzamn', 'dizzee', 'dl', 'dled', 'dlf', 'dload', 'dnot', 'dnt', 'dob', 'dobby', 'doc', 'dock', 'docks', 'docs', 'doctor', 'doctors', 'documents', 'dodda', 'dodgey', 'does', 'doesdiscount', 'doesn', 'doesnt', 'doesnåõt', 'dog', 'dogbreath', 'dogg', 'doggin', 'dogging', 'doggy', 'dogs', 'dogwood', 'doin', 'doinat', 'doing', 'doit', 'doke', 'dokey', 'doll', 'dollar', 'dollars', 'dolls', 'dom', 'domain', 'don', 'donate', 'donno', 'dont', 'dontcha', 'dontmatter', 'donyt', 'donåõt', 'dooms', 'door', 'doors', 'dorm', 'dormitory', 'dorothy', 'dose', 'dosomething', 'dot', 'double', 'doublemins', 'doubles', 'doubletxt', 'doubt', 'doug', 'dough', 'download', 'downloaded', 'downloads', 'downon', 'downs', 'downstem', 'dozens', 'dps', 'dr', 'dracula', 'drama', 'dramastorm', 'dramatic', 'drastic', 'draw', 'draws', 'dreading', 'dream', 'dreams', 'dreamz', 'dress', 'dressed', 'dresser', 'drink', 'drinkin', 'drinking', 'drinks', 'drivby', 'drive', 'driver', 'drivin', 'driving', 'drizzling', 'drms', 'drop', 'dropped', 'drops', 'drove', 'drpd', 'drug', 'drugdealer', 'drugs', 'drum', 'drunk', 'drunkard', 'drunken', 'drvgsto', 'dry', 'dryer', 'dsn', 'dt', 'dual', 'dub', 'dubsack', 'duchess', 'ducking', 'dude', 'dudes', 'dudette', 'duffer', 'dull', 'dumb', 'dump', 'dun', 'dungerees', 'dunno', 'duo', 'durban', 'durham', 'dusk', 'dust', 'duvet', 'dvd', 'dvg', 'dwn', 'dying', 'dysentry', 'e14', 'eachother', 'ear', 'earlier', 'earliest', 'early', 'earn', 'earning', 'ears', 'earth', 'easier', 'easiest', 'easily', 'east', 'eastenders', 'easter', 'easy', 'eat', 'eaten', 'eatin', 'eating', 'ebay', 'ec2a', 'echo', 'eckankar', 'ecstacy', 'ecstasy', 'ed', 'edge', 'edhae', 'edison', 'edition', 'edrunk', 'edu', 'education', 'educational', 'edukkukayee', 'edward', 'edwards', 'ee', 'eek', 'eerie', 'eerulli', 'effect', 'effects', 'efficient', 'efreefone', 'egbon', 'egg', 'eggs', 'ego', 'eh', 'eh74rr', 'eighth', 'eightish', 'eire', 'el', 'ela', 'elaborate', 'elaborating', 'elaine', 'elama', 'elaya', 'eldest', 'election', 'elections', 'electricity', 'elephant', 'elliot', 'ello', 'elvis', 'em', 'email', 'emailed', 'embarassed', 'embarassing', 'embarrassed', 'embassy', 'emc1', 'emergency', 'emerging', 'emigrated', 'emily', 'emotion', 'employee', 'employer', 'en', 'enc', 'end', 'ended', 'ending', 'endless', 'endowed', 'ends', 'enemies', 'enemy', 'energy', 'eng', 'engaged', 'engagement', 'engalnd', 'engin', 'england', 'english', 'enjoy', 'enjoyed', 'enjoyin', 'enjoying', 'enketa', 'enna', 'ennal', 'ente', 'enter', 'entered', 'enters', 'entertain', 'entertaining', 'entey', 'entire', 'entirely', 'entitled', 'entrepreneurs', 'entropication', 'entry', 'entry41', 'enufcredeit', 'enuff', 'envelope', 'environment', 'envy', 'epi', 'eppolum', 'epsilon', 'equally', 'er', 'ere', 'ericson', 'ericsson', 'erm', 'erode', 'erotic', 'err', 'error', 'errors', 'ertini', 'eruku', 'erupt', 'erutupalam', 'esaplanade', 'escalator', 'escape', 'ese', 'eshxxxxxxxxxxx', 'espe', 'especially', 'esplanade', 'essay', 'essential', 'establish', 'eta', 'ethnicity', 'etlp', 'ettans', 'euro', 'euro2004', 'eurodisinc', 'europe', 'evaluation', 'evaporated', 'eve', 'eveb', 'evening', 'evenings', 'event', 'events', 'eventually', 'every1', 'everybody', 'everyboy', 'everyday', 'everyones', 'everyso', 'everythin', 'everytime', 'evey', 'eviction', 'evil', 'evn', 'evng', 'evo', 'evone', 'evr', 'evrey', 'evry', 'evry1', 'evrydy', 'ew', 'ex', 'exact', 'exactly', 'exam', 'exams', 'excellent', 'exchanged', 'excited', 'exciting', 'excuse', 'excused', 'excuses', 'exe', 'executive', 'exercise', 'exeter', 'exhaust', 'exhausted', 'exhibition', 'exist', 'exmpel', 'exorcism', 'exorcist', 'exp', 'expect', 'expected', 'expecting', 'expects', 'expensive', 'experience', 'experiencehttp', 'experiment', 'expert', 'expired', 'expires', 'expiry', 'explain', 'explicit', 'explicitly', 'explosive', 'exposed', 'exposes', 'express', 'expression', 'expressoffer', 'ext', 'exterminator', 'extra', 'extract', 'extreme', 'ey', 'eye', 'eyed', 'eyes', 'eå', 'f4q', 'fa', 'fab', 'faber', 'face', 'facebook', 'facilities', 'fact', 'factory', 'facts', 'faded', 'faggot', 'faggy', 'faglord', 'failed', 'failing', 'fails', 'failure', 'fainting', 'fair', 'faith', 'fake', 'fakeye', 'fal', 'falconerf', 'fall', 'fallen', 'falling', 'falls', 'fals', 'famamus', 'familiar', 'family', 'famous', 'fan', 'fancied', 'fancies', 'fancy', 'fans', 'fantasies', 'fantastic', 'fantasy', 'far', 'farm', 'farrell', 'farting', 'fassyole', 'fast', 'faster', 'fastest', 'fat', 'fated', 'father', 'fathima', 'fats', 'fatty', 'fault', 'fav', 'fave', 'favor', 'favorite', 'favour', 'favourite', 'fb', 'fear', 'feathery', 'features', 'feb', 'february', 'fed', 'fedex', 'feed', 'feel', 'feelin', 'feeling', 'feellikw', 'feels', 'fees', 'feet', 'fell', 'fellow', 'felt', 'female', 'feng', 'festival', 'fetch', 'fetching', 'fever', 'ffectionate', 'fffff', 'ffffffffff', 'ffffuuuuuuu', 'fgkslpo', 'fgkslpopw', 'fidalfication', 'field', 'fieldof', 'fiend', 'fifa', 'fifth', 'fight', 'fighting', 'fightng', 'fights', 'figure', 'figures', 'figuring', 'file', 'files', 'filled', 'filling', 'fills', 'film', 'films', 'filth', 'filthy', 'filthyguys', 'final', 'finalise', 'finally', 'finance', 'financial', 'finding', 'finds', 'fine', 'finest', 'fingers', 'finish', 'finishd', 'finished', 'finishes', 'finishing', 'fink', 'finn', 'fired', 'firefox', 'fireplace', 'fires', 'firmware', 'firsg', 'fish', 'fishhead', 'fishrman', 'fit', 'fiting', 'fix', 'fixd', 'fixed', 'fixedline', 'fixes', 'fizz', 'flag', 'flaked', 'flaky', 'flame', 'flash', 'flat', 'flatter', 'flavour', 'flea', 'fletcher', 'flew', 'flies', 'flight', 'flights', 'flim', 'flip', 'flippin', 'flirt', 'flirting', 'flirtparty', 'floating', 'flood', 'floor', 'floppy', 'florida', 'flow', 'flower', 'flowers', 'flowing', 'fluids', 'flung', 'flurries', 'flute', 'fly', 'flying', 'flyng', 'fm', 'fml', 'fne', 'fo', 'fold', 'foley', 'folks', 'follow', 'followed', 'followin', 'following', 'follows', 'fond', 'fondly', 'fone', 'foned', 'fones', 'food', 'fool', 'fooled', 'fools', 'foot', 'football', 'footbl', 'footie', 'footprints', 'footy', 'force', 'forced', 'foregate', 'foreign', 'forever', 'forevr', 'forfeit', 'forget', 'forgets', 'forgive', 'forgiven', 'forgiveness', 'forgot', 'forgotten', 'forgt', 'form', 'formal', 'formally', 'format', 'formatting', 'forms', 'forth', 'fortune', 'forum', 'forums', 'forward', 'forwarded', 'forwarding', 'forå', 'fourth', 'foward', 'fowler', 'fox', 'fps', 'fr', 'fraction', 'fran', 'frank', 'frankie', 'franxx', 'franyxxxxx', 'frauds', 'freak', 'freaked', 'freaking', 'freaky', 'fredericksburg', 'free', 'free2day', 'freedom', 'freeentry', 'freefone', 'freek', 'freely', 'freemsg', 'freephone', 'freezing', 'fren', 'french', 'frens', 'frequently', 'fresh', 'freshers', 'fret', 'fri', 'friday', 'fridays', 'fridge', 'fried', 'friend', 'friends', 'friendsare', 'friendship', 'friendships', 'fring', 'fringe', 'frm', 'frnd', 'frnds', 'frndship', 'frndshp', 'frndsship', 'frndz', 'frnt', 'fro', 'frog', 'fromm', 'frontierville', 'frosty', 'frwd', 'frying', 'ft', 'fuck', 'fucked', 'fuckin', 'fucking', 'fuckinnice', 'fucks', 'fudge', 'fuelled', 'fujitsu', 'ful', 'fulfil', 'fullonsms', 'fumbling', 'fun', 'function', 'functions', 'fund', 'fundamentals', 'funeral', 'funk', 'funky', 'funny', 'funs', 'furniture', 'fusion', 'future', 'fuuuuck', 'fwiw', 'fyi', 'g2', 'g696ga', 'ga', 'gage', 'gail', 'gailxx', 'gain', 'gained', 'gal', 'galileo', 'gals', 'gam', 'gamb', 'game', 'games', 'gamestar', 'gandhipuram', 'ganesh', 'gang', 'gap', 'gaps', 'garage', 'garbage', 'garden', 'gardener', 'gari', 'garments', 'gary', 'gas', 'gastroenteritis', 'gate', 'gauge', 'gautham', 'gauti', 'gave', 'gay', 'gayle', 'gays', 'gaytextbuddy', 'gaze', 'gbp', 'gbp1', 'gbp4', 'gbp5', 'gd', 'ge', 'gee', 'geeee', 'geeeee', 'gei', 'gek1510', 'gender', 'general', 'generally', 'genes', 'genius', 'gent', 'gentle', 'gentleman', 'gently', 'genuine', 'genus', 'geoenvironmental', 'george', 'gep', 'ger', 'germany', 'get4an18th', 'getiing', 'geting', 'gets', 'getsleep', 'getstop', 'gettin', 'getting', 'getzed', 'gf', 'ghodbandar', 'ghost', 'gibbs', 'gibe', 'gift', 'gifted', 'gifts', 'giggle', 'gigolo', 'gimme', 'gimmi', 'gin', 'girl', 'girlfrnd', 'girlie', 'girls', 'gist', 'giv', 'given', 'gives', 'giving', 'glad', 'glands', 'glasgow', 'glass', 'glo', 'global', 'glorious', 'glory', 'gloucesterroad', 'gm', 'gmw', 'gn', 'gnarls', 'gnun', 'go2', 'go2sri', 'goal', 'goals', 'gobi', 'god', 'gods', 'goes', 'goggles', 'goigng', 'goin', 'goin2bed', 'going', 'gokila', 'gold', 'golddigger', 'golden', 'goldviking', 'golf', 'gon', 'gona', 'gone', 'gong', 'gonna', 'gonnamissu', 'good', 'goodevening', 'goodfriend', 'goodies', 'goodmate', 'goodmorning', 'goodnight', 'goodnite', 'goodnoon', 'goodo', 'goods', 'goodtime', 'google', 'gopalettan', 'gorgeous', 'gosh', 'goss', 'gossip', 'got', 'gota', 'gotany', 'gotbabes', 'gotmarried', 'goto', 'gotta', 'gotten', 'gotto', 'goverment', 'govt', 'gower', 'gprs', 'gpu', 'gr8', 'gr8fun', 'gr8prizes', 'grab', 'grace', 'graduated', 'grahmbell', 'gram', 'grams', 'gran', 'grand', 'grandfather', 'grandma', 'grandmas', 'granite', 'granted', 'graphics', 'grasp', 'grateful', 'grave', 'gravel', 'gravity', 'gravy', 'gray', 'grazed', 'gre', 'great', 'greatest', 'greatly', 'greatness', 'greece', 'green', 'greet', 'greeting', 'greetings', 'grief', 'grinder', 'grins', 'grinule', 'grl', 'grocers', 'grooved', 'groovy', 'groovying', 'ground', 'group', 'grow', 'growing', 'grown', 'grownup', 'grr', 'grumble', 'grumpy', 'gsex', 'gsoh', 'gt', 'gua', 'guai', 'guaranteed', 'gucci', 'gud', 'gudni8', 'gudnite', 'gudnyt', 'guess', 'guessed', 'guesses', 'guessin', 'guessing', 'guidance', 'guide', 'guides', 'guild', 'guilty', 'guitar', 'gumby', 'guoyang', 'gurl', 'gut', 'guy', 'guys', 'gv', 'gving', 'gym', 'gymnastics', 'gynae', 'gyno', 'ha', 'habba', 'habit', 'hack', 'hadn', 'haf', 'haha', 'hahaha', 'hai', 'hail', 'hair', 'haircut', 'hairdressers', 'haiyoh', 'haiz', 'half', 'half8th', 'hall', 'halla', 'hallaq', 'halloween', 'ham', 'hamper', 'hamster', 'hand', 'handed', 'handing', 'handle', 'hands', 'handset', 'handsome', 'handsomes', 'hang', 'hanger', 'hangin', 'hanging', 'hanks', 'hannaford', 'hanuman', 'hanumanji', 'happen', 'happend', 'happened', 'happenin', 'happening', 'happens', 'happier', 'happiest', 'happily', 'happiness', 'happy', 'hard', 'hardcore', 'harder', 'hardest', 'hardly', 'hari', 'harish', 'harlem', 'harri', 'harry', 'hasbro', 'hasn', 'hassling', 'hat', 'hate', 'hates', 'haughaighgtujhyguj', 'haul', 'haunt', 'hav', 'hava', 'haven', 'havent', 'haventcn', 'havenåõt', 'havin', 'having', 'havn', 'havnt', 'hcl', 'hdd', 'head', 'headache', 'headin', 'heading', 'heads', 'headset', 'headstart', 'heal', 'healer', 'healthy', 'heap', 'hear', 'heard', 'hearin', 'hearing', 'heart', 'hearted', 'hearts', 'heat', 'heater', 'heaven', 'heavily', 'heavy', 'hectic', 'hee', 'heehee', 'height', 'held', 'helen', 'helens', 'hell', 'hella', 'hello', 'hellogorgeous', 'helloooo', 'help', 'help08700621170150p', 'help08714742804', 'help08718728876', 'helpful', 'helping', 'helpline', 'helps', 'heltini', 'hen', 'henry', 'hep', 'hero', 'heroes', 'heron', 'hes', 'hesitant', 'hesitate', 'hesitation', 'hex', 'hey', 'heåõs', 'hf8', 'hg', 'hhahhaahahah', 'hi', 'hidden', 'hide', 'hides', 'hiding', 'high', 'highest', 'hilarious', 'hill', 'hills', 'hillsborough', 'himso', 'hint', 'hip', 'hiphop', 'hire', 'history', 'hit', 'hitler', 'hitman', 'hits', 'hitter', 'hittng', 'hiya', 'hl', 'hlday', 'hlp', 'hm', 'hme', 'hmm', 'hmmm', 'hmmmm', 'hmmross', 'hmph', 'hmv', 'hmv1', 'ho', 'hockey', 'hogidhe', 'hogli', 'hogolo', 'hol', 'holby', 'hold', 'holder', 'holding', 'hole', 'holiday', 'holla', 'hollalater', 'hols', 'holy', 'home', 'homeowners', 'hon', 'honest', 'honestly', 'honesty', 'honey', 'honeybee', 'honeymoon', 'honi', 'hont', 'hoo', 'hooch', 'hoody', 'hook', 'hooked', 'hoops', 'hop', 'hope', 'hoped', 'hopeful', 'hopefully', 'hopeing', 'hopes', 'hopeu', 'hoping', 'hor', 'horniest', 'horny', 'horo', 'horrible', 'horse', 'hos', 'hospital', 'hospitals', 'host', 'hostel', 'hostile', 'hot', 'hotel', 'hotels', 'hotmail', 'hotmix', 'hottest', 'hour', 'hourish', 'hours', 'house', 'houseful', 'housewives', 'housework', 'housing', 'howard', 'howda', 'howdy', 'hows', 'howz', 'hp', 'hp20', 'hppnss', 'hr', 'hrishi', 'hrs', 'hsbc', 'html', 'http', 'hu', 'huai', 'hubby', 'hudgi', 'hug', 'huge', 'hugging', 'hugh', 'hugs', 'huh', 'hui', 'huiming', 'hum', 'humanities', 'humans', 'hun', 'hundreds', 'hungover', 'hungry', 'hunks', 'hunny', 'hunt', 'hunting', 'hurricanes', 'hurried', 'hurry', 'hurt', 'hurting', 'hurts', 'husband', 'hussey', 'hustle', 'hut', 'hv', 'hv9d', 'hvae', 'hw', 'hyde', 'hype', 'hypertension', 'hypotheticalhuagauahahuagahyuhagga', 'iam', 'ias', 'ibh', 'ibhltd', 'ibiza', 'ibm', 'ibn', 'ibored', 'ibuprofens', 'ic', 'iccha', 'ice', 'icic', 'icicibank', 'icky', 'icmb3cktz8r7', 'icon', 'id', 'idc', 'idea', 'ideal', 'ideas', 'identification', 'identifier', 'idew', 'idiot', 'idk', 'idps', 'idu', 'iff', 'ifink', 'ig11', 'ignorant', 'ignore', 'ignoring', 'ihave', 'ijust', 'ikea', 'ikno', 'iknow', 'il', 'ileave', 'ill', 'illness', 'ilol', 'im', 'image', 'images', 'imagination', 'imagine', 'imat', 'imf', 'img', 'imin', 'imma', 'immed', 'immediately', 'immunisation', 'imp', 'impatient', 'impede', 'implications', 'important', 'importantly', 'imposed', 'impossible', 'imposter', 'impress', 'impressed', 'impression', 'impressively', 'improve', 'improved', 'imprtant', 'in2', 'inch', 'inches', 'incident', 'inclu', 'include', 'includes', 'including', 'inclusive', 'incomm', 'inconsiderate', 'inconvenience', 'inconvenient', 'incorrect', 'increase', 'incredible', 'increments', 'inde', 'independence', 'independently', 'index', 'india', 'indian', 'indians', 'indicate', 'individual', 'indyarocks', 'inever', 'infact', 'infections', 'infernal', 'influx', 'info', 'inform', 'information', 'informed', 'infra', 'infront', 'ing', 'ingredients', 'initiate', 'ink', 'inlude', 'inmind', 'inner', 'innings', 'innocent', 'innu', 'inperialmusic', 'inpersonation', 'inr', 'insects', 'insha', 'inshah', 'inside', 'inspection', 'inst', 'install', 'installation', 'installing', 'instant', 'instantly', 'instead', 'instituitions', 'instructions', 'insurance', 'intelligent', 'intend', 'intention', 'intentions', 'interested', 'interesting', 'interflora', 'interfued', 'internal', 'internet', 'interview', 'interviews', 'interviw', 'intha', 'intrepid', 'intro', 'intrude', 'invaders', 'invention', 'invest', 'investigate', 'invitation', 'invite', 'invited', 'inviting', 'invnted', 'invoices', 'involve', 'involved', 'iouri', 'ip', 'ip4', 'ipad', 'ipaditan', 'ipads', 'iphone', 'ipod', 'iq', 'iraq', 'irene', 'iriver', 'iron', 'ironing', 'irritated', 'irritates', 'irritating', 'irritation', 'irulinae', 'isaiah', 'iscoming', 'ish', 'ishtamayoo', 'island', 'islands', 'isn', 'isnt', 'isnåõt', 'issue', 'issues', 'italian', 'itcould', 'items', 'iter', 'itna', 'itried2tell', 'itwhichturnedinto', 'itxt', 'itz', 'itåõs', 'ivatte', 'ive', 'iwana', 'iwas', 'iyo', 'iz', 'izzit', 'iåõd', 'iåõllspeak', 'iåõm', 'iåõve', 'j5q', 'j89', 'jabo', 'jack', 'jacket', 'jackpot', 'jackson', 'jacuzzi', 'jada', 'jade', 'jaklin', 'jam', 'james', 'jamster', 'jamz', 'jan', 'janarige', 'jane', 'janinexx', 'january', 'janx', 'jap', 'japanese', 'jas', 'jason', 'java', 'jay', 'jaya', 'jaykwon', 'jaz', 'jazz', 'jb', 'jd', 'je', 'jealous', 'jeans', 'jeetey', 'jeevithathile', 'jelly', 'jen', 'jenne', 'jenny', 'jeremiah', 'jeri', 'jerk', 'jerry', 'jersey', 'jess', 'jesus', 'jet', 'jetton', 'jewelry', 'jez', 'ji', 'jia', 'jiayin', 'jide', 'jiu', 'jjc', 'jo', 'joanna', 'job', 'jobs', 'jocks', 'jod', 'jog', 'jogging', 'john', 'johnåó', 'join', 'joined', 'joining', 'joke', 'joker', 'jokes', 'jokin', 'joking', 'jolly', 'jolt', 'jon', 'jones', 'jontin', 'jordan', 'jorge', 'jos', 'jot', 'journey', 'joy', 'joys', 'jp', 'js', 'jsco', 'jst', 'jstfrnd', 'jsut', 'juan', 'judgemental', 'juicy', 'jul', 'jules', 'juliana', 'julianaland', 'july', 'jump', 'jumpers', 'june', 'jungle', 'junna', 'jurong', 'jus', 'just', 'justbeen', 'justfound', 'justify', 'juswoke', 'juz', 'k52', 'k61', 'k718', 'kaaj', 'kadeem', 'kaiez', 'kaila', 'kaitlyn', 'kalaachutaarama', 'kalainar', 'kalisidare', 'kallis', 'kalstiya', 'kama', 'kanagu', 'kane', 'kanji', 'kano', 'kappa', 'karaoke', 'karnan', 'karo', 'kate', 'katexxx', 'kath', 'kavalan', 'kay', 'kaypoh', 'kb', 'ke', 'keen', 'keeping', 'keeps', 'kegger', 'keluviri', 'ken', 'kent', 'kept', 'kerala', 'keralacircle', 'keris', 'kettoda', 'key', 'keypad', 'keys', 'keyword', 'kfc', 'kg', 'khelate', 'ki', 'kicchu', 'kick', 'kickboxing', 'kickoff', 'kicks', 'kid', 'kidding', 'kids', 'kidz', 'kiefer', 'kill', 'killed', 'killing', 'kills', 'kilos', 'kind', 'kinda', 'kindly', 'king', 'kingdom', 'kintu', 'kiosk', 'kip', 'kisi', 'kiss', 'kisses', 'kissing', 'kit', 'kittum', 'kitty', 'kl341', 'knackered', 'knee', 'knees', 'knew', 'knickers', 'knock', 'knocking', 'know', 'knowing', 'known', 'knows', 'knw', 'ko', 'kochi', 'kodstini', 'kodthini', 'kolathupalayam', 'konw', 'korche', 'korean', 'korli', 'korte', 'kotees', 'kothi', 'kr', 'ktv', 'kuch', 'kudi', 'kusruthi', 'kvb', 'kz', 'l8', 'l8er', 'l8r', 'l8rs', 'l8tr', 'la', 'la1', 'la3', 'la32wu', 'lab', 'labor', 'lac', 'lacking', 'lacs', 'laden', 'ladies', 'lady', 'lag', 'lage', 'lager', 'laid', 'lakhs', 'lambda', 'lambu', 'lamp', 'lancaster', 'land', 'landing', 'landline', 'landlineonly', 'landlines', 'landmark', 'lands', 'lane', 'langport', 'language', 'lanka', 'lanre', 'lap', 'lapdancer', 'laptop', 'lar', 'lara', 'laready', 'large', 'largest', 'lark', 'lasagna', 'lastest', 'lasting', 'late', 'lately', 'latelyxxx', 'later', 'latest', 'latests', 'latr', 'laugh', 'laughed', 'laughing', 'laughs', 'laundry', 'laurie', 'lautech', 'lavender', 'law', 'laxinorficated', 'lay', 'laying', 'lays', 'lazy', 'lccltd', 'ld', 'ldew', 'ldn', 'ldnw15h', 'le', 'lead', 'leadership', 'leading', 'leads', 'leaf', 'league', 'leanne', 'learn', 'learned', 'least5times', 'leave', 'leaves', 'leaving', 'lect', 'lecture', 'lecturer', 'left', 'leftovers', 'leg', 'legal', 'legitimat', 'legs', 'leh', 'lei', 'lekdog', 'lemme', 'length', 'lengths', 'lennon', 'leo', 'leona', 'leonardo', 'les', 'lesser', 'lesson', 'lessons', 'let', 'lets', 'letter', 'letters', 'level', 'lf56', 'li', 'liao', 'lib', 'libertines', 'library', 'lick', 'licks', 'lido', 'lie', 'lies', 'life', 'lifebook', 'lifeis', 'lifetime', 'lifpartnr', 'lift', 'lifted', 'lifting', 'light', 'lighters', 'lightly', 'lik', 'like', 'liked', 'likely', 'likes', 'likeyour', 'liking', 'lil', 'lily', 'lim', 'limit', 'limited', 'limiting', 'limits', 'limping', 'lindsay', 'line', 'linear', 'lined', 'linerental', 'lines', 'lingerie', 'lingo', 'link', 'links', 'linux', 'lion', 'lionm', 'lionp', 'lions', 'lip', 'lipo', 'lips', 'liquor', 'list', 'listed', 'listen', 'listened2the', 'listener', 'listening', 'listening2the', 'listn', 'lists', 'lit', 'literally', 'litres', 'little', 'live', 'lived', 'liver', 'liverpool', 'lives', 'living', 'lk', 'lkpobox177hp51fl', 'll', 'llc', 'lmao', 'lnly', 'lo', 'load', 'loads', 'loan', 'loans', 'lobby', 'local', 'location', 'locations', 'locaxx', 'lock', 'locks', 'lodge', 'lodging', 'log', 'logged', 'logging', 'login', 'logo', 'logoff', 'logon', 'logos', 'loko', 'lol', 'lolnice', 'lololo', 'londn', 'london', 'loneliness', 'lonely', 'long', 'longer', 'lonlines', 'loo', 'look', 'lookatme', 'looked', 'lookin', 'looking', 'looks', 'lool', 'loooooool', 'looovvve', 'loose', 'loosing', 'loosu', 'lor', 'lord', 'lose', 'losers', 'loses', 'losing', 'loss', 'lost', 'lot', 'lotr', 'lots', 'lotsly', 'lotta', 'lotto', 'lotz', 'lou', 'loud', 'lounge', 'lousy', 'lov', 'lovable', 'love', 'loved', 'lovejen', 'lovely', 'loveme', 'lover', 'loverboy', 'lovers', 'loves', 'lovin', 'loving', 'lovingly', 'lovly', 'low', 'lower', 'lowes', 'loxahatchee', 'loyal', 'loyalty', 'ls1', 'ls15hb', 'ls278bb', 'lst', 'lt', 'ltdhelpdesk', 'lttrs', 'lubly', 'luck', 'luckily', 'lucky', 'lucozade', 'lucy', 'lucyxx', 'luks', 'lul', 'lunch', 'lunchtime', 'lunsford', 'lush', 'luton', 'luv', 'luvd', 'luvs', 'lux', 'luxury', 'lv', 'lvblefrnd', 'lyf', 'lyfu', 'lying', 'lyk', 'lyricalladie', 'lyrics', 'm100', 'm221bp', 'm227xy', 'm26', 'm263uz', 'm39m51', 'm6', 'm60', 'm8', 'm8s', 'm95', 'ma', 'maaaan', 'maangalyam', 'maat', 'mac', 'macedonia', 'macha', 'machan', 'machi', 'machines', 'macho', 'mack', 'macleran', 'macs', 'mad', 'mad1', 'mad2', 'madam', 'madodu', 'madoke', 'madstini', 'madurai', 'mag', 'maga', 'magazine', 'maggi', 'magic', 'magical', 'magicalsongs', 'mah', 'mahal', 'mahaveer', 'mahfuuz', 'maid', 'mail', 'mailbox', 'mailed', 'mails', 'main', 'maintain', 'maintaining', 'major', 'make', 'makes', 'makiing', 'makin', 'making', 'malaria', 'malarky', 'male', 'mall', 'mallika', 'man', 'manage', 'manageable', 'managed', 'management', 'manchester', 'manda', 'mandan', 'mandara', 'mandy', 'maneesha', 'manege', 'mango', 'maniac', 'manky', 'manual', 'map', 'mapquest', 'maps', 'maraikara', 'marandratha', 'march', 'maretare', 'margaret', 'margin', 'marine', 'mark', 'market', 'marketing', 'marking', 'marley', 'marrge', 'marriage', 'married', 'marry', 'marsms', 'maruti', 'marvel', 'mary', 'mas', 'masked', 'massage', 'massages', 'massive', 'masteriastering', 'masters', 'mat', 'match', 'matched', 'matches', 'mate', 'mates', 'math', 'mathe', 'mathematics', 'mathews', 'maths', 'matra', 'matric', 'matrix3', 'matter', 'matters', 'matthew', 'matured', 'maturity', 'max', 'max10mins', 'max6', 'maximize', 'maximum', 'maxå', 'mayb', 'maybe', 'mb', 'mc', 'mca', 'mcat', 'mcfly', 'mcr', 'meal', 'meals', 'mean', 'meaning', 'meaningful', 'meaningless', 'means', 'meant', 'measure', 'meat', 'meatballs', 'mecause', 'med', 'medical', 'medicine', 'meds', 'mee', 'meet', 'meetin', 'meeting', 'meetins', 'meets', 'meg', 'mega', 'meh', 'mei', 'meive', 'mel', 'melle', 'melnite', 'melody', 'melt', 'member', 'members', 'membership', 'memorable', 'memories', 'memory', 'men', 'mens', 'mental', 'mention', 'mentioned', 'mentionned', 'mentor', 'menu', 'meow', 'merely', 'merememberin', 'merry', 'mesages', 'mess', 'message', 'messaged', 'messages', 'messaging', 'messed', 'messenger', 'messy', 'met', 'method', 'mf', 'mfl', 'mgs', 'mi', 'mia', 'michael', 'mid', 'middle', 'midnight', 'mids', 'miiiiiiissssssssss', 'mike', 'mila', 'mileage', 'miles', 'milk', 'millers', 'million', 'millions', 'milta', 'min', 'mina', 'minapn', 'mind', 'minded', 'mindset', 'minecraft', 'mini', 'minimum', 'minmobsmore', 'minmobsmorelkpobox177hp51fl', 'minmoremobsemspobox45po139wa', 'minnaminunginte', 'minor', 'mins', 'mint', 'minus', 'minute', 'minutes', 'minuts', 'miracle', 'mirror', 'mis', 'misbehaved', 'miserable', 'misfits', 'mising', 'misplaced', 'miss', 'misscall', 'missed', 'missin', 'missing', 'missionary', 'missions', 'misss', 'missunderstding', 'missy', 'mist', 'mistake', 'mistakes', 'misundrstud', 'mite', 'mitsake', 'mittelschmertz', 'miwa', 'mix', 'mj', 'mjzgroup', 'mk45', 'ml', 'mm', 'mmm', 'mmmm', 'mmmmm', 'mmmmmm', 'mmmmmmm', 'mmsto', 'mns', 'mnth', 'mnths', 'mo', 'moan', 'mob', 'mobcudb', 'mobile', 'mobiles', 'mobilesdirect', 'mobilesvary', 'mobileupd8', 'mobno', 'mobs', 'mobsi', 'mobstorequiz10ppm', 'moby', 'mobypobox734ls27yf', 'mode', 'model', 'modl', 'module', 'modules', 'mofo', 'moji', 'mojibiola', 'mokka', 'molested', 'mom', 'moment', 'moments', 'moms', 'mon', 'monday', 'mone', 'money', 'monkeespeople', 'monkey', 'monkeyaround', 'monkeys', 'mono', 'monoc', 'monos', 'monster', 'month', 'monthly', 'monthlysubscription', 'months', 'mood', 'moon', 'moral', 'morefrmmob', 'morn', 'mornin', 'morning', 'mornings', 'morphine', 'moseley', 'mother', 'motherfucker', 'motivate', 'motivating', 'motive', 'motor', 'motorola', 'mountain', 'mountains', 'mouse', 'mouth', 'moved', 'moves', 'movie', 'movies', 'movietrivia', 'moving', 'mp3', 'mquiz', 'mr', 'mre', 'mrng', 'mrt', 'ms', 'msg', 'msg150p', 'msging', 'msgrcvd', 'msgrcvd18', 'msgrcvdhg', 'msgs', 'msn', 'mt', 'mtalk', 'mth', 'mths', 'mtmsg', 'mtmsg18', 'mtmsgrcvd18', 'mtnl', 'mu', 'muah', 'muchand', 'muchxxlove', 'mudyadhu', 'mufti', 'muhommad', 'muht', 'multimedia', 'multiply', 'multis', 'mum', 'mumbai', 'mumhas', 'mummy', 'mums', 'mumtaz', 'mundhe', 'munsters', 'murali', 'murder', 'murdered', 'murderer', 'mus', 'mush', 'mushy', 'music', 'musical', 'musicnews', 'musta', 'musthu', 'mustprovide', 'mutai', 'mutations', 'muz', 'mw', 'mwahs', 'mylife', 'mymoby', 'myparents', 'mys', 'myspace', 'mystery', 'n8', 'n9dx', 'na', 'naal', 'nachos', 'nag', 'nagar', 'nah', 'nahi', 'nails', 'naked', 'nalla', 'nalli', 'name1', 'name2', 'named', 'names', 'nammanna', 'namous', 'nan', 'nange', 'nanny', 'nannys', 'nap', 'narcotics', 'nasdaq', 'naseeb', 'nasty', 'nat', 'nat27081980', 'natalie', 'natalie2k9', 'natalja', 'national', 'nationwide', 'nattil', 'natural', 'nature', 'natwest', 'naughty', 'nauseous', 'nav', 'navigate', 'nb', 'nbme', 'nd', 'ndship', 'ne', 'near', 'nearby', 'nearer', 'nearly', 'necesity', 'necessarily', 'necessary', 'necessity', 'neck', 'necklace', 'ned', 'need', 'needa', 'needed', 'needing', 'needle', 'needs', 'needy', 'neekunna', 'neft', 'negative', 'neglect', 'neglet', 'neighbor', 'neighbors', 'neighbour', 'nelson', 'neo69', 'nervous', 'neshanth', 'net', 'netcollex', 'netflix', 'nething', 'netun', 'netvision', 'network', 'networking', 'networks', 'neva', 'nevering', 'neville', 'nevr', 'new', 'neway', 'newest', 'newport', 'newquay', 'news', 'newscaster', 'newsletter', 'newspapers', 'nhs', 'ni8', 'nic', 'nice', 'nichols', 'nick', 'nickey', 'nicky', 'nig', 'nigeria', 'nigh', 'night', 'nighters', 'nightnight', 'nights', 'nigpun', 'nigro', 'nike', 'nikiyu4', 'nimbomsons', 'nimya', 'ninish', 'nino', 'nipost', 'nit', 'nite', 'nitro', 'nitros', 'nitw', 'nitz', 'njan', 'nmde', 'no1', 'nobbing', 'noe', 'noice', 'noise', 'noisy', 'noiåõm', 'nok', 'nokia', 'nokia6600', 'nokia6650', 'nokias', 'noline', 'non', 'noncomittal', 'nonetheless', 'nookii', 'noon', 'nooooooo', 'noooooooo', 'nope', 'nora', 'norcorp', 'nordstrom', 'norm', 'norm150p', 'normal', 'normally', 'north', 'northampton', 'nos', 'nose', 'nosh', 'nosy', 'note', 'notebook', 'notes', 'nothin', 'notice', 'notifications', 'notified', 'notixiquating', 'nottingham', 'notxt', 'noun', 'novelty', 'november', 'now1', 'nowadays', 'noworriesloans', 'nr31', 'nri', 'nt', 'nte', 'ntimate', 'ntt', 'ntwk', 'nuclear', 'nudist', 'nuerologist', 'num', 'number', 'numbers', 'nursery', 'nurses', 'nurungu', 'nus', 'nusstu', 'nuther', 'nutter', 'nver', 'nvm', 'nvq', 'nw', 'nxt', 'ny', 'nyc', 'nydc', 'nyt', 'nz', 'nìâte', 'o2', 'o2fwd', 'oath', 'obedient', 'obese', 'obey', 'objection', 'oble', 'oblisingately', 'oblivious', 'obviously', 'occasion', 'occupied', 'occupy', 'occur', 'occurs', 'ocean', 'oclock', 'october', 'odalebeku', 'odi', 'ofcourse', 'offc', 'offcampus', 'offense', 'offer', 'offered', 'offering', 'offers', 'office', 'officer', 'official', 'officially', 'offline', 'ofice', 'ofsi', 'ofstuff', 'ofå', 'oga', 'ogunrinde', 'oh', 'oi', 'oic', 'oil', 'oja', 'ok', 'okay', 'okday', 'okden', 'okey', 'okie', 'okies', 'okmail', 'okors', 'ola', 'olage', 'olave', 'olayiwola', 'old', 'oli', 'ollu', 'olol', 'olowoyey', 'olympics', 'omg', 'omw', 'onam', 'onbus', 'oncall', 'ondu', 'ones', 'oni', 'onion', 'online', 'onluy', 'only1more', 'onlyfound', 'onum', 'onwards', 'onwords', 'ooh', 'oooh', 'oooooh', 'ooooooh', 'oops', 'open', 'opened', 'opener', 'openin', 'opening', 'openings', 'operate', 'operator', 'opinion', 'opinions', 'opponenter', 'opportunity', 'opposed', 'opposite', 'opps', 'opt', 'opted', 'optimistic', 'optin', 'option', 'optout', 'or2optout', 'or2stoptxt', 'oral', 'orange', 'oranges', 'orc', 'orchard', 'order', 'ordered', 'ore', 'oredi', 'oreo', 'oreos', 'org', 'organise', 'organizer', 'orh', 'orig', 'original', 'orno', 'ors', 'ortxt', 'oru', 'os', 'oscar', 'oso', 'otbox', 'othrs', 'othrwise', 'otside', 'ou', 'ouch', 'ourbacks', 'outage', 'outages', 'outbid', 'outdoors', 'outfit', 'outfor', 'outgoing', 'outl8r', 'outrageous', 'outreach', 'outs', 'outside', 'outsider', 'outstanding', 'outta', 'ovarian', 'oveable', 'overa', 'overdid', 'overdose', 'overemphasise', 'overheating', 'overtime', 'ovr', 'ovulate', 'ovulation', 'ow', 'owe', 'owed', 'owl', 'owned', 'owns', 'owo', 'oxygen', 'oyea', 'oyster', 'oz', 'pa', 'paces', 'pack', 'package', 'packing', 'packs', 'padhe', 'page', 'pages', 'pai', 'paid', 'pain', 'painful', 'paining', 'painting', 'pairs', 'pale', 'palm', 'pan', 'panalam', 'panasonic', 'pandy', 'panic', 'panicks', 'panren', 'pansy', 'panther', 'panties', 'pants', 'pap', 'papa', 'paper', 'papers', 'paperwork', 'paracetamol', 'parachute', 'parade', 'paragon', 'paragraphs', 'paranoid', 'parantella', 'parchi', 'parco', 'parent', 'parents', 'paris', 'parish', 'park', 'parked', 'parkin', 'parking', 'participate', 'particular', 'particularly', 'parties', 'partner', 'partnership', 'parts', 'party', 'paru', 'pases', 'pass', 'passable', 'passed', 'passes', 'passion', 'passionate', 'passport', 'password', 'passwords', 'past', 'pataistha', 'patent', 'path', 'pathaya', 'paths', 'patients', 'patrick', 'pattern', 'patty', 'paul', 'pause', 'pavanaputra', 'pax', 'pay', 'payasam', 'payback', 'payed', 'payee', 'paying', 'payment', 'payments', 'payoh', 'paypal', 'pc', 'pc1323', 'pdate_now', 'peace', 'peaceful', 'peach', 'peak', 'pears', 'pee', 'peeps', 'pehle', 'pei', 'pen', 'pence', 'pendent', 'pending', 'penis', 'penny', 'people', 'peoples', 'percent', 'percentages', 'perf', 'perfect', 'perform', 'performance', 'performed', 'perfume', 'peril', 'period', 'peripherals', 'permanent', 'permission', 'permissions', 'perpetual', 'persevered', 'persian', 'persolvo', 'person', 'person2die', 'personal', 'personality', 'personally', 'persons', 'perspective', 'pert', 'perumbavoor', 'pesky', 'pest', 'pete', 'petey', 'petrol', 'petticoatdreams', 'pg', 'ph', 'pharmacy', 'phasing', 'phb1', 'phd', 'phews', 'phil', 'philosophical', 'philosophy', 'phne', 'phoenix', 'phone', 'phone750', 'phonebook', 'phoned', 'phones', 'phony', 'photo', 'photos', 'photoshop', 'php', 'phrase', 'phyhcmk', 'physics', 'piah', 'pic', 'pick', 'picked', 'picking', 'pickle', 'pics', 'picsfree1', 'picture', 'pictures', 'pie', 'piece', 'pieces', 'pierre', 'pig', 'piggy', 'pilates', 'pile', 'pillows', 'pimples', 'pin', 'pink', 'pints', 'pisces', 'piss', 'pissed', 'pist', 'pity', 'pix', 'pixels', 'pizza', 'pl', 'place', 'placed', 'placement', 'places', 'plaid', 'plan', 'plane', 'planet', 'planettalkinstant', 'planned', 'planning', 'plans', 'plate', 'platt', 'play', 'played', 'player', 'players', 'playin', 'playing', 'playng', 'plaza', 'pleasant', 'pleased', 'pleassssssseeeeee', 'pleasure', 'pleasured', 'plenty', 'plm', 'ploughing', 'pls', 'plum', 'plumbers', 'plumbing', 'plural', 'plus', 'plyr', 'plz', 'pm', 'pmt', 'po', 'po19', 'pobox', 'pobox1', 'pobox114', 'pobox12n146tf15', 'pobox12n146tf150p', 'pobox202', 'pobox334', 'pobox36504w45wq', 'pobox365o4w45wq', 'pobox45w2tg150p', 'pobox75ldns7', 'pobox84', 'poboxox36504w45wq', 'pocay', 'pocked', 'pocketbabe', 'pockets', 'pocy', 'pod', 'poem', 'poet', 'point', 'points', 'poker', 'poking', 'pokkiri', 'pole', 'police', 'politicians', 'polo', 'poly', 'poly3', 'polyc', 'polyh', 'polyph', 'polyphonic', 'polys', 'pongal', 'ponnungale', 'poo', 'pooja', 'pookie', 'pool', 'poop', 'poor', 'poorly', 'poortiyagi', 'pop', 'popcorn', 'popped', 'popping', 'porn', 'porridge', 'port', 'portal', 'portege', 'pos', 'pose', 'posh', 'posible', 'position', 'positions', 'positive', 'possession', 'possessive', 'possessiveness', 'possibility', 'possible', 'possibly', 'post', 'postal', 'postcard', 'postcode', 'posted', 'posting', 'postponed', 'posts', 'potato', 'potential', 'potter', 'pouch', 'pound', 'pounded', 'pounds', 'poured', 'pours', 'pouts', 'power', 'powerful', 'poyyarikatur', 'ppl', 'pple', 'ppm', 'ppm150', 'ppt150x3', 'prabha', 'prabu', 'pract', 'practical', 'practice', 'practicing', 'practicum', 'practising', 'praises', 'prakasam', 'prakasamanu', 'prakesh', 'praps', 'prasad', 'prasanth', 'prashanthettan', 'praveesh', 'pray', 'prayers', 'praying', 'prayrs', 'pre', 'predict', 'predicte', 'predicting', 'prediction', 'predictive', 'prefer', 'preferably', 'prem', 'premarica', 'premier', 'premium', 'prepaid', 'prepare', 'prepared', 'prepayment', 'preponed', 'prescribed', 'prescripiton', 'prescription', 'presence', 'present', 'presents', 'president', 'presleys', 'presnts', 'press', 'pressies', 'pressure', 'prestige', 'pretend', 'pretsorginta', 'pretsovru', 'pretty', 'prevent', 'previews', 'previous', 'previously', 'prey', 'price', 'prices', 'pride', 'priest', 'prin', 'prince', 'princes', 'princess', 'print', 'printed', 'printer', 'printing', 'prior', 'priority', 'priscilla', 'privacy', 'private', 'prix', 'priya', 'prize', 'prizeawaiting', 'prizes', 'prizeswith', 'pro', 'prob', 'probably', 'problem', 'problematic', 'problems', 'problms', 'problum', 'probs', 'probthat', 'process', 'processed', 'prods', 'products', 'prof', 'professional', 'professors', 'profile', 'profiles', 'profit', 'program', 'programs', 'progress', 'project', 'projects', 'prolly', 'prometazine', 'prominent', 'promise', 'promised', 'promises', 'promo', 'promoting', 'promotion', 'promptly', 'prompts', 'prone', 'proof', 'proove', 'proper', 'properly', 'property', 'propose', 'props', 'propsd', 'pros', 'prospects', 'protect', 'proverb', 'provided', 'provider', 'providing', 'province', 'proze', 'prsn', 'ps', 'ps3', 'pshew', 'psp', 'psychiatrist', 'psychic', 'psychologist', 'pt2', 'ptbo', 'pthis', 'pub', 'public', 'publish', 'pubs', 'pudunga', 'pull', 'pulling', 'pulls', 'pump', 'punch', 'punish', 'punishment', 'punj', 'punto', 'puppy', 'pura', 'purchase', 'purchases', 'pure', 'purity', 'purple', 'purpose', 'purse', 'push', 'pushbutton', 'pushes', 'pussy', 'puts', 'puttin', 'putting', 'puzzeles', 'puzzles', 'px3748', 'på', 'qatar', 'qbank', 'qet', 'qi', 'qing', 'qjkgighjjgcbl', 'qlynnbv', 'quality', 'quarter', 'que', 'queen', 'queries', 'ques', 'question', 'questioned', 'questions', 'quick', 'quickly', 'quiet', 'quit', 'quite', 'quiteamuzing', 'quitting', 'quiz', 'quizclub', 'quizzes', 'quote', 'quoting', 'r836', 'racal', 'racing', 'radiator', 'radio', 'raed', 'rael', 'raglan', 'rahul', 'raiden', 'railway', 'rain', 'raining', 'raise', 'raised', 'raj', 'rajas', 'raji', 'rajini', 'rajitha', 'rajnikant', 'rakhesh', 'raksha', 'rally', 'ralphs', 'ramaduth', 'ramen', 'ran', 'random', 'randomlly', 'randomly', 'randy', 'rang', 'range', 'ranjith', 'ranju', 'raping', 'rate', 'rates', 'ratio', 'rats', 'raviyog', 'rawring', 'rayan', 'rayman', 'rays', 'rcb', 'rcd', 'rct', 'rcv', 'rcvd', 'rd', 'rdy', 'reach', 'reache', 'reached', 'reaching', 'reacting', 'reaction', 'read', 'readers', 'readiness', 'reading', 'ready', 'real', 'real1', 'realise', 'realised', 'realising', 'reality', 'realize', 'realized', 'realizes', 'really', 'realy', 'reapply', 'rearrange', 'reason', 'reasonable', 'reasons', 'reassurance', 'reassuring', 'rebel', 'reboot', 'rebooting', 'rebtel', 'rec', 'recd', 'receipt', 'receipts', 'receive', 'receivea', 'received', 'receiving', 'recent', 'recently', 'reception', 'recession', 'recharge', 'recharged', 'recieve', 'reckon', 'recognise', 'recognises', 'record', 'recorded', 'recorder', 'records', 'recount', 'recovery', 'recpt', 'recreation', 'recycling', 'red', 'redeemable', 'redeemed', 'reduce', 'ree', 'ref', 'reference', 'references', 'referin', 'reffering', 'refilled', 'reflection', 'reflex', 'reformat', 'refreshed', 'refund', 'refunded', 'refused', 'reg', 'regalportfolio', 'regard', 'regarding', 'regards', 'register', 'registered', 'registration', 'regret', 'regretted', 'regular', 'rejected', 'related', 'relation', 'relationship', 'relatives', 'relax', 'relaxing', 'released', 'reliant', 'relieved', 'religiously', 'relocate', 'reltnship', 'rem', 'remain', 'remains', 'remb', 'remember', 'remembered', 'rememberi', 'remembr', 'remembrs', 'remind', 'reminded', 'reminder', 'reminding', 'reminds', 'remixed', 'removal', 'remove', 'removed', 'rencontre', 'renewal', 'renewed', 'renewing', 'rent', 'rental', 'renting', 'rentl', 'rents', 'repair', 'repairs', 'repeat', 'repeating', 'repent', 'replace', 'replacement', 'replacing', 'replied', 'replies', 'reply', 'replying', 'replys150', 'report', 'reppurcussions', 'representative', 'republic', 'request', 'requests', 'require', 'required', 'requirements', 'requires', 'research', 'resend', 'resent', 'reservations', 'reserve', 'reserved', 'reserves', 'reset', 'residency', 'resizing', 'reslove', 'resolution', 'resolved', 'resort', 'respect', 'respectful', 'responce', 'respond', 'responding', 'response', 'responsibilities', 'responsibility', 'responsible', 'rest', 'restaurant', 'restock', 'restocked', 'restrict', 'restrictions', 'resubbing', 'resubmit', 'result', 'results', 'resume', 'resuming', 'retard', 'retired', 'retrieve', 'return', 'returned', 'returning', 'returns', 'reunion', 'reveal', 'revealed', 'revealing', 'reverse', 'review', 'revision', 'reward', 'rewarding', 'rg21', 'rgds', 'rgent', 'rhode', 'rhythm', 'rice', 'rich', 'riddance', 'ridden', 'ride', 'right', 'rightio', 'rightly', 'rights', 'riley', 'rimac', 'ring', 'ringing', 'rings', 'ringtone', 'ringtoneking', 'ringtones', 'ringtoneåá', 'rinu', 'rip', 'ripped', 'risk', 'risks', 'rite', 'ritten', 'river', 'road', 'roads', 'roast', 'rob', 'robinson', 'robs', 'rock', 'rocking', 'rocks', 'rodds1', 'rodger', 'rofl', 'roger', 'role', 'roles', 'rolled', 'roller', 'romantic', 'romcapspam', 'ron', 'room', 'roomate', 'roommate', 'roommates', 'rooms', 'ros', 'rose', 'roses', 'rough', 'round', 'rounder', 'rounds', 'route', 'row', 'rowdy', 'rows', 'royal', 'rp176781', 'rpl', 'rply', 'rr', 'rs', 'rstm', 'rt', 'rtf', 'rtm', 'rto', 'ru', 'rub', 'rubber', 'rude', 'rudi', 'rugby', 'ruin', 'ruining', 'rule', 'rules', 'rum', 'rumbling', 'rummer', 'rumour', 'run', 'running', 'runs', 'rupaul', 'rush', 'rushing', 'ruthful', 'rv', 'rvx', 'rwm', 'ryan', 'ryder', 's3xy', 's89', 'sabarish', 'sac', 'sachin', 'sack', 'sacked', 'sacrifice', 'sad', 'sae', 'saeed', 'safe', 'safely', 'safety', 'sagamu', 'saibaba', 'said', 'sake', 'salad', 'salam', 'salary', 'sale', 'sales', 'salesman', 'salmon', 'salon', 'salt', 'sam', 'samachara', 'samantha', 'sambar', 'samus', 'sandiago', 'sane', 'sang', 'sankatmochan', 'sankranti', 'santa', 'santacalling', 'sao', 'sapna', 'sar', 'sara', 'sarasota', 'sarcasm', 'sarcastic', 'saristar', 'sariyag', 'sary', 'sashimi', 'sat', 'satanic', 'sathy', 'sathya', 'satisfied', 'satisfy', 'satsgettin', 'saturday', 'saucy', 'savamob', 'save', 'saved', 'saves', 'savings', 'saw', 'say', 'sayin', 'saying', 'says', 'sayy', 'sc', 'scallies', 'scammers', 'scarcasim', 'scared', 'scary', 'scenario', 'scenery', 'sch', 'schedule', 'school', 'schools', 'science', 'scold', 'scorable', 'score', 'scores', 'scoring', 'scotch', 'scotland', 'scotsman', 'scouse', 'scraped', 'scrappy', 'scratches', 'scratching', 'scream', 'screamed', 'screaming', 'screen', 'screwd', 'scrounge', 'scrumptious', 'sculpture', 'sd', 'sday', 'sdryb8i', 'se', 'sea', 'search', 'searching', 'season', 'seat', 'sec', 'second', 'secondary', 'seconds', 'secret', 'secretary', 'secretly', 'secrets', 'secs', 'section', 'sections', 'secure', 'secured', 'sed', 'seeds', 'seeing', 'seekers', 'seeking', 'seen', 'sef', 'seh', 'sehwag', 'seing', 'select', 'selected', 'selection', 'self', 'selfindependence', 'selfish', 'selflessness', 'sell', 'selling', 'sells', 'sem', 'semester', 'semi', 'semiobscure', 'sen', 'send', 'sender', 'sending', 'sends', 'senor', 'senrd', 'sense', 'senses', 'sensible', 'sensitive', 'sent', 'sentence', 'senthil', 'sentiment', 'seperated', 'sept', 'september', 'serena', 'series', 'seriously', 'served', 'server', 'service', 'services', 'serving', 'servs', 'set', 'setting', 'settings', 'settle', 'settled', 'settling', 'seven', 'seventeen', 'sex', 'sexiest', 'sextextuk', 'sexual', 'sexy', 'sexychat', 'sez', 'sf', 'sg', 'sh', 'sha', 'shade', 'shadow', 'shag', 'shagged', 'shah', 'shahjahan', 'shakara', 'shake', 'shakespeare', 'shaking', 'shall', 'shame', 'shampain', 'shangela', 'shanghai', 'shanil', 'shant', 'shaping', 'share', 'shared', 'sharing', 'shattered', 'shaved', 'shb', 'shd', 'sheet', 'sheets', 'sheffield', 'shelf', 'shell', 'shelves', 'sherawat', 'shes', 'shesil', 'shhhhh', 'shifad', 'shijas', 'shijutta', 'shinco', 'shindig', 'shining', 'shiny', 'ship', 'shipped', 'shipping', 'shirt', 'shirts', 'shit', 'shite', 'shitin', 'shitinnit', 'shitload', 'shitstorm', 'shivratri', 'shld', 'shldxxxx', 'shock', 'shocking', 'shoes', 'shola', 'shoot', 'shop', 'shoppin', 'shopping', 'shoranur', 'shore', 'short', 'shortage', 'shortbreaks', 'shortcode', 'shorter', 'shortly', 'shorts', 'shot', 'shoul', 'shoulders', 'shouldn', 'shouted', 'shouting', 'shove', 'shoving', 'showed', 'shower', 'showered', 'showers', 'showing', 'showr', 'showrooms', 'shows', 'shracomorsglsuplt', 'shrek', 'shrink', 'shrub', 'shsex', 'shu', 'shud', 'shuhui', 'shun', 'shut', 'shy', 'si', 'sian', 'sib', 'sic', 'sick', 'sickness', 'sigh', 'sighs', 'sight', 'sign', 'signal', 'significance', 'significant', 'signin', 'signing', 'siguviri', 'silence', 'silent', 'silently', 'silly', 'silver', 'sim', 'simonwatson5120', 'simple', 'simpler', 'simply', 'simpsons', 'simulate', 'sinco', 'sindu', 'sing', 'singapore', 'singing', 'single', 'singles', 'sink', 'sip', 'sipix', 'sips', 'sir', 'sirji', 'sis', 'sister', 'sisters', 'sit', 'site', 'sitll', 'sitter', 'sittin', 'sitting', 'situation', 'situations', 'siva', 'size', 'sized', 'sk3', 'sk38xh', 'skateboarding', 'skilgme', 'skillgame', 'skills', 'skinny', 'skins', 'skint', 'skip', 'skirt', 'sky', 'skye', 'skype', 'skyped', 'skyving', 'slaaaaave', 'slacking', 'slap', 'slave', 'sleep', 'sleepin', 'sleeping', 'sleepingwith', 'sleeps', 'sleepwell', 'sleepy', 'slept', 'slice', 'slices', 'slide', 'sliding', 'slightly', 'slip', 'slippers', 'slippery', 'slo', 'slob', 'slots', 'slovely', 'slow', 'slower', 'slowing', 'slowly', 'slp', 'slurp', 'smacks', 'small', 'smaller', 'smart', 'smartcall', 'smarter', 'smash', 'smashed', 'smear', 'smell', 'smells', 'smeone', 'smidgin', 'smile', 'smiled', 'smiles', 'smiley', 'smiling', 'smith', 'smoke', 'smoked', 'smokes', 'smokin', 'smoking', 'smoothly', 'sms', 'smsco', 'smsing', 'smsrewards', 'smsservices', 'smth', 'sn', 'snake', 'snap', 'snappy', 'snatch', 'snd', 'sneham', 'snickering', 'snogs', 'snoring', 'snot', 'snow', 'snowball', 'snowboarding', 'snowman', 'snuggles', 'soc', 'sochte', 'social', 'sofa', 'soft', 'software', 'soil', 'soiree', 'sol', 'soladha', 'sold', 'solihull', 'solve', 'solved', 'some1', 'somebody', 'someday', 'someonone', 'someplace', 'somerset', 'sometext', 'somethin', 'sometme', 'somewhat', 'somewheresomeone', 'somewhr', 'somone', 'somtimes', 'sonathaya', 'sonetimes', 'song', 'songs', 'sony', 'sonyericsson', 'soo', 'soon', 'sooner', 'soonlots', 'sooo', 'soooo', 'sooooo', 'sophas', 'sore', 'sorrow', 'sorrows', 'sorry', 'sort', 'sorta', 'sorted', 'sorting', 'sorts', 'sory', 'soryda', 'sos', 'soul', 'sound', 'sounding', 'sounds', 'soundtrack', 'soundåõs', 'soup', 'source', 'sources', 'south', 'southern', 'souveniers', 'soz', 'sozi', 'sp', 'space', 'spacebucks', 'spaces', 'spageddies', 'spain', 'spam', 'spanish', 'spare', 'spares', 'spark', 'sparkling', 'spatula', 'speak', 'speaking', 'special', 'speciale', 'specialisation', 'specialise', 'specially', 'specific', 'specify', 'specs', 'speechless', 'speed', 'speedchat', 'speeding', 'speling', 'spell', 'spelled', 'spelling', 'spend', 'spending', 'spent', 'sphosting', 'spice', 'spider', 'spiffing', 'spile', 'spin', 'spinout', 'spiral', 'spirit', 'spiritual', 'spjanuary', 'spk', 'spl', 'splash', 'splashmobile', 'splat', 'splendid', 'split', 'splleing', 'spoil', 'spoiled', 'spoilt', 'spoke', 'spoken', 'sponsors', 'spontaneously', 'spook', 'spoon', 'spoons', 'sporadically', 'sport', 'sports', 'sportsx', 'spose', 'spot', 'spotty', 'spouse', 'sppok', 'spreadsheet', 'spree', 'spring', 'springs', 'sprint', 'sptv', 'spun', 'spys', 'sq825', 'squatting', 'squeeeeeze', 'squeezed', 'squid', 'squishy', 'srs', 'srsly', 'srt', 'sry', 'st', 'stability', 'stable', 'stadium', 'staff', 'stage', 'stagwood', 'stairs', 'stalk', 'stalking', 'stamped', 'stamps', 'stand', 'standard', 'standing', 'stands', 'stapati', 'star', 'starer', 'staring', 'starring', 'stars', 'starshine', 'start', 'started', 'starting', 'starts', 'starve', 'starving', 'starwars3', 'stash', 'stated', 'statement', 'statements', 'station', 'status', 'stay', 'stayed', 'stayin', 'staying', 'stays', 'std', 'stdtxtrate', 'steak', 'steal', 'stealing', 'steam', 'steamboat', 'steed', 'steering', 'step', 'steps', 'stereo', 'stereophonics', 'sterling', 'sterm', 'steve', 'stewartsize', 'steyn', 'sth', 'stick', 'sticky', 'stifled', 'stil', 'stink', 'stitch', 'stock', 'stocked', 'stockport', 'stolen', 'stomach', 'stomps', 'stone', 'stoners', 'stones', 'stool', 'stop', 'stop2', 'stop2stop', 'stopbcm', 'stopcost', 'stopcs', 'stopped', 'stops', 'stopsms', 'stoptxtstopå', 'store', 'stores', 'stories', 'storming', 'story', 'str', 'str8', 'straight', 'strain', 'strange', 'stranger', 'stream', 'street', 'stress', 'stressed', 'stressful', 'stressfull', 'stretch', 'strewn', 'strict', 'strike', 'strings', 'strip', 'stripes', 'strips', 'strokes', 'strong', 'strongly', 'strt', 'strtd', 'struggling', 'sts', 'stu', 'stubborn', 'stuck', 'studdying', 'student', 'studentfinancial', 'students', 'studies', 'studio', 'study', 'studying', 'studyn', 'stuff', 'stuff42moro', 'stuffed', 'stuffing', 'stuffs', 'stunning', 'stupid', 'style', 'styles', 'styling', 'stylish', 'stylist', 'sub', 'subject', 'subletting', 'submitted', 'submitting', 'subpoly', 'subs', 'subs16', 'subscribe', 'subscribe6gbp', 'subscribed', 'subscriber', 'subscribers', 'subscription', 'subscriptions', 'subscriptn3gbp', 'subscrition', 'subsequent', 'subtoitles', 'success', 'successful', 'successfully', 'sucker', 'suckers', 'sucks', 'sudden', 'suddenly', 'sudn', 'sue', 'suffer', 'suffering', 'suffers', 'sufficient', 'sugababes', 'suganya', 'sugar', 'sugardad', 'suggest', 'suggestion', 'suggestions', 'suite', 'suite342', 'suitemates', 'suits', 'sullivan', 'sum', 'sum1', 'suman', 'sumfing', 'summer', 'summers', 'summon', 'sumthin', 'sun', 'sun0819', 'sunday', 'sundayish', 'sunlight', 'sunny', 'sunoco', 'sunroof', 'sunscreen', 'sunshine', 'suntec', 'sup', 'super', 'superb', 'superior', 'supervisor', 'suply', 'supose', 'suppliers', 'supplies', 'supply', 'support', 'supports', 'suppose', 'supposed', 'supreme', 'suprman', 'sura', 'sure', 'surely', 'surf', 'surfing', 'surgical', 'surly', 'surname', 'surprise', 'surprised', 'surrender', 'surrounded', 'survey', 'surya', 'sutra', 'sux', 'suzy', 'svc', 'sw7', 'sw73ss', 'swalpa', 'swan', 'swann', 'swap', 'swashbuckling', 'swat', 'swatch', 'sway', 'swayze', 'swear', 'sweater', 'sweatter', 'sweet', 'sweetest', 'sweetheart', 'sweetie', 'sweets', 'swell', 'swhrt', 'swimming', 'swimsuit', 'swing', 'swiss', 'switch', 'swollen', 'swoop', 'swt', 'swtheart', 'syd', 'syllabus', 'symbol', 'sympathetic', 'symptoms', 'synced', 'syria', 'syrup', 'systems', 't4get2text', 't91', 'ta', 'table', 'tablet', 'tablets', 'tackle', 'tacos', 'tactful', 'tactless', 'tag', 'tagged', 'tahan', 'tai', 'tait', 'taj', 'taka', 'takecare', 'taken', 'takes', 'takin', 'taking', 'talent', 'talents', 'talk', 'talkbut', 'talked', 'talkin', 'talking', 'talks', 'tall', 'tallahassee', 'tallent', 'tamilnadu', 'tampa', 'tank', 'tantrum', 'tap', 'tape', 'tariffs', 'tarot', 'tarpon', 'taste', 'tasts', 'tat', 'tata', 'tats', 'tattoos', 'tau', 'taught', 'taunton', 'taxes', 'taxi', 'taxless', 'taxt', 'taylor', 'tayseer', 'tb', 'tbs', 'tc', 'tcr', 'tcs', 'tddnewsletter', 'tea', 'teach', 'teacher', 'teachers', 'teaches', 'teaching', 'team', 'teams', 'tear', 'tears', 'tease', 'teasing', 'tech', 'technical', 'technologies', 'tee', 'teenager', 'teeth', 'teju', 'tel', 'telediscount', 'telephone', 'telephonic', 'teletext', 'tell', 'telling', 'tellmiss', 'tells', 'telly', 'telphone', 'telugu', 'temales', 'temp', 'temper', 'temple', 'tenants', 'tendencies', 'tenerife', 'tensed', 'tension', 'teresa', 'term', 'terminated', 'terms', 'termsapply', 'ternal', 'terrible', 'terrific', 'terror', 'terrorist', 'terry', 'tescos', 'tessy', 'test', 'testing', 'tests', 'tex', 'texas', 'texd', 'text', 'text82228', 'textand', 'textbook', 'textbuddy', 'textcomp', 'texted', 'textin', 'texting', 'textoperator', 'textpod', 'texts', 'tgxxrz', 'th', 'thandiyachu', 'thangam', 'thank', 'thanks', 'thanks2', 'thanksgiving', 'thanku', 'thankyou', 'thanx', 'thanx4', 'thasa', 'that2worzels', 'thatmum', 'thats', 'thatåõs', 'thatåõscool', 'the4th', 'theacusations', 'theater', 'theatre', 'thedailydraw', 'theirs', 'thekingshead', 'themed', 'themes', 'themob', 'thenampet', 'theoretically', 'theory', 'theplace', 'theres', 'thesedays', 'thesis', 'thesmszone', 'thet', 'thew', 'theyre', 'thgt', 'thia', 'thing', 'things', 'think', 'thinked', 'thinkin', 'thinking', 'thinks', 'thinkthis', 'thinl', 'thirtyeight', 'thirunelvali', 'thk', 'thkin', 'thm', 'thnk', 'thnq', 'thnx', 'tho', 'thot', 'thou', 'thought', 'thoughts', 'thousands', 'thout', 'thread', 'threats', 'threw', 'thriller', 'throat', 'throw', 'throwin', 'throwing', 'thrown', 'throws', 'ths', 'tht', 'thts', 'thuglyfe', 'thurs', 'thursday', 'thx', 'thy', 'tick', 'ticket', 'tickets', 'tie', 'tiempo', 'tiger', 'tight', 'tightly', 'tigress', 'tihs', 'tiime', 'til', 'till', 'tim', 'time', 'times', 'timi', 'timin', 'timing', 'timings', 'tip', 'tips', 'tired', 'tiring', 'tirunelvai', 'tirunelvali', 'tirupur', 'tis', 'tissco', 'title', 'titles', 'tiwary', 'tix', 'tiz', 'tke', 'tkls', 'tkts', 'tlk', 'tlp', 'tm', 'tming', 'tmorow', 'tmorrow', 'tmr', 'tmrw', 'tms', 'tmw', 'tnc', 'tncs', 'toa', 'toaday', 'tobacco', 'tobed', 'tocall', 'toclaim', 'today', 'todays', 'todo', 'tog', 'tohar', 'toilet', 'tok', 'token', 'toking', 'tol', 'told', 'toledo', 'tolerance', 'toll', 'tom', 'tomarrow', 'tomeandsaid', 'tomo', 'tomorro', 'tomorrow', 'tomorw', 'tone', 'tones', 'tones2u', 'tones2you', 'tonexs', 'tonght', 'tongued', 'tonight', 'tonights', 'tonite', 'tons', 'took', 'tookplace', 'tool', 'tooo', 'toot', 'tooth', 'toothpaste', 'tootsie', 'topic', 'toplay', 'topped', 'toppoly', 'tops', 'tor', 'torch', 'torrents', 'tortilla', 'torture', 'tosend', 'toshiba', 'toss', 'tot', 'total', 'totally', 'totes', 'touch', 'touched', 'tough', 'toughest', 'tour', 'town', 'toxic', 'toyota', 'tp', 'track', 'trackmarque', 'trade', 'traditions', 'traffic', 'train', 'trained', 'training', 'trainners', 'trains', 'tram', 'tranquility', 'transaction', 'transcribing', 'transfer', 'transfered', 'transferred', 'transfr', 'transfred', 'transport', 'trash', 'trauma', 'trav', 'travel', 'traveling', 'travelled', 'travelling', 'treacle', 'treadmill', 'treasure', 'treat', 'treated', 'treatin', 'treats', 'trebles', 'tree', 'trek', 'trends', 'trial', 'tried', 'trip', 'triple', 'trips', 'trishul', 'triumphed', 'trivia', 'tron', 'trouble', 'troubleshooting', 'trouser', 'truble', 'truck', 'true', 'true18', 'trueåác', 'truffles', 'truly', 'truro', 'trust', 'trusting', 'truth', 'try', 'tryin', 'trying', 'ts', 'tsandcs', 'tscs', 'tscs08714740323', 'tscs087147403231winawk', 'tsunami', 'tsunamis', 'tt', 'ttyl', 'tue', 'tues', 'tuesday', 'tui', 'tuition', 'tul', 'tulip', 'tunde', 'tune', 'tunji', 'turkeys', 'turn', 'turned', 'turning', 'turns', 'tuth', 'tv', 'twat', 'twice', 'twiggs', 'twilight', 'twinks', 'twins', 'twittering', 'txt', 'txt250', 'txt43', 'txt82228', 'txtauction', 'txtin', 'txting', 'txtno', 'txts', 'txtstar', 'txtstop', 'txttowin', 'txtx', 'tyler', 'type', 'types', 'typical', 'tyrone', 'u4', 'uawake', 'ubandu', 'ubi', 'ud', 'ugadi', 'ugh', 'ugo', 'uh', 'uhhhhrmm', 'uin', 'ujhhhhhhh', 'uk', 'ukp', 'uks', 'ultimate', 'ultimately', 'ultimatum', 'um', 'umma', 'ummifying', 'ummma', 'ummmmmaah', 'unable', 'unbelievable', 'unbreakable', 'unclaimed', 'uncle', 'uncles', 'uncomfortable', 'unconditionally', 'unconscious', 'unconsciously', 'unconvinced', 'uncountable', 'uncut', 'underdtand', 'understand', 'understanding', 'understood', 'underwear', 'undrstnd', 'undrstndng', 'unemployed', 'uneventful', 'unfolds', 'unfortunately', 'unfortuntly', 'unhappiness', 'unhappy', 'uni', 'unicef', 'uniform', 'unintentional', 'unintentionally', 'unique', 'united', 'units', 'univ', 'university', 'unjalur', 'unkempt', 'unknown', 'unless', 'unlike', 'unlimited', 'unmits', 'unnecessarily', 'unni', 'unrecognized', 'unredeemed', 'unsecured', 'unsold', 'unsub', 'unsubscribe', 'unsubscribed', 'untamed', 'unusual', 'up4', 'upcharge', 'upd8', 'updat', 'update', 'update_now', 'upgrade', 'upgrading', 'upgrdcentre', 'upload', 'uploaded', 'upping', 'ups', 'upset', 'upstairs', 'upto', 'uptown', 'ur', 'urawinner', 'ure', 'urfeeling', 'urgent', 'urgently', 'urgh', 'urgnt', 'urgoin', 'urination', 'url', 'urmom', 'urn', 'urself', 'usa', 'usb', 'usc', 'use', 'used', 'useful', 'useless', 'user', 'uses', 'usf', 'usher', 'using', 'usmle', 'usps', 'usual', 'usually', 'uterus', 'utter', 'uttered', 'uup', 'uv', 'uve', 'uworld', 'va', 'vaazhthukkal', 'vague', 'vaguely', 'vale', 'valentine', 'valentines', 'valid', 'valid12hrs', 'valuable', 'value', 'valued', 'values', 'valuing', 'varaya', 'vargu', 'various', 'varma', 'varunnathu', 'vary', 'vasai', 'vat', 'vatian', 'vava', 'vco', 'vday', 've', 'vegas', 'vegetables', 'veggie', 'vehicle', 'velachery', 'velly', 'velusamy', 'venaam', 'venugopal', 'verified', 'verify', 'verifying', 'version', 'versus', 'vettam', 'vewy', 'vibrant', 'vibrate', 'vibrator', 'vic', 'victoria', 'victors', 'vid', 'video', 'videochat', 'videophones', 'videos', 'videosound', 'videosounds', 'view', 'vijay', 'vijaykanth', 'vikky', 'vilikkam', 'vill', 'villa', 'village', 'vinobanagar', 'violated', 'violence', 'violet', 'vip', 'vipclub4u', 'virgil', 'virgin', 'virgins', 'virtual', 'visa', 'visionsms', 'visit', 'visiting', 'visitor', 'visitors', 'vital', 'vitamin', 'viva', 'vivek', 'vl', 'voda', 'vodafone', 'vodka', 'voice', 'voicemail', 'voila', 'volcanoes', 'vomit', 'vomitin', 'vomiting', 'vote', 'voted', 'vouch4me', 'voucher', 'vouchers', 'vpod', 'vry', 'vs', 'vth', 'vu', 'w1', 'w111wx', 'w14rg', 'w1a', 'w1j', 'w1j6hl', 'w1jhl', 'w1t1jy', 'w4', 'w45wq', 'w8in', 'wa', 'wa14', 'waaaat', 'wad', 'wadebridge', 'wah', 'wahala', 'wahay', 'waheed', 'waheeda', 'wahleykkum', 'waht', 'wait', 'waited', 'waitin', 'waiting', 'wake', 'waking', 'wales', 'waliking', 'walk', 'walkabout', 'walked', 'walkin', 'walking', 'walks', 'wall', 'wallet', 'wallpaper', 'walls', 'walmart', 'walsall', 'wamma', 'wan', 'wan2', 'wana', 'wanna', 'wannatell', 'want', 'want2come', 'wanted', 'wanting', 'wants', 'wap', 'waqt', 'warm', 'warming', 'warned', 'warner', 'warning', 'warranty', 'warwick', 'washob', 'wasn', 'wasnt', 'wasnåõt', 'waste', 'wasted', 'wasting', 'wat', 'watch', 'watched', 'watches', 'watchin', 'watching', 'watchng', 'water', 'watever', 'watevr', 'wating', 'watr', 'wats', 'watts', 'wave', 'wavering', 'waves', 'way', 'way2sms', 'waz', 'wc1n', 'wc1n3xx', 'weak', 'weakness', 'weaknesses', 'weapon', 'wear', 'wearing', 'weaseling', 'weasels', 'weather', 'web', 'web2mobile', 'webadres', 'webeburnin', 'webpage', 'website', 'wed', 'weddin', 'wedding', 'weddingfriend', 'wednesday', 'weds', 'wee', 'weed', 'week', 'weekdays', 'weekend', 'weekends', 'weekly', 'weeks', 'weigh', 'weighed', 'weight', 'weightloss', 'weird', 'weirdest', 'weirdo', 'weirdy', 'weiyi', 'welcome', 'welcomes', 'wellda', 'welp', 'wen', 'wendy', 'wenever', 'went', 'wenwecan', 'wer', 'werebored', 'weren', 'werethe', 'wesley', 'wesleys', 'west', 'western', 'westlife', 'westonzoyland', 'westshore', 'wet', 'wetherspoons', 'wewa', 'weåõve', 'whassup', 'whats', 'whatsup', 'wheat', 'wheel', 'wheellock', 'whenevr', 'whens', 'whereare', 'wherevr', 'wherre', 'whilltake', 'whispers', 'white', 'whn', 'whore', 'whos', 'whr', 'wi', 'wicked', 'wicket', 'wicklow', 'wid', 'widelive', 'wif', 'wife', 'wifes', 'wifi', 'wihtuot', 'wikipedia', 'wil', 'wild', 'wildest', 'wildlife', 'willing', 'willpower', 'win', 'win150ppmx3age16', 'wind', 'window', 'windows', 'winds', 'windy', 'wine', 'wined', 'wings', 'wining', 'winner', 'winnersclub', 'winning', 'wins', 'winterstone', 'wipro', 'wire3', 'wisdom', 'wise', 'wish', 'wisheds', 'wishes', 'wishin', 'wishing', 'wishlist', 'wiskey', 'wit', 'withdraw', 'wither', 'witin', 'witot', 'witout', 'wiv', 'wizzle', 'wk', 'wkend', 'wkent', 'wkg', 'wkly', 'wknd', 'wks', 'wlcome', 'wld', 'wml', 'wn', 'wnevr', 'wnt', 'wo', 'woah', 'wocay', 'woke', 'woken', 'woman', 'womdarfull', 'women', 'won', 'wondar', 'wondarfull', 'wonder', 'wonderful', 'wondering', 'wonders', 'wont', 'woo', 'woodland', 'woods', 'woohoo', 'woot', 'woould', 'woozles', 'worc', 'word', 'words', 'work', 'workage', 'workand', 'workin', 'working', 'workout', 'works', 'world', 'worlds', 'worms', 'worried', 'worries', 'worry', 'worrying', 'worse', 'worst', 'worth', 'worthless', 'wot', 'wotu', 'wotz', 'woul', 'woulda', 'wouldn', 'wounds', 'wow', 'wrc', 'wrecked', 'wrench', 'wrenching', 'wright', 'write', 'writhing', 'wrk', 'wrkin', 'wrking', 'wrks', 'wrld', 'wrnog', 'wrong', 'wrongly', 'wrote', 'ws', 'wt', 'wtc', 'wtf', 'wth', 'wthout', 'wtlp', 'wud', 'wudn', 'wuld', 'wuldnt', 'wun', 'www', 'wylie', 'x2', 'x29', 'x49', 'xafter', 'xam', 'xavier', 'xchat', 'xclusive', 'xin', 'xmas', 'xoxo', 'xt', 'xuhui', 'xx', 'xxsp', 'xxuk', 'xxx', 'xxxmobilemovieclub', 'xxxx', 'xxxxx', 'xxxxxx', 'xxxxxxx', 'xxxxxxxx', 'xxxxxxxxxxxxxx', 'xy', 'y87', 'ya', 'yah', 'yahoo', 'yalrigu', 'yalru', 'yam', 'yan', 'yar', 'yarasu', 'yards', 'yavnt', 'yaxx', 'yaxxx', 'yay', 'yck', 'yeah', 'year', 'years', 'yeesh', 'yeh', 'yelling', 'yellow', 'yelow', 'yen', 'yeovil', 'yep', 'yer', 'yes', 'yest', 'yesterday', 'yetty', 'yetunde', 'yhl', 'yi', 'yifeng', 'yijue', 'ym', 'ymca', 'yo', 'yoga', 'yogasana', 'yor', 'yorge', 'youdoing', 'youi', 'young', 'younger', 'youphone', 'youre', 'yourinclusive', 'yourjob', 'youuuuu', 'youwanna', 'youåõre', 'yoville', 'yowifes', 'yoyyooo', 'yr', 'yrs', 'ystrday', 'ything', 'yummmm', 'yummy', 'yun', 'yunny', 'yuo', 'yuou', 'yup', 'yupz', 'zac', 'zaher', 'zealand', 'zebra', 'zed', 'zeros', 'zhong', 'zindgi', 'zoe', 'zogtorius', 'zoom', 'zouk', 'zyada', 'åè10', 'åð', 'åòharry', 'åòit', 'åômorrow', 'åôrents', 'ì_', 'ì¼1', 'ìä', 'ìï', 'ó_', 'û_', 'û_thanks', 'ûªm', 'ûªt', 'ûªve', 'ûï', 'ûïharry', 'ûò', 'ûówell']\n",
      "[[0 0 0 ... 0 0 0]\n",
      " [0 0 0 ... 0 0 0]\n",
      " [0 0 0 ... 0 0 0]\n",
      " ...\n",
      " [0 0 0 ... 0 0 0]\n",
      " [0 0 0 ... 0 0 0]\n",
      " [0 0 0 ... 0 0 0]]\n"
     ]
    }
   ],
   "source": [
    "vectorizer = CountVectorizer(stop_words = 'english')\n",
    "X = vectorizer.fit_transform(df_sms.v2) \n",
    "print(vectorizer.get_feature_names()) \n",
    "print(X.toarray())"
   ]
  },
  {
   "cell_type": "code",
   "execution_count": 145,
   "metadata": {},
   "outputs": [
    {
     "data": {
      "text/plain": [
       "(5572, 8404)"
      ]
     },
     "execution_count": 145,
     "metadata": {},
     "output_type": "execute_result"
    }
   ],
   "source": [
    "np.shape(X)"
   ]
  },
  {
   "cell_type": "code",
   "execution_count": 238,
   "metadata": {},
   "outputs": [
    {
     "data": {
      "text/html": [
       "<div>\n",
       "<style scoped>\n",
       "    .dataframe tbody tr th:only-of-type {\n",
       "        vertical-align: middle;\n",
       "    }\n",
       "\n",
       "    .dataframe tbody tr th {\n",
       "        vertical-align: top;\n",
       "    }\n",
       "\n",
       "    .dataframe thead th {\n",
       "        text-align: right;\n",
       "    }\n",
       "</style>\n",
       "<table border=\"1\" class=\"dataframe\">\n",
       "  <thead>\n",
       "    <tr style=\"text-align: right;\">\n",
       "      <th></th>\n",
       "      <th>v1</th>\n",
       "      <th>v2</th>\n",
       "      <th>Unnamed: 3</th>\n",
       "      <th>Unnamed: 4</th>\n",
       "    </tr>\n",
       "  </thead>\n",
       "  <tbody>\n",
       "    <tr>\n",
       "      <td>0</td>\n",
       "      <td>ham</td>\n",
       "      <td>Go until jurong point, crazy.. Available only ...</td>\n",
       "      <td>NaN</td>\n",
       "      <td>NaN</td>\n",
       "    </tr>\n",
       "    <tr>\n",
       "      <td>1</td>\n",
       "      <td>ham</td>\n",
       "      <td>Ok lar... Joking wif u oni...</td>\n",
       "      <td>NaN</td>\n",
       "      <td>NaN</td>\n",
       "    </tr>\n",
       "    <tr>\n",
       "      <td>2</td>\n",
       "      <td>spam</td>\n",
       "      <td>Free entry in 2 a wkly comp to win FA Cup fina...</td>\n",
       "      <td>NaN</td>\n",
       "      <td>NaN</td>\n",
       "    </tr>\n",
       "    <tr>\n",
       "      <td>3</td>\n",
       "      <td>ham</td>\n",
       "      <td>U dun say so early hor... U c already then say...</td>\n",
       "      <td>NaN</td>\n",
       "      <td>NaN</td>\n",
       "    </tr>\n",
       "    <tr>\n",
       "      <td>4</td>\n",
       "      <td>ham</td>\n",
       "      <td>Nah I don't think he goes to usf, he lives aro...</td>\n",
       "      <td>NaN</td>\n",
       "      <td>NaN</td>\n",
       "    </tr>\n",
       "    <tr>\n",
       "      <td>5</td>\n",
       "      <td>spam</td>\n",
       "      <td>FreeMsg Hey there darling it's been 3 week's n...</td>\n",
       "      <td>NaN</td>\n",
       "      <td>NaN</td>\n",
       "    </tr>\n",
       "    <tr>\n",
       "      <td>6</td>\n",
       "      <td>ham</td>\n",
       "      <td>Even my brother is not like to speak with me. ...</td>\n",
       "      <td>NaN</td>\n",
       "      <td>NaN</td>\n",
       "    </tr>\n",
       "    <tr>\n",
       "      <td>7</td>\n",
       "      <td>ham</td>\n",
       "      <td>As per your request 'Melle Melle (Oru Minnamin...</td>\n",
       "      <td>NaN</td>\n",
       "      <td>NaN</td>\n",
       "    </tr>\n",
       "    <tr>\n",
       "      <td>8</td>\n",
       "      <td>spam</td>\n",
       "      <td>WINNER!! As a valued network customer you have...</td>\n",
       "      <td>NaN</td>\n",
       "      <td>NaN</td>\n",
       "    </tr>\n",
       "    <tr>\n",
       "      <td>9</td>\n",
       "      <td>spam</td>\n",
       "      <td>Had your mobile 11 months or more? U R entitle...</td>\n",
       "      <td>NaN</td>\n",
       "      <td>NaN</td>\n",
       "    </tr>\n",
       "  </tbody>\n",
       "</table>\n",
       "</div>"
      ],
      "text/plain": [
       "     v1                                                 v2 Unnamed: 3  \\\n",
       "0   ham  Go until jurong point, crazy.. Available only ...        NaN   \n",
       "1   ham                      Ok lar... Joking wif u oni...        NaN   \n",
       "2  spam  Free entry in 2 a wkly comp to win FA Cup fina...        NaN   \n",
       "3   ham  U dun say so early hor... U c already then say...        NaN   \n",
       "4   ham  Nah I don't think he goes to usf, he lives aro...        NaN   \n",
       "5  spam  FreeMsg Hey there darling it's been 3 week's n...        NaN   \n",
       "6   ham  Even my brother is not like to speak with me. ...        NaN   \n",
       "7   ham  As per your request 'Melle Melle (Oru Minnamin...        NaN   \n",
       "8  spam  WINNER!! As a valued network customer you have...        NaN   \n",
       "9  spam  Had your mobile 11 months or more? U R entitle...        NaN   \n",
       "\n",
       "  Unnamed: 4  \n",
       "0        NaN  \n",
       "1        NaN  \n",
       "2        NaN  \n",
       "3        NaN  \n",
       "4        NaN  \n",
       "5        NaN  \n",
       "6        NaN  \n",
       "7        NaN  \n",
       "8        NaN  \n",
       "9        NaN  "
      ]
     },
     "execution_count": 238,
     "metadata": {},
     "output_type": "execute_result"
    }
   ],
   "source": [
    "\n",
    "is_spam = df_sms.v1.map({'spam':1,'ham':0})\n",
    "df_sms.head(10)"
   ]
  },
  {
   "cell_type": "code",
   "execution_count": 267,
   "metadata": {},
   "outputs": [
    {
     "name": "stdout",
     "output_type": "stream",
     "text": [
      "(5572, 8404)\n"
     ]
    },
    {
     "data": {
      "text/plain": [
       "0       0\n",
       "1       0\n",
       "2       1\n",
       "3       0\n",
       "4       0\n",
       "       ..\n",
       "5567    1\n",
       "5568    0\n",
       "5569    0\n",
       "5570    0\n",
       "5571    0\n",
       "Name: v1, Length: 5572, dtype: int64"
      ]
     },
     "execution_count": 267,
     "metadata": {},
     "output_type": "execute_result"
    }
   ],
   "source": [
    "#1\n",
    "vec = CountVectorizer(stop_words = 'english')\n",
    "'''\n",
    "convert a collection of text documents to a matrix of token counts, sparse representation\n",
    "default number of features = vocabulary size\n",
    "'''\n",
    "#2\n",
    "X = vec.fit_transform(df_sms.v2).toarray()\n",
    "#3\n",
    "print(X.shape)\n",
    "#4\n",
    "is_spam = df_sms.v1.map({'spam':1,'ham':0})\n",
    "is_spam"
   ]
  },
  {
   "cell_type": "markdown",
   "metadata": {},
   "source": [
    " ### 6. Data splitting\n",
    " 1.  Générer les échantillons d'apprentissage (training) et de test à l'aide de `sklearn.model_selection.train_test_split` en fixant le test_size à 0.3 et random_state à 1 et stratify = y . \n",
    " \n",
    " 2. Quelle est la signification de ces trois paramètres? "
   ]
  },
  {
   "cell_type": "code",
   "execution_count": 268,
   "metadata": {},
   "outputs": [
    {
     "name": "stdout",
     "output_type": "stream",
     "text": [
      "(3900, 8404) (1672, 8404) (3900,) (1672,)\n"
     ]
    }
   ],
   "source": [
    "y = df_sms.v1\n",
    "X_train, X_test, Y_train, Y_test = train_test_split(X, y, test_size=0.3,random_state=1,stratify=y)\n",
    "'''\n",
    "test_size pourcentage de lignes testé\n",
    "random_state graine du générateur de nombre aléatoire\n",
    "stratify affecte un label au split stratifié, répartition équitable avec Y\n",
    "'''\n",
    "print(X_train.shape, X_test.shape, Y_train.shape, Y_test.shape)"
   ]
  },
  {
   "cell_type": "markdown",
   "metadata": {
    "_cell_guid": "c833cbf5-74db-44ff-90fa-b600ff0a09d7",
    "_uuid": "39dbc095f99dcec6d25a7a4561e81bb641078622"
   },
   "source": [
    " ### 7. Modélisation et Performances\n",
    " \n",
    " Nous allons à ce stade entraîner notre modèle SVM en utilisant la fonction `sklearn.svm.SVC`. Pour cela, nous ferons le paramètre de régularisation `C`.\n",
    " 1. Créer un dictionnaire `param_grid` contenant deux couples clé - valeurs : `C` contenant la liste **[10, 50, 100,200]** et `kernel` contenant la liste suivante **['rbf','sigmoid']**.\n",
    " 2. Instancier une `GridSearch` pour un modèle de SVM pour la classification avec pour paramètres : **cv=3**.\n",
    " 3. Afficher le meilleur score obtenu et les meilleurs paramètres.\n",
    " 4. Créer `pred_train` et `pred_test` qui sont respectivement les prédictions du meilleur modèle obtenu sur `X_train` et `X_test`.\n",
    " 5. Afficher les scores de votre modèle sur l'échantillon d'apprentissage et l'échantillon de test en utilisation le `classification_report`."
   ]
  },
  {
   "cell_type": "code",
   "execution_count": 269,
   "metadata": {},
   "outputs": [
    {
     "data": {
      "text/plain": [
       "{'C': [10, 50, 100, 200], 'kernel': ['rbf', 'sigmoid']}"
      ]
     },
     "execution_count": 269,
     "metadata": {},
     "output_type": "execute_result"
    }
   ],
   "source": [
    "#1\n",
    "param_grid = {'C':[10,50,100,200],'kernel':['rbf','sigmoid']}\n",
    "param_grid"
   ]
  },
  {
   "cell_type": "code",
   "execution_count": 270,
   "metadata": {
    "scrolled": true
   },
   "outputs": [
    {
     "name": "stderr",
     "output_type": "stream",
     "text": [
      "C:\\ProgramData\\Anaconda3\\lib\\site-packages\\sklearn\\svm\\base.py:193: FutureWarning: The default value of gamma will change from 'auto' to 'scale' in version 0.22 to account better for unscaled features. Set gamma explicitly to 'auto' or 'scale' to avoid this warning.\n",
      "  \"avoid this warning.\", FutureWarning)\n",
      "C:\\ProgramData\\Anaconda3\\lib\\site-packages\\sklearn\\svm\\base.py:193: FutureWarning: The default value of gamma will change from 'auto' to 'scale' in version 0.22 to account better for unscaled features. Set gamma explicitly to 'auto' or 'scale' to avoid this warning.\n",
      "  \"avoid this warning.\", FutureWarning)\n",
      "C:\\ProgramData\\Anaconda3\\lib\\site-packages\\sklearn\\svm\\base.py:193: FutureWarning: The default value of gamma will change from 'auto' to 'scale' in version 0.22 to account better for unscaled features. Set gamma explicitly to 'auto' or 'scale' to avoid this warning.\n",
      "  \"avoid this warning.\", FutureWarning)\n",
      "C:\\ProgramData\\Anaconda3\\lib\\site-packages\\sklearn\\svm\\base.py:193: FutureWarning: The default value of gamma will change from 'auto' to 'scale' in version 0.22 to account better for unscaled features. Set gamma explicitly to 'auto' or 'scale' to avoid this warning.\n",
      "  \"avoid this warning.\", FutureWarning)\n",
      "C:\\ProgramData\\Anaconda3\\lib\\site-packages\\sklearn\\svm\\base.py:193: FutureWarning: The default value of gamma will change from 'auto' to 'scale' in version 0.22 to account better for unscaled features. Set gamma explicitly to 'auto' or 'scale' to avoid this warning.\n",
      "  \"avoid this warning.\", FutureWarning)\n",
      "C:\\ProgramData\\Anaconda3\\lib\\site-packages\\sklearn\\svm\\base.py:193: FutureWarning: The default value of gamma will change from 'auto' to 'scale' in version 0.22 to account better for unscaled features. Set gamma explicitly to 'auto' or 'scale' to avoid this warning.\n",
      "  \"avoid this warning.\", FutureWarning)\n"
     ]
    },
    {
     "ename": "KeyboardInterrupt",
     "evalue": "",
     "output_type": "error",
     "traceback": [
      "\u001b[1;31m---------------------------------------------------------------------------\u001b[0m",
      "\u001b[1;31mKeyboardInterrupt\u001b[0m                         Traceback (most recent call last)",
      "\u001b[1;32m<ipython-input-270-965570ea4ff0>\u001b[0m in \u001b[0;36m<module>\u001b[1;34m\u001b[0m\n\u001b[0;32m      5\u001b[0m     \u001b[0mparam_grid\u001b[0m\u001b[1;33m,\u001b[0m\u001b[1;33m\u001b[0m\u001b[1;33m\u001b[0m\u001b[0m\n\u001b[0;32m      6\u001b[0m     cv = 3) #cv par défaut =5\n\u001b[1;32m----> 7\u001b[1;33m \u001b[0mgscv\u001b[0m\u001b[1;33m.\u001b[0m\u001b[0mfit\u001b[0m\u001b[1;33m(\u001b[0m\u001b[0mX_train\u001b[0m\u001b[1;33m,\u001b[0m\u001b[0mY_train\u001b[0m\u001b[1;33m)\u001b[0m\u001b[1;33m\u001b[0m\u001b[1;33m\u001b[0m\u001b[0m\n\u001b[0m\u001b[0;32m      8\u001b[0m \u001b[0mgscv\u001b[0m\u001b[1;33m.\u001b[0m\u001b[0mbest_params_\u001b[0m \u001b[1;31m#changer les params selon le résultat obtenu, ex réduire C\u001b[0m\u001b[1;33m\u001b[0m\u001b[1;33m\u001b[0m\u001b[0m\n",
      "\u001b[1;32mC:\\ProgramData\\Anaconda3\\lib\\site-packages\\sklearn\\model_selection\\_search.py\u001b[0m in \u001b[0;36mfit\u001b[1;34m(self, X, y, groups, **fit_params)\u001b[0m\n\u001b[0;32m    686\u001b[0m                 \u001b[1;32mreturn\u001b[0m \u001b[0mresults\u001b[0m\u001b[1;33m\u001b[0m\u001b[1;33m\u001b[0m\u001b[0m\n\u001b[0;32m    687\u001b[0m \u001b[1;33m\u001b[0m\u001b[0m\n\u001b[1;32m--> 688\u001b[1;33m             \u001b[0mself\u001b[0m\u001b[1;33m.\u001b[0m\u001b[0m_run_search\u001b[0m\u001b[1;33m(\u001b[0m\u001b[0mevaluate_candidates\u001b[0m\u001b[1;33m)\u001b[0m\u001b[1;33m\u001b[0m\u001b[1;33m\u001b[0m\u001b[0m\n\u001b[0m\u001b[0;32m    689\u001b[0m \u001b[1;33m\u001b[0m\u001b[0m\n\u001b[0;32m    690\u001b[0m         \u001b[1;31m# For multi-metric evaluation, store the best_index_, best_params_ and\u001b[0m\u001b[1;33m\u001b[0m\u001b[1;33m\u001b[0m\u001b[1;33m\u001b[0m\u001b[0m\n",
      "\u001b[1;32mC:\\ProgramData\\Anaconda3\\lib\\site-packages\\sklearn\\model_selection\\_search.py\u001b[0m in \u001b[0;36m_run_search\u001b[1;34m(self, evaluate_candidates)\u001b[0m\n\u001b[0;32m   1147\u001b[0m     \u001b[1;32mdef\u001b[0m \u001b[0m_run_search\u001b[0m\u001b[1;33m(\u001b[0m\u001b[0mself\u001b[0m\u001b[1;33m,\u001b[0m \u001b[0mevaluate_candidates\u001b[0m\u001b[1;33m)\u001b[0m\u001b[1;33m:\u001b[0m\u001b[1;33m\u001b[0m\u001b[1;33m\u001b[0m\u001b[0m\n\u001b[0;32m   1148\u001b[0m         \u001b[1;34m\"\"\"Search all candidates in param_grid\"\"\"\u001b[0m\u001b[1;33m\u001b[0m\u001b[1;33m\u001b[0m\u001b[0m\n\u001b[1;32m-> 1149\u001b[1;33m         \u001b[0mevaluate_candidates\u001b[0m\u001b[1;33m(\u001b[0m\u001b[0mParameterGrid\u001b[0m\u001b[1;33m(\u001b[0m\u001b[0mself\u001b[0m\u001b[1;33m.\u001b[0m\u001b[0mparam_grid\u001b[0m\u001b[1;33m)\u001b[0m\u001b[1;33m)\u001b[0m\u001b[1;33m\u001b[0m\u001b[1;33m\u001b[0m\u001b[0m\n\u001b[0m\u001b[0;32m   1150\u001b[0m \u001b[1;33m\u001b[0m\u001b[0m\n\u001b[0;32m   1151\u001b[0m \u001b[1;33m\u001b[0m\u001b[0m\n",
      "\u001b[1;32mC:\\ProgramData\\Anaconda3\\lib\\site-packages\\sklearn\\model_selection\\_search.py\u001b[0m in \u001b[0;36mevaluate_candidates\u001b[1;34m(candidate_params)\u001b[0m\n\u001b[0;32m    665\u001b[0m                                \u001b[1;32mfor\u001b[0m \u001b[0mparameters\u001b[0m\u001b[1;33m,\u001b[0m \u001b[1;33m(\u001b[0m\u001b[0mtrain\u001b[0m\u001b[1;33m,\u001b[0m \u001b[0mtest\u001b[0m\u001b[1;33m)\u001b[0m\u001b[1;33m\u001b[0m\u001b[1;33m\u001b[0m\u001b[0m\n\u001b[0;32m    666\u001b[0m                                in product(candidate_params,\n\u001b[1;32m--> 667\u001b[1;33m                                           cv.split(X, y, groups)))\n\u001b[0m\u001b[0;32m    668\u001b[0m \u001b[1;33m\u001b[0m\u001b[0m\n\u001b[0;32m    669\u001b[0m                 \u001b[1;32mif\u001b[0m \u001b[0mlen\u001b[0m\u001b[1;33m(\u001b[0m\u001b[0mout\u001b[0m\u001b[1;33m)\u001b[0m \u001b[1;33m<\u001b[0m \u001b[1;36m1\u001b[0m\u001b[1;33m:\u001b[0m\u001b[1;33m\u001b[0m\u001b[1;33m\u001b[0m\u001b[0m\n",
      "\u001b[1;32mC:\\ProgramData\\Anaconda3\\lib\\site-packages\\joblib\\parallel.py\u001b[0m in \u001b[0;36m__call__\u001b[1;34m(self, iterable)\u001b[0m\n\u001b[0;32m    922\u001b[0m                 \u001b[0mself\u001b[0m\u001b[1;33m.\u001b[0m\u001b[0m_iterating\u001b[0m \u001b[1;33m=\u001b[0m \u001b[0mself\u001b[0m\u001b[1;33m.\u001b[0m\u001b[0m_original_iterator\u001b[0m \u001b[1;32mis\u001b[0m \u001b[1;32mnot\u001b[0m \u001b[1;32mNone\u001b[0m\u001b[1;33m\u001b[0m\u001b[1;33m\u001b[0m\u001b[0m\n\u001b[0;32m    923\u001b[0m \u001b[1;33m\u001b[0m\u001b[0m\n\u001b[1;32m--> 924\u001b[1;33m             \u001b[1;32mwhile\u001b[0m \u001b[0mself\u001b[0m\u001b[1;33m.\u001b[0m\u001b[0mdispatch_one_batch\u001b[0m\u001b[1;33m(\u001b[0m\u001b[0miterator\u001b[0m\u001b[1;33m)\u001b[0m\u001b[1;33m:\u001b[0m\u001b[1;33m\u001b[0m\u001b[1;33m\u001b[0m\u001b[0m\n\u001b[0m\u001b[0;32m    925\u001b[0m                 \u001b[1;32mpass\u001b[0m\u001b[1;33m\u001b[0m\u001b[1;33m\u001b[0m\u001b[0m\n\u001b[0;32m    926\u001b[0m \u001b[1;33m\u001b[0m\u001b[0m\n",
      "\u001b[1;32mC:\\ProgramData\\Anaconda3\\lib\\site-packages\\joblib\\parallel.py\u001b[0m in \u001b[0;36mdispatch_one_batch\u001b[1;34m(self, iterator)\u001b[0m\n\u001b[0;32m    757\u001b[0m                 \u001b[1;32mreturn\u001b[0m \u001b[1;32mFalse\u001b[0m\u001b[1;33m\u001b[0m\u001b[1;33m\u001b[0m\u001b[0m\n\u001b[0;32m    758\u001b[0m             \u001b[1;32melse\u001b[0m\u001b[1;33m:\u001b[0m\u001b[1;33m\u001b[0m\u001b[1;33m\u001b[0m\u001b[0m\n\u001b[1;32m--> 759\u001b[1;33m                 \u001b[0mself\u001b[0m\u001b[1;33m.\u001b[0m\u001b[0m_dispatch\u001b[0m\u001b[1;33m(\u001b[0m\u001b[0mtasks\u001b[0m\u001b[1;33m)\u001b[0m\u001b[1;33m\u001b[0m\u001b[1;33m\u001b[0m\u001b[0m\n\u001b[0m\u001b[0;32m    760\u001b[0m                 \u001b[1;32mreturn\u001b[0m \u001b[1;32mTrue\u001b[0m\u001b[1;33m\u001b[0m\u001b[1;33m\u001b[0m\u001b[0m\n\u001b[0;32m    761\u001b[0m \u001b[1;33m\u001b[0m\u001b[0m\n",
      "\u001b[1;32mC:\\ProgramData\\Anaconda3\\lib\\site-packages\\joblib\\parallel.py\u001b[0m in \u001b[0;36m_dispatch\u001b[1;34m(self, batch)\u001b[0m\n\u001b[0;32m    714\u001b[0m         \u001b[1;32mwith\u001b[0m \u001b[0mself\u001b[0m\u001b[1;33m.\u001b[0m\u001b[0m_lock\u001b[0m\u001b[1;33m:\u001b[0m\u001b[1;33m\u001b[0m\u001b[1;33m\u001b[0m\u001b[0m\n\u001b[0;32m    715\u001b[0m             \u001b[0mjob_idx\u001b[0m \u001b[1;33m=\u001b[0m \u001b[0mlen\u001b[0m\u001b[1;33m(\u001b[0m\u001b[0mself\u001b[0m\u001b[1;33m.\u001b[0m\u001b[0m_jobs\u001b[0m\u001b[1;33m)\u001b[0m\u001b[1;33m\u001b[0m\u001b[1;33m\u001b[0m\u001b[0m\n\u001b[1;32m--> 716\u001b[1;33m             \u001b[0mjob\u001b[0m \u001b[1;33m=\u001b[0m \u001b[0mself\u001b[0m\u001b[1;33m.\u001b[0m\u001b[0m_backend\u001b[0m\u001b[1;33m.\u001b[0m\u001b[0mapply_async\u001b[0m\u001b[1;33m(\u001b[0m\u001b[0mbatch\u001b[0m\u001b[1;33m,\u001b[0m \u001b[0mcallback\u001b[0m\u001b[1;33m=\u001b[0m\u001b[0mcb\u001b[0m\u001b[1;33m)\u001b[0m\u001b[1;33m\u001b[0m\u001b[1;33m\u001b[0m\u001b[0m\n\u001b[0m\u001b[0;32m    717\u001b[0m             \u001b[1;31m# A job can complete so quickly than its callback is\u001b[0m\u001b[1;33m\u001b[0m\u001b[1;33m\u001b[0m\u001b[1;33m\u001b[0m\u001b[0m\n\u001b[0;32m    718\u001b[0m             \u001b[1;31m# called before we get here, causing self._jobs to\u001b[0m\u001b[1;33m\u001b[0m\u001b[1;33m\u001b[0m\u001b[1;33m\u001b[0m\u001b[0m\n",
      "\u001b[1;32mC:\\ProgramData\\Anaconda3\\lib\\site-packages\\joblib\\_parallel_backends.py\u001b[0m in \u001b[0;36mapply_async\u001b[1;34m(self, func, callback)\u001b[0m\n\u001b[0;32m    180\u001b[0m     \u001b[1;32mdef\u001b[0m \u001b[0mapply_async\u001b[0m\u001b[1;33m(\u001b[0m\u001b[0mself\u001b[0m\u001b[1;33m,\u001b[0m \u001b[0mfunc\u001b[0m\u001b[1;33m,\u001b[0m \u001b[0mcallback\u001b[0m\u001b[1;33m=\u001b[0m\u001b[1;32mNone\u001b[0m\u001b[1;33m)\u001b[0m\u001b[1;33m:\u001b[0m\u001b[1;33m\u001b[0m\u001b[1;33m\u001b[0m\u001b[0m\n\u001b[0;32m    181\u001b[0m         \u001b[1;34m\"\"\"Schedule a func to be run\"\"\"\u001b[0m\u001b[1;33m\u001b[0m\u001b[1;33m\u001b[0m\u001b[0m\n\u001b[1;32m--> 182\u001b[1;33m         \u001b[0mresult\u001b[0m \u001b[1;33m=\u001b[0m \u001b[0mImmediateResult\u001b[0m\u001b[1;33m(\u001b[0m\u001b[0mfunc\u001b[0m\u001b[1;33m)\u001b[0m\u001b[1;33m\u001b[0m\u001b[1;33m\u001b[0m\u001b[0m\n\u001b[0m\u001b[0;32m    183\u001b[0m         \u001b[1;32mif\u001b[0m \u001b[0mcallback\u001b[0m\u001b[1;33m:\u001b[0m\u001b[1;33m\u001b[0m\u001b[1;33m\u001b[0m\u001b[0m\n\u001b[0;32m    184\u001b[0m             \u001b[0mcallback\u001b[0m\u001b[1;33m(\u001b[0m\u001b[0mresult\u001b[0m\u001b[1;33m)\u001b[0m\u001b[1;33m\u001b[0m\u001b[1;33m\u001b[0m\u001b[0m\n",
      "\u001b[1;32mC:\\ProgramData\\Anaconda3\\lib\\site-packages\\joblib\\_parallel_backends.py\u001b[0m in \u001b[0;36m__init__\u001b[1;34m(self, batch)\u001b[0m\n\u001b[0;32m    547\u001b[0m         \u001b[1;31m# Don't delay the application, to avoid keeping the input\u001b[0m\u001b[1;33m\u001b[0m\u001b[1;33m\u001b[0m\u001b[1;33m\u001b[0m\u001b[0m\n\u001b[0;32m    548\u001b[0m         \u001b[1;31m# arguments in memory\u001b[0m\u001b[1;33m\u001b[0m\u001b[1;33m\u001b[0m\u001b[1;33m\u001b[0m\u001b[0m\n\u001b[1;32m--> 549\u001b[1;33m         \u001b[0mself\u001b[0m\u001b[1;33m.\u001b[0m\u001b[0mresults\u001b[0m \u001b[1;33m=\u001b[0m \u001b[0mbatch\u001b[0m\u001b[1;33m(\u001b[0m\u001b[1;33m)\u001b[0m\u001b[1;33m\u001b[0m\u001b[1;33m\u001b[0m\u001b[0m\n\u001b[0m\u001b[0;32m    550\u001b[0m \u001b[1;33m\u001b[0m\u001b[0m\n\u001b[0;32m    551\u001b[0m     \u001b[1;32mdef\u001b[0m \u001b[0mget\u001b[0m\u001b[1;33m(\u001b[0m\u001b[0mself\u001b[0m\u001b[1;33m)\u001b[0m\u001b[1;33m:\u001b[0m\u001b[1;33m\u001b[0m\u001b[1;33m\u001b[0m\u001b[0m\n",
      "\u001b[1;32mC:\\ProgramData\\Anaconda3\\lib\\site-packages\\joblib\\parallel.py\u001b[0m in \u001b[0;36m__call__\u001b[1;34m(self)\u001b[0m\n\u001b[0;32m    223\u001b[0m         \u001b[1;32mwith\u001b[0m \u001b[0mparallel_backend\u001b[0m\u001b[1;33m(\u001b[0m\u001b[0mself\u001b[0m\u001b[1;33m.\u001b[0m\u001b[0m_backend\u001b[0m\u001b[1;33m,\u001b[0m \u001b[0mn_jobs\u001b[0m\u001b[1;33m=\u001b[0m\u001b[0mself\u001b[0m\u001b[1;33m.\u001b[0m\u001b[0m_n_jobs\u001b[0m\u001b[1;33m)\u001b[0m\u001b[1;33m:\u001b[0m\u001b[1;33m\u001b[0m\u001b[1;33m\u001b[0m\u001b[0m\n\u001b[0;32m    224\u001b[0m             return [func(*args, **kwargs)\n\u001b[1;32m--> 225\u001b[1;33m                     for func, args, kwargs in self.items]\n\u001b[0m\u001b[0;32m    226\u001b[0m \u001b[1;33m\u001b[0m\u001b[0m\n\u001b[0;32m    227\u001b[0m     \u001b[1;32mdef\u001b[0m \u001b[0m__len__\u001b[0m\u001b[1;33m(\u001b[0m\u001b[0mself\u001b[0m\u001b[1;33m)\u001b[0m\u001b[1;33m:\u001b[0m\u001b[1;33m\u001b[0m\u001b[1;33m\u001b[0m\u001b[0m\n",
      "\u001b[1;32mC:\\ProgramData\\Anaconda3\\lib\\site-packages\\joblib\\parallel.py\u001b[0m in \u001b[0;36m<listcomp>\u001b[1;34m(.0)\u001b[0m\n\u001b[0;32m    223\u001b[0m         \u001b[1;32mwith\u001b[0m \u001b[0mparallel_backend\u001b[0m\u001b[1;33m(\u001b[0m\u001b[0mself\u001b[0m\u001b[1;33m.\u001b[0m\u001b[0m_backend\u001b[0m\u001b[1;33m,\u001b[0m \u001b[0mn_jobs\u001b[0m\u001b[1;33m=\u001b[0m\u001b[0mself\u001b[0m\u001b[1;33m.\u001b[0m\u001b[0m_n_jobs\u001b[0m\u001b[1;33m)\u001b[0m\u001b[1;33m:\u001b[0m\u001b[1;33m\u001b[0m\u001b[1;33m\u001b[0m\u001b[0m\n\u001b[0;32m    224\u001b[0m             return [func(*args, **kwargs)\n\u001b[1;32m--> 225\u001b[1;33m                     for func, args, kwargs in self.items]\n\u001b[0m\u001b[0;32m    226\u001b[0m \u001b[1;33m\u001b[0m\u001b[0m\n\u001b[0;32m    227\u001b[0m     \u001b[1;32mdef\u001b[0m \u001b[0m__len__\u001b[0m\u001b[1;33m(\u001b[0m\u001b[0mself\u001b[0m\u001b[1;33m)\u001b[0m\u001b[1;33m:\u001b[0m\u001b[1;33m\u001b[0m\u001b[1;33m\u001b[0m\u001b[0m\n",
      "\u001b[1;32mC:\\ProgramData\\Anaconda3\\lib\\site-packages\\sklearn\\model_selection\\_validation.py\u001b[0m in \u001b[0;36m_fit_and_score\u001b[1;34m(estimator, X, y, scorer, train, test, verbose, parameters, fit_params, return_train_score, return_parameters, return_n_test_samples, return_times, return_estimator, error_score)\u001b[0m\n\u001b[0;32m    554\u001b[0m         \u001b[0mfit_time\u001b[0m \u001b[1;33m=\u001b[0m \u001b[0mtime\u001b[0m\u001b[1;33m.\u001b[0m\u001b[0mtime\u001b[0m\u001b[1;33m(\u001b[0m\u001b[1;33m)\u001b[0m \u001b[1;33m-\u001b[0m \u001b[0mstart_time\u001b[0m\u001b[1;33m\u001b[0m\u001b[1;33m\u001b[0m\u001b[0m\n\u001b[0;32m    555\u001b[0m         \u001b[1;31m# _score will return dict if is_multimetric is True\u001b[0m\u001b[1;33m\u001b[0m\u001b[1;33m\u001b[0m\u001b[1;33m\u001b[0m\u001b[0m\n\u001b[1;32m--> 556\u001b[1;33m         \u001b[0mtest_scores\u001b[0m \u001b[1;33m=\u001b[0m \u001b[0m_score\u001b[0m\u001b[1;33m(\u001b[0m\u001b[0mestimator\u001b[0m\u001b[1;33m,\u001b[0m \u001b[0mX_test\u001b[0m\u001b[1;33m,\u001b[0m \u001b[0my_test\u001b[0m\u001b[1;33m,\u001b[0m \u001b[0mscorer\u001b[0m\u001b[1;33m,\u001b[0m \u001b[0mis_multimetric\u001b[0m\u001b[1;33m)\u001b[0m\u001b[1;33m\u001b[0m\u001b[1;33m\u001b[0m\u001b[0m\n\u001b[0m\u001b[0;32m    557\u001b[0m         \u001b[0mscore_time\u001b[0m \u001b[1;33m=\u001b[0m \u001b[0mtime\u001b[0m\u001b[1;33m.\u001b[0m\u001b[0mtime\u001b[0m\u001b[1;33m(\u001b[0m\u001b[1;33m)\u001b[0m \u001b[1;33m-\u001b[0m \u001b[0mstart_time\u001b[0m \u001b[1;33m-\u001b[0m \u001b[0mfit_time\u001b[0m\u001b[1;33m\u001b[0m\u001b[1;33m\u001b[0m\u001b[0m\n\u001b[0;32m    558\u001b[0m         \u001b[1;32mif\u001b[0m \u001b[0mreturn_train_score\u001b[0m\u001b[1;33m:\u001b[0m\u001b[1;33m\u001b[0m\u001b[1;33m\u001b[0m\u001b[0m\n",
      "\u001b[1;32mC:\\ProgramData\\Anaconda3\\lib\\site-packages\\sklearn\\model_selection\\_validation.py\u001b[0m in \u001b[0;36m_score\u001b[1;34m(estimator, X_test, y_test, scorer, is_multimetric)\u001b[0m\n\u001b[0;32m    597\u001b[0m     \"\"\"\n\u001b[0;32m    598\u001b[0m     \u001b[1;32mif\u001b[0m \u001b[0mis_multimetric\u001b[0m\u001b[1;33m:\u001b[0m\u001b[1;33m\u001b[0m\u001b[1;33m\u001b[0m\u001b[0m\n\u001b[1;32m--> 599\u001b[1;33m         \u001b[1;32mreturn\u001b[0m \u001b[0m_multimetric_score\u001b[0m\u001b[1;33m(\u001b[0m\u001b[0mestimator\u001b[0m\u001b[1;33m,\u001b[0m \u001b[0mX_test\u001b[0m\u001b[1;33m,\u001b[0m \u001b[0my_test\u001b[0m\u001b[1;33m,\u001b[0m \u001b[0mscorer\u001b[0m\u001b[1;33m)\u001b[0m\u001b[1;33m\u001b[0m\u001b[1;33m\u001b[0m\u001b[0m\n\u001b[0m\u001b[0;32m    600\u001b[0m     \u001b[1;32melse\u001b[0m\u001b[1;33m:\u001b[0m\u001b[1;33m\u001b[0m\u001b[1;33m\u001b[0m\u001b[0m\n\u001b[0;32m    601\u001b[0m         \u001b[1;32mif\u001b[0m \u001b[0my_test\u001b[0m \u001b[1;32mis\u001b[0m \u001b[1;32mNone\u001b[0m\u001b[1;33m:\u001b[0m\u001b[1;33m\u001b[0m\u001b[1;33m\u001b[0m\u001b[0m\n",
      "\u001b[1;32mC:\\ProgramData\\Anaconda3\\lib\\site-packages\\sklearn\\model_selection\\_validation.py\u001b[0m in \u001b[0;36m_multimetric_score\u001b[1;34m(estimator, X_test, y_test, scorers)\u001b[0m\n\u001b[0;32m    627\u001b[0m             \u001b[0mscore\u001b[0m \u001b[1;33m=\u001b[0m \u001b[0mscorer\u001b[0m\u001b[1;33m(\u001b[0m\u001b[0mestimator\u001b[0m\u001b[1;33m,\u001b[0m \u001b[0mX_test\u001b[0m\u001b[1;33m)\u001b[0m\u001b[1;33m\u001b[0m\u001b[1;33m\u001b[0m\u001b[0m\n\u001b[0;32m    628\u001b[0m         \u001b[1;32melse\u001b[0m\u001b[1;33m:\u001b[0m\u001b[1;33m\u001b[0m\u001b[1;33m\u001b[0m\u001b[0m\n\u001b[1;32m--> 629\u001b[1;33m             \u001b[0mscore\u001b[0m \u001b[1;33m=\u001b[0m \u001b[0mscorer\u001b[0m\u001b[1;33m(\u001b[0m\u001b[0mestimator\u001b[0m\u001b[1;33m,\u001b[0m \u001b[0mX_test\u001b[0m\u001b[1;33m,\u001b[0m \u001b[0my_test\u001b[0m\u001b[1;33m)\u001b[0m\u001b[1;33m\u001b[0m\u001b[1;33m\u001b[0m\u001b[0m\n\u001b[0m\u001b[0;32m    630\u001b[0m \u001b[1;33m\u001b[0m\u001b[0m\n\u001b[0;32m    631\u001b[0m         \u001b[1;32mif\u001b[0m \u001b[0mhasattr\u001b[0m\u001b[1;33m(\u001b[0m\u001b[0mscore\u001b[0m\u001b[1;33m,\u001b[0m \u001b[1;34m'item'\u001b[0m\u001b[1;33m)\u001b[0m\u001b[1;33m:\u001b[0m\u001b[1;33m\u001b[0m\u001b[1;33m\u001b[0m\u001b[0m\n",
      "\u001b[1;32mC:\\ProgramData\\Anaconda3\\lib\\site-packages\\sklearn\\metrics\\scorer.py\u001b[0m in \u001b[0;36m_passthrough_scorer\u001b[1;34m(estimator, *args, **kwargs)\u001b[0m\n\u001b[0;32m    238\u001b[0m \u001b[1;32mdef\u001b[0m \u001b[0m_passthrough_scorer\u001b[0m\u001b[1;33m(\u001b[0m\u001b[0mestimator\u001b[0m\u001b[1;33m,\u001b[0m \u001b[1;33m*\u001b[0m\u001b[0margs\u001b[0m\u001b[1;33m,\u001b[0m \u001b[1;33m**\u001b[0m\u001b[0mkwargs\u001b[0m\u001b[1;33m)\u001b[0m\u001b[1;33m:\u001b[0m\u001b[1;33m\u001b[0m\u001b[1;33m\u001b[0m\u001b[0m\n\u001b[0;32m    239\u001b[0m     \u001b[1;34m\"\"\"Function that wraps estimator.score\"\"\"\u001b[0m\u001b[1;33m\u001b[0m\u001b[1;33m\u001b[0m\u001b[0m\n\u001b[1;32m--> 240\u001b[1;33m     \u001b[1;32mreturn\u001b[0m \u001b[0mestimator\u001b[0m\u001b[1;33m.\u001b[0m\u001b[0mscore\u001b[0m\u001b[1;33m(\u001b[0m\u001b[1;33m*\u001b[0m\u001b[0margs\u001b[0m\u001b[1;33m,\u001b[0m \u001b[1;33m**\u001b[0m\u001b[0mkwargs\u001b[0m\u001b[1;33m)\u001b[0m\u001b[1;33m\u001b[0m\u001b[1;33m\u001b[0m\u001b[0m\n\u001b[0m\u001b[0;32m    241\u001b[0m \u001b[1;33m\u001b[0m\u001b[0m\n\u001b[0;32m    242\u001b[0m \u001b[1;33m\u001b[0m\u001b[0m\n",
      "\u001b[1;32mC:\\ProgramData\\Anaconda3\\lib\\site-packages\\sklearn\\base.py\u001b[0m in \u001b[0;36mscore\u001b[1;34m(self, X, y, sample_weight)\u001b[0m\n\u001b[0;32m    355\u001b[0m         \"\"\"\n\u001b[0;32m    356\u001b[0m         \u001b[1;32mfrom\u001b[0m \u001b[1;33m.\u001b[0m\u001b[0mmetrics\u001b[0m \u001b[1;32mimport\u001b[0m \u001b[0maccuracy_score\u001b[0m\u001b[1;33m\u001b[0m\u001b[1;33m\u001b[0m\u001b[0m\n\u001b[1;32m--> 357\u001b[1;33m         \u001b[1;32mreturn\u001b[0m \u001b[0maccuracy_score\u001b[0m\u001b[1;33m(\u001b[0m\u001b[0my\u001b[0m\u001b[1;33m,\u001b[0m \u001b[0mself\u001b[0m\u001b[1;33m.\u001b[0m\u001b[0mpredict\u001b[0m\u001b[1;33m(\u001b[0m\u001b[0mX\u001b[0m\u001b[1;33m)\u001b[0m\u001b[1;33m,\u001b[0m \u001b[0msample_weight\u001b[0m\u001b[1;33m=\u001b[0m\u001b[0msample_weight\u001b[0m\u001b[1;33m)\u001b[0m\u001b[1;33m\u001b[0m\u001b[1;33m\u001b[0m\u001b[0m\n\u001b[0m\u001b[0;32m    358\u001b[0m \u001b[1;33m\u001b[0m\u001b[0m\n\u001b[0;32m    359\u001b[0m \u001b[1;33m\u001b[0m\u001b[0m\n",
      "\u001b[1;32mC:\\ProgramData\\Anaconda3\\lib\\site-packages\\sklearn\\svm\\base.py\u001b[0m in \u001b[0;36mpredict\u001b[1;34m(self, X)\u001b[0m\n\u001b[0;32m    572\u001b[0m             \u001b[0mClass\u001b[0m \u001b[0mlabels\u001b[0m \u001b[1;32mfor\u001b[0m \u001b[0msamples\u001b[0m \u001b[1;32min\u001b[0m \u001b[0mX\u001b[0m\u001b[1;33m.\u001b[0m\u001b[1;33m\u001b[0m\u001b[1;33m\u001b[0m\u001b[0m\n\u001b[0;32m    573\u001b[0m         \"\"\"\n\u001b[1;32m--> 574\u001b[1;33m         \u001b[0my\u001b[0m \u001b[1;33m=\u001b[0m \u001b[0msuper\u001b[0m\u001b[1;33m(\u001b[0m\u001b[1;33m)\u001b[0m\u001b[1;33m.\u001b[0m\u001b[0mpredict\u001b[0m\u001b[1;33m(\u001b[0m\u001b[0mX\u001b[0m\u001b[1;33m)\u001b[0m\u001b[1;33m\u001b[0m\u001b[1;33m\u001b[0m\u001b[0m\n\u001b[0m\u001b[0;32m    575\u001b[0m         \u001b[1;32mreturn\u001b[0m \u001b[0mself\u001b[0m\u001b[1;33m.\u001b[0m\u001b[0mclasses_\u001b[0m\u001b[1;33m.\u001b[0m\u001b[0mtake\u001b[0m\u001b[1;33m(\u001b[0m\u001b[0mnp\u001b[0m\u001b[1;33m.\u001b[0m\u001b[0masarray\u001b[0m\u001b[1;33m(\u001b[0m\u001b[0my\u001b[0m\u001b[1;33m,\u001b[0m \u001b[0mdtype\u001b[0m\u001b[1;33m=\u001b[0m\u001b[0mnp\u001b[0m\u001b[1;33m.\u001b[0m\u001b[0mintp\u001b[0m\u001b[1;33m)\u001b[0m\u001b[1;33m)\u001b[0m\u001b[1;33m\u001b[0m\u001b[1;33m\u001b[0m\u001b[0m\n\u001b[0;32m    576\u001b[0m \u001b[1;33m\u001b[0m\u001b[0m\n",
      "\u001b[1;32mC:\\ProgramData\\Anaconda3\\lib\\site-packages\\sklearn\\svm\\base.py\u001b[0m in \u001b[0;36mpredict\u001b[1;34m(self, X)\u001b[0m\n\u001b[0;32m    322\u001b[0m         \u001b[0mX\u001b[0m \u001b[1;33m=\u001b[0m \u001b[0mself\u001b[0m\u001b[1;33m.\u001b[0m\u001b[0m_validate_for_predict\u001b[0m\u001b[1;33m(\u001b[0m\u001b[0mX\u001b[0m\u001b[1;33m)\u001b[0m\u001b[1;33m\u001b[0m\u001b[1;33m\u001b[0m\u001b[0m\n\u001b[0;32m    323\u001b[0m         \u001b[0mpredict\u001b[0m \u001b[1;33m=\u001b[0m \u001b[0mself\u001b[0m\u001b[1;33m.\u001b[0m\u001b[0m_sparse_predict\u001b[0m \u001b[1;32mif\u001b[0m \u001b[0mself\u001b[0m\u001b[1;33m.\u001b[0m\u001b[0m_sparse\u001b[0m \u001b[1;32melse\u001b[0m \u001b[0mself\u001b[0m\u001b[1;33m.\u001b[0m\u001b[0m_dense_predict\u001b[0m\u001b[1;33m\u001b[0m\u001b[1;33m\u001b[0m\u001b[0m\n\u001b[1;32m--> 324\u001b[1;33m         \u001b[1;32mreturn\u001b[0m \u001b[0mpredict\u001b[0m\u001b[1;33m(\u001b[0m\u001b[0mX\u001b[0m\u001b[1;33m)\u001b[0m\u001b[1;33m\u001b[0m\u001b[1;33m\u001b[0m\u001b[0m\n\u001b[0m\u001b[0;32m    325\u001b[0m \u001b[1;33m\u001b[0m\u001b[0m\n\u001b[0;32m    326\u001b[0m     \u001b[1;32mdef\u001b[0m \u001b[0m_dense_predict\u001b[0m\u001b[1;33m(\u001b[0m\u001b[0mself\u001b[0m\u001b[1;33m,\u001b[0m \u001b[0mX\u001b[0m\u001b[1;33m)\u001b[0m\u001b[1;33m:\u001b[0m\u001b[1;33m\u001b[0m\u001b[1;33m\u001b[0m\u001b[0m\n",
      "\u001b[1;32mC:\\ProgramData\\Anaconda3\\lib\\site-packages\\sklearn\\svm\\base.py\u001b[0m in \u001b[0;36m_dense_predict\u001b[1;34m(self, X)\u001b[0m\n\u001b[0;32m    344\u001b[0m             \u001b[0mself\u001b[0m\u001b[1;33m.\u001b[0m\u001b[0mprobA_\u001b[0m\u001b[1;33m,\u001b[0m \u001b[0mself\u001b[0m\u001b[1;33m.\u001b[0m\u001b[0mprobB_\u001b[0m\u001b[1;33m,\u001b[0m \u001b[0msvm_type\u001b[0m\u001b[1;33m=\u001b[0m\u001b[0msvm_type\u001b[0m\u001b[1;33m,\u001b[0m \u001b[0mkernel\u001b[0m\u001b[1;33m=\u001b[0m\u001b[0mkernel\u001b[0m\u001b[1;33m,\u001b[0m\u001b[1;33m\u001b[0m\u001b[1;33m\u001b[0m\u001b[0m\n\u001b[0;32m    345\u001b[0m             \u001b[0mdegree\u001b[0m\u001b[1;33m=\u001b[0m\u001b[0mself\u001b[0m\u001b[1;33m.\u001b[0m\u001b[0mdegree\u001b[0m\u001b[1;33m,\u001b[0m \u001b[0mcoef0\u001b[0m\u001b[1;33m=\u001b[0m\u001b[0mself\u001b[0m\u001b[1;33m.\u001b[0m\u001b[0mcoef0\u001b[0m\u001b[1;33m,\u001b[0m \u001b[0mgamma\u001b[0m\u001b[1;33m=\u001b[0m\u001b[0mself\u001b[0m\u001b[1;33m.\u001b[0m\u001b[0m_gamma\u001b[0m\u001b[1;33m,\u001b[0m\u001b[1;33m\u001b[0m\u001b[1;33m\u001b[0m\u001b[0m\n\u001b[1;32m--> 346\u001b[1;33m             cache_size=self.cache_size)\n\u001b[0m\u001b[0;32m    347\u001b[0m \u001b[1;33m\u001b[0m\u001b[0m\n\u001b[0;32m    348\u001b[0m     \u001b[1;32mdef\u001b[0m \u001b[0m_sparse_predict\u001b[0m\u001b[1;33m(\u001b[0m\u001b[0mself\u001b[0m\u001b[1;33m,\u001b[0m \u001b[0mX\u001b[0m\u001b[1;33m)\u001b[0m\u001b[1;33m:\u001b[0m\u001b[1;33m\u001b[0m\u001b[1;33m\u001b[0m\u001b[0m\n",
      "\u001b[1;31mKeyboardInterrupt\u001b[0m: "
     ]
    }
   ],
   "source": [
    "#gscv.best_score_\n",
    "#2\n",
    "gscv = GridSearchCV(\n",
    "    SVC(),\n",
    "    param_grid,\n",
    "    cv = 3) #cv par défaut =5\n",
    "gscv.fit(X_train,Y_train)\n",
    "gscv.best_params_ #changer les params selon le résultat obtenu, ex réduire C"
   ]
  },
  {
   "cell_type": "code",
   "execution_count": null,
   "metadata": {
    "scrolled": true
   },
   "outputs": [],
   "source": [
    "\n",
    "final_model = clf_grid.best_estimator_\n",
    "gscv.best_score_\n",
    "pred_train = gscv.predict(X_train)\n",
    "pred_test = gscv.predict(X_test)\n",
    "print(pred_train,pred_test,classification_report(Y_train,pred_train),classification_report(Y_test,pred_test))"
   ]
  },
  {
   "cell_type": "code",
   "execution_count": null,
   "metadata": {},
   "outputs": [],
   "source": [
    "gscv.best_score_"
   ]
  },
  {
   "cell_type": "code",
   "execution_count": null,
   "metadata": {},
   "outputs": [],
   "source": [
    "#4\n",
    "best_model = gscv.best_estimator_\n",
    "pred_train = best_model.predict(X_train)\n",
    "pred_test = best_model.predict(X_test)\n",
    "print(pred_train,pred_test)\n",
    "#5\n",
    "print(classification_report(Y_train,pred_train),'\\n',classification_report(Y_test,pred_test))"
   ]
  },
  {
   "cell_type": "code",
   "execution_count": null,
   "metadata": {},
   "outputs": [],
   "source": []
  }
 ],
 "metadata": {
  "kernelspec": {
   "display_name": "Python 3",
   "language": "python",
   "name": "python3"
  },
  "language_info": {
   "codemirror_mode": {
    "name": "ipython",
    "version": 3
   },
   "file_extension": ".py",
   "mimetype": "text/x-python",
   "name": "python",
   "nbconvert_exporter": "python",
   "pygments_lexer": "ipython3",
   "version": "3.7.4"
  }
 },
 "nbformat": 4,
 "nbformat_minor": 2
}
