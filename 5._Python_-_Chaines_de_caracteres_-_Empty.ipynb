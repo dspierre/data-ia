{
 "cells": [
  {
   "cell_type": "markdown",
   "metadata": {},
   "source": [
    "# **5. Python - Chaînes de caractères**\n"
   ]
  },
  {
   "cell_type": "markdown",
   "metadata": {},
   "source": [
    "### VEILLE "
   ]
  },
  {
   "cell_type": "markdown",
   "metadata": {},
   "source": [
    "Qu'est ce qu'une chaîne de caractères?"
   ]
  },
  {
   "cell_type": "markdown",
   "metadata": {},
   "source": [
    "Comment manipule-t-on les chaîne de caractères en Python?"
   ]
  },
  {
   "cell_type": "markdown",
   "metadata": {},
   "source": [
    "Quelle est la librairie utilisée pour manipuler les vecteurs en Python?"
   ]
  },
  {
   "cell_type": "markdown",
   "metadata": {},
   "source": [
    "Quelle est la commande pour charger une librairie?"
   ]
  },
  {
   "cell_type": "markdown",
   "metadata": {},
   "source": [
    "## 1)\n",
    "\n",
    "### Créer une chaîne de caractères appelée `chaine` contenant le texte suivant : \"ici C'EST PARIS !!\"\n",
    "\n",
    "### Afficher la longeur de cette chaîne.\n",
    "\n",
    "### Afficher les 3 premiers éléments de la chaîne.\n",
    "\n",
    "### Remplacer le dernier élément par un point d'interrogation. Quelle est la différence avec les listes ?"
   ]
  },
  {
   "cell_type": "code",
   "execution_count": 1,
   "metadata": {},
   "outputs": [],
   "source": [
    "chaine = \"ici C'EST PARIS !!\""
   ]
  },
  {
   "cell_type": "code",
   "execution_count": 2,
   "metadata": {},
   "outputs": [
    {
     "data": {
      "text/plain": [
       "18"
      ]
     },
     "execution_count": 2,
     "metadata": {},
     "output_type": "execute_result"
    }
   ],
   "source": [
    "len(chaine)"
   ]
  },
  {
   "cell_type": "code",
   "execution_count": 3,
   "metadata": {},
   "outputs": [
    {
     "name": "stdout",
     "output_type": "stream",
     "text": [
      "ici\n"
     ]
    }
   ],
   "source": [
    "print(chaine[:3])"
   ]
  },
  {
   "cell_type": "code",
   "execution_count": 4,
   "metadata": {},
   "outputs": [
    {
     "ename": "TypeError",
     "evalue": "'str' object does not support item assignment",
     "output_type": "error",
     "traceback": [
      "\u001b[0;31m---------------------------------------------------------------------------\u001b[0m",
      "\u001b[0;31mTypeError\u001b[0m                                 Traceback (most recent call last)",
      "\u001b[0;32m<ipython-input-4-747228029ece>\u001b[0m in \u001b[0;36m<module>\u001b[0;34m\u001b[0m\n\u001b[0;32m----> 1\u001b[0;31m \u001b[0mchaine\u001b[0m\u001b[0;34m[\u001b[0m\u001b[0;34m-\u001b[0m\u001b[0;36m1\u001b[0m\u001b[0;34m]\u001b[0m \u001b[0;34m=\u001b[0m \u001b[0;34m\"!\"\u001b[0m\u001b[0;34m\u001b[0m\u001b[0;34m\u001b[0m\u001b[0m\n\u001b[0m",
      "\u001b[0;31mTypeError\u001b[0m: 'str' object does not support item assignment"
     ]
    }
   ],
   "source": [
    "chaine[-1] = \"!\""
   ]
  },
  {
   "cell_type": "code",
   "execution_count": 30,
   "metadata": {},
   "outputs": [
    {
     "name": "stdout",
     "output_type": "stream",
     "text": [
      "ici C'EST PARIS !?\n"
     ]
    }
   ],
   "source": [
    "chaine2 = chaine[:-1] +\"?\"\n",
    "print(chaine2)"
   ]
  },
  {
   "cell_type": "markdown",
   "metadata": {},
   "source": [
    "## 2)\n",
    "\n",
    "### Créer une liste `s1` contenant la même chaîne que `chaine` en majuscules en utilisant la méthode adéquate.\n",
    "\n",
    "### Afficher l'index du caractère\"P\" dans `s1`.\n",
    "\n",
    "### Compter le nombre d'apparitions de \"S\" , de\"s\" et de \"!\"\n",
    "\n",
    "### Remplacer les \"S\" par des \"s\" et stocker cette modification dans une liste `s2`.\n",
    "\n"
   ]
  },
  {
   "cell_type": "code",
   "execution_count": 33,
   "metadata": {},
   "outputs": [
    {
     "name": "stdout",
     "output_type": "stream",
     "text": [
      "ICI C'EST PARIS !!\n"
     ]
    }
   ],
   "source": [
    "s1 = chaine.upper() \n",
    "print(s1)"
   ]
  },
  {
   "cell_type": "code",
   "execution_count": 35,
   "metadata": {},
   "outputs": [
    {
     "data": {
      "text/plain": [
       "10"
      ]
     },
     "execution_count": 35,
     "metadata": {},
     "output_type": "execute_result"
    }
   ],
   "source": [
    "s1.find(\"P\")"
   ]
  },
  {
   "cell_type": "code",
   "execution_count": 36,
   "metadata": {},
   "outputs": [
    {
     "data": {
      "text/plain": [
       "2"
      ]
     },
     "execution_count": 36,
     "metadata": {},
     "output_type": "execute_result"
    }
   ],
   "source": [
    "s1.count(\"S\")"
   ]
  },
  {
   "cell_type": "code",
   "execution_count": 37,
   "metadata": {},
   "outputs": [
    {
     "data": {
      "text/plain": [
       "0"
      ]
     },
     "execution_count": 37,
     "metadata": {},
     "output_type": "execute_result"
    }
   ],
   "source": [
    "s1.count(\"s\")"
   ]
  },
  {
   "cell_type": "code",
   "execution_count": 38,
   "metadata": {},
   "outputs": [
    {
     "data": {
      "text/plain": [
       "2"
      ]
     },
     "execution_count": 38,
     "metadata": {},
     "output_type": "execute_result"
    }
   ],
   "source": [
    "s1.count(\"!\")"
   ]
  },
  {
   "cell_type": "code",
   "execution_count": 39,
   "metadata": {},
   "outputs": [
    {
     "name": "stdout",
     "output_type": "stream",
     "text": [
      "ICI C'EsT PARIs !!\n"
     ]
    }
   ],
   "source": [
    "s2 = s1.replace(\"S\",\"s\")\n",
    "print(s2)"
   ]
  },
  {
   "cell_type": "markdown",
   "metadata": {},
   "source": [
    "## 3)\n",
    "\n",
    "### Créer une chaine `s` contenant le texte suivant : \"Le monde tourne à l'envers\" et transformer la en liste.\n",
    "\n",
    "### Créer une liste `decoupe` contenant tous les mots de la chaine `s`.\n",
    "\n",
    "### Créer une chaine `s_tiret` contenant les mots de la chaine `s` séparées par des tirets."
   ]
  },
  {
   "cell_type": "code",
   "execution_count": 41,
   "metadata": {},
   "outputs": [
    {
     "name": "stdout",
     "output_type": "stream",
     "text": [
      "Le monde tourne à l'envers\n",
      "['L', 'e', ' ', 'm', 'o', 'n', 'd', 'e', ' ', 't', 'o', 'u', 'r', 'n', 'e', ' ', 'à', ' ', 'l', \"'\", 'e', 'n', 'v', 'e', 'r', 's']\n"
     ]
    }
   ],
   "source": [
    "s = \"Le monde tourne à l'envers\"\n",
    "print(s)\n",
    "s_liste = list(s)\n",
    "print(s_liste)"
   ]
  },
  {
   "cell_type": "code",
   "execution_count": 42,
   "metadata": {},
   "outputs": [
    {
     "name": "stdout",
     "output_type": "stream",
     "text": [
      "['Le', 'monde', 'tourne', 'à', \"l'envers\"]\n"
     ]
    }
   ],
   "source": [
    "decoupe = s.split(\" \")\n",
    "print(decoupe)"
   ]
  },
  {
   "cell_type": "code",
   "execution_count": 43,
   "metadata": {},
   "outputs": [
    {
     "name": "stdout",
     "output_type": "stream",
     "text": [
      "Le-monde-tourne-à-l'envers\n"
     ]
    },
    {
     "data": {
      "text/plain": [
       "str"
      ]
     },
     "execution_count": 43,
     "metadata": {},
     "output_type": "execute_result"
    }
   ],
   "source": [
    "s_tiret =\"-\".join(decoupe)\n",
    "print(s_tiret)\n",
    "type(s_tiret)"
   ]
  },
  {
   "cell_type": "markdown",
   "metadata": {},
   "source": [
    "## 4)\n",
    "### Coder une fonction `comptage_e` qui prend en entrée une chaîne de caractères et qui compte le nombre de \"e\" ou \"E\" contenue dans cette chaîne. Tester la fonction.\n"
   ]
  },
  {
   "cell_type": "code",
   "execution_count": 17,
   "metadata": {},
   "outputs": [
    {
     "data": {
      "text/plain": [
       "8"
      ]
     },
     "execution_count": 17,
     "metadata": {},
     "output_type": "execute_result"
    }
   ],
   "source": [
    "def comptage_e(s):\n",
    "    return(s.count(\"e\")+s.count(\"E\"))\n",
    "comptage_e(\"eEeeeEee\")"
   ]
  },
  {
   "cell_type": "markdown",
   "metadata": {},
   "source": [
    "## 5)\n",
    "\n",
    "### Coder une fonction `count_voyelle` qui demande la saisie d'une chaîne de caractères et qui retourne le nombre d'apparitions de voyelles dans cette chaîne avec un affichage : \n",
    "\n",
    "** Dans \"chaine\": \"a\" apparaît x fois \"e\" n'apparaît pas ..... **"
   ]
  },
  {
   "cell_type": "code",
   "execution_count": 44,
   "metadata": {},
   "outputs": [],
   "source": [
    "def count_voyelle():\n",
    "    chaine = input(\"Saisir une chaine de caractères: \")\n",
    "    \n",
    "    count = []\n",
    "    voy = list(\"aeiouAEIOU\")\n",
    "    \n",
    "    for i in voy:\n",
    "        count.append(chaine.count(i))\n",
    "    #print(count)\n",
    "    \n",
    "    print('\\n')\n",
    "\n",
    "    print(\" Dans la chaîne :\",chaine.upper())\n",
    "    print('\\n')\n",
    "    #print(count[0]+count[0+5])\n",
    "\n",
    "    for i in range(5):\n",
    "        \n",
    "        if count[i] == 0:\n",
    "            print(\"La lettre\", voy[i],\" n'apparait pas\")\n",
    "            print(\"\".center(40, '-'))\n",
    "            print('\\n')\n",
    "\n",
    "            \n",
    "\n",
    "        else:\n",
    "            print(\"La lettre\", voy[i],\" apparait \",(count[i-1]+count[(i-1)+5]),\"fois\")\n",
    "            print(\"\".center(40, '-'))\n",
    "            print('\\n')\n",
    "\n",
    "\n",
    "    \n",
    "    \n",
    "    \n",
    "    "
   ]
  },
  {
   "cell_type": "code",
   "execution_count": 45,
   "metadata": {},
   "outputs": [
    {
     "name": "stdout",
     "output_type": "stream",
     "text": [
      "Saisir une chaine de caractères: Salut !\n",
      "\n",
      "\n",
      " Dans la chaîne : SALUT !\n",
      "\n",
      "\n",
      "La lettre a  apparait  1 fois\n",
      "----------------------------------------\n",
      "\n",
      "\n",
      "La lettre e  n'apparait pas\n",
      "----------------------------------------\n",
      "\n",
      "\n",
      "La lettre i  n'apparait pas\n",
      "----------------------------------------\n",
      "\n",
      "\n",
      "La lettre o  n'apparait pas\n",
      "----------------------------------------\n",
      "\n",
      "\n",
      "La lettre u  apparait  0 fois\n",
      "----------------------------------------\n",
      "\n",
      "\n"
     ]
    }
   ],
   "source": [
    "count_voyelle()"
   ]
  }
 ],
 "metadata": {
  "kernelspec": {
   "display_name": "Python 3",
   "language": "python",
   "name": "python3"
  },
  "language_info": {
   "codemirror_mode": {
    "name": "ipython",
    "version": 3
   },
   "file_extension": ".py",
   "mimetype": "text/x-python",
   "name": "python",
   "nbconvert_exporter": "python",
   "pygments_lexer": "ipython3",
   "version": "3.7.3"
  }
 },
 "nbformat": 4,
 "nbformat_minor": 2
}
