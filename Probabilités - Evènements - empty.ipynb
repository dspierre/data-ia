{
 "cells": [
  {
   "cell_type": "markdown",
   "metadata": {},
   "source": [
    "# Probabilités - Evènements "
   ]
  },
  {
   "cell_type": "markdown",
   "metadata": {},
   "source": [
    "Les objectifs de ce notebook sont de :\n",
    "- Définir un évènement et son cardinal\n",
    "- Définir une probabilité et ses axiomes\n",
    "- Définir un modèle de tirage\n",
    "- Définir une distribution uniforme\n",
    "- Simuler des expériences aléatoires et comparer la fréquence empirique à la probabilité théorique\n",
    "- Revoir la notion d'évènements indépendants et incompatibles au sens probabiliste\n",
    "\n",
    "Vous avez préalablement suivi le **topic 5** (\"***Probability Introduction***\") du  MOOC \"*EDX - Probability and Statistics in Data Science using Python*\" : https://courses.edx.org/courses/course-v1:UCSanDiegoX+DSE210x+3T2019a/course/\n",
    "\n",
    "En complément, nous vous proposons de regarder **pour cette séance** les vidéos de Khan Academy Francophone dédiées aux probabilités: https://fr.khanacademy.org/math/statistics-probability/probability-library pour répondre aux questions posées dans <span style=\"color:red\">**CE NOTEBOOK**</span> . \n",
    "\n",
    "**Sélectionner UNIQUEMENT les vidéos qui vont vous aider à répondre aux questions de ce notebook. Des questions d'entraînement vous sont également proposées (à droite de chaque section)  pour vérifier vos acquis.**"
   ]
  },
  {
   "cell_type": "markdown",
   "metadata": {},
   "source": [
    "### 1. Définitions\n",
    "***(Durée moyenne : 1h)***"
   ]
  },
  {
   "cell_type": "markdown",
   "metadata": {},
   "source": [
    "1. Rappeler la définition d'une expérience alétoire. Donner un exemple\n",
    "2. Rappeler la définition d'un univers et son cardinal. Donner un exemple d'univers et son cardinal\n",
    "\n",
    "3. Rappeler la définition d'un évènement. Quelle est sa notation? \n",
    "4. Définir différents types de tirage. Donner des exemples\n",
    "5. Donner des exemples de répétitions d'évènements identiques (indépendants ou non)\n",
    "\n",
    "\n",
    "6. Rappeler la définition d'une probabilité. Considérons un jeu de 32 cartes, quelle est la probabilité de tirer un coeur?\n",
    "7. Citer les 3 axiomes des probabilités\n",
    "8. Définir la probabilité de l'union de deux évènements.Donner un exemple\n",
    "\n",
    "9. Définir une loi de probabilité\n",
    "10. Définir une distribution de probabilité uniforme. Donner un exemple de distribution uniforme et un exemple de distribution non uniforme\n",
    "\n",
    "11. Définir des évènements incompatibles au sens probabiliste. Donner un exemple\n",
    "12. Définir des évènements indépendants au sens probabiliste. Donner un exemple\n"
   ]
  },
  {
   "cell_type": "markdown",
   "metadata": {},
   "source": [
    "\n",
    "1.une expérience aléatoire est une expérience renouvelable.\n",
    "Une succession de lancers d'une même pièce en est un exemple classique. Le tirage au hasard d'un élément dans un ensemble en est un autre exemple."
   ]
  },
  {
   "cell_type": "markdown",
   "metadata": {},
   "source": [
    "2.Collection d’objets distincts ayant une caractéristique commune (propriété définissante)\n",
    "et appelés éléments de cet ensemble.\n",
    "Soit E un ensemble. \n",
    "\n"
   ]
  },
  {
   "cell_type": "code",
   "execution_count": 1,
   "metadata": {},
   "outputs": [
    {
     "ename": "SyntaxError",
     "evalue": "invalid syntax (<ipython-input-1-845e007d9a15>, line 1)",
     "output_type": "error",
     "traceback": [
      "\u001b[1;36m  File \u001b[1;32m\"<ipython-input-1-845e007d9a15>\"\u001b[1;36m, line \u001b[1;32m1\u001b[0m\n\u001b[1;33m    3.On appelle et on note Card(E), le nombre d'éléments de E.\u001b[0m\n\u001b[1;37m      ^\u001b[0m\n\u001b[1;31mSyntaxError\u001b[0m\u001b[1;31m:\u001b[0m invalid syntax\n"
     ]
    }
   ],
   "source": [
    "3.On appelle et on note Card(E), le nombre d'éléments de E.\n",
    "On appelle événement toute partie de Ω {\\displaystyle \\Omega } \n",
    "\\Omega qui appartient à la tribu A {\\displaystyle {\\mathcal {A}}} {\\mathcal A}.\n",
    "Si l'événement est constitué d'un seul élément, on parle alors d'un événement élémentaire."
   ]
  },
  {
   "cell_type": "markdown",
   "metadata": {},
   "source": [
    "4.Définir différents types de tirage. Donner des exemples\n",
    " exemple:avoir un as sur un paquet 52 cartes."
   ]
  },
  {
   "cell_type": "markdown",
   "metadata": {},
   "source": [
    "5.Donner des exemples de répétitions d'évènements identiques.\n",
    "Supposons qu’une expérience est répétée à l’identique de manière indépendante nnn fois.\n",
    "    La probabilité qu’une succession d’événements se produise lors de cette répétition est le produit des probabilités de chacun de ces événements."
   ]
  },
  {
   "cell_type": "markdown",
   "metadata": {},
   "source": [
    "6.\n",
    "La probabilité d'un événement est un nombre réel compris entre 0 et 1. Plus ce nombre est grand, plus le risque, ou la chance, que l'événement se produise est grand. L'étude scientifique des probabilités est relativement récente dans l'histoire des mathématiques. \n",
    "probabilité de tiré un coeur 0.25"
   ]
  },
  {
   "cell_type": "markdown",
   "metadata": {},
   "source": [
    "7.les 3 axiomes \n",
    "C'est-à-dire que la probabilité d'un événement est représentée par un nombre réel compris entre 0 et 1. \n",
    "\n",
    "désignant l'univers associé à l'expérience aléatoire considérée,omega=1 .\n",
    "\n",
    "la probabilité d'un événement qui est la réunion (dénombrable) disjointe d'événements est égale à la somme des probabilités de ces événements. "
   ]
  },
  {
   "cell_type": "markdown",
   "metadata": {},
   "source": [
    "8. Définir la probabilité de l'union de deux évènements\n",
    "p(A)+P(A)+p(A inter B)"
   ]
  },
  {
   "cell_type": "markdown",
   "metadata": {},
   "source": [
    "10 .est une loi de probabilité discrète indiquant une probabilité \n",
    "de se réaliser identique (équiprobabilité)à chaque valeur d’un ensemble fini de valeurs possibles. "
   ]
  },
  {
   "cell_type": "markdown",
   "metadata": {},
   "source": [
    "11. Deux événements sont incompatibles s'ils ne peuvent pas se réaliser en même temps.\n",
    "On tire une carte au hasard d’un jeu de 52 cartes.\n",
    "Les événements A=”obtenir uncœur♥️️”et B=”obtenir un pique♠” sont bien incompatibles."
   ]
  },
  {
   "cell_type": "code",
   "execution_count": null,
   "metadata": {},
   "outputs": [],
   "source": [
    "12. Deux événements A et B sont indépendants ssiP(A⋂B)=P(A).P(B).\n",
    "Autrement dit,deux événements sont indépendants si la réalisation de l’un ne dépend pas de l’autre.\n"
   ]
  },
  {
   "cell_type": "markdown",
   "metadata": {},
   "source": [
    "### 2. Exercices de probabilités - codage Python\n",
    "***(Durée moyenne : 1 à 2 heures)***"
   ]
  },
  {
   "cell_type": "markdown",
   "metadata": {},
   "source": [
    "#### Exercice 1\n",
    "\n",
    "1. Générer un jeu de 52 cartes qui comporte treize hauteurs: {'As', '2', '3', '4', '5', '6', '7', '8', '9', '10', 'Roi', 'Valet', 'Reine'} pour chacune des quatre enseignes suivantes : pique ♠, cœur ♥, carreau ♦ et trèfle ♣. \n",
    "    \n",
    "2. On tire aléatoirement une carte. Déterminer la probabilité de chaque évènement suivant :\n",
    "\n",
    " - A: {\"Tirer une Reine\"}\n",
    " - B: {\"Tirer un coeur\"}\n",
    " - C: {\"Tirer un As de coeur\"}\n",
    " - D: {\"Tirer une carte noire\"}\n",
    " - E: {\"Tirer une carte noire ou une figure\"} (de deux manières)\n",
    "\n",
    "\n",
    "3. On tire aléatoirement 3 cartes. Déterminer la probabilité de chaque évènement suivant :\n",
    "\n",
    " - A: {\"tirer 2 cartes de la même hauteur\"}\n",
    " - B :{\"tirer un As de coeur\"}\n",
    " - C: {\"Tirer au moins une Reine\"}\n",
    " - D: {\"Tirer au moins un carreau\"}\n"
   ]
  },
  {
   "cell_type": "code",
   "execution_count": null,
   "metadata": {},
   "outputs": [],
   "source": [
    "couleur = [\"pique\", \"coeur\", \"carreau\", \"trèfle\"]\n",
    "hauteur = [\"As\", \"Roi\", \"Dame\", \"Valet\", \"Dix\", \"Neuf\", \"Huit\", \"Sept\",\"5\",\"3\"]\n",
    "jeu = []\n",
    "for c in couleur:\n",
    "    for h in hauteur:\n",
    "        jeu.append(h+\" de \"+c)\n",
    "print(\"Le jeu neuf :\")\n",
    "print(jeu)\n",
    "C1=set([\"As\",\"2\",\"3\",\"4\",\"5\",\"6\",\"7\",\"8\",\"9\",\"10\",\"Valet\",\"Reine\",\"Roi\"])\n",
    "D1=set([\"pique\",\"coeur\",\"trèfle\",\"carreau\"])\n",
    "import itertools as it\n",
    "Jeu= set(it.product(C1,D1,repeat=1))\n",
    "print(Jeu)\n",
    "print(len(Jeu))\n",
    "jeu2=list(Jeu)"
   ]
  },
  {
   "cell_type": "code",
   "execution_count": null,
   "metadata": {},
   "outputs": [],
   "source": [
    "C1=set([\"As\",\"2\",\"3\",\"4\",\"5\",\"6\",\"7\",\"8\",\"9\",\"10\",\"Valet\",\"Reine\",\"Roi\"])\n",
    "D1=set([\"pique\",\"coeur\",\"trèfle\",\"carreau\"])\n",
    "import itertools as it\n",
    "Jeu= set(it.product(C1,D1,repeat=1))\n",
    "print(Jeu)\n",
    "print(len(Jeu))\n"
   ]
  },
  {
   "cell_type": "code",
   "execution_count": null,
   "metadata": {
    "scrolled": true
   },
   "outputs": [],
   "source": [
    "A= set([('Reine','coeur'),('Reine','carreau'),('Reine','pique'),('Reine','trèfle')])\n",
    "Pa=len(A&Jeu)/(len(Jeu))\n",
    "print(Pa)\n",
    "B1=set([\"As\",\"2\",\"3\",\"4\",\"5\",\"6\",\"7\",\"8\",\"9\",\"10\",\"Valet\",\"Reine\",\"Roi\"])\n",
    "pB=len(B1)/len(Jeu)\n",
    "print(pB)\n",
    "C=set([('As','coeur')])\n",
    "PC= len(C & Jeu)/(len(Jeu))\n",
    "print(PC)\n",
    "D2=set(it.product(C1,{'pique','trèfle'},repeat=1))\n",
    "PD2=len(D2 & Jeu)/(len(Jeu))\n",
    "print(PD2)\n",
    "A= set([('Reine','coeur'),('Reine','carreau'),('Reine','pique'),('Reine','trèfle')])\n",
    "B1=set(['Valet','Reine','Roi'])      \n",
    "pE=PD2+len(A)/len(Jeu)\n",
    "print(pE)"
   ]
  },
  {
   "cell_type": "markdown",
   "metadata": {},
   "source": [
    "\n",
    "    On tire aléatoirement 3 cartes. Déterminer la probabilité de chaque évènement suivant :\n",
    "        A: {\"tirer 2 cartes de la même hauteur\"}\n",
    "        B :{\"tirer un As de coeur\"}\n",
    "        C: {\"Tirer au moins une Reine\"}\n",
    "        D: {\"Tirer au moins un carreau\"}"
   ]
  },
  {
   "cell_type": "code",
   "execution_count": null,
   "metadata": {
    "scrolled": true
   },
   "outputs": [],
   "source": [
    "\n",
    "Jeu3=set(it.combinations(Jeu,3))\n",
    "print(len(Jeu3))\n",
    "H=len(set(it.combinations(C1,2)))*52\n",
    "PH=H/(len(Jeu3))\n",
    "print(PH)\n",
    "AS=len(set(it.combinations(Jeu,2)))*(1/52)\n",
    "PAS=AS/(len(Jeu3))\n",
    "print(PAS)\n",
    "R=(len(set(it.combinations(C1,1))))*(len(set(it.combinations(Jeu,2))))\n",
    "PR=R/(len(Jeu3))\n",
    "print(PR)\n",
    "C=(len(set(it.combinations(D1,1))))*(len(set(it.combinations(Jeu,2))))\n",
    "PC=C/(len(Jeu3))\n",
    "print(PC)\n"
   ]
  },
  {
   "cell_type": "markdown",
   "metadata": {},
   "source": [
    "#### Exercice 2 - Le paradoxe de l'anniversaire\n",
    "\n",
    "1. Dans une classe de 36  ́élèves, quelle est la probabilite pour que deux ́elèves au moins soient nés le meme jour ? \n",
    "(on considerera que l’année compte 365 jours,et que toutes les dates d’anniversaires sont indépendantes et equiprobables).\n",
    "\n",
    "2. Généraliser ce résultat pour une classe de n élèves. Refaire le calcul pour différentes valeurs de n. Que remarquez-vous?\n"
   ]
  },
  {
   "cell_type": "code",
   "execution_count": null,
   "metadata": {},
   "outputs": [],
   "source": [
    "#1\n",
    "print(len(set(combinations(range(36),2)))/(365*36))\n",
    "n=366+365\n",
    "print('Pour une classe de',n,'la probabilitéest 'une année est',len(set(combinations(range(n),2)))/(365*n))"
   ]
  },
  {
   "cell_type": "markdown",
   "metadata": {},
   "source": [
    "#### Exercice 3 - Comparaison fréquence théorique vs probabilité\n",
    "1. Simuler N lancers de dés. Comparer la fréquence d'apparition d'un 6 à sa valeur théorique\n",
    "2. On considère un jeu de 52 cartes et l'évènement \"tirer un coeur\".Simuler k fois N tirages d'une carte et comparer la fréquance d'apparition d'un coeur à sa valeur théorique.\n",
    " - k varie entre 1 et 5\n",
    " - N varie entre 10 et 1000"
   ]
  },
  {
   "cell_type": "code",
   "execution_count": null,
   "metadata": {
    "scrolled": true
   },
   "outputs": [],
   "source": [
    "import random\n",
    "random.randint(1,6)"
   ]
  },
  {
   "cell_type": "code",
   "execution_count": null,
   "metadata": {
    "scrolled": true
   },
   "outputs": [],
   "source": [
    "\n",
    "n = 100\n",
    "for i in range(n):\n",
    "    print(random.randint(1,6),end = '  ')"
   ]
  },
  {
   "cell_type": "code",
   "execution_count": null,
   "metadata": {},
   "outputs": [],
   "source": [
    "def lancerDeDes(nbDes,nbFaces):\n",
    "    listeDesDes = []    #la liste des dés, pour l'instant  vide\n",
    "    for i in range(nbDes):\n",
    "        d = lancerUnDe(nbFaces) #on lance un dé\n",
    "        listeDesDes.append(d)     #on ajoute ce dé à la liste\n",
    "    return listeDesDes"
   ]
  },
  {
   "cell_type": "code",
   "execution_count": null,
   "metadata": {},
   "outputs": [],
   "source": [
    "L=list(random.choice(d) \n",
    "         for n in range(N));\n",
    "print(L,L.count(6)/N-1/6)"
   ]
  },
  {
   "cell_type": "code",
   "execution_count": null,
   "metadata": {},
   "outputs": [],
   "source": [
    "from random import \n",
    "shuffleliste = (['a','b','c','d','e','f','g','h'])\n",
    "shuffle(liste)\n",
    "print(liste)"
   ]
  },
  {
   "cell_type": "markdown",
   "metadata": {},
   "source": [
    "#### Exercice 4 - Jeu du Poker \n",
    "\n",
    "1. Générer une main aléatoire (5 cartes parmi 52)\n",
    "\n",
    "2. Déterminer la probabilité des évènements suivants :\n",
    " - A: \"obtenir une paire (exactement)\"\n",
    " - B: \"obtenir deux paires (exactement)\"\n",
    " - C: \"obtenir un brelan (trois cartes de même rang)\"\n",
    " - D: \"obtenir un carré (quatre cartes de même rang)\"\n",
    " - E: \"obtenir un full\" (un brelan et une paire)\n",
    " - E: \"obtenir  au moins un pique et un as\".\n",
    "\n",
    "3. Simuler k fois N tirages de mains aléatoires et comparer la fréquence d'apparition à la probabilité théorique d'obtenir une paire.\n"
   ]
  },
  {
   "cell_type": "code",
   "execution_count": 1,
   "metadata": {},
   "outputs": [
    {
     "ename": "NameError",
     "evalue": "name 'it' is not defined",
     "output_type": "error",
     "traceback": [
      "\u001b[1;31m---------------------------------------------------------------------------\u001b[0m",
      "\u001b[1;31mNameError\u001b[0m                                 Traceback (most recent call last)",
      "\u001b[1;32m<ipython-input-1-5312e3438e95>\u001b[0m in \u001b[0;36m<module>\u001b[1;34m\u001b[0m\n\u001b[1;32m----> 1\u001b[1;33m \u001b[0mJeu\u001b[0m\u001b[1;33m=\u001b[0m \u001b[0mset\u001b[0m\u001b[1;33m(\u001b[0m\u001b[0mit\u001b[0m\u001b[1;33m.\u001b[0m\u001b[0mproduct\u001b[0m\u001b[1;33m(\u001b[0m\u001b[0mC1\u001b[0m\u001b[1;33m,\u001b[0m\u001b[0mD1\u001b[0m\u001b[1;33m,\u001b[0m\u001b[0mrepeat\u001b[0m\u001b[1;33m=\u001b[0m\u001b[1;36m1\u001b[0m\u001b[1;33m)\u001b[0m\u001b[1;33m)\u001b[0m\u001b[1;33m\u001b[0m\u001b[1;33m\u001b[0m\u001b[0m\n\u001b[0m\u001b[0;32m      2\u001b[0m \u001b[0mprint\u001b[0m\u001b[1;33m(\u001b[0m\u001b[0mJeu\u001b[0m\u001b[1;33m)\u001b[0m\u001b[1;33m\u001b[0m\u001b[1;33m\u001b[0m\u001b[0m\n\u001b[0;32m      3\u001b[0m \u001b[0mJeu4\u001b[0m\u001b[1;33m=\u001b[0m\u001b[0mset\u001b[0m\u001b[1;33m(\u001b[0m\u001b[0mit\u001b[0m\u001b[1;33m.\u001b[0m\u001b[0mcombinations\u001b[0m\u001b[1;33m(\u001b[0m\u001b[0mJeu\u001b[0m\u001b[1;33m,\u001b[0m\u001b[1;36m5\u001b[0m\u001b[1;33m)\u001b[0m\u001b[1;33m)\u001b[0m\u001b[1;33m\u001b[0m\u001b[1;33m\u001b[0m\u001b[0m\n\u001b[0;32m      4\u001b[0m \u001b[0mJeu5\u001b[0m\u001b[1;33m=\u001b[0m\u001b[0mlist\u001b[0m\u001b[1;33m(\u001b[0m\u001b[0mJeu4\u001b[0m\u001b[1;33m)\u001b[0m\u001b[1;33m\u001b[0m\u001b[1;33m\u001b[0m\u001b[0m\n\u001b[0;32m      5\u001b[0m \u001b[0mJ6\u001b[0m\u001b[1;33m=\u001b[0m\u001b[0mrandom\u001b[0m\u001b[1;33m.\u001b[0m\u001b[0mchoice\u001b[0m\u001b[1;33m(\u001b[0m\u001b[0mJeu5\u001b[0m\u001b[1;33m)\u001b[0m\u001b[1;33m\u001b[0m\u001b[1;33m\u001b[0m\u001b[0m\n",
      "\u001b[1;31mNameError\u001b[0m: name 'it' is not defined"
     ]
    }
   ],
   "source": [
    "\n",
    "Jeu= set(it.product(C1,D1,repeat=1))\n",
    "print(Jeu)\n",
    "Jeu4=set(it.combinations(Jeu,5))\n",
    "Jeu5=list(Jeu4)\n",
    "J6=random.choice(Jeu5)\n",
    "type(J6)"
   ]
  },
  {
   "cell_type": "code",
   "execution_count": null,
   "metadata": {},
   "outputs": [],
   "source": []
  }
 ],
 "metadata": {
  "kernelspec": {
   "display_name": "Python 3",
   "language": "python",
   "name": "python3"
  },
  "language_info": {
   "codemirror_mode": {
    "name": "ipython",
    "version": 3
   },
   "file_extension": ".py",
   "mimetype": "text/x-python",
   "name": "python",
   "nbconvert_exporter": "python",
   "pygments_lexer": "ipython3",
   "version": "3.7.4"
  }
 },
 "nbformat": 4,
 "nbformat_minor": 2
}
