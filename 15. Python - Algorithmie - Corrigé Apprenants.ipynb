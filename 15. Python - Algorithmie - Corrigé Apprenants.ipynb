{
 "cells": [
  {
   "cell_type": "markdown",
   "metadata": {},
   "source": [
    "# 15. Python - Algorithmie "
   ]
  },
  {
   "cell_type": "markdown",
   "metadata": {},
   "source": [
    "## 1. Bases"
   ]
  },
  {
   "cell_type": "markdown",
   "metadata": {},
   "source": [
    "#### 1. Simple échange"
   ]
  },
  {
   "cell_type": "markdown",
   "metadata": {},
   "source": [
    "Ecrire un algorithme permettant d'échanger les valeurs de deux variables a et b."
   ]
  },
  {
   "cell_type": "code",
   "execution_count": 3,
   "metadata": {},
   "outputs": [
    {
     "name": "stdout",
     "output_type": "stream",
     "text": [
      "40 50\n",
      "50 40\n"
     ]
    }
   ],
   "source": [
    "a = 40\n",
    "b = 50\n",
    "\n",
    "print(a,b)\n",
    "\n",
    "a,b = b,a\n",
    "\n",
    "print(a,b)\n"
   ]
  },
  {
   "cell_type": "markdown",
   "metadata": {},
   "source": [
    "#### 2. Le carré"
   ]
  },
  {
   "cell_type": "markdown",
   "metadata": {},
   "source": [
    "Ecrire une fonction qui demande un nombre à l’utilisateur, puis qui calcule et affiche le carré de ce nombre."
   ]
  },
  {
   "cell_type": "code",
   "execution_count": 7,
   "metadata": {},
   "outputs": [],
   "source": [
    "\n",
    "def square () :\n",
    "    x = float(input(\" entrer un nombre \"))\n",
    "    return x**2\n"
   ]
  },
  {
   "cell_type": "code",
   "execution_count": 8,
   "metadata": {},
   "outputs": [
    {
     "name": "stdout",
     "output_type": "stream",
     "text": [
      " entrer un nombre 8.8\n"
     ]
    },
    {
     "data": {
      "text/plain": [
       "77.44000000000001"
      ]
     },
     "execution_count": 8,
     "metadata": {},
     "output_type": "execute_result"
    }
   ],
   "source": [
    "square()"
   ]
  },
  {
   "cell_type": "markdown",
   "metadata": {},
   "source": [
    "#### 3. Condition"
   ]
  },
  {
   "cell_type": "markdown",
   "metadata": {},
   "source": [
    "Ecrire une fonction qui demande un nombre à l’utilisateur, et l’informe ensuite si ce nombre est positif ou négatif."
   ]
  },
  {
   "cell_type": "code",
   "execution_count": 14,
   "metadata": {},
   "outputs": [
    {
     "name": "stdout",
     "output_type": "stream",
     "text": [
      " entrer un nombre 0\n",
      "le nombre 0.0 est nul\n"
     ]
    }
   ],
   "source": [
    "def nombre():\n",
    "    n = float(input(\" entrer un nombre \"))\n",
    "\n",
    "    if n > 0:\n",
    "        print(\"le nombre\",n,\"est positif\")\n",
    "    elif n < 0 :\n",
    "        print(\"le nombre\",n,\"est négatif\")\n",
    "    else:\n",
    "        print(\"le nombre\",n,\"est nul\")\n",
    "nombre()\n"
   ]
  },
  {
   "cell_type": "markdown",
   "metadata": {},
   "source": [
    "#### 4. Produit"
   ]
  },
  {
   "cell_type": "markdown",
   "metadata": {},
   "source": [
    "Ecrire un algorithme qui prend entrée deux nombres qui vérifie si leur produit est négatif ou positif. Attention toute fois : on ne doit pas calculer le produit des deux nombres."
   ]
  },
  {
   "cell_type": "code",
   "execution_count": 24,
   "metadata": {},
   "outputs": [
    {
     "name": "stdout",
     "output_type": "stream",
     "text": [
      "Veuillez entrer votre premier nombre:1\n",
      "Veuillez entrer votre second nombre:5\n",
      "leur produit est positif\n"
     ]
    }
   ],
   "source": [
    "x = int( input(\"Veuillez entrer votre premier nombre: \") )\n",
    "y = int( input(\"Veuillez entrer votre second nombre: \") )\n",
    "   \n",
    "if ( x * y > 0 ) :\n",
    "    print('leur produit est positif')\n",
    "elif x * y == 0:\n",
    "    print('leur produit est nul')\n",
    "else:\n",
    "    print('leur produit est négatif')"
   ]
  },
  {
   "cell_type": "markdown",
   "metadata": {},
   "source": [
    "#### 5. Calcul"
   ]
  },
  {
   "cell_type": "markdown",
   "metadata": {},
   "source": [
    "Ecrire une fonction qui demande un nombre de départ, et qui ensuite affiche les dix nombres suivants. Par exemple, si l’utilisateur entre le nombre 17, le programme affichera les nombres de 18 à 27."
   ]
  },
  {
   "cell_type": "code",
   "execution_count": 25,
   "metadata": {},
   "outputs": [
    {
     "name": "stdout",
     "output_type": "stream",
     "text": [
      "entrez un nombre:5\n"
     ]
    },
    {
     "data": {
      "text/plain": [
       "('les 10 nombres suivants sont:', [6, 7, 8, 9, 10, 11, 12, 13, 14, 15])"
      ]
     },
     "execution_count": 25,
     "metadata": {},
     "output_type": "execute_result"
    }
   ],
   "source": [
    "def suite():\n",
    "\n",
    "    x = int(input('entrez un nombre:'))\n",
    "    #res = \n",
    "    return('les 10 nombres suivants sont:',list(range(x+1, x+11)))\n",
    "\n",
    "suite()"
   ]
  },
  {
   "cell_type": "code",
   "execution_count": 26,
   "metadata": {},
   "outputs": [
    {
     "name": "stdout",
     "output_type": "stream",
     "text": [
      "entrer un nombre: 5\n"
     ]
    },
    {
     "data": {
      "text/plain": [
       "[6, 7, 8, 9, 10, 11, 12, 13, 14, 15]"
      ]
     },
     "execution_count": 26,
     "metadata": {},
     "output_type": "execute_result"
    }
   ],
   "source": [
    "def les_suiv():\n",
    "    \n",
    "    nb = int(input(\"entrer un nombre: \"))\n",
    "    nlst = []\n",
    "    \n",
    "    cpt = 0\n",
    "    \n",
    "    while cpt < 10:\n",
    "        \n",
    "        cpt = cpt + 1\n",
    "        nlst.append(nb + cpt)\n",
    "        \n",
    "    return nlst\n",
    "\n",
    "les_suiv()"
   ]
  },
  {
   "cell_type": "markdown",
   "metadata": {},
   "source": [
    "#### 6. Additivité"
   ]
  },
  {
   "cell_type": "markdown",
   "metadata": {},
   "source": [
    "Ecrire une fonction qui demande un nombre de départ, et qui calcule la somme des entiers jusqu’à ce nombre. Par exemple, si l’on entre 5, le programme doit calculer: 1+2+3+4+5=15.\n"
   ]
  },
  {
   "cell_type": "code",
   "execution_count": 42,
   "metadata": {},
   "outputs": [],
   "source": [
    "def f():\n",
    "    \n",
    "    n = int(input(\"Entrer un nombre:\"))\n",
    "    cpt=0\n",
    "    for i in range(0,n+1):\n",
    "        cpt = cpt + i\n",
    "        \n",
    "    return(\"La somme des valeurs 1+2+...+n est\",cpt)\n",
    "\n"
   ]
  },
  {
   "cell_type": "code",
   "execution_count": 43,
   "metadata": {},
   "outputs": [
    {
     "name": "stdout",
     "output_type": "stream",
     "text": [
      "Entrer un nombre:5\n"
     ]
    },
    {
     "data": {
      "text/plain": [
       "('La somme des valeurs 1+2+...+n est', 15)"
      ]
     },
     "execution_count": 43,
     "metadata": {},
     "output_type": "execute_result"
    }
   ],
   "source": [
    "f()"
   ]
  },
  {
   "cell_type": "markdown",
   "metadata": {},
   "source": [
    "## 2. Tableau"
   ]
  },
  {
   "cell_type": "markdown",
   "metadata": {},
   "source": [
    "#### 1. Somme"
   ]
  },
  {
   "cell_type": "markdown",
   "metadata": {},
   "source": [
    "Ecrire un algorithme calculant la somme des valeurs d’un tableau (on suppose bien sur que le tableau a été préalablement saisi). **(NE PAS UTILISER LA FONCTION SUM)**"
   ]
  },
  {
   "cell_type": "code",
   "execution_count": 44,
   "metadata": {},
   "outputs": [
    {
     "name": "stdout",
     "output_type": "stream",
     "text": [
      "10\n"
     ]
    }
   ],
   "source": [
    "tab = np.array([1,2,3,4])\n",
    "i= 0;tot = 0\n",
    "\n",
    "while i < len(tab):\n",
    "    tot = tot + tab[i]\n",
    "    i = i + 1\n",
    "print(tot)"
   ]
  },
  {
   "cell_type": "markdown",
   "metadata": {},
   "source": [
    "#### 2. Double somme"
   ]
  },
  {
   "cell_type": "markdown",
   "metadata": {},
   "source": [
    "\n",
    "Ecrire un algorithme constituant un tableau, à partir de deux tableaux de même longueur préalablement saisis. Le nouveau tableau sera la somme des éléments des deux tableaux de départ."
   ]
  },
  {
   "cell_type": "code",
   "execution_count": 45,
   "metadata": {},
   "outputs": [
    {
     "name": "stdout",
     "output_type": "stream",
     "text": [
      "[1 2 3 4 5]\n",
      "[1 2 3 4 5]\n"
     ]
    }
   ],
   "source": [
    "tab2 = np.array([1,2,3,4,5])\n",
    "tab1 = tab2.copy()\n",
    "\n",
    "print(tab1)\n",
    "print(tab2)\n",
    "\n",
    "t3 = np.array([])"
   ]
  },
  {
   "cell_type": "code",
   "execution_count": 46,
   "metadata": {},
   "outputs": [
    {
     "name": "stdout",
     "output_type": "stream",
     "text": [
      "[ 2.  4.  6.  8. 10.]\n"
     ]
    }
   ],
   "source": [
    "if len(tab1)==len(tab2):\n",
    "    \n",
    "    for x in range(0,len(tab1)):\n",
    "        \n",
    "        t3 = np.append( t3,tab1[x]+tab2[x] )\n",
    "else:\n",
    "    print('erreur')\n",
    "\n",
    "print(t3)"
   ]
  },
  {
   "cell_type": "code",
   "execution_count": 51,
   "metadata": {},
   "outputs": [
    {
     "name": "stdout",
     "output_type": "stream",
     "text": [
      "[ 6  8 10 12]\n"
     ]
    }
   ],
   "source": [
    "tab1 = np.array([1,2,3,4])\n",
    "tab2 = np.array([5,6,7,8])\n",
    "\n",
    "tab3 = []\n",
    "\n",
    "i= 0\n",
    "while i < len(tab1):\n",
    "    \n",
    "    tab3.append(tab1[i] + tab2[i])\n",
    "    i = i + 1\n",
    "tab3 = np.array(tab3)\n",
    "print(tab3)"
   ]
  },
  {
   "cell_type": "markdown",
   "metadata": {},
   "source": [
    "#### 3. Fac Product"
   ]
  },
  {
   "cell_type": "markdown",
   "metadata": {},
   "source": [
    "Toujours à partir de deux tableaux précédemment saisis, écrire un algorithme qui calcule le ’FacProduct’ des deux tableaux. Pour calculer le ’FacProduct’, il faut multiplier chaque élément du tableau1 par chaque élément du tableau2, et additionner le tout."
   ]
  },
  {
   "cell_type": "code",
   "execution_count": 54,
   "metadata": {},
   "outputs": [
    {
     "name": "stdout",
     "output_type": "stream",
     "text": [
      "[200 210 220 230 240 250 260 270 280 290 220 231 242 253 264 275 286 297\n",
      " 308 319 240 252 264 276 288 300 312 324 336 348 260 273 286 299 312 325\n",
      " 338 351 364 377 280 294 308 322 336 350 364 378 392 406 300 315 330 345\n",
      " 360 375 390 405 420 435 320 336 352 368 384 400 416 432 448 464 340 357\n",
      " 374 391 408 425 442 459 476 493 360 378 396 414 432 450 468 486 504 522\n",
      " 380 399 418 437 456 475 494 513 532 551]\n"
     ]
    }
   ],
   "source": [
    "A=np.arange(10,20)\n",
    "B=np.arange(20,30)\n",
    "\n",
    "F=np.array([i*j for i in A for j in B])\n",
    "print(F)\n"
   ]
  },
  {
   "cell_type": "markdown",
   "metadata": {},
   "source": [
    "#### 4. Le plus grand"
   ]
  },
  {
   "cell_type": "markdown",
   "metadata": {},
   "source": [
    "Ecrire un algorithme permettant à l’utilisateur de renvoyer la plus grande valeur du tableau passer en entrée en précisant quelle position elle occupe dans le tableau. **(NE PAS UTILISER LA FONCTION MAX)**"
   ]
  },
  {
   "cell_type": "code",
   "execution_count": 55,
   "metadata": {},
   "outputs": [
    {
     "data": {
      "text/plain": [
       "('valeur max: ', 30, 'position dans la liste donnée: ', 6)"
      ]
     },
     "execution_count": 55,
     "metadata": {},
     "output_type": "execute_result"
    }
   ],
   "source": [
    "def val_max(lst):\n",
    "    \n",
    "    maxlst = lst[-1] # stocker le max on le choisit aléatoirement \n",
    "    \n",
    "    for i in lst:\n",
    "        #print(lst[i])\n",
    "        if i > maxlst:\n",
    "        #print(maxlst)\n",
    "            maxlst = i\n",
    "            a1 = maxlst\n",
    "            a2 = lst.index(maxlst)\n",
    "            \n",
    "    return(\"valeur max: \", a1,\"position dans la liste donnée: \", a2)\n",
    "        \n",
    "lst1 = [1, -5, 4, 5, 8, 23, 30, 15, 5, 2]\n",
    "val_max(lst1)"
   ]
  },
  {
   "cell_type": "markdown",
   "metadata": {},
   "source": [
    "#### 5. Plus grand que la moyenne"
   ]
  },
  {
   "cell_type": "markdown",
   "metadata": {},
   "source": [
    "Ecrire un algorithme permettant à l’utilisateur de renvoyer le nombre de valeurs supérieures à la moyenne d’un tableau passé en input."
   ]
  },
  {
   "cell_type": "code",
   "execution_count": 57,
   "metadata": {},
   "outputs": [
    {
     "name": "stdout",
     "output_type": "stream",
     "text": [
      "20.2\n"
     ]
    }
   ],
   "source": [
    "liste2 = [13,15,22,25,26]\n",
    "s=0\n",
    "\n",
    "for i in range(0,len(liste2)):\n",
    "    s = s + liste2[i]\n",
    "        \n",
    "moyenne = s / len(liste2)\n",
    "print(moyenne)\n",
    "\n",
    "## \n",
    "\n",
    "cp = 0\n",
    "for i in liste2:\n",
    "    if i > moyenne:\n",
    "        cp+=1\n",
    "print(cp)"
   ]
  },
  {
   "cell_type": "markdown",
   "metadata": {},
   "source": [
    "#### 6. Les vecteurs"
   ]
  },
  {
   "cell_type": "markdown",
   "metadata": {},
   "source": [
    "Ecrire un algorithme permettant d’effectuer la multiplication de deux vecteurs de taille N connue à l’avance et d’afficher le résultat. **(NE PAS UTILISER LES FONCTIONS PYTHON : TOUT EST A CODER)**"
   ]
  },
  {
   "cell_type": "code",
   "execution_count": null,
   "metadata": {},
   "outputs": [],
   "source": [
    "v = np.array([1,2,3])\n",
    "v1 = np.array([4,5,6])\n",
    "\n",
    "print(v,v1,np.multiply(v,v1))\n",
    "\n",
    "N = len(v)\n",
    "v2 = [None] * N\n",
    "\n",
    "for i in range(N):\n",
    "    v2[i] = v[i]*v1[i]\n",
    "print(v2)"
   ]
  },
  {
   "cell_type": "code",
   "execution_count": null,
   "metadata": {},
   "outputs": [],
   "source": []
  },
  {
   "cell_type": "markdown",
   "metadata": {},
   "source": [
    "#### 7. Tri"
   ]
  },
  {
   "cell_type": "markdown",
   "metadata": {},
   "source": [
    "Ecrire un algorithme triant un tableau. On va commencer à chercher l’élément de plus petite valeur dans le tableau, on le place en tête du tableau et on recommence avec le tableau moins la première case. **(NE PAS UTILISER LES FONCTIONS PYTHON : TOUT EST A CODER)**"
   ]
  },
  {
   "cell_type": "code",
   "execution_count": null,
   "metadata": {},
   "outputs": [],
   "source": [
    "def selection_sort(arr):\n",
    "    for i in range(len(arr)):\n",
    "        minimum = i\n",
    "       \n",
    "        for j in range(i, len(arr)):\n",
    "            # Sélection la plus petite valeur\n",
    "            if arr[j] < arr[minimum] :\n",
    "                minimum = j\n",
    "       \n",
    "        arr[minimum], arr[i] = arr[i], arr[minimum]\n",
    "           \n",
    "    return arr\n",
    "arr = np.array([5, 2, 4, 3])\n",
    "resultat = selection_sort(arr)\n",
    "print(resultat)"
   ]
  },
  {
   "cell_type": "code",
   "execution_count": null,
   "metadata": {},
   "outputs": [],
   "source": []
  }
 ],
 "metadata": {
  "kernelspec": {
   "display_name": "Python 3",
   "language": "python",
   "name": "python3"
  },
  "language_info": {
   "codemirror_mode": {
    "name": "ipython",
    "version": 3
   },
   "file_extension": ".py",
   "mimetype": "text/x-python",
   "name": "python",
   "nbconvert_exporter": "python",
   "pygments_lexer": "ipython3",
   "version": "3.7.3"
  }
 },
 "nbformat": 4,
 "nbformat_minor": 2
}
