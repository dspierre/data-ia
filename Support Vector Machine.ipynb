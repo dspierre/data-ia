{
 "cells": [
  {
   "cell_type": "markdown",
   "metadata": {
    "_cell_guid": "de05512e-6991-44df-9599-da92a7e459ac",
    "_uuid": "d8bdd5f0320e244e4702ed8ec1c2482b022c51cd"
   },
   "source": [
    "# SVM\n",
    "\n",
    "### 1. Import des libraries utiles"
   ]
  },
  {
   "cell_type": "code",
   "execution_count": 1,
   "metadata": {},
   "outputs": [],
   "source": [
    "import numpy as np\n",
    "import matplotlib.pyplot as plt\n",
    "import pandas as pd\n",
    "import seaborn as sns\n",
    "\n",
    "from sklearn import svm\n",
    "from sklearn.pipeline import make_pipeline\n",
    "from sklearn.preprocessing import StandardScaler\n",
    "from sklearn.svm import SVR, NuSVR, LinearSVR, SVC, NuSVC, LinearSVC\n",
    "from sklearn.datasets import make_classification\n",
    "from sklearn.model_selection import train_test_split, GridSearchCV\n",
    "from sklearn.feature_extraction.text import CountVectorizer\n",
    "from sklearn.metrics import classification_report\n",
    "\n",
    "from collections import Counter"
   ]
  },
  {
   "cell_type": "markdown",
   "metadata": {
    "_cell_guid": "e0a17223-f682-45fc-89a5-667af9782bbe",
    "_uuid": "7964157913fbcff581fc1929eed487708e81ac9c"
   },
   "source": [
    "### 2. Description du dataset\n",
    "1. Charger le dataset et afficher sa dimension\n",
    "\n",
    "2. Afficher les 10 premières lignes de la table\n",
    "\n",
    "3. Afficher la liste des variables et leurs types\n",
    "\n",
    "4. En utilisant un piechart, représenter la variable v1.\n",
    "\n",
    "5. Renommer les variables v1 et v2 en conséquence.\n"
   ]
  },
  {
   "cell_type": "code",
   "execution_count": 2,
   "metadata": {},
   "outputs": [
    {
     "name": "stdout",
     "output_type": "stream",
     "text": [
      "     v1                                                 v2 Unnamed: 2  \\\n",
      "0   ham  Go until jurong point, crazy.. Available only ...        NaN   \n",
      "1   ham                      Ok lar... Joking wif u oni...        NaN   \n",
      "2  spam  Free entry in 2 a wkly comp to win FA Cup fina...        NaN   \n",
      "3   ham  U dun say so early hor... U c already then say...        NaN   \n",
      "4   ham  Nah I don't think he goes to usf, he lives aro...        NaN   \n",
      "5  spam  FreeMsg Hey there darling it's been 3 week's n...        NaN   \n",
      "6   ham  Even my brother is not like to speak with me. ...        NaN   \n",
      "7   ham  As per your request 'Melle Melle (Oru Minnamin...        NaN   \n",
      "8  spam  WINNER!! As a valued network customer you have...        NaN   \n",
      "9  spam  Had your mobile 11 months or more? U R entitle...        NaN   \n",
      "\n",
      "  Unnamed: 3 Unnamed: 4  \n",
      "0        NaN        NaN  \n",
      "1        NaN        NaN  \n",
      "2        NaN        NaN  \n",
      "3        NaN        NaN  \n",
      "4        NaN        NaN  \n",
      "5        NaN        NaN  \n",
      "6        NaN        NaN  \n",
      "7        NaN        NaN  \n",
      "8        NaN        NaN  \n",
      "9        NaN        NaN   \n",
      " v1            object\n",
      "v2            object\n",
      "Unnamed: 2    object\n",
      "Unnamed: 3    object\n",
      "Unnamed: 4    object\n",
      "dtype: object\n"
     ]
    },
    {
     "data": {
      "text/plain": [
       "([<matplotlib.patches.Wedge at 0x1e1db9ac088>,\n",
       "  <matplotlib.patches.Wedge at 0x1e1db9accc8>],\n",
       " [Text(-1.0038714981945518, 0.4497132587689916, 'ham'),\n",
       "  Text(1.0038714771419537, -0.44971330576360763, 'spam')],\n",
       " [Text(-0.5475662717424827, 0.24529814114672266, '86.6%'),\n",
       "  Text(0.5475662602592474, -0.2452981667801496, '13.4%')])"
      ]
     },
     "execution_count": 2,
     "metadata": {},
     "output_type": "execute_result"
    },
    {
     "data": {
      "image/png": "[encoded data removed]",
      "text/plain": [
       "<Figure size 432x288 with 1 Axes>"
      ]
     },
     "metadata": {},
     "output_type": "display_data"
    }
   ],
   "source": [
    "sms = pd.read_csv('SMS_spam.csv', encoding='latin-1')\n",
    "print(sms.head(10),'\\n',sms.dtypes)\n",
    "\n",
    "plt.pie([sms.v1.value_counts()[0],sms.v1.value_counts()[1]],labels=['ham','spam'],autopct='%1.1f%%')\n",
    "#si spam<5% besoin ajout données"
   ]
  },
  {
   "cell_type": "markdown",
   "metadata": {},
   "source": [
    " ### 3. Analyse des valeurs manquantes\n",
    "1. Afficher le nombre ainsi que le pourcentage de valeurs manquantes par variable\n",
    "\n",
    "2. Supprimer les variables qui présentent beaucoup de données manquantes.\n"
   ]
  },
  {
   "cell_type": "code",
   "execution_count": 4,
   "metadata": {},
   "outputs": [
    {
     "name": "stdout",
     "output_type": "stream",
     "text": [
      "v1               0\n",
      "v2               0\n",
      "Unnamed: 2    5522\n",
      "Unnamed: 3    5560\n",
      "Unnamed: 4    5566\n",
      "dtype: int64 \n",
      " v1            0.000000\n",
      "v2            0.000000\n",
      "Unnamed: 2    0.991027\n",
      "Unnamed: 3    0.997846\n",
      "Unnamed: 4    0.998923\n",
      "dtype: float64\n"
     ]
    },
    {
     "data": {
      "image/png": "[encoded data removed]",
      "text/plain": [
       "<Figure size 432x288 with 1 Axes>"
      ]
     },
     "metadata": {
      "needs_background": "light"
     },
     "output_type": "display_data"
    }
   ],
   "source": [
    "na = sms.isnull().sum()\n",
    "nap = na/len(sms)\n",
    "print(na,'\\n',nap)\n",
    "sns.heatmap(sms.isna(),cbar=False)\n",
    "plt.show()"
   ]
  },
  {
   "cell_type": "code",
   "execution_count": 5,
   "metadata": {},
   "outputs": [
    {
     "data": {
      "text/html": [
       "<div>\n",
       "<style scoped>\n",
       "    .dataframe tbody tr th:only-of-type {\n",
       "        vertical-align: middle;\n",
       "    }\n",
       "\n",
       "    .dataframe tbody tr th {\n",
       "        vertical-align: top;\n",
       "    }\n",
       "\n",
       "    .dataframe thead th {\n",
       "        text-align: right;\n",
       "    }\n",
       "</style>\n",
       "<table border=\"1\" class=\"dataframe\">\n",
       "  <thead>\n",
       "    <tr style=\"text-align: right;\">\n",
       "      <th></th>\n",
       "      <th>v1</th>\n",
       "      <th>v2</th>\n",
       "    </tr>\n",
       "  </thead>\n",
       "  <tbody>\n",
       "    <tr>\n",
       "      <th>0</th>\n",
       "      <td>ham</td>\n",
       "      <td>Go until jurong point, crazy.. Available only ...</td>\n",
       "    </tr>\n",
       "    <tr>\n",
       "      <th>1</th>\n",
       "      <td>ham</td>\n",
       "      <td>Ok lar... Joking wif u oni...</td>\n",
       "    </tr>\n",
       "    <tr>\n",
       "      <th>2</th>\n",
       "      <td>spam</td>\n",
       "      <td>Free entry in 2 a wkly comp to win FA Cup fina...</td>\n",
       "    </tr>\n",
       "    <tr>\n",
       "      <th>3</th>\n",
       "      <td>ham</td>\n",
       "      <td>U dun say so early hor... U c already then say...</td>\n",
       "    </tr>\n",
       "    <tr>\n",
       "      <th>4</th>\n",
       "      <td>ham</td>\n",
       "      <td>Nah I don't think he goes to usf, he lives aro...</td>\n",
       "    </tr>\n",
       "    <tr>\n",
       "      <th>...</th>\n",
       "      <td>...</td>\n",
       "      <td>...</td>\n",
       "    </tr>\n",
       "    <tr>\n",
       "      <th>5567</th>\n",
       "      <td>spam</td>\n",
       "      <td>This is the 2nd time we have tried 2 contact u...</td>\n",
       "    </tr>\n",
       "    <tr>\n",
       "      <th>5568</th>\n",
       "      <td>ham</td>\n",
       "      <td>Will Ì_ b going to esplanade fr home?</td>\n",
       "    </tr>\n",
       "    <tr>\n",
       "      <th>5569</th>\n",
       "      <td>ham</td>\n",
       "      <td>Pity, * was in mood for that. So...any other s...</td>\n",
       "    </tr>\n",
       "    <tr>\n",
       "      <th>5570</th>\n",
       "      <td>ham</td>\n",
       "      <td>The guy did some bitching but I acted like i'd...</td>\n",
       "    </tr>\n",
       "    <tr>\n",
       "      <th>5571</th>\n",
       "      <td>ham</td>\n",
       "      <td>Rofl. Its true to its name</td>\n",
       "    </tr>\n",
       "  </tbody>\n",
       "</table>\n",
       "<p>5572 rows × 2 columns</p>\n",
       "</div>"
      ],
      "text/plain": [
       "        v1                                                 v2\n",
       "0      ham  Go until jurong point, crazy.. Available only ...\n",
       "1      ham                      Ok lar... Joking wif u oni...\n",
       "2     spam  Free entry in 2 a wkly comp to win FA Cup fina...\n",
       "3      ham  U dun say so early hor... U c already then say...\n",
       "4      ham  Nah I don't think he goes to usf, he lives aro...\n",
       "...    ...                                                ...\n",
       "5567  spam  This is the 2nd time we have tried 2 contact u...\n",
       "5568   ham              Will Ì_ b going to esplanade fr home?\n",
       "5569   ham  Pity, * was in mood for that. So...any other s...\n",
       "5570   ham  The guy did some bitching but I acted like i'd...\n",
       "5571   ham                         Rofl. Its true to its name\n",
       "\n",
       "[5572 rows x 2 columns]"
      ]
     },
     "execution_count": 5,
     "metadata": {},
     "output_type": "execute_result"
    }
   ],
   "source": [
    "sms.drop(sms.columns[range(2,5)],axis=1,inplace=True)\n",
    "sms"
   ]
  },
  {
   "cell_type": "markdown",
   "metadata": {},
   "source": [
    " ### 4. Analyse de données\n",
    "1. En utilisant la fonction `Counter` de la librairie `collections` et les méthodes `.join` et `.split`, déterminer les 20 mots les plus fréquents dans le dataset. Représenter les résultats par un barplot.\n",
    "\n",
    "2. De la même manière, les 20 mots les plus fréquents dans les non spam du dataset. Représenter les résultats par un barplot.\n",
    "\n",
    "3. Même question pour les spams."
   ]
  },
  {
   "cell_type": "code",
   "execution_count": 6,
   "metadata": {},
   "outputs": [
    {
     "name": "stdout",
     "output_type": "stream",
     "text": [
      "       0     1\n",
      "0     to  2134\n",
      "1    you  1622\n",
      "2      I  1466\n",
      "3      a  1327\n",
      "4    the  1197\n",
      "5    and   857\n",
      "6     in   798\n",
      "7     is   781\n",
      "8      i   742\n",
      "9      u   692\n",
      "10   for   644\n",
      "11    my   628\n",
      "12    of   591\n",
      "13  your   560\n",
      "14    me   557\n",
      "15    on   487\n",
      "16  have   474\n",
      "17     2   453\n",
      "18  that   421\n",
      "19    it   396\n",
      "       0     1\n",
      "0     to  1530\n",
      "1    you  1458\n",
      "2      I  1436\n",
      "3    the  1019\n",
      "4      a   969\n",
      "5    and   738\n",
      "6      i   736\n",
      "7     in   734\n",
      "8      u   645\n",
      "9     is   638\n",
      "10    my   619\n",
      "11    me   537\n",
      "12    of   498\n",
      "13   for   475\n",
      "14  that   398\n",
      "15    it   375\n",
      "16  your   373\n",
      "17    on   352\n",
      "18  have   346\n",
      "19    at   333\n",
      "       0    1\n",
      "0     to  604\n",
      "1      a  358\n",
      "2   your  187\n",
      "3   call  185\n",
      "4     or  185\n",
      "5    the  178\n",
      "6      2  169\n",
      "7    for  169\n",
      "8    you  164\n",
      "9     is  143\n",
      "10  Call  136\n",
      "11    on  135\n",
      "12  have  128\n",
      "13   and  119\n",
      "14  from  116\n",
      "15    ur  107\n",
      "16  with  101\n",
      "17     &   98\n",
      "18     4   93\n",
      "19    of   93\n"
     ]
    },
    {
     "data": {
      "text/plain": [
       "<BarContainer object of 20 artists>"
      ]
     },
     "execution_count": 6,
     "metadata": {},
     "output_type": "execute_result"
    },
    {
     "data": {
      "image/png": "[encoded data removed]",
      "text/plain": [
       "<Figure size 432x288 with 1 Axes>"
      ]
     },
     "metadata": {
      "needs_background": "light"
     },
     "output_type": "display_data"
    }
   ],
   "source": [
    "#1\n",
    "freq = pd.DataFrame(Counter(' '.join(sms['v2']).split()).most_common(20))\n",
    "print(freq)\n",
    "plt.bar(freq[0],freq[1])\n",
    "# mots fréquents = mots de liaison sans intérêt -> problème\n",
    "#2\n",
    "freqh = pd.DataFrame(Counter(' '.join(sms.v2[i] for i in range(len(sms)) if sms.v1[i]=='ham').split()).most_common(20))\n",
    "print(freqh)\n",
    "plt.bar(freqh[0],freqh[1])\n",
    "#3\n",
    "freqh = pd.DataFrame(Counter(' '.join(sms.v2[i] for i in range(len(sms)) if sms.v1[i]=='spam').split()).most_common(20))\n",
    "print(freqh)\n",
    "plt.bar(freqh[0],freqh[1])"
   ]
  },
  {
   "cell_type": "markdown",
   "metadata": {},
   "source": [
    " ### 5. Traitement des données avant modélisation\n",
    "1. Que fait la fonction `CountVectorizer` de la librairie `feature_extraction` issue de `scikitlearn`?\n",
    "\n",
    "2. Appliquer la fonction aux données et convertir le résultat en un `numpy array` que vous appelerez `X`.\n",
    "\n",
    "3. Afficher les dimensions de `X`. Commenter.\n",
    "\n",
    "4. Recoder la variable `is_spam` en utilisant la méthode `map`. "
   ]
  },
  {
   "cell_type": "code",
   "execution_count": 5,
   "metadata": {},
   "outputs": [
    {
     "name": "stdout",
     "output_type": "stream",
     "text": [
      "(5572, 8404)\n"
     ]
    },
    {
     "data": {
      "text/plain": [
       "0       0\n",
       "1       0\n",
       "2       1\n",
       "3       0\n",
       "4       0\n",
       "       ..\n",
       "5567    1\n",
       "5568    0\n",
       "5569    0\n",
       "5570    0\n",
       "5571    0\n",
       "Name: v1, Length: 5572, dtype: int64"
      ]
     },
     "execution_count": 5,
     "metadata": {},
     "output_type": "execute_result"
    }
   ],
   "source": [
    "#1\n",
    "vec = CountVectorizer(stop_words = 'english')\n",
    "'''\n",
    "convert a collection of text documents to a matrix of token counts, sparse representation\n",
    "default number of features = vocabulary size\n",
    "'''\n",
    "#2\n",
    "X = vec.fit_transform(sms.v2).toarray()\n",
    "#3\n",
    "print(X.shape)\n",
    "#4\n",
    "is_spam = sms.v1.map({'spam':1,'ham':0})\n",
    "is_spam"
   ]
  },
  {
   "cell_type": "markdown",
   "metadata": {},
   "source": [
    " ### 6. Data splitting\n",
    " 1.  Générer les échantillons d'apprentissage (training) et de test à l'aide de `sklearn.model_selection.train_test_split` en fixant le test_size à 0.3 et random_state à 1 et stratify = y . \n",
    " \n",
    " 2. Quelle est la signification de ces trois paramètres? "
   ]
  },
  {
   "cell_type": "code",
   "execution_count": 6,
   "metadata": {},
   "outputs": [
    {
     "name": "stdout",
     "output_type": "stream",
     "text": [
      "(3900, 8404) (1672, 8404) (3900,) (1672,)\n"
     ]
    }
   ],
   "source": [
    "y = sms.v1\n",
    "X_train, X_test, Y_train, Y_test = train_test_split(X, y, test_size=0.3,random_state=1,stratify=y)\n",
    "'''\n",
    "test_size pourcentage de lignes testé\n",
    "random_state graine du générateur de nombre aléatoire\n",
    "stratify affecte un label au split stratifié, répartition équitable avec Y\n",
    "'''\n",
    "print(X_train.shape, X_test.shape, Y_train.shape, Y_test.shape)"
   ]
  },
  {
   "cell_type": "markdown",
   "metadata": {
    "_cell_guid": "c833cbf5-74db-44ff-90fa-b600ff0a09d7",
    "_uuid": "39dbc095f99dcec6d25a7a4561e81bb641078622"
   },
   "source": [
    " ### 7. Modélisation et Performances\n",
    " \n",
    " Nous allons à ce stade entraîner notre modèle SVM en utilisant la fonction `sklearn.svm.SVC`. Pour cela, nous ferons le paramètre de régularisation `C`.\n",
    " 1. Créer un dictionnaire `param_grid` contenant deux couples clé - valeurs : `C` contenant la liste **[10, 50, 100,200]** et `kernel` contenant la liste suivante **['rbf','sigmoid']**.\n",
    " 2. Instancier une `GridSearch` pour un modèle de SVM pour la classification avec pour paramètres : **cv=3**.\n",
    " 3. Afficher le meilleur score obtenu et les meilleurs paramètres.\n",
    " 4. Créer `pred_train` et `pred_test` qui sont respectivement les prédictions du meilleur modèle obtenu sur `X_train` et `X_test`.\n",
    " 5. Afficher les scores de votre modèle sur l'échantillon d'apprentissage et l'échantillon de test en utilisation le `classification_report`."
   ]
  },
  {
   "cell_type": "code",
   "execution_count": null,
   "metadata": {},
   "outputs": [],
   "source": [
    "#1\n",
    "param_grid = {'C':[10,50,100,200],'kernel':['rbf','sigmoid']}\n",
    "param_grid\n",
    "#2\n",
    "gscv = GridSearchCV(\n",
    "    SVC(),\n",
    "    param_grid,\n",
    "    cv = 3) #cv par défaut =5\n",
    "gscv.fit(X_train,Y_train)\n",
    "gscv.best_params_ #changer les params selon le résultat obtenu, ex réduire C"
   ]
  },
  {
   "cell_type": "code",
   "execution_count": 15,
   "metadata": {},
   "outputs": [
    {
     "data": {
      "text/plain": [
       "0.9741025641025641"
      ]
     },
     "execution_count": 15,
     "metadata": {},
     "output_type": "execute_result"
    }
   ],
   "source": [
    "gscv.best_score_"
   ]
  },
  {
   "cell_type": "code",
   "execution_count": null,
   "metadata": {},
   "outputs": [],
   "source": [
    "#4\n",
    "best_model = gscv.best_estimator_\n",
    "pred_train = best_model.predict(X_train)\n",
    "pred_test = best_model.predict(X_test)\n",
    "print(pred_train,pred_test)\n",
    "#5\n",
    "print(classification_report(Y_train,pred_train),'\\n',classification_report(Y_test,pred_test))"
   ]
  }
 ],
 "metadata": {
  "kernelspec": {
   "display_name": "Python 3",
   "language": "python",
   "name": "python3"
  },
  "language_info": {
   "codemirror_mode": {
    "name": "ipython",
    "version": 3
   },
   "file_extension": ".py",
   "mimetype": "text/x-python",
   "name": "python",
   "nbconvert_exporter": "python",
   "pygments_lexer": "ipython3",
   "version": "3.7.4"
  }
 },
 "nbformat": 4,
 "nbformat_minor": 4
}
