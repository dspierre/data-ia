{
 "cells": [
  {
   "attachments": {
    "linear_vs_logistic_regression_edxw03.webp": {
     "image/webp": "[encoded data removed]"
    }
   },
   "cell_type": "markdown",
   "metadata": {
    "_cell_guid": "cb19f71d-51c8-417f-829e-3179d3319dcd",
    "_uuid": "c3b9226e142667d6b96e34daf7d6e42bea0ea1e2"
   },
   "source": [
    "# Régression Logistique appliquée au jeu de données Titanic\n",
    "\n",
    "En **apprentissage supervisé**, on distingue les modèles de **régression** (où la variable cible à prédire - *Target* - est continue) des modèles de **classification** (où la variable cible est discrète). Les techniques de classification sont largement utilisées en apprentissage supervisé.\n",
    "\n",
    "Après avoir vu en détail le modèle de régression linéaire (simple et multivarié), nous allons nous intéresser ici au **modèle de régression logistique** qui fait partie des modèles de classification. \n",
    "\n",
    "La régression logistique est une technique prédictive. Elle vise à construire un modèle permettant de prédire / expliquer les valeurs prises par une variable cible (*target noté Y*) qualitative (le plus souvent binaire, on parle alors de régression logistique binaire ; si elle possède plus de 2 modalités, on parle de régression logistique polytomique) à partir d’un ensemble de variables explicatives quantitatives ou qualitatives. \n",
    "\n",
    "La régression logistique est une technique très répandu dans de nombreux domaines (ex : marketing, épidémiologie). On peut citer en exemple la prédiction de la survenue d'une maladie (Y = 0 si sain ou 1 si malade) pour un individu en fonction de ses caractéristiques (*features*) (ex: Age, Antécédents médicaux, Surpoids, Tabac,..)\n",
    "\n",
    "\n",
    "Avec les régressions linéaires, nous avons vu que notre prédicteur était la droite la plus proche possible de notre nuage de points. Dans un modèle logistique binaire, l'objectif est de trouver une ligne (frontière de décision) séparant au mieux les deux classes Y = 0 et Y = 1. Dans l'illustration ci-dessous, on voit qu'une ligne en \"S\" (fonction Sigmoide) permettait de mieux prédire la probabilité d'appartenance à l'une des 2 classes, contrairement à une droite.\n",
    "\n",
    "![linear_vs_logistic_regression_edxw03.webp](attachment:linear_vs_logistic_regression_edxw03.webp)\n",
    "\n",
    "Dans ce notebook, nous allons appliquer le modèle logistique au jeu de données *TITANIC*. On cherche donc à prédire la probabilité de survie (variable cible \"Survival\") en fonction des caractéristiques des passagers.\n"
   ]
  },
  {
   "cell_type": "markdown",
   "metadata": {
    "_cell_guid": "de05512e-6991-44df-9599-da92a7e459ac",
    "_uuid": "d8bdd5f0320e244e4702ed8ec1c2482b022c51cd"
   },
   "source": [
    "\n",
    "### 1. Import des libraries utiles"
   ]
  },
  {
   "cell_type": "code",
   "execution_count": 1,
   "metadata": {},
   "outputs": [],
   "source": [
    "#Analyse exploratoire des données et Preprocessing\n",
    "import numpy as np \n",
    "import pandas as pd \n",
    "from sklearn import preprocessing\n",
    "import matplotlib.pyplot as plt \n",
    "import seaborn as sns\n",
    "sns.set(style=\"white\") #white background style for seaborn plots\n",
    "sns.set(style=\"whitegrid\", color_codes=True)"
   ]
  },
  {
   "cell_type": "markdown",
   "metadata": {
    "_cell_guid": "e0a17223-f682-45fc-89a5-667af9782bbe",
    "_uuid": "7964157913fbcff581fc1929eed487708e81ac9c"
   },
   "source": [
    "### 2. Description du dataset\n",
    "1. Charger le dataset et afficher sa dimension\n",
    "\n",
    "2. Afficher les 10 premières lignes de la table\n",
    "\n",
    "3. Afficher la liste des variables et leurs types\n"
   ]
  },
  {
   "cell_type": "code",
   "execution_count": null,
   "metadata": {
    "_cell_guid": "872d0de9-a873-4b60-b1ee-d557ee39d8a1",
    "_uuid": "d38222a64d4dfd1d1ee1a7ee1f58c4aa54560de3"
   },
   "outputs": [],
   "source": []
  },
  {
   "cell_type": "code",
   "execution_count": null,
   "metadata": {
    "_cell_guid": "4cd08f1e-9cb9-4d8e-99d0-3a9ce91b91c3",
    "_uuid": "2b1d45128663b9466fe9ac0059a13cfd4bd43657",
    "scrolled": true
   },
   "outputs": [],
   "source": []
  },
  {
   "cell_type": "markdown",
   "metadata": {},
   "source": [
    " ### 2. Analyse des valeurs manquantes\n",
    "1. Afficher le nombre ainsi que le pourcentage de valeurs manquantes par variable\n",
    "\n",
    "2. Utiliser `seaborn.heatmap` pour visualiser les lignes présentant des valeurs manquantes\n"
   ]
  },
  {
   "cell_type": "code",
   "execution_count": null,
   "metadata": {
    "_cell_guid": "29dddd33-d995-4b0f-92ea-a361b368cc42",
    "_uuid": "d4fe22ead7e187724ca6f3ba7ba0e6412ae0e874",
    "scrolled": true
   },
   "outputs": [],
   "source": []
  },
  {
   "cell_type": "markdown",
   "metadata": {
    "_cell_guid": "6d65fcfa-52bf-45ab-b959-64a32c1c1976",
    "_uuid": "c6fd60f15d5e803d4dffc89e782c6fbc72445a83"
   },
   "source": [
    "### 3. Traitement des valeurs manquantes\n",
    "1. Afficher la moyenne et la médiane de la variable `Age`. Commenter les résultats\n",
    "\n",
    "2. Afficher le `countplot` de la variable `Embarked`. Commenter \n",
    "\n",
    "3. A ce stade, nous décidons de remplacer les valeurs manquantes :\n",
    "    - de la variable `Age` par la valeur médiane\n",
    "    - de la variable `Embarked` par la modalité `'S'`\n",
    "\n",
    "**La variable `Cabin`est ignorée car présentant trop de valeurs manquantes**\n",
    "\n",
    "Afficher l'histogramme de la variable `Age` avant et après traitement. Commenter\n",
    "\n",
    "4. Appliquer les traitements (et supression) proposés à la question précédente. Vérifier l'absence de valeurs manquantes après traitement.\n"
   ]
  },
  {
   "cell_type": "code",
   "execution_count": null,
   "metadata": {
    "_cell_guid": "1d70c27b-1e4d-4d5e-8a39-c134389d436c",
    "_uuid": "4f13840d4f9bf1b4331523c99274aa0627485e6c",
    "scrolled": true
   },
   "outputs": [],
   "source": []
  },
  {
   "cell_type": "markdown",
   "metadata": {
    "_cell_guid": "684c308f-25ae-4039-9332-ddb58953a054",
    "_uuid": "3609e785d210d5a8110f7ce550e61007d066449b"
   },
   "source": [
    " ### 4. Analyse exploratoire - Liaisons entre les variables\n",
    " \n",
    " 1. Afficher le `pairplot`des variables Age et Fare. \n",
    "    Analyser la liaison entre ces 2 variables\n",
    "    Analyser la liaison entre chacune des 2 variables et la variable `Survived`\n",
    "   \n",
    "    \n",
    " 2. Afficher le `cartplot`de la variable `Pclass` en fonction de la variable `Survived`. Commenter les résultats.\n",
    " \n",
    " 3. Afficher les `cartplot`de la variable `Sexe` en fonction de la variable `Survived` et de la variable `Pclass`. Commenter les résultats.\n",
    " \n",
    " 4. **Bonus :** Afficher la HeatMap des corrélations entre toutes les variables du DataFrame à l'aide de la fonction `nominal.associations`du package ` dython`. Commenter les résultats. "
   ]
  },
  {
   "cell_type": "markdown",
   "metadata": {},
   "source": [
    " ### 5. Traitement des données avant modélisation"
   ]
  },
  {
   "cell_type": "markdown",
   "metadata": {
    "_cell_guid": "b3025cdc-fe9f-43b6-bda1-e45c1f25e77c",
    "_uuid": "06d2762ccec3f11564870fe941fc9ac45d71662f"
   },
   "source": [
    "1. Créer la variable `'TravelAlone` qui regroupe les modalités des variables `SibSp`et `Parch`\n",
    "\n",
    "2. Encoder les variables `Pclass`,`Sex`,`Embarked` (création de dummies à l'aide de la fonction `get_dummies()`)\n"
   ]
  },
  {
   "cell_type": "code",
   "execution_count": 31,
   "metadata": {
    "_cell_guid": "bc0d7121-1008-4890-9043-07eba1524e15",
    "_uuid": "feeed4b6775f88edf5de12b0ee6ee73c16eba61d"
   },
   "outputs": [],
   "source": []
  },
  {
   "cell_type": "markdown",
   "metadata": {
    "_cell_guid": "dda26046-b93b-49ee-a52e-35355ecb425c",
    "_uuid": "293aec20df86ef529d10ae1f051dfe921ba07b88"
   },
   "source": [
    " ### 6. Data splitting"
   ]
  },
  {
   "cell_type": "markdown",
   "metadata": {
    "_cell_guid": "501f9a53-881d-4440-9366-7aae67eb358b",
    "_uuid": "d80416a026d17ccac3bf793408dd5f4f1e17bf63"
   },
   "source": [
    " 1. Conserver les variables suivantes :\n",
    "      [\"Survived\",\"Age\",\"Fare\",\"TravelAlone\",\"Pclass_1\",\"Pclass_2\",\"Embarked_C\",\"Embarked_S\",\"Sex_male\"] \n",
    "\n",
    "    **On constate que pour les variables catégorielles, l'une des modalités (généralement celle la plus représentée) est exclue.** \n",
    "   \n",
    " \n",
    " 2. Définir le DataFrame X contenant uniquement les variables explicatives et le DataFrame y contenant la variable \"Survived\"\n",
    " \n",
    " Générer les échantillons d'apprentissage (training) et de test à l'aide de `sklearn.model_selection.train_test_split` en fixant le test_size à 0.3 et random_state à 1 et stratify = y \n",
    "    \n",
    " Quelle est la signification de ces trois paramètres?\n",
    "    \n",
    " 3. Àfficher le tableau de fréquence de la variable `Survived` (en nombre et pourcentage) pour les 2 échantillons générés. Commenter "
   ]
  },
  {
   "cell_type": "code",
   "execution_count": null,
   "metadata": {
    "_cell_guid": "8b9ef076-3669-4339-8d10-0d8783a92e07",
    "_uuid": "145675b90aa2befa533c640aaedd4bf8069b12d4"
   },
   "outputs": [],
   "source": []
  },
  {
   "cell_type": "markdown",
   "metadata": {
    "_cell_guid": "c833cbf5-74db-44ff-90fa-b600ff0a09d7",
    "_uuid": "39dbc095f99dcec6d25a7a4561e81bb641078622"
   },
   "source": [
    " ### 7. Modélisation et Performances"
   ]
  },
  {
   "cell_type": "markdown",
   "metadata": {
    "_cell_guid": "b70cda8a-e8d9-44a6-b9f0-2b365fdf3428",
    "_uuid": "136cf9e02ea1ab48a397f534b491fb2d9dbb5684"
   },
   "source": [
    "Nous allons à cette stade entraîner notre modèle Logistique en utilisant la fonction `sklearn.linear_model.LogisticRegression`\n",
    "\n",
    "**Questions théoriques**\n",
    "1. Que cherche t-on à modéliser?\n",
    "\n",
    "2. Quelle fonction mathématique est utilisée pour estimer la probabilité de survivre sachant X $p(Y = 1|X)$? \n",
    "\n",
    "3. Définir l'Odds (ou la côte)\n",
    "\n",
    "4. On a vu dans le modèle de régression linéaire simple que le modèle s'écrivait comme suite : \n",
    "$Y = \\theta_0 + \\theta_1 X + \\epsilon$ où Y est une variable continue\n",
    "\n",
    "  En utilisant ce modèle, comment s'écrit Y en fonction de $p(Y = 1|X)$?\n",
    "  \n",
    "\n",
    "5. **Bonus** :\n",
    "    Supposons que nous disposons d'un échantillon de N individus indépendants et pour chaque individu i on a \n",
    "    la probabilité d'appartenance à la classe $y_i$ : $P(Y = y_i|X= x_i)$. Quelle est la vraisemblance du modèle?\n",
    "    Comment sont estimés les paramètres du modèle?\n",
    "\n",
    "**Questions pratiques**\n",
    "\n",
    "1. Afficher la DocString de cette fonction avec la commande :\n",
    "`LogisticRegression.__doc__`\n",
    "\n",
    "Quel algorithme d'optimisation est utilisé par défaut?\n",
    "\n",
    "2. **Bonus** : Par défaut, dans LogisticRegression, une pénalité \"l2\" est utilisée. Quelle est sa signification et quel est son intérêt?\n",
    "\n",
    "\n"
   ]
  },
  {
   "cell_type": "code",
   "execution_count": null,
   "metadata": {
    "_cell_guid": "11a2a468-20df-40cd-a4ba-4ae7bd2fc403",
    "_uuid": "64befdf1182c2b4e845f488f5bfd0e19ce3dc17a"
   },
   "outputs": [],
   "source": []
  },
  {
   "cell_type": "markdown",
   "metadata": {},
   "source": [
    "3. Instancier un LogisticRegression classifieur (fonction `LogisticRegression()`) et appliquer le (fonction `.fit()`) sur votre échantillon d'apprentissage\n",
    "4. Afficher les paramètres du modèle(`.fit().coef_, .fit().intercept_`). Commenter"
   ]
  },
  {
   "cell_type": "code",
   "execution_count": null,
   "metadata": {},
   "outputs": [],
   "source": []
  },
  {
   "cell_type": "markdown",
   "metadata": {},
   "source": [
    "5. Faire une prédiction (fonction `.predict()`) de la variable Y sur l'échantillon de test. \n",
    "\n",
    "6. Définir une matrice de confusion\n",
    "   Afficher la `heatmap` de la matrice de confusion (fonction `sklearn.metrics.confusion_matrix`). Commenter\n",
    "\n",
    "7. Faire une prédiction de la probabilité p(Y = 1) à l'aide de la fonction `.predict_proba()`\n",
    "\n",
    "8. Définir les métriques suivantes : l'Accuracy du modèle, l'AUC, la sensibilité, la spécifité \n",
    "    \n",
    "   Afficher l'Accuracy du modele (`metrics.accuracy_score`)\n",
    "   Afficher l'AUC\n",
    "   Afficher la precision et le recall\n",
    "   Commenter les résultats\n",
    "   \n",
    " 9. Définir la courbe ROC\n",
    "    Afficher la courbe ROC. Interpréter\n",
    "\n",
    "10. **Bonus**: On repart du DataFrame avant data-splitting. Relancer les calculs précédents en procédant par cross-validation (fonction `cross_val_score()`avec CV = 10). Comparer l'AUC à celui calculé à la question 8. Commenter  \n",
    "\n",
    "11. **Bonus - Amélioration du modèle** Nous avons pour le moment conserver toutes les variables dans notre modèle. Or certaines peuvent présenter un pouvoir explicatif faible et induire du bruit. A cette étape, on propose de faire relancer les calculs précédents (en entrée: le DataFrame avant datasplitting) en utilisant une méthode récursive de sélection de variable et une cross-validation (fonction `sklearn.feature_selection.RFECV()`). A l'issu de cette étape, on dispose d'une liste de variables sélectionnées et on relance le fitting du modèle et le calcul des performances respectivement sur les bases d'apprentissage et de test.\n",
    "\n",
    "Comparer vos résultats (en terme de métriques) à ceux sans sélection préalable des variables\n"
   ]
  },
  {
   "cell_type": "code",
   "execution_count": null,
   "metadata": {},
   "outputs": [],
   "source": [
    "\n"
   ]
  }
 ],
 "metadata": {
  "kernelspec": {
   "display_name": "Python 3",
   "language": "python",
   "name": "python3"
  },
  "language_info": {
   "codemirror_mode": {
    "name": "ipython",
    "version": 3
   },
   "file_extension": ".py",
   "mimetype": "text/x-python",
   "name": "python",
   "nbconvert_exporter": "python",
   "pygments_lexer": "ipython3",
   "version": "3.7.4"
  }
 },
 "nbformat": 4,
 "nbformat_minor": 1
}
